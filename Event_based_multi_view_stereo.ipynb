{
 "cells": [
  {
   "cell_type": "markdown",
   "metadata": {
    "nbpresent": {
     "id": "458955dd-4b7a-42e0-a81e-3bfda063205d"
    }
   },
   "source": [
    "### Rebecq, H., Gallego, G., Mueggler, E., and Scaramuzza, D. (2017). EMVS: Event-Based Multi-View Stereo—3D Reconstruction with an Event Camera in Real-Time. International Journal of Computer Vision 1–21."
   ]
  },
  {
   "cell_type": "markdown",
   "metadata": {
    "nbpresent": {
     "id": "ced8ae4b-41bb-45e1-b6f8-8544490a39c2"
    }
   },
   "source": [
    "This notebook is an implementation of the above paper on semi-dense 3D reconstruction of a scene using back projection methods. The scene data is captured using an event camera. "
   ]
  },
  {
   "cell_type": "code",
   "execution_count": 70,
   "metadata": {
    "nbpresent": {
     "id": "77d1eb0e-41c4-4247-859b-acab4d426bd3"
    }
   },
   "outputs": [],
   "source": [
    "import cv2\n",
    "import os\n",
    "import numpy as np\n",
    "import matplotlib.pyplot as plt\n",
    "import time\n",
    "import pyquaternion as qt\n",
    "%matplotlib notebook\n",
    "data_path = 'data/slider_depth'"
   ]
  },
  {
   "cell_type": "markdown",
   "metadata": {
    "nbpresent": {
     "id": "3b7e6e0a-2698-48f4-b1cf-0da86501ea0e"
    }
   },
   "source": [
    "### Scene Video"
   ]
  },
  {
   "cell_type": "markdown",
   "metadata": {
    "nbpresent": {
     "id": "a9d159c7-398b-46c9-b7fc-0cb84c9772a7"
    }
   },
   "source": [
    "The DAVIS camera has a conventional image capturing system along with the event based system. While we shall not be using the conventional stream during our implementation, the conventional stream of data helps the user visualize the scene that is undergoing reconstruction."
   ]
  },
  {
   "cell_type": "code",
   "execution_count": 5,
   "metadata": {
    "nbpresent": {
     "id": "1502a5a3-4567-48c8-a515-6892d330fcb8"
    }
   },
   "outputs": [],
   "source": [
    "normal_img_path = data_path + '/images'\n",
    "normal_imgs = [normal_img_path + \"/\" + img for img in os.listdir(normal_img_path) if img.endswith(\".png\")]\n",
    "normal_imgs.sort()"
   ]
  },
  {
   "cell_type": "code",
   "execution_count": 7,
   "metadata": {
    "nbpresent": {
     "id": "46485b54-7a29-48ec-b4a6-24396d33c26b"
    }
   },
   "outputs": [
    {
     "data": {
      "application/javascript": [
       "/* Put everything inside the global mpl namespace */\n",
       "window.mpl = {};\n",
       "\n",
       "\n",
       "mpl.get_websocket_type = function() {\n",
       "    if (typeof(WebSocket) !== 'undefined') {\n",
       "        return WebSocket;\n",
       "    } else if (typeof(MozWebSocket) !== 'undefined') {\n",
       "        return MozWebSocket;\n",
       "    } else {\n",
       "        alert('Your browser does not have WebSocket support.' +\n",
       "              'Please try Chrome, Safari or Firefox ≥ 6. ' +\n",
       "              'Firefox 4 and 5 are also supported but you ' +\n",
       "              'have to enable WebSockets in about:config.');\n",
       "    };\n",
       "}\n",
       "\n",
       "mpl.figure = function(figure_id, websocket, ondownload, parent_element) {\n",
       "    this.id = figure_id;\n",
       "\n",
       "    this.ws = websocket;\n",
       "\n",
       "    this.supports_binary = (this.ws.binaryType != undefined);\n",
       "\n",
       "    if (!this.supports_binary) {\n",
       "        var warnings = document.getElementById(\"mpl-warnings\");\n",
       "        if (warnings) {\n",
       "            warnings.style.display = 'block';\n",
       "            warnings.textContent = (\n",
       "                \"This browser does not support binary websocket messages. \" +\n",
       "                    \"Performance may be slow.\");\n",
       "        }\n",
       "    }\n",
       "\n",
       "    this.imageObj = new Image();\n",
       "\n",
       "    this.context = undefined;\n",
       "    this.message = undefined;\n",
       "    this.canvas = undefined;\n",
       "    this.rubberband_canvas = undefined;\n",
       "    this.rubberband_context = undefined;\n",
       "    this.format_dropdown = undefined;\n",
       "\n",
       "    this.image_mode = 'full';\n",
       "\n",
       "    this.root = $('<div/>');\n",
       "    this._root_extra_style(this.root)\n",
       "    this.root.attr('style', 'display: inline-block');\n",
       "\n",
       "    $(parent_element).append(this.root);\n",
       "\n",
       "    this._init_header(this);\n",
       "    this._init_canvas(this);\n",
       "    this._init_toolbar(this);\n",
       "\n",
       "    var fig = this;\n",
       "\n",
       "    this.waiting = false;\n",
       "\n",
       "    this.ws.onopen =  function () {\n",
       "            fig.send_message(\"supports_binary\", {value: fig.supports_binary});\n",
       "            fig.send_message(\"send_image_mode\", {});\n",
       "            if (mpl.ratio != 1) {\n",
       "                fig.send_message(\"set_dpi_ratio\", {'dpi_ratio': mpl.ratio});\n",
       "            }\n",
       "            fig.send_message(\"refresh\", {});\n",
       "        }\n",
       "\n",
       "    this.imageObj.onload = function() {\n",
       "            if (fig.image_mode == 'full') {\n",
       "                // Full images could contain transparency (where diff images\n",
       "                // almost always do), so we need to clear the canvas so that\n",
       "                // there is no ghosting.\n",
       "                fig.context.clearRect(0, 0, fig.canvas.width, fig.canvas.height);\n",
       "            }\n",
       "            fig.context.drawImage(fig.imageObj, 0, 0);\n",
       "        };\n",
       "\n",
       "    this.imageObj.onunload = function() {\n",
       "        fig.ws.close();\n",
       "    }\n",
       "\n",
       "    this.ws.onmessage = this._make_on_message_function(this);\n",
       "\n",
       "    this.ondownload = ondownload;\n",
       "}\n",
       "\n",
       "mpl.figure.prototype._init_header = function() {\n",
       "    var titlebar = $(\n",
       "        '<div class=\"ui-dialog-titlebar ui-widget-header ui-corner-all ' +\n",
       "        'ui-helper-clearfix\"/>');\n",
       "    var titletext = $(\n",
       "        '<div class=\"ui-dialog-title\" style=\"width: 100%; ' +\n",
       "        'text-align: center; padding: 3px;\"/>');\n",
       "    titlebar.append(titletext)\n",
       "    this.root.append(titlebar);\n",
       "    this.header = titletext[0];\n",
       "}\n",
       "\n",
       "\n",
       "\n",
       "mpl.figure.prototype._canvas_extra_style = function(canvas_div) {\n",
       "\n",
       "}\n",
       "\n",
       "\n",
       "mpl.figure.prototype._root_extra_style = function(canvas_div) {\n",
       "\n",
       "}\n",
       "\n",
       "mpl.figure.prototype._init_canvas = function() {\n",
       "    var fig = this;\n",
       "\n",
       "    var canvas_div = $('<div/>');\n",
       "\n",
       "    canvas_div.attr('style', 'position: relative; clear: both; outline: 0');\n",
       "\n",
       "    function canvas_keyboard_event(event) {\n",
       "        return fig.key_event(event, event['data']);\n",
       "    }\n",
       "\n",
       "    canvas_div.keydown('key_press', canvas_keyboard_event);\n",
       "    canvas_div.keyup('key_release', canvas_keyboard_event);\n",
       "    this.canvas_div = canvas_div\n",
       "    this._canvas_extra_style(canvas_div)\n",
       "    this.root.append(canvas_div);\n",
       "\n",
       "    var canvas = $('<canvas/>');\n",
       "    canvas.addClass('mpl-canvas');\n",
       "    canvas.attr('style', \"left: 0; top: 0; z-index: 0; outline: 0\")\n",
       "\n",
       "    this.canvas = canvas[0];\n",
       "    this.context = canvas[0].getContext(\"2d\");\n",
       "\n",
       "    var backingStore = this.context.backingStorePixelRatio ||\n",
       "\tthis.context.webkitBackingStorePixelRatio ||\n",
       "\tthis.context.mozBackingStorePixelRatio ||\n",
       "\tthis.context.msBackingStorePixelRatio ||\n",
       "\tthis.context.oBackingStorePixelRatio ||\n",
       "\tthis.context.backingStorePixelRatio || 1;\n",
       "\n",
       "    mpl.ratio = (window.devicePixelRatio || 1) / backingStore;\n",
       "\n",
       "    var rubberband = $('<canvas/>');\n",
       "    rubberband.attr('style', \"position: absolute; left: 0; top: 0; z-index: 1;\")\n",
       "\n",
       "    var pass_mouse_events = true;\n",
       "\n",
       "    canvas_div.resizable({\n",
       "        start: function(event, ui) {\n",
       "            pass_mouse_events = false;\n",
       "        },\n",
       "        resize: function(event, ui) {\n",
       "            fig.request_resize(ui.size.width, ui.size.height);\n",
       "        },\n",
       "        stop: function(event, ui) {\n",
       "            pass_mouse_events = true;\n",
       "            fig.request_resize(ui.size.width, ui.size.height);\n",
       "        },\n",
       "    });\n",
       "\n",
       "    function mouse_event_fn(event) {\n",
       "        if (pass_mouse_events)\n",
       "            return fig.mouse_event(event, event['data']);\n",
       "    }\n",
       "\n",
       "    rubberband.mousedown('button_press', mouse_event_fn);\n",
       "    rubberband.mouseup('button_release', mouse_event_fn);\n",
       "    // Throttle sequential mouse events to 1 every 20ms.\n",
       "    rubberband.mousemove('motion_notify', mouse_event_fn);\n",
       "\n",
       "    rubberband.mouseenter('figure_enter', mouse_event_fn);\n",
       "    rubberband.mouseleave('figure_leave', mouse_event_fn);\n",
       "\n",
       "    canvas_div.on(\"wheel\", function (event) {\n",
       "        event = event.originalEvent;\n",
       "        event['data'] = 'scroll'\n",
       "        if (event.deltaY < 0) {\n",
       "            event.step = 1;\n",
       "        } else {\n",
       "            event.step = -1;\n",
       "        }\n",
       "        mouse_event_fn(event);\n",
       "    });\n",
       "\n",
       "    canvas_div.append(canvas);\n",
       "    canvas_div.append(rubberband);\n",
       "\n",
       "    this.rubberband = rubberband;\n",
       "    this.rubberband_canvas = rubberband[0];\n",
       "    this.rubberband_context = rubberband[0].getContext(\"2d\");\n",
       "    this.rubberband_context.strokeStyle = \"#000000\";\n",
       "\n",
       "    this._resize_canvas = function(width, height) {\n",
       "        // Keep the size of the canvas, canvas container, and rubber band\n",
       "        // canvas in synch.\n",
       "        canvas_div.css('width', width)\n",
       "        canvas_div.css('height', height)\n",
       "\n",
       "        canvas.attr('width', width * mpl.ratio);\n",
       "        canvas.attr('height', height * mpl.ratio);\n",
       "        canvas.attr('style', 'width: ' + width + 'px; height: ' + height + 'px;');\n",
       "\n",
       "        rubberband.attr('width', width);\n",
       "        rubberband.attr('height', height);\n",
       "    }\n",
       "\n",
       "    // Set the figure to an initial 600x600px, this will subsequently be updated\n",
       "    // upon first draw.\n",
       "    this._resize_canvas(600, 600);\n",
       "\n",
       "    // Disable right mouse context menu.\n",
       "    $(this.rubberband_canvas).bind(\"contextmenu\",function(e){\n",
       "        return false;\n",
       "    });\n",
       "\n",
       "    function set_focus () {\n",
       "        canvas.focus();\n",
       "        canvas_div.focus();\n",
       "    }\n",
       "\n",
       "    window.setTimeout(set_focus, 100);\n",
       "}\n",
       "\n",
       "mpl.figure.prototype._init_toolbar = function() {\n",
       "    var fig = this;\n",
       "\n",
       "    var nav_element = $('<div/>')\n",
       "    nav_element.attr('style', 'width: 100%');\n",
       "    this.root.append(nav_element);\n",
       "\n",
       "    // Define a callback function for later on.\n",
       "    function toolbar_event(event) {\n",
       "        return fig.toolbar_button_onclick(event['data']);\n",
       "    }\n",
       "    function toolbar_mouse_event(event) {\n",
       "        return fig.toolbar_button_onmouseover(event['data']);\n",
       "    }\n",
       "\n",
       "    for(var toolbar_ind in mpl.toolbar_items) {\n",
       "        var name = mpl.toolbar_items[toolbar_ind][0];\n",
       "        var tooltip = mpl.toolbar_items[toolbar_ind][1];\n",
       "        var image = mpl.toolbar_items[toolbar_ind][2];\n",
       "        var method_name = mpl.toolbar_items[toolbar_ind][3];\n",
       "\n",
       "        if (!name) {\n",
       "            // put a spacer in here.\n",
       "            continue;\n",
       "        }\n",
       "        var button = $('<button/>');\n",
       "        button.addClass('ui-button ui-widget ui-state-default ui-corner-all ' +\n",
       "                        'ui-button-icon-only');\n",
       "        button.attr('role', 'button');\n",
       "        button.attr('aria-disabled', 'false');\n",
       "        button.click(method_name, toolbar_event);\n",
       "        button.mouseover(tooltip, toolbar_mouse_event);\n",
       "\n",
       "        var icon_img = $('<span/>');\n",
       "        icon_img.addClass('ui-button-icon-primary ui-icon');\n",
       "        icon_img.addClass(image);\n",
       "        icon_img.addClass('ui-corner-all');\n",
       "\n",
       "        var tooltip_span = $('<span/>');\n",
       "        tooltip_span.addClass('ui-button-text');\n",
       "        tooltip_span.html(tooltip);\n",
       "\n",
       "        button.append(icon_img);\n",
       "        button.append(tooltip_span);\n",
       "\n",
       "        nav_element.append(button);\n",
       "    }\n",
       "\n",
       "    var fmt_picker_span = $('<span/>');\n",
       "\n",
       "    var fmt_picker = $('<select/>');\n",
       "    fmt_picker.addClass('mpl-toolbar-option ui-widget ui-widget-content');\n",
       "    fmt_picker_span.append(fmt_picker);\n",
       "    nav_element.append(fmt_picker_span);\n",
       "    this.format_dropdown = fmt_picker[0];\n",
       "\n",
       "    for (var ind in mpl.extensions) {\n",
       "        var fmt = mpl.extensions[ind];\n",
       "        var option = $(\n",
       "            '<option/>', {selected: fmt === mpl.default_extension}).html(fmt);\n",
       "        fmt_picker.append(option)\n",
       "    }\n",
       "\n",
       "    // Add hover states to the ui-buttons\n",
       "    $( \".ui-button\" ).hover(\n",
       "        function() { $(this).addClass(\"ui-state-hover\");},\n",
       "        function() { $(this).removeClass(\"ui-state-hover\");}\n",
       "    );\n",
       "\n",
       "    var status_bar = $('<span class=\"mpl-message\"/>');\n",
       "    nav_element.append(status_bar);\n",
       "    this.message = status_bar[0];\n",
       "}\n",
       "\n",
       "mpl.figure.prototype.request_resize = function(x_pixels, y_pixels) {\n",
       "    // Request matplotlib to resize the figure. Matplotlib will then trigger a resize in the client,\n",
       "    // which will in turn request a refresh of the image.\n",
       "    this.send_message('resize', {'width': x_pixels, 'height': y_pixels});\n",
       "}\n",
       "\n",
       "mpl.figure.prototype.send_message = function(type, properties) {\n",
       "    properties['type'] = type;\n",
       "    properties['figure_id'] = this.id;\n",
       "    this.ws.send(JSON.stringify(properties));\n",
       "}\n",
       "\n",
       "mpl.figure.prototype.send_draw_message = function() {\n",
       "    if (!this.waiting) {\n",
       "        this.waiting = true;\n",
       "        this.ws.send(JSON.stringify({type: \"draw\", figure_id: this.id}));\n",
       "    }\n",
       "}\n",
       "\n",
       "\n",
       "mpl.figure.prototype.handle_save = function(fig, msg) {\n",
       "    var format_dropdown = fig.format_dropdown;\n",
       "    var format = format_dropdown.options[format_dropdown.selectedIndex].value;\n",
       "    fig.ondownload(fig, format);\n",
       "}\n",
       "\n",
       "\n",
       "mpl.figure.prototype.handle_resize = function(fig, msg) {\n",
       "    var size = msg['size'];\n",
       "    if (size[0] != fig.canvas.width || size[1] != fig.canvas.height) {\n",
       "        fig._resize_canvas(size[0], size[1]);\n",
       "        fig.send_message(\"refresh\", {});\n",
       "    };\n",
       "}\n",
       "\n",
       "mpl.figure.prototype.handle_rubberband = function(fig, msg) {\n",
       "    var x0 = msg['x0'] / mpl.ratio;\n",
       "    var y0 = (fig.canvas.height - msg['y0']) / mpl.ratio;\n",
       "    var x1 = msg['x1'] / mpl.ratio;\n",
       "    var y1 = (fig.canvas.height - msg['y1']) / mpl.ratio;\n",
       "    x0 = Math.floor(x0) + 0.5;\n",
       "    y0 = Math.floor(y0) + 0.5;\n",
       "    x1 = Math.floor(x1) + 0.5;\n",
       "    y1 = Math.floor(y1) + 0.5;\n",
       "    var min_x = Math.min(x0, x1);\n",
       "    var min_y = Math.min(y0, y1);\n",
       "    var width = Math.abs(x1 - x0);\n",
       "    var height = Math.abs(y1 - y0);\n",
       "\n",
       "    fig.rubberband_context.clearRect(\n",
       "        0, 0, fig.canvas.width, fig.canvas.height);\n",
       "\n",
       "    fig.rubberband_context.strokeRect(min_x, min_y, width, height);\n",
       "}\n",
       "\n",
       "mpl.figure.prototype.handle_figure_label = function(fig, msg) {\n",
       "    // Updates the figure title.\n",
       "    fig.header.textContent = msg['label'];\n",
       "}\n",
       "\n",
       "mpl.figure.prototype.handle_cursor = function(fig, msg) {\n",
       "    var cursor = msg['cursor'];\n",
       "    switch(cursor)\n",
       "    {\n",
       "    case 0:\n",
       "        cursor = 'pointer';\n",
       "        break;\n",
       "    case 1:\n",
       "        cursor = 'default';\n",
       "        break;\n",
       "    case 2:\n",
       "        cursor = 'crosshair';\n",
       "        break;\n",
       "    case 3:\n",
       "        cursor = 'move';\n",
       "        break;\n",
       "    }\n",
       "    fig.rubberband_canvas.style.cursor = cursor;\n",
       "}\n",
       "\n",
       "mpl.figure.prototype.handle_message = function(fig, msg) {\n",
       "    fig.message.textContent = msg['message'];\n",
       "}\n",
       "\n",
       "mpl.figure.prototype.handle_draw = function(fig, msg) {\n",
       "    // Request the server to send over a new figure.\n",
       "    fig.send_draw_message();\n",
       "}\n",
       "\n",
       "mpl.figure.prototype.handle_image_mode = function(fig, msg) {\n",
       "    fig.image_mode = msg['mode'];\n",
       "}\n",
       "\n",
       "mpl.figure.prototype.updated_canvas_event = function() {\n",
       "    // Called whenever the canvas gets updated.\n",
       "    this.send_message(\"ack\", {});\n",
       "}\n",
       "\n",
       "// A function to construct a web socket function for onmessage handling.\n",
       "// Called in the figure constructor.\n",
       "mpl.figure.prototype._make_on_message_function = function(fig) {\n",
       "    return function socket_on_message(evt) {\n",
       "        if (evt.data instanceof Blob) {\n",
       "            /* FIXME: We get \"Resource interpreted as Image but\n",
       "             * transferred with MIME type text/plain:\" errors on\n",
       "             * Chrome.  But how to set the MIME type?  It doesn't seem\n",
       "             * to be part of the websocket stream */\n",
       "            evt.data.type = \"image/png\";\n",
       "\n",
       "            /* Free the memory for the previous frames */\n",
       "            if (fig.imageObj.src) {\n",
       "                (window.URL || window.webkitURL).revokeObjectURL(\n",
       "                    fig.imageObj.src);\n",
       "            }\n",
       "\n",
       "            fig.imageObj.src = (window.URL || window.webkitURL).createObjectURL(\n",
       "                evt.data);\n",
       "            fig.updated_canvas_event();\n",
       "            fig.waiting = false;\n",
       "            return;\n",
       "        }\n",
       "        else if (typeof evt.data === 'string' && evt.data.slice(0, 21) == \"data:image/png;base64\") {\n",
       "            fig.imageObj.src = evt.data;\n",
       "            fig.updated_canvas_event();\n",
       "            fig.waiting = false;\n",
       "            return;\n",
       "        }\n",
       "\n",
       "        var msg = JSON.parse(evt.data);\n",
       "        var msg_type = msg['type'];\n",
       "\n",
       "        // Call the  \"handle_{type}\" callback, which takes\n",
       "        // the figure and JSON message as its only arguments.\n",
       "        try {\n",
       "            var callback = fig[\"handle_\" + msg_type];\n",
       "        } catch (e) {\n",
       "            console.log(\"No handler for the '\" + msg_type + \"' message type: \", msg);\n",
       "            return;\n",
       "        }\n",
       "\n",
       "        if (callback) {\n",
       "            try {\n",
       "                // console.log(\"Handling '\" + msg_type + \"' message: \", msg);\n",
       "                callback(fig, msg);\n",
       "            } catch (e) {\n",
       "                console.log(\"Exception inside the 'handler_\" + msg_type + \"' callback:\", e, e.stack, msg);\n",
       "            }\n",
       "        }\n",
       "    };\n",
       "}\n",
       "\n",
       "// from http://stackoverflow.com/questions/1114465/getting-mouse-location-in-canvas\n",
       "mpl.findpos = function(e) {\n",
       "    //this section is from http://www.quirksmode.org/js/events_properties.html\n",
       "    var targ;\n",
       "    if (!e)\n",
       "        e = window.event;\n",
       "    if (e.target)\n",
       "        targ = e.target;\n",
       "    else if (e.srcElement)\n",
       "        targ = e.srcElement;\n",
       "    if (targ.nodeType == 3) // defeat Safari bug\n",
       "        targ = targ.parentNode;\n",
       "\n",
       "    // jQuery normalizes the pageX and pageY\n",
       "    // pageX,Y are the mouse positions relative to the document\n",
       "    // offset() returns the position of the element relative to the document\n",
       "    var x = e.pageX - $(targ).offset().left;\n",
       "    var y = e.pageY - $(targ).offset().top;\n",
       "\n",
       "    return {\"x\": x, \"y\": y};\n",
       "};\n",
       "\n",
       "/*\n",
       " * return a copy of an object with only non-object keys\n",
       " * we need this to avoid circular references\n",
       " * http://stackoverflow.com/a/24161582/3208463\n",
       " */\n",
       "function simpleKeys (original) {\n",
       "  return Object.keys(original).reduce(function (obj, key) {\n",
       "    if (typeof original[key] !== 'object')\n",
       "        obj[key] = original[key]\n",
       "    return obj;\n",
       "  }, {});\n",
       "}\n",
       "\n",
       "mpl.figure.prototype.mouse_event = function(event, name) {\n",
       "    var canvas_pos = mpl.findpos(event)\n",
       "\n",
       "    if (name === 'button_press')\n",
       "    {\n",
       "        this.canvas.focus();\n",
       "        this.canvas_div.focus();\n",
       "    }\n",
       "\n",
       "    var x = canvas_pos.x * mpl.ratio;\n",
       "    var y = canvas_pos.y * mpl.ratio;\n",
       "\n",
       "    this.send_message(name, {x: x, y: y, button: event.button,\n",
       "                             step: event.step,\n",
       "                             guiEvent: simpleKeys(event)});\n",
       "\n",
       "    /* This prevents the web browser from automatically changing to\n",
       "     * the text insertion cursor when the button is pressed.  We want\n",
       "     * to control all of the cursor setting manually through the\n",
       "     * 'cursor' event from matplotlib */\n",
       "    event.preventDefault();\n",
       "    return false;\n",
       "}\n",
       "\n",
       "mpl.figure.prototype._key_event_extra = function(event, name) {\n",
       "    // Handle any extra behaviour associated with a key event\n",
       "}\n",
       "\n",
       "mpl.figure.prototype.key_event = function(event, name) {\n",
       "\n",
       "    // Prevent repeat events\n",
       "    if (name == 'key_press')\n",
       "    {\n",
       "        if (event.which === this._key)\n",
       "            return;\n",
       "        else\n",
       "            this._key = event.which;\n",
       "    }\n",
       "    if (name == 'key_release')\n",
       "        this._key = null;\n",
       "\n",
       "    var value = '';\n",
       "    if (event.ctrlKey && event.which != 17)\n",
       "        value += \"ctrl+\";\n",
       "    if (event.altKey && event.which != 18)\n",
       "        value += \"alt+\";\n",
       "    if (event.shiftKey && event.which != 16)\n",
       "        value += \"shift+\";\n",
       "\n",
       "    value += 'k';\n",
       "    value += event.which.toString();\n",
       "\n",
       "    this._key_event_extra(event, name);\n",
       "\n",
       "    this.send_message(name, {key: value,\n",
       "                             guiEvent: simpleKeys(event)});\n",
       "    return false;\n",
       "}\n",
       "\n",
       "mpl.figure.prototype.toolbar_button_onclick = function(name) {\n",
       "    if (name == 'download') {\n",
       "        this.handle_save(this, null);\n",
       "    } else {\n",
       "        this.send_message(\"toolbar_button\", {name: name});\n",
       "    }\n",
       "};\n",
       "\n",
       "mpl.figure.prototype.toolbar_button_onmouseover = function(tooltip) {\n",
       "    this.message.textContent = tooltip;\n",
       "};\n",
       "mpl.toolbar_items = [[\"Home\", \"Reset original view\", \"fa fa-home icon-home\", \"home\"], [\"Back\", \"Back to  previous view\", \"fa fa-arrow-left icon-arrow-left\", \"back\"], [\"Forward\", \"Forward to next view\", \"fa fa-arrow-right icon-arrow-right\", \"forward\"], [\"\", \"\", \"\", \"\"], [\"Pan\", \"Pan axes with left mouse, zoom with right\", \"fa fa-arrows icon-move\", \"pan\"], [\"Zoom\", \"Zoom to rectangle\", \"fa fa-square-o icon-check-empty\", \"zoom\"], [\"\", \"\", \"\", \"\"], [\"Download\", \"Download plot\", \"fa fa-floppy-o icon-save\", \"download\"]];\n",
       "\n",
       "mpl.extensions = [\"eps\", \"pdf\", \"png\", \"ps\", \"raw\", \"svg\"];\n",
       "\n",
       "mpl.default_extension = \"png\";var comm_websocket_adapter = function(comm) {\n",
       "    // Create a \"websocket\"-like object which calls the given IPython comm\n",
       "    // object with the appropriate methods. Currently this is a non binary\n",
       "    // socket, so there is still some room for performance tuning.\n",
       "    var ws = {};\n",
       "\n",
       "    ws.close = function() {\n",
       "        comm.close()\n",
       "    };\n",
       "    ws.send = function(m) {\n",
       "        //console.log('sending', m);\n",
       "        comm.send(m);\n",
       "    };\n",
       "    // Register the callback with on_msg.\n",
       "    comm.on_msg(function(msg) {\n",
       "        //console.log('receiving', msg['content']['data'], msg);\n",
       "        // Pass the mpl event to the overridden (by mpl) onmessage function.\n",
       "        ws.onmessage(msg['content']['data'])\n",
       "    });\n",
       "    return ws;\n",
       "}\n",
       "\n",
       "mpl.mpl_figure_comm = function(comm, msg) {\n",
       "    // This is the function which gets called when the mpl process\n",
       "    // starts-up an IPython Comm through the \"matplotlib\" channel.\n",
       "\n",
       "    var id = msg.content.data.id;\n",
       "    // Get hold of the div created by the display call when the Comm\n",
       "    // socket was opened in Python.\n",
       "    var element = $(\"#\" + id);\n",
       "    var ws_proxy = comm_websocket_adapter(comm)\n",
       "\n",
       "    function ondownload(figure, format) {\n",
       "        window.open(figure.imageObj.src);\n",
       "    }\n",
       "\n",
       "    var fig = new mpl.figure(id, ws_proxy,\n",
       "                           ondownload,\n",
       "                           element.get(0));\n",
       "\n",
       "    // Call onopen now - mpl needs it, as it is assuming we've passed it a real\n",
       "    // web socket which is closed, not our websocket->open comm proxy.\n",
       "    ws_proxy.onopen();\n",
       "\n",
       "    fig.parent_element = element.get(0);\n",
       "    fig.cell_info = mpl.find_output_cell(\"<div id='\" + id + \"'></div>\");\n",
       "    if (!fig.cell_info) {\n",
       "        console.error(\"Failed to find cell for figure\", id, fig);\n",
       "        return;\n",
       "    }\n",
       "\n",
       "    var output_index = fig.cell_info[2]\n",
       "    var cell = fig.cell_info[0];\n",
       "\n",
       "};\n",
       "\n",
       "mpl.figure.prototype.handle_close = function(fig, msg) {\n",
       "    var width = fig.canvas.width/mpl.ratio\n",
       "    fig.root.unbind('remove')\n",
       "\n",
       "    // Update the output cell to use the data from the current canvas.\n",
       "    fig.push_to_output();\n",
       "    var dataURL = fig.canvas.toDataURL();\n",
       "    // Re-enable the keyboard manager in IPython - without this line, in FF,\n",
       "    // the notebook keyboard shortcuts fail.\n",
       "    IPython.keyboard_manager.enable()\n",
       "    $(fig.parent_element).html('<img src=\"' + dataURL + '\" width=\"' + width + '\">');\n",
       "    fig.close_ws(fig, msg);\n",
       "}\n",
       "\n",
       "mpl.figure.prototype.close_ws = function(fig, msg){\n",
       "    fig.send_message('closing', msg);\n",
       "    // fig.ws.close()\n",
       "}\n",
       "\n",
       "mpl.figure.prototype.push_to_output = function(remove_interactive) {\n",
       "    // Turn the data on the canvas into data in the output cell.\n",
       "    var width = this.canvas.width/mpl.ratio\n",
       "    var dataURL = this.canvas.toDataURL();\n",
       "    this.cell_info[1]['text/html'] = '<img src=\"' + dataURL + '\" width=\"' + width + '\">';\n",
       "}\n",
       "\n",
       "mpl.figure.prototype.updated_canvas_event = function() {\n",
       "    // Tell IPython that the notebook contents must change.\n",
       "    IPython.notebook.set_dirty(true);\n",
       "    this.send_message(\"ack\", {});\n",
       "    var fig = this;\n",
       "    // Wait a second, then push the new image to the DOM so\n",
       "    // that it is saved nicely (might be nice to debounce this).\n",
       "    setTimeout(function () { fig.push_to_output() }, 1000);\n",
       "}\n",
       "\n",
       "mpl.figure.prototype._init_toolbar = function() {\n",
       "    var fig = this;\n",
       "\n",
       "    var nav_element = $('<div/>')\n",
       "    nav_element.attr('style', 'width: 100%');\n",
       "    this.root.append(nav_element);\n",
       "\n",
       "    // Define a callback function for later on.\n",
       "    function toolbar_event(event) {\n",
       "        return fig.toolbar_button_onclick(event['data']);\n",
       "    }\n",
       "    function toolbar_mouse_event(event) {\n",
       "        return fig.toolbar_button_onmouseover(event['data']);\n",
       "    }\n",
       "\n",
       "    for(var toolbar_ind in mpl.toolbar_items){\n",
       "        var name = mpl.toolbar_items[toolbar_ind][0];\n",
       "        var tooltip = mpl.toolbar_items[toolbar_ind][1];\n",
       "        var image = mpl.toolbar_items[toolbar_ind][2];\n",
       "        var method_name = mpl.toolbar_items[toolbar_ind][3];\n",
       "\n",
       "        if (!name) { continue; };\n",
       "\n",
       "        var button = $('<button class=\"btn btn-default\" href=\"#\" title=\"' + name + '\"><i class=\"fa ' + image + ' fa-lg\"></i></button>');\n",
       "        button.click(method_name, toolbar_event);\n",
       "        button.mouseover(tooltip, toolbar_mouse_event);\n",
       "        nav_element.append(button);\n",
       "    }\n",
       "\n",
       "    // Add the status bar.\n",
       "    var status_bar = $('<span class=\"mpl-message\" style=\"text-align:right; float: right;\"/>');\n",
       "    nav_element.append(status_bar);\n",
       "    this.message = status_bar[0];\n",
       "\n",
       "    // Add the close button to the window.\n",
       "    var buttongrp = $('<div class=\"btn-group inline pull-right\"></div>');\n",
       "    var button = $('<button class=\"btn btn-mini btn-primary\" href=\"#\" title=\"Stop Interaction\"><i class=\"fa fa-power-off icon-remove icon-large\"></i></button>');\n",
       "    button.click(function (evt) { fig.handle_close(fig, {}); } );\n",
       "    button.mouseover('Stop Interaction', toolbar_mouse_event);\n",
       "    buttongrp.append(button);\n",
       "    var titlebar = this.root.find($('.ui-dialog-titlebar'));\n",
       "    titlebar.prepend(buttongrp);\n",
       "}\n",
       "\n",
       "mpl.figure.prototype._root_extra_style = function(el){\n",
       "    var fig = this\n",
       "    el.on(\"remove\", function(){\n",
       "\tfig.close_ws(fig, {});\n",
       "    });\n",
       "}\n",
       "\n",
       "mpl.figure.prototype._canvas_extra_style = function(el){\n",
       "    // this is important to make the div 'focusable\n",
       "    el.attr('tabindex', 0)\n",
       "    // reach out to IPython and tell the keyboard manager to turn it's self\n",
       "    // off when our div gets focus\n",
       "\n",
       "    // location in version 3\n",
       "    if (IPython.notebook.keyboard_manager) {\n",
       "        IPython.notebook.keyboard_manager.register_events(el);\n",
       "    }\n",
       "    else {\n",
       "        // location in version 2\n",
       "        IPython.keyboard_manager.register_events(el);\n",
       "    }\n",
       "\n",
       "}\n",
       "\n",
       "mpl.figure.prototype._key_event_extra = function(event, name) {\n",
       "    var manager = IPython.notebook.keyboard_manager;\n",
       "    if (!manager)\n",
       "        manager = IPython.keyboard_manager;\n",
       "\n",
       "    // Check for shift+enter\n",
       "    if (event.shiftKey && event.which == 13) {\n",
       "        this.canvas_div.blur();\n",
       "        event.shiftKey = false;\n",
       "        // Send a \"J\" for go to next cell\n",
       "        event.which = 74;\n",
       "        event.keyCode = 74;\n",
       "        manager.command_mode();\n",
       "        manager.handle_keydown(event);\n",
       "    }\n",
       "}\n",
       "\n",
       "mpl.figure.prototype.handle_save = function(fig, msg) {\n",
       "    fig.ondownload(fig, null);\n",
       "}\n",
       "\n",
       "\n",
       "mpl.find_output_cell = function(html_output) {\n",
       "    // Return the cell and output element which can be found *uniquely* in the notebook.\n",
       "    // Note - this is a bit hacky, but it is done because the \"notebook_saving.Notebook\"\n",
       "    // IPython event is triggered only after the cells have been serialised, which for\n",
       "    // our purposes (turning an active figure into a static one), is too late.\n",
       "    var cells = IPython.notebook.get_cells();\n",
       "    var ncells = cells.length;\n",
       "    for (var i=0; i<ncells; i++) {\n",
       "        var cell = cells[i];\n",
       "        if (cell.cell_type === 'code'){\n",
       "            for (var j=0; j<cell.output_area.outputs.length; j++) {\n",
       "                var data = cell.output_area.outputs[j];\n",
       "                if (data.data) {\n",
       "                    // IPython >= 3 moved mimebundle to data attribute of output\n",
       "                    data = data.data;\n",
       "                }\n",
       "                if (data['text/html'] == html_output) {\n",
       "                    return [cell, data, j];\n",
       "                }\n",
       "            }\n",
       "        }\n",
       "    }\n",
       "}\n",
       "\n",
       "// Register the function which deals with the matplotlib target/channel.\n",
       "// The kernel may be null if the page has been refreshed.\n",
       "if (IPython.notebook.kernel != null) {\n",
       "    IPython.notebook.kernel.comm_manager.register_target('matplotlib', mpl.mpl_figure_comm);\n",
       "}\n"
      ],
      "text/plain": [
       "<IPython.core.display.Javascript object>"
      ]
     },
     "metadata": {},
     "output_type": "display_data"
    },
    {
     "data": {
      "text/html": [
       "<img src=\"data:image/png;base64,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\" width=\"640\">"
      ],
      "text/plain": [
       "<IPython.core.display.HTML object>"
      ]
     },
     "metadata": {},
     "output_type": "display_data"
    }
   ],
   "source": [
    "fig = plt.figure()\n",
    "ax = fig.add_subplot(111)\n",
    "plt.ion()\n",
    "fig.show()\n",
    "fig.canvas.draw()\n",
    "ax.axis()\n",
    "for image in normal_imgs:\n",
    "    ax.clear()\n",
    "    ax.imshow(plt.imread(image), cmap='gray')\n",
    "    fig.canvas.draw()"
   ]
  },
  {
   "cell_type": "markdown",
   "metadata": {
    "nbpresent": {
     "id": "84c5d1f8-35e4-414a-b682-f103c5c60fa8"
    }
   },
   "source": [
    "## Data Available and Data format"
   ]
  },
  {
   "cell_type": "markdown",
   "metadata": {
    "nbpresent": {
     "id": "80545f0e-3a2b-44c4-ad62-f7f729eb4fc5"
    }
   },
   "source": [
    "There are various kinds of data which we would have to work with namely, event data, imu data, calibration parameters, and ground truth data. There is also an 'images.txt' file which gives the timestamps at which synchronous event stream was captured. The format of the data are as shown below. "
   ]
  },
  {
   "cell_type": "markdown",
   "metadata": {
    "nbpresent": {
     "id": "0f1ca28d-743a-496a-ab40-f89f123a332e"
    }
   },
   "source": [
    "![description of dataset format](data_format_emvs.png)"
   ]
  },
  {
   "cell_type": "markdown",
   "metadata": {
    "nbpresent": {
     "id": "272f2c1e-d16e-45ab-a5f9-d2038b5b994a"
    }
   },
   "source": [
    "### Camera Matrix"
   ]
  },
  {
   "cell_type": "markdown",
   "metadata": {
    "nbpresent": {
     "id": "e2af89e3-50e3-4286-8d40-6fa6b426c131"
    }
   },
   "source": [
    "Every camera has a calibration matrix which is dependant on the intrinsic and extrinsic parameters being used. We obtain these parameters from the <i>calib.txt</i> file."
   ]
  },
  {
   "cell_type": "code",
   "execution_count": 8,
   "metadata": {
    "nbpresent": {
     "id": "42683b3e-0bdf-4ae8-8f12-9239966a3a90"
    }
   },
   "outputs": [],
   "source": [
    "def return_camera_matrix(filename='calib.txt'):\n",
    "    '''\n",
    "    Returns the camera matrix for the given dataset based on calibration parameters.\n",
    "    \n",
    "    Parameters:\n",
    "    -----------\n",
    "    filename : <string>\n",
    "        name of the text file where the camera parameters are stored\n",
    "    \n",
    "    Return:\n",
    "    -------\n",
    "    camera_mat: <np.array>\n",
    "        The camera matrix for the parameters mentioned in the calibration file\n",
    "    '''\n",
    "    \n",
    "    file = open(data_path +'/' + filename, \"r\")\n",
    "    cam_par = list(map(float,file.readline().split()))\n",
    "    file.close()\n",
    "    fx, fy, cx, cy, k1, k2, p1, p2, k3 = [par for par in cam_par]\n",
    "    camera_mat = np.array([[fx,  0, cx],\n",
    "                           [ 0, fy, cy],\n",
    "                           [ 0,  0,  1]])\n",
    "    return camera_mat, [k1, k2, p1, p2, k3]"
   ]
  },
  {
   "cell_type": "code",
   "execution_count": 9,
   "metadata": {
    "nbpresent": {
     "id": "48cd64ef-830b-4c7c-bdc9-1f56613b9711"
    }
   },
   "outputs": [],
   "source": [
    "def return_undistorted_coordinates(dist_cam_cords, distortion_params):\n",
    "    k1, k2, p1, p2, k3 = distortion_params\n",
    "    \n",
    "    pass"
   ]
  },
  {
   "cell_type": "code",
   "execution_count": 10,
   "metadata": {
    "nbpresent": {
     "id": "adc9de1d-ac88-4b52-9aaf-002b48eb41ee"
    }
   },
   "outputs": [],
   "source": [
    "cam_mat, dist_params = return_camera_matrix()"
   ]
  },
  {
   "cell_type": "markdown",
   "metadata": {
    "nbpresent": {
     "id": "903569ec-e524-418b-af5e-f402d6b3ef3b"
    }
   },
   "source": [
    "## Event, Pose tuple"
   ]
  },
  {
   "cell_type": "markdown",
   "metadata": {
    "nbpresent": {
     "id": "799fc47c-8ba4-4b01-bf27-97b1e9d8a4a9"
    }
   },
   "source": [
    "The objective is to get an event and its corresponding pose for that particular time stamp. Since the number of events are huge and the homographies are expensive to compute, a batch of 256 events is assigned the same pose information. "
   ]
  },
  {
   "cell_type": "code",
   "execution_count": 49,
   "metadata": {
    "nbpresent": {
     "id": "08d4f60b-466c-45ad-b7ad-e2c6ab14d170"
    }
   },
   "outputs": [],
   "source": [
    "from itertools import islice\n",
    "def return_event_batch(batch_number, filename='events.txt', batch_size = 256):\n",
    "    events=[]\n",
    "    file = open(data_path +'/' + filename, \"r\")\n",
    "    head = list(islice(file, batch_number * batch_size, (batch_number + 1)*batch_size))\n",
    "    #return timestamp of first event in the batch\n",
    "    event_start_time = list(map(float,head[0].split()))[0] \n",
    "    for line in head:\n",
    "        events.append(list(map(float,line.split())))\n",
    "    file.close()\n",
    "    return events, event_start_time"
   ]
  },
  {
   "cell_type": "code",
   "execution_count": 55,
   "metadata": {
    "nbpresent": {
     "id": "3a969ca7-8b2c-48cf-8410-4e5eaedde960"
    }
   },
   "outputs": [
    {
     "name": "stdout",
     "output_type": "stream",
     "text": [
      "0.048514001\n"
     ]
    }
   ],
   "source": [
    "events, event_start_time = return_event_batch(batch_number=40)\n",
    "print(event_start_time)"
   ]
  },
  {
   "cell_type": "markdown",
   "metadata": {
    "nbpresent": {
     "id": "83e690d8-1f07-44c0-802e-810a700fab05"
    }
   },
   "source": [
    "The pose is sampled at frequencies lower than the event data. In order to capture pose information for an event at some timestamp, it is thus necessary to linearly interpolate the pose data for that timestamp. As the trajectory is continuous and the sampling time is very small, we can assume the path between two timesteps to be fairly linear."
   ]
  },
  {
   "cell_type": "code",
   "execution_count": 64,
   "metadata": {
    "nbpresent": {
     "id": "f521d426-e19d-4e56-b326-bd2681652ec1"
    }
   },
   "outputs": [],
   "source": [
    "def get_ground_truth_pose(event_start_time, filename='groundtruth.txt'):\n",
    "    ''' This function returns the the groundtruth pose for an event depending on the timestamp \n",
    "    of the input given as input to the function. If pose of the event is linearly interpolated \n",
    "    if the timestamp of the event given falls in between the timestamps of the poses of the two \n",
    "    events\n",
    "    \n",
    "    Parameters:\n",
    "    -----------\n",
    "    event_start_time : <float>\n",
    "        timestamp of event for which pose information is to be estimated\n",
    "    filename : <string>\n",
    "        name of the file containing the groundtruth\n",
    "        \n",
    "    Return:\n",
    "    -------\n",
    "    pose : <list> of format [timestamp, px, py, pz, qx, qy, qz, qw]\n",
    "        Returns a list describing the pose at the timestamp given by the event\n",
    "    \n",
    "    '''\n",
    "    file = open(data_path +'/' + filename, \"r\")\n",
    "    prev_pose = [0, 0, 0, 0, 0, 0, 0, 1]\n",
    "    prev_time = prev_pose[0]  #start with initial time 0s \n",
    "    \n",
    "    for line in file:\n",
    "        current_pose = list(map(float,line.split()))\n",
    "        current_time = current_pose[0]\n",
    "        \n",
    "        if event_start_time == current_time:\n",
    "            return np.array(current_pose) #pose information for that time-step\n",
    "        \n",
    "        elif event_start_time > prev_time and event_start_time < current_time:\n",
    "            print(current_pose)\n",
    "            return linearly_interpolated_pose(current_pose, prev_pose, event_start_time) \n",
    "            \n",
    "        elif event_start_time > current_time:\n",
    "            prev_pose = current_pose\n",
    "            prev_time = prev_pose[0]"
   ]
  },
  {
   "cell_type": "code",
   "execution_count": 65,
   "metadata": {
    "nbpresent": {
     "id": "1e648d98-2cb8-4938-827e-1da24c84e581"
    }
   },
   "outputs": [],
   "source": [
    "def linearly_interpolated_pose(pose_t, pose_t_minus_1, time_bet):\n",
    "    ''' Function to linearly interpolate the quaternion values for the timesteps provided\n",
    "        \n",
    "    '''\n",
    "    # We will doing lerp on quaternions and linear intepolation on the translation vectors\n",
    "    estimated_pose = []\n",
    "    interpolater = time_bet /(pose_t[0] - pose_t_minus_1[0])\n",
    "    \n",
    "    interpolated_translation = interpolater *(np.array(pose_t[1:4]) - np.array(pose_t_minus_1[1:4]))\n",
    "    \n",
    "    \n",
    "    pose_t_minus_1_qt = qt.Quaternion(pose_t_minus_1[7], pose_t_minus_1[4], pose_t_minus_1[5], pose_t_minus_1[6])\n",
    "    pose_t_qt = qt.Quaternion(pose_t[7], pose_t[4], pose_t[5], pose_t[6])\n",
    "    \n",
    "    interpolated_rotation = qt.Quaternion.slerp(pose_t_minus_1_qt, pose_t_qt, interpolater)\n",
    "    \n",
    "    return estimated_pose"
   ]
  },
  {
   "cell_type": "code",
   "execution_count": 66,
   "metadata": {},
   "outputs": [
    {
     "name": "stdout",
     "output_type": "stream",
     "text": [
      "[0.051903182, 0.118854166667, 0.0, 0.0, 0.0, 0.0, 0.0, 1.0]\n",
      "linear interpolation is done for 0.048514001\n"
     ]
    }
   ],
   "source": [
    "interpolated_pose = get_ground_truth_pose(event_start_time)"
   ]
  },
  {
   "cell_type": "code",
   "execution_count": 68,
   "metadata": {},
   "outputs": [],
   "source": []
  },
  {
   "cell_type": "markdown",
   "metadata": {
    "nbpresent": {
     "id": "64284278-45a4-486d-8eeb-aa78fdbb0780"
    }
   },
   "source": [
    "<img src=\"quaternion_dt.png\" alt=\"backprojection\" style=\"width: 400px;\"/>"
   ]
  },
  {
   "cell_type": "markdown",
   "metadata": {
    "nbpresent": {
     "id": "7f4d1aba-bf05-4c83-be59-b59bcfecbc5f"
    }
   },
   "source": [
    "<img src=\"slerp_quaternion.png\" alt=\"backprojection\" style=\"width: 200px;\"/>"
   ]
  },
  {
   "cell_type": "markdown",
   "metadata": {
    "nbpresent": {
     "id": "e24b9c19-ee8a-4881-bdd0-9930eb9f5198"
    }
   },
   "source": [
    "## Stages of Reconstruction"
   ]
  },
  {
   "cell_type": "markdown",
   "metadata": {
    "collapsed": true,
    "nbpresent": {
     "id": "b5eb85aa-7c31-4042-ac2a-fecd401560d9"
    }
   },
   "source": [
    "The algorithm for Event based Multi View Stereo proposed here uses five stages to do the reconstruction. It makes use of the Collins space sweep approach with a few changes. Projective sampling is used instead of uniform sampling. Also the thresholding is Adaptive Gaussian as opposed to Global thresholding used in Collins' algorithm."
   ]
  },
  {
   "cell_type": "markdown",
   "metadata": {
    "nbpresent": {
     "id": "c9fc3361-c0fc-41ca-84d0-41c31b489819"
    }
   },
   "source": [
    "### Stage 1: Backprojection"
   ]
  },
  {
   "cell_type": "markdown",
   "metadata": {
    "nbpresent": {
     "id": "091fc50b-a223-42a8-9848-5a171171f188"
    }
   },
   "source": [
    "The 2-D points in the event stream are backprojected into a 3-D space. Since the event camera detects only edges, we can assume the rays corresponding to the same feature would intersect/ go very close to each in some unit volume."
   ]
  },
  {
   "cell_type": "markdown",
   "metadata": {
    "nbpresent": {
     "id": "882cd67b-6bb6-4847-87f5-29aad451ee5d"
    }
   },
   "source": [
    "<img src=\"backprojection.png\" alt=\"backprojection\" style=\"width: 400px;\"/>\n"
   ]
  },
  {
   "cell_type": "markdown",
   "metadata": {
    "nbpresent": {
     "id": "a391a6b6-c3f2-4ba3-9d2c-72c62cfe90e0"
    }
   },
   "source": [
    "### Stage 2: Volumetric Ray Counting"
   ]
  },
  {
   "cell_type": "markdown",
   "metadata": {
    "nbpresent": {
     "id": "40bb9fdf-6fb7-4ab0-9e61-9b252f10b615"
    }
   },
   "source": [
    "We assume our backprojected rays from different views to pass through some 3-D Volume divided into voxels. A scoring function is associated with each voxel. The score of each voxel is determined by the number of rays passing through it. It is given as shown below. <b>X</b> is the co-ordinate of the centre of a voxel."
   ]
  },
  {
   "cell_type": "markdown",
   "metadata": {
    "nbpresent": {
     "id": "f9eb0aae-3db6-469d-8118-73a3037fe92d"
    }
   },
   "source": [
    "<img src=\"scoring.png\" alt=\"scoring\" style=\"width: 200px;\"/>"
   ]
  },
  {
   "cell_type": "markdown",
   "metadata": {
    "nbpresent": {
     "id": "0ad92ffc-a682-4e31-9f75-5f84d9fab10c"
    }
   },
   "source": [
    "### Stage 3: Voting"
   ]
  },
  {
   "cell_type": "markdown",
   "metadata": {
    "nbpresent": {
     "id": "6a3d2c3f-4ad7-4726-bae1-9a73d352b6ae"
    }
   },
   "source": [
    "Local maxima of <b>f(X)</b> is determined here. It is done by by using adaptive gaussian thresholding on the confidence map c(x,y). After this procedure a scene structure should have been formed."
   ]
  },
  {
   "cell_type": "code",
   "execution_count": 9,
   "metadata": {
    "collapsed": true,
    "nbpresent": {
     "id": "415fd80f-197b-41c2-a320-3cb56bf74584"
    }
   },
   "outputs": [],
   "source": [
    "def adaptive_gaussian_thresholding():\n",
    "    pass"
   ]
  },
  {
   "cell_type": "markdown",
   "metadata": {
    "nbpresent": {
     "id": "16d1fb2d-cdf8-4be7-8ece-37998f641c97"
    }
   },
   "source": [
    "### Stage 4: Scene Merging"
   ]
  },
  {
   "cell_type": "markdown",
   "metadata": {
    "nbpresent": {
     "id": "f1b17e78-61b1-4b4d-a967-1854d7ca9d89"
    }
   },
   "source": [
    "This is used to merge scenes obtained while the camera is moving. The key reference view is changed when the distance moved by the camera w.r.t to the reference view exceeds some percentage of the mean scene depth (15 to 40%)"
   ]
  },
  {
   "cell_type": "markdown",
   "metadata": {
    "nbpresent": {
     "id": "e243fce1-06d6-4298-902f-3315b664079d"
    }
   },
   "source": [
    "### Stage 5: Cleaning"
   ]
  },
  {
   "cell_type": "markdown",
   "metadata": {
    "nbpresent": {
     "id": "14e04e99-6b89-49a7-9c15-87f2c41b3635"
    }
   },
   "source": [
    "The edges obtained are cleaned using median filters and radius filters"
   ]
  },
  {
   "cell_type": "code",
   "execution_count": 15,
   "metadata": {
    "collapsed": true,
    "nbpresent": {
     "id": "4f3fdcef-0cff-4292-b98b-16a2b8e2f3d8"
    }
   },
   "outputs": [],
   "source": [
    "def radius_filter():\n",
    "    pass"
   ]
  },
  {
   "cell_type": "code",
   "execution_count": 18,
   "metadata": {
    "collapsed": true,
    "nbpresent": {
     "id": "0917affd-3569-443c-8b5b-d302a8a20764"
    }
   },
   "outputs": [],
   "source": [
    "def median_filter():\n",
    "    pass"
   ]
  },
  {
   "cell_type": "markdown",
   "metadata": {
    "nbpresent": {
     "id": "6e02862b-9b24-48ac-8a4b-5e001eb1e101"
    }
   },
   "source": [
    "## The Algorithm"
   ]
  },
  {
   "cell_type": "markdown",
   "metadata": {
    "nbpresent": {
     "id": "deb3631d-a1a5-4ec2-90e1-dae819fe2df8"
    }
   },
   "source": [
    "The algorithm given by Rebecq et al. is as shown below. Note that there are some guidelines given by Rebecq et al. to speed up computations which must be followed."
   ]
  },
  {
   "cell_type": "markdown",
   "metadata": {
    "nbpresent": {
     "id": "00010dae-7830-4e2b-8d24-52c1363ea3b7"
    }
   },
   "source": [
    "<img src=\"algorithm.png\" alt=\"The Algorithm\" style=\"width: 400px;\" align='left'/>"
   ]
  },
  {
   "cell_type": "code",
   "execution_count": 10,
   "metadata": {
    "collapsed": true,
    "nbpresent": {
     "id": "39b9d06c-6e58-418b-a2ad-2d3a26f852f1"
    }
   },
   "outputs": [],
   "source": [
    "def bundle_events():\n",
    "    '''Homography matrices are expensive to compute. \n",
    "       Make batches of n-events so that they can share the same Homography matrix.\n",
    "       '''\n",
    "    pass"
   ]
  },
  {
   "cell_type": "code",
   "execution_count": 13,
   "metadata": {
    "collapsed": true,
    "nbpresent": {
     "id": "973a46ca-01ed-4025-9da5-13d87aeea5af"
    }
   },
   "outputs": [],
   "source": [
    "Z = 100 #number of depth planes\n"
   ]
  },
  {
   "cell_type": "code",
   "execution_count": null,
   "metadata": {
    "collapsed": true,
    "nbpresent": {
     "id": "e1655d99-a2e0-4c42-8d87-86764fff146c"
    }
   },
   "outputs": [],
   "source": []
  }
 ],
 "metadata": {
  "kernelspec": {
   "display_name": "Python [default]",
   "language": "python",
   "name": "python3"
  },
  "language_info": {
   "codemirror_mode": {
    "name": "ipython",
    "version": 3
   },
   "file_extension": ".py",
   "mimetype": "text/x-python",
   "name": "python",
   "nbconvert_exporter": "python",
   "pygments_lexer": "ipython3",
   "version": "3.6.6"
  },
  "nbpresent": {
   "slides": {},
   "themes": {
    "default": "cb7e9bda-a09d-4a28-99eb-1f36cf158f23",
    "theme": {
     "316d550c-4e7f-4ce5-96dc-daa6b6828f96": {
      "backgrounds": {
       "backgroundColor": {
        "background-color": "backgroundColor",
        "id": "backgroundColor"
       }
      },
      "id": "316d550c-4e7f-4ce5-96dc-daa6b6828f96",
      "palette": {
       "backgroundColor": {
        "id": "backgroundColor",
        "rgb": [
         34,
         34,
         34
        ]
       },
       "headingColor": {
        "id": "headingColor",
        "rgb": [
         256,
         256,
         256
        ]
       },
       "linkColor": {
        "id": "linkColor",
        "rgb": [
         66,
         175,
         250
        ]
       },
       "mainColor": {
        "id": "mainColor",
        "rgb": [
         256,
         256,
         256
        ]
       }
      },
      "rules": {
       "a": {
        "color": "linkColor"
       },
       "h1": {
        "color": "headingColor",
        "font-family": "Source Sans Pro",
        "font-size": 5.25
       },
       "h2": {
        "color": "headingColor",
        "font-family": "Source Sans Pro",
        "font-size": 4
       },
       "h3": {
        "color": "headingColor",
        "font-family": "Source Sans Pro",
        "font-size": 3.5
       },
       "h4": {
        "color": "headingColor",
        "font-family": "Source Sans Pro",
        "font-size": 3
       },
       "h5": {
        "color": "headingColor",
        "font-family": "Source Sans Pro"
       },
       "h6": {
        "color": "headingColor",
        "font-family": "Source Sans Pro"
       },
       "h7": {
        "color": "headingColor",
        "font-family": "Source Sans Pro"
       },
       "li": {
        "color": "mainColor",
        "font-family": "Source Sans Pro",
        "font-size": 6
       },
       "p": {
        "color": "mainColor",
        "font-family": "Source Sans Pro",
        "font-size": 6
       }
      },
      "text-base": {
       "color": "mainColor",
       "font-family": "Source Sans Pro",
       "font-size": 6
      }
     },
     "cb7e9bda-a09d-4a28-99eb-1f36cf158f23": {
      "backgrounds": {
       "backgroundColor": {
        "background-color": "backgroundColor",
        "id": "backgroundColor"
       }
      },
      "id": "cb7e9bda-a09d-4a28-99eb-1f36cf158f23",
      "palette": {
       "backgroundColor": {
        "id": "backgroundColor",
        "rgb": [
         256,
         256,
         256
        ]
       },
       "headingColor": {
        "id": "headingColor",
        "rgb": [
         0,
         0,
         0
        ]
       },
       "linkColor": {
        "id": "linkColor",
        "rgb": [
         0,
         0,
         139
        ]
       },
       "mainColor": {
        "id": "mainColor",
        "rgb": [
         0,
         0,
         0
        ]
       }
      },
      "rules": {
       "a": {
        "color": "linkColor"
       },
       "h1": {
        "color": "headingColor",
        "font-family": "News Cycle",
        "font-size": 7
       },
       "h2": {
        "color": "headingColor",
        "font-family": "News Cycle",
        "font-size": 5
       },
       "h3": {
        "color": "headingColor",
        "font-family": "News Cycle",
        "font-size": 3.75
       },
       "h4": {
        "color": "headingColor",
        "font-family": "News Cycle",
        "font-size": 3
       },
       "h5": {
        "color": "headingColor",
        "font-family": "News Cycle"
       },
       "h6": {
        "color": "headingColor",
        "font-family": "News Cycle"
       },
       "h7": {
        "color": "headingColor",
        "font-family": "News Cycle"
       },
       "li": {
        "color": "mainColor",
        "font-family": "Lato",
        "font-size": 5
       },
       "p": {
        "color": "mainColor",
        "font-family": "Lato",
        "font-size": 5
       }
      },
      "text-base": {
       "color": "mainColor",
       "font-family": "Lato",
       "font-size": 5
      }
     }
    }
   }
  }
 },
 "nbformat": 4,
 "nbformat_minor": 2
}
