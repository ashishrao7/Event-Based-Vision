{
 "cells": [
  {
   "cell_type": "markdown",
   "metadata": {
    "nbpresent": {
     "id": "458955dd-4b7a-42e0-a81e-3bfda063205d"
    },
    "slideshow": {
     "slide_type": "slide"
    }
   },
   "source": [
    "### Rebecq, H., Gallego, G., Mueggler, E., and Scaramuzza, D. (2017). EMVS: Event-Based Multi-View Stereo—3D Reconstruction with an Event Camera in Real-Time. International Journal of Computer Vision 1–21."
   ]
  },
  {
   "cell_type": "markdown",
   "metadata": {
    "nbpresent": {
     "id": "ced8ae4b-41bb-45e1-b6f8-8544490a39c2"
    },
    "slideshow": {
     "slide_type": "fragment"
    }
   },
   "source": [
    "This notebook is an implementation of the above paper on semi-dense 3D reconstruction of a scene using back projection methods. The scene data is captured using an event camera. "
   ]
  },
  {
   "cell_type": "code",
   "execution_count": 1,
   "metadata": {
    "nbpresent": {
     "id": "77d1eb0e-41c4-4247-859b-acab4d426bd3"
    },
    "slideshow": {
     "slide_type": "subslide"
    }
   },
   "outputs": [],
   "source": [
    "import cv2\n",
    "import os\n",
    "import scipy\n",
    "import numpy as np\n",
    "import matplotlib.pyplot as plt\n",
    "import time\n",
    "import pyquaternion as qt\n",
    "%matplotlib notebook\n",
    "data_path = 'data/slider_depth'"
   ]
  },
  {
   "cell_type": "markdown",
   "metadata": {
    "nbpresent": {
     "id": "7b098df0-6fd1-4de5-ae84-4351a8b2a3e2"
    },
    "slideshow": {
     "slide_type": "slide"
    }
   },
   "source": [
    "## Table of Contents\n",
    "[1. Scene Video(optional)](#scene_video)\n",
    "\n",
    "[2. Data Available and Data format](#data)\n",
    "    \n",
    "   &nbsp;&nbsp;&nbsp;&nbsp;&nbsp;[2.1 Camera Matrix](#cam_mat)\n",
    "   \n",
    "   &nbsp;&nbsp;&nbsp;&nbsp;&nbsp;[2.2 Obtaining pose information relevant to events under consideration from the groundtruth files](#event_data)\n",
    " \n",
    "[3. Stages of Reconstruction](#stages)\n",
    "\n",
    "   &nbsp;&nbsp;&nbsp;&nbsp;&nbsp;[3.1 Back-Projection](#stage_1)\n",
    "   \n",
    "   &nbsp;&nbsp;&nbsp;&nbsp;&nbsp;[3.2 Ray-Counting](#stage_2)\n",
    "   \n",
    "   &nbsp;&nbsp;&nbsp;&nbsp;&nbsp;[3.3 Voting](#stage_3)\n",
    "   \n",
    "   &nbsp;&nbsp;&nbsp;&nbsp;&nbsp;[3.4 Scene Restructuring](#stage_4)\n",
    "   \n",
    "   &nbsp;&nbsp;&nbsp;&nbsp;&nbsp;[3.5 Cleaning](#stage_5)\n",
    "   \n",
    "    \n",
    "[4. Algorithm](#algorithm)\n",
    "\n",
    "   &nbsp;&nbsp;&nbsp;&nbsp;&nbsp;[4.1 Pictorial Representation of the Algorithm](#algo_pic)\n",
    "\n",
    "[5. The Main Function](#main)"
   ]
  },
  {
   "cell_type": "markdown",
   "metadata": {
    "nbpresent": {
     "id": "3b7e6e0a-2698-48f4-b1cf-0da86501ea0e"
    },
    "slideshow": {
     "slide_type": "slide"
    }
   },
   "source": [
    "<a id=\"scene_video\"></a>\n",
    "## 1. Scene Video\n"
   ]
  },
  {
   "cell_type": "markdown",
   "metadata": {
    "nbpresent": {
     "id": "a9d159c7-398b-46c9-b7fc-0cb84c9772a7"
    },
    "slideshow": {
     "slide_type": "fragment"
    }
   },
   "source": [
    "The DAVIS camera has a conventional image capturing system along with the event based system. While we shall not be using the conventional stream during our implementation, the conventional stream of data helps the user visualize the scene that is undergoing reconstruction."
   ]
  },
  {
   "cell_type": "code",
   "execution_count": 2,
   "metadata": {
    "nbpresent": {
     "id": "1502a5a3-4567-48c8-a515-6892d330fcb8"
    },
    "slideshow": {
     "slide_type": "subslide"
    }
   },
   "outputs": [],
   "source": [
    "normal_img_path = data_path + '/images'\n",
    "normal_imgs = [normal_img_path + \"/\" + img for img in os.listdir(normal_img_path) if img.endswith(\".png\")]\n",
    "normal_imgs.sort()"
   ]
  },
  {
   "cell_type": "code",
   "execution_count": 5,
   "metadata": {
    "nbpresent": {
     "id": "46485b54-7a29-48ec-b4a6-24396d33c26b"
    },
    "slideshow": {
     "slide_type": "subslide"
    }
   },
   "outputs": [
    {
     "data": {
      "application/javascript": [
       "/* Put everything inside the global mpl namespace */\n",
       "window.mpl = {};\n",
       "\n",
       "\n",
       "mpl.get_websocket_type = function() {\n",
       "    if (typeof(WebSocket) !== 'undefined') {\n",
       "        return WebSocket;\n",
       "    } else if (typeof(MozWebSocket) !== 'undefined') {\n",
       "        return MozWebSocket;\n",
       "    } else {\n",
       "        alert('Your browser does not have WebSocket support.' +\n",
       "              'Please try Chrome, Safari or Firefox ≥ 6. ' +\n",
       "              'Firefox 4 and 5 are also supported but you ' +\n",
       "              'have to enable WebSockets in about:config.');\n",
       "    };\n",
       "}\n",
       "\n",
       "mpl.figure = function(figure_id, websocket, ondownload, parent_element) {\n",
       "    this.id = figure_id;\n",
       "\n",
       "    this.ws = websocket;\n",
       "\n",
       "    this.supports_binary = (this.ws.binaryType != undefined);\n",
       "\n",
       "    if (!this.supports_binary) {\n",
       "        var warnings = document.getElementById(\"mpl-warnings\");\n",
       "        if (warnings) {\n",
       "            warnings.style.display = 'block';\n",
       "            warnings.textContent = (\n",
       "                \"This browser does not support binary websocket messages. \" +\n",
       "                    \"Performance may be slow.\");\n",
       "        }\n",
       "    }\n",
       "\n",
       "    this.imageObj = new Image();\n",
       "\n",
       "    this.context = undefined;\n",
       "    this.message = undefined;\n",
       "    this.canvas = undefined;\n",
       "    this.rubberband_canvas = undefined;\n",
       "    this.rubberband_context = undefined;\n",
       "    this.format_dropdown = undefined;\n",
       "\n",
       "    this.image_mode = 'full';\n",
       "\n",
       "    this.root = $('<div/>');\n",
       "    this._root_extra_style(this.root)\n",
       "    this.root.attr('style', 'display: inline-block');\n",
       "\n",
       "    $(parent_element).append(this.root);\n",
       "\n",
       "    this._init_header(this);\n",
       "    this._init_canvas(this);\n",
       "    this._init_toolbar(this);\n",
       "\n",
       "    var fig = this;\n",
       "\n",
       "    this.waiting = false;\n",
       "\n",
       "    this.ws.onopen =  function () {\n",
       "            fig.send_message(\"supports_binary\", {value: fig.supports_binary});\n",
       "            fig.send_message(\"send_image_mode\", {});\n",
       "            if (mpl.ratio != 1) {\n",
       "                fig.send_message(\"set_dpi_ratio\", {'dpi_ratio': mpl.ratio});\n",
       "            }\n",
       "            fig.send_message(\"refresh\", {});\n",
       "        }\n",
       "\n",
       "    this.imageObj.onload = function() {\n",
       "            if (fig.image_mode == 'full') {\n",
       "                // Full images could contain transparency (where diff images\n",
       "                // almost always do), so we need to clear the canvas so that\n",
       "                // there is no ghosting.\n",
       "                fig.context.clearRect(0, 0, fig.canvas.width, fig.canvas.height);\n",
       "            }\n",
       "            fig.context.drawImage(fig.imageObj, 0, 0);\n",
       "        };\n",
       "\n",
       "    this.imageObj.onunload = function() {\n",
       "        fig.ws.close();\n",
       "    }\n",
       "\n",
       "    this.ws.onmessage = this._make_on_message_function(this);\n",
       "\n",
       "    this.ondownload = ondownload;\n",
       "}\n",
       "\n",
       "mpl.figure.prototype._init_header = function() {\n",
       "    var titlebar = $(\n",
       "        '<div class=\"ui-dialog-titlebar ui-widget-header ui-corner-all ' +\n",
       "        'ui-helper-clearfix\"/>');\n",
       "    var titletext = $(\n",
       "        '<div class=\"ui-dialog-title\" style=\"width: 100%; ' +\n",
       "        'text-align: center; padding: 3px;\"/>');\n",
       "    titlebar.append(titletext)\n",
       "    this.root.append(titlebar);\n",
       "    this.header = titletext[0];\n",
       "}\n",
       "\n",
       "\n",
       "\n",
       "mpl.figure.prototype._canvas_extra_style = function(canvas_div) {\n",
       "\n",
       "}\n",
       "\n",
       "\n",
       "mpl.figure.prototype._root_extra_style = function(canvas_div) {\n",
       "\n",
       "}\n",
       "\n",
       "mpl.figure.prototype._init_canvas = function() {\n",
       "    var fig = this;\n",
       "\n",
       "    var canvas_div = $('<div/>');\n",
       "\n",
       "    canvas_div.attr('style', 'position: relative; clear: both; outline: 0');\n",
       "\n",
       "    function canvas_keyboard_event(event) {\n",
       "        return fig.key_event(event, event['data']);\n",
       "    }\n",
       "\n",
       "    canvas_div.keydown('key_press', canvas_keyboard_event);\n",
       "    canvas_div.keyup('key_release', canvas_keyboard_event);\n",
       "    this.canvas_div = canvas_div\n",
       "    this._canvas_extra_style(canvas_div)\n",
       "    this.root.append(canvas_div);\n",
       "\n",
       "    var canvas = $('<canvas/>');\n",
       "    canvas.addClass('mpl-canvas');\n",
       "    canvas.attr('style', \"left: 0; top: 0; z-index: 0; outline: 0\")\n",
       "\n",
       "    this.canvas = canvas[0];\n",
       "    this.context = canvas[0].getContext(\"2d\");\n",
       "\n",
       "    var backingStore = this.context.backingStorePixelRatio ||\n",
       "\tthis.context.webkitBackingStorePixelRatio ||\n",
       "\tthis.context.mozBackingStorePixelRatio ||\n",
       "\tthis.context.msBackingStorePixelRatio ||\n",
       "\tthis.context.oBackingStorePixelRatio ||\n",
       "\tthis.context.backingStorePixelRatio || 1;\n",
       "\n",
       "    mpl.ratio = (window.devicePixelRatio || 1) / backingStore;\n",
       "\n",
       "    var rubberband = $('<canvas/>');\n",
       "    rubberband.attr('style', \"position: absolute; left: 0; top: 0; z-index: 1;\")\n",
       "\n",
       "    var pass_mouse_events = true;\n",
       "\n",
       "    canvas_div.resizable({\n",
       "        start: function(event, ui) {\n",
       "            pass_mouse_events = false;\n",
       "        },\n",
       "        resize: function(event, ui) {\n",
       "            fig.request_resize(ui.size.width, ui.size.height);\n",
       "        },\n",
       "        stop: function(event, ui) {\n",
       "            pass_mouse_events = true;\n",
       "            fig.request_resize(ui.size.width, ui.size.height);\n",
       "        },\n",
       "    });\n",
       "\n",
       "    function mouse_event_fn(event) {\n",
       "        if (pass_mouse_events)\n",
       "            return fig.mouse_event(event, event['data']);\n",
       "    }\n",
       "\n",
       "    rubberband.mousedown('button_press', mouse_event_fn);\n",
       "    rubberband.mouseup('button_release', mouse_event_fn);\n",
       "    // Throttle sequential mouse events to 1 every 20ms.\n",
       "    rubberband.mousemove('motion_notify', mouse_event_fn);\n",
       "\n",
       "    rubberband.mouseenter('figure_enter', mouse_event_fn);\n",
       "    rubberband.mouseleave('figure_leave', mouse_event_fn);\n",
       "\n",
       "    canvas_div.on(\"wheel\", function (event) {\n",
       "        event = event.originalEvent;\n",
       "        event['data'] = 'scroll'\n",
       "        if (event.deltaY < 0) {\n",
       "            event.step = 1;\n",
       "        } else {\n",
       "            event.step = -1;\n",
       "        }\n",
       "        mouse_event_fn(event);\n",
       "    });\n",
       "\n",
       "    canvas_div.append(canvas);\n",
       "    canvas_div.append(rubberband);\n",
       "\n",
       "    this.rubberband = rubberband;\n",
       "    this.rubberband_canvas = rubberband[0];\n",
       "    this.rubberband_context = rubberband[0].getContext(\"2d\");\n",
       "    this.rubberband_context.strokeStyle = \"#000000\";\n",
       "\n",
       "    this._resize_canvas = function(width, height) {\n",
       "        // Keep the size of the canvas, canvas container, and rubber band\n",
       "        // canvas in synch.\n",
       "        canvas_div.css('width', width)\n",
       "        canvas_div.css('height', height)\n",
       "\n",
       "        canvas.attr('width', width * mpl.ratio);\n",
       "        canvas.attr('height', height * mpl.ratio);\n",
       "        canvas.attr('style', 'width: ' + width + 'px; height: ' + height + 'px;');\n",
       "\n",
       "        rubberband.attr('width', width);\n",
       "        rubberband.attr('height', height);\n",
       "    }\n",
       "\n",
       "    // Set the figure to an initial 600x600px, this will subsequently be updated\n",
       "    // upon first draw.\n",
       "    this._resize_canvas(600, 600);\n",
       "\n",
       "    // Disable right mouse context menu.\n",
       "    $(this.rubberband_canvas).bind(\"contextmenu\",function(e){\n",
       "        return false;\n",
       "    });\n",
       "\n",
       "    function set_focus () {\n",
       "        canvas.focus();\n",
       "        canvas_div.focus();\n",
       "    }\n",
       "\n",
       "    window.setTimeout(set_focus, 100);\n",
       "}\n",
       "\n",
       "mpl.figure.prototype._init_toolbar = function() {\n",
       "    var fig = this;\n",
       "\n",
       "    var nav_element = $('<div/>')\n",
       "    nav_element.attr('style', 'width: 100%');\n",
       "    this.root.append(nav_element);\n",
       "\n",
       "    // Define a callback function for later on.\n",
       "    function toolbar_event(event) {\n",
       "        return fig.toolbar_button_onclick(event['data']);\n",
       "    }\n",
       "    function toolbar_mouse_event(event) {\n",
       "        return fig.toolbar_button_onmouseover(event['data']);\n",
       "    }\n",
       "\n",
       "    for(var toolbar_ind in mpl.toolbar_items) {\n",
       "        var name = mpl.toolbar_items[toolbar_ind][0];\n",
       "        var tooltip = mpl.toolbar_items[toolbar_ind][1];\n",
       "        var image = mpl.toolbar_items[toolbar_ind][2];\n",
       "        var method_name = mpl.toolbar_items[toolbar_ind][3];\n",
       "\n",
       "        if (!name) {\n",
       "            // put a spacer in here.\n",
       "            continue;\n",
       "        }\n",
       "        var button = $('<button/>');\n",
       "        button.addClass('ui-button ui-widget ui-state-default ui-corner-all ' +\n",
       "                        'ui-button-icon-only');\n",
       "        button.attr('role', 'button');\n",
       "        button.attr('aria-disabled', 'false');\n",
       "        button.click(method_name, toolbar_event);\n",
       "        button.mouseover(tooltip, toolbar_mouse_event);\n",
       "\n",
       "        var icon_img = $('<span/>');\n",
       "        icon_img.addClass('ui-button-icon-primary ui-icon');\n",
       "        icon_img.addClass(image);\n",
       "        icon_img.addClass('ui-corner-all');\n",
       "\n",
       "        var tooltip_span = $('<span/>');\n",
       "        tooltip_span.addClass('ui-button-text');\n",
       "        tooltip_span.html(tooltip);\n",
       "\n",
       "        button.append(icon_img);\n",
       "        button.append(tooltip_span);\n",
       "\n",
       "        nav_element.append(button);\n",
       "    }\n",
       "\n",
       "    var fmt_picker_span = $('<span/>');\n",
       "\n",
       "    var fmt_picker = $('<select/>');\n",
       "    fmt_picker.addClass('mpl-toolbar-option ui-widget ui-widget-content');\n",
       "    fmt_picker_span.append(fmt_picker);\n",
       "    nav_element.append(fmt_picker_span);\n",
       "    this.format_dropdown = fmt_picker[0];\n",
       "\n",
       "    for (var ind in mpl.extensions) {\n",
       "        var fmt = mpl.extensions[ind];\n",
       "        var option = $(\n",
       "            '<option/>', {selected: fmt === mpl.default_extension}).html(fmt);\n",
       "        fmt_picker.append(option)\n",
       "    }\n",
       "\n",
       "    // Add hover states to the ui-buttons\n",
       "    $( \".ui-button\" ).hover(\n",
       "        function() { $(this).addClass(\"ui-state-hover\");},\n",
       "        function() { $(this).removeClass(\"ui-state-hover\");}\n",
       "    );\n",
       "\n",
       "    var status_bar = $('<span class=\"mpl-message\"/>');\n",
       "    nav_element.append(status_bar);\n",
       "    this.message = status_bar[0];\n",
       "}\n",
       "\n",
       "mpl.figure.prototype.request_resize = function(x_pixels, y_pixels) {\n",
       "    // Request matplotlib to resize the figure. Matplotlib will then trigger a resize in the client,\n",
       "    // which will in turn request a refresh of the image.\n",
       "    this.send_message('resize', {'width': x_pixels, 'height': y_pixels});\n",
       "}\n",
       "\n",
       "mpl.figure.prototype.send_message = function(type, properties) {\n",
       "    properties['type'] = type;\n",
       "    properties['figure_id'] = this.id;\n",
       "    this.ws.send(JSON.stringify(properties));\n",
       "}\n",
       "\n",
       "mpl.figure.prototype.send_draw_message = function() {\n",
       "    if (!this.waiting) {\n",
       "        this.waiting = true;\n",
       "        this.ws.send(JSON.stringify({type: \"draw\", figure_id: this.id}));\n",
       "    }\n",
       "}\n",
       "\n",
       "\n",
       "mpl.figure.prototype.handle_save = function(fig, msg) {\n",
       "    var format_dropdown = fig.format_dropdown;\n",
       "    var format = format_dropdown.options[format_dropdown.selectedIndex].value;\n",
       "    fig.ondownload(fig, format);\n",
       "}\n",
       "\n",
       "\n",
       "mpl.figure.prototype.handle_resize = function(fig, msg) {\n",
       "    var size = msg['size'];\n",
       "    if (size[0] != fig.canvas.width || size[1] != fig.canvas.height) {\n",
       "        fig._resize_canvas(size[0], size[1]);\n",
       "        fig.send_message(\"refresh\", {});\n",
       "    };\n",
       "}\n",
       "\n",
       "mpl.figure.prototype.handle_rubberband = function(fig, msg) {\n",
       "    var x0 = msg['x0'] / mpl.ratio;\n",
       "    var y0 = (fig.canvas.height - msg['y0']) / mpl.ratio;\n",
       "    var x1 = msg['x1'] / mpl.ratio;\n",
       "    var y1 = (fig.canvas.height - msg['y1']) / mpl.ratio;\n",
       "    x0 = Math.floor(x0) + 0.5;\n",
       "    y0 = Math.floor(y0) + 0.5;\n",
       "    x1 = Math.floor(x1) + 0.5;\n",
       "    y1 = Math.floor(y1) + 0.5;\n",
       "    var min_x = Math.min(x0, x1);\n",
       "    var min_y = Math.min(y0, y1);\n",
       "    var width = Math.abs(x1 - x0);\n",
       "    var height = Math.abs(y1 - y0);\n",
       "\n",
       "    fig.rubberband_context.clearRect(\n",
       "        0, 0, fig.canvas.width, fig.canvas.height);\n",
       "\n",
       "    fig.rubberband_context.strokeRect(min_x, min_y, width, height);\n",
       "}\n",
       "\n",
       "mpl.figure.prototype.handle_figure_label = function(fig, msg) {\n",
       "    // Updates the figure title.\n",
       "    fig.header.textContent = msg['label'];\n",
       "}\n",
       "\n",
       "mpl.figure.prototype.handle_cursor = function(fig, msg) {\n",
       "    var cursor = msg['cursor'];\n",
       "    switch(cursor)\n",
       "    {\n",
       "    case 0:\n",
       "        cursor = 'pointer';\n",
       "        break;\n",
       "    case 1:\n",
       "        cursor = 'default';\n",
       "        break;\n",
       "    case 2:\n",
       "        cursor = 'crosshair';\n",
       "        break;\n",
       "    case 3:\n",
       "        cursor = 'move';\n",
       "        break;\n",
       "    }\n",
       "    fig.rubberband_canvas.style.cursor = cursor;\n",
       "}\n",
       "\n",
       "mpl.figure.prototype.handle_message = function(fig, msg) {\n",
       "    fig.message.textContent = msg['message'];\n",
       "}\n",
       "\n",
       "mpl.figure.prototype.handle_draw = function(fig, msg) {\n",
       "    // Request the server to send over a new figure.\n",
       "    fig.send_draw_message();\n",
       "}\n",
       "\n",
       "mpl.figure.prototype.handle_image_mode = function(fig, msg) {\n",
       "    fig.image_mode = msg['mode'];\n",
       "}\n",
       "\n",
       "mpl.figure.prototype.updated_canvas_event = function() {\n",
       "    // Called whenever the canvas gets updated.\n",
       "    this.send_message(\"ack\", {});\n",
       "}\n",
       "\n",
       "// A function to construct a web socket function for onmessage handling.\n",
       "// Called in the figure constructor.\n",
       "mpl.figure.prototype._make_on_message_function = function(fig) {\n",
       "    return function socket_on_message(evt) {\n",
       "        if (evt.data instanceof Blob) {\n",
       "            /* FIXME: We get \"Resource interpreted as Image but\n",
       "             * transferred with MIME type text/plain:\" errors on\n",
       "             * Chrome.  But how to set the MIME type?  It doesn't seem\n",
       "             * to be part of the websocket stream */\n",
       "            evt.data.type = \"image/png\";\n",
       "\n",
       "            /* Free the memory for the previous frames */\n",
       "            if (fig.imageObj.src) {\n",
       "                (window.URL || window.webkitURL).revokeObjectURL(\n",
       "                    fig.imageObj.src);\n",
       "            }\n",
       "\n",
       "            fig.imageObj.src = (window.URL || window.webkitURL).createObjectURL(\n",
       "                evt.data);\n",
       "            fig.updated_canvas_event();\n",
       "            fig.waiting = false;\n",
       "            return;\n",
       "        }\n",
       "        else if (typeof evt.data === 'string' && evt.data.slice(0, 21) == \"data:image/png;base64\") {\n",
       "            fig.imageObj.src = evt.data;\n",
       "            fig.updated_canvas_event();\n",
       "            fig.waiting = false;\n",
       "            return;\n",
       "        }\n",
       "\n",
       "        var msg = JSON.parse(evt.data);\n",
       "        var msg_type = msg['type'];\n",
       "\n",
       "        // Call the  \"handle_{type}\" callback, which takes\n",
       "        // the figure and JSON message as its only arguments.\n",
       "        try {\n",
       "            var callback = fig[\"handle_\" + msg_type];\n",
       "        } catch (e) {\n",
       "            console.log(\"No handler for the '\" + msg_type + \"' message type: \", msg);\n",
       "            return;\n",
       "        }\n",
       "\n",
       "        if (callback) {\n",
       "            try {\n",
       "                // console.log(\"Handling '\" + msg_type + \"' message: \", msg);\n",
       "                callback(fig, msg);\n",
       "            } catch (e) {\n",
       "                console.log(\"Exception inside the 'handler_\" + msg_type + \"' callback:\", e, e.stack, msg);\n",
       "            }\n",
       "        }\n",
       "    };\n",
       "}\n",
       "\n",
       "// from http://stackoverflow.com/questions/1114465/getting-mouse-location-in-canvas\n",
       "mpl.findpos = function(e) {\n",
       "    //this section is from http://www.quirksmode.org/js/events_properties.html\n",
       "    var targ;\n",
       "    if (!e)\n",
       "        e = window.event;\n",
       "    if (e.target)\n",
       "        targ = e.target;\n",
       "    else if (e.srcElement)\n",
       "        targ = e.srcElement;\n",
       "    if (targ.nodeType == 3) // defeat Safari bug\n",
       "        targ = targ.parentNode;\n",
       "\n",
       "    // jQuery normalizes the pageX and pageY\n",
       "    // pageX,Y are the mouse positions relative to the document\n",
       "    // offset() returns the position of the element relative to the document\n",
       "    var x = e.pageX - $(targ).offset().left;\n",
       "    var y = e.pageY - $(targ).offset().top;\n",
       "\n",
       "    return {\"x\": x, \"y\": y};\n",
       "};\n",
       "\n",
       "/*\n",
       " * return a copy of an object with only non-object keys\n",
       " * we need this to avoid circular references\n",
       " * http://stackoverflow.com/a/24161582/3208463\n",
       " */\n",
       "function simpleKeys (original) {\n",
       "  return Object.keys(original).reduce(function (obj, key) {\n",
       "    if (typeof original[key] !== 'object')\n",
       "        obj[key] = original[key]\n",
       "    return obj;\n",
       "  }, {});\n",
       "}\n",
       "\n",
       "mpl.figure.prototype.mouse_event = function(event, name) {\n",
       "    var canvas_pos = mpl.findpos(event)\n",
       "\n",
       "    if (name === 'button_press')\n",
       "    {\n",
       "        this.canvas.focus();\n",
       "        this.canvas_div.focus();\n",
       "    }\n",
       "\n",
       "    var x = canvas_pos.x * mpl.ratio;\n",
       "    var y = canvas_pos.y * mpl.ratio;\n",
       "\n",
       "    this.send_message(name, {x: x, y: y, button: event.button,\n",
       "                             step: event.step,\n",
       "                             guiEvent: simpleKeys(event)});\n",
       "\n",
       "    /* This prevents the web browser from automatically changing to\n",
       "     * the text insertion cursor when the button is pressed.  We want\n",
       "     * to control all of the cursor setting manually through the\n",
       "     * 'cursor' event from matplotlib */\n",
       "    event.preventDefault();\n",
       "    return false;\n",
       "}\n",
       "\n",
       "mpl.figure.prototype._key_event_extra = function(event, name) {\n",
       "    // Handle any extra behaviour associated with a key event\n",
       "}\n",
       "\n",
       "mpl.figure.prototype.key_event = function(event, name) {\n",
       "\n",
       "    // Prevent repeat events\n",
       "    if (name == 'key_press')\n",
       "    {\n",
       "        if (event.which === this._key)\n",
       "            return;\n",
       "        else\n",
       "            this._key = event.which;\n",
       "    }\n",
       "    if (name == 'key_release')\n",
       "        this._key = null;\n",
       "\n",
       "    var value = '';\n",
       "    if (event.ctrlKey && event.which != 17)\n",
       "        value += \"ctrl+\";\n",
       "    if (event.altKey && event.which != 18)\n",
       "        value += \"alt+\";\n",
       "    if (event.shiftKey && event.which != 16)\n",
       "        value += \"shift+\";\n",
       "\n",
       "    value += 'k';\n",
       "    value += event.which.toString();\n",
       "\n",
       "    this._key_event_extra(event, name);\n",
       "\n",
       "    this.send_message(name, {key: value,\n",
       "                             guiEvent: simpleKeys(event)});\n",
       "    return false;\n",
       "}\n",
       "\n",
       "mpl.figure.prototype.toolbar_button_onclick = function(name) {\n",
       "    if (name == 'download') {\n",
       "        this.handle_save(this, null);\n",
       "    } else {\n",
       "        this.send_message(\"toolbar_button\", {name: name});\n",
       "    }\n",
       "};\n",
       "\n",
       "mpl.figure.prototype.toolbar_button_onmouseover = function(tooltip) {\n",
       "    this.message.textContent = tooltip;\n",
       "};\n",
       "mpl.toolbar_items = [[\"Home\", \"Reset original view\", \"fa fa-home icon-home\", \"home\"], [\"Back\", \"Back to  previous view\", \"fa fa-arrow-left icon-arrow-left\", \"back\"], [\"Forward\", \"Forward to next view\", \"fa fa-arrow-right icon-arrow-right\", \"forward\"], [\"\", \"\", \"\", \"\"], [\"Pan\", \"Pan axes with left mouse, zoom with right\", \"fa fa-arrows icon-move\", \"pan\"], [\"Zoom\", \"Zoom to rectangle\", \"fa fa-square-o icon-check-empty\", \"zoom\"], [\"\", \"\", \"\", \"\"], [\"Download\", \"Download plot\", \"fa fa-floppy-o icon-save\", \"download\"]];\n",
       "\n",
       "mpl.extensions = [\"eps\", \"pdf\", \"png\", \"ps\", \"raw\", \"svg\"];\n",
       "\n",
       "mpl.default_extension = \"png\";var comm_websocket_adapter = function(comm) {\n",
       "    // Create a \"websocket\"-like object which calls the given IPython comm\n",
       "    // object with the appropriate methods. Currently this is a non binary\n",
       "    // socket, so there is still some room for performance tuning.\n",
       "    var ws = {};\n",
       "\n",
       "    ws.close = function() {\n",
       "        comm.close()\n",
       "    };\n",
       "    ws.send = function(m) {\n",
       "        //console.log('sending', m);\n",
       "        comm.send(m);\n",
       "    };\n",
       "    // Register the callback with on_msg.\n",
       "    comm.on_msg(function(msg) {\n",
       "        //console.log('receiving', msg['content']['data'], msg);\n",
       "        // Pass the mpl event to the overridden (by mpl) onmessage function.\n",
       "        ws.onmessage(msg['content']['data'])\n",
       "    });\n",
       "    return ws;\n",
       "}\n",
       "\n",
       "mpl.mpl_figure_comm = function(comm, msg) {\n",
       "    // This is the function which gets called when the mpl process\n",
       "    // starts-up an IPython Comm through the \"matplotlib\" channel.\n",
       "\n",
       "    var id = msg.content.data.id;\n",
       "    // Get hold of the div created by the display call when the Comm\n",
       "    // socket was opened in Python.\n",
       "    var element = $(\"#\" + id);\n",
       "    var ws_proxy = comm_websocket_adapter(comm)\n",
       "\n",
       "    function ondownload(figure, format) {\n",
       "        window.open(figure.imageObj.src);\n",
       "    }\n",
       "\n",
       "    var fig = new mpl.figure(id, ws_proxy,\n",
       "                           ondownload,\n",
       "                           element.get(0));\n",
       "\n",
       "    // Call onopen now - mpl needs it, as it is assuming we've passed it a real\n",
       "    // web socket which is closed, not our websocket->open comm proxy.\n",
       "    ws_proxy.onopen();\n",
       "\n",
       "    fig.parent_element = element.get(0);\n",
       "    fig.cell_info = mpl.find_output_cell(\"<div id='\" + id + \"'></div>\");\n",
       "    if (!fig.cell_info) {\n",
       "        console.error(\"Failed to find cell for figure\", id, fig);\n",
       "        return;\n",
       "    }\n",
       "\n",
       "    var output_index = fig.cell_info[2]\n",
       "    var cell = fig.cell_info[0];\n",
       "\n",
       "};\n",
       "\n",
       "mpl.figure.prototype.handle_close = function(fig, msg) {\n",
       "    var width = fig.canvas.width/mpl.ratio\n",
       "    fig.root.unbind('remove')\n",
       "\n",
       "    // Update the output cell to use the data from the current canvas.\n",
       "    fig.push_to_output();\n",
       "    var dataURL = fig.canvas.toDataURL();\n",
       "    // Re-enable the keyboard manager in IPython - without this line, in FF,\n",
       "    // the notebook keyboard shortcuts fail.\n",
       "    IPython.keyboard_manager.enable()\n",
       "    $(fig.parent_element).html('<img src=\"' + dataURL + '\" width=\"' + width + '\">');\n",
       "    fig.close_ws(fig, msg);\n",
       "}\n",
       "\n",
       "mpl.figure.prototype.close_ws = function(fig, msg){\n",
       "    fig.send_message('closing', msg);\n",
       "    // fig.ws.close()\n",
       "}\n",
       "\n",
       "mpl.figure.prototype.push_to_output = function(remove_interactive) {\n",
       "    // Turn the data on the canvas into data in the output cell.\n",
       "    var width = this.canvas.width/mpl.ratio\n",
       "    var dataURL = this.canvas.toDataURL();\n",
       "    this.cell_info[1]['text/html'] = '<img src=\"' + dataURL + '\" width=\"' + width + '\">';\n",
       "}\n",
       "\n",
       "mpl.figure.prototype.updated_canvas_event = function() {\n",
       "    // Tell IPython that the notebook contents must change.\n",
       "    IPython.notebook.set_dirty(true);\n",
       "    this.send_message(\"ack\", {});\n",
       "    var fig = this;\n",
       "    // Wait a second, then push the new image to the DOM so\n",
       "    // that it is saved nicely (might be nice to debounce this).\n",
       "    setTimeout(function () { fig.push_to_output() }, 1000);\n",
       "}\n",
       "\n",
       "mpl.figure.prototype._init_toolbar = function() {\n",
       "    var fig = this;\n",
       "\n",
       "    var nav_element = $('<div/>')\n",
       "    nav_element.attr('style', 'width: 100%');\n",
       "    this.root.append(nav_element);\n",
       "\n",
       "    // Define a callback function for later on.\n",
       "    function toolbar_event(event) {\n",
       "        return fig.toolbar_button_onclick(event['data']);\n",
       "    }\n",
       "    function toolbar_mouse_event(event) {\n",
       "        return fig.toolbar_button_onmouseover(event['data']);\n",
       "    }\n",
       "\n",
       "    for(var toolbar_ind in mpl.toolbar_items){\n",
       "        var name = mpl.toolbar_items[toolbar_ind][0];\n",
       "        var tooltip = mpl.toolbar_items[toolbar_ind][1];\n",
       "        var image = mpl.toolbar_items[toolbar_ind][2];\n",
       "        var method_name = mpl.toolbar_items[toolbar_ind][3];\n",
       "\n",
       "        if (!name) { continue; };\n",
       "\n",
       "        var button = $('<button class=\"btn btn-default\" href=\"#\" title=\"' + name + '\"><i class=\"fa ' + image + ' fa-lg\"></i></button>');\n",
       "        button.click(method_name, toolbar_event);\n",
       "        button.mouseover(tooltip, toolbar_mouse_event);\n",
       "        nav_element.append(button);\n",
       "    }\n",
       "\n",
       "    // Add the status bar.\n",
       "    var status_bar = $('<span class=\"mpl-message\" style=\"text-align:right; float: right;\"/>');\n",
       "    nav_element.append(status_bar);\n",
       "    this.message = status_bar[0];\n",
       "\n",
       "    // Add the close button to the window.\n",
       "    var buttongrp = $('<div class=\"btn-group inline pull-right\"></div>');\n",
       "    var button = $('<button class=\"btn btn-mini btn-primary\" href=\"#\" title=\"Stop Interaction\"><i class=\"fa fa-power-off icon-remove icon-large\"></i></button>');\n",
       "    button.click(function (evt) { fig.handle_close(fig, {}); } );\n",
       "    button.mouseover('Stop Interaction', toolbar_mouse_event);\n",
       "    buttongrp.append(button);\n",
       "    var titlebar = this.root.find($('.ui-dialog-titlebar'));\n",
       "    titlebar.prepend(buttongrp);\n",
       "}\n",
       "\n",
       "mpl.figure.prototype._root_extra_style = function(el){\n",
       "    var fig = this\n",
       "    el.on(\"remove\", function(){\n",
       "\tfig.close_ws(fig, {});\n",
       "    });\n",
       "}\n",
       "\n",
       "mpl.figure.prototype._canvas_extra_style = function(el){\n",
       "    // this is important to make the div 'focusable\n",
       "    el.attr('tabindex', 0)\n",
       "    // reach out to IPython and tell the keyboard manager to turn it's self\n",
       "    // off when our div gets focus\n",
       "\n",
       "    // location in version 3\n",
       "    if (IPython.notebook.keyboard_manager) {\n",
       "        IPython.notebook.keyboard_manager.register_events(el);\n",
       "    }\n",
       "    else {\n",
       "        // location in version 2\n",
       "        IPython.keyboard_manager.register_events(el);\n",
       "    }\n",
       "\n",
       "}\n",
       "\n",
       "mpl.figure.prototype._key_event_extra = function(event, name) {\n",
       "    var manager = IPython.notebook.keyboard_manager;\n",
       "    if (!manager)\n",
       "        manager = IPython.keyboard_manager;\n",
       "\n",
       "    // Check for shift+enter\n",
       "    if (event.shiftKey && event.which == 13) {\n",
       "        this.canvas_div.blur();\n",
       "        event.shiftKey = false;\n",
       "        // Send a \"J\" for go to next cell\n",
       "        event.which = 74;\n",
       "        event.keyCode = 74;\n",
       "        manager.command_mode();\n",
       "        manager.handle_keydown(event);\n",
       "    }\n",
       "}\n",
       "\n",
       "mpl.figure.prototype.handle_save = function(fig, msg) {\n",
       "    fig.ondownload(fig, null);\n",
       "}\n",
       "\n",
       "\n",
       "mpl.find_output_cell = function(html_output) {\n",
       "    // Return the cell and output element which can be found *uniquely* in the notebook.\n",
       "    // Note - this is a bit hacky, but it is done because the \"notebook_saving.Notebook\"\n",
       "    // IPython event is triggered only after the cells have been serialised, which for\n",
       "    // our purposes (turning an active figure into a static one), is too late.\n",
       "    var cells = IPython.notebook.get_cells();\n",
       "    var ncells = cells.length;\n",
       "    for (var i=0; i<ncells; i++) {\n",
       "        var cell = cells[i];\n",
       "        if (cell.cell_type === 'code'){\n",
       "            for (var j=0; j<cell.output_area.outputs.length; j++) {\n",
       "                var data = cell.output_area.outputs[j];\n",
       "                if (data.data) {\n",
       "                    // IPython >= 3 moved mimebundle to data attribute of output\n",
       "                    data = data.data;\n",
       "                }\n",
       "                if (data['text/html'] == html_output) {\n",
       "                    return [cell, data, j];\n",
       "                }\n",
       "            }\n",
       "        }\n",
       "    }\n",
       "}\n",
       "\n",
       "// Register the function which deals with the matplotlib target/channel.\n",
       "// The kernel may be null if the page has been refreshed.\n",
       "if (IPython.notebook.kernel != null) {\n",
       "    IPython.notebook.kernel.comm_manager.register_target('matplotlib', mpl.mpl_figure_comm);\n",
       "}\n"
      ],
      "text/plain": [
       "<IPython.core.display.Javascript object>"
      ]
     },
     "metadata": {},
     "output_type": "display_data"
    },
    {
     "data": {
      "text/html": [
       "<img src=\"data:image/png;base64,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\" width=\"640\">"
      ],
      "text/plain": [
       "<IPython.core.display.HTML object>"
      ]
     },
     "metadata": {},
     "output_type": "display_data"
    }
   ],
   "source": [
    "#### optional code snippet, Run this part if you wish to visualise the data as a video. The below sequence makes use\n",
    "#### of conventional images frames and is not used anywhere else later in the notebook\n",
    "fig = plt.figure()\n",
    "ax = fig.add_subplot(111)\n",
    "plt.ion()\n",
    "\n",
    "fig.canvas.draw()\n",
    "ax.axis()\n",
    "for image in normal_imgs:\n",
    "    ax.clear()\n",
    "    ax.imshow(plt.imread(image), cmap='gray')\n",
    "    fig.canvas.draw()"
   ]
  },
  {
   "cell_type": "markdown",
   "metadata": {
    "nbpresent": {
     "id": "84c5d1f8-35e4-414a-b682-f103c5c60fa8"
    },
    "slideshow": {
     "slide_type": "slide"
    }
   },
   "source": [
    "<a id=\"data\"></a>\n",
    "## 2. Data Available and Data format\n"
   ]
  },
  {
   "cell_type": "markdown",
   "metadata": {
    "nbpresent": {
     "id": "80545f0e-3a2b-44c4-ad62-f7f729eb4fc5"
    },
    "slideshow": {
     "slide_type": "fragment"
    }
   },
   "source": [
    "There are various kinds of data which we would have to work with namely, event data, imu data, calibration parameters, and ground truth data. There is also an 'images.txt' file which gives the timestamps at which synchronous event stream was captured. The format of the data are as shown below. "
   ]
  },
  {
   "cell_type": "markdown",
   "metadata": {
    "nbpresent": {
     "id": "0f1ca28d-743a-496a-ab40-f89f123a332e"
    },
    "slideshow": {
     "slide_type": "fragment"
    }
   },
   "source": [
    "![description of dataset format](Images/data_format_emvs.png)"
   ]
  },
  {
   "cell_type": "markdown",
   "metadata": {
    "nbpresent": {
     "id": "272f2c1e-d16e-45ab-a5f9-d2038b5b994a"
    },
    "slideshow": {
     "slide_type": "slide"
    }
   },
   "source": [
    "<a id=\"cam_mat\"></a>\n",
    "### 2.1 Camera Matrix"
   ]
  },
  {
   "cell_type": "markdown",
   "metadata": {
    "nbpresent": {
     "id": "e2af89e3-50e3-4286-8d40-6fa6b426c131"
    },
    "slideshow": {
     "slide_type": "fragment"
    }
   },
   "source": [
    "Every camera has a calibration matrix which is dependant on the intrinsic and extrinsic parameters being used. We obtain these parameters from the <i>calib.txt</i> file."
   ]
  },
  {
   "cell_type": "code",
   "execution_count": 3,
   "metadata": {
    "nbpresent": {
     "id": "42683b3e-0bdf-4ae8-8f12-9239966a3a90"
    },
    "slideshow": {
     "slide_type": "subslide"
    }
   },
   "outputs": [],
   "source": [
    "def return_camera_matrix(filename='calib.txt'):\n",
    "    '''\n",
    "    Returns the camera matrix for the given dataset based on calibration parameters.\n",
    "    \n",
    "    Parameters:\n",
    "    -----------\n",
    "    filename : <string>\n",
    "        name of the text file where the camera parameters are stored\n",
    "    \n",
    "    Return:\n",
    "    -------\n",
    "    camera_mat: <np.array>\n",
    "        The camera matrix for the parameters mentioned in the calibration file\n",
    "    '''\n",
    "    \n",
    "    file = open(data_path +'/' + filename, \"r\")\n",
    "    cam_par = list(map(float,file.readline().split()))\n",
    "    file.close()\n",
    "    fx, fy, cx, cy, k1, k2, p1, p2, k3 = [par for par in cam_par]\n",
    "    camera_mat = np.array([[fx,  0, cx],\n",
    "                           [ 0, fy, cy],\n",
    "                           [ 0,  0,  1]])\n",
    "    return camera_mat, [k1, k2, p1, p2, k3]"
   ]
  },
  {
   "cell_type": "code",
   "execution_count": 4,
   "metadata": {
    "nbpresent": {
     "id": "48cd64ef-830b-4c7c-bdc9-1f56613b9711"
    },
    "slideshow": {
     "slide_type": "subslide"
    }
   },
   "outputs": [],
   "source": [
    "def return_undistorted_coordinates(dist_cam_cords, distortion_params):\n",
    "    '''\n",
    "    Utility under consideration\n",
    "    '''\n",
    "    k1, k2, p1, p2, k3 = distortion_params\n",
    "    \n",
    "    pass"
   ]
  },
  {
   "cell_type": "code",
   "execution_count": 5,
   "metadata": {
    "nbpresent": {
     "id": "adc9de1d-ac88-4b52-9aaf-002b48eb41ee"
    },
    "slideshow": {
     "slide_type": "subslide"
    }
   },
   "outputs": [],
   "source": [
    "cam_mat, dist_params = return_camera_matrix()"
   ]
  },
  {
   "cell_type": "markdown",
   "metadata": {
    "nbpresent": {
     "id": "903569ec-e524-418b-af5e-f402d6b3ef3b"
    },
    "slideshow": {
     "slide_type": "slide"
    }
   },
   "source": [
    "<a id=\"event_data\"></a>\n",
    "### 2.2 Obtaining pose information relevant to events under consideration from the groundtruth files\n"
   ]
  },
  {
   "cell_type": "markdown",
   "metadata": {
    "nbpresent": {
     "id": "799fc47c-8ba4-4b01-bf27-97b1e9d8a4a9"
    },
    "slideshow": {
     "slide_type": "fragment"
    }
   },
   "source": [
    "The objective is to get an event and its corresponding pose for that particular time stamp. Since the number of events are huge and the homographies are expensive to compute, a batch of 256 events is assigned the same pose information. "
   ]
  },
  {
   "cell_type": "code",
   "execution_count": 6,
   "metadata": {
    "nbpresent": {
     "id": "08d4f60b-466c-45ad-b7ad-e2c6ab14d170"
    },
    "slideshow": {
     "slide_type": "subslide"
    }
   },
   "outputs": [],
   "source": [
    "from itertools import islice\n",
    "def bundle_events(batch_number, filename='events.txt', batch_size = 256):\n",
    "    ''' \n",
    "    Return a batch of events from the file containing event information. Sometimes the event file can run into several \n",
    "    Gigabytes of storage. This is why a file is opened and closed everytime a batch of events needs to be read.\n",
    "    \n",
    "    Parameters:\n",
    "    -----------\n",
    "    batch_number : <int>\n",
    "        The nth batch which needs to be read\n",
    "    filename : <string>\n",
    "    '''\n",
    "    events=[]\n",
    "    file = open(data_path +'/' + filename, \"r\")\n",
    "    head = list(islice(file, batch_number * batch_size, (batch_number + 1)*batch_size))\n",
    "    #return timestamp of first event in the batch\n",
    "    event_start_time = list(map(float,head[0].split()))[0] \n",
    "    for line in head:\n",
    "        events.append(list(map(float,line.split())))\n",
    "    file.close()\n",
    "    return events, event_start_time"
   ]
  },
  {
   "cell_type": "code",
   "execution_count": 7,
   "metadata": {
    "nbpresent": {
     "id": "3a969ca7-8b2c-48cf-8410-4e5eaedde960"
    },
    "slideshow": {
     "slide_type": "skip"
    }
   },
   "outputs": [
    {
     "name": "stdout",
     "output_type": "stream",
     "text": [
      "0.048514001\n"
     ]
    }
   ],
   "source": [
    "events, event_start_time = bundle_events(batch_number=40)\n",
    "print(event_start_time)"
   ]
  },
  {
   "cell_type": "markdown",
   "metadata": {
    "nbpresent": {
     "id": "83e690d8-1f07-44c0-802e-810a700fab05"
    },
    "slideshow": {
     "slide_type": "subslide"
    }
   },
   "source": [
    "The pose is sampled at frequencies lower than the event data. In order to capture pose information for an event at some timestamp, it is thus necessary to linearly interpolate the pose data for that timestamp. As the trajectory is continuous and the sampling time is very small, we can assume the path between two timesteps to be fairly linear."
   ]
  },
  {
   "cell_type": "code",
   "execution_count": 8,
   "metadata": {
    "nbpresent": {
     "id": "f521d426-e19d-4e56-b326-bd2681652ec1"
    },
    "slideshow": {
     "slide_type": "subslide"
    }
   },
   "outputs": [],
   "source": [
    "def get_ground_truth_pose(event_start_time, filename='groundtruth.txt'):\n",
    "    \n",
    "    ''' \n",
    "    This function returns the the groundtruth pose for an event depending on the timestamp \n",
    "    of the input given as input to the function. If pose of the event is linearly interpolated \n",
    "    if the timestamp of the event given falls in between the timestamps of the poses of the two \n",
    "    events\n",
    "    \n",
    "    Parameters:\n",
    "    -----------\n",
    "    event_start_time : <float>\n",
    "        timestamp of event for which pose information is to be estimated\n",
    "    filename : <string>\n",
    "        name of the file containing the groundtruth\n",
    "        \n",
    "    Return:\n",
    "    -------\n",
    "    pose : <list> of format [timestamp, px, py, pz, qx, qy, qz, qw]\n",
    "        Returns a list describing the pose at the timestamp given by the event\n",
    "    \n",
    "    '''\n",
    "    file = open(data_path +'/' + filename, \"r\")\n",
    "    prev_pose = [0, 0, 0, 0, 0, 0, 0, 1]\n",
    "    prev_time = prev_pose[0]  #start with initial time 0s \n",
    "    \n",
    "    for line in file:\n",
    "        current_pose = list(map(float,line.split()))\n",
    "        current_time = current_pose[0]\n",
    "        \n",
    "        if event_start_time == current_time:\n",
    "            return np.array(current_pose) #pose information for that time-step\n",
    "        \n",
    "        elif event_start_time > prev_time and event_start_time < current_time:\n",
    "            return linearly_interpolated_pose(current_pose, prev_pose, event_start_time) \n",
    "            \n",
    "        elif event_start_time > current_time:\n",
    "            prev_pose = current_pose\n",
    "            prev_time = prev_pose[0]"
   ]
  },
  {
   "cell_type": "code",
   "execution_count": 9,
   "metadata": {
    "nbpresent": {
     "id": "1e648d98-2cb8-4938-827e-1da24c84e581"
    },
    "slideshow": {
     "slide_type": "subslide"
    }
   },
   "outputs": [],
   "source": [
    "def linearly_interpolated_pose(pose_t, pose_t_minus_1, time_bet):\n",
    "    \n",
    "    ''' \n",
    "    Function to linearly interpolate the quaternion and translation values for the timesteps provided\n",
    "    \n",
    "    Parameters:\n",
    "    -----------\n",
    "    pose_t : <list>\n",
    "        list containing pose information of the time step greater than required time \n",
    "    pose_t_minus_1 : <list>\n",
    "        list containing pose information of the time step lesser than required time\n",
    "    time_bet: <float>\n",
    "        Time for which pose information is required\n",
    "    \n",
    "    Return:\n",
    "    -------\n",
    "    estimated_pose : <list>\n",
    "        Returns a list containing the linearly interpolated pose estimate\n",
    "    '''\n",
    "    \n",
    "    # We will doing slerp on quaternions and linear intepolation on the translation vectors\n",
    "    estimated_pose = []\n",
    "    interpolater = time_bet/(pose_t[0] - pose_t_minus_1[0])\n",
    "    \n",
    "    interpolated_translation = interpolater *(np.array(pose_t[1:4]) - np.array(pose_t_minus_1[1:4]))\n",
    "    \n",
    "    \n",
    "    pose_t_minus_1_qt = qt.Quaternion(pose_t_minus_1[7], pose_t_minus_1[4], pose_t_minus_1[5], pose_t_minus_1[6])\n",
    "    \n",
    "    pose_t_qt = qt.Quaternion(pose_t[7], pose_t[4], pose_t[5], pose_t[6]) \n",
    "    # the order of pose in the dataset and that used in the pyquaternion library is different, hence the restructuring\n",
    "    \n",
    "    interpolated_rotation = qt.Quaternion.slerp(pose_t_minus_1_qt, pose_t_qt, interpolater)\n",
    "    eqw ,eqx, eqy, eqz = interpolated_rotation.elements\n",
    "    px, py, pz = interpolated_translation\n",
    "    \n",
    "    return [time_bet, px, py, pz, eqx, eqy, eqz, eqw]"
   ]
  },
  {
   "cell_type": "markdown",
   "metadata": {
    "nbpresent": {
     "id": "adf4fae8-461f-4d0d-ac73-5e5a4bd8b02d"
    },
    "slideshow": {
     "slide_type": "fragment"
    }
   },
   "source": [
    "The below code is run to see how the pose information is calculated for different event times where the events are sampled in batches."
   ]
  },
  {
   "cell_type": "code",
   "execution_count": 10,
   "metadata": {
    "nbpresent": {
     "id": "ee941717-2077-4031-9437-9172d08f33fa"
    },
    "slideshow": {
     "slide_type": "subslide"
    }
   },
   "outputs": [
    {
     "name": "stdout",
     "output_type": "stream",
     "text": [
      "For batch number 0, the event starts at 0.003811 second with translation vector, t=[0.019094251027136612, 0.0, 0.0] and rotational quaternion=[0.0, 0.0, 0.0, 1.0]\n",
      "For batch number 1, the event starts at 0.005727 second with translation vector, t=[0.02869398468444276, 0.0, 0.0] and rotational quaternion=[0.0, 0.0, 0.0, 1.0]\n",
      "For batch number 2, the event starts at 0.007580001 second with translation vector, t=[0.03797807448962123, 0.0, 0.0] and rotational quaternion=[0.0, 0.0, 0.0, 1.0]\n",
      "For batch number 3, the event starts at 0.009142 second with translation vector, t=[0.04580415714775201, 0.0, 0.0] and rotational quaternion=[0.0, 0.0, 0.0, 1.0]\n",
      "For batch number 4, the event starts at 0.010625001 second with translation vector, t=[0.05323443617359683, 0.0, 0.0] and rotational quaternion=[0.0, 0.0, 0.0, 1.0]\n",
      "For batch number 5, the event starts at 0.012172001 second with translation vector, t=[0.06098536935097293, 0.0, 0.0] and rotational quaternion=[0.0, 0.0, 0.0, 1.0]\n",
      "For batch number 6, the event starts at 0.013537 second with translation vector, t=[0.06782442302659362, 0.0, 0.0] and rotational quaternion=[0.0, 0.0, 0.0, 1.0]\n",
      "For batch number 7, the event starts at 0.014989001 second with translation vector, t=[0.0750993827709267, 0.0, 0.0] and rotational quaternion=[0.0, 0.0, 0.0, 1.0]\n",
      "For batch number 8, the event starts at 0.016398 second with translation vector, t=[0.08215888962030599, 0.0, 0.0] and rotational quaternion=[0.0, 0.0, 0.0, 1.0]\n",
      "For batch number 9, the event starts at 0.017730001 second with translation vector, t=[0.08883261343620653, 0.0, 0.0] and rotational quaternion=[0.0, 0.0, 0.0, 1.0]\n"
     ]
    }
   ],
   "source": [
    "for batch in range(10):\n",
    "    events, event_start_time = bundle_events(batch)\n",
    "    info = get_ground_truth_pose(event_start_time)\n",
    "    print('For batch number {}, the event starts at {} second with translation vector, t={} and rotational quaternion={}'\n",
    "          .format(batch, info[0], info[1:4], info[4:]))"
   ]
  },
  {
   "cell_type": "code",
   "execution_count": 11,
   "metadata": {
    "nbpresent": {
     "id": "75da4052-b210-4281-bc04-782941fa0268"
    },
    "slideshow": {
     "slide_type": "subslide"
    }
   },
   "outputs": [],
   "source": [
    "def homography(x_Z0, y_Z0, Z_i, t, R):\n",
    "    '''\n",
    "    Compute the common homography matrix for the input pose and e. The homography has been calculated as per\n",
    "    the methods outlined in the paper in section 7.1\n",
    "    \n",
    "    Parameters:\n",
    "    -----------\n",
    "    camera_matrix : <np.array, 3x3>\n",
    "        A matrix depicting the camera intrinsic parameters\n",
    "    \n",
    "    pose : <list>\n",
    "        The list containing translation and quaternions of the current pose. Also referred to \n",
    "        the as the camera extrinsic parameters\n",
    "    \n",
    "    current_depth_plane : <int>\n",
    "        The depth plane out of a total number of predefined depth planes for which homography \n",
    "    matrix is to be calculated\n",
    "    '''\n",
    "    \n",
    "    Cx, Cy, Cz = -(R.T @ t).T    # camera centers \n",
    "    \n",
    "    delta = (Z_i - Z_0)/(Z_0 - Cz)\n",
    "    \n",
    "    m1 = np.array([x_z0, Cx],\n",
    "                  [y_z0, Cy])\n",
    "    \n",
    "    m2 = np.array([Z_0*delta/Z_i],\n",
    "                  [(1-delta)/Z_i])\n",
    "    \n",
    "    x_Zi, y_Zi = m1 @ m2\n",
    "    \n",
    "    return x_Zi, y_Zi"
   ]
  },
  {
   "cell_type": "code",
   "execution_count": 12,
   "metadata": {
    "nbpresent": {
     "id": "7148f3f0-560d-40f3-af48-b5264a1d6ac8"
    },
    "slideshow": {
     "slide_type": "subslide"
    }
   },
   "outputs": [],
   "source": [
    "def get_translation_rotation(pose):\n",
    "    \n",
    "    '''\n",
    "    Get the translation vector and rotation matrix from the pose which contains a quaternion\n",
    "    \n",
    "    Parameters:\n",
    "    -----------\n",
    "    pose : <list>\n",
    "        A list contating the translation vectors and quaternion for rotation\n",
    "    \n",
    "    Return:\n",
    "    -------\n",
    "    t : <np.array, 1x3>\n",
    "        An array of translation co-ordinates\n",
    "    R : <np.array, 3x3>\n",
    "        A matrix containing the rotational information\n",
    "    '''\n",
    "    \n",
    "    pose_qt = qt.Quaternion(pose[7], pose[4], pose[5], pose[6])\n",
    "    R = pose_qt.rotation_matrix\n",
    "    t = np.array(pose[1:4])\n",
    "    t = t.reshape((3,1))\n",
    "    return t,R"
   ]
  },
  {
   "cell_type": "code",
   "execution_count": 13,
   "metadata": {
    "nbpresent": {
     "id": "d25d2c62-7452-46ec-8801-56fa2f809f24"
    },
    "slideshow": {
     "slide_type": "skip"
    }
   },
   "outputs": [
    {
     "name": "stdout",
     "output_type": "stream",
     "text": [
      "Translation:\n",
      "[[0.01909425]\n",
      " [0.        ]\n",
      " [0.        ]] \n",
      " Rotation:\n",
      "[[1. 0. 0.]\n",
      " [0. 1. 0.]\n",
      " [0. 0. 1.]]\n"
     ]
    }
   ],
   "source": [
    "t, R = get_translation_rotation([0.003811, 0.019094251027136612, 0.0, 0.0, 0.0, 0.0, 0.0, 1.0])\n",
    "print(\"Translation:\\n{} \\n Rotation:\\n{}\".format(t, R))"
   ]
  },
  {
   "cell_type": "markdown",
   "metadata": {
    "nbpresent": {
     "id": "e24b9c19-ee8a-4881-bdd0-9930eb9f5198"
    },
    "slideshow": {
     "slide_type": "slide"
    }
   },
   "source": [
    "<a id=\"stages\"></a>\n",
    "## 3. Stages of Reconstruction\n"
   ]
  },
  {
   "cell_type": "markdown",
   "metadata": {
    "collapsed": true,
    "nbpresent": {
     "id": "b5eb85aa-7c31-4042-ac2a-fecd401560d9"
    },
    "slideshow": {
     "slide_type": "fragment"
    }
   },
   "source": [
    "The algorithm for Event based Multi View Stereo proposed here uses five stages to do the reconstruction. It makes use of the Collins space sweep approach with a few changes. Projective sampling is used instead of uniform sampling. Also the thresholding is Adaptive Gaussian as opposed to Global thresholding used in Collins' algorithm."
   ]
  },
  {
   "cell_type": "markdown",
   "metadata": {
    "nbpresent": {
     "id": "c9fc3361-c0fc-41ca-84d0-41c31b489819"
    },
    "slideshow": {
     "slide_type": "slide"
    }
   },
   "source": [
    "<a id=\"stage_1\"></a>\n",
    "### 3.1 Backprojection\n"
   ]
  },
  {
   "cell_type": "markdown",
   "metadata": {
    "nbpresent": {
     "id": "091fc50b-a223-42a8-9848-5a171171f188"
    },
    "slideshow": {
     "slide_type": "fragment"
    }
   },
   "source": [
    "The 2-D points in the event stream are backprojected into a 3-D space. Since the event camera detects only edges, we can assume the rays corresponding to the same feature would intersect/ go very close to each in some unit volume."
   ]
  },
  {
   "cell_type": "markdown",
   "metadata": {
    "nbpresent": {
     "id": "882cd67b-6bb6-4847-87f5-29aad451ee5d"
    },
    "slideshow": {
     "slide_type": "fragment"
    }
   },
   "source": [
    "<img src=\"Images/backprojection.png\" alt=\"backprojection\" style=\"width: 400px;\"/>\n"
   ]
  },
  {
   "cell_type": "code",
   "execution_count": 14,
   "metadata": {
    "nbpresent": {
     "id": "9622a578-6b23-4746-a3a5-18b015c3f922"
    },
    "slideshow": {
     "slide_type": "subslide"
    }
   },
   "outputs": [],
   "source": [
    "def map_to_reference_view(event, t, R):\n",
    "    '''\n",
    "    Function to find out the initial homography matrix to map event co-ordinates to the Z_0 plane of \n",
    "    the reference view\n",
    "    \n",
    "    Parameters:\n",
    "    -----------\n",
    "    event : <list>\n",
    "        A list containing event information namely [timestamp, ex, ey, polarity]\n",
    "    t : <np.array, 3x1>\n",
    "        The translation part of the pose\n",
    "    R : <np.array, 3x3>\n",
    "        The Rotational part of the pose\n",
    "        \n",
    "    Return:\n",
    "    -------\n",
    "    x_Z0, y_Z0 : the x and y co-ordinates mapped to the reference Z_0\n",
    "    \n",
    "    '''\n",
    "    co_ords = np.reshape((3,1), np.array(event[1], event[2], 1)) \n",
    "    \n",
    "    e = np.reshape((1, 3), np.array([0, 0, 1])) \n",
    "    H_Z0  = np.linalg.inv(R + (t @ e)/Z_0)\n",
    "    \n",
    "    x_Z0, y_Z0, _ = (H_Z0 @ co_ords).T\n",
    "    \n",
    "    return x_Z0, y_Z0"
   ]
  },
  {
   "cell_type": "markdown",
   "metadata": {
    "nbpresent": {
     "id": "a391a6b6-c3f2-4ba3-9d2c-72c62cfe90e0"
    },
    "slideshow": {
     "slide_type": "slide"
    }
   },
   "source": [
    "<a id=\"stage_2\"></a>\n",
    "### 3.2 Volumetric Ray Counting\n"
   ]
  },
  {
   "cell_type": "markdown",
   "metadata": {
    "nbpresent": {
     "id": "40bb9fdf-6fb7-4ab0-9e61-9b252f10b615"
    },
    "slideshow": {
     "slide_type": "fragment"
    }
   },
   "source": [
    "We assume our backprojected rays from different views to pass through some 3-D Volume divided into voxels. A scoring function is associated with each voxel. The score of each voxel is determined by the number of rays passing through it. It is given as shown below. <b>X</b> is the co-ordinate of the centre of a voxel."
   ]
  },
  {
   "cell_type": "markdown",
   "metadata": {
    "nbpresent": {
     "id": "f9eb0aae-3db6-469d-8118-73a3037fe92d"
    },
    "slideshow": {
     "slide_type": "fragment"
    }
   },
   "source": [
    "<img src=\"Images/scoring.png\" alt=\"scoring\" style=\"width: 200px;\"/>"
   ]
  },
  {
   "cell_type": "code",
   "execution_count": 30,
   "metadata": {},
   "outputs": [],
   "source": [
    "def vote(x_f, y_f, vote_type='nearest_neighbour'):\n",
    "    ''' \n",
    "    The function recieves floating values as co-ordinates. This function assigns a vote to the appropriate voxel by \n",
    "    approximating it the nearest integer co-ordinates using some correction scheme.\n",
    "    \n",
    "    Parameters:\n",
    "    -----------\n",
    "    x_f, y_f : <float>\n",
    "        Floating point co-ordinates obtained from the homography\n",
    "    \n",
    "    vote_type : <string>\n",
    "        bilinear or nearest neighbour\n",
    "        \n",
    "    Return:\n",
    "    -------\n",
    "    x_i, y_i : <int>\n",
    "        Integer values of x and y for which voting is possible\n",
    "    '''\n",
    "    if vote_type=='nearest_neighbour':\n",
    "        x_i = int(round(x_f))\n",
    "        y_i = int(round(y_f))\n",
    "        return x_i, y_i"
   ]
  },
  {
   "cell_type": "markdown",
   "metadata": {
    "nbpresent": {
     "id": "0ad92ffc-a682-4e31-9f75-5f84d9fab10c"
    },
    "slideshow": {
     "slide_type": "slide"
    }
   },
   "source": [
    "<a id=\"stage_3\"></a>\n",
    "### 3.3 Thresholding\n"
   ]
  },
  {
   "cell_type": "markdown",
   "metadata": {
    "nbpresent": {
     "id": "6a3d2c3f-4ad7-4726-bae1-9a73d352b6ae"
    },
    "slideshow": {
     "slide_type": "fragment"
    }
   },
   "source": [
    "Local maxima of <b>f(X)</b> is determined here. It is done by by using adaptive gaussian thresholding on the confidence map c(x,y). After this procedure a scene structure should have been formed."
   ]
  },
  {
   "cell_type": "code",
   "execution_count": 16,
   "metadata": {
    "nbpresent": {
     "id": "40436ad0-9d01-4e46-94bc-48457274d659"
    },
    "slideshow": {
     "slide_type": "subslide"
    }
   },
   "outputs": [],
   "source": [
    "def gauss2D(shape=(3,3),sigma=0.5):\n",
    "    ''' \n",
    "    Function supplies a 2D gaussian mask of the required shape and sigma\n",
    "    \n",
    "    Parameters:\n",
    "    -----------\n",
    "    shape : <(int, int) tuple>\n",
    "        Floating point co-ordinates obtained from the homography\n",
    "    \n",
    "    sigma : <float>\n",
    "        standard deviation of the gaussians\n",
    "        \n",
    "    Return:\n",
    "    -------\n",
    "    h : <2-D numpy array>\n",
    "        returns a gaussian mask\n",
    "    '''\n",
    "    m,n = [(ss-1.)/2. for ss in shape]\n",
    "    y,x = np.ogrid[-m:m+1,-n:n+1]\n",
    "    h = np.exp( -(x*x + y*y) / (2.*sigma*sigma) )\n",
    "    h[ h < np.finfo(h.dtype).eps*h.max() ] = 0\n",
    "    sumh = h.sum()\n",
    "    if sumh != 0:\n",
    "        h /= sumh\n",
    "    return h"
   ]
  },
  {
   "cell_type": "code",
   "execution_count": 48,
   "metadata": {
    "nbpresent": {
     "id": "415fd80f-197b-41c2-a320-3cb56bf74584"
    },
    "slideshow": {
     "slide_type": "subslide"
    }
   },
   "outputs": [],
   "source": [
    "import scipy.signal\n",
    "def adaptive_gaussian_thresholding(volume_slice, kernal_shape, C):\n",
    "    '''\n",
    "    This function does adaptive gaussian thresholding of the 3-D voxel space\n",
    "    \n",
    "    Parameters\n",
    "    ----------\n",
    "    volume_slice : <np.array, 1 x camera_width x camera_height>\n",
    "        The (1 x camera_width x camera_height) array which define the center of the voxel co-ordinates after having accumulated votes in the \n",
    "        voting process\n",
    "    \n",
    "    Returns\n",
    "    ------- \n",
    "    thresholded_volume : <np.array, 1 x camera_width x camera_height>\n",
    "        A (1 x camera_width x camera_height) array on which adaptive gaussian thresholding has been successfully performed\n",
    "    '''\n",
    "    threshold_mask = scipy.signal.convolve2d(volume_slice, gauss2D(kernal_shape, 1), mode='same') - C\n",
    "    thresholded_slice = (volume_slice > threshold_mask).astype(np.int)\n",
    "    final_values = np.multiply(volume_slice, thresholded_slice)\n",
    "    return final_values"
   ]
  },
  {
   "cell_type": "markdown",
   "metadata": {
    "nbpresent": {
     "id": "16d1fb2d-cdf8-4be7-8ece-37998f641c97"
    },
    "slideshow": {
     "slide_type": "slide"
    }
   },
   "source": [
    "<a id=\"stage_4\"></a>\n",
    "### 3.4 Scene Merging\n"
   ]
  },
  {
   "cell_type": "markdown",
   "metadata": {
    "nbpresent": {
     "id": "f1b17e78-61b1-4b4d-a967-1854d7ca9d89"
    },
    "slideshow": {
     "slide_type": "fragment"
    }
   },
   "source": [
    "This is used to merge scenes obtained while the camera is moving. The key reference view is changed when the distance moved by the camera w.r.t to the reference view exceeds some percentage of the mean scene depth (15 to 40%)"
   ]
  },
  {
   "cell_type": "code",
   "execution_count": 47,
   "metadata": {},
   "outputs": [],
   "source": [
    "def check_reference_switch(volume, t, t_prev, mean_depth_factor = 0.2):\n",
    "    '''\n",
    "    return True if mean depth is 15% to 40% of the mean_depth of the scene. \n",
    "    '''\n",
    "    mean_depth = calc_mean_depth(volume)\n",
    "    dist_travelled = numpy.linalg.norm(t-t_prev)\n",
    "    \n",
    "    if dist_travelled >= mean_depth_factor * mean_depth:\n",
    "        return True\n",
    "    else:\n",
    "        return False"
   ]
  },
  {
   "cell_type": "code",
   "execution_count": 46,
   "metadata": {},
   "outputs": [],
   "source": [
    "def calc_mean_depth(volume):\n",
    "    '''\n",
    "    Calculate the mean depth of the volume. Only voxels which contain an value are considered for the mean depth\n",
    "    calculation\n",
    "    '''\n",
    "    depth_weight = 0\n",
    "    tot = 0\n",
    "    for z in range(volume.shape[0]):\n",
    "        vol_slice = volume[z, :, :]\n",
    "        weight = len(vol_slice[vol_slice>0])\n",
    "        tot += weight\n",
    "        depth_weight += weight * z\n",
    "    \n",
    "    mean_depth = depth_weight/tot\n",
    "        \n",
    "    return mean_depth"
   ]
  },
  {
   "cell_type": "code",
   "execution_count": 22,
   "metadata": {},
   "outputs": [],
   "source": [
    "def scene_merging():\n",
    "    pass"
   ]
  },
  {
   "cell_type": "markdown",
   "metadata": {
    "nbpresent": {
     "id": "e243fce1-06d6-4298-902f-3315b664079d"
    },
    "slideshow": {
     "slide_type": "slide"
    }
   },
   "source": [
    "<a id=\"stage_5\"></a>\n",
    "### 3.5 Cleaning and Plotting\n"
   ]
  },
  {
   "cell_type": "markdown",
   "metadata": {
    "nbpresent": {
     "id": "14e04e99-6b89-49a7-9c15-87f2c41b3635"
    },
    "slideshow": {
     "slide_type": "fragment"
    }
   },
   "source": [
    "The edges obtained are cleaned using median filters and radius filters"
   ]
  },
  {
   "cell_type": "code",
   "execution_count": 49,
   "metadata": {},
   "outputs": [],
   "source": [
    "def clean(volume):\n",
    "    volume = median_filter(volume)\n",
    "    volume = radius_filter(volume)\n",
    "    return volume"
   ]
  },
  {
   "cell_type": "code",
   "execution_count": 52,
   "metadata": {
    "nbpresent": {
     "id": "4f3fdcef-0cff-4292-b98b-16a2b8e2f3d8"
    },
    "slideshow": {
     "slide_type": "subslide"
    }
   },
   "outputs": [],
   "source": [
    "def radius_filter(volume):\n",
    "    return volume"
   ]
  },
  {
   "cell_type": "code",
   "execution_count": 53,
   "metadata": {
    "nbpresent": {
     "id": "0917affd-3569-443c-8b5b-d302a8a20764"
    },
    "slideshow": {
     "slide_type": "subslide"
    }
   },
   "outputs": [],
   "source": [
    "def median_filter(volume):\n",
    "    return volume"
   ]
  },
  {
   "cell_type": "code",
   "execution_count": 20,
   "metadata": {
    "nbpresent": {
     "id": "3247ac23-2d60-4212-8f38-e7dffdab81ac"
    },
    "slideshow": {
     "slide_type": "subslide"
    }
   },
   "outputs": [],
   "source": [
    "def plot_3D_space_and_convert_to_point_cloud(volume_3D, destination):\n",
    "    pass"
   ]
  },
  {
   "cell_type": "markdown",
   "metadata": {
    "nbpresent": {
     "id": "6e02862b-9b24-48ac-8a4b-5e001eb1e101"
    },
    "slideshow": {
     "slide_type": "subslide"
    }
   },
   "source": [
    "<a id=\"algorithm\"></a>\n",
    "## 4. The Algorithm\n"
   ]
  },
  {
   "cell_type": "markdown",
   "metadata": {
    "nbpresent": {
     "id": "deb3631d-a1a5-4ec2-90e1-dae819fe2df8"
    },
    "slideshow": {
     "slide_type": "slide"
    }
   },
   "source": [
    "The algorithm given by Rebecq et al. is as shown below. Note that there are some guidelines given by Rebecq et al. to speed up computations which must be followed."
   ]
  },
  {
   "cell_type": "markdown",
   "metadata": {
    "nbpresent": {
     "id": "00010dae-7830-4e2b-8d24-52c1363ea3b7"
    },
    "slideshow": {
     "slide_type": "fragment"
    }
   },
   "source": [
    "<img src=\"Images/algorithm.png\" alt=\"The Algorithm\" style=\"width: 400px;\" align='left'/>"
   ]
  },
  {
   "cell_type": "markdown",
   "metadata": {
    "nbpresent": {
     "id": "c94f8e3a-936d-4f2e-ab7a-5ef5b27d8462"
    },
    "slideshow": {
     "slide_type": "slide"
    }
   },
   "source": [
    "<a id=\"algo_pic\"></a>\n",
    "### 4.1 Pictorial Representation of the Algorithm\n"
   ]
  },
  {
   "cell_type": "markdown",
   "metadata": {
    "nbpresent": {
     "id": "21af36af-4d2d-42a5-a658-275b31203727"
    },
    "slideshow": {
     "slide_type": "fragment"
    }
   },
   "source": [
    "\n",
    "<img src=\"Images/Visualization_of_ EVMS_process.png\" alt=\"visualising EVMS homographies\" style=\"width: 400px;\" align='center'/>"
   ]
  },
  {
   "cell_type": "markdown",
   "metadata": {
    "nbpresent": {
     "id": "1340e68e-8485-4eed-90e8-c0b839a6cfb3"
    },
    "slideshow": {
     "slide_type": "slide"
    }
   },
   "source": [
    "<a id=\"main\"></a>\n",
    "# 5. The Main function\n"
   ]
  },
  {
   "cell_type": "code",
   "execution_count": 21,
   "metadata": {
    "nbpresent": {
     "id": "c77eb6f1-3564-4898-b8a1-c6620a250033"
    },
    "slideshow": {
     "slide_type": "subslide"
    }
   },
   "outputs": [],
   "source": [
    "num_of_depth_planes = 100 # number of depth planes to be used for the 3-D projective Space\n",
    "Z_0 = 10  # The reference plane for initial mapping, 10 has been chosen arbitrarily"
   ]
  },
  {
   "cell_type": "code",
   "execution_count": 20,
   "metadata": {
    "nbpresent": {
     "id": "e1655d99-a2e0-4c42-8d87-86764fff146c"
    },
    "slideshow": {
     "slide_type": "subslide"
    }
   },
   "outputs": [],
   "source": [
    "def main():\n",
    "    \n",
    "    voxel_space = np.zeros((num_of_depth_planes, 240, 180)) # the resolution of the camera is 240x180\n",
    "    t = np.array([0, 0, 0]).reshape((3,1))\n",
    "    R = np.eye(3)\n",
    "    \n",
    "    for batch in range(117000): # Number chosen arbitrarily, should think more about this\n",
    "        events, event_start_time = bundle_events(batch_number=batch)\n",
    "        pose = get_ground_truth_pose(event_start_time)\n",
    "        t_prev, R_prev = t , R\n",
    "        t, R = get_translation_rotation(pose)\n",
    "        \n",
    "        if check_reference_switch(voxel_space, t, t_prev):\n",
    "            voxel_space = clean(voxel_space)\n",
    "            store_prev_voxel_space(voxel_space, R_prev, t_prev) # for now plotting \n",
    "            voxel_space = np.zeros((num_of_depth_planes, 240, 180)) #  Re-initialize voxel space for new reference\n",
    "               \n",
    "        for event in events:\n",
    "            x_Z0, y_Z0 = map_to_reference_view(event, t, R)\n",
    "            \n",
    "            for Z_i in range(Z_0+1, num_of_depth_planes+Z_0+1):\n",
    "                x_Zi, y_Zi = homography(x_Z0, y_Z0, Z_i, t, R) \n",
    "                x_Zi, y_Zi = vote(x_Zi, y_Zi) # nearest neighbour or bilinear voting\n",
    "                voxel_space[Z_i - (Z_0+1) , x_Zi, y_Zi]+=1  # Ray Counting    \n",
    "        \n",
    "        for Z_i in range(Z_0+1, num_of_depth_planes+Z_0+1):\n",
    "            voxel_space[Z_i - (Z_0+1), :, :] = adaptive_gaussian_thresholding(voxel_space[Z_i - (Z_0+1), :, :]) \n",
    "    \n",
    "#scored_space = clean(voxel_space)\n",
    "#plt.plot(scored_space)  # plot scored space continuously\n",
    "        "
   ]
  },
  {
   "cell_type": "code",
   "execution_count": 41,
   "metadata": {},
   "outputs": [],
   "source": [
    "voxel_space = np.zeros((num_of_depth_planes, 240, 180))\n",
    "voxel_space[1,:,:] = 1"
   ]
  },
  {
   "cell_type": "code",
   "execution_count": 45,
   "metadata": {},
   "outputs": [
    {
     "data": {
      "text/plain": [
       "1.0"
      ]
     },
     "execution_count": 45,
     "metadata": {},
     "output_type": "execute_result"
    }
   ],
   "source": [
    "np.mean(voxel_space[voxel_space[]>0])"
   ]
  },
  {
   "cell_type": "code",
   "execution_count": 54,
   "metadata": {},
   "outputs": [
    {
     "data": {
      "text/plain": [
       "100"
      ]
     },
     "execution_count": 54,
     "metadata": {},
     "output_type": "execute_result"
    }
   ],
   "source": [
    "voxel_space.shape[0]"
   ]
  },
  {
   "cell_type": "markdown",
   "metadata": {
    "nbpresent": {
     "id": "5620e8aa-283d-45be-8f39-404e78b1487c"
    },
    "slideshow": {
     "slide_type": "slide"
    }
   },
   "source": [
    "### Figure out how to do scene restructing and scene merging in above code\n",
    "### Figure out how to vectorize the computations in the code above\n",
    "#### To-do:\n",
    "##### 1. Voting and cleaning function implementations     \n",
    "           nearest neighbour or Bilinear voting\n",
    "##### 2. How would one use camera matrix in this paper, is it not necessary?\n",
    "##### 3. Filter implementations to be done \n"
   ]
  },
  {
   "cell_type": "markdown",
   "metadata": {
    "nbpresent": {
     "id": "ce2f8747-bb6a-4045-80dd-4cd598b4c4e5"
    },
    "slideshow": {
     "slide_type": "fragment"
    }
   },
   "source": [
    "How does DAVIS indexing start? from 0 or 1?"
   ]
  }
 ],
 "metadata": {
  "kernelspec": {
   "display_name": "Python [default]",
   "language": "python",
   "name": "python3"
  },
  "language_info": {
   "codemirror_mode": {
    "name": "ipython",
    "version": 3
   },
   "file_extension": ".py",
   "mimetype": "text/x-python",
   "name": "python",
   "nbconvert_exporter": "python",
   "pygments_lexer": "ipython3",
   "version": "3.6.6"
  },
  "nbpresent": {
   "slides": {
    "018adca0-6f5b-44f6-8c5a-a80734a359cb": {
     "id": "018adca0-6f5b-44f6-8c5a-a80734a359cb",
     "prev": "4c64a45a-04f7-492b-bf40-24438e096e4b",
     "regions": {
      "fc9da8e0-b9a0-44d0-b961-70c84d24e943": {
       "attrs": {
        "height": 0.8,
        "width": 0.8,
        "x": 0.1,
        "y": 0.1
       },
       "content": {
        "cell": "415fd80f-197b-41c2-a320-3cb56bf74584",
        "part": "whole"
       },
       "id": "fc9da8e0-b9a0-44d0-b961-70c84d24e943"
      }
     }
    },
    "03188904-a0e4-40de-a7d9-521d086e1a8e": {
     "id": "03188904-a0e4-40de-a7d9-521d086e1a8e",
     "prev": "985fd787-0dda-4f43-a1da-994fdb9fea99",
     "regions": {
      "dcf75e40-7552-40aa-b6cd-042f545cc097": {
       "attrs": {
        "height": 0.8,
        "width": 0.8,
        "x": 0.1,
        "y": 0.1
       },
       "content": {
        "cell": "903569ec-e524-418b-af5e-f402d6b3ef3b",
        "part": "whole"
       },
       "id": "dcf75e40-7552-40aa-b6cd-042f545cc097"
      }
     }
    },
    "0c36a4d3-acdb-46a5-a003-aaecb2b44e65": {
     "id": "0c36a4d3-acdb-46a5-a003-aaecb2b44e65",
     "prev": "e76a651d-4aea-4d2d-acc9-dd8dd24a7487",
     "regions": {
      "7273a23a-e5cd-4082-b3a7-0c7986439000": {
       "attrs": {
        "height": 0.8,
        "width": 0.8,
        "x": 0.1,
        "y": 0.1
       },
       "content": {
        "cell": "80545f0e-3a2b-44c4-ad62-f7f729eb4fc5",
        "part": "whole"
       },
       "id": "7273a23a-e5cd-4082-b3a7-0c7986439000"
      }
     }
    },
    "0fa0b1ec-5881-41c4-9536-d9138b8f6ea4": {
     "id": "0fa0b1ec-5881-41c4-9536-d9138b8f6ea4",
     "prev": "569ad0ec-42f9-4d55-94f1-04bcf7cf4c6c",
     "regions": {
      "2371fbab-4f0a-49cb-8197-c46fb73523d9": {
       "attrs": {
        "height": 0.8,
        "width": 0.8,
        "x": 0.1,
        "y": 0.1
       },
       "content": {
        "cell": "7b098df0-6fd1-4de5-ae84-4351a8b2a3e2",
        "part": "whole"
       },
       "id": "2371fbab-4f0a-49cb-8197-c46fb73523d9"
      }
     }
    },
    "18d96bed-6b87-41f8-b92d-7812f00183fa": {
     "id": "18d96bed-6b87-41f8-b92d-7812f00183fa",
     "prev": "ecec15c6-5363-4c47-8e9c-b209388b3905",
     "regions": {
      "fd82df84-914d-468c-8d05-1f977247c655": {
       "attrs": {
        "height": 0.8,
        "width": 0.8,
        "x": 0.1,
        "y": 0.1
       },
       "content": {
        "cell": "6e02862b-9b24-48ac-8a4b-5e001eb1e101",
        "part": "whole"
       },
       "id": "fd82df84-914d-468c-8d05-1f977247c655"
      }
     }
    },
    "253a28d6-664a-4bf9-a9ff-5b1ef6874e89": {
     "id": "253a28d6-664a-4bf9-a9ff-5b1ef6874e89",
     "prev": "f6f26bf2-4e90-44a4-aa2c-d625ae8afdd0",
     "regions": {
      "4e530940-d349-4079-8070-afa89ae0a040": {
       "attrs": {
        "height": 0.8,
        "width": 0.8,
        "x": 0.1,
        "y": 0.1
       },
       "content": {
        "cell": "c77eb6f1-3564-4898-b8a1-c6620a250033",
        "part": "whole"
       },
       "id": "4e530940-d349-4079-8070-afa89ae0a040"
      }
     }
    },
    "259ceb15-070c-4242-b35b-475aaa8094db": {
     "id": "259ceb15-070c-4242-b35b-475aaa8094db",
     "prev": "5463952c-bb89-4512-baec-526b29dc3184",
     "regions": {
      "49223fe3-8666-4290-ada5-92cb14a97a92": {
       "attrs": {
        "height": 0.8,
        "width": 0.8,
        "x": 0.1,
        "y": 0.1
       },
       "content": {
        "cell": "46485b54-7a29-48ec-b4a6-24396d33c26b",
        "part": "whole"
       },
       "id": "49223fe3-8666-4290-ada5-92cb14a97a92"
      }
     }
    },
    "29efc6fd-0b93-41ef-afed-d4327585e106": {
     "id": "29efc6fd-0b93-41ef-afed-d4327585e106",
     "prev": "b028418b-d3da-4b4a-a698-a70c1f80075d",
     "regions": {
      "98a97f99-9230-4b86-ad3a-13bd68bc93c0": {
       "attrs": {
        "height": 0.8,
        "width": 0.8,
        "x": 0.1,
        "y": 0.1
       },
       "content": {
        "cell": "00010dae-7830-4e2b-8d24-52c1363ea3b7",
        "part": "whole"
       },
       "id": "98a97f99-9230-4b86-ad3a-13bd68bc93c0"
      }
     }
    },
    "35cd0f68-635f-43e1-b4b1-b175beeedfa2": {
     "id": "35cd0f68-635f-43e1-b4b1-b175beeedfa2",
     "prev": "4ac3a638-fa8c-4a54-8b37-cfa170aca016",
     "regions": {
      "402b327e-db85-456f-a1ba-0070c533d3bc": {
       "attrs": {
        "height": 0.8,
        "width": 0.8,
        "x": 0.1,
        "y": 0.1
       },
       "content": {
        "cell": "48cd64ef-830b-4c7c-bdc9-1f56613b9711",
        "part": "whole"
       },
       "id": "402b327e-db85-456f-a1ba-0070c533d3bc"
      }
     }
    },
    "386c548a-74d3-4e09-8448-babe3350f003": {
     "id": "386c548a-74d3-4e09-8448-babe3350f003",
     "prev": "c57934ea-2323-476a-a919-a1fec147aebd",
     "regions": {
      "0cdbc4eb-6cd0-4fad-9b9f-374133f22124": {
       "attrs": {
        "height": 0.8,
        "width": 0.8,
        "x": 0.1,
        "y": 0.1
       },
       "content": {
        "cell": "c9fc3361-c0fc-41ca-84d0-41c31b489819",
        "part": "whole"
       },
       "id": "0cdbc4eb-6cd0-4fad-9b9f-374133f22124"
      }
     }
    },
    "3d66a8da-a16f-43b4-80f1-66d703d1aff9": {
     "id": "3d66a8da-a16f-43b4-80f1-66d703d1aff9",
     "prev": "ec21535d-dbed-43f0-a79a-ddfc90f34c1f",
     "regions": {
      "7341ed2b-a906-45ef-8fd7-fd328991abdc": {
       "attrs": {
        "height": 0.8,
        "width": 0.8,
        "x": 0.1,
        "y": 0.1
       },
       "content": {
        "cell": "0ad92ffc-a682-4e31-9f75-5f84d9fab10c",
        "part": "whole"
       },
       "id": "7341ed2b-a906-45ef-8fd7-fd328991abdc"
      }
     }
    },
    "3d68e02e-76bb-4b1a-8cc6-bde316ec007a": {
     "id": "3d68e02e-76bb-4b1a-8cc6-bde316ec007a",
     "prev": "f03c101f-ddd5-4bc4-b088-66f8e374fa08",
     "regions": {
      "ee61dbdb-1dff-40f5-952b-4579c021cb11": {
       "attrs": {
        "height": 0.8,
        "width": 0.8,
        "x": 0.1,
        "y": 0.1
       },
       "content": {
        "cell": "e24b9c19-ee8a-4881-bdd0-9930eb9f5198",
        "part": "whole"
       },
       "id": "ee61dbdb-1dff-40f5-952b-4579c021cb11"
      }
     }
    },
    "40794cbf-8e50-442b-b59b-5c6a0f617b13": {
     "id": "40794cbf-8e50-442b-b59b-5c6a0f617b13",
     "prev": "68868696-ccd0-44d1-afdd-0afbea77c486",
     "regions": {
      "248b1323-e5df-47ec-9b27-df1226d9d09c": {
       "attrs": {
        "height": 0.8,
        "width": 0.8,
        "x": 0.1,
        "y": 0.1
       },
       "content": {
        "cell": "14e04e99-6b89-49a7-9c15-87f2c41b3635",
        "part": "whole"
       },
       "id": "248b1323-e5df-47ec-9b27-df1226d9d09c"
      }
     }
    },
    "459a7d44-eecd-474b-b493-f780d5c0eb4d": {
     "id": "459a7d44-eecd-474b-b493-f780d5c0eb4d",
     "prev": "0fa0b1ec-5881-41c4-9536-d9138b8f6ea4",
     "regions": {
      "e598a844-a0b6-4fa3-86af-c2f872885b1d": {
       "attrs": {
        "height": 0.8,
        "width": 0.8,
        "x": 0.1,
        "y": 0.1
       },
       "content": {
        "cell": "3b7e6e0a-2698-48f4-b1cf-0da86501ea0e",
        "part": "whole"
       },
       "id": "e598a844-a0b6-4fa3-86af-c2f872885b1d"
      }
     }
    },
    "4ac3a638-fa8c-4a54-8b37-cfa170aca016": {
     "id": "4ac3a638-fa8c-4a54-8b37-cfa170aca016",
     "prev": "d673b5bd-e6e3-4241-8262-9f66a3e1bec7",
     "regions": {
      "aba30419-89d1-47f0-a3b7-ad517e1a69c4": {
       "attrs": {
        "height": 0.8,
        "width": 0.8,
        "x": 0.1,
        "y": 0.1
       },
       "content": {
        "cell": "42683b3e-0bdf-4ae8-8f12-9239966a3a90",
        "part": "whole"
       },
       "id": "aba30419-89d1-47f0-a3b7-ad517e1a69c4"
      }
     }
    },
    "4c64a45a-04f7-492b-bf40-24438e096e4b": {
     "id": "4c64a45a-04f7-492b-bf40-24438e096e4b",
     "prev": "c534d463-125d-404e-8720-7fabfb572c0c",
     "regions": {
      "95da624d-c81a-405d-a179-971e9da39327": {
       "attrs": {
        "height": 0.8,
        "width": 0.8,
        "x": 0.1,
        "y": 0.1
       },
       "content": {
        "cell": "40436ad0-9d01-4e46-94bc-48457274d659",
        "part": "whole"
       },
       "id": "95da624d-c81a-405d-a179-971e9da39327"
      }
     }
    },
    "4ec99677-bc96-428c-8687-871699cac003": {
     "id": "4ec99677-bc96-428c-8687-871699cac003",
     "prev": "29efc6fd-0b93-41ef-afed-d4327585e106",
     "regions": {
      "173717a2-ed1d-4c97-af5a-84a19dd39985": {
       "attrs": {
        "height": 0.8,
        "width": 0.8,
        "x": 0.1,
        "y": 0.1
       },
       "content": {
        "cell": "c94f8e3a-936d-4f2e-ab7a-5ef5b27d8462",
        "part": "whole"
       },
       "id": "173717a2-ed1d-4c97-af5a-84a19dd39985"
      }
     }
    },
    "5463952c-bb89-4512-baec-526b29dc3184": {
     "id": "5463952c-bb89-4512-baec-526b29dc3184",
     "prev": "cd34d442-d377-428a-9ecc-06c71749cd3c",
     "regions": {
      "c5ebcc19-ca42-4eed-9388-0b540164cb5a": {
       "attrs": {
        "height": 0.8,
        "width": 0.8,
        "x": 0.1,
        "y": 0.1
       },
       "content": {
        "cell": "1502a5a3-4567-48c8-a515-6892d330fcb8",
        "part": "whole"
       },
       "id": "c5ebcc19-ca42-4eed-9388-0b540164cb5a"
      }
     }
    },
    "569ad0ec-42f9-4d55-94f1-04bcf7cf4c6c": {
     "id": "569ad0ec-42f9-4d55-94f1-04bcf7cf4c6c",
     "prev": "61bb6d5f-03d2-40e2-bca1-8c26ca73a44a",
     "regions": {
      "d76e8f54-a30d-4ab3-a416-2f0eabb02cca": {
       "attrs": {
        "height": 0.8,
        "width": 0.8,
        "x": 0.1,
        "y": 0.1
       },
       "content": {
        "cell": "77d1eb0e-41c4-4247-859b-acab4d426bd3",
        "part": "whole"
       },
       "id": "d76e8f54-a30d-4ab3-a416-2f0eabb02cca"
      }
     }
    },
    "5c8051c2-6f2c-4b3f-924c-088d26d4fdde": {
     "id": "5c8051c2-6f2c-4b3f-924c-088d26d4fdde",
     "prev": "ddec3be1-1ee5-4e59-8f16-94db794bbf32",
     "regions": {
      "a491c270-41a2-4c7d-9b85-60a873cc7e4f": {
       "attrs": {
        "height": 0.8,
        "width": 0.8,
        "x": 0.1,
        "y": 0.1
       },
       "content": {
        "cell": "9622a578-6b23-4746-a3a5-18b015c3f922",
        "part": "whole"
       },
       "id": "a491c270-41a2-4c7d-9b85-60a873cc7e4f"
      }
     }
    },
    "61bb6d5f-03d2-40e2-bca1-8c26ca73a44a": {
     "id": "61bb6d5f-03d2-40e2-bca1-8c26ca73a44a",
     "prev": "e2b34a97-ecf2-452f-8b3c-8f0a632d3679",
     "regions": {
      "0affdb85-c3a0-4874-9339-426f21fa9294": {
       "attrs": {
        "height": 0.8,
        "width": 0.8,
        "x": 0.1,
        "y": 0.1
       },
       "content": {
        "cell": "ced8ae4b-41bb-45e1-b6f8-8544490a39c2",
        "part": "whole"
       },
       "id": "0affdb85-c3a0-4874-9339-426f21fa9294"
      }
     }
    },
    "68868696-ccd0-44d1-afdd-0afbea77c486": {
     "id": "68868696-ccd0-44d1-afdd-0afbea77c486",
     "prev": "a8dab855-a264-402f-a182-6f06b7b366e1",
     "regions": {
      "32b86ffc-338c-49a4-8f79-a14f8cf4eba2": {
       "attrs": {
        "height": 0.8,
        "width": 0.8,
        "x": 0.1,
        "y": 0.1
       },
       "content": {
        "cell": "e243fce1-06d6-4298-902f-3315b664079d",
        "part": "whole"
       },
       "id": "32b86ffc-338c-49a4-8f79-a14f8cf4eba2"
      }
     }
    },
    "6d947ae7-7a14-4ac2-8d14-f0298cf344e6": {
     "id": "6d947ae7-7a14-4ac2-8d14-f0298cf344e6",
     "prev": "03188904-a0e4-40de-a7d9-521d086e1a8e",
     "regions": {
      "a8294ce5-5cde-47ad-b05a-7ec4e1994154": {
       "attrs": {
        "height": 0.8,
        "width": 0.8,
        "x": 0.1,
        "y": 0.1
       },
       "content": {
        "cell": "799fc47c-8ba4-4b01-bf27-97b1e9d8a4a9",
        "part": "whole"
       },
       "id": "a8294ce5-5cde-47ad-b05a-7ec4e1994154"
      }
     }
    },
    "73e43839-aab8-43bf-8188-6028e976db51": {
     "id": "73e43839-aab8-43bf-8188-6028e976db51",
     "prev": "40794cbf-8e50-442b-b59b-5c6a0f617b13",
     "regions": {
      "c117c56f-93b2-41bf-98db-52750929aee5": {
       "attrs": {
        "height": 0.8,
        "width": 0.8,
        "x": 0.1,
        "y": 0.1
       },
       "content": {
        "cell": "4f3fdcef-0cff-4292-b98b-16a2b8e2f3d8",
        "part": "whole"
       },
       "id": "c117c56f-93b2-41bf-98db-52750929aee5"
      }
     }
    },
    "766e389c-b13a-4086-98f7-18401758c539": {
     "id": "766e389c-b13a-4086-98f7-18401758c539",
     "prev": "5c8051c2-6f2c-4b3f-924c-088d26d4fdde",
     "regions": {
      "2eca83b9-e009-465e-8dd6-e05f4c695ff3": {
       "attrs": {
        "height": 0.8,
        "width": 0.8,
        "x": 0.1,
        "y": 0.1
       },
       "content": {
        "cell": "a391a6b6-c3f2-4ba3-9d2c-72c62cfe90e0",
        "part": "whole"
       },
       "id": "2eca83b9-e009-465e-8dd6-e05f4c695ff3"
      }
     }
    },
    "8a122701-523f-4edd-b9ec-90c37cab3c9c": {
     "id": "8a122701-523f-4edd-b9ec-90c37cab3c9c",
     "prev": "a6948fde-1cbc-4df3-a202-4ead35e7704a",
     "regions": {
      "805c8306-13b4-4d3b-9a30-62ed63d48c2b": {
       "attrs": {
        "height": 0.8,
        "width": 0.8,
        "x": 0.1,
        "y": 0.1
       },
       "content": {
        "cell": "3a969ca7-8b2c-48cf-8410-4e5eaedde960",
        "part": "whole"
       },
       "id": "805c8306-13b4-4d3b-9a30-62ed63d48c2b"
      }
     }
    },
    "8bd73937-bdef-4af2-a9a1-cdf0479441a3": {
     "id": "8bd73937-bdef-4af2-a9a1-cdf0479441a3",
     "prev": "a38f0c8d-cb69-4172-867f-26a924ee1211",
     "regions": {
      "2dacd8b2-e11b-4c3c-81c6-8c09ffd8a7e6": {
       "attrs": {
        "height": 0.8,
        "width": 0.8,
        "x": 0.1,
        "y": 0.1
       },
       "content": {
        "cell": "7148f3f0-560d-40f3-af48-b5264a1d6ac8",
        "part": "whole"
       },
       "id": "2dacd8b2-e11b-4c3c-81c6-8c09ffd8a7e6"
      }
     }
    },
    "9384fc19-ae9e-4015-819c-8f7c0754a472": {
     "id": "9384fc19-ae9e-4015-819c-8f7c0754a472",
     "prev": "ada4e885-d38b-430b-89c2-85f353a40915",
     "regions": {
      "85efcfed-9a12-4b0c-99b5-1cd2a71e6e1f": {
       "attrs": {
        "height": 0.8,
        "width": 0.8,
        "x": 0.1,
        "y": 0.1
       },
       "content": {
        "cell": "5620e8aa-283d-45be-8f39-404e78b1487c",
        "part": "whole"
       },
       "id": "85efcfed-9a12-4b0c-99b5-1cd2a71e6e1f"
      }
     }
    },
    "985fd787-0dda-4f43-a1da-994fdb9fea99": {
     "id": "985fd787-0dda-4f43-a1da-994fdb9fea99",
     "prev": "35cd0f68-635f-43e1-b4b1-b175beeedfa2",
     "regions": {
      "963db8db-a5e1-4b0c-9ab0-2e161c55e3c5": {
       "attrs": {
        "height": 0.8,
        "width": 0.8,
        "x": 0.1,
        "y": 0.1
       },
       "content": {
        "cell": "adc9de1d-ac88-4b52-9aaf-002b48eb41ee",
        "part": "whole"
       },
       "id": "963db8db-a5e1-4b0c-9ab0-2e161c55e3c5"
      }
     }
    },
    "9ccbf50f-4ee4-4b62-8d2c-5af86209627c": {
     "id": "9ccbf50f-4ee4-4b62-8d2c-5af86209627c",
     "prev": "766e389c-b13a-4086-98f7-18401758c539",
     "regions": {
      "47e83157-a6f1-429b-9e54-b1e4f503ed4a": {
       "attrs": {
        "height": 0.8,
        "width": 0.8,
        "x": 0.1,
        "y": 0.1
       },
       "content": {
        "cell": "40bb9fdf-6fb7-4ab0-9e61-9b252f10b615",
        "part": "whole"
       },
       "id": "47e83157-a6f1-429b-9e54-b1e4f503ed4a"
      }
     }
    },
    "a38f0c8d-cb69-4172-867f-26a924ee1211": {
     "id": "a38f0c8d-cb69-4172-867f-26a924ee1211",
     "prev": "c1efc2b1-8198-4055-a914-3327df56da4f",
     "regions": {
      "ddb5e1cb-d78c-49ca-907a-116e7729deff": {
       "attrs": {
        "height": 0.8,
        "width": 0.8,
        "x": 0.1,
        "y": 0.1
       },
       "content": {
        "cell": "75da4052-b210-4281-bc04-782941fa0268",
        "part": "whole"
       },
       "id": "ddb5e1cb-d78c-49ca-907a-116e7729deff"
      }
     }
    },
    "a6948fde-1cbc-4df3-a202-4ead35e7704a": {
     "id": "a6948fde-1cbc-4df3-a202-4ead35e7704a",
     "prev": "6d947ae7-7a14-4ac2-8d14-f0298cf344e6",
     "regions": {
      "19b06cdc-d4ee-4bed-aaec-cbdb48100553": {
       "attrs": {
        "height": 0.8,
        "width": 0.8,
        "x": 0.1,
        "y": 0.1
       },
       "content": {
        "cell": "08d4f60b-466c-45ad-b7ad-e2c6ab14d170",
        "part": "whole"
       },
       "id": "19b06cdc-d4ee-4bed-aaec-cbdb48100553"
      }
     }
    },
    "a8dab855-a264-402f-a182-6f06b7b366e1": {
     "id": "a8dab855-a264-402f-a182-6f06b7b366e1",
     "prev": "c5ad98bb-a7e1-4655-ab35-3c07f95cba2d",
     "regions": {
      "45ba6f63-99e7-4777-b527-971c1aecf7f5": {
       "attrs": {
        "height": 0.8,
        "width": 0.8,
        "x": 0.1,
        "y": 0.1
       },
       "content": {
        "cell": "f1b17e78-61b1-4b4d-a967-1854d7ca9d89",
        "part": "whole"
       },
       "id": "45ba6f63-99e7-4777-b527-971c1aecf7f5"
      }
     }
    },
    "ada4e885-d38b-430b-89c2-85f353a40915": {
     "id": "ada4e885-d38b-430b-89c2-85f353a40915",
     "prev": "253a28d6-664a-4bf9-a9ff-5b1ef6874e89",
     "regions": {
      "41849261-b477-4c88-8aeb-a46f61b99109": {
       "attrs": {
        "height": 0.8,
        "width": 0.8,
        "x": 0.1,
        "y": 0.1
       },
       "content": {
        "cell": "e1655d99-a2e0-4c42-8d87-86764fff146c",
        "part": "whole"
       },
       "id": "41849261-b477-4c88-8aeb-a46f61b99109"
      }
     }
    },
    "b028418b-d3da-4b4a-a698-a70c1f80075d": {
     "id": "b028418b-d3da-4b4a-a698-a70c1f80075d",
     "prev": "18d96bed-6b87-41f8-b92d-7812f00183fa",
     "regions": {
      "4bf62201-9c20-4dcd-b25e-d2261a24bed3": {
       "attrs": {
        "height": 0.8,
        "width": 0.8,
        "x": 0.1,
        "y": 0.1
       },
       "content": {
        "cell": "deb3631d-a1a5-4ec2-90e1-dae819fe2df8",
        "part": "whole"
       },
       "id": "4bf62201-9c20-4dcd-b25e-d2261a24bed3"
      }
     }
    },
    "bbd76a64-daa4-4c27-a374-776da5c48419": {
     "id": "bbd76a64-daa4-4c27-a374-776da5c48419",
     "prev": "ef780983-ee1c-4356-b5df-80e0ea3a7432",
     "regions": {
      "703aa0a4-98c5-44bb-a4f3-eb0d55b9a11f": {
       "attrs": {
        "height": 0.8,
        "width": 0.8,
        "x": 0.1,
        "y": 0.1
       },
       "content": {
        "cell": "1e648d98-2cb8-4938-827e-1da24c84e581",
        "part": "whole"
       },
       "id": "703aa0a4-98c5-44bb-a4f3-eb0d55b9a11f"
      }
     }
    },
    "bdeccfac-de62-4085-8191-d726eb8ef6b5": {
     "id": "bdeccfac-de62-4085-8191-d726eb8ef6b5",
     "prev": "386c548a-74d3-4e09-8448-babe3350f003",
     "regions": {
      "ff0699f0-6940-488b-a10c-e78d6e290d7b": {
       "attrs": {
        "height": 0.8,
        "width": 0.8,
        "x": 0.1,
        "y": 0.1
       },
       "content": {
        "cell": "091fc50b-a223-42a8-9848-5a171171f188",
        "part": "whole"
       },
       "id": "ff0699f0-6940-488b-a10c-e78d6e290d7b"
      }
     }
    },
    "c1efc2b1-8198-4055-a914-3327df56da4f": {
     "id": "c1efc2b1-8198-4055-a914-3327df56da4f",
     "prev": "cc5477d1-296a-4eb6-aad6-9cc9fdc18dc1",
     "regions": {
      "fe5d9301-ebdf-412a-a1b4-dbab7d4681cd": {
       "attrs": {
        "height": 0.8,
        "width": 0.8,
        "x": 0.1,
        "y": 0.1
       },
       "content": {
        "cell": "ee941717-2077-4031-9437-9172d08f33fa",
        "part": "whole"
       },
       "id": "fe5d9301-ebdf-412a-a1b4-dbab7d4681cd"
      }
     }
    },
    "c39b53bf-b70b-459a-af86-025fef103138": {
     "id": "c39b53bf-b70b-459a-af86-025fef103138",
     "prev": "0c36a4d3-acdb-46a5-a003-aaecb2b44e65",
     "regions": {
      "7b60964b-fd45-4fde-8221-7d026fa723a0": {
       "attrs": {
        "height": 0.8,
        "width": 0.8,
        "x": 0.1,
        "y": 0.1
       },
       "content": {
        "cell": "0f1ca28d-743a-496a-ab40-f89f123a332e",
        "part": "whole"
       },
       "id": "7b60964b-fd45-4fde-8221-7d026fa723a0"
      }
     }
    },
    "c534d463-125d-404e-8720-7fabfb572c0c": {
     "id": "c534d463-125d-404e-8720-7fabfb572c0c",
     "prev": "f885fd26-3d13-4b9c-a7a8-82709d63828c",
     "regions": {
      "af8a7249-21d6-4cfe-9787-204cbbac5e88": {
       "attrs": {
        "height": 0.8,
        "width": 0.8,
        "x": 0.1,
        "y": 0.1
       },
       "content": {
        "cell": "21234893-451b-4860-9f40-fe4c752a0fc3",
        "part": "whole"
       },
       "id": "af8a7249-21d6-4cfe-9787-204cbbac5e88"
      }
     }
    },
    "c57934ea-2323-476a-a919-a1fec147aebd": {
     "id": "c57934ea-2323-476a-a919-a1fec147aebd",
     "prev": "3d68e02e-76bb-4b1a-8cc6-bde316ec007a",
     "regions": {
      "cb18f006-cdaf-456b-bc7f-60c01719dbde": {
       "attrs": {
        "height": 0.8,
        "width": 0.8,
        "x": 0.1,
        "y": 0.1
       },
       "content": {
        "cell": "b5eb85aa-7c31-4042-ac2a-fecd401560d9",
        "part": "whole"
       },
       "id": "cb18f006-cdaf-456b-bc7f-60c01719dbde"
      }
     }
    },
    "c5ad98bb-a7e1-4655-ab35-3c07f95cba2d": {
     "id": "c5ad98bb-a7e1-4655-ab35-3c07f95cba2d",
     "prev": "018adca0-6f5b-44f6-8c5a-a80734a359cb",
     "regions": {
      "99b1f899-476e-40c2-ab17-c7d1aab1ee70": {
       "attrs": {
        "height": 0.8,
        "width": 0.8,
        "x": 0.1,
        "y": 0.1
       },
       "content": {
        "cell": "16d1fb2d-cdf8-4be7-8ece-37998f641c97",
        "part": "whole"
       },
       "id": "99b1f899-476e-40c2-ab17-c7d1aab1ee70"
      }
     }
    },
    "c864542a-3660-4df8-a67d-1edf4e539d54": {
     "id": "c864542a-3660-4df8-a67d-1edf4e539d54",
     "prev": "73e43839-aab8-43bf-8188-6028e976db51",
     "regions": {
      "4298dd6e-4b13-4229-bd6b-5dae3e91b8dc": {
       "attrs": {
        "height": 0.8,
        "width": 0.8,
        "x": 0.1,
        "y": 0.1
       },
       "content": {
        "cell": "0917affd-3569-443c-8b5b-d302a8a20764",
        "part": "whole"
       },
       "id": "4298dd6e-4b13-4229-bd6b-5dae3e91b8dc"
      }
     }
    },
    "cc5477d1-296a-4eb6-aad6-9cc9fdc18dc1": {
     "id": "cc5477d1-296a-4eb6-aad6-9cc9fdc18dc1",
     "prev": "bbd76a64-daa4-4c27-a374-776da5c48419",
     "regions": {
      "df7a7315-cbaa-4689-8200-58db6ee3fa04": {
       "attrs": {
        "height": 0.8,
        "width": 0.8,
        "x": 0.1,
        "y": 0.1
       },
       "content": {
        "cell": "adf4fae8-461f-4d0d-ac73-5e5a4bd8b02d",
        "part": "whole"
       },
       "id": "df7a7315-cbaa-4689-8200-58db6ee3fa04"
      }
     }
    },
    "cd34d442-d377-428a-9ecc-06c71749cd3c": {
     "id": "cd34d442-d377-428a-9ecc-06c71749cd3c",
     "prev": "459a7d44-eecd-474b-b493-f780d5c0eb4d",
     "regions": {
      "6df4aa7b-c2e6-4ff0-bd9b-c890182833e3": {
       "attrs": {
        "height": 0.8,
        "width": 0.8,
        "x": 0.1,
        "y": 0.1
       },
       "content": {
        "cell": "a9d159c7-398b-46c9-b7fc-0cb84c9772a7",
        "part": "whole"
       },
       "id": "6df4aa7b-c2e6-4ff0-bd9b-c890182833e3"
      }
     }
    },
    "cff96311-40ce-4242-927b-6c6837412be6": {
     "id": "cff96311-40ce-4242-927b-6c6837412be6",
     "prev": "9384fc19-ae9e-4015-819c-8f7c0754a472",
     "regions": {
      "1ea09a52-3104-46c5-8644-e3b1a3b91d96": {
       "attrs": {
        "height": 0.8,
        "width": 0.8,
        "x": 0.1,
        "y": 0.1
       },
       "content": {
        "cell": "ce2f8747-bb6a-4045-80dd-4cd598b4c4e5",
        "part": "whole"
       },
       "id": "1ea09a52-3104-46c5-8644-e3b1a3b91d96"
      }
     }
    },
    "d673b5bd-e6e3-4241-8262-9f66a3e1bec7": {
     "id": "d673b5bd-e6e3-4241-8262-9f66a3e1bec7",
     "prev": "d909a918-ae74-4276-9d1b-c19034a86e62",
     "regions": {
      "d6c4c970-d1bf-4929-9205-e74403f32c56": {
       "attrs": {
        "height": 0.8,
        "width": 0.8,
        "x": 0.1,
        "y": 0.1
       },
       "content": {
        "cell": "e2af89e3-50e3-4286-8d40-6fa6b426c131",
        "part": "whole"
       },
       "id": "d6c4c970-d1bf-4929-9205-e74403f32c56"
      }
     }
    },
    "d909a918-ae74-4276-9d1b-c19034a86e62": {
     "id": "d909a918-ae74-4276-9d1b-c19034a86e62",
     "prev": "c39b53bf-b70b-459a-af86-025fef103138",
     "regions": {
      "80b03884-85d3-4972-94b7-e8f01b8444ff": {
       "attrs": {
        "height": 0.8,
        "width": 0.8,
        "x": 0.1,
        "y": 0.1
       },
       "content": {
        "cell": "272f2c1e-d16e-45ab-a5f9-d2038b5b994a",
        "part": "whole"
       },
       "id": "80b03884-85d3-4972-94b7-e8f01b8444ff"
      }
     }
    },
    "ddec3be1-1ee5-4e59-8f16-94db794bbf32": {
     "id": "ddec3be1-1ee5-4e59-8f16-94db794bbf32",
     "prev": "bdeccfac-de62-4085-8191-d726eb8ef6b5",
     "regions": {
      "28c06a44-586b-4a97-b2cf-d4645dedb160": {
       "attrs": {
        "height": 0.8,
        "width": 0.8,
        "x": 0.1,
        "y": 0.1
       },
       "content": {
        "cell": "882cd67b-6bb6-4847-87f5-29aad451ee5d",
        "part": "whole"
       },
       "id": "28c06a44-586b-4a97-b2cf-d4645dedb160"
      }
     }
    },
    "de1607ab-7e06-49ec-93da-9c96b58b48b4": {
     "id": "de1607ab-7e06-49ec-93da-9c96b58b48b4",
     "prev": "8a122701-523f-4edd-b9ec-90c37cab3c9c",
     "regions": {
      "e99376e9-8309-48e1-85db-9ca4281092f9": {
       "attrs": {
        "height": 0.8,
        "width": 0.8,
        "x": 0.1,
        "y": 0.1
       },
       "content": {
        "cell": "83e690d8-1f07-44c0-802e-810a700fab05",
        "part": "whole"
       },
       "id": "e99376e9-8309-48e1-85db-9ca4281092f9"
      }
     }
    },
    "e2b34a97-ecf2-452f-8b3c-8f0a632d3679": {
     "id": "e2b34a97-ecf2-452f-8b3c-8f0a632d3679",
     "prev": null,
     "regions": {
      "6f39cac1-119d-40b8-b4dd-591fbfa43a23": {
       "attrs": {
        "height": 0.8,
        "width": 0.8,
        "x": 0.1,
        "y": 0.1
       },
       "content": {
        "cell": "458955dd-4b7a-42e0-a81e-3bfda063205d",
        "part": "whole"
       },
       "id": "6f39cac1-119d-40b8-b4dd-591fbfa43a23"
      }
     }
    },
    "e76a651d-4aea-4d2d-acc9-dd8dd24a7487": {
     "id": "e76a651d-4aea-4d2d-acc9-dd8dd24a7487",
     "prev": "259ceb15-070c-4242-b35b-475aaa8094db",
     "regions": {
      "acae2a01-dbe1-49e7-be86-45104cf33126": {
       "attrs": {
        "height": 0.8,
        "width": 0.8,
        "x": 0.1,
        "y": 0.1
       },
       "content": {
        "cell": "84c5d1f8-35e4-414a-b682-f103c5c60fa8",
        "part": "whole"
       },
       "id": "acae2a01-dbe1-49e7-be86-45104cf33126"
      }
     }
    },
    "ec21535d-dbed-43f0-a79a-ddfc90f34c1f": {
     "id": "ec21535d-dbed-43f0-a79a-ddfc90f34c1f",
     "prev": "9ccbf50f-4ee4-4b62-8d2c-5af86209627c",
     "regions": {
      "59acdd69-987a-4a07-81bc-2ab095824c9b": {
       "attrs": {
        "height": 0.8,
        "width": 0.8,
        "x": 0.1,
        "y": 0.1
       },
       "content": {
        "cell": "f9eb0aae-3db6-469d-8118-73a3037fe92d",
        "part": "whole"
       },
       "id": "59acdd69-987a-4a07-81bc-2ab095824c9b"
      }
     }
    },
    "ecec15c6-5363-4c47-8e9c-b209388b3905": {
     "id": "ecec15c6-5363-4c47-8e9c-b209388b3905",
     "prev": "c864542a-3660-4df8-a67d-1edf4e539d54",
     "regions": {
      "5d82ee64-803f-467b-84aa-21a621432fcc": {
       "attrs": {
        "height": 0.8,
        "width": 0.8,
        "x": 0.1,
        "y": 0.1
       },
       "content": {
        "cell": "3247ac23-2d60-4212-8f38-e7dffdab81ac",
        "part": "whole"
       },
       "id": "5d82ee64-803f-467b-84aa-21a621432fcc"
      }
     }
    },
    "ef780983-ee1c-4356-b5df-80e0ea3a7432": {
     "id": "ef780983-ee1c-4356-b5df-80e0ea3a7432",
     "prev": "de1607ab-7e06-49ec-93da-9c96b58b48b4",
     "regions": {
      "753bb111-6388-4a68-b3fa-52a7bb169a00": {
       "attrs": {
        "height": 0.8,
        "width": 0.8,
        "x": 0.1,
        "y": 0.1
       },
       "content": {
        "cell": "f521d426-e19d-4e56-b326-bd2681652ec1",
        "part": "whole"
       },
       "id": "753bb111-6388-4a68-b3fa-52a7bb169a00"
      }
     }
    },
    "f03c101f-ddd5-4bc4-b088-66f8e374fa08": {
     "id": "f03c101f-ddd5-4bc4-b088-66f8e374fa08",
     "prev": "8bd73937-bdef-4af2-a9a1-cdf0479441a3",
     "regions": {
      "c1ef9851-7443-4f68-a405-6be3c1dc97cb": {
       "attrs": {
        "height": 0.8,
        "width": 0.8,
        "x": 0.1,
        "y": 0.1
       },
       "content": {
        "cell": "d25d2c62-7452-46ec-8801-56fa2f809f24",
        "part": "whole"
       },
       "id": "c1ef9851-7443-4f68-a405-6be3c1dc97cb"
      }
     }
    },
    "f5c1a417-4ed8-45ff-8d17-01f50f0aab11": {
     "id": "f5c1a417-4ed8-45ff-8d17-01f50f0aab11",
     "prev": "4ec99677-bc96-428c-8687-871699cac003",
     "regions": {
      "1c379137-f0ca-45d9-9a7c-47d3de4d9928": {
       "attrs": {
        "height": 0.8,
        "width": 0.8,
        "x": 0.1,
        "y": 0.1
       },
       "content": {
        "cell": "21af36af-4d2d-42a5-a658-275b31203727",
        "part": "whole"
       },
       "id": "1c379137-f0ca-45d9-9a7c-47d3de4d9928"
      }
     }
    },
    "f6f26bf2-4e90-44a4-aa2c-d625ae8afdd0": {
     "id": "f6f26bf2-4e90-44a4-aa2c-d625ae8afdd0",
     "prev": "f5c1a417-4ed8-45ff-8d17-01f50f0aab11",
     "regions": {
      "a2b08100-af56-46f7-9dd4-6f863e10d2f6": {
       "attrs": {
        "height": 0.8,
        "width": 0.8,
        "x": 0.1,
        "y": 0.1
       },
       "content": {
        "cell": "1340e68e-8485-4eed-90e8-c0b839a6cfb3",
        "part": "whole"
       },
       "id": "a2b08100-af56-46f7-9dd4-6f863e10d2f6"
      }
     }
    },
    "f885fd26-3d13-4b9c-a7a8-82709d63828c": {
     "id": "f885fd26-3d13-4b9c-a7a8-82709d63828c",
     "prev": "3d66a8da-a16f-43b4-80f1-66d703d1aff9",
     "regions": {
      "1b6f71aa-da8c-4f8a-9139-969fc2517f78": {
       "attrs": {
        "height": 0.8,
        "width": 0.8,
        "x": 0.1,
        "y": 0.1
       },
       "content": {
        "cell": "6a3d2c3f-4ad7-4726-bae1-9a73d352b6ae",
        "part": "whole"
       },
       "id": "1b6f71aa-da8c-4f8a-9139-969fc2517f78"
      }
     }
    }
   },
   "themes": {
    "default": "cb7e9bda-a09d-4a28-99eb-1f36cf158f23",
    "theme": {
     "316d550c-4e7f-4ce5-96dc-daa6b6828f96": {
      "backgrounds": {
       "backgroundColor": {
        "background-color": "backgroundColor",
        "id": "backgroundColor"
       }
      },
      "id": "316d550c-4e7f-4ce5-96dc-daa6b6828f96",
      "palette": {
       "backgroundColor": {
        "id": "backgroundColor",
        "rgb": [
         34,
         34,
         34
        ]
       },
       "headingColor": {
        "id": "headingColor",
        "rgb": [
         256,
         256,
         256
        ]
       },
       "linkColor": {
        "id": "linkColor",
        "rgb": [
         66,
         175,
         250
        ]
       },
       "mainColor": {
        "id": "mainColor",
        "rgb": [
         256,
         256,
         256
        ]
       }
      },
      "rules": {
       "a": {
        "color": "linkColor"
       },
       "h1": {
        "color": "headingColor",
        "font-family": "Source Sans Pro",
        "font-size": 5.25
       },
       "h2": {
        "color": "headingColor",
        "font-family": "Source Sans Pro",
        "font-size": 4
       },
       "h3": {
        "color": "headingColor",
        "font-family": "Source Sans Pro",
        "font-size": 3.5
       },
       "h4": {
        "color": "headingColor",
        "font-family": "Source Sans Pro",
        "font-size": 3
       },
       "h5": {
        "color": "headingColor",
        "font-family": "Source Sans Pro"
       },
       "h6": {
        "color": "headingColor",
        "font-family": "Source Sans Pro"
       },
       "h7": {
        "color": "headingColor",
        "font-family": "Source Sans Pro"
       },
       "li": {
        "color": "mainColor",
        "font-family": "Source Sans Pro",
        "font-size": 6
       },
       "p": {
        "color": "mainColor",
        "font-family": "Source Sans Pro",
        "font-size": 6
       }
      },
      "text-base": {
       "color": "mainColor",
       "font-family": "Source Sans Pro",
       "font-size": 6
      }
     },
     "cb7e9bda-a09d-4a28-99eb-1f36cf158f23": {
      "backgrounds": {
       "backgroundColor": {
        "background-color": "backgroundColor",
        "id": "backgroundColor"
       }
      },
      "id": "cb7e9bda-a09d-4a28-99eb-1f36cf158f23",
      "palette": {
       "backgroundColor": {
        "id": "backgroundColor",
        "rgb": [
         256,
         256,
         256
        ]
       },
       "headingColor": {
        "id": "headingColor",
        "rgb": [
         0,
         0,
         0
        ]
       },
       "linkColor": {
        "id": "linkColor",
        "rgb": [
         0,
         0,
         139
        ]
       },
       "mainColor": {
        "id": "mainColor",
        "rgb": [
         0,
         0,
         0
        ]
       }
      },
      "rules": {
       "a": {
        "color": "linkColor"
       },
       "h1": {
        "color": "headingColor",
        "font-family": "News Cycle",
        "font-size": 7
       },
       "h2": {
        "color": "headingColor",
        "font-family": "News Cycle",
        "font-size": 5
       },
       "h3": {
        "color": "headingColor",
        "font-family": "News Cycle",
        "font-size": 3.75
       },
       "h4": {
        "color": "headingColor",
        "font-family": "News Cycle",
        "font-size": 3
       },
       "h5": {
        "color": "headingColor",
        "font-family": "News Cycle"
       },
       "h6": {
        "color": "headingColor",
        "font-family": "News Cycle"
       },
       "h7": {
        "color": "headingColor",
        "font-family": "News Cycle"
       },
       "li": {
        "color": "mainColor",
        "font-family": "Lato",
        "font-size": 5
       },
       "p": {
        "color": "mainColor",
        "font-family": "Lato",
        "font-size": 5
       }
      },
      "text-base": {
       "color": "mainColor",
       "font-family": "Lato",
       "font-size": 5
      }
     }
    }
   }
  }
 },
 "nbformat": 4,
 "nbformat_minor": 2
}
