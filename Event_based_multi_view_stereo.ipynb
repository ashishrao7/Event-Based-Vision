{
 "cells": [
  {
   "cell_type": "markdown",
   "metadata": {
    "nbpresent": {
     "id": "458955dd-4b7a-42e0-a81e-3bfda063205d"
    },
    "slideshow": {
     "slide_type": "slide"
    }
   },
   "source": [
    "### Rebecq, H., Gallego, G., Mueggler, E., and Scaramuzza, D. (2017). EMVS: Event-Based Multi-View Stereo—3D Reconstruction with an Event Camera in Real-Time. International Journal of Computer Vision 1–21."
   ]
  },
  {
   "cell_type": "markdown",
   "metadata": {
    "nbpresent": {
     "id": "ced8ae4b-41bb-45e1-b6f8-8544490a39c2"
    },
    "slideshow": {
     "slide_type": "fragment"
    }
   },
   "source": [
    "This notebook is an implementation of the above paper on semi-dense 3D reconstruction of a scene using back projection methods. The scene data is captured using an event camera. The notebook has been structured according to the methodology outlined in the paper."
   ]
  },
  {
   "cell_type": "code",
   "execution_count": 127,
   "metadata": {
    "nbpresent": {
     "id": "77d1eb0e-41c4-4247-859b-acab4d426bd3"
    },
    "slideshow": {
     "slide_type": "subslide"
    }
   },
   "outputs": [
    {
     "name": "stdout",
     "output_type": "stream",
     "text": [
      "The line_profiler extension is already loaded. To reload it, use:\n",
      "  %reload_ext line_profiler\n"
     ]
    }
   ],
   "source": [
    "import cv2\n",
    "import os\n",
    "import scipy\n",
    "import numpy as np\n",
    "import matplotlib.pyplot as plt\n",
    "import time\n",
    "import pyquaternion as qt\n",
    "%load_ext line_profiler\n",
    "%matplotlib notebook\n",
    "\n",
    "data_path = 'data/slider_depth'"
   ]
  },
  {
   "cell_type": "markdown",
   "metadata": {},
   "source": [
    "The %lprun  and %timeit commands have been used throughout the notebook to time the execution of the functions."
   ]
  },
  {
   "cell_type": "markdown",
   "metadata": {
    "nbpresent": {
     "id": "7b098df0-6fd1-4de5-ae84-4351a8b2a3e2"
    },
    "slideshow": {
     "slide_type": "slide"
    }
   },
   "source": [
    "## Table of Contents\n",
    "[1. Scene Video(optional)](#scene_video)\n",
    "\n",
    "[2. Data Available and Data format](#data)\n",
    "    \n",
    "   &nbsp;&nbsp;&nbsp;&nbsp;&nbsp;[2.1 Camera Matrix](#cam_mat)\n",
    "   \n",
    "   &nbsp;&nbsp;&nbsp;&nbsp;&nbsp;[2.2 Obtaining pose information relevant to events under consideration from the groundtruth files](#event_data)\n",
    " \n",
    "[3. Stages of Reconstruction](#stages)\n",
    "\n",
    "   &nbsp;&nbsp;&nbsp;&nbsp;&nbsp;[3.1 Back-Projection](#stage_1)\n",
    "   \n",
    "   &nbsp;&nbsp;&nbsp;&nbsp;&nbsp;[3.2 Ray-Counting](#stage_2)\n",
    "   \n",
    "   &nbsp;&nbsp;&nbsp;&nbsp;&nbsp;[3.3 Voting](#stage_3)\n",
    "   \n",
    "   &nbsp;&nbsp;&nbsp;&nbsp;&nbsp;[3.4 Scene Restructuring](#stage_4)\n",
    "   \n",
    "   &nbsp;&nbsp;&nbsp;&nbsp;&nbsp;[3.5 Cleaning](#stage_5)\n",
    "   \n",
    "    \n",
    "[4. Algorithm](#algorithm)\n",
    "\n",
    "   &nbsp;&nbsp;&nbsp;&nbsp;&nbsp;[4.1 Pictorial Representation of the Algorithm](#algo_pic)\n",
    "\n",
    "[5. The Main Function](#main)"
   ]
  },
  {
   "cell_type": "code",
   "execution_count": 128,
   "metadata": {},
   "outputs": [],
   "source": [
    "num_of_depth_planes = 100 # number of depth planes to be used for the 3-D projective Space\n",
    "Z_0 = 1  # The reference plane for initial mapping, 1 has been chosen arbitrarily"
   ]
  },
  {
   "cell_type": "markdown",
   "metadata": {
    "nbpresent": {
     "id": "3b7e6e0a-2698-48f4-b1cf-0da86501ea0e"
    },
    "slideshow": {
     "slide_type": "slide"
    }
   },
   "source": [
    "<a id=\"scene_video\"></a>\n",
    "## 1. Scene Video\n"
   ]
  },
  {
   "cell_type": "markdown",
   "metadata": {
    "nbpresent": {
     "id": "a9d159c7-398b-46c9-b7fc-0cb84c9772a7"
    },
    "slideshow": {
     "slide_type": "fragment"
    }
   },
   "source": [
    "The DAVIS camera has a conventional image capturing system along with the event based system. While we shall not be using the conventional stream during our implementation, the conventional stream of data helps the user visualize the scene that is undergoing reconstruction."
   ]
  },
  {
   "cell_type": "code",
   "execution_count": 129,
   "metadata": {
    "nbpresent": {
     "id": "1502a5a3-4567-48c8-a515-6892d330fcb8"
    },
    "slideshow": {
     "slide_type": "subslide"
    }
   },
   "outputs": [],
   "source": [
    "normal_img_path = data_path + '/images'\n",
    "normal_imgs = [normal_img_path + \"/\" + img for img in os.listdir(normal_img_path) if img.endswith(\".png\")]\n",
    "normal_imgs.sort()"
   ]
  },
  {
   "cell_type": "code",
   "execution_count": 130,
   "metadata": {
    "nbpresent": {
     "id": "46485b54-7a29-48ec-b4a6-24396d33c26b"
    },
    "slideshow": {
     "slide_type": "subslide"
    }
   },
   "outputs": [
    {
     "data": {
      "application/javascript": [
       "/* Put everything inside the global mpl namespace */\n",
       "window.mpl = {};\n",
       "\n",
       "\n",
       "mpl.get_websocket_type = function() {\n",
       "    if (typeof(WebSocket) !== 'undefined') {\n",
       "        return WebSocket;\n",
       "    } else if (typeof(MozWebSocket) !== 'undefined') {\n",
       "        return MozWebSocket;\n",
       "    } else {\n",
       "        alert('Your browser does not have WebSocket support.' +\n",
       "              'Please try Chrome, Safari or Firefox ≥ 6. ' +\n",
       "              'Firefox 4 and 5 are also supported but you ' +\n",
       "              'have to enable WebSockets in about:config.');\n",
       "    };\n",
       "}\n",
       "\n",
       "mpl.figure = function(figure_id, websocket, ondownload, parent_element) {\n",
       "    this.id = figure_id;\n",
       "\n",
       "    this.ws = websocket;\n",
       "\n",
       "    this.supports_binary = (this.ws.binaryType != undefined);\n",
       "\n",
       "    if (!this.supports_binary) {\n",
       "        var warnings = document.getElementById(\"mpl-warnings\");\n",
       "        if (warnings) {\n",
       "            warnings.style.display = 'block';\n",
       "            warnings.textContent = (\n",
       "                \"This browser does not support binary websocket messages. \" +\n",
       "                    \"Performance may be slow.\");\n",
       "        }\n",
       "    }\n",
       "\n",
       "    this.imageObj = new Image();\n",
       "\n",
       "    this.context = undefined;\n",
       "    this.message = undefined;\n",
       "    this.canvas = undefined;\n",
       "    this.rubberband_canvas = undefined;\n",
       "    this.rubberband_context = undefined;\n",
       "    this.format_dropdown = undefined;\n",
       "\n",
       "    this.image_mode = 'full';\n",
       "\n",
       "    this.root = $('<div/>');\n",
       "    this._root_extra_style(this.root)\n",
       "    this.root.attr('style', 'display: inline-block');\n",
       "\n",
       "    $(parent_element).append(this.root);\n",
       "\n",
       "    this._init_header(this);\n",
       "    this._init_canvas(this);\n",
       "    this._init_toolbar(this);\n",
       "\n",
       "    var fig = this;\n",
       "\n",
       "    this.waiting = false;\n",
       "\n",
       "    this.ws.onopen =  function () {\n",
       "            fig.send_message(\"supports_binary\", {value: fig.supports_binary});\n",
       "            fig.send_message(\"send_image_mode\", {});\n",
       "            if (mpl.ratio != 1) {\n",
       "                fig.send_message(\"set_dpi_ratio\", {'dpi_ratio': mpl.ratio});\n",
       "            }\n",
       "            fig.send_message(\"refresh\", {});\n",
       "        }\n",
       "\n",
       "    this.imageObj.onload = function() {\n",
       "            if (fig.image_mode == 'full') {\n",
       "                // Full images could contain transparency (where diff images\n",
       "                // almost always do), so we need to clear the canvas so that\n",
       "                // there is no ghosting.\n",
       "                fig.context.clearRect(0, 0, fig.canvas.width, fig.canvas.height);\n",
       "            }\n",
       "            fig.context.drawImage(fig.imageObj, 0, 0);\n",
       "        };\n",
       "\n",
       "    this.imageObj.onunload = function() {\n",
       "        fig.ws.close();\n",
       "    }\n",
       "\n",
       "    this.ws.onmessage = this._make_on_message_function(this);\n",
       "\n",
       "    this.ondownload = ondownload;\n",
       "}\n",
       "\n",
       "mpl.figure.prototype._init_header = function() {\n",
       "    var titlebar = $(\n",
       "        '<div class=\"ui-dialog-titlebar ui-widget-header ui-corner-all ' +\n",
       "        'ui-helper-clearfix\"/>');\n",
       "    var titletext = $(\n",
       "        '<div class=\"ui-dialog-title\" style=\"width: 100%; ' +\n",
       "        'text-align: center; padding: 3px;\"/>');\n",
       "    titlebar.append(titletext)\n",
       "    this.root.append(titlebar);\n",
       "    this.header = titletext[0];\n",
       "}\n",
       "\n",
       "\n",
       "\n",
       "mpl.figure.prototype._canvas_extra_style = function(canvas_div) {\n",
       "\n",
       "}\n",
       "\n",
       "\n",
       "mpl.figure.prototype._root_extra_style = function(canvas_div) {\n",
       "\n",
       "}\n",
       "\n",
       "mpl.figure.prototype._init_canvas = function() {\n",
       "    var fig = this;\n",
       "\n",
       "    var canvas_div = $('<div/>');\n",
       "\n",
       "    canvas_div.attr('style', 'position: relative; clear: both; outline: 0');\n",
       "\n",
       "    function canvas_keyboard_event(event) {\n",
       "        return fig.key_event(event, event['data']);\n",
       "    }\n",
       "\n",
       "    canvas_div.keydown('key_press', canvas_keyboard_event);\n",
       "    canvas_div.keyup('key_release', canvas_keyboard_event);\n",
       "    this.canvas_div = canvas_div\n",
       "    this._canvas_extra_style(canvas_div)\n",
       "    this.root.append(canvas_div);\n",
       "\n",
       "    var canvas = $('<canvas/>');\n",
       "    canvas.addClass('mpl-canvas');\n",
       "    canvas.attr('style', \"left: 0; top: 0; z-index: 0; outline: 0\")\n",
       "\n",
       "    this.canvas = canvas[0];\n",
       "    this.context = canvas[0].getContext(\"2d\");\n",
       "\n",
       "    var backingStore = this.context.backingStorePixelRatio ||\n",
       "\tthis.context.webkitBackingStorePixelRatio ||\n",
       "\tthis.context.mozBackingStorePixelRatio ||\n",
       "\tthis.context.msBackingStorePixelRatio ||\n",
       "\tthis.context.oBackingStorePixelRatio ||\n",
       "\tthis.context.backingStorePixelRatio || 1;\n",
       "\n",
       "    mpl.ratio = (window.devicePixelRatio || 1) / backingStore;\n",
       "\n",
       "    var rubberband = $('<canvas/>');\n",
       "    rubberband.attr('style', \"position: absolute; left: 0; top: 0; z-index: 1;\")\n",
       "\n",
       "    var pass_mouse_events = true;\n",
       "\n",
       "    canvas_div.resizable({\n",
       "        start: function(event, ui) {\n",
       "            pass_mouse_events = false;\n",
       "        },\n",
       "        resize: function(event, ui) {\n",
       "            fig.request_resize(ui.size.width, ui.size.height);\n",
       "        },\n",
       "        stop: function(event, ui) {\n",
       "            pass_mouse_events = true;\n",
       "            fig.request_resize(ui.size.width, ui.size.height);\n",
       "        },\n",
       "    });\n",
       "\n",
       "    function mouse_event_fn(event) {\n",
       "        if (pass_mouse_events)\n",
       "            return fig.mouse_event(event, event['data']);\n",
       "    }\n",
       "\n",
       "    rubberband.mousedown('button_press', mouse_event_fn);\n",
       "    rubberband.mouseup('button_release', mouse_event_fn);\n",
       "    // Throttle sequential mouse events to 1 every 20ms.\n",
       "    rubberband.mousemove('motion_notify', mouse_event_fn);\n",
       "\n",
       "    rubberband.mouseenter('figure_enter', mouse_event_fn);\n",
       "    rubberband.mouseleave('figure_leave', mouse_event_fn);\n",
       "\n",
       "    canvas_div.on(\"wheel\", function (event) {\n",
       "        event = event.originalEvent;\n",
       "        event['data'] = 'scroll'\n",
       "        if (event.deltaY < 0) {\n",
       "            event.step = 1;\n",
       "        } else {\n",
       "            event.step = -1;\n",
       "        }\n",
       "        mouse_event_fn(event);\n",
       "    });\n",
       "\n",
       "    canvas_div.append(canvas);\n",
       "    canvas_div.append(rubberband);\n",
       "\n",
       "    this.rubberband = rubberband;\n",
       "    this.rubberband_canvas = rubberband[0];\n",
       "    this.rubberband_context = rubberband[0].getContext(\"2d\");\n",
       "    this.rubberband_context.strokeStyle = \"#000000\";\n",
       "\n",
       "    this._resize_canvas = function(width, height) {\n",
       "        // Keep the size of the canvas, canvas container, and rubber band\n",
       "        // canvas in synch.\n",
       "        canvas_div.css('width', width)\n",
       "        canvas_div.css('height', height)\n",
       "\n",
       "        canvas.attr('width', width * mpl.ratio);\n",
       "        canvas.attr('height', height * mpl.ratio);\n",
       "        canvas.attr('style', 'width: ' + width + 'px; height: ' + height + 'px;');\n",
       "\n",
       "        rubberband.attr('width', width);\n",
       "        rubberband.attr('height', height);\n",
       "    }\n",
       "\n",
       "    // Set the figure to an initial 600x600px, this will subsequently be updated\n",
       "    // upon first draw.\n",
       "    this._resize_canvas(600, 600);\n",
       "\n",
       "    // Disable right mouse context menu.\n",
       "    $(this.rubberband_canvas).bind(\"contextmenu\",function(e){\n",
       "        return false;\n",
       "    });\n",
       "\n",
       "    function set_focus () {\n",
       "        canvas.focus();\n",
       "        canvas_div.focus();\n",
       "    }\n",
       "\n",
       "    window.setTimeout(set_focus, 100);\n",
       "}\n",
       "\n",
       "mpl.figure.prototype._init_toolbar = function() {\n",
       "    var fig = this;\n",
       "\n",
       "    var nav_element = $('<div/>')\n",
       "    nav_element.attr('style', 'width: 100%');\n",
       "    this.root.append(nav_element);\n",
       "\n",
       "    // Define a callback function for later on.\n",
       "    function toolbar_event(event) {\n",
       "        return fig.toolbar_button_onclick(event['data']);\n",
       "    }\n",
       "    function toolbar_mouse_event(event) {\n",
       "        return fig.toolbar_button_onmouseover(event['data']);\n",
       "    }\n",
       "\n",
       "    for(var toolbar_ind in mpl.toolbar_items) {\n",
       "        var name = mpl.toolbar_items[toolbar_ind][0];\n",
       "        var tooltip = mpl.toolbar_items[toolbar_ind][1];\n",
       "        var image = mpl.toolbar_items[toolbar_ind][2];\n",
       "        var method_name = mpl.toolbar_items[toolbar_ind][3];\n",
       "\n",
       "        if (!name) {\n",
       "            // put a spacer in here.\n",
       "            continue;\n",
       "        }\n",
       "        var button = $('<button/>');\n",
       "        button.addClass('ui-button ui-widget ui-state-default ui-corner-all ' +\n",
       "                        'ui-button-icon-only');\n",
       "        button.attr('role', 'button');\n",
       "        button.attr('aria-disabled', 'false');\n",
       "        button.click(method_name, toolbar_event);\n",
       "        button.mouseover(tooltip, toolbar_mouse_event);\n",
       "\n",
       "        var icon_img = $('<span/>');\n",
       "        icon_img.addClass('ui-button-icon-primary ui-icon');\n",
       "        icon_img.addClass(image);\n",
       "        icon_img.addClass('ui-corner-all');\n",
       "\n",
       "        var tooltip_span = $('<span/>');\n",
       "        tooltip_span.addClass('ui-button-text');\n",
       "        tooltip_span.html(tooltip);\n",
       "\n",
       "        button.append(icon_img);\n",
       "        button.append(tooltip_span);\n",
       "\n",
       "        nav_element.append(button);\n",
       "    }\n",
       "\n",
       "    var fmt_picker_span = $('<span/>');\n",
       "\n",
       "    var fmt_picker = $('<select/>');\n",
       "    fmt_picker.addClass('mpl-toolbar-option ui-widget ui-widget-content');\n",
       "    fmt_picker_span.append(fmt_picker);\n",
       "    nav_element.append(fmt_picker_span);\n",
       "    this.format_dropdown = fmt_picker[0];\n",
       "\n",
       "    for (var ind in mpl.extensions) {\n",
       "        var fmt = mpl.extensions[ind];\n",
       "        var option = $(\n",
       "            '<option/>', {selected: fmt === mpl.default_extension}).html(fmt);\n",
       "        fmt_picker.append(option)\n",
       "    }\n",
       "\n",
       "    // Add hover states to the ui-buttons\n",
       "    $( \".ui-button\" ).hover(\n",
       "        function() { $(this).addClass(\"ui-state-hover\");},\n",
       "        function() { $(this).removeClass(\"ui-state-hover\");}\n",
       "    );\n",
       "\n",
       "    var status_bar = $('<span class=\"mpl-message\"/>');\n",
       "    nav_element.append(status_bar);\n",
       "    this.message = status_bar[0];\n",
       "}\n",
       "\n",
       "mpl.figure.prototype.request_resize = function(x_pixels, y_pixels) {\n",
       "    // Request matplotlib to resize the figure. Matplotlib will then trigger a resize in the client,\n",
       "    // which will in turn request a refresh of the image.\n",
       "    this.send_message('resize', {'width': x_pixels, 'height': y_pixels});\n",
       "}\n",
       "\n",
       "mpl.figure.prototype.send_message = function(type, properties) {\n",
       "    properties['type'] = type;\n",
       "    properties['figure_id'] = this.id;\n",
       "    this.ws.send(JSON.stringify(properties));\n",
       "}\n",
       "\n",
       "mpl.figure.prototype.send_draw_message = function() {\n",
       "    if (!this.waiting) {\n",
       "        this.waiting = true;\n",
       "        this.ws.send(JSON.stringify({type: \"draw\", figure_id: this.id}));\n",
       "    }\n",
       "}\n",
       "\n",
       "\n",
       "mpl.figure.prototype.handle_save = function(fig, msg) {\n",
       "    var format_dropdown = fig.format_dropdown;\n",
       "    var format = format_dropdown.options[format_dropdown.selectedIndex].value;\n",
       "    fig.ondownload(fig, format);\n",
       "}\n",
       "\n",
       "\n",
       "mpl.figure.prototype.handle_resize = function(fig, msg) {\n",
       "    var size = msg['size'];\n",
       "    if (size[0] != fig.canvas.width || size[1] != fig.canvas.height) {\n",
       "        fig._resize_canvas(size[0], size[1]);\n",
       "        fig.send_message(\"refresh\", {});\n",
       "    };\n",
       "}\n",
       "\n",
       "mpl.figure.prototype.handle_rubberband = function(fig, msg) {\n",
       "    var x0 = msg['x0'] / mpl.ratio;\n",
       "    var y0 = (fig.canvas.height - msg['y0']) / mpl.ratio;\n",
       "    var x1 = msg['x1'] / mpl.ratio;\n",
       "    var y1 = (fig.canvas.height - msg['y1']) / mpl.ratio;\n",
       "    x0 = Math.floor(x0) + 0.5;\n",
       "    y0 = Math.floor(y0) + 0.5;\n",
       "    x1 = Math.floor(x1) + 0.5;\n",
       "    y1 = Math.floor(y1) + 0.5;\n",
       "    var min_x = Math.min(x0, x1);\n",
       "    var min_y = Math.min(y0, y1);\n",
       "    var width = Math.abs(x1 - x0);\n",
       "    var height = Math.abs(y1 - y0);\n",
       "\n",
       "    fig.rubberband_context.clearRect(\n",
       "        0, 0, fig.canvas.width, fig.canvas.height);\n",
       "\n",
       "    fig.rubberband_context.strokeRect(min_x, min_y, width, height);\n",
       "}\n",
       "\n",
       "mpl.figure.prototype.handle_figure_label = function(fig, msg) {\n",
       "    // Updates the figure title.\n",
       "    fig.header.textContent = msg['label'];\n",
       "}\n",
       "\n",
       "mpl.figure.prototype.handle_cursor = function(fig, msg) {\n",
       "    var cursor = msg['cursor'];\n",
       "    switch(cursor)\n",
       "    {\n",
       "    case 0:\n",
       "        cursor = 'pointer';\n",
       "        break;\n",
       "    case 1:\n",
       "        cursor = 'default';\n",
       "        break;\n",
       "    case 2:\n",
       "        cursor = 'crosshair';\n",
       "        break;\n",
       "    case 3:\n",
       "        cursor = 'move';\n",
       "        break;\n",
       "    }\n",
       "    fig.rubberband_canvas.style.cursor = cursor;\n",
       "}\n",
       "\n",
       "mpl.figure.prototype.handle_message = function(fig, msg) {\n",
       "    fig.message.textContent = msg['message'];\n",
       "}\n",
       "\n",
       "mpl.figure.prototype.handle_draw = function(fig, msg) {\n",
       "    // Request the server to send over a new figure.\n",
       "    fig.send_draw_message();\n",
       "}\n",
       "\n",
       "mpl.figure.prototype.handle_image_mode = function(fig, msg) {\n",
       "    fig.image_mode = msg['mode'];\n",
       "}\n",
       "\n",
       "mpl.figure.prototype.updated_canvas_event = function() {\n",
       "    // Called whenever the canvas gets updated.\n",
       "    this.send_message(\"ack\", {});\n",
       "}\n",
       "\n",
       "// A function to construct a web socket function for onmessage handling.\n",
       "// Called in the figure constructor.\n",
       "mpl.figure.prototype._make_on_message_function = function(fig) {\n",
       "    return function socket_on_message(evt) {\n",
       "        if (evt.data instanceof Blob) {\n",
       "            /* FIXME: We get \"Resource interpreted as Image but\n",
       "             * transferred with MIME type text/plain:\" errors on\n",
       "             * Chrome.  But how to set the MIME type?  It doesn't seem\n",
       "             * to be part of the websocket stream */\n",
       "            evt.data.type = \"image/png\";\n",
       "\n",
       "            /* Free the memory for the previous frames */\n",
       "            if (fig.imageObj.src) {\n",
       "                (window.URL || window.webkitURL).revokeObjectURL(\n",
       "                    fig.imageObj.src);\n",
       "            }\n",
       "\n",
       "            fig.imageObj.src = (window.URL || window.webkitURL).createObjectURL(\n",
       "                evt.data);\n",
       "            fig.updated_canvas_event();\n",
       "            fig.waiting = false;\n",
       "            return;\n",
       "        }\n",
       "        else if (typeof evt.data === 'string' && evt.data.slice(0, 21) == \"data:image/png;base64\") {\n",
       "            fig.imageObj.src = evt.data;\n",
       "            fig.updated_canvas_event();\n",
       "            fig.waiting = false;\n",
       "            return;\n",
       "        }\n",
       "\n",
       "        var msg = JSON.parse(evt.data);\n",
       "        var msg_type = msg['type'];\n",
       "\n",
       "        // Call the  \"handle_{type}\" callback, which takes\n",
       "        // the figure and JSON message as its only arguments.\n",
       "        try {\n",
       "            var callback = fig[\"handle_\" + msg_type];\n",
       "        } catch (e) {\n",
       "            console.log(\"No handler for the '\" + msg_type + \"' message type: \", msg);\n",
       "            return;\n",
       "        }\n",
       "\n",
       "        if (callback) {\n",
       "            try {\n",
       "                // console.log(\"Handling '\" + msg_type + \"' message: \", msg);\n",
       "                callback(fig, msg);\n",
       "            } catch (e) {\n",
       "                console.log(\"Exception inside the 'handler_\" + msg_type + \"' callback:\", e, e.stack, msg);\n",
       "            }\n",
       "        }\n",
       "    };\n",
       "}\n",
       "\n",
       "// from http://stackoverflow.com/questions/1114465/getting-mouse-location-in-canvas\n",
       "mpl.findpos = function(e) {\n",
       "    //this section is from http://www.quirksmode.org/js/events_properties.html\n",
       "    var targ;\n",
       "    if (!e)\n",
       "        e = window.event;\n",
       "    if (e.target)\n",
       "        targ = e.target;\n",
       "    else if (e.srcElement)\n",
       "        targ = e.srcElement;\n",
       "    if (targ.nodeType == 3) // defeat Safari bug\n",
       "        targ = targ.parentNode;\n",
       "\n",
       "    // jQuery normalizes the pageX and pageY\n",
       "    // pageX,Y are the mouse positions relative to the document\n",
       "    // offset() returns the position of the element relative to the document\n",
       "    var x = e.pageX - $(targ).offset().left;\n",
       "    var y = e.pageY - $(targ).offset().top;\n",
       "\n",
       "    return {\"x\": x, \"y\": y};\n",
       "};\n",
       "\n",
       "/*\n",
       " * return a copy of an object with only non-object keys\n",
       " * we need this to avoid circular references\n",
       " * http://stackoverflow.com/a/24161582/3208463\n",
       " */\n",
       "function simpleKeys (original) {\n",
       "  return Object.keys(original).reduce(function (obj, key) {\n",
       "    if (typeof original[key] !== 'object')\n",
       "        obj[key] = original[key]\n",
       "    return obj;\n",
       "  }, {});\n",
       "}\n",
       "\n",
       "mpl.figure.prototype.mouse_event = function(event, name) {\n",
       "    var canvas_pos = mpl.findpos(event)\n",
       "\n",
       "    if (name === 'button_press')\n",
       "    {\n",
       "        this.canvas.focus();\n",
       "        this.canvas_div.focus();\n",
       "    }\n",
       "\n",
       "    var x = canvas_pos.x * mpl.ratio;\n",
       "    var y = canvas_pos.y * mpl.ratio;\n",
       "\n",
       "    this.send_message(name, {x: x, y: y, button: event.button,\n",
       "                             step: event.step,\n",
       "                             guiEvent: simpleKeys(event)});\n",
       "\n",
       "    /* This prevents the web browser from automatically changing to\n",
       "     * the text insertion cursor when the button is pressed.  We want\n",
       "     * to control all of the cursor setting manually through the\n",
       "     * 'cursor' event from matplotlib */\n",
       "    event.preventDefault();\n",
       "    return false;\n",
       "}\n",
       "\n",
       "mpl.figure.prototype._key_event_extra = function(event, name) {\n",
       "    // Handle any extra behaviour associated with a key event\n",
       "}\n",
       "\n",
       "mpl.figure.prototype.key_event = function(event, name) {\n",
       "\n",
       "    // Prevent repeat events\n",
       "    if (name == 'key_press')\n",
       "    {\n",
       "        if (event.which === this._key)\n",
       "            return;\n",
       "        else\n",
       "            this._key = event.which;\n",
       "    }\n",
       "    if (name == 'key_release')\n",
       "        this._key = null;\n",
       "\n",
       "    var value = '';\n",
       "    if (event.ctrlKey && event.which != 17)\n",
       "        value += \"ctrl+\";\n",
       "    if (event.altKey && event.which != 18)\n",
       "        value += \"alt+\";\n",
       "    if (event.shiftKey && event.which != 16)\n",
       "        value += \"shift+\";\n",
       "\n",
       "    value += 'k';\n",
       "    value += event.which.toString();\n",
       "\n",
       "    this._key_event_extra(event, name);\n",
       "\n",
       "    this.send_message(name, {key: value,\n",
       "                             guiEvent: simpleKeys(event)});\n",
       "    return false;\n",
       "}\n",
       "\n",
       "mpl.figure.prototype.toolbar_button_onclick = function(name) {\n",
       "    if (name == 'download') {\n",
       "        this.handle_save(this, null);\n",
       "    } else {\n",
       "        this.send_message(\"toolbar_button\", {name: name});\n",
       "    }\n",
       "};\n",
       "\n",
       "mpl.figure.prototype.toolbar_button_onmouseover = function(tooltip) {\n",
       "    this.message.textContent = tooltip;\n",
       "};\n",
       "mpl.toolbar_items = [[\"Home\", \"Reset original view\", \"fa fa-home icon-home\", \"home\"], [\"Back\", \"Back to  previous view\", \"fa fa-arrow-left icon-arrow-left\", \"back\"], [\"Forward\", \"Forward to next view\", \"fa fa-arrow-right icon-arrow-right\", \"forward\"], [\"\", \"\", \"\", \"\"], [\"Pan\", \"Pan axes with left mouse, zoom with right\", \"fa fa-arrows icon-move\", \"pan\"], [\"Zoom\", \"Zoom to rectangle\", \"fa fa-square-o icon-check-empty\", \"zoom\"], [\"\", \"\", \"\", \"\"], [\"Download\", \"Download plot\", \"fa fa-floppy-o icon-save\", \"download\"]];\n",
       "\n",
       "mpl.extensions = [\"eps\", \"jpeg\", \"pdf\", \"png\", \"ps\", \"raw\", \"svg\", \"tif\"];\n",
       "\n",
       "mpl.default_extension = \"png\";var comm_websocket_adapter = function(comm) {\n",
       "    // Create a \"websocket\"-like object which calls the given IPython comm\n",
       "    // object with the appropriate methods. Currently this is a non binary\n",
       "    // socket, so there is still some room for performance tuning.\n",
       "    var ws = {};\n",
       "\n",
       "    ws.close = function() {\n",
       "        comm.close()\n",
       "    };\n",
       "    ws.send = function(m) {\n",
       "        //console.log('sending', m);\n",
       "        comm.send(m);\n",
       "    };\n",
       "    // Register the callback with on_msg.\n",
       "    comm.on_msg(function(msg) {\n",
       "        //console.log('receiving', msg['content']['data'], msg);\n",
       "        // Pass the mpl event to the overridden (by mpl) onmessage function.\n",
       "        ws.onmessage(msg['content']['data'])\n",
       "    });\n",
       "    return ws;\n",
       "}\n",
       "\n",
       "mpl.mpl_figure_comm = function(comm, msg) {\n",
       "    // This is the function which gets called when the mpl process\n",
       "    // starts-up an IPython Comm through the \"matplotlib\" channel.\n",
       "\n",
       "    var id = msg.content.data.id;\n",
       "    // Get hold of the div created by the display call when the Comm\n",
       "    // socket was opened in Python.\n",
       "    var element = $(\"#\" + id);\n",
       "    var ws_proxy = comm_websocket_adapter(comm)\n",
       "\n",
       "    function ondownload(figure, format) {\n",
       "        window.open(figure.imageObj.src);\n",
       "    }\n",
       "\n",
       "    var fig = new mpl.figure(id, ws_proxy,\n",
       "                           ondownload,\n",
       "                           element.get(0));\n",
       "\n",
       "    // Call onopen now - mpl needs it, as it is assuming we've passed it a real\n",
       "    // web socket which is closed, not our websocket->open comm proxy.\n",
       "    ws_proxy.onopen();\n",
       "\n",
       "    fig.parent_element = element.get(0);\n",
       "    fig.cell_info = mpl.find_output_cell(\"<div id='\" + id + \"'></div>\");\n",
       "    if (!fig.cell_info) {\n",
       "        console.error(\"Failed to find cell for figure\", id, fig);\n",
       "        return;\n",
       "    }\n",
       "\n",
       "    var output_index = fig.cell_info[2]\n",
       "    var cell = fig.cell_info[0];\n",
       "\n",
       "};\n",
       "\n",
       "mpl.figure.prototype.handle_close = function(fig, msg) {\n",
       "    var width = fig.canvas.width/mpl.ratio\n",
       "    fig.root.unbind('remove')\n",
       "\n",
       "    // Update the output cell to use the data from the current canvas.\n",
       "    fig.push_to_output();\n",
       "    var dataURL = fig.canvas.toDataURL();\n",
       "    // Re-enable the keyboard manager in IPython - without this line, in FF,\n",
       "    // the notebook keyboard shortcuts fail.\n",
       "    IPython.keyboard_manager.enable()\n",
       "    $(fig.parent_element).html('<img src=\"' + dataURL + '\" width=\"' + width + '\">');\n",
       "    fig.close_ws(fig, msg);\n",
       "}\n",
       "\n",
       "mpl.figure.prototype.close_ws = function(fig, msg){\n",
       "    fig.send_message('closing', msg);\n",
       "    // fig.ws.close()\n",
       "}\n",
       "\n",
       "mpl.figure.prototype.push_to_output = function(remove_interactive) {\n",
       "    // Turn the data on the canvas into data in the output cell.\n",
       "    var width = this.canvas.width/mpl.ratio\n",
       "    var dataURL = this.canvas.toDataURL();\n",
       "    this.cell_info[1]['text/html'] = '<img src=\"' + dataURL + '\" width=\"' + width + '\">';\n",
       "}\n",
       "\n",
       "mpl.figure.prototype.updated_canvas_event = function() {\n",
       "    // Tell IPython that the notebook contents must change.\n",
       "    IPython.notebook.set_dirty(true);\n",
       "    this.send_message(\"ack\", {});\n",
       "    var fig = this;\n",
       "    // Wait a second, then push the new image to the DOM so\n",
       "    // that it is saved nicely (might be nice to debounce this).\n",
       "    setTimeout(function () { fig.push_to_output() }, 1000);\n",
       "}\n",
       "\n",
       "mpl.figure.prototype._init_toolbar = function() {\n",
       "    var fig = this;\n",
       "\n",
       "    var nav_element = $('<div/>')\n",
       "    nav_element.attr('style', 'width: 100%');\n",
       "    this.root.append(nav_element);\n",
       "\n",
       "    // Define a callback function for later on.\n",
       "    function toolbar_event(event) {\n",
       "        return fig.toolbar_button_onclick(event['data']);\n",
       "    }\n",
       "    function toolbar_mouse_event(event) {\n",
       "        return fig.toolbar_button_onmouseover(event['data']);\n",
       "    }\n",
       "\n",
       "    for(var toolbar_ind in mpl.toolbar_items){\n",
       "        var name = mpl.toolbar_items[toolbar_ind][0];\n",
       "        var tooltip = mpl.toolbar_items[toolbar_ind][1];\n",
       "        var image = mpl.toolbar_items[toolbar_ind][2];\n",
       "        var method_name = mpl.toolbar_items[toolbar_ind][3];\n",
       "\n",
       "        if (!name) { continue; };\n",
       "\n",
       "        var button = $('<button class=\"btn btn-default\" href=\"#\" title=\"' + name + '\"><i class=\"fa ' + image + ' fa-lg\"></i></button>');\n",
       "        button.click(method_name, toolbar_event);\n",
       "        button.mouseover(tooltip, toolbar_mouse_event);\n",
       "        nav_element.append(button);\n",
       "    }\n",
       "\n",
       "    // Add the status bar.\n",
       "    var status_bar = $('<span class=\"mpl-message\" style=\"text-align:right; float: right;\"/>');\n",
       "    nav_element.append(status_bar);\n",
       "    this.message = status_bar[0];\n",
       "\n",
       "    // Add the close button to the window.\n",
       "    var buttongrp = $('<div class=\"btn-group inline pull-right\"></div>');\n",
       "    var button = $('<button class=\"btn btn-mini btn-primary\" href=\"#\" title=\"Stop Interaction\"><i class=\"fa fa-power-off icon-remove icon-large\"></i></button>');\n",
       "    button.click(function (evt) { fig.handle_close(fig, {}); } );\n",
       "    button.mouseover('Stop Interaction', toolbar_mouse_event);\n",
       "    buttongrp.append(button);\n",
       "    var titlebar = this.root.find($('.ui-dialog-titlebar'));\n",
       "    titlebar.prepend(buttongrp);\n",
       "}\n",
       "\n",
       "mpl.figure.prototype._root_extra_style = function(el){\n",
       "    var fig = this\n",
       "    el.on(\"remove\", function(){\n",
       "\tfig.close_ws(fig, {});\n",
       "    });\n",
       "}\n",
       "\n",
       "mpl.figure.prototype._canvas_extra_style = function(el){\n",
       "    // this is important to make the div 'focusable\n",
       "    el.attr('tabindex', 0)\n",
       "    // reach out to IPython and tell the keyboard manager to turn it's self\n",
       "    // off when our div gets focus\n",
       "\n",
       "    // location in version 3\n",
       "    if (IPython.notebook.keyboard_manager) {\n",
       "        IPython.notebook.keyboard_manager.register_events(el);\n",
       "    }\n",
       "    else {\n",
       "        // location in version 2\n",
       "        IPython.keyboard_manager.register_events(el);\n",
       "    }\n",
       "\n",
       "}\n",
       "\n",
       "mpl.figure.prototype._key_event_extra = function(event, name) {\n",
       "    var manager = IPython.notebook.keyboard_manager;\n",
       "    if (!manager)\n",
       "        manager = IPython.keyboard_manager;\n",
       "\n",
       "    // Check for shift+enter\n",
       "    if (event.shiftKey && event.which == 13) {\n",
       "        this.canvas_div.blur();\n",
       "        event.shiftKey = false;\n",
       "        // Send a \"J\" for go to next cell\n",
       "        event.which = 74;\n",
       "        event.keyCode = 74;\n",
       "        manager.command_mode();\n",
       "        manager.handle_keydown(event);\n",
       "    }\n",
       "}\n",
       "\n",
       "mpl.figure.prototype.handle_save = function(fig, msg) {\n",
       "    fig.ondownload(fig, null);\n",
       "}\n",
       "\n",
       "\n",
       "mpl.find_output_cell = function(html_output) {\n",
       "    // Return the cell and output element which can be found *uniquely* in the notebook.\n",
       "    // Note - this is a bit hacky, but it is done because the \"notebook_saving.Notebook\"\n",
       "    // IPython event is triggered only after the cells have been serialised, which for\n",
       "    // our purposes (turning an active figure into a static one), is too late.\n",
       "    var cells = IPython.notebook.get_cells();\n",
       "    var ncells = cells.length;\n",
       "    for (var i=0; i<ncells; i++) {\n",
       "        var cell = cells[i];\n",
       "        if (cell.cell_type === 'code'){\n",
       "            for (var j=0; j<cell.output_area.outputs.length; j++) {\n",
       "                var data = cell.output_area.outputs[j];\n",
       "                if (data.data) {\n",
       "                    // IPython >= 3 moved mimebundle to data attribute of output\n",
       "                    data = data.data;\n",
       "                }\n",
       "                if (data['text/html'] == html_output) {\n",
       "                    return [cell, data, j];\n",
       "                }\n",
       "            }\n",
       "        }\n",
       "    }\n",
       "}\n",
       "\n",
       "// Register the function which deals with the matplotlib target/channel.\n",
       "// The kernel may be null if the page has been refreshed.\n",
       "if (IPython.notebook.kernel != null) {\n",
       "    IPython.notebook.kernel.comm_manager.register_target('matplotlib', mpl.mpl_figure_comm);\n",
       "}\n"
      ],
      "text/plain": [
       "<IPython.core.display.Javascript object>"
      ]
     },
     "metadata": {},
     "output_type": "display_data"
    },
    {
     "data": {
      "text/html": [
       "<img src=\"data:image/png;base64,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\" width=\"431.1111225316557\">"
      ],
      "text/plain": [
       "<IPython.core.display.HTML object>"
      ]
     },
     "metadata": {},
     "output_type": "display_data"
    },
    {
     "data": {
      "application/javascript": [
       "/* Put everything inside the global mpl namespace */\n",
       "window.mpl = {};\n",
       "\n",
       "\n",
       "mpl.get_websocket_type = function() {\n",
       "    if (typeof(WebSocket) !== 'undefined') {\n",
       "        return WebSocket;\n",
       "    } else if (typeof(MozWebSocket) !== 'undefined') {\n",
       "        return MozWebSocket;\n",
       "    } else {\n",
       "        alert('Your browser does not have WebSocket support.' +\n",
       "              'Please try Chrome, Safari or Firefox ≥ 6. ' +\n",
       "              'Firefox 4 and 5 are also supported but you ' +\n",
       "              'have to enable WebSockets in about:config.');\n",
       "    };\n",
       "}\n",
       "\n",
       "mpl.figure = function(figure_id, websocket, ondownload, parent_element) {\n",
       "    this.id = figure_id;\n",
       "\n",
       "    this.ws = websocket;\n",
       "\n",
       "    this.supports_binary = (this.ws.binaryType != undefined);\n",
       "\n",
       "    if (!this.supports_binary) {\n",
       "        var warnings = document.getElementById(\"mpl-warnings\");\n",
       "        if (warnings) {\n",
       "            warnings.style.display = 'block';\n",
       "            warnings.textContent = (\n",
       "                \"This browser does not support binary websocket messages. \" +\n",
       "                    \"Performance may be slow.\");\n",
       "        }\n",
       "    }\n",
       "\n",
       "    this.imageObj = new Image();\n",
       "\n",
       "    this.context = undefined;\n",
       "    this.message = undefined;\n",
       "    this.canvas = undefined;\n",
       "    this.rubberband_canvas = undefined;\n",
       "    this.rubberband_context = undefined;\n",
       "    this.format_dropdown = undefined;\n",
       "\n",
       "    this.image_mode = 'full';\n",
       "\n",
       "    this.root = $('<div/>');\n",
       "    this._root_extra_style(this.root)\n",
       "    this.root.attr('style', 'display: inline-block');\n",
       "\n",
       "    $(parent_element).append(this.root);\n",
       "\n",
       "    this._init_header(this);\n",
       "    this._init_canvas(this);\n",
       "    this._init_toolbar(this);\n",
       "\n",
       "    var fig = this;\n",
       "\n",
       "    this.waiting = false;\n",
       "\n",
       "    this.ws.onopen =  function () {\n",
       "            fig.send_message(\"supports_binary\", {value: fig.supports_binary});\n",
       "            fig.send_message(\"send_image_mode\", {});\n",
       "            if (mpl.ratio != 1) {\n",
       "                fig.send_message(\"set_dpi_ratio\", {'dpi_ratio': mpl.ratio});\n",
       "            }\n",
       "            fig.send_message(\"refresh\", {});\n",
       "        }\n",
       "\n",
       "    this.imageObj.onload = function() {\n",
       "            if (fig.image_mode == 'full') {\n",
       "                // Full images could contain transparency (where diff images\n",
       "                // almost always do), so we need to clear the canvas so that\n",
       "                // there is no ghosting.\n",
       "                fig.context.clearRect(0, 0, fig.canvas.width, fig.canvas.height);\n",
       "            }\n",
       "            fig.context.drawImage(fig.imageObj, 0, 0);\n",
       "        };\n",
       "\n",
       "    this.imageObj.onunload = function() {\n",
       "        fig.ws.close();\n",
       "    }\n",
       "\n",
       "    this.ws.onmessage = this._make_on_message_function(this);\n",
       "\n",
       "    this.ondownload = ondownload;\n",
       "}\n",
       "\n",
       "mpl.figure.prototype._init_header = function() {\n",
       "    var titlebar = $(\n",
       "        '<div class=\"ui-dialog-titlebar ui-widget-header ui-corner-all ' +\n",
       "        'ui-helper-clearfix\"/>');\n",
       "    var titletext = $(\n",
       "        '<div class=\"ui-dialog-title\" style=\"width: 100%; ' +\n",
       "        'text-align: center; padding: 3px;\"/>');\n",
       "    titlebar.append(titletext)\n",
       "    this.root.append(titlebar);\n",
       "    this.header = titletext[0];\n",
       "}\n",
       "\n",
       "\n",
       "\n",
       "mpl.figure.prototype._canvas_extra_style = function(canvas_div) {\n",
       "\n",
       "}\n",
       "\n",
       "\n",
       "mpl.figure.prototype._root_extra_style = function(canvas_div) {\n",
       "\n",
       "}\n",
       "\n",
       "mpl.figure.prototype._init_canvas = function() {\n",
       "    var fig = this;\n",
       "\n",
       "    var canvas_div = $('<div/>');\n",
       "\n",
       "    canvas_div.attr('style', 'position: relative; clear: both; outline: 0');\n",
       "\n",
       "    function canvas_keyboard_event(event) {\n",
       "        return fig.key_event(event, event['data']);\n",
       "    }\n",
       "\n",
       "    canvas_div.keydown('key_press', canvas_keyboard_event);\n",
       "    canvas_div.keyup('key_release', canvas_keyboard_event);\n",
       "    this.canvas_div = canvas_div\n",
       "    this._canvas_extra_style(canvas_div)\n",
       "    this.root.append(canvas_div);\n",
       "\n",
       "    var canvas = $('<canvas/>');\n",
       "    canvas.addClass('mpl-canvas');\n",
       "    canvas.attr('style', \"left: 0; top: 0; z-index: 0; outline: 0\")\n",
       "\n",
       "    this.canvas = canvas[0];\n",
       "    this.context = canvas[0].getContext(\"2d\");\n",
       "\n",
       "    var backingStore = this.context.backingStorePixelRatio ||\n",
       "\tthis.context.webkitBackingStorePixelRatio ||\n",
       "\tthis.context.mozBackingStorePixelRatio ||\n",
       "\tthis.context.msBackingStorePixelRatio ||\n",
       "\tthis.context.oBackingStorePixelRatio ||\n",
       "\tthis.context.backingStorePixelRatio || 1;\n",
       "\n",
       "    mpl.ratio = (window.devicePixelRatio || 1) / backingStore;\n",
       "\n",
       "    var rubberband = $('<canvas/>');\n",
       "    rubberband.attr('style', \"position: absolute; left: 0; top: 0; z-index: 1;\")\n",
       "\n",
       "    var pass_mouse_events = true;\n",
       "\n",
       "    canvas_div.resizable({\n",
       "        start: function(event, ui) {\n",
       "            pass_mouse_events = false;\n",
       "        },\n",
       "        resize: function(event, ui) {\n",
       "            fig.request_resize(ui.size.width, ui.size.height);\n",
       "        },\n",
       "        stop: function(event, ui) {\n",
       "            pass_mouse_events = true;\n",
       "            fig.request_resize(ui.size.width, ui.size.height);\n",
       "        },\n",
       "    });\n",
       "\n",
       "    function mouse_event_fn(event) {\n",
       "        if (pass_mouse_events)\n",
       "            return fig.mouse_event(event, event['data']);\n",
       "    }\n",
       "\n",
       "    rubberband.mousedown('button_press', mouse_event_fn);\n",
       "    rubberband.mouseup('button_release', mouse_event_fn);\n",
       "    // Throttle sequential mouse events to 1 every 20ms.\n",
       "    rubberband.mousemove('motion_notify', mouse_event_fn);\n",
       "\n",
       "    rubberband.mouseenter('figure_enter', mouse_event_fn);\n",
       "    rubberband.mouseleave('figure_leave', mouse_event_fn);\n",
       "\n",
       "    canvas_div.on(\"wheel\", function (event) {\n",
       "        event = event.originalEvent;\n",
       "        event['data'] = 'scroll'\n",
       "        if (event.deltaY < 0) {\n",
       "            event.step = 1;\n",
       "        } else {\n",
       "            event.step = -1;\n",
       "        }\n",
       "        mouse_event_fn(event);\n",
       "    });\n",
       "\n",
       "    canvas_div.append(canvas);\n",
       "    canvas_div.append(rubberband);\n",
       "\n",
       "    this.rubberband = rubberband;\n",
       "    this.rubberband_canvas = rubberband[0];\n",
       "    this.rubberband_context = rubberband[0].getContext(\"2d\");\n",
       "    this.rubberband_context.strokeStyle = \"#000000\";\n",
       "\n",
       "    this._resize_canvas = function(width, height) {\n",
       "        // Keep the size of the canvas, canvas container, and rubber band\n",
       "        // canvas in synch.\n",
       "        canvas_div.css('width', width)\n",
       "        canvas_div.css('height', height)\n",
       "\n",
       "        canvas.attr('width', width * mpl.ratio);\n",
       "        canvas.attr('height', height * mpl.ratio);\n",
       "        canvas.attr('style', 'width: ' + width + 'px; height: ' + height + 'px;');\n",
       "\n",
       "        rubberband.attr('width', width);\n",
       "        rubberband.attr('height', height);\n",
       "    }\n",
       "\n",
       "    // Set the figure to an initial 600x600px, this will subsequently be updated\n",
       "    // upon first draw.\n",
       "    this._resize_canvas(600, 600);\n",
       "\n",
       "    // Disable right mouse context menu.\n",
       "    $(this.rubberband_canvas).bind(\"contextmenu\",function(e){\n",
       "        return false;\n",
       "    });\n",
       "\n",
       "    function set_focus () {\n",
       "        canvas.focus();\n",
       "        canvas_div.focus();\n",
       "    }\n",
       "\n",
       "    window.setTimeout(set_focus, 100);\n",
       "}\n",
       "\n",
       "mpl.figure.prototype._init_toolbar = function() {\n",
       "    var fig = this;\n",
       "\n",
       "    var nav_element = $('<div/>')\n",
       "    nav_element.attr('style', 'width: 100%');\n",
       "    this.root.append(nav_element);\n",
       "\n",
       "    // Define a callback function for later on.\n",
       "    function toolbar_event(event) {\n",
       "        return fig.toolbar_button_onclick(event['data']);\n",
       "    }\n",
       "    function toolbar_mouse_event(event) {\n",
       "        return fig.toolbar_button_onmouseover(event['data']);\n",
       "    }\n",
       "\n",
       "    for(var toolbar_ind in mpl.toolbar_items) {\n",
       "        var name = mpl.toolbar_items[toolbar_ind][0];\n",
       "        var tooltip = mpl.toolbar_items[toolbar_ind][1];\n",
       "        var image = mpl.toolbar_items[toolbar_ind][2];\n",
       "        var method_name = mpl.toolbar_items[toolbar_ind][3];\n",
       "\n",
       "        if (!name) {\n",
       "            // put a spacer in here.\n",
       "            continue;\n",
       "        }\n",
       "        var button = $('<button/>');\n",
       "        button.addClass('ui-button ui-widget ui-state-default ui-corner-all ' +\n",
       "                        'ui-button-icon-only');\n",
       "        button.attr('role', 'button');\n",
       "        button.attr('aria-disabled', 'false');\n",
       "        button.click(method_name, toolbar_event);\n",
       "        button.mouseover(tooltip, toolbar_mouse_event);\n",
       "\n",
       "        var icon_img = $('<span/>');\n",
       "        icon_img.addClass('ui-button-icon-primary ui-icon');\n",
       "        icon_img.addClass(image);\n",
       "        icon_img.addClass('ui-corner-all');\n",
       "\n",
       "        var tooltip_span = $('<span/>');\n",
       "        tooltip_span.addClass('ui-button-text');\n",
       "        tooltip_span.html(tooltip);\n",
       "\n",
       "        button.append(icon_img);\n",
       "        button.append(tooltip_span);\n",
       "\n",
       "        nav_element.append(button);\n",
       "    }\n",
       "\n",
       "    var fmt_picker_span = $('<span/>');\n",
       "\n",
       "    var fmt_picker = $('<select/>');\n",
       "    fmt_picker.addClass('mpl-toolbar-option ui-widget ui-widget-content');\n",
       "    fmt_picker_span.append(fmt_picker);\n",
       "    nav_element.append(fmt_picker_span);\n",
       "    this.format_dropdown = fmt_picker[0];\n",
       "\n",
       "    for (var ind in mpl.extensions) {\n",
       "        var fmt = mpl.extensions[ind];\n",
       "        var option = $(\n",
       "            '<option/>', {selected: fmt === mpl.default_extension}).html(fmt);\n",
       "        fmt_picker.append(option)\n",
       "    }\n",
       "\n",
       "    // Add hover states to the ui-buttons\n",
       "    $( \".ui-button\" ).hover(\n",
       "        function() { $(this).addClass(\"ui-state-hover\");},\n",
       "        function() { $(this).removeClass(\"ui-state-hover\");}\n",
       "    );\n",
       "\n",
       "    var status_bar = $('<span class=\"mpl-message\"/>');\n",
       "    nav_element.append(status_bar);\n",
       "    this.message = status_bar[0];\n",
       "}\n",
       "\n",
       "mpl.figure.prototype.request_resize = function(x_pixels, y_pixels) {\n",
       "    // Request matplotlib to resize the figure. Matplotlib will then trigger a resize in the client,\n",
       "    // which will in turn request a refresh of the image.\n",
       "    this.send_message('resize', {'width': x_pixels, 'height': y_pixels});\n",
       "}\n",
       "\n",
       "mpl.figure.prototype.send_message = function(type, properties) {\n",
       "    properties['type'] = type;\n",
       "    properties['figure_id'] = this.id;\n",
       "    this.ws.send(JSON.stringify(properties));\n",
       "}\n",
       "\n",
       "mpl.figure.prototype.send_draw_message = function() {\n",
       "    if (!this.waiting) {\n",
       "        this.waiting = true;\n",
       "        this.ws.send(JSON.stringify({type: \"draw\", figure_id: this.id}));\n",
       "    }\n",
       "}\n",
       "\n",
       "\n",
       "mpl.figure.prototype.handle_save = function(fig, msg) {\n",
       "    var format_dropdown = fig.format_dropdown;\n",
       "    var format = format_dropdown.options[format_dropdown.selectedIndex].value;\n",
       "    fig.ondownload(fig, format);\n",
       "}\n",
       "\n",
       "\n",
       "mpl.figure.prototype.handle_resize = function(fig, msg) {\n",
       "    var size = msg['size'];\n",
       "    if (size[0] != fig.canvas.width || size[1] != fig.canvas.height) {\n",
       "        fig._resize_canvas(size[0], size[1]);\n",
       "        fig.send_message(\"refresh\", {});\n",
       "    };\n",
       "}\n",
       "\n",
       "mpl.figure.prototype.handle_rubberband = function(fig, msg) {\n",
       "    var x0 = msg['x0'] / mpl.ratio;\n",
       "    var y0 = (fig.canvas.height - msg['y0']) / mpl.ratio;\n",
       "    var x1 = msg['x1'] / mpl.ratio;\n",
       "    var y1 = (fig.canvas.height - msg['y1']) / mpl.ratio;\n",
       "    x0 = Math.floor(x0) + 0.5;\n",
       "    y0 = Math.floor(y0) + 0.5;\n",
       "    x1 = Math.floor(x1) + 0.5;\n",
       "    y1 = Math.floor(y1) + 0.5;\n",
       "    var min_x = Math.min(x0, x1);\n",
       "    var min_y = Math.min(y0, y1);\n",
       "    var width = Math.abs(x1 - x0);\n",
       "    var height = Math.abs(y1 - y0);\n",
       "\n",
       "    fig.rubberband_context.clearRect(\n",
       "        0, 0, fig.canvas.width, fig.canvas.height);\n",
       "\n",
       "    fig.rubberband_context.strokeRect(min_x, min_y, width, height);\n",
       "}\n",
       "\n",
       "mpl.figure.prototype.handle_figure_label = function(fig, msg) {\n",
       "    // Updates the figure title.\n",
       "    fig.header.textContent = msg['label'];\n",
       "}\n",
       "\n",
       "mpl.figure.prototype.handle_cursor = function(fig, msg) {\n",
       "    var cursor = msg['cursor'];\n",
       "    switch(cursor)\n",
       "    {\n",
       "    case 0:\n",
       "        cursor = 'pointer';\n",
       "        break;\n",
       "    case 1:\n",
       "        cursor = 'default';\n",
       "        break;\n",
       "    case 2:\n",
       "        cursor = 'crosshair';\n",
       "        break;\n",
       "    case 3:\n",
       "        cursor = 'move';\n",
       "        break;\n",
       "    }\n",
       "    fig.rubberband_canvas.style.cursor = cursor;\n",
       "}\n",
       "\n",
       "mpl.figure.prototype.handle_message = function(fig, msg) {\n",
       "    fig.message.textContent = msg['message'];\n",
       "}\n",
       "\n",
       "mpl.figure.prototype.handle_draw = function(fig, msg) {\n",
       "    // Request the server to send over a new figure.\n",
       "    fig.send_draw_message();\n",
       "}\n",
       "\n",
       "mpl.figure.prototype.handle_image_mode = function(fig, msg) {\n",
       "    fig.image_mode = msg['mode'];\n",
       "}\n",
       "\n",
       "mpl.figure.prototype.updated_canvas_event = function() {\n",
       "    // Called whenever the canvas gets updated.\n",
       "    this.send_message(\"ack\", {});\n",
       "}\n",
       "\n",
       "// A function to construct a web socket function for onmessage handling.\n",
       "// Called in the figure constructor.\n",
       "mpl.figure.prototype._make_on_message_function = function(fig) {\n",
       "    return function socket_on_message(evt) {\n",
       "        if (evt.data instanceof Blob) {\n",
       "            /* FIXME: We get \"Resource interpreted as Image but\n",
       "             * transferred with MIME type text/plain:\" errors on\n",
       "             * Chrome.  But how to set the MIME type?  It doesn't seem\n",
       "             * to be part of the websocket stream */\n",
       "            evt.data.type = \"image/png\";\n",
       "\n",
       "            /* Free the memory for the previous frames */\n",
       "            if (fig.imageObj.src) {\n",
       "                (window.URL || window.webkitURL).revokeObjectURL(\n",
       "                    fig.imageObj.src);\n",
       "            }\n",
       "\n",
       "            fig.imageObj.src = (window.URL || window.webkitURL).createObjectURL(\n",
       "                evt.data);\n",
       "            fig.updated_canvas_event();\n",
       "            fig.waiting = false;\n",
       "            return;\n",
       "        }\n",
       "        else if (typeof evt.data === 'string' && evt.data.slice(0, 21) == \"data:image/png;base64\") {\n",
       "            fig.imageObj.src = evt.data;\n",
       "            fig.updated_canvas_event();\n",
       "            fig.waiting = false;\n",
       "            return;\n",
       "        }\n",
       "\n",
       "        var msg = JSON.parse(evt.data);\n",
       "        var msg_type = msg['type'];\n",
       "\n",
       "        // Call the  \"handle_{type}\" callback, which takes\n",
       "        // the figure and JSON message as its only arguments.\n",
       "        try {\n",
       "            var callback = fig[\"handle_\" + msg_type];\n",
       "        } catch (e) {\n",
       "            console.log(\"No handler for the '\" + msg_type + \"' message type: \", msg);\n",
       "            return;\n",
       "        }\n",
       "\n",
       "        if (callback) {\n",
       "            try {\n",
       "                // console.log(\"Handling '\" + msg_type + \"' message: \", msg);\n",
       "                callback(fig, msg);\n",
       "            } catch (e) {\n",
       "                console.log(\"Exception inside the 'handler_\" + msg_type + \"' callback:\", e, e.stack, msg);\n",
       "            }\n",
       "        }\n",
       "    };\n",
       "}\n",
       "\n",
       "// from http://stackoverflow.com/questions/1114465/getting-mouse-location-in-canvas\n",
       "mpl.findpos = function(e) {\n",
       "    //this section is from http://www.quirksmode.org/js/events_properties.html\n",
       "    var targ;\n",
       "    if (!e)\n",
       "        e = window.event;\n",
       "    if (e.target)\n",
       "        targ = e.target;\n",
       "    else if (e.srcElement)\n",
       "        targ = e.srcElement;\n",
       "    if (targ.nodeType == 3) // defeat Safari bug\n",
       "        targ = targ.parentNode;\n",
       "\n",
       "    // jQuery normalizes the pageX and pageY\n",
       "    // pageX,Y are the mouse positions relative to the document\n",
       "    // offset() returns the position of the element relative to the document\n",
       "    var x = e.pageX - $(targ).offset().left;\n",
       "    var y = e.pageY - $(targ).offset().top;\n",
       "\n",
       "    return {\"x\": x, \"y\": y};\n",
       "};\n",
       "\n",
       "/*\n",
       " * return a copy of an object with only non-object keys\n",
       " * we need this to avoid circular references\n",
       " * http://stackoverflow.com/a/24161582/3208463\n",
       " */\n",
       "function simpleKeys (original) {\n",
       "  return Object.keys(original).reduce(function (obj, key) {\n",
       "    if (typeof original[key] !== 'object')\n",
       "        obj[key] = original[key]\n",
       "    return obj;\n",
       "  }, {});\n",
       "}\n",
       "\n",
       "mpl.figure.prototype.mouse_event = function(event, name) {\n",
       "    var canvas_pos = mpl.findpos(event)\n",
       "\n",
       "    if (name === 'button_press')\n",
       "    {\n",
       "        this.canvas.focus();\n",
       "        this.canvas_div.focus();\n",
       "    }\n",
       "\n",
       "    var x = canvas_pos.x * mpl.ratio;\n",
       "    var y = canvas_pos.y * mpl.ratio;\n",
       "\n",
       "    this.send_message(name, {x: x, y: y, button: event.button,\n",
       "                             step: event.step,\n",
       "                             guiEvent: simpleKeys(event)});\n",
       "\n",
       "    /* This prevents the web browser from automatically changing to\n",
       "     * the text insertion cursor when the button is pressed.  We want\n",
       "     * to control all of the cursor setting manually through the\n",
       "     * 'cursor' event from matplotlib */\n",
       "    event.preventDefault();\n",
       "    return false;\n",
       "}\n",
       "\n",
       "mpl.figure.prototype._key_event_extra = function(event, name) {\n",
       "    // Handle any extra behaviour associated with a key event\n",
       "}\n",
       "\n",
       "mpl.figure.prototype.key_event = function(event, name) {\n",
       "\n",
       "    // Prevent repeat events\n",
       "    if (name == 'key_press')\n",
       "    {\n",
       "        if (event.which === this._key)\n",
       "            return;\n",
       "        else\n",
       "            this._key = event.which;\n",
       "    }\n",
       "    if (name == 'key_release')\n",
       "        this._key = null;\n",
       "\n",
       "    var value = '';\n",
       "    if (event.ctrlKey && event.which != 17)\n",
       "        value += \"ctrl+\";\n",
       "    if (event.altKey && event.which != 18)\n",
       "        value += \"alt+\";\n",
       "    if (event.shiftKey && event.which != 16)\n",
       "        value += \"shift+\";\n",
       "\n",
       "    value += 'k';\n",
       "    value += event.which.toString();\n",
       "\n",
       "    this._key_event_extra(event, name);\n",
       "\n",
       "    this.send_message(name, {key: value,\n",
       "                             guiEvent: simpleKeys(event)});\n",
       "    return false;\n",
       "}\n",
       "\n",
       "mpl.figure.prototype.toolbar_button_onclick = function(name) {\n",
       "    if (name == 'download') {\n",
       "        this.handle_save(this, null);\n",
       "    } else {\n",
       "        this.send_message(\"toolbar_button\", {name: name});\n",
       "    }\n",
       "};\n",
       "\n",
       "mpl.figure.prototype.toolbar_button_onmouseover = function(tooltip) {\n",
       "    this.message.textContent = tooltip;\n",
       "};\n",
       "mpl.toolbar_items = [[\"Home\", \"Reset original view\", \"fa fa-home icon-home\", \"home\"], [\"Back\", \"Back to  previous view\", \"fa fa-arrow-left icon-arrow-left\", \"back\"], [\"Forward\", \"Forward to next view\", \"fa fa-arrow-right icon-arrow-right\", \"forward\"], [\"\", \"\", \"\", \"\"], [\"Pan\", \"Pan axes with left mouse, zoom with right\", \"fa fa-arrows icon-move\", \"pan\"], [\"Zoom\", \"Zoom to rectangle\", \"fa fa-square-o icon-check-empty\", \"zoom\"], [\"\", \"\", \"\", \"\"], [\"Download\", \"Download plot\", \"fa fa-floppy-o icon-save\", \"download\"]];\n",
       "\n",
       "mpl.extensions = [\"eps\", \"jpeg\", \"pdf\", \"png\", \"ps\", \"raw\", \"svg\", \"tif\"];\n",
       "\n",
       "mpl.default_extension = \"png\";var comm_websocket_adapter = function(comm) {\n",
       "    // Create a \"websocket\"-like object which calls the given IPython comm\n",
       "    // object with the appropriate methods. Currently this is a non binary\n",
       "    // socket, so there is still some room for performance tuning.\n",
       "    var ws = {};\n",
       "\n",
       "    ws.close = function() {\n",
       "        comm.close()\n",
       "    };\n",
       "    ws.send = function(m) {\n",
       "        //console.log('sending', m);\n",
       "        comm.send(m);\n",
       "    };\n",
       "    // Register the callback with on_msg.\n",
       "    comm.on_msg(function(msg) {\n",
       "        //console.log('receiving', msg['content']['data'], msg);\n",
       "        // Pass the mpl event to the overridden (by mpl) onmessage function.\n",
       "        ws.onmessage(msg['content']['data'])\n",
       "    });\n",
       "    return ws;\n",
       "}\n",
       "\n",
       "mpl.mpl_figure_comm = function(comm, msg) {\n",
       "    // This is the function which gets called when the mpl process\n",
       "    // starts-up an IPython Comm through the \"matplotlib\" channel.\n",
       "\n",
       "    var id = msg.content.data.id;\n",
       "    // Get hold of the div created by the display call when the Comm\n",
       "    // socket was opened in Python.\n",
       "    var element = $(\"#\" + id);\n",
       "    var ws_proxy = comm_websocket_adapter(comm)\n",
       "\n",
       "    function ondownload(figure, format) {\n",
       "        window.open(figure.imageObj.src);\n",
       "    }\n",
       "\n",
       "    var fig = new mpl.figure(id, ws_proxy,\n",
       "                           ondownload,\n",
       "                           element.get(0));\n",
       "\n",
       "    // Call onopen now - mpl needs it, as it is assuming we've passed it a real\n",
       "    // web socket which is closed, not our websocket->open comm proxy.\n",
       "    ws_proxy.onopen();\n",
       "\n",
       "    fig.parent_element = element.get(0);\n",
       "    fig.cell_info = mpl.find_output_cell(\"<div id='\" + id + \"'></div>\");\n",
       "    if (!fig.cell_info) {\n",
       "        console.error(\"Failed to find cell for figure\", id, fig);\n",
       "        return;\n",
       "    }\n",
       "\n",
       "    var output_index = fig.cell_info[2]\n",
       "    var cell = fig.cell_info[0];\n",
       "\n",
       "};\n",
       "\n",
       "mpl.figure.prototype.handle_close = function(fig, msg) {\n",
       "    var width = fig.canvas.width/mpl.ratio\n",
       "    fig.root.unbind('remove')\n",
       "\n",
       "    // Update the output cell to use the data from the current canvas.\n",
       "    fig.push_to_output();\n",
       "    var dataURL = fig.canvas.toDataURL();\n",
       "    // Re-enable the keyboard manager in IPython - without this line, in FF,\n",
       "    // the notebook keyboard shortcuts fail.\n",
       "    IPython.keyboard_manager.enable()\n",
       "    $(fig.parent_element).html('<img src=\"' + dataURL + '\" width=\"' + width + '\">');\n",
       "    fig.close_ws(fig, msg);\n",
       "}\n",
       "\n",
       "mpl.figure.prototype.close_ws = function(fig, msg){\n",
       "    fig.send_message('closing', msg);\n",
       "    // fig.ws.close()\n",
       "}\n",
       "\n",
       "mpl.figure.prototype.push_to_output = function(remove_interactive) {\n",
       "    // Turn the data on the canvas into data in the output cell.\n",
       "    var width = this.canvas.width/mpl.ratio\n",
       "    var dataURL = this.canvas.toDataURL();\n",
       "    this.cell_info[1]['text/html'] = '<img src=\"' + dataURL + '\" width=\"' + width + '\">';\n",
       "}\n",
       "\n",
       "mpl.figure.prototype.updated_canvas_event = function() {\n",
       "    // Tell IPython that the notebook contents must change.\n",
       "    IPython.notebook.set_dirty(true);\n",
       "    this.send_message(\"ack\", {});\n",
       "    var fig = this;\n",
       "    // Wait a second, then push the new image to the DOM so\n",
       "    // that it is saved nicely (might be nice to debounce this).\n",
       "    setTimeout(function () { fig.push_to_output() }, 1000);\n",
       "}\n",
       "\n",
       "mpl.figure.prototype._init_toolbar = function() {\n",
       "    var fig = this;\n",
       "\n",
       "    var nav_element = $('<div/>')\n",
       "    nav_element.attr('style', 'width: 100%');\n",
       "    this.root.append(nav_element);\n",
       "\n",
       "    // Define a callback function for later on.\n",
       "    function toolbar_event(event) {\n",
       "        return fig.toolbar_button_onclick(event['data']);\n",
       "    }\n",
       "    function toolbar_mouse_event(event) {\n",
       "        return fig.toolbar_button_onmouseover(event['data']);\n",
       "    }\n",
       "\n",
       "    for(var toolbar_ind in mpl.toolbar_items){\n",
       "        var name = mpl.toolbar_items[toolbar_ind][0];\n",
       "        var tooltip = mpl.toolbar_items[toolbar_ind][1];\n",
       "        var image = mpl.toolbar_items[toolbar_ind][2];\n",
       "        var method_name = mpl.toolbar_items[toolbar_ind][3];\n",
       "\n",
       "        if (!name) { continue; };\n",
       "\n",
       "        var button = $('<button class=\"btn btn-default\" href=\"#\" title=\"' + name + '\"><i class=\"fa ' + image + ' fa-lg\"></i></button>');\n",
       "        button.click(method_name, toolbar_event);\n",
       "        button.mouseover(tooltip, toolbar_mouse_event);\n",
       "        nav_element.append(button);\n",
       "    }\n",
       "\n",
       "    // Add the status bar.\n",
       "    var status_bar = $('<span class=\"mpl-message\" style=\"text-align:right; float: right;\"/>');\n",
       "    nav_element.append(status_bar);\n",
       "    this.message = status_bar[0];\n",
       "\n",
       "    // Add the close button to the window.\n",
       "    var buttongrp = $('<div class=\"btn-group inline pull-right\"></div>');\n",
       "    var button = $('<button class=\"btn btn-mini btn-primary\" href=\"#\" title=\"Stop Interaction\"><i class=\"fa fa-power-off icon-remove icon-large\"></i></button>');\n",
       "    button.click(function (evt) { fig.handle_close(fig, {}); } );\n",
       "    button.mouseover('Stop Interaction', toolbar_mouse_event);\n",
       "    buttongrp.append(button);\n",
       "    var titlebar = this.root.find($('.ui-dialog-titlebar'));\n",
       "    titlebar.prepend(buttongrp);\n",
       "}\n",
       "\n",
       "mpl.figure.prototype._root_extra_style = function(el){\n",
       "    var fig = this\n",
       "    el.on(\"remove\", function(){\n",
       "\tfig.close_ws(fig, {});\n",
       "    });\n",
       "}\n",
       "\n",
       "mpl.figure.prototype._canvas_extra_style = function(el){\n",
       "    // this is important to make the div 'focusable\n",
       "    el.attr('tabindex', 0)\n",
       "    // reach out to IPython and tell the keyboard manager to turn it's self\n",
       "    // off when our div gets focus\n",
       "\n",
       "    // location in version 3\n",
       "    if (IPython.notebook.keyboard_manager) {\n",
       "        IPython.notebook.keyboard_manager.register_events(el);\n",
       "    }\n",
       "    else {\n",
       "        // location in version 2\n",
       "        IPython.keyboard_manager.register_events(el);\n",
       "    }\n",
       "\n",
       "}\n",
       "\n",
       "mpl.figure.prototype._key_event_extra = function(event, name) {\n",
       "    var manager = IPython.notebook.keyboard_manager;\n",
       "    if (!manager)\n",
       "        manager = IPython.keyboard_manager;\n",
       "\n",
       "    // Check for shift+enter\n",
       "    if (event.shiftKey && event.which == 13) {\n",
       "        this.canvas_div.blur();\n",
       "        event.shiftKey = false;\n",
       "        // Send a \"J\" for go to next cell\n",
       "        event.which = 74;\n",
       "        event.keyCode = 74;\n",
       "        manager.command_mode();\n",
       "        manager.handle_keydown(event);\n",
       "    }\n",
       "}\n",
       "\n",
       "mpl.figure.prototype.handle_save = function(fig, msg) {\n",
       "    fig.ondownload(fig, null);\n",
       "}\n",
       "\n",
       "\n",
       "mpl.find_output_cell = function(html_output) {\n",
       "    // Return the cell and output element which can be found *uniquely* in the notebook.\n",
       "    // Note - this is a bit hacky, but it is done because the \"notebook_saving.Notebook\"\n",
       "    // IPython event is triggered only after the cells have been serialised, which for\n",
       "    // our purposes (turning an active figure into a static one), is too late.\n",
       "    var cells = IPython.notebook.get_cells();\n",
       "    var ncells = cells.length;\n",
       "    for (var i=0; i<ncells; i++) {\n",
       "        var cell = cells[i];\n",
       "        if (cell.cell_type === 'code'){\n",
       "            for (var j=0; j<cell.output_area.outputs.length; j++) {\n",
       "                var data = cell.output_area.outputs[j];\n",
       "                if (data.data) {\n",
       "                    // IPython >= 3 moved mimebundle to data attribute of output\n",
       "                    data = data.data;\n",
       "                }\n",
       "                if (data['text/html'] == html_output) {\n",
       "                    return [cell, data, j];\n",
       "                }\n",
       "            }\n",
       "        }\n",
       "    }\n",
       "}\n",
       "\n",
       "// Register the function which deals with the matplotlib target/channel.\n",
       "// The kernel may be null if the page has been refreshed.\n",
       "if (IPython.notebook.kernel != null) {\n",
       "    IPython.notebook.kernel.comm_manager.register_target('matplotlib', mpl.mpl_figure_comm);\n",
       "}\n"
      ],
      "text/plain": [
       "<IPython.core.display.Javascript object>"
      ]
     },
     "metadata": {},
     "output_type": "display_data"
    },
    {
     "data": {
      "text/html": [
       "<img src=\"data:image/png;base64,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\" width=\"431.1111225316557\">"
      ],
      "text/plain": [
       "<IPython.core.display.HTML object>"
      ]
     },
     "metadata": {},
     "output_type": "display_data"
    }
   ],
   "source": [
    "#### optional code snippet, Run this part if you wish to visualise the data as a video. The below sequence makes use\n",
    "#### of conventional images frames and is not used anywhere else later in the notebook\n",
    "fig = plt.figure()\n",
    "ax = fig.add_subplot(111)\n",
    "plt.ion()\n",
    "\n",
    "fig.canvas.draw()\n",
    "ax.axis()\n",
    "for image in normal_imgs:\n",
    "    ax.clear()\n",
    "    ax.imshow(plt.imread(image), cmap='gray')\n",
    "    fig.canvas.draw()"
   ]
  },
  {
   "cell_type": "markdown",
   "metadata": {
    "nbpresent": {
     "id": "84c5d1f8-35e4-414a-b682-f103c5c60fa8"
    },
    "slideshow": {
     "slide_type": "slide"
    }
   },
   "source": [
    "<a id=\"data\"></a>\n",
    "## 2. Data Available and Data format\n"
   ]
  },
  {
   "cell_type": "markdown",
   "metadata": {
    "nbpresent": {
     "id": "80545f0e-3a2b-44c4-ad62-f7f729eb4fc5"
    },
    "slideshow": {
     "slide_type": "fragment"
    }
   },
   "source": [
    "Data namely, event data, imu data, calibration parameters, and ground truth data are stored in txt files. There is also an 'images.txt' file which gives the timestamps at which synchronous event stream was captured. The format of the data is as shown below. "
   ]
  },
  {
   "cell_type": "markdown",
   "metadata": {
    "nbpresent": {
     "id": "0f1ca28d-743a-496a-ab40-f89f123a332e"
    },
    "slideshow": {
     "slide_type": "fragment"
    }
   },
   "source": [
    "![description of dataset format](Images/data_format_emvs.png)"
   ]
  },
  {
   "cell_type": "markdown",
   "metadata": {
    "nbpresent": {
     "id": "272f2c1e-d16e-45ab-a5f9-d2038b5b994a"
    },
    "slideshow": {
     "slide_type": "slide"
    }
   },
   "source": [
    "<a id=\"cam_mat\"></a>\n",
    "### 2.1 Camera Matrix"
   ]
  },
  {
   "cell_type": "markdown",
   "metadata": {
    "nbpresent": {
     "id": "e2af89e3-50e3-4286-8d40-6fa6b426c131"
    },
    "slideshow": {
     "slide_type": "fragment"
    }
   },
   "source": [
    "Every camera has a calibration matrix which is dependant on the intrinsic and extrinsic parameters. We obtain these parameters from the <i>calib.txt</i> file."
   ]
  },
  {
   "cell_type": "code",
   "execution_count": 131,
   "metadata": {
    "nbpresent": {
     "id": "42683b3e-0bdf-4ae8-8f12-9239966a3a90"
    },
    "slideshow": {
     "slide_type": "subslide"
    }
   },
   "outputs": [],
   "source": [
    "def return_camera_matrix(filename='calib.txt'):\n",
    "    '''\n",
    "    Returns the camera matrix for the given dataset based on calibration parameters.\n",
    "    \n",
    "    Parameters:\n",
    "    -----------\n",
    "    filename : <string>\n",
    "        name of the text file where the camera parameters are stored\n",
    "    \n",
    "    Return:\n",
    "    -------\n",
    "    camera_mat: <np.array>\n",
    "        The camera matrix for the parameters mentioned in the calibration file\n",
    "    '''\n",
    "    \n",
    "    file = open(data_path +'/' + filename, \"r\")\n",
    "    cam_par = list(map(float,file.readline().split()))\n",
    "    file.close()\n",
    "    fx, fy, cx, cy, k1, k2, p1, p2, k3 = [par for par in cam_par]\n",
    "    print(fx, fy)\n",
    "    camera_mat = np.array([[fx,  0, cx],\n",
    "                           [ 0, fy, cy],\n",
    "                           [ 0,  0,  1]])\n",
    "    return camera_mat, [cx, cy, k1, k2, p1, p2, k3]"
   ]
  },
  {
   "cell_type": "markdown",
   "metadata": {},
   "source": [
    "## Ignore----------------------------------------------------------------------------------------------------\n",
    "camera_matrix=[fx 0 cx; 0 fy cy; 0 0 1]\n",
    "// P=[fx' 0 cx' tx; 0 fy' cy' ty; 0 0 1 tz]\n",
    "x\" = (u - cx)/fx\n",
    "y\" = (v - cy)/fy\n",
    "(x',y') = undistort(x\",y\",dist_coeffs)\n",
    "[X,Y,W]T = R*[x' y' 1]T\n",
    "x = X/W, y = Y/W\n",
    "// only performed if P=[fx' 0 cx' [tx]; 0 fy' cy' [ty]; 0 0 1 [tz]] is specified\n",
    "    u' = x*fx' + cx'\n",
    "    v' = y*fy' + cy',\n",
    "## -----------------------------------------------------------------------------------------------------------"
   ]
  },
  {
   "cell_type": "code",
   "execution_count": 133,
   "metadata": {
    "nbpresent": {
     "id": "48cd64ef-830b-4c7c-bdc9-1f56613b9711"
    },
    "slideshow": {
     "slide_type": "subslide"
    }
   },
   "outputs": [],
   "source": [
    "def make_distortion_dict(distortion_params, cam_shape):\n",
    "    '''\n",
    "    Utility under consideration\n",
    "    '''\n",
    "    cx, cy, k1, k2, p1, p2, k3 = distortion_params\n",
    "    \n",
    "    distortion_dict = dict()\n",
    "    \n",
    "    for u in range(cam_shape[0]):\n",
    "        for v in range(cam_shape[1]):\n",
    "            radial_multiplicand  = np.array([u-cx, v-cy]).reshape(2, 1) \n",
    "            r_2 = (u - cx)**2 + (v - cy)**2   \n",
    "            radial_dist_const = 1 + k1*r_2 + k2*(r_2**2) + k3*(r_2**3)\n",
    "            \n",
    "            tangential_dist_term = np.array([2*p1*(u - cx)*(v - cy) + p2*(r_2 + 2*(u - cx)**2), \n",
    "                                            p1*(r_2 + 2*(v - cy)**2) + 2*p2*(u - cx)*(v - cy)]).reshape(2,1)\n",
    "            \n",
    "            const_term = np.array([cx, cy]).reshape(2, 1)\n",
    "            distorted_params = radial_dist_const*radial_multiplicand + tangential_dist_term + const_term\n",
    "            print(r_2, radial_dist_const, tangential_dist_term)\n",
    "            print(distorted_params[0][0], distorted_params[1][0])\n",
    "            distortion_dict[distorted_params[0], distorted_params[1][0]] = np.array([u,v])\n",
    "\n",
    "    return distortion_dict"
   ]
  },
  {
   "cell_type": "code",
   "execution_count": 43,
   "metadata": {},
   "outputs": [],
   "source": [
    "points = [(x,y) for x in range(240) for y in range(160)]"
   ]
  },
  {
   "cell_type": "code",
   "execution_count": null,
   "metadata": {},
   "outputs": [],
   "source": [
    "def undistortPoints(cam_mat, dimensions, keepSize=False):\n",
    "        '''\n",
    "        points --> list of (x,y) coordinates\n",
    "        '''\n",
    "        s = dimensions\n",
    "        points = [(x,y) for x in range(dimensions[0]) for y in range(dimensions[1])]\n",
    "        cam = self.coeffs['cameraMatrix']\n",
    "        d = self.coeffs['distortionCoeffs']\n",
    "\n",
    "        pts = np.asarray(points, dtype=np.float32)\n",
    "        if pts.ndim == 2:\n",
    "            pts = np.expand_dims(pts, axis=0)\n",
    "\n",
    "        (newCameraMatrix, roi) = cv2.getOptimalNewCameraMatrix(cam,\n",
    "                                                               d, s[::-1], 1,\n",
    "                                                               s[::-1])\n",
    "        if not keepSize:\n",
    "            xx, yy = roi[:2]\n",
    "            pts[0, 0] -= xx\n",
    "            pts[0, 1] -= yy\n",
    "\n",
    "        return cv2.undistortPoints(pts,\n",
    "                                   cam, d, P=newCameraMatrix) "
   ]
  },
  {
   "cell_type": "code",
   "execution_count": 34,
   "metadata": {
    "nbpresent": {
     "id": "adc9de1d-ac88-4b52-9aaf-002b48eb41ee"
    },
    "slideshow": {
     "slide_type": "subslide"
    }
   },
   "outputs": [
    {
     "name": "stdout",
     "output_type": "stream",
     "text": [
      "335.419462958 335.352935612\n"
     ]
    }
   ],
   "source": [
    "cam_mat, dist_params = return_camera_matrix()"
   ]
  },
  {
   "cell_type": "markdown",
   "metadata": {
    "nbpresent": {
     "id": "903569ec-e524-418b-af5e-f402d6b3ef3b"
    },
    "slideshow": {
     "slide_type": "slide"
    }
   },
   "source": [
    "<a id=\"event_data\"></a>\n",
    "### 2.2 Obtaining pose information relevant to events under consideration from the groundtruth files\n"
   ]
  },
  {
   "cell_type": "markdown",
   "metadata": {
    "nbpresent": {
     "id": "799fc47c-8ba4-4b01-bf27-97b1e9d8a4a9"
    },
    "slideshow": {
     "slide_type": "fragment"
    }
   },
   "source": [
    "The objective is to get an event and its corresponding pose for that particular time stamp. Since the number of events are huge and the homographies are expensive to compute, a batch of events (256 here) is assigned the same pose information.  The code snippets below serve this particular fucntion."
   ]
  },
  {
   "cell_type": "code",
   "execution_count": 134,
   "metadata": {
    "nbpresent": {
     "id": "08d4f60b-466c-45ad-b7ad-e2c6ab14d170"
    },
    "slideshow": {
     "slide_type": "subslide"
    }
   },
   "outputs": [],
   "source": [
    "from itertools import islice\n",
    "\n",
    "def bundle_events(batch_number, filename='events.txt', batch_size = 256):\n",
    "    ''' \n",
    "    Return a batch of events from the file containing event information. Sometimes the event file can run into several \n",
    "    Gigabytes of storage. This is why a file is opened and closed everytime a batch of events needs to be read.\n",
    "    \n",
    "    Parameters:\n",
    "    -----------\n",
    "    batch_number : <int>\n",
    "        The nth batch which needs to be read\n",
    "    filename : <string>\n",
    "    \n",
    "    Return:\n",
    "    -------\n",
    "    events : <list>\n",
    "        events of the form [start_time, ex, ey, polarity]\n",
    "    event_start_time: <float>\n",
    "        The starting time of the current batch of events\n",
    "    '''\n",
    "    events=[]\n",
    "    file = open(data_path +'/' + filename, \"r\")\n",
    "    head = list(islice(file, batch_number * batch_size, (batch_number + 1)*batch_size))\n",
    "    #return timestamp of first event in the batch\n",
    "    event_start_time = list(map(float,head[0].split()))[0] \n",
    "    events = [list(map(float,line.split())) for line in head]\n",
    "    file.close()\n",
    "    return events, event_start_time"
   ]
  },
  {
   "cell_type": "code",
   "execution_count": 135,
   "metadata": {
    "nbpresent": {
     "id": "3a969ca7-8b2c-48cf-8410-4e5eaedde960"
    },
    "slideshow": {
     "slide_type": "skip"
    }
   },
   "outputs": [
    {
     "name": "stdout",
     "output_type": "stream",
     "text": [
      "0.048514001\n"
     ]
    }
   ],
   "source": [
    "events, event_start_time = bundle_events(batch_number=40)\n",
    "print(event_start_time)"
   ]
  },
  {
   "cell_type": "code",
   "execution_count": 136,
   "metadata": {},
   "outputs": [],
   "source": [
    "%lprun -f  bundle_events bundle_events(batch_number=40)"
   ]
  },
  {
   "cell_type": "code",
   "execution_count": 15,
   "metadata": {},
   "outputs": [
    {
     "name": "stdout",
     "output_type": "stream",
     "text": [
      "2.54 ms ± 30.3 µs per loop (mean ± std. dev. of 7 runs, 100 loops each)\n"
     ]
    }
   ],
   "source": [
    "%timeit bundle_events(batch_number=40)"
   ]
  },
  {
   "cell_type": "markdown",
   "metadata": {
    "nbpresent": {
     "id": "83e690d8-1f07-44c0-802e-810a700fab05"
    },
    "slideshow": {
     "slide_type": "subslide"
    }
   },
   "source": [
    "The pose is sampled at frequencies lower than the event data. In order to capture pose information for an event at some timestamp, it is thus necessary to linearly interpolate the pose data for that timestamp. As the trajectory is continuous and the sampling time is very small, we can assume the path between two timesteps to be fairly linear."
   ]
  },
  {
   "cell_type": "code",
   "execution_count": 137,
   "metadata": {
    "nbpresent": {
     "id": "f521d426-e19d-4e56-b326-bd2681652ec1"
    },
    "slideshow": {
     "slide_type": "subslide"
    }
   },
   "outputs": [],
   "source": [
    "def get_ground_truth_pose(event_start_time, filename='groundtruth.txt'):\n",
    "    \n",
    "    ''' \n",
    "    This function returns the the groundtruth pose for an event depending on the timestamp \n",
    "    of the input given as input to the function. If pose of the event is linearly interpolated \n",
    "    if the timestamp of the event given falls in between the timestamps of the poses of the two \n",
    "    events\n",
    "    \n",
    "    Parameters:\n",
    "    -----------\n",
    "    event_start_time : <float>\n",
    "        timestamp of event for which pose information is to be estimated\n",
    "    filename : <string>\n",
    "        name of the file containing the groundtruth\n",
    "        \n",
    "    Return:\n",
    "    -------\n",
    "    pose : <list> of format [timestamp, px, py, pz, qx, qy, qz, qw]\n",
    "        Returns a list describing the pose at the timestamp given by the event\n",
    "    \n",
    "    '''\n",
    "    file = open(data_path +'/' + filename, \"r\")\n",
    "    prev_pose = [0, 0, 0, 0, 0, 0, 0, 1]\n",
    "    prev_time = prev_pose[0]  #start with initial time 0s \n",
    "    \n",
    "    for line in file:\n",
    "        current_pose = list(map(float,line.split()))\n",
    "        current_time = current_pose[0]\n",
    "        \n",
    "        if event_start_time == current_time:\n",
    "            file.close()\n",
    "            return np.array(current_pose) #pose information for that time-step\n",
    "        \n",
    "        elif event_start_time > prev_time and event_start_time < current_time:\n",
    "            file.close()\n",
    "            return linearly_interpolated_pose(current_pose, prev_pose, event_start_time) \n",
    "            \n",
    "        elif event_start_time > current_time:\n",
    "            prev_pose = current_pose\n",
    "            prev_time = prev_pose[0]"
   ]
  },
  {
   "cell_type": "code",
   "execution_count": 138,
   "metadata": {
    "nbpresent": {
     "id": "1e648d98-2cb8-4938-827e-1da24c84e581"
    },
    "slideshow": {
     "slide_type": "subslide"
    }
   },
   "outputs": [],
   "source": [
    "def linearly_interpolated_pose(pose_t, pose_t_minus_1, time_bet):\n",
    "    \n",
    "    ''' \n",
    "    Function to linearly interpolate the quaternion and translation values for the timesteps provided\n",
    "    \n",
    "    Parameters:\n",
    "    -----------\n",
    "    pose_t : <list>\n",
    "        list containing pose information of the time step greater than required time \n",
    "    pose_t_minus_1 : <list>\n",
    "        list containing pose information of the time step lesser than required time\n",
    "    time_bet: <float>\n",
    "        Time for which pose information is required\n",
    "    \n",
    "    Return:\n",
    "    -------\n",
    "    estimated_pose : <list>\n",
    "        Returns a list containing the linearly interpolated pose estimate\n",
    "    '''\n",
    "    \n",
    "    # We will doing slerp on quaternions and linear intepolation on the translation vectors\n",
    "    estimated_pose = []\n",
    "    interpolater = time_bet/(pose_t[0] - pose_t_minus_1[0])\n",
    "    \n",
    "    interpolated_translation = interpolater *(np.array(pose_t[1:4]) - np.array(pose_t_minus_1[1:4]))\n",
    "    \n",
    "    \n",
    "    pose_t_minus_1_qt = qt.Quaternion(pose_t_minus_1[7], pose_t_minus_1[4], pose_t_minus_1[5], pose_t_minus_1[6])\n",
    "    \n",
    "    pose_t_qt = qt.Quaternion(pose_t[7], pose_t[4], pose_t[5], pose_t[6]) \n",
    "    # the order of pose in the dataset and that used in the pyquaternion library is different, hence the restructuring\n",
    "    \n",
    "    interpolated_rotation = qt.Quaternion.slerp(pose_t_minus_1_qt, pose_t_qt, interpolater)\n",
    "    eqw ,eqx, eqy, eqz = interpolated_rotation.elements\n",
    "    px, py, pz = interpolated_translation\n",
    "    \n",
    "    return [time_bet, px, py, pz, eqx, eqy, eqz, eqw]"
   ]
  },
  {
   "cell_type": "markdown",
   "metadata": {
    "nbpresent": {
     "id": "adf4fae8-461f-4d0d-ac73-5e5a4bd8b02d"
    },
    "slideshow": {
     "slide_type": "fragment"
    }
   },
   "source": [
    "The below code is run to see how the pose information is calculated for different event times where the events are sampled in batches.vIn this case, the sampling of 10 batches of information is demonstrated."
   ]
  },
  {
   "cell_type": "code",
   "execution_count": 139,
   "metadata": {
    "nbpresent": {
     "id": "ee941717-2077-4031-9437-9172d08f33fa"
    },
    "slideshow": {
     "slide_type": "subslide"
    }
   },
   "outputs": [],
   "source": [
    "def get_info():\n",
    "    for batch in range(10):\n",
    "        events, event_start_time = bundle_events(batch)\n",
    "        info = get_ground_truth_pose(event_start_time)\n",
    "        #print('For batch number {}, the event starts at {} second with translation vector, t={} and rotational quaternion={}'\n",
    "              #.format(batch, info[0], info[1:4], info[4:]))\n",
    "    "
   ]
  },
  {
   "cell_type": "code",
   "execution_count": 140,
   "metadata": {},
   "outputs": [],
   "source": [
    "get_info()"
   ]
  },
  {
   "cell_type": "code",
   "execution_count": 21,
   "metadata": {},
   "outputs": [],
   "source": [
    "%lprun -f get_info get_info()"
   ]
  },
  {
   "cell_type": "code",
   "execution_count": 22,
   "metadata": {},
   "outputs": [
    {
     "name": "stdout",
     "output_type": "stream",
     "text": [
      "11.8 ms ± 135 µs per loop (mean ± std. dev. of 7 runs, 100 loops each)\n"
     ]
    }
   ],
   "source": [
    "%timeit get_info()"
   ]
  },
  {
   "cell_type": "markdown",
   "metadata": {},
   "source": [
    "This snippet gets translation and rotation in matrix form from the originally given quaternion form."
   ]
  },
  {
   "cell_type": "code",
   "execution_count": 141,
   "metadata": {},
   "outputs": [],
   "source": [
    "def get_translation_rotation(pose):\n",
    "    \n",
    "    '''\n",
    "    Get the translation vector and rotation matrix from the pose which contains a quaternion\n",
    "    \n",
    "    Parameters:\n",
    "    -----------\n",
    "    pose : <list>\n",
    "        A list contating the translation vectors and quaternion for rotation\n",
    "    \n",
    "    Return:\n",
    "    -------\n",
    "    t : <np.array, 1x3>\n",
    "        An array of translation co-ordinates\n",
    "    R : <np.array, 3x3>\n",
    "        A matrix containing the rotational information\n",
    "    '''\n",
    "    \n",
    "    pose_qt = qt.Quaternion(pose[7], pose[4], pose[5], pose[6])\n",
    "    R = pose_qt.rotation_matrix\n",
    "    t = np.array(pose[1:4]).reshape((3,1))\n",
    "    return t,R"
   ]
  },
  {
   "cell_type": "code",
   "execution_count": 142,
   "metadata": {},
   "outputs": [
    {
     "name": "stdout",
     "output_type": "stream",
     "text": [
      "Translation:\n",
      "[[0.01909425]\n",
      " [0.        ]\n",
      " [0.        ]] \n",
      " Rotation:\n",
      "[[1. 0. 0.]\n",
      " [0. 1. 0.]\n",
      " [0. 0. 1.]]\n"
     ]
    }
   ],
   "source": [
    "t, R = get_translation_rotation([0.003811, 0.019094251027136612, 0.0, 0.0, 0.0, 0.0, 0.0, 1.0])\n",
    "print(\"Translation:\\n{} \\n Rotation:\\n{}\".format(t, R))"
   ]
  },
  {
   "cell_type": "code",
   "execution_count": 143,
   "metadata": {},
   "outputs": [
    {
     "name": "stdout",
     "output_type": "stream",
     "text": [
      "45.6 µs ± 391 ns per loop (mean ± std. dev. of 7 runs, 10000 loops each)\n"
     ]
    }
   ],
   "source": [
    "%timeit get_translation_rotation([0.003811, 0.019094251027136612, 0.0, 0.0, 0.0, 0.0, 0.0, 1.0])"
   ]
  },
  {
   "cell_type": "code",
   "execution_count": 144,
   "metadata": {},
   "outputs": [],
   "source": [
    "t = np.array([0.019094251027136612, 0, 0]).reshape(3, 1)\n",
    "R = np.eye(3,3)"
   ]
  },
  {
   "cell_type": "markdown",
   "metadata": {
    "nbpresent": {
     "id": "e24b9c19-ee8a-4881-bdd0-9930eb9f5198"
    },
    "slideshow": {
     "slide_type": "slide"
    }
   },
   "source": [
    "<a id=\"stages\"></a>\n",
    "## 3. Stages of Reconstruction\n"
   ]
  },
  {
   "cell_type": "markdown",
   "metadata": {
    "collapsed": true,
    "nbpresent": {
     "id": "b5eb85aa-7c31-4042-ac2a-fecd401560d9"
    },
    "slideshow": {
     "slide_type": "fragment"
    }
   },
   "source": [
    "The algorithm for Event based Multi View Stereo proposed here uses five stages to do the reconstruction. It makes use of the Collins space sweep approach with a few changes. Projective sampling is used instead of uniform sampling. Also the thresholding is Adaptive Gaussian as opposed to Global thresholding used in Collins' algorithm."
   ]
  },
  {
   "cell_type": "markdown",
   "metadata": {
    "nbpresent": {
     "id": "c9fc3361-c0fc-41ca-84d0-41c31b489819"
    },
    "slideshow": {
     "slide_type": "slide"
    }
   },
   "source": [
    "<a id=\"stage_1\"></a>\n",
    "### 3.1 Backprojection\n"
   ]
  },
  {
   "cell_type": "markdown",
   "metadata": {
    "nbpresent": {
     "id": "091fc50b-a223-42a8-9848-5a171171f188"
    },
    "slideshow": {
     "slide_type": "fragment"
    }
   },
   "source": [
    "The 2-D points in the event stream are backprojected into a 3-D space. Since the event camera detects only edges, we can assume the rays corresponding to the same feature would intersect/ go very close to each in some unit volume."
   ]
  },
  {
   "cell_type": "markdown",
   "metadata": {
    "nbpresent": {
     "id": "882cd67b-6bb6-4847-87f5-29aad451ee5d"
    },
    "slideshow": {
     "slide_type": "fragment"
    }
   },
   "source": [
    "<img src=\"Images/backprojection.png\" alt=\"backprojection\" style=\"width: 400px;\"/>\n"
   ]
  },
  {
   "cell_type": "markdown",
   "metadata": {},
   "source": [
    "This snippet maps events from a view to the Z_0 plane"
   ]
  },
  {
   "cell_type": "code",
   "execution_count": 145,
   "metadata": {
    "slideshow": {
     "slide_type": "subslide"
    }
   },
   "outputs": [],
   "source": [
    "def map_to_reference_view(events, t, R):\n",
    "    '''\n",
    "    Function to find out the initial homography matrix to map event co-ordinates to the Z_0 plane of \n",
    "    the reference view\n",
    "    \n",
    "    Parameters:\n",
    "    -----------\n",
    "    events : <np.array, batch_sizex4>\n",
    "        A  containing event information namely [timestamp, ex, ey, polarity] of one batch of size batch_size\n",
    "    t : <np.array, 3x1>\n",
    "        The translation part of the pose\n",
    "    R : <np.array, 3x3>\n",
    "        The Rotational part of the pose\n",
    "        \n",
    "    Return:\n",
    "    -------\n",
    "    mapped_coordinates : <np.array, batch_sizex2>\n",
    "        all the x and y co-ordinates mapped to the reference Z_0\n",
    "    \n",
    "    '''\n",
    "    \n",
    "    co_ords = np.vstack((events[:, 1], events[:, 2], np.ones((events.shape[0], )))) \n",
    "    \n",
    "    e = np.reshape(np.array([0, 0, 1]), (1, 3)) \n",
    "    H_Z0  = np.linalg.inv(R + (t @ e)/Z_0)\n",
    "    mapped_coordinates = (H_Z0 @ co_ords).T      \n",
    "    #print (mapped_coordinates)\n",
    "    #if np.max(mapped_coordinates[:,0]) > 239 or np.max(mapped_coordinates[:,1]) > 179 :\n",
    "       # print(\" out of bounds {} and {}\".format(np.max(mapped_coordinates[:,0], np.max(mapped_coordinates[:,1])))\n",
    "    return mapped_coordinates[:,0:2] #is this correct or should it be normalised by the third column?"
   ]
  },
  {
   "cell_type": "code",
   "execution_count": 146,
   "metadata": {},
   "outputs": [],
   "source": [
    "n = np.array(events)"
   ]
  },
  {
   "cell_type": "code",
   "execution_count": 147,
   "metadata": {},
   "outputs": [],
   "source": [
    "ref_plane_mapped_events = map_to_reference_view(n, t, R)\n"
   ]
  },
  {
   "cell_type": "code",
   "execution_count": 148,
   "metadata": {},
   "outputs": [
    {
     "name": "stdout",
     "output_type": "stream",
     "text": [
      "91.3 µs ± 303 ns per loop (mean ± std. dev. of 7 runs, 10000 loops each)\n"
     ]
    }
   ],
   "source": [
    "%timeit map_to_reference_view(n, t, R)"
   ]
  },
  {
   "cell_type": "code",
   "execution_count": 149,
   "metadata": {},
   "outputs": [],
   "source": [
    "def homography(ref_plane_mapped_events, Z_i, t, R):\n",
    "    '''\n",
    "    Compute the homography for the input positions and  pose. The homography has been calculated as per\n",
    "    the methods outlined in the paper in section 7.1. Z_0 is defined as a global variable later in the code\n",
    "    \n",
    "    Parameters:\n",
    "    -----------\n",
    "    ref_plane_mapped_events : <np.array, batch_sizex2>\n",
    "        Event coordinates mapped to the reference plane\n",
    "        \n",
    "    Z_i : <int> \n",
    "        Current depth plane\n",
    "    t : <np.array, 1x3>\n",
    "        An array of translation co-ordinates\n",
    "    R : <np.array, 3x3>\n",
    "        A matrix containing the rotational information\n",
    "    Return:\n",
    "    -------\n",
    "    depth_plane_mapped_events : <np.array, batch_sizex2>\n",
    "        Event coordinates mapped to the current depth plane\n",
    "    '''\n",
    "    \n",
    "    Cx, Cy, Cz = -(R.T @ t).T[0]  # camera centers , fix this monstrosity\n",
    "    \n",
    "    delta = (Z_i - Z_0)/(Z_0 - Cz)\n",
    "    \n",
    "    m1 = np.vstack((ref_plane_mapped_events[:, 0], np.ones((ref_plane_mapped_events.shape[0]), dtype='float64')*Cx)).T\n",
    "    m2 = np.vstack((ref_plane_mapped_events[:, 1], np.ones((ref_plane_mapped_events.shape[0]), dtype='float64')*Cy)).T\n",
    "    \n",
    "    m_final = np.vstack((m1,m2))\n",
    "    \n",
    "    m3 = np.array([[Z_0*delta/Z_i],\n",
    "                  [(1-delta)/Z_i]])\n",
    "    \n",
    "    cur_depth_mapped_events = m_final @ m3\n",
    "    \n",
    "    x_ref_mapped = cur_depth_mapped_events[:ref_plane_mapped_events.shape[0]]\n",
    "    y_ref_mapped = cur_depth_mapped_events[ref_plane_mapped_events.shape[0]:]\n",
    "    \n",
    "    depth_plane_mapped_events = np.hstack((x_ref_mapped, y_ref_mapped))\n",
    "    #if np.max(depth_plane_mapped_events[:,0]) > 239 or np.max(depth_plane_mapped_events[:,1]) > 179 :\n",
    "        #print(\" out of bounds {} and {}\".format(np.max(depth_plane_mapped_events[:,0], np.max(depth_plane_mapped_events[:,1]))))\n",
    "    return depth_plane_mapped_events"
   ]
  },
  {
   "cell_type": "code",
   "execution_count": 150,
   "metadata": {},
   "outputs": [],
   "source": [
    "depth_plane_mapped_events = homography(ref_plane_mapped_events, 20, t, R) # value of Z_i should be greater than Z_0,\n",
    "#  random value of 20 chosen for testing"
   ]
  },
  {
   "cell_type": "code",
   "execution_count": 151,
   "metadata": {},
   "outputs": [
    {
     "name": "stdout",
     "output_type": "stream",
     "text": [
      "122 µs ± 1.56 µs per loop (mean ± std. dev. of 7 runs, 10000 loops each)\n"
     ]
    }
   ],
   "source": [
    "%timeit homography(ref_plane_mapped_events, 20, t, R)"
   ]
  },
  {
   "cell_type": "markdown",
   "metadata": {
    "nbpresent": {
     "id": "a391a6b6-c3f2-4ba3-9d2c-72c62cfe90e0"
    },
    "slideshow": {
     "slide_type": "slide"
    }
   },
   "source": [
    "<a id=\"stage_2\"></a>\n",
    "### 3.2 Volumetric Ray Counting\n"
   ]
  },
  {
   "cell_type": "markdown",
   "metadata": {
    "nbpresent": {
     "id": "40bb9fdf-6fb7-4ab0-9e61-9b252f10b615"
    },
    "slideshow": {
     "slide_type": "fragment"
    }
   },
   "source": [
    "We assume our backprojected rays from different views to pass through some 3-D Volume divided into voxels. A scoring function is associated with each voxel. The score of each voxel is determined by the number of rays passing through it. It is given as shown below. <b>X</b> is the co-ordinate of the centre of a voxel."
   ]
  },
  {
   "cell_type": "markdown",
   "metadata": {
    "nbpresent": {
     "id": "f9eb0aae-3db6-469d-8118-73a3037fe92d"
    },
    "slideshow": {
     "slide_type": "fragment"
    }
   },
   "source": [
    "<img src=\"Images/scoring.png\" alt=\"scoring\" style=\"width: 200px;\"/>"
   ]
  },
  {
   "cell_type": "code",
   "execution_count": 152,
   "metadata": {},
   "outputs": [],
   "source": [
    "def ray_counting(voxel_space, vol_coords, z_index=0):\n",
    "    '''This function assigns votes to the voxel space based on the number of times vol_coords appear. Vol_coords are\n",
    "    indices computed from depth plane mapped events'''\n",
    "    shp = voxel_space.shape \n",
    "    idx = vol_coords[:,0]*shp[2] + vol_coords[:,1] + z_index*shp[2]*shp[1]\n",
    "    np.add.at(voxel_space.ravel(),idx,1)\n",
    "    return voxel_space"
   ]
  },
  {
   "cell_type": "code",
   "execution_count": 153,
   "metadata": {},
   "outputs": [],
   "source": [
    "def vote(voxel_space, Z_i, depth_plane_mapped_events, vote_type='nearest_neighbour'):\n",
    "    ''' \n",
    "    The function recieves floating values as co-ordinates. This function assigns a vote to the appropriate voxel by \n",
    "    approximating it the nearest integer co-ordinates using some correction scheme.\n",
    "    \n",
    "    Parameters:\n",
    "    -----------\n",
    "    voxel_space : <np.array, number_of_depth_planes x camera_width x camera_height>\n",
    "        The volume to which depth mapped events vote \n",
    "        \n",
    "    Z_i : <int>\n",
    "        The current depth plane for voting process\n",
    "        \n",
    "    depth_plane_mapped_events : <np.array, batch_sizex2>\n",
    "        Event coordinates mapped to the current depth plane\n",
    "    \n",
    "    vote_type : <string>\n",
    "        bilinear or nearest neighbour\n",
    "        \n",
    "    Return:\n",
    "    -------\n",
    "     <np.array, number_of_depth_planes x camera_width x camera_height>\n",
    "       volume with voted events \n",
    "    '''\n",
    "    if vote_type=='nearest_neighbour':\n",
    "        depth_vol_coords = np.round(depth_plane_mapped_events).astype(int)\n",
    "        prev_votes = np.array(voxel_space, copy=True)  \n",
    "        voxel_space = np.zeros(voxel_space.shape)\n",
    "        return prev_votes + ray_counting(voxel_space, depth_vol_coords, z_index=Z_i-(Z_0+1))"
   ]
  },
  {
   "cell_type": "code",
   "execution_count": 154,
   "metadata": {},
   "outputs": [],
   "source": [
    "voxel_space = np.random.randint(0, 1000, (100, 240, 180))"
   ]
  },
  {
   "cell_type": "code",
   "execution_count": 155,
   "metadata": {},
   "outputs": [],
   "source": [
    "voxel_space = vote(voxel_space ,20, depth_plane_mapped_events) # random value of 20 used for Z_i for testing"
   ]
  },
  {
   "cell_type": "code",
   "execution_count": 114,
   "metadata": {},
   "outputs": [],
   "source": [
    "%lprun -f  vote vote(voxel_space,20-(Z_0+1), depth_plane_mapped_events)"
   ]
  },
  {
   "cell_type": "markdown",
   "metadata": {
    "nbpresent": {
     "id": "0ad92ffc-a682-4e31-9f75-5f84d9fab10c"
    },
    "slideshow": {
     "slide_type": "slide"
    }
   },
   "source": [
    "<a id=\"stage_3\"></a>\n",
    "### 3.3 Thresholding\n"
   ]
  },
  {
   "cell_type": "markdown",
   "metadata": {
    "nbpresent": {
     "id": "6a3d2c3f-4ad7-4726-bae1-9a73d352b6ae"
    },
    "slideshow": {
     "slide_type": "fragment"
    }
   },
   "source": [
    "Local maxima of <b>f(X)</b> is determined here. It is done by by using adaptive gaussian thresholding on the confidence map c(x,y). After this procedure a scene structure should have been formed."
   ]
  },
  {
   "cell_type": "code",
   "execution_count": 156,
   "metadata": {},
   "outputs": [],
   "source": [
    "from skimage.filters import threshold_adaptive\n",
    "\n",
    "def adaptive_gaussian_thresholding(volume_slice, kernal_size, C):\n",
    "    '''\n",
    "    This function does adaptive gaussian thresholding of the 3-D voxel space\n",
    "    \n",
    "    Parameters\n",
    "    ----------\n",
    "    volume_slice : <np.array, 1 x camera_width x camera_height>\n",
    "        The (1 x camera_width x camera_height) array which define the center of the voxel co-ordinates after having accumulated votes in the \n",
    "        voting process\n",
    "    \n",
    "    kernal_size : <int>\n",
    "        The size of the adaptive window to be used. 5 specified in the paper\n",
    "    \n",
    "    C : The offset value to be used for the adaptive filter. -10 is specified in the paper\n",
    "    \n",
    "    Returns\n",
    "    ------- \n",
    "    final_values : <np.array, 1 x camera_width x camera_height>\n",
    "        A (1 x camera_width x camera_height) array on which adaptive gaussian thresholding has been successfully performed\n",
    "    '''\n",
    "    #binary_adaptive = threshold_adaptive(volume_slice, kernal_size, C)\n",
    "    final_values = np.multiply(volume_slice, (volume_slice>0).astype(int))\n",
    "    return final_values\n"
   ]
  },
  {
   "cell_type": "code",
   "execution_count": 157,
   "metadata": {},
   "outputs": [],
   "source": [
    "voxel_space = np.zeros((num_of_depth_planes, 240, 180))\n",
    "thresholded_slice = adaptive_gaussian_thresholding(voxel_space[100 - (Z_0+1), :, :], 5, -10)"
   ]
  },
  {
   "cell_type": "code",
   "execution_count": 158,
   "metadata": {},
   "outputs": [
    {
     "name": "stdout",
     "output_type": "stream",
     "text": [
      "177 µs ± 1.55 µs per loop (mean ± std. dev. of 7 runs, 10000 loops each)\n"
     ]
    }
   ],
   "source": [
    "\n",
    "%timeit adaptive_gaussian_thresholding(voxel_space[20 - (Z_0+1), :, :], 5, -10)"
   ]
  },
  {
   "cell_type": "markdown",
   "metadata": {
    "nbpresent": {
     "id": "16d1fb2d-cdf8-4be7-8ece-37998f641c97"
    },
    "slideshow": {
     "slide_type": "slide"
    }
   },
   "source": [
    "<a id=\"stage_4\"></a>\n",
    "### 3.4 Scene Merging\n"
   ]
  },
  {
   "cell_type": "markdown",
   "metadata": {
    "nbpresent": {
     "id": "f1b17e78-61b1-4b4d-a967-1854d7ca9d89"
    },
    "slideshow": {
     "slide_type": "fragment"
    }
   },
   "source": [
    "This is used to merge scenes obtained while the camera is moving. The key reference view is changed when the distance moved by the camera w.r.t to the reference view exceeds some percentage of the mean scene depth (15 to 40%)"
   ]
  },
  {
   "cell_type": "code",
   "execution_count": 159,
   "metadata": {},
   "outputs": [],
   "source": [
    "def calc_mean_depth(volume):\n",
    "    '''\n",
    "        Calculate the mean depth of the volume. Only voxels which contain a value are considered for the mean depth.\n",
    "\n",
    "        Parameters:\n",
    "        -----------\n",
    "        volume: <np.array, number_of_depth_planes x camera_width x camera_height>\n",
    "             Input 3-D volume which may contain value greater than 0 in its voxels\n",
    "        Return: \n",
    "        -------\n",
    "        mean_depth :<float>\n",
    "            mean depth calculated\n",
    "    '''\n",
    "    depth_map = np.argmax(volume, axis=0)\n",
    "    mean_depth = np.mean(depth_map)\n",
    "    return (mean_depth + 1) * 0.335"
   ]
  },
  {
   "cell_type": "code",
   "execution_count": 160,
   "metadata": {},
   "outputs": [
    {
     "name": "stdout",
     "output_type": "stream",
     "text": [
      "28.7 ms ± 352 µs per loop (mean ± std. dev. of 7 runs, 10 loops each)\n"
     ]
    }
   ],
   "source": [
    "%timeit calc_mean_depth(voxel_space)"
   ]
  },
  {
   "cell_type": "code",
   "execution_count": 161,
   "metadata": {},
   "outputs": [],
   "source": [
    "def check_reference_switch(volume, t, t_prev, mean_depth_factor = 0.2):\n",
    "    '''\n",
    "    Returns True if mean depth is 15% to 40% of the mean_depth of the scene. \n",
    "    Parameters :\n",
    "    ------------\n",
    "    volume : <np.array, number_of_depth_planes x camera_width x camera_height>\n",
    "    t : <np.array, 1x3>\n",
    "        An array of translation co-ordinates\n",
    "    t : <np.array, 1x3>\n",
    "        An array of prev translation co-ordinates\n",
    "    mean_depth_factor : <float>\n",
    "        default value of 20%(0.2) assigned. Guidelines of 15 to 40 % in paper\n",
    "    \n",
    "    Return: \n",
    "    --------\n",
    "    <bool>\n",
    "        True if a reference view change is required\n",
    "    \n",
    "    '''\n",
    "    mean_depth = calc_mean_depth(volume)\n",
    "    dist_travelled = np.linalg.norm(t-t_prev)\n",
    "    \n",
    "    if dist_travelled > mean_depth_factor * mean_depth:\n",
    "        return True\n",
    "    else:\n",
    "        return False"
   ]
  },
  {
   "cell_type": "code",
   "execution_count": 162,
   "metadata": {},
   "outputs": [
    {
     "data": {
      "text/plain": [
       "True"
      ]
     },
     "execution_count": 162,
     "metadata": {},
     "output_type": "execute_result"
    }
   ],
   "source": [
    "tplus1 = np.array([1, 0, 0]).reshape(3,1)\n",
    "check_reference_switch(voxel_space ,tplus1, t)"
   ]
  },
  {
   "cell_type": "code",
   "execution_count": 163,
   "metadata": {},
   "outputs": [],
   "source": [
    "%lprun -f  check_reference_switch check_reference_switch(voxel_space ,tplus1, t)"
   ]
  },
  {
   "cell_type": "code",
   "execution_count": 164,
   "metadata": {},
   "outputs": [
    {
     "name": "stdout",
     "output_type": "stream",
     "text": [
      "28.9 ms ± 444 µs per loop (mean ± std. dev. of 7 runs, 10 loops each)\n"
     ]
    }
   ],
   "source": [
    "%timeit check_reference_switch(voxel_space ,tplus1, t)"
   ]
  },
  {
   "cell_type": "code",
   "execution_count": 170,
   "metadata": {},
   "outputs": [],
   "source": [
    "def get_transformed_vol_from_prev_voxel_space(prev_vol_vectors, curr_volume, R, t):\n",
    "    '''\n",
    "    This generates a new 3-D space based on the 3-D space obtained after current transformation and the \n",
    "    3-D space obtained earlier(prev volume vectors). The volume vectors define the point in space where the 3-D \n",
    "    space has some value greater than 0.\n",
    "    \n",
    "    Parameters\n",
    "    ----------\n",
    "    prev_vol_vectors : <list, nx3>\n",
    "        The list of vectors in the previous volume where the points defined by them had values greater than 0\n",
    "    \n",
    "    curr_volume : <np.array, number_of_depth_planes x camera_width x camera_height>\n",
    "        The 3-D space of the current reference view\n",
    "    \n",
    "    t : <np.array, 1x3>\n",
    "        An array of translation co-ordinates\n",
    "        \n",
    "    R : <np.array, 3x3>\n",
    "        A matrix containing the rotational information\n",
    "    \n",
    "    Returns\n",
    "    ------- \n",
    "   volume_vectors_list : <list>\n",
    "        List of volume vectors in the reference view\n",
    "    '''    \n",
    "\n",
    "    transformed_vol_vectors = transform_volume(curr_volume, R, t)\n",
    "    \n",
    "    tot_vectors = transformed_vol_vectors + prev_vol_vectors\n",
    "    volume_vectors_set = set(tuple(vector) for vector in  tot_vectors)\n",
    "    volume_vectors_list = [list(vector) for vector in volume_vectors_set]\n",
    "\n",
    "    return volume_vectors_list"
   ]
  },
  {
   "cell_type": "code",
   "execution_count": 171,
   "metadata": {},
   "outputs": [],
   "source": [
    "def transform_volume(curr_volume, R, t):\n",
    "    orig_vol_vectors = np.argwhere(curr_volume > 5)\n",
    "    # array is of form nX(z,x,y), the below code makes the array of form nX(x, y, z)\n",
    "    ###############################################\n",
    "    my_permutation = [2, 0, 1]\n",
    "    i = np.argsort(my_permutation)\n",
    "    orig_vol_vectors = orig_vol_vectors[:, i]\n",
    "    ################################################\n",
    "    \n",
    "    # Keep in mind that the shape of the vectors we get from the volume is (z,x,y) while the shape need for \n",
    "    # computing transformations is (x, y, z)\n",
    "    transformed_vol_vectors = (R@(orig_vol_vectors).T + t).T\n",
    "    \n",
    "    #nearest neighbour voting \n",
    "    transformed_vol_vectors = (np.round(transformed_vol_vectors)).astype(int)\n",
    "    \n",
    "    # array is of form nX(x,y,z), the below code makes the array of form nX(z, x, y)\n",
    "    ###############################################\n",
    "    my_permutation = [1, 2, 0]\n",
    "    i = np.argsort(my_permutation)\n",
    "    transformed_vol_vectors = transformed_vol_vectors[:, i] \n",
    "    ################################################\n",
    "    \n",
    "    return transformed_vol_vectors.tolist()"
   ]
  },
  {
   "cell_type": "code",
   "execution_count": 172,
   "metadata": {},
   "outputs": [
    {
     "name": "stdout",
     "output_type": "stream",
     "text": [
      "22.3 ms ± 230 µs per loop (mean ± std. dev. of 7 runs, 10 loops each)\n"
     ]
    }
   ],
   "source": [
    "prev_vol_vectors = [[0, 0, 1], [0, 2 ,3], [2, 4, 56], [34, 23 ,45], [21, 34 ,67]]\n",
    "%timeit get_transformed_vol_from_prev_voxel_space(prev_vol_vectors, voxel_space, R, t)"
   ]
  },
  {
   "cell_type": "markdown",
   "metadata": {
    "nbpresent": {
     "id": "e243fce1-06d6-4298-902f-3315b664079d"
    },
    "slideshow": {
     "slide_type": "slide"
    }
   },
   "source": [
    "<a id=\"stage_5\"></a>\n",
    "### 3.5 Cleaning and Plotting\n"
   ]
  },
  {
   "cell_type": "markdown",
   "metadata": {
    "nbpresent": {
     "id": "14e04e99-6b89-49a7-9c15-87f2c41b3635"
    },
    "slideshow": {
     "slide_type": "fragment"
    }
   },
   "source": [
    "The edges obtained are cleaned using median filters and radius filters"
   ]
  },
  {
   "cell_type": "code",
   "execution_count": 173,
   "metadata": {},
   "outputs": [],
   "source": [
    "def clean(volume):\n",
    "    volume = median_filter(volume)\n",
    "    volume = radius_filter(volume)\n",
    "    return volume"
   ]
  },
  {
   "cell_type": "code",
   "execution_count": 174,
   "metadata": {
    "nbpresent": {
     "id": "4f3fdcef-0cff-4292-b98b-16a2b8e2f3d8"
    },
    "slideshow": {
     "slide_type": "subslide"
    }
   },
   "outputs": [],
   "source": [
    "def radius_filter(volume):\n",
    "    '''to be filled later '''\n",
    "    return volume"
   ]
  },
  {
   "cell_type": "code",
   "execution_count": 175,
   "metadata": {
    "nbpresent": {
     "id": "0917affd-3569-443c-8b5b-d302a8a20764"
    },
    "slideshow": {
     "slide_type": "subslide"
    }
   },
   "outputs": [],
   "source": [
    "def median_filter(volume):\n",
    "    scipy.ndimage.filters.median_filter(volume)\n",
    "    return volume"
   ]
  },
  {
   "cell_type": "code",
   "execution_count": 176,
   "metadata": {
    "nbpresent": {
     "id": "3247ac23-2d60-4212-8f38-e7dffdab81ac"
    },
    "slideshow": {
     "slide_type": "subslide"
    }
   },
   "outputs": [],
   "source": [
    "def plot_3D_space_and_convert_to_point_cloud(volume_3D, destination):\n",
    "    '''to be filled later'''\n",
    "    pass"
   ]
  },
  {
   "cell_type": "code",
   "execution_count": 177,
   "metadata": {},
   "outputs": [],
   "source": [
    "import matplotlib.pyplot as plt\n",
    "from mpl_toolkits.mplot3d import Axes3D\n",
    "%matplotlib inline\n",
    "import time\n",
    "import pylab as pl\n",
    "from IPython import display\n",
    "\n",
    "def plot_3D_space(volume_vector_list):\n",
    "    fig = plt.figure()\n",
    "    ax = fig.add_subplot(111, projection='3d')\n",
    "    xs = np.array(volume_vector_list)[:, 1]\n",
    "    ys = np.array(volume_vector_list)[:, 2]\n",
    "    zs = np.array(volume_vector_list)[:, 0]\n",
    "    ax.scatter(xs, zs, ys)\n",
    "    #display.clear_output(wait=True)\n",
    "    #display.display(pl.gcf())\n",
    "    #time.sleep(0.001)"
   ]
  },
  {
   "cell_type": "markdown",
   "metadata": {
    "nbpresent": {
     "id": "6e02862b-9b24-48ac-8a4b-5e001eb1e101"
    },
    "slideshow": {
     "slide_type": "subslide"
    }
   },
   "source": [
    "<a id=\"algorithm\"></a>\n",
    "## 4. The Algorithm\n"
   ]
  },
  {
   "cell_type": "markdown",
   "metadata": {
    "nbpresent": {
     "id": "deb3631d-a1a5-4ec2-90e1-dae819fe2df8"
    },
    "slideshow": {
     "slide_type": "slide"
    }
   },
   "source": [
    "The algorithm given by Rebecq et al. is as shown below. Note that there are some guidelines given by Rebecq et al. to speed up computations which must be followed."
   ]
  },
  {
   "cell_type": "markdown",
   "metadata": {
    "nbpresent": {
     "id": "00010dae-7830-4e2b-8d24-52c1363ea3b7"
    },
    "slideshow": {
     "slide_type": "fragment"
    }
   },
   "source": [
    "<img src=\"Images/algorithm.png\" alt=\"The Algorithm\" style=\"width: 400px;\" align='left'/>"
   ]
  },
  {
   "cell_type": "markdown",
   "metadata": {
    "nbpresent": {
     "id": "c94f8e3a-936d-4f2e-ab7a-5ef5b27d8462"
    },
    "slideshow": {
     "slide_type": "slide"
    }
   },
   "source": [
    "<a id=\"algo_pic\"></a>\n",
    "### 4.1 Pictorial Representation of the Algorithm\n"
   ]
  },
  {
   "cell_type": "markdown",
   "metadata": {
    "nbpresent": {
     "id": "21af36af-4d2d-42a5-a658-275b31203727"
    },
    "slideshow": {
     "slide_type": "fragment"
    }
   },
   "source": [
    "\n",
    "<img src=\"Images/Visualization_of_ EVMS_process.png\" alt=\"visualising EVMS homographies\" style=\"width: 400px;\" align='center'/>"
   ]
  },
  {
   "cell_type": "markdown",
   "metadata": {
    "nbpresent": {
     "id": "1340e68e-8485-4eed-90e8-c0b839a6cfb3"
    },
    "slideshow": {
     "slide_type": "slide"
    }
   },
   "source": [
    "<a id=\"main\"></a>\n",
    "# 5. The Main function\n"
   ]
  },
  {
   "cell_type": "code",
   "execution_count": 178,
   "metadata": {
    "nbpresent": {
     "id": "e1655d99-a2e0-4c42-8d87-86764fff146c"
    },
    "slideshow": {
     "slide_type": "subslide"
    }
   },
   "outputs": [],
   "source": [
    "from tqdm import tqdm\n",
    "def main(batches):\n",
    "    '''\n",
    "    batches = number of batches of events the function has to run for.\n",
    "    '''\n",
    "    # the resolution of the camera is 240x180\n",
    "    voxel_space = np.zeros((num_of_depth_planes, 240, 180)) \n",
    "    # the reference vol vectors which have to be plotted in 3-D space later\n",
    "    reference_vol_vectors = [] \n",
    "    events, event_start_time = bundle_events(batch_number=0)\n",
    "    pose = get_ground_truth_pose(event_start_time)\n",
    "    t_prev, R_prev = get_translation_rotation(pose)\n",
    "    \n",
    "    for batch in tqdm(range(batches)): \n",
    "        events, event_start_time = bundle_events(batch_number=batch)\n",
    "        pose = get_ground_truth_pose(event_start_time)\n",
    "        \n",
    "        t, R = get_translation_rotation(pose) \n",
    "            \n",
    "        ref_plane_mapped_events = map_to_reference_view(np.array(events), t, R)\n",
    "            \n",
    "        # if Z_0 is 0 then divide by zero errors occur, therefore Z_0+1 used\n",
    "        for Z_i in range(Z_0+1, num_of_depth_planes+Z_0+1):\n",
    "            \n",
    "            #parallelize this using multithreading in the end, \n",
    "            \n",
    "            depth_plane_mapped_events = homography(ref_plane_mapped_events, Z_i, t, R) \n",
    "            voxel_space = vote(voxel_space, Z_i, depth_plane_mapped_events)\n",
    "            voxel_space[Z_i-(Z_0+1), :, :] = adaptive_gaussian_thresholding(voxel_space[Z_i-(Z_0+1), :, :], 5, -10) \n",
    "    \n",
    "\n",
    "        if check_reference_switch(voxel_space, t, t_prev): \n",
    "            print(\"switch happening...\")\n",
    "\n",
    "            reference_vol_vectors = get_transformed_vol_from_prev_voxel_space(reference_vol_vectors, voxel_space, R, t, R_prev, t_prev) \n",
    "            #  Re-initialize voxel space for new reference\n",
    "            voxel_space = np.zeros((num_of_depth_planes, 240, 180))\n",
    "            \n",
    "        else:\n",
    "            reference_vol_vectors = transform_volume(voxel_space, R, t )\n",
    "        \n",
    "        \n",
    "        t_prev, R_prev = t , R\n",
    "        \n",
    "    return voxel_space, reference_vol_vectors\n",
    "\n",
    "###########################################to be done later####################################    \n",
    "#scored_space = clean(voxel_space)\n",
    "#plt.plot(scored_space)  # plot scored space continuously\n",
    "        "
   ]
  },
  {
   "cell_type": "code",
   "execution_count": 125,
   "metadata": {},
   "outputs": [
    {
     "name": "stderr",
     "output_type": "stream",
     "text": [
      "100%|██████████| 10/10 [00:45<00:00,  4.55s/it]\n"
     ]
    }
   ],
   "source": [
    "voxel_space, ref_vec = main(10) #4000"
   ]
  },
  {
   "cell_type": "code",
   "execution_count": 74,
   "metadata": {},
   "outputs": [],
   "source": [
    "depth_map = np.argmax(voxel_space, axis=0)"
   ]
  },
  {
   "cell_type": "code",
   "execution_count": 75,
   "metadata": {},
   "outputs": [],
   "source": [
    "mean_depth = np.mean(depth_map)"
   ]
  },
  {
   "cell_type": "code",
   "execution_count": 29,
   "metadata": {},
   "outputs": [],
   "source": [
    "%matplotlib notebook\n",
    "from matplotlib import interactive\n",
    "interactive(True)"
   ]
  },
  {
   "cell_type": "code",
   "execution_count": 78,
   "metadata": {},
   "outputs": [
    {
     "data": {
      "application/javascript": [
       "/* Put everything inside the global mpl namespace */\n",
       "window.mpl = {};\n",
       "\n",
       "\n",
       "mpl.get_websocket_type = function() {\n",
       "    if (typeof(WebSocket) !== 'undefined') {\n",
       "        return WebSocket;\n",
       "    } else if (typeof(MozWebSocket) !== 'undefined') {\n",
       "        return MozWebSocket;\n",
       "    } else {\n",
       "        alert('Your browser does not have WebSocket support.' +\n",
       "              'Please try Chrome, Safari or Firefox ≥ 6. ' +\n",
       "              'Firefox 4 and 5 are also supported but you ' +\n",
       "              'have to enable WebSockets in about:config.');\n",
       "    };\n",
       "}\n",
       "\n",
       "mpl.figure = function(figure_id, websocket, ondownload, parent_element) {\n",
       "    this.id = figure_id;\n",
       "\n",
       "    this.ws = websocket;\n",
       "\n",
       "    this.supports_binary = (this.ws.binaryType != undefined);\n",
       "\n",
       "    if (!this.supports_binary) {\n",
       "        var warnings = document.getElementById(\"mpl-warnings\");\n",
       "        if (warnings) {\n",
       "            warnings.style.display = 'block';\n",
       "            warnings.textContent = (\n",
       "                \"This browser does not support binary websocket messages. \" +\n",
       "                    \"Performance may be slow.\");\n",
       "        }\n",
       "    }\n",
       "\n",
       "    this.imageObj = new Image();\n",
       "\n",
       "    this.context = undefined;\n",
       "    this.message = undefined;\n",
       "    this.canvas = undefined;\n",
       "    this.rubberband_canvas = undefined;\n",
       "    this.rubberband_context = undefined;\n",
       "    this.format_dropdown = undefined;\n",
       "\n",
       "    this.image_mode = 'full';\n",
       "\n",
       "    this.root = $('<div/>');\n",
       "    this._root_extra_style(this.root)\n",
       "    this.root.attr('style', 'display: inline-block');\n",
       "\n",
       "    $(parent_element).append(this.root);\n",
       "\n",
       "    this._init_header(this);\n",
       "    this._init_canvas(this);\n",
       "    this._init_toolbar(this);\n",
       "\n",
       "    var fig = this;\n",
       "\n",
       "    this.waiting = false;\n",
       "\n",
       "    this.ws.onopen =  function () {\n",
       "            fig.send_message(\"supports_binary\", {value: fig.supports_binary});\n",
       "            fig.send_message(\"send_image_mode\", {});\n",
       "            if (mpl.ratio != 1) {\n",
       "                fig.send_message(\"set_dpi_ratio\", {'dpi_ratio': mpl.ratio});\n",
       "            }\n",
       "            fig.send_message(\"refresh\", {});\n",
       "        }\n",
       "\n",
       "    this.imageObj.onload = function() {\n",
       "            if (fig.image_mode == 'full') {\n",
       "                // Full images could contain transparency (where diff images\n",
       "                // almost always do), so we need to clear the canvas so that\n",
       "                // there is no ghosting.\n",
       "                fig.context.clearRect(0, 0, fig.canvas.width, fig.canvas.height);\n",
       "            }\n",
       "            fig.context.drawImage(fig.imageObj, 0, 0);\n",
       "        };\n",
       "\n",
       "    this.imageObj.onunload = function() {\n",
       "        fig.ws.close();\n",
       "    }\n",
       "\n",
       "    this.ws.onmessage = this._make_on_message_function(this);\n",
       "\n",
       "    this.ondownload = ondownload;\n",
       "}\n",
       "\n",
       "mpl.figure.prototype._init_header = function() {\n",
       "    var titlebar = $(\n",
       "        '<div class=\"ui-dialog-titlebar ui-widget-header ui-corner-all ' +\n",
       "        'ui-helper-clearfix\"/>');\n",
       "    var titletext = $(\n",
       "        '<div class=\"ui-dialog-title\" style=\"width: 100%; ' +\n",
       "        'text-align: center; padding: 3px;\"/>');\n",
       "    titlebar.append(titletext)\n",
       "    this.root.append(titlebar);\n",
       "    this.header = titletext[0];\n",
       "}\n",
       "\n",
       "\n",
       "\n",
       "mpl.figure.prototype._canvas_extra_style = function(canvas_div) {\n",
       "\n",
       "}\n",
       "\n",
       "\n",
       "mpl.figure.prototype._root_extra_style = function(canvas_div) {\n",
       "\n",
       "}\n",
       "\n",
       "mpl.figure.prototype._init_canvas = function() {\n",
       "    var fig = this;\n",
       "\n",
       "    var canvas_div = $('<div/>');\n",
       "\n",
       "    canvas_div.attr('style', 'position: relative; clear: both; outline: 0');\n",
       "\n",
       "    function canvas_keyboard_event(event) {\n",
       "        return fig.key_event(event, event['data']);\n",
       "    }\n",
       "\n",
       "    canvas_div.keydown('key_press', canvas_keyboard_event);\n",
       "    canvas_div.keyup('key_release', canvas_keyboard_event);\n",
       "    this.canvas_div = canvas_div\n",
       "    this._canvas_extra_style(canvas_div)\n",
       "    this.root.append(canvas_div);\n",
       "\n",
       "    var canvas = $('<canvas/>');\n",
       "    canvas.addClass('mpl-canvas');\n",
       "    canvas.attr('style', \"left: 0; top: 0; z-index: 0; outline: 0\")\n",
       "\n",
       "    this.canvas = canvas[0];\n",
       "    this.context = canvas[0].getContext(\"2d\");\n",
       "\n",
       "    var backingStore = this.context.backingStorePixelRatio ||\n",
       "\tthis.context.webkitBackingStorePixelRatio ||\n",
       "\tthis.context.mozBackingStorePixelRatio ||\n",
       "\tthis.context.msBackingStorePixelRatio ||\n",
       "\tthis.context.oBackingStorePixelRatio ||\n",
       "\tthis.context.backingStorePixelRatio || 1;\n",
       "\n",
       "    mpl.ratio = (window.devicePixelRatio || 1) / backingStore;\n",
       "\n",
       "    var rubberband = $('<canvas/>');\n",
       "    rubberband.attr('style', \"position: absolute; left: 0; top: 0; z-index: 1;\")\n",
       "\n",
       "    var pass_mouse_events = true;\n",
       "\n",
       "    canvas_div.resizable({\n",
       "        start: function(event, ui) {\n",
       "            pass_mouse_events = false;\n",
       "        },\n",
       "        resize: function(event, ui) {\n",
       "            fig.request_resize(ui.size.width, ui.size.height);\n",
       "        },\n",
       "        stop: function(event, ui) {\n",
       "            pass_mouse_events = true;\n",
       "            fig.request_resize(ui.size.width, ui.size.height);\n",
       "        },\n",
       "    });\n",
       "\n",
       "    function mouse_event_fn(event) {\n",
       "        if (pass_mouse_events)\n",
       "            return fig.mouse_event(event, event['data']);\n",
       "    }\n",
       "\n",
       "    rubberband.mousedown('button_press', mouse_event_fn);\n",
       "    rubberband.mouseup('button_release', mouse_event_fn);\n",
       "    // Throttle sequential mouse events to 1 every 20ms.\n",
       "    rubberband.mousemove('motion_notify', mouse_event_fn);\n",
       "\n",
       "    rubberband.mouseenter('figure_enter', mouse_event_fn);\n",
       "    rubberband.mouseleave('figure_leave', mouse_event_fn);\n",
       "\n",
       "    canvas_div.on(\"wheel\", function (event) {\n",
       "        event = event.originalEvent;\n",
       "        event['data'] = 'scroll'\n",
       "        if (event.deltaY < 0) {\n",
       "            event.step = 1;\n",
       "        } else {\n",
       "            event.step = -1;\n",
       "        }\n",
       "        mouse_event_fn(event);\n",
       "    });\n",
       "\n",
       "    canvas_div.append(canvas);\n",
       "    canvas_div.append(rubberband);\n",
       "\n",
       "    this.rubberband = rubberband;\n",
       "    this.rubberband_canvas = rubberband[0];\n",
       "    this.rubberband_context = rubberband[0].getContext(\"2d\");\n",
       "    this.rubberband_context.strokeStyle = \"#000000\";\n",
       "\n",
       "    this._resize_canvas = function(width, height) {\n",
       "        // Keep the size of the canvas, canvas container, and rubber band\n",
       "        // canvas in synch.\n",
       "        canvas_div.css('width', width)\n",
       "        canvas_div.css('height', height)\n",
       "\n",
       "        canvas.attr('width', width * mpl.ratio);\n",
       "        canvas.attr('height', height * mpl.ratio);\n",
       "        canvas.attr('style', 'width: ' + width + 'px; height: ' + height + 'px;');\n",
       "\n",
       "        rubberband.attr('width', width);\n",
       "        rubberband.attr('height', height);\n",
       "    }\n",
       "\n",
       "    // Set the figure to an initial 600x600px, this will subsequently be updated\n",
       "    // upon first draw.\n",
       "    this._resize_canvas(600, 600);\n",
       "\n",
       "    // Disable right mouse context menu.\n",
       "    $(this.rubberband_canvas).bind(\"contextmenu\",function(e){\n",
       "        return false;\n",
       "    });\n",
       "\n",
       "    function set_focus () {\n",
       "        canvas.focus();\n",
       "        canvas_div.focus();\n",
       "    }\n",
       "\n",
       "    window.setTimeout(set_focus, 100);\n",
       "}\n",
       "\n",
       "mpl.figure.prototype._init_toolbar = function() {\n",
       "    var fig = this;\n",
       "\n",
       "    var nav_element = $('<div/>')\n",
       "    nav_element.attr('style', 'width: 100%');\n",
       "    this.root.append(nav_element);\n",
       "\n",
       "    // Define a callback function for later on.\n",
       "    function toolbar_event(event) {\n",
       "        return fig.toolbar_button_onclick(event['data']);\n",
       "    }\n",
       "    function toolbar_mouse_event(event) {\n",
       "        return fig.toolbar_button_onmouseover(event['data']);\n",
       "    }\n",
       "\n",
       "    for(var toolbar_ind in mpl.toolbar_items) {\n",
       "        var name = mpl.toolbar_items[toolbar_ind][0];\n",
       "        var tooltip = mpl.toolbar_items[toolbar_ind][1];\n",
       "        var image = mpl.toolbar_items[toolbar_ind][2];\n",
       "        var method_name = mpl.toolbar_items[toolbar_ind][3];\n",
       "\n",
       "        if (!name) {\n",
       "            // put a spacer in here.\n",
       "            continue;\n",
       "        }\n",
       "        var button = $('<button/>');\n",
       "        button.addClass('ui-button ui-widget ui-state-default ui-corner-all ' +\n",
       "                        'ui-button-icon-only');\n",
       "        button.attr('role', 'button');\n",
       "        button.attr('aria-disabled', 'false');\n",
       "        button.click(method_name, toolbar_event);\n",
       "        button.mouseover(tooltip, toolbar_mouse_event);\n",
       "\n",
       "        var icon_img = $('<span/>');\n",
       "        icon_img.addClass('ui-button-icon-primary ui-icon');\n",
       "        icon_img.addClass(image);\n",
       "        icon_img.addClass('ui-corner-all');\n",
       "\n",
       "        var tooltip_span = $('<span/>');\n",
       "        tooltip_span.addClass('ui-button-text');\n",
       "        tooltip_span.html(tooltip);\n",
       "\n",
       "        button.append(icon_img);\n",
       "        button.append(tooltip_span);\n",
       "\n",
       "        nav_element.append(button);\n",
       "    }\n",
       "\n",
       "    var fmt_picker_span = $('<span/>');\n",
       "\n",
       "    var fmt_picker = $('<select/>');\n",
       "    fmt_picker.addClass('mpl-toolbar-option ui-widget ui-widget-content');\n",
       "    fmt_picker_span.append(fmt_picker);\n",
       "    nav_element.append(fmt_picker_span);\n",
       "    this.format_dropdown = fmt_picker[0];\n",
       "\n",
       "    for (var ind in mpl.extensions) {\n",
       "        var fmt = mpl.extensions[ind];\n",
       "        var option = $(\n",
       "            '<option/>', {selected: fmt === mpl.default_extension}).html(fmt);\n",
       "        fmt_picker.append(option)\n",
       "    }\n",
       "\n",
       "    // Add hover states to the ui-buttons\n",
       "    $( \".ui-button\" ).hover(\n",
       "        function() { $(this).addClass(\"ui-state-hover\");},\n",
       "        function() { $(this).removeClass(\"ui-state-hover\");}\n",
       "    );\n",
       "\n",
       "    var status_bar = $('<span class=\"mpl-message\"/>');\n",
       "    nav_element.append(status_bar);\n",
       "    this.message = status_bar[0];\n",
       "}\n",
       "\n",
       "mpl.figure.prototype.request_resize = function(x_pixels, y_pixels) {\n",
       "    // Request matplotlib to resize the figure. Matplotlib will then trigger a resize in the client,\n",
       "    // which will in turn request a refresh of the image.\n",
       "    this.send_message('resize', {'width': x_pixels, 'height': y_pixels});\n",
       "}\n",
       "\n",
       "mpl.figure.prototype.send_message = function(type, properties) {\n",
       "    properties['type'] = type;\n",
       "    properties['figure_id'] = this.id;\n",
       "    this.ws.send(JSON.stringify(properties));\n",
       "}\n",
       "\n",
       "mpl.figure.prototype.send_draw_message = function() {\n",
       "    if (!this.waiting) {\n",
       "        this.waiting = true;\n",
       "        this.ws.send(JSON.stringify({type: \"draw\", figure_id: this.id}));\n",
       "    }\n",
       "}\n",
       "\n",
       "\n",
       "mpl.figure.prototype.handle_save = function(fig, msg) {\n",
       "    var format_dropdown = fig.format_dropdown;\n",
       "    var format = format_dropdown.options[format_dropdown.selectedIndex].value;\n",
       "    fig.ondownload(fig, format);\n",
       "}\n",
       "\n",
       "\n",
       "mpl.figure.prototype.handle_resize = function(fig, msg) {\n",
       "    var size = msg['size'];\n",
       "    if (size[0] != fig.canvas.width || size[1] != fig.canvas.height) {\n",
       "        fig._resize_canvas(size[0], size[1]);\n",
       "        fig.send_message(\"refresh\", {});\n",
       "    };\n",
       "}\n",
       "\n",
       "mpl.figure.prototype.handle_rubberband = function(fig, msg) {\n",
       "    var x0 = msg['x0'] / mpl.ratio;\n",
       "    var y0 = (fig.canvas.height - msg['y0']) / mpl.ratio;\n",
       "    var x1 = msg['x1'] / mpl.ratio;\n",
       "    var y1 = (fig.canvas.height - msg['y1']) / mpl.ratio;\n",
       "    x0 = Math.floor(x0) + 0.5;\n",
       "    y0 = Math.floor(y0) + 0.5;\n",
       "    x1 = Math.floor(x1) + 0.5;\n",
       "    y1 = Math.floor(y1) + 0.5;\n",
       "    var min_x = Math.min(x0, x1);\n",
       "    var min_y = Math.min(y0, y1);\n",
       "    var width = Math.abs(x1 - x0);\n",
       "    var height = Math.abs(y1 - y0);\n",
       "\n",
       "    fig.rubberband_context.clearRect(\n",
       "        0, 0, fig.canvas.width, fig.canvas.height);\n",
       "\n",
       "    fig.rubberband_context.strokeRect(min_x, min_y, width, height);\n",
       "}\n",
       "\n",
       "mpl.figure.prototype.handle_figure_label = function(fig, msg) {\n",
       "    // Updates the figure title.\n",
       "    fig.header.textContent = msg['label'];\n",
       "}\n",
       "\n",
       "mpl.figure.prototype.handle_cursor = function(fig, msg) {\n",
       "    var cursor = msg['cursor'];\n",
       "    switch(cursor)\n",
       "    {\n",
       "    case 0:\n",
       "        cursor = 'pointer';\n",
       "        break;\n",
       "    case 1:\n",
       "        cursor = 'default';\n",
       "        break;\n",
       "    case 2:\n",
       "        cursor = 'crosshair';\n",
       "        break;\n",
       "    case 3:\n",
       "        cursor = 'move';\n",
       "        break;\n",
       "    }\n",
       "    fig.rubberband_canvas.style.cursor = cursor;\n",
       "}\n",
       "\n",
       "mpl.figure.prototype.handle_message = function(fig, msg) {\n",
       "    fig.message.textContent = msg['message'];\n",
       "}\n",
       "\n",
       "mpl.figure.prototype.handle_draw = function(fig, msg) {\n",
       "    // Request the server to send over a new figure.\n",
       "    fig.send_draw_message();\n",
       "}\n",
       "\n",
       "mpl.figure.prototype.handle_image_mode = function(fig, msg) {\n",
       "    fig.image_mode = msg['mode'];\n",
       "}\n",
       "\n",
       "mpl.figure.prototype.updated_canvas_event = function() {\n",
       "    // Called whenever the canvas gets updated.\n",
       "    this.send_message(\"ack\", {});\n",
       "}\n",
       "\n",
       "// A function to construct a web socket function for onmessage handling.\n",
       "// Called in the figure constructor.\n",
       "mpl.figure.prototype._make_on_message_function = function(fig) {\n",
       "    return function socket_on_message(evt) {\n",
       "        if (evt.data instanceof Blob) {\n",
       "            /* FIXME: We get \"Resource interpreted as Image but\n",
       "             * transferred with MIME type text/plain:\" errors on\n",
       "             * Chrome.  But how to set the MIME type?  It doesn't seem\n",
       "             * to be part of the websocket stream */\n",
       "            evt.data.type = \"image/png\";\n",
       "\n",
       "            /* Free the memory for the previous frames */\n",
       "            if (fig.imageObj.src) {\n",
       "                (window.URL || window.webkitURL).revokeObjectURL(\n",
       "                    fig.imageObj.src);\n",
       "            }\n",
       "\n",
       "            fig.imageObj.src = (window.URL || window.webkitURL).createObjectURL(\n",
       "                evt.data);\n",
       "            fig.updated_canvas_event();\n",
       "            fig.waiting = false;\n",
       "            return;\n",
       "        }\n",
       "        else if (typeof evt.data === 'string' && evt.data.slice(0, 21) == \"data:image/png;base64\") {\n",
       "            fig.imageObj.src = evt.data;\n",
       "            fig.updated_canvas_event();\n",
       "            fig.waiting = false;\n",
       "            return;\n",
       "        }\n",
       "\n",
       "        var msg = JSON.parse(evt.data);\n",
       "        var msg_type = msg['type'];\n",
       "\n",
       "        // Call the  \"handle_{type}\" callback, which takes\n",
       "        // the figure and JSON message as its only arguments.\n",
       "        try {\n",
       "            var callback = fig[\"handle_\" + msg_type];\n",
       "        } catch (e) {\n",
       "            console.log(\"No handler for the '\" + msg_type + \"' message type: \", msg);\n",
       "            return;\n",
       "        }\n",
       "\n",
       "        if (callback) {\n",
       "            try {\n",
       "                // console.log(\"Handling '\" + msg_type + \"' message: \", msg);\n",
       "                callback(fig, msg);\n",
       "            } catch (e) {\n",
       "                console.log(\"Exception inside the 'handler_\" + msg_type + \"' callback:\", e, e.stack, msg);\n",
       "            }\n",
       "        }\n",
       "    };\n",
       "}\n",
       "\n",
       "// from http://stackoverflow.com/questions/1114465/getting-mouse-location-in-canvas\n",
       "mpl.findpos = function(e) {\n",
       "    //this section is from http://www.quirksmode.org/js/events_properties.html\n",
       "    var targ;\n",
       "    if (!e)\n",
       "        e = window.event;\n",
       "    if (e.target)\n",
       "        targ = e.target;\n",
       "    else if (e.srcElement)\n",
       "        targ = e.srcElement;\n",
       "    if (targ.nodeType == 3) // defeat Safari bug\n",
       "        targ = targ.parentNode;\n",
       "\n",
       "    // jQuery normalizes the pageX and pageY\n",
       "    // pageX,Y are the mouse positions relative to the document\n",
       "    // offset() returns the position of the element relative to the document\n",
       "    var x = e.pageX - $(targ).offset().left;\n",
       "    var y = e.pageY - $(targ).offset().top;\n",
       "\n",
       "    return {\"x\": x, \"y\": y};\n",
       "};\n",
       "\n",
       "/*\n",
       " * return a copy of an object with only non-object keys\n",
       " * we need this to avoid circular references\n",
       " * http://stackoverflow.com/a/24161582/3208463\n",
       " */\n",
       "function simpleKeys (original) {\n",
       "  return Object.keys(original).reduce(function (obj, key) {\n",
       "    if (typeof original[key] !== 'object')\n",
       "        obj[key] = original[key]\n",
       "    return obj;\n",
       "  }, {});\n",
       "}\n",
       "\n",
       "mpl.figure.prototype.mouse_event = function(event, name) {\n",
       "    var canvas_pos = mpl.findpos(event)\n",
       "\n",
       "    if (name === 'button_press')\n",
       "    {\n",
       "        this.canvas.focus();\n",
       "        this.canvas_div.focus();\n",
       "    }\n",
       "\n",
       "    var x = canvas_pos.x * mpl.ratio;\n",
       "    var y = canvas_pos.y * mpl.ratio;\n",
       "\n",
       "    this.send_message(name, {x: x, y: y, button: event.button,\n",
       "                             step: event.step,\n",
       "                             guiEvent: simpleKeys(event)});\n",
       "\n",
       "    /* This prevents the web browser from automatically changing to\n",
       "     * the text insertion cursor when the button is pressed.  We want\n",
       "     * to control all of the cursor setting manually through the\n",
       "     * 'cursor' event from matplotlib */\n",
       "    event.preventDefault();\n",
       "    return false;\n",
       "}\n",
       "\n",
       "mpl.figure.prototype._key_event_extra = function(event, name) {\n",
       "    // Handle any extra behaviour associated with a key event\n",
       "}\n",
       "\n",
       "mpl.figure.prototype.key_event = function(event, name) {\n",
       "\n",
       "    // Prevent repeat events\n",
       "    if (name == 'key_press')\n",
       "    {\n",
       "        if (event.which === this._key)\n",
       "            return;\n",
       "        else\n",
       "            this._key = event.which;\n",
       "    }\n",
       "    if (name == 'key_release')\n",
       "        this._key = null;\n",
       "\n",
       "    var value = '';\n",
       "    if (event.ctrlKey && event.which != 17)\n",
       "        value += \"ctrl+\";\n",
       "    if (event.altKey && event.which != 18)\n",
       "        value += \"alt+\";\n",
       "    if (event.shiftKey && event.which != 16)\n",
       "        value += \"shift+\";\n",
       "\n",
       "    value += 'k';\n",
       "    value += event.which.toString();\n",
       "\n",
       "    this._key_event_extra(event, name);\n",
       "\n",
       "    this.send_message(name, {key: value,\n",
       "                             guiEvent: simpleKeys(event)});\n",
       "    return false;\n",
       "}\n",
       "\n",
       "mpl.figure.prototype.toolbar_button_onclick = function(name) {\n",
       "    if (name == 'download') {\n",
       "        this.handle_save(this, null);\n",
       "    } else {\n",
       "        this.send_message(\"toolbar_button\", {name: name});\n",
       "    }\n",
       "};\n",
       "\n",
       "mpl.figure.prototype.toolbar_button_onmouseover = function(tooltip) {\n",
       "    this.message.textContent = tooltip;\n",
       "};\n",
       "mpl.toolbar_items = [[\"Home\", \"Reset original view\", \"fa fa-home icon-home\", \"home\"], [\"Back\", \"Back to  previous view\", \"fa fa-arrow-left icon-arrow-left\", \"back\"], [\"Forward\", \"Forward to next view\", \"fa fa-arrow-right icon-arrow-right\", \"forward\"], [\"\", \"\", \"\", \"\"], [\"Pan\", \"Pan axes with left mouse, zoom with right\", \"fa fa-arrows icon-move\", \"pan\"], [\"Zoom\", \"Zoom to rectangle\", \"fa fa-square-o icon-check-empty\", \"zoom\"], [\"\", \"\", \"\", \"\"], [\"Download\", \"Download plot\", \"fa fa-floppy-o icon-save\", \"download\"]];\n",
       "\n",
       "mpl.extensions = [\"eps\", \"jpeg\", \"pdf\", \"png\", \"ps\", \"raw\", \"svg\", \"tif\"];\n",
       "\n",
       "mpl.default_extension = \"png\";var comm_websocket_adapter = function(comm) {\n",
       "    // Create a \"websocket\"-like object which calls the given IPython comm\n",
       "    // object with the appropriate methods. Currently this is a non binary\n",
       "    // socket, so there is still some room for performance tuning.\n",
       "    var ws = {};\n",
       "\n",
       "    ws.close = function() {\n",
       "        comm.close()\n",
       "    };\n",
       "    ws.send = function(m) {\n",
       "        //console.log('sending', m);\n",
       "        comm.send(m);\n",
       "    };\n",
       "    // Register the callback with on_msg.\n",
       "    comm.on_msg(function(msg) {\n",
       "        //console.log('receiving', msg['content']['data'], msg);\n",
       "        // Pass the mpl event to the overridden (by mpl) onmessage function.\n",
       "        ws.onmessage(msg['content']['data'])\n",
       "    });\n",
       "    return ws;\n",
       "}\n",
       "\n",
       "mpl.mpl_figure_comm = function(comm, msg) {\n",
       "    // This is the function which gets called when the mpl process\n",
       "    // starts-up an IPython Comm through the \"matplotlib\" channel.\n",
       "\n",
       "    var id = msg.content.data.id;\n",
       "    // Get hold of the div created by the display call when the Comm\n",
       "    // socket was opened in Python.\n",
       "    var element = $(\"#\" + id);\n",
       "    var ws_proxy = comm_websocket_adapter(comm)\n",
       "\n",
       "    function ondownload(figure, format) {\n",
       "        window.open(figure.imageObj.src);\n",
       "    }\n",
       "\n",
       "    var fig = new mpl.figure(id, ws_proxy,\n",
       "                           ondownload,\n",
       "                           element.get(0));\n",
       "\n",
       "    // Call onopen now - mpl needs it, as it is assuming we've passed it a real\n",
       "    // web socket which is closed, not our websocket->open comm proxy.\n",
       "    ws_proxy.onopen();\n",
       "\n",
       "    fig.parent_element = element.get(0);\n",
       "    fig.cell_info = mpl.find_output_cell(\"<div id='\" + id + \"'></div>\");\n",
       "    if (!fig.cell_info) {\n",
       "        console.error(\"Failed to find cell for figure\", id, fig);\n",
       "        return;\n",
       "    }\n",
       "\n",
       "    var output_index = fig.cell_info[2]\n",
       "    var cell = fig.cell_info[0];\n",
       "\n",
       "};\n",
       "\n",
       "mpl.figure.prototype.handle_close = function(fig, msg) {\n",
       "    var width = fig.canvas.width/mpl.ratio\n",
       "    fig.root.unbind('remove')\n",
       "\n",
       "    // Update the output cell to use the data from the current canvas.\n",
       "    fig.push_to_output();\n",
       "    var dataURL = fig.canvas.toDataURL();\n",
       "    // Re-enable the keyboard manager in IPython - without this line, in FF,\n",
       "    // the notebook keyboard shortcuts fail.\n",
       "    IPython.keyboard_manager.enable()\n",
       "    $(fig.parent_element).html('<img src=\"' + dataURL + '\" width=\"' + width + '\">');\n",
       "    fig.close_ws(fig, msg);\n",
       "}\n",
       "\n",
       "mpl.figure.prototype.close_ws = function(fig, msg){\n",
       "    fig.send_message('closing', msg);\n",
       "    // fig.ws.close()\n",
       "}\n",
       "\n",
       "mpl.figure.prototype.push_to_output = function(remove_interactive) {\n",
       "    // Turn the data on the canvas into data in the output cell.\n",
       "    var width = this.canvas.width/mpl.ratio\n",
       "    var dataURL = this.canvas.toDataURL();\n",
       "    this.cell_info[1]['text/html'] = '<img src=\"' + dataURL + '\" width=\"' + width + '\">';\n",
       "}\n",
       "\n",
       "mpl.figure.prototype.updated_canvas_event = function() {\n",
       "    // Tell IPython that the notebook contents must change.\n",
       "    IPython.notebook.set_dirty(true);\n",
       "    this.send_message(\"ack\", {});\n",
       "    var fig = this;\n",
       "    // Wait a second, then push the new image to the DOM so\n",
       "    // that it is saved nicely (might be nice to debounce this).\n",
       "    setTimeout(function () { fig.push_to_output() }, 1000);\n",
       "}\n",
       "\n",
       "mpl.figure.prototype._init_toolbar = function() {\n",
       "    var fig = this;\n",
       "\n",
       "    var nav_element = $('<div/>')\n",
       "    nav_element.attr('style', 'width: 100%');\n",
       "    this.root.append(nav_element);\n",
       "\n",
       "    // Define a callback function for later on.\n",
       "    function toolbar_event(event) {\n",
       "        return fig.toolbar_button_onclick(event['data']);\n",
       "    }\n",
       "    function toolbar_mouse_event(event) {\n",
       "        return fig.toolbar_button_onmouseover(event['data']);\n",
       "    }\n",
       "\n",
       "    for(var toolbar_ind in mpl.toolbar_items){\n",
       "        var name = mpl.toolbar_items[toolbar_ind][0];\n",
       "        var tooltip = mpl.toolbar_items[toolbar_ind][1];\n",
       "        var image = mpl.toolbar_items[toolbar_ind][2];\n",
       "        var method_name = mpl.toolbar_items[toolbar_ind][3];\n",
       "\n",
       "        if (!name) { continue; };\n",
       "\n",
       "        var button = $('<button class=\"btn btn-default\" href=\"#\" title=\"' + name + '\"><i class=\"fa ' + image + ' fa-lg\"></i></button>');\n",
       "        button.click(method_name, toolbar_event);\n",
       "        button.mouseover(tooltip, toolbar_mouse_event);\n",
       "        nav_element.append(button);\n",
       "    }\n",
       "\n",
       "    // Add the status bar.\n",
       "    var status_bar = $('<span class=\"mpl-message\" style=\"text-align:right; float: right;\"/>');\n",
       "    nav_element.append(status_bar);\n",
       "    this.message = status_bar[0];\n",
       "\n",
       "    // Add the close button to the window.\n",
       "    var buttongrp = $('<div class=\"btn-group inline pull-right\"></div>');\n",
       "    var button = $('<button class=\"btn btn-mini btn-primary\" href=\"#\" title=\"Stop Interaction\"><i class=\"fa fa-power-off icon-remove icon-large\"></i></button>');\n",
       "    button.click(function (evt) { fig.handle_close(fig, {}); } );\n",
       "    button.mouseover('Stop Interaction', toolbar_mouse_event);\n",
       "    buttongrp.append(button);\n",
       "    var titlebar = this.root.find($('.ui-dialog-titlebar'));\n",
       "    titlebar.prepend(buttongrp);\n",
       "}\n",
       "\n",
       "mpl.figure.prototype._root_extra_style = function(el){\n",
       "    var fig = this\n",
       "    el.on(\"remove\", function(){\n",
       "\tfig.close_ws(fig, {});\n",
       "    });\n",
       "}\n",
       "\n",
       "mpl.figure.prototype._canvas_extra_style = function(el){\n",
       "    // this is important to make the div 'focusable\n",
       "    el.attr('tabindex', 0)\n",
       "    // reach out to IPython and tell the keyboard manager to turn it's self\n",
       "    // off when our div gets focus\n",
       "\n",
       "    // location in version 3\n",
       "    if (IPython.notebook.keyboard_manager) {\n",
       "        IPython.notebook.keyboard_manager.register_events(el);\n",
       "    }\n",
       "    else {\n",
       "        // location in version 2\n",
       "        IPython.keyboard_manager.register_events(el);\n",
       "    }\n",
       "\n",
       "}\n",
       "\n",
       "mpl.figure.prototype._key_event_extra = function(event, name) {\n",
       "    var manager = IPython.notebook.keyboard_manager;\n",
       "    if (!manager)\n",
       "        manager = IPython.keyboard_manager;\n",
       "\n",
       "    // Check for shift+enter\n",
       "    if (event.shiftKey && event.which == 13) {\n",
       "        this.canvas_div.blur();\n",
       "        event.shiftKey = false;\n",
       "        // Send a \"J\" for go to next cell\n",
       "        event.which = 74;\n",
       "        event.keyCode = 74;\n",
       "        manager.command_mode();\n",
       "        manager.handle_keydown(event);\n",
       "    }\n",
       "}\n",
       "\n",
       "mpl.figure.prototype.handle_save = function(fig, msg) {\n",
       "    fig.ondownload(fig, null);\n",
       "}\n",
       "\n",
       "\n",
       "mpl.find_output_cell = function(html_output) {\n",
       "    // Return the cell and output element which can be found *uniquely* in the notebook.\n",
       "    // Note - this is a bit hacky, but it is done because the \"notebook_saving.Notebook\"\n",
       "    // IPython event is triggered only after the cells have been serialised, which for\n",
       "    // our purposes (turning an active figure into a static one), is too late.\n",
       "    var cells = IPython.notebook.get_cells();\n",
       "    var ncells = cells.length;\n",
       "    for (var i=0; i<ncells; i++) {\n",
       "        var cell = cells[i];\n",
       "        if (cell.cell_type === 'code'){\n",
       "            for (var j=0; j<cell.output_area.outputs.length; j++) {\n",
       "                var data = cell.output_area.outputs[j];\n",
       "                if (data.data) {\n",
       "                    // IPython >= 3 moved mimebundle to data attribute of output\n",
       "                    data = data.data;\n",
       "                }\n",
       "                if (data['text/html'] == html_output) {\n",
       "                    return [cell, data, j];\n",
       "                }\n",
       "            }\n",
       "        }\n",
       "    }\n",
       "}\n",
       "\n",
       "// Register the function which deals with the matplotlib target/channel.\n",
       "// The kernel may be null if the page has been refreshed.\n",
       "if (IPython.notebook.kernel != null) {\n",
       "    IPython.notebook.kernel.comm_manager.register_target('matplotlib', mpl.mpl_figure_comm);\n",
       "}\n"
      ],
      "text/plain": [
       "<IPython.core.display.Javascript object>"
      ]
     },
     "metadata": {},
     "output_type": "display_data"
    },
    {
     "data": {
      "text/html": [
       "<img src=\"data:image/png;base64,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\" width=\"558.8889036943887\">"
      ],
      "text/plain": [
       "<IPython.core.display.HTML object>"
      ]
     },
     "metadata": {},
     "output_type": "display_data"
    }
   ],
   "source": [
    "rotated_img = ndimage.rotate(depth_map, 270)\n",
    "plt.imshow(np.fliplr(rotated_img))\n",
    "plt.show()"
   ]
  },
  {
   "cell_type": "code",
   "execution_count": 126,
   "metadata": {},
   "outputs": [
    {
     "data": {
      "image/png": "[encoded data removed]",
      "text/plain": [
       "<Figure size 432x288 with 1 Axes>"
      ]
     },
     "metadata": {
      "needs_background": "light"
     },
     "output_type": "display_data"
    }
   ],
   "source": [
    "plot_3D_space(ref_vec)"
   ]
  },
  {
   "cell_type": "code",
   "execution_count": 93,
   "metadata": {},
   "outputs": [
    {
     "name": "stderr",
     "output_type": "stream",
     "text": [
      "\n",
      "  0%|          | 0/1 [00:00<?, ?it/s]\u001b[A\n",
      "100%|██████████| 1/1 [00:04<00:00,  4.17s/it]\u001b[A\n",
      "\u001b[A"
     ]
    },
    {
     "name": "stdout",
     "output_type": "stream",
     "text": [
      " "
     ]
    }
   ],
   "source": [
    "%prun main(1)\n"
   ]
  },
  {
   "cell_type": "code",
   "execution_count": 61,
   "metadata": {},
   "outputs": [
    {
     "name": "stdout",
     "output_type": "stream",
     "text": [
      "1 loop, best of 3: 4.75 s per loop\n"
     ]
    }
   ],
   "source": [
    "%timeit main(1)"
   ]
  },
  {
   "cell_type": "markdown",
   "metadata": {},
   "source": [
    "## One of the planes in the voxel_space, the thresholding is global"
   ]
  },
  {
   "cell_type": "code",
   "execution_count": 31,
   "metadata": {},
   "outputs": [
    {
     "data": {
      "application/javascript": [
       "/* Put everything inside the global mpl namespace */\n",
       "window.mpl = {};\n",
       "\n",
       "\n",
       "mpl.get_websocket_type = function() {\n",
       "    if (typeof(WebSocket) !== 'undefined') {\n",
       "        return WebSocket;\n",
       "    } else if (typeof(MozWebSocket) !== 'undefined') {\n",
       "        return MozWebSocket;\n",
       "    } else {\n",
       "        alert('Your browser does not have WebSocket support.' +\n",
       "              'Please try Chrome, Safari or Firefox ≥ 6. ' +\n",
       "              'Firefox 4 and 5 are also supported but you ' +\n",
       "              'have to enable WebSockets in about:config.');\n",
       "    };\n",
       "}\n",
       "\n",
       "mpl.figure = function(figure_id, websocket, ondownload, parent_element) {\n",
       "    this.id = figure_id;\n",
       "\n",
       "    this.ws = websocket;\n",
       "\n",
       "    this.supports_binary = (this.ws.binaryType != undefined);\n",
       "\n",
       "    if (!this.supports_binary) {\n",
       "        var warnings = document.getElementById(\"mpl-warnings\");\n",
       "        if (warnings) {\n",
       "            warnings.style.display = 'block';\n",
       "            warnings.textContent = (\n",
       "                \"This browser does not support binary websocket messages. \" +\n",
       "                    \"Performance may be slow.\");\n",
       "        }\n",
       "    }\n",
       "\n",
       "    this.imageObj = new Image();\n",
       "\n",
       "    this.context = undefined;\n",
       "    this.message = undefined;\n",
       "    this.canvas = undefined;\n",
       "    this.rubberband_canvas = undefined;\n",
       "    this.rubberband_context = undefined;\n",
       "    this.format_dropdown = undefined;\n",
       "\n",
       "    this.image_mode = 'full';\n",
       "\n",
       "    this.root = $('<div/>');\n",
       "    this._root_extra_style(this.root)\n",
       "    this.root.attr('style', 'display: inline-block');\n",
       "\n",
       "    $(parent_element).append(this.root);\n",
       "\n",
       "    this._init_header(this);\n",
       "    this._init_canvas(this);\n",
       "    this._init_toolbar(this);\n",
       "\n",
       "    var fig = this;\n",
       "\n",
       "    this.waiting = false;\n",
       "\n",
       "    this.ws.onopen =  function () {\n",
       "            fig.send_message(\"supports_binary\", {value: fig.supports_binary});\n",
       "            fig.send_message(\"send_image_mode\", {});\n",
       "            if (mpl.ratio != 1) {\n",
       "                fig.send_message(\"set_dpi_ratio\", {'dpi_ratio': mpl.ratio});\n",
       "            }\n",
       "            fig.send_message(\"refresh\", {});\n",
       "        }\n",
       "\n",
       "    this.imageObj.onload = function() {\n",
       "            if (fig.image_mode == 'full') {\n",
       "                // Full images could contain transparency (where diff images\n",
       "                // almost always do), so we need to clear the canvas so that\n",
       "                // there is no ghosting.\n",
       "                fig.context.clearRect(0, 0, fig.canvas.width, fig.canvas.height);\n",
       "            }\n",
       "            fig.context.drawImage(fig.imageObj, 0, 0);\n",
       "        };\n",
       "\n",
       "    this.imageObj.onunload = function() {\n",
       "        fig.ws.close();\n",
       "    }\n",
       "\n",
       "    this.ws.onmessage = this._make_on_message_function(this);\n",
       "\n",
       "    this.ondownload = ondownload;\n",
       "}\n",
       "\n",
       "mpl.figure.prototype._init_header = function() {\n",
       "    var titlebar = $(\n",
       "        '<div class=\"ui-dialog-titlebar ui-widget-header ui-corner-all ' +\n",
       "        'ui-helper-clearfix\"/>');\n",
       "    var titletext = $(\n",
       "        '<div class=\"ui-dialog-title\" style=\"width: 100%; ' +\n",
       "        'text-align: center; padding: 3px;\"/>');\n",
       "    titlebar.append(titletext)\n",
       "    this.root.append(titlebar);\n",
       "    this.header = titletext[0];\n",
       "}\n",
       "\n",
       "\n",
       "\n",
       "mpl.figure.prototype._canvas_extra_style = function(canvas_div) {\n",
       "\n",
       "}\n",
       "\n",
       "\n",
       "mpl.figure.prototype._root_extra_style = function(canvas_div) {\n",
       "\n",
       "}\n",
       "\n",
       "mpl.figure.prototype._init_canvas = function() {\n",
       "    var fig = this;\n",
       "\n",
       "    var canvas_div = $('<div/>');\n",
       "\n",
       "    canvas_div.attr('style', 'position: relative; clear: both; outline: 0');\n",
       "\n",
       "    function canvas_keyboard_event(event) {\n",
       "        return fig.key_event(event, event['data']);\n",
       "    }\n",
       "\n",
       "    canvas_div.keydown('key_press', canvas_keyboard_event);\n",
       "    canvas_div.keyup('key_release', canvas_keyboard_event);\n",
       "    this.canvas_div = canvas_div\n",
       "    this._canvas_extra_style(canvas_div)\n",
       "    this.root.append(canvas_div);\n",
       "\n",
       "    var canvas = $('<canvas/>');\n",
       "    canvas.addClass('mpl-canvas');\n",
       "    canvas.attr('style', \"left: 0; top: 0; z-index: 0; outline: 0\")\n",
       "\n",
       "    this.canvas = canvas[0];\n",
       "    this.context = canvas[0].getContext(\"2d\");\n",
       "\n",
       "    var backingStore = this.context.backingStorePixelRatio ||\n",
       "\tthis.context.webkitBackingStorePixelRatio ||\n",
       "\tthis.context.mozBackingStorePixelRatio ||\n",
       "\tthis.context.msBackingStorePixelRatio ||\n",
       "\tthis.context.oBackingStorePixelRatio ||\n",
       "\tthis.context.backingStorePixelRatio || 1;\n",
       "\n",
       "    mpl.ratio = (window.devicePixelRatio || 1) / backingStore;\n",
       "\n",
       "    var rubberband = $('<canvas/>');\n",
       "    rubberband.attr('style', \"position: absolute; left: 0; top: 0; z-index: 1;\")\n",
       "\n",
       "    var pass_mouse_events = true;\n",
       "\n",
       "    canvas_div.resizable({\n",
       "        start: function(event, ui) {\n",
       "            pass_mouse_events = false;\n",
       "        },\n",
       "        resize: function(event, ui) {\n",
       "            fig.request_resize(ui.size.width, ui.size.height);\n",
       "        },\n",
       "        stop: function(event, ui) {\n",
       "            pass_mouse_events = true;\n",
       "            fig.request_resize(ui.size.width, ui.size.height);\n",
       "        },\n",
       "    });\n",
       "\n",
       "    function mouse_event_fn(event) {\n",
       "        if (pass_mouse_events)\n",
       "            return fig.mouse_event(event, event['data']);\n",
       "    }\n",
       "\n",
       "    rubberband.mousedown('button_press', mouse_event_fn);\n",
       "    rubberband.mouseup('button_release', mouse_event_fn);\n",
       "    // Throttle sequential mouse events to 1 every 20ms.\n",
       "    rubberband.mousemove('motion_notify', mouse_event_fn);\n",
       "\n",
       "    rubberband.mouseenter('figure_enter', mouse_event_fn);\n",
       "    rubberband.mouseleave('figure_leave', mouse_event_fn);\n",
       "\n",
       "    canvas_div.on(\"wheel\", function (event) {\n",
       "        event = event.originalEvent;\n",
       "        event['data'] = 'scroll'\n",
       "        if (event.deltaY < 0) {\n",
       "            event.step = 1;\n",
       "        } else {\n",
       "            event.step = -1;\n",
       "        }\n",
       "        mouse_event_fn(event);\n",
       "    });\n",
       "\n",
       "    canvas_div.append(canvas);\n",
       "    canvas_div.append(rubberband);\n",
       "\n",
       "    this.rubberband = rubberband;\n",
       "    this.rubberband_canvas = rubberband[0];\n",
       "    this.rubberband_context = rubberband[0].getContext(\"2d\");\n",
       "    this.rubberband_context.strokeStyle = \"#000000\";\n",
       "\n",
       "    this._resize_canvas = function(width, height) {\n",
       "        // Keep the size of the canvas, canvas container, and rubber band\n",
       "        // canvas in synch.\n",
       "        canvas_div.css('width', width)\n",
       "        canvas_div.css('height', height)\n",
       "\n",
       "        canvas.attr('width', width * mpl.ratio);\n",
       "        canvas.attr('height', height * mpl.ratio);\n",
       "        canvas.attr('style', 'width: ' + width + 'px; height: ' + height + 'px;');\n",
       "\n",
       "        rubberband.attr('width', width);\n",
       "        rubberband.attr('height', height);\n",
       "    }\n",
       "\n",
       "    // Set the figure to an initial 600x600px, this will subsequently be updated\n",
       "    // upon first draw.\n",
       "    this._resize_canvas(600, 600);\n",
       "\n",
       "    // Disable right mouse context menu.\n",
       "    $(this.rubberband_canvas).bind(\"contextmenu\",function(e){\n",
       "        return false;\n",
       "    });\n",
       "\n",
       "    function set_focus () {\n",
       "        canvas.focus();\n",
       "        canvas_div.focus();\n",
       "    }\n",
       "\n",
       "    window.setTimeout(set_focus, 100);\n",
       "}\n",
       "\n",
       "mpl.figure.prototype._init_toolbar = function() {\n",
       "    var fig = this;\n",
       "\n",
       "    var nav_element = $('<div/>')\n",
       "    nav_element.attr('style', 'width: 100%');\n",
       "    this.root.append(nav_element);\n",
       "\n",
       "    // Define a callback function for later on.\n",
       "    function toolbar_event(event) {\n",
       "        return fig.toolbar_button_onclick(event['data']);\n",
       "    }\n",
       "    function toolbar_mouse_event(event) {\n",
       "        return fig.toolbar_button_onmouseover(event['data']);\n",
       "    }\n",
       "\n",
       "    for(var toolbar_ind in mpl.toolbar_items) {\n",
       "        var name = mpl.toolbar_items[toolbar_ind][0];\n",
       "        var tooltip = mpl.toolbar_items[toolbar_ind][1];\n",
       "        var image = mpl.toolbar_items[toolbar_ind][2];\n",
       "        var method_name = mpl.toolbar_items[toolbar_ind][3];\n",
       "\n",
       "        if (!name) {\n",
       "            // put a spacer in here.\n",
       "            continue;\n",
       "        }\n",
       "        var button = $('<button/>');\n",
       "        button.addClass('ui-button ui-widget ui-state-default ui-corner-all ' +\n",
       "                        'ui-button-icon-only');\n",
       "        button.attr('role', 'button');\n",
       "        button.attr('aria-disabled', 'false');\n",
       "        button.click(method_name, toolbar_event);\n",
       "        button.mouseover(tooltip, toolbar_mouse_event);\n",
       "\n",
       "        var icon_img = $('<span/>');\n",
       "        icon_img.addClass('ui-button-icon-primary ui-icon');\n",
       "        icon_img.addClass(image);\n",
       "        icon_img.addClass('ui-corner-all');\n",
       "\n",
       "        var tooltip_span = $('<span/>');\n",
       "        tooltip_span.addClass('ui-button-text');\n",
       "        tooltip_span.html(tooltip);\n",
       "\n",
       "        button.append(icon_img);\n",
       "        button.append(tooltip_span);\n",
       "\n",
       "        nav_element.append(button);\n",
       "    }\n",
       "\n",
       "    var fmt_picker_span = $('<span/>');\n",
       "\n",
       "    var fmt_picker = $('<select/>');\n",
       "    fmt_picker.addClass('mpl-toolbar-option ui-widget ui-widget-content');\n",
       "    fmt_picker_span.append(fmt_picker);\n",
       "    nav_element.append(fmt_picker_span);\n",
       "    this.format_dropdown = fmt_picker[0];\n",
       "\n",
       "    for (var ind in mpl.extensions) {\n",
       "        var fmt = mpl.extensions[ind];\n",
       "        var option = $(\n",
       "            '<option/>', {selected: fmt === mpl.default_extension}).html(fmt);\n",
       "        fmt_picker.append(option)\n",
       "    }\n",
       "\n",
       "    // Add hover states to the ui-buttons\n",
       "    $( \".ui-button\" ).hover(\n",
       "        function() { $(this).addClass(\"ui-state-hover\");},\n",
       "        function() { $(this).removeClass(\"ui-state-hover\");}\n",
       "    );\n",
       "\n",
       "    var status_bar = $('<span class=\"mpl-message\"/>');\n",
       "    nav_element.append(status_bar);\n",
       "    this.message = status_bar[0];\n",
       "}\n",
       "\n",
       "mpl.figure.prototype.request_resize = function(x_pixels, y_pixels) {\n",
       "    // Request matplotlib to resize the figure. Matplotlib will then trigger a resize in the client,\n",
       "    // which will in turn request a refresh of the image.\n",
       "    this.send_message('resize', {'width': x_pixels, 'height': y_pixels});\n",
       "}\n",
       "\n",
       "mpl.figure.prototype.send_message = function(type, properties) {\n",
       "    properties['type'] = type;\n",
       "    properties['figure_id'] = this.id;\n",
       "    this.ws.send(JSON.stringify(properties));\n",
       "}\n",
       "\n",
       "mpl.figure.prototype.send_draw_message = function() {\n",
       "    if (!this.waiting) {\n",
       "        this.waiting = true;\n",
       "        this.ws.send(JSON.stringify({type: \"draw\", figure_id: this.id}));\n",
       "    }\n",
       "}\n",
       "\n",
       "\n",
       "mpl.figure.prototype.handle_save = function(fig, msg) {\n",
       "    var format_dropdown = fig.format_dropdown;\n",
       "    var format = format_dropdown.options[format_dropdown.selectedIndex].value;\n",
       "    fig.ondownload(fig, format);\n",
       "}\n",
       "\n",
       "\n",
       "mpl.figure.prototype.handle_resize = function(fig, msg) {\n",
       "    var size = msg['size'];\n",
       "    if (size[0] != fig.canvas.width || size[1] != fig.canvas.height) {\n",
       "        fig._resize_canvas(size[0], size[1]);\n",
       "        fig.send_message(\"refresh\", {});\n",
       "    };\n",
       "}\n",
       "\n",
       "mpl.figure.prototype.handle_rubberband = function(fig, msg) {\n",
       "    var x0 = msg['x0'] / mpl.ratio;\n",
       "    var y0 = (fig.canvas.height - msg['y0']) / mpl.ratio;\n",
       "    var x1 = msg['x1'] / mpl.ratio;\n",
       "    var y1 = (fig.canvas.height - msg['y1']) / mpl.ratio;\n",
       "    x0 = Math.floor(x0) + 0.5;\n",
       "    y0 = Math.floor(y0) + 0.5;\n",
       "    x1 = Math.floor(x1) + 0.5;\n",
       "    y1 = Math.floor(y1) + 0.5;\n",
       "    var min_x = Math.min(x0, x1);\n",
       "    var min_y = Math.min(y0, y1);\n",
       "    var width = Math.abs(x1 - x0);\n",
       "    var height = Math.abs(y1 - y0);\n",
       "\n",
       "    fig.rubberband_context.clearRect(\n",
       "        0, 0, fig.canvas.width, fig.canvas.height);\n",
       "\n",
       "    fig.rubberband_context.strokeRect(min_x, min_y, width, height);\n",
       "}\n",
       "\n",
       "mpl.figure.prototype.handle_figure_label = function(fig, msg) {\n",
       "    // Updates the figure title.\n",
       "    fig.header.textContent = msg['label'];\n",
       "}\n",
       "\n",
       "mpl.figure.prototype.handle_cursor = function(fig, msg) {\n",
       "    var cursor = msg['cursor'];\n",
       "    switch(cursor)\n",
       "    {\n",
       "    case 0:\n",
       "        cursor = 'pointer';\n",
       "        break;\n",
       "    case 1:\n",
       "        cursor = 'default';\n",
       "        break;\n",
       "    case 2:\n",
       "        cursor = 'crosshair';\n",
       "        break;\n",
       "    case 3:\n",
       "        cursor = 'move';\n",
       "        break;\n",
       "    }\n",
       "    fig.rubberband_canvas.style.cursor = cursor;\n",
       "}\n",
       "\n",
       "mpl.figure.prototype.handle_message = function(fig, msg) {\n",
       "    fig.message.textContent = msg['message'];\n",
       "}\n",
       "\n",
       "mpl.figure.prototype.handle_draw = function(fig, msg) {\n",
       "    // Request the server to send over a new figure.\n",
       "    fig.send_draw_message();\n",
       "}\n",
       "\n",
       "mpl.figure.prototype.handle_image_mode = function(fig, msg) {\n",
       "    fig.image_mode = msg['mode'];\n",
       "}\n",
       "\n",
       "mpl.figure.prototype.updated_canvas_event = function() {\n",
       "    // Called whenever the canvas gets updated.\n",
       "    this.send_message(\"ack\", {});\n",
       "}\n",
       "\n",
       "// A function to construct a web socket function for onmessage handling.\n",
       "// Called in the figure constructor.\n",
       "mpl.figure.prototype._make_on_message_function = function(fig) {\n",
       "    return function socket_on_message(evt) {\n",
       "        if (evt.data instanceof Blob) {\n",
       "            /* FIXME: We get \"Resource interpreted as Image but\n",
       "             * transferred with MIME type text/plain:\" errors on\n",
       "             * Chrome.  But how to set the MIME type?  It doesn't seem\n",
       "             * to be part of the websocket stream */\n",
       "            evt.data.type = \"image/png\";\n",
       "\n",
       "            /* Free the memory for the previous frames */\n",
       "            if (fig.imageObj.src) {\n",
       "                (window.URL || window.webkitURL).revokeObjectURL(\n",
       "                    fig.imageObj.src);\n",
       "            }\n",
       "\n",
       "            fig.imageObj.src = (window.URL || window.webkitURL).createObjectURL(\n",
       "                evt.data);\n",
       "            fig.updated_canvas_event();\n",
       "            fig.waiting = false;\n",
       "            return;\n",
       "        }\n",
       "        else if (typeof evt.data === 'string' && evt.data.slice(0, 21) == \"data:image/png;base64\") {\n",
       "            fig.imageObj.src = evt.data;\n",
       "            fig.updated_canvas_event();\n",
       "            fig.waiting = false;\n",
       "            return;\n",
       "        }\n",
       "\n",
       "        var msg = JSON.parse(evt.data);\n",
       "        var msg_type = msg['type'];\n",
       "\n",
       "        // Call the  \"handle_{type}\" callback, which takes\n",
       "        // the figure and JSON message as its only arguments.\n",
       "        try {\n",
       "            var callback = fig[\"handle_\" + msg_type];\n",
       "        } catch (e) {\n",
       "            console.log(\"No handler for the '\" + msg_type + \"' message type: \", msg);\n",
       "            return;\n",
       "        }\n",
       "\n",
       "        if (callback) {\n",
       "            try {\n",
       "                // console.log(\"Handling '\" + msg_type + \"' message: \", msg);\n",
       "                callback(fig, msg);\n",
       "            } catch (e) {\n",
       "                console.log(\"Exception inside the 'handler_\" + msg_type + \"' callback:\", e, e.stack, msg);\n",
       "            }\n",
       "        }\n",
       "    };\n",
       "}\n",
       "\n",
       "// from http://stackoverflow.com/questions/1114465/getting-mouse-location-in-canvas\n",
       "mpl.findpos = function(e) {\n",
       "    //this section is from http://www.quirksmode.org/js/events_properties.html\n",
       "    var targ;\n",
       "    if (!e)\n",
       "        e = window.event;\n",
       "    if (e.target)\n",
       "        targ = e.target;\n",
       "    else if (e.srcElement)\n",
       "        targ = e.srcElement;\n",
       "    if (targ.nodeType == 3) // defeat Safari bug\n",
       "        targ = targ.parentNode;\n",
       "\n",
       "    // jQuery normalizes the pageX and pageY\n",
       "    // pageX,Y are the mouse positions relative to the document\n",
       "    // offset() returns the position of the element relative to the document\n",
       "    var x = e.pageX - $(targ).offset().left;\n",
       "    var y = e.pageY - $(targ).offset().top;\n",
       "\n",
       "    return {\"x\": x, \"y\": y};\n",
       "};\n",
       "\n",
       "/*\n",
       " * return a copy of an object with only non-object keys\n",
       " * we need this to avoid circular references\n",
       " * http://stackoverflow.com/a/24161582/3208463\n",
       " */\n",
       "function simpleKeys (original) {\n",
       "  return Object.keys(original).reduce(function (obj, key) {\n",
       "    if (typeof original[key] !== 'object')\n",
       "        obj[key] = original[key]\n",
       "    return obj;\n",
       "  }, {});\n",
       "}\n",
       "\n",
       "mpl.figure.prototype.mouse_event = function(event, name) {\n",
       "    var canvas_pos = mpl.findpos(event)\n",
       "\n",
       "    if (name === 'button_press')\n",
       "    {\n",
       "        this.canvas.focus();\n",
       "        this.canvas_div.focus();\n",
       "    }\n",
       "\n",
       "    var x = canvas_pos.x * mpl.ratio;\n",
       "    var y = canvas_pos.y * mpl.ratio;\n",
       "\n",
       "    this.send_message(name, {x: x, y: y, button: event.button,\n",
       "                             step: event.step,\n",
       "                             guiEvent: simpleKeys(event)});\n",
       "\n",
       "    /* This prevents the web browser from automatically changing to\n",
       "     * the text insertion cursor when the button is pressed.  We want\n",
       "     * to control all of the cursor setting manually through the\n",
       "     * 'cursor' event from matplotlib */\n",
       "    event.preventDefault();\n",
       "    return false;\n",
       "}\n",
       "\n",
       "mpl.figure.prototype._key_event_extra = function(event, name) {\n",
       "    // Handle any extra behaviour associated with a key event\n",
       "}\n",
       "\n",
       "mpl.figure.prototype.key_event = function(event, name) {\n",
       "\n",
       "    // Prevent repeat events\n",
       "    if (name == 'key_press')\n",
       "    {\n",
       "        if (event.which === this._key)\n",
       "            return;\n",
       "        else\n",
       "            this._key = event.which;\n",
       "    }\n",
       "    if (name == 'key_release')\n",
       "        this._key = null;\n",
       "\n",
       "    var value = '';\n",
       "    if (event.ctrlKey && event.which != 17)\n",
       "        value += \"ctrl+\";\n",
       "    if (event.altKey && event.which != 18)\n",
       "        value += \"alt+\";\n",
       "    if (event.shiftKey && event.which != 16)\n",
       "        value += \"shift+\";\n",
       "\n",
       "    value += 'k';\n",
       "    value += event.which.toString();\n",
       "\n",
       "    this._key_event_extra(event, name);\n",
       "\n",
       "    this.send_message(name, {key: value,\n",
       "                             guiEvent: simpleKeys(event)});\n",
       "    return false;\n",
       "}\n",
       "\n",
       "mpl.figure.prototype.toolbar_button_onclick = function(name) {\n",
       "    if (name == 'download') {\n",
       "        this.handle_save(this, null);\n",
       "    } else {\n",
       "        this.send_message(\"toolbar_button\", {name: name});\n",
       "    }\n",
       "};\n",
       "\n",
       "mpl.figure.prototype.toolbar_button_onmouseover = function(tooltip) {\n",
       "    this.message.textContent = tooltip;\n",
       "};\n",
       "mpl.toolbar_items = [[\"Home\", \"Reset original view\", \"fa fa-home icon-home\", \"home\"], [\"Back\", \"Back to  previous view\", \"fa fa-arrow-left icon-arrow-left\", \"back\"], [\"Forward\", \"Forward to next view\", \"fa fa-arrow-right icon-arrow-right\", \"forward\"], [\"\", \"\", \"\", \"\"], [\"Pan\", \"Pan axes with left mouse, zoom with right\", \"fa fa-arrows icon-move\", \"pan\"], [\"Zoom\", \"Zoom to rectangle\", \"fa fa-square-o icon-check-empty\", \"zoom\"], [\"\", \"\", \"\", \"\"], [\"Download\", \"Download plot\", \"fa fa-floppy-o icon-save\", \"download\"]];\n",
       "\n",
       "mpl.extensions = [\"eps\", \"jpeg\", \"pdf\", \"png\", \"ps\", \"raw\", \"svg\", \"tif\"];\n",
       "\n",
       "mpl.default_extension = \"png\";var comm_websocket_adapter = function(comm) {\n",
       "    // Create a \"websocket\"-like object which calls the given IPython comm\n",
       "    // object with the appropriate methods. Currently this is a non binary\n",
       "    // socket, so there is still some room for performance tuning.\n",
       "    var ws = {};\n",
       "\n",
       "    ws.close = function() {\n",
       "        comm.close()\n",
       "    };\n",
       "    ws.send = function(m) {\n",
       "        //console.log('sending', m);\n",
       "        comm.send(m);\n",
       "    };\n",
       "    // Register the callback with on_msg.\n",
       "    comm.on_msg(function(msg) {\n",
       "        //console.log('receiving', msg['content']['data'], msg);\n",
       "        // Pass the mpl event to the overridden (by mpl) onmessage function.\n",
       "        ws.onmessage(msg['content']['data'])\n",
       "    });\n",
       "    return ws;\n",
       "}\n",
       "\n",
       "mpl.mpl_figure_comm = function(comm, msg) {\n",
       "    // This is the function which gets called when the mpl process\n",
       "    // starts-up an IPython Comm through the \"matplotlib\" channel.\n",
       "\n",
       "    var id = msg.content.data.id;\n",
       "    // Get hold of the div created by the display call when the Comm\n",
       "    // socket was opened in Python.\n",
       "    var element = $(\"#\" + id);\n",
       "    var ws_proxy = comm_websocket_adapter(comm)\n",
       "\n",
       "    function ondownload(figure, format) {\n",
       "        window.open(figure.imageObj.src);\n",
       "    }\n",
       "\n",
       "    var fig = new mpl.figure(id, ws_proxy,\n",
       "                           ondownload,\n",
       "                           element.get(0));\n",
       "\n",
       "    // Call onopen now - mpl needs it, as it is assuming we've passed it a real\n",
       "    // web socket which is closed, not our websocket->open comm proxy.\n",
       "    ws_proxy.onopen();\n",
       "\n",
       "    fig.parent_element = element.get(0);\n",
       "    fig.cell_info = mpl.find_output_cell(\"<div id='\" + id + \"'></div>\");\n",
       "    if (!fig.cell_info) {\n",
       "        console.error(\"Failed to find cell for figure\", id, fig);\n",
       "        return;\n",
       "    }\n",
       "\n",
       "    var output_index = fig.cell_info[2]\n",
       "    var cell = fig.cell_info[0];\n",
       "\n",
       "};\n",
       "\n",
       "mpl.figure.prototype.handle_close = function(fig, msg) {\n",
       "    var width = fig.canvas.width/mpl.ratio\n",
       "    fig.root.unbind('remove')\n",
       "\n",
       "    // Update the output cell to use the data from the current canvas.\n",
       "    fig.push_to_output();\n",
       "    var dataURL = fig.canvas.toDataURL();\n",
       "    // Re-enable the keyboard manager in IPython - without this line, in FF,\n",
       "    // the notebook keyboard shortcuts fail.\n",
       "    IPython.keyboard_manager.enable()\n",
       "    $(fig.parent_element).html('<img src=\"' + dataURL + '\" width=\"' + width + '\">');\n",
       "    fig.close_ws(fig, msg);\n",
       "}\n",
       "\n",
       "mpl.figure.prototype.close_ws = function(fig, msg){\n",
       "    fig.send_message('closing', msg);\n",
       "    // fig.ws.close()\n",
       "}\n",
       "\n",
       "mpl.figure.prototype.push_to_output = function(remove_interactive) {\n",
       "    // Turn the data on the canvas into data in the output cell.\n",
       "    var width = this.canvas.width/mpl.ratio\n",
       "    var dataURL = this.canvas.toDataURL();\n",
       "    this.cell_info[1]['text/html'] = '<img src=\"' + dataURL + '\" width=\"' + width + '\">';\n",
       "}\n",
       "\n",
       "mpl.figure.prototype.updated_canvas_event = function() {\n",
       "    // Tell IPython that the notebook contents must change.\n",
       "    IPython.notebook.set_dirty(true);\n",
       "    this.send_message(\"ack\", {});\n",
       "    var fig = this;\n",
       "    // Wait a second, then push the new image to the DOM so\n",
       "    // that it is saved nicely (might be nice to debounce this).\n",
       "    setTimeout(function () { fig.push_to_output() }, 1000);\n",
       "}\n",
       "\n",
       "mpl.figure.prototype._init_toolbar = function() {\n",
       "    var fig = this;\n",
       "\n",
       "    var nav_element = $('<div/>')\n",
       "    nav_element.attr('style', 'width: 100%');\n",
       "    this.root.append(nav_element);\n",
       "\n",
       "    // Define a callback function for later on.\n",
       "    function toolbar_event(event) {\n",
       "        return fig.toolbar_button_onclick(event['data']);\n",
       "    }\n",
       "    function toolbar_mouse_event(event) {\n",
       "        return fig.toolbar_button_onmouseover(event['data']);\n",
       "    }\n",
       "\n",
       "    for(var toolbar_ind in mpl.toolbar_items){\n",
       "        var name = mpl.toolbar_items[toolbar_ind][0];\n",
       "        var tooltip = mpl.toolbar_items[toolbar_ind][1];\n",
       "        var image = mpl.toolbar_items[toolbar_ind][2];\n",
       "        var method_name = mpl.toolbar_items[toolbar_ind][3];\n",
       "\n",
       "        if (!name) { continue; };\n",
       "\n",
       "        var button = $('<button class=\"btn btn-default\" href=\"#\" title=\"' + name + '\"><i class=\"fa ' + image + ' fa-lg\"></i></button>');\n",
       "        button.click(method_name, toolbar_event);\n",
       "        button.mouseover(tooltip, toolbar_mouse_event);\n",
       "        nav_element.append(button);\n",
       "    }\n",
       "\n",
       "    // Add the status bar.\n",
       "    var status_bar = $('<span class=\"mpl-message\" style=\"text-align:right; float: right;\"/>');\n",
       "    nav_element.append(status_bar);\n",
       "    this.message = status_bar[0];\n",
       "\n",
       "    // Add the close button to the window.\n",
       "    var buttongrp = $('<div class=\"btn-group inline pull-right\"></div>');\n",
       "    var button = $('<button class=\"btn btn-mini btn-primary\" href=\"#\" title=\"Stop Interaction\"><i class=\"fa fa-power-off icon-remove icon-large\"></i></button>');\n",
       "    button.click(function (evt) { fig.handle_close(fig, {}); } );\n",
       "    button.mouseover('Stop Interaction', toolbar_mouse_event);\n",
       "    buttongrp.append(button);\n",
       "    var titlebar = this.root.find($('.ui-dialog-titlebar'));\n",
       "    titlebar.prepend(buttongrp);\n",
       "}\n",
       "\n",
       "mpl.figure.prototype._root_extra_style = function(el){\n",
       "    var fig = this\n",
       "    el.on(\"remove\", function(){\n",
       "\tfig.close_ws(fig, {});\n",
       "    });\n",
       "}\n",
       "\n",
       "mpl.figure.prototype._canvas_extra_style = function(el){\n",
       "    // this is important to make the div 'focusable\n",
       "    el.attr('tabindex', 0)\n",
       "    // reach out to IPython and tell the keyboard manager to turn it's self\n",
       "    // off when our div gets focus\n",
       "\n",
       "    // location in version 3\n",
       "    if (IPython.notebook.keyboard_manager) {\n",
       "        IPython.notebook.keyboard_manager.register_events(el);\n",
       "    }\n",
       "    else {\n",
       "        // location in version 2\n",
       "        IPython.keyboard_manager.register_events(el);\n",
       "    }\n",
       "\n",
       "}\n",
       "\n",
       "mpl.figure.prototype._key_event_extra = function(event, name) {\n",
       "    var manager = IPython.notebook.keyboard_manager;\n",
       "    if (!manager)\n",
       "        manager = IPython.keyboard_manager;\n",
       "\n",
       "    // Check for shift+enter\n",
       "    if (event.shiftKey && event.which == 13) {\n",
       "        this.canvas_div.blur();\n",
       "        event.shiftKey = false;\n",
       "        // Send a \"J\" for go to next cell\n",
       "        event.which = 74;\n",
       "        event.keyCode = 74;\n",
       "        manager.command_mode();\n",
       "        manager.handle_keydown(event);\n",
       "    }\n",
       "}\n",
       "\n",
       "mpl.figure.prototype.handle_save = function(fig, msg) {\n",
       "    fig.ondownload(fig, null);\n",
       "}\n",
       "\n",
       "\n",
       "mpl.find_output_cell = function(html_output) {\n",
       "    // Return the cell and output element which can be found *uniquely* in the notebook.\n",
       "    // Note - this is a bit hacky, but it is done because the \"notebook_saving.Notebook\"\n",
       "    // IPython event is triggered only after the cells have been serialised, which for\n",
       "    // our purposes (turning an active figure into a static one), is too late.\n",
       "    var cells = IPython.notebook.get_cells();\n",
       "    var ncells = cells.length;\n",
       "    for (var i=0; i<ncells; i++) {\n",
       "        var cell = cells[i];\n",
       "        if (cell.cell_type === 'code'){\n",
       "            for (var j=0; j<cell.output_area.outputs.length; j++) {\n",
       "                var data = cell.output_area.outputs[j];\n",
       "                if (data.data) {\n",
       "                    // IPython >= 3 moved mimebundle to data attribute of output\n",
       "                    data = data.data;\n",
       "                }\n",
       "                if (data['text/html'] == html_output) {\n",
       "                    return [cell, data, j];\n",
       "                }\n",
       "            }\n",
       "        }\n",
       "    }\n",
       "}\n",
       "\n",
       "// Register the function which deals with the matplotlib target/channel.\n",
       "// The kernel may be null if the page has been refreshed.\n",
       "if (IPython.notebook.kernel != null) {\n",
       "    IPython.notebook.kernel.comm_manager.register_target('matplotlib', mpl.mpl_figure_comm);\n",
       "}\n"
      ],
      "text/plain": [
       "<IPython.core.display.Javascript object>"
      ]
     },
     "metadata": {},
     "output_type": "display_data"
    },
    {
     "data": {
      "text/html": [
       "<img src=\"data:image/png;base64,iVBORw0KGgoAAAANSUhEUgAAAeYAAAE6CAYAAADDb/GbAAAgAElEQVR4Xu2dC8wuR32fH6OCE2EOdxUagxCliECwjNxGxorVRrV8IAlQWmiLYzsGUxNUTKy2IoaKhBYCJlJbrhU3WxQ3XEQKJioCcxMtAoHKxRBxDVSUIlBKMfcEaMDVnLMvZ89+uzszv53dnX3f35GOfHze+c/l+c/OszO773fOwL9MwARMwARMwASqIXBGNT1xR0zABEzABEzABLCYPQlMwARMwARMoCICFnNFyXBXTMAETMAETMBi9hwwARMwARMwgYoIWMwVJcNdMQETMAETMAGL2XPABEzABEzABCoiYDFXlAx3xQRMwARMwAQsZs8BEzABEzABE6iIgMVcUTLcFRMwARMwAROwmD0HTMAETMAETKAiAhZzRclwV0zABEzABEzAYvYcMAETMAETMIGKCFjMFSXDXTEBEzABEzABi9lzwARMwARMwAQqImAxV5QMd8UETMAETMAELGbPARMwARMwAROoiIDFXFEy3BUTMAETMAETsJg9B0zABEzABEygIgIWc0XJcFdMwARMwARMwGL2HDABEzABEzCBighYzBUlw10xARMwARMwAYvZc8AETMAETMAEKiJgMVeUDHfFBEzABEzABCxmzwETMAETMAETqIiAxVxRMtwVEzABEzABE7CYPQdMwARMwARMoCICFnNFyXBXTMAETMAETMBi9hwwARMwARMwgYoIWMwVJcNdMQETMAETMAGL2XPABEzABEzABCoiYDFXlAx3xQRMwARMwAQsZs8BEzABEzABE6iIgMVcUTLcFRMwARMwAROwmMvMgSuAq4DbgKuBj5ep1rWYgAmYgAkcGgGLeXrG7wq8Fzgf+AXgRuBXplfrGkzABEzABA6RgMU8PeuPAB4J/E5T1ceAC4AfTa/aNZiACZiACRwaAYt5esYvAR4IPKepKuyeLwW+3vx/+HP4zR048/iduMv0Fl2DCZiACWyAwF/wff6SH9gzmbkysExgPcXDjjn8via2Y747f/22h51x4fQWXYMJHDiBm792C8f/xrkHTqH+4X/itg/wTf7cnslMlYFlAuspHp4xvxt4OHBv4PVDz5gt5umwXYMJBAIW8zbmgcWs5cli1rh1o54EPLl5Kzs8a/5oX7VbELMXvDITwrXMQyDMz/Bri7vlGq+tuftkMWvXgcWscZOitiBmaWAOMoEFCMwtkbmHsPX+K3wsZoUaWMwaNynKYpawOcgEqjm6jsl17PNY7D4e0VvM2sVrMWvcpCiLWcLmIBOwmDc6ByxmLXEWs8ZNirKYJWwOMoFqxDx3KlJ21Vvqg8WsZcti1rhJURazhM1BJnAwYq4h1bsX7EJfpr5kZzFrGbWYNW5SlMUsYXOQCRQT85bf6u5Og7l21xbz+hecxbxgDizmBWG7qb0iUEpCFnN8WljMcUZzl7CY5ybcqt9iXhC2m9orAhbz0XT2MSnByWJe/9KxmBfMgcW8IGw3tVcESghnr4DMPJhSJwt+xqwlymLWuElRWxFzqYtSguQgE+ghsBUxp/Sz9uvLO+b1L0GLecEcWMwLwnZTe0UgRXg1DDilnxZzDZmquw8W84L52YqYF0TipkwgiUCq8KZ+vSepMyOFUvsZqli7r2NjLXXz4KNsbUZZzBo3KcpilrA5yASSvy7VFUopwYQUpEo3Vbgp9W099RazlkGLWeMmRVnMEjYHmYAsxRJizqmj5PPZrriXEnnJdixm7eK1mDVuUpTFLGFzkAlYzIk79hJTxWIuQXFaHRbzNH5Z0WuLueQFlzVwFzaBiQRic3fqd3p38WO749Sdc6xc7PMdqtiYJyIdDS+18/eOWcuSxaxxk6LWFrPUaQeZQAUEUiWVKj11SCnCmtqHqfHdsfU9d099Dq5y2sVZzBpBi1njJkVZzBI2B5lA0lF2n5BKCyj1BmGplOX0p30qUJrL0HgtZm0mWMwaNynKYpawOcgEJDGPYRsSWundaix13R14jmhjdU/5vBQHi1nLgsWczu1hwMuAnwB/BTwZ+BpwPXBf4CvAlcAPh6q0mNNhu6QJtAmUFpbFPD6/LOZ1rz+LOZ3/vYAfAN8Dfg14AvBB4J7Ac4FnA98AXmExp0N1SRNIIVBKzKWEk9LnucpsaQzeMWuzwGLWuF0E/Cbw88ALgU8A5wDXApdYzBpUR5nAEIFSYl6bcMrLY7E+LiHmEv0M47CYY9ns/9xizud2R+B9wBOBFwFXAV8G7gO8JvykPYs5H6ojTGCMQGkxq/XlxPWVzYlfc0ZYzGvSB4s5j//tgbc2Ar4JeCNwHXAL8FDgWc0Rd7vWS4Hwm7M4dvz8My7Oa9GlTcAEFnv5K4Y6R6wWs3fMsfk09LnFnE7udsAbgHc3Yg6RTwXuCjy/kfKttT1jnrqQpONxSROYj0D7qz6hlaW+7hO7fmKfd4mklB86qk6JnS8DWs0+yta4Wczp3B4HvBb4aBPyp8AzgBuAs4GvNsfbfis7nalLmkASgZiY53jLOvVZ7tRyqfFJoAoXmnozYDFrCbGYNW5SlL8uJWFzkAlEj7JTjo3HJDNVQEMpSqk3V8y55dt96/Yn1r/Y57GpaTHHCPV/bjFr3KQoi1nC5iATsJhbc8Bi3v8LwmJeMMcW84Kw3dReEVB2bmpMAKc8w47t2mOf7xIWE2/3jelY+bGJ0I1VmI3V7x2zdhlazBo3KcpilrA5yASiO+ZaEOUeFc/d79Kize2vxZxL7GR5i1njJkVZzBI2B5nAZDHPJaju7rUvVVN2tGunfmrfLWYtgxazxk2KspglbA4yAYt5pTlgMa8D3mJekLvFvCBsN7VXBHJ3vLnlh3a67WfNqXWqMkupP6VMdyxqf0I9Snvt9r1j1i5Di1njJkXVLuapF6EExUEmkEBgilwSqj9RpMT8j9WR8ww6VtduXKlsUuvrE7vyMlyox2JOnX2nl7OYNW5SVO1ilgblIBNYgIAqlbm7tka/UkVcYuxTx2cxa1mwmDVuUpTFLGFzkAkU2c3OgXGquJQ+WcwKtW3FWMwL5stiXhC2m9orAmsIcCrAXZ+HRLqFMU3to3fM2iyymDVuUlTtYp56EUpQHGQCCQSWmJs5z38Turx4kTkYTa3TYtamgcWscZOiahdzGNTUC1EC4yATiBAYmpdLHuuWTtLUa22pG4kp/bSYtVljMWvcpCiLWcLmIBMYvGG0mM/92eyYItCxKTalXotZu3gtZo2bFLUFMUsDc5AJLESgLeLdn0PT6td52t2eIqC+4ZeubyHER5qZMg6LWcuaxaxxk6JqF/OUC1AC4iATSCTQfZGqG1ajmGNDW+N6S2mz5BG5xRybBf2fW8waNymqdjFLg3KQCSxAIEUo3W60Y5T4qcNao81Yn5U+KTG7fljMsYxYzBqhglEWc0GYruqgCChysJiPTpGpHHMnncWcS+xkee+YNW5SlMUsYXOQCazybYEUiaWUGUvflPgpsUtNKYtZI20xa9ykKItZwuYgE1hEzCV22DmyzCnbngJLv4mu9jP02WLWLl6LOZ/bA4FPA78KfBS4Hrgv8BXgSuCHQ1XWLuYpF2A+RkeYQB6BJebnmPRi7cc+745WfclKFXNu/0J/d23t+p77kp3FnDfHd6Ut5nxuNwL3Bp4D/BJwT+C5wLOBbwCvsJjzoTrCBGIEFLHE6uyTZfi7PgHF2o99bjHnZuNwy1vMebn/ZeDxjYxfAzwNeGE4sQHOAa4FLtmqmPNQuLQJLEdA3SWW6GGs7ZzP1V1yqXHk7nh3u2YlLsR6x6xlzmLO4/YnwBOBfwcEMf8ecBXwZeA+zd8d71R5KRB+cxbHjp9/xsV5Lbq0CZjACQK5O9LYDjUVa+7xdvv4NwitHd/3WVd6MdGn9nusXGobqeWG2rKYtWxZzOncfh04D/i3wGsbCYcd83XALcBDgWcBT/COOR2qS5pAKoGx3eZUae/60JXo2E6xr82hvwv1D9U1JL+U+tVx5whXbcM75tSZfbScxZzO7l8Dfx/4cSPh/w28HfgJ8PxGyrdu+RlzOgqXNIHlCVjMR08NVGlazMvP35wWLeYcWqfK7nbMHwNuAM4Gvtocc/utbI2po0xgkECOSNqVpMblCC61zr5deOx4ue9YW32+mzOdxk4Kcth02/RRdk4WTpW1mDVuUpS/LiVhc5AJnCDQFkSuHNdEmNrXKQKce3ypY7CYy2TCYi7DMakWizkJkwuZQC+BMXHNKbUSz53DgHY73zHJzTmOlGk11L7FnEKvXBmLuRzLaE21izk6ABcwgRUJrCUtVUrdXf4O3a6+tqzbny1xdJ2TxrH+xurxUXaMUP/nFrPGTYqymCVsDjKBEwQs5nUmgsW8PHeLeUHmtYt5rYVvwRS4qQ0TmCIIddh910R3B73m0fQS12ybe98uf4ytd8zazLOYNW5SVO1ilgblIBNYiEBJCaXUlVJmoaFLzZTsv3qcbzFLqfM/+6hh06IsZo2bo0xAFUMquZIS67Y5Z9/n7PduHFNOKizm1Bl4ejnvmDVuUpTFLGFzkAmc9mMt58Axp+As5j+3ZzInrYFlAptS3GKeQs+xh05gTnnWwHboefbab2n7GfPys8NiXpC5xbwgbDe1KIGxl6RCR0rIJSbmqV9DitXfd0QdG9dYnak76Vi52OdTJ4KPsqcSzI+3mPOZyRG1izl3YZJBOHDvCPTJofR8itW3tJhjSUwR5hTpxdqf4/NYDrpt+hmzlgWLWeMmRVnMEjYHbYCAxXw0SRaz/z1m9dK1mFVyQlztYhaG5BATOEFgSMw7PLEj3xSMKbu1IRmmxLb7kFu+r/+xOlLEXbpPKZyHxhL+PjeP3jFrxC1mjZsUZTFL2By0AQK1i1lBGBNrrM6U+FqOsmM3CbHPh1hYzLFZ0v+5xaxxk6IsZgmbgzZAoBYxL4mqLdW+3WSKmGvZEc/FzWLWyFrMGjcpymKWsDloAwQs5qPHvBaznzGrl67FrJIT4ixmAZpDNkHgEMXcl5hcGYc61GPiNSZGbl+9Y9ayZDFr3KQoi1nC5qANELCYN5CkCV1Un4VbzBp0i1njJkVZzBI2B22AwL6IOXdHWHtqlB380ElA+Hu/lb1Mxi3mPM7nAS8Abg/8D+B3gZcA5wLfAS4Hbh2q0mLOg+3S2yFgMdeZK4u5zrzEemUxxwid+vwOwNuBfwh8r/nrRwCPB64ELgMeAlxrMadDdcn9ILB1MafulEuJbq6sd/tXur+59fkoW8u0xZzO7e8C1wB/Dbgj8PvArwMfAd4KHAPeCVxgMadDdcn6COQuvrWMoO85aEy4sa881TK21H6oz4Jj9av1Wswxsv2fW8zp3J4A/EFzbB3E/F7gg8AfAe9vqvkM8OAti3mri3J6Gl1yiMC+SSqMMyZmz4Z5CVjMGl+LOZ3b8ea4+tImJMj4fwJ/AtwE3Al4F/DwTpWh/ImYszh2/PwzLk5vcYWSFvMK0Ctp0mKuJBF71A2LWUumxZzO7S6NeMNR9c81L3/9K+AxwFXAJcA5+/yM2dJOnyxbL9nO9ZZ3neoRbF/+dkzaPA7xmsgZs8WsrQQWcx638ILXU5q3sq8D3ga8tBHyd5u3sr+55aPsdt9zLsA8jC5dOwGL+WiGlroexm6ElupDqflpMWskLWaNmxS1ta9LbXmnJCXIQT8j0D3WDh/kfoe1Bpxz7Jh34+rbQY+NObf82K69BrYpfbCYUygdLWMxa9ykKItZwuagFQhYzPEdc65oc8tbzCtM/EqatJgXTETtYu4ek3nHvODkqKCpoZe/1pwHU9suuWOemqLcl+umjn1qf9vxKkfvmLUsWMwaNymqdjF3B1XTwiABd5BMYI5nzGs8H1WFIoMbCSyxY56jX3PWaTFrdC1mjZsUtQUx9+2at/hsUUqQg35GoCvmsTmQItyYlHLqyElTTWLO6XetZVPy1O67xaxl0mLWuElRFrOEzUErELCYV4C+gSYt5mWSZDEvw/lEK1sQcxuHj7IXnByVNZW7AKtzJTdOLR/w+uRn+UnmHbPG3GLWuElRWxNzGGTuAi2BcVAVBNrS68t7rhR386ekFHP7UNtR9tavp1z+FrN2aVvMGjcpamtizr0IJSgOqoZATMxDHR2STVeKKVLqzrlun9p9SNkB1ybmapItdiQlh+2qLWYNtMWscZOiLGYJm4MWImAxLwR6w81YzMskz2JehvOJVrYm5gXRuKkKCLR3lznHzyVPVmI3B7k74NzyJdJQkkeJ/qxZh3fMGn2LWeMmRW1RzLl3yBIYB1VBQBVz6Hx3nuz+P0dSKXMtp75dv3ZwU46+SyQit48l2qy1DotZy4zFrHGTorYm5pSFUgLhoCoJxHarc3Y6NtcU0a8l5jk5ba1ui1nLmMWscZOiLGYJm4MWImAxLwT6gJqxmLVkW8waNylqi2IOA13qCFCC6qBiBEqKObYDVjo9Vmfqm+FKu445RSA3rxazNnssZo2bFLVFMVvKUqo3GbSmmNWj6hjosZe/ciWzOxqv+ZqIjSn2eYxn7ucWcy6xk+UtZo2bFLU1MUuDdNBmCZQQc2kR7mCqQlnjreyxCaCOY6jO0vXFJm9uexZzjGj/5xazxk2Kql3MuRedBMFBmyAwdS70xedIshuv9ienTSUxar9i8g6fd3fmU9uaGq+cGFjMyqzyjlmjJkZZzCI4hy1OYOoibjHrKWufXLRrmSMnub3M7YPFnEv4ZHnvmDVuUtQWxNx3py4N1kGbJjAm1tg/AbkbeMlnsUOyikGee8cca3/fPs/Ng8WszQCLOY/bS4G/A9wO+A/AG4GXAOcC3wEuB24dqnIpMQ8tRrl3u7kXYR5Kl66NwNRnzCUkONaHvuPtOW4CasvLlvtjMWvZs5jTuf0i8B+BXwXOAm4BngY8HrgSuAx4CHDtmJj/z9fv9LOPS+4oUoehyHmNfqaOZ+5yubzm7s+c9U8RcylOvhmcM8PL120xa8wt5nRudwHeADwauAfwNuB9wEeAtwLHgHcCF1jM6VBrL1lKOLWPM/TPYt5ClrbVR4tZy5fFnM4tsApH2b8O3BH4Z82fXw+8v6nmM8CDO1VeCoTfnMWx4+efcXF6izOUPCTRtPHl7MQOlVGX19InJSncc/I4w+XjKjMJWMyZwJriFnM6t2DUpwKPA+4MfAB4F/DfgJuAcEYd/v/hYzvmh51xYXqLhUu2nwGGqpdeeAsPJ7m6lAU/ubI9LqjumEvJ0nnav8llMWs5tZjTuR0H/gnwJOD2QNgdXwM8BrgKuAQ4J/aMeU0xpw/VJXcEDkkWU8Rc4ju3h8T6UK4wi1nLtMWczi28iX0D8ADgTOBG4GXN8XYQ8nebt7K/WeuOOX2oLmkx35J8ojL01arcExmLef+uO4tZy6nFrHGTopb6upTUOQeZgEhgTKg5x9yl6mkPo8RXuEQsDgMsZm0aWMwaNymqdjF7xyKldW+C1KPsAGBIwLlizBF5H/hue7nt700yKxmIxawlwmLWuElRNYjZ8pVSNygerbb6o5R5Etvxto+2YyLvOwZX+7SjnXu0Xn+W6u+hxazlyGLWuElRFrOErYqgqTu5KgaR0QlVgkPy69ZnMWckY8NFLWYteRazxk2KqkHMUscPLKjv+POQxVzL2NWbBe+Y17uALWaNvcWscZOi2mJWFhmpUQdJBA7xWeXQM+YSYlbn+9RnxCX6Lk0gB50gYDFrE8Fi1rhJUd0ds7pYSY03QWu0OaW/tcQewgI/JuatPp89hLzVco309cNi1rJjMWvcpCiLWcJWRdAhLPAWcxVTba86YTFr6bSYNW5SVPcoO1Sy1Z2IBGADQX0vKR1ijtoctnzKcgg3VDVfVhazlh2LWeMmRU15+Wu3OJZ45naIoklNWB/n9g3UliWVyiCUa8+zXdyW582h5C0nx0uUtZg1yhazxk2KmirmbqO5C2VXOrnx0qA3FtTHaF92jzmp2Jcxe8eck/XyZS1mjanFrHGToixmCduiQRbzSdwW86LTbm8bs5i11FrMGjcpam0xdxdcaRB7HtT3jLl9lH0oDLti7jJoT4Oaj4m9Y173grWYNf4Ws8ZNipoiZqnBTpAXqTjFPskc4gthKTvmLcynLfQxPiu3W8Ji1nJnMWvcpKi1xbzb7bU77+fMp6cyRcI17xClidkTlCLmUm0tUc8h5GwJjrltWMy5xE6Wt5g1blKUxSxhWzTIYj6J22JedNrtbWMWs5Zai1njJkX5e8wSttWDhp47h47t04lD+9h3X8Tso+x1Lx+LWeNvMWvcpKgUMecuJLnl2x338V5aGtvf6d2JeAr3tFbXLbVvYt63m6h1Z0d66xZzOqt2SYtZ4yZF1fIjOXed36fdnpSQhKAhAR+CmNt4apsrKY8cdkfylnLCRJ+piMWsgbWYj3K7GTgPeBHwvOY5/EuAc4HvAJcDtwJ3A14H3Bm4BXg6cNtYGixmbZKuGWUxn6RvMa85C7fbtsWs5c5iPsrtbOAiIPw3iPkRwOOBK4HLgIcA1wLXAZ8GbgSuB94MvDNHzFrKpkX1HctOq3G/omNfl9p9vu8cc46y13oksla7+zXj5x2NxazxtZj7uV3REnMQ8EeAtwLHGvleAHwYeCTwLeDRwPnAs1LFPNdRqBcr7ULYRcWOSLtirm0nOW30p6JTxDw2h0vPw9gNU6lxu56yBCxmjafFHBfzq4DXA+9vin4GeDDweeBBzfH1hcClwFNKijm2uMU+16bEYUfFmB7Sjrk9E8INSFfEuTeXMbZ9M2/oZEKpawsze9/GZTFrs85ijos57JjD7vgm4E7Au4CHN38Xjrm/DTwKCLvoZ/ZUF4QdfnMWx46ff8bFJ4qkLGqxizT2uTYlDjsqxtRiPvW8OWUOt2dTjK3FfPr3x/fhSrSYtSxazHExh+PqxwJXAZcA5zTPmF8IfLLZTYdd9VtynjHnLmrdbiqLnDZFHDX2PHlf85BylD10/F9yxkzdpZfsi+vKJ2Ax5zMLERbzUW6vbna/ZzbiDS9+vbQR8nebt7K/Cdy9eSs7PHf+FHA18NOSR9laSoej9lUipTmN1Rd7Br1kX+ZsK0fMc/aju+Pe/f++PttfiuVS7VjMGmmLWeMmRaX8gBGp4owgyzkDVlM0xiz2eX6L60fUKuZDFPLU07U1Z5PFrNG3mDVuUpTFLGFbPSgm3tjnqw9A6IDFLECbKcRinglsxdVazAsmpyvmvjddl+jOli/0ufkMSfbQnjP3iXlo3kyZTzmxYzmYe17sW/053KeM3TtmjZ7FrHGTomr4yV9Sxx30MwLdt7J3N1f7dsSas2POOTGY+jLXUkJZasrnsFuqTyXbsZg1mhazxk2KquGffZQ6fkBBsV1hQNE96djHxXUuMbenUh+3mHhjn3enart8bExr5HGNNmM5KHm5W8waTYtZ4yZFrS3m3EVNGuTGg2ILZfs4tSvp3f9vHMGJ7sckVmpxz52TueV3/YzltTvmfchh303K0ic7FrM2kyxmjZsUZTFL2BYNii3gFvPRdMSYjSUwV7S55S3mU/Sn5Em9CC1mjZzFrHGTotYWs9TpAwtKWbz6XkJShVEr3r4bkL4d2NRTgtRnzil5KXkDUGtepvRrKkOlbYtZoeYfMKJRE6MsZhHcSFjpxSalvkMQ8+5oty3eJW4+Ym3EPo/JOecod0pbpWZ6ynws1Va7nlJjt5i17HjHrHGTomoQ81oXugRswaCUHWLfseiOZ5+sF+z+Kk2VHHPqvJwijNQ2VoG5p41azFpiLWaNmxRlMUvYFgmymPMxW8z5zA4twmLWMm4xa9ykqBq+x7xvu4bS40nZkfVJvKSkpMlVOKg01273StSfW4fyCCK3jcJp2Hx1FrOWQotZ4yZFrbFjbi8s3WPXnOdtYwPuyixFbhLABYJS+z4k4n1eyIfYTBnzlBsaJTY1v+2ppsQsMFU30YTFrKXJYta4SVF9O+Z2RaVEuauzb8HMObKVBpkZVFsfUyUzxHFfFvFUDpnpPq34WO5TrgVlLu9LfqZwXzLWYtZoW8waNynKYj6KzWKWptLsQRbz7IgPogGLWUuzxaxxk6LWPsoOnVZ2GbHB5u5Cco4glxBE99gyZ7fW/VnZS/c3lhv18+44So9LOXEYmzep/TvERxDqHCgRZzFrFC1mjZsUNUXMqQtPrGPtekrVGWtTEV/7OD78OUWWOf0YKpvKZOxmJOfGo0Sf56hj6jFzSp+UNrrcc28K2/OqPaeG8r729ZLCUSlTimOsbYs5Rqj/c4tZ4yZFxcScKoXUxmP1zb0r6utnrE+lYlIZdcvl9i92FL/UDYU63pwblNKnLbmsS4/R9Z0ioN7gxBhazDFCFrNGqGCUxXz6P46QinbJBTy3LYs5NYtHy+Wy1ltyZIyAxRwjtOzn3jEvyDsm5qW6UvKoNWdxzSnbt5Pd/d2cu9DcPu7Ktxe23DqWynvpdqbOoyWOiXOEcyh5Kz0PxurzjlmjbTH3c7sZOA94EfA84HLgnwM/Ar4G/Fbz5/sBNwBnAm8Hnj+WhqXFHNvNhb7OKbkdi6kLeKinRB0pl0ju4tz3rG4JpiljKV0mR3IpbS+R06E+54zlEG+6UvK3uy7H5rvFnEry9HIWcz+3s4GLgPDfIOb7A/8L+Anwh8DngeuBNwIvBz4AvAd4GvC5oVRMFXOuNIb6kbMopUyrWH0lFuASdZQYy9BOfrc49e2gU9qtoUxqHrd04zE2ptTrKcalhtzV2geLWcuMxTzM7YqWmNulgqj/DPhPjYQf1Hz4dOCHwKss5tMJlJBqiTpSLpHcRXhox5xbT0rf5i4T63Ps87n7p9RvMSvUysVYzBpLizlPzL8I/BFwQSPhLwAPbKq4rBH5CzpVXgqE35zFsePnn3GxlqlCUXMIbqzOUu216wko5tq1pe6iduno9mvOvhWaAoPVqOLNZTb3ONr1586/EiKfMr6aWSrjspgVav73mMeodXfM4Vj7vwCXAF9qAsOx9W7HfPicCmUAABUxSURBVDXwY+CVc+2YtRQfjVIXYKX93IUx1sbcfVcWxrEYpb4Yg7k+b7Pt6/cQe2WMc+ex78ap72ZuqX7MlbPa67WYtQx5x5y2Y75H83LXU4GPt0LeBLwY+FB4Pwm4BvhszWIuLcrYtFMW7bE6515IlfqX2s3HWE/5vDsvcsQ8pd2lYofmoZLvpfq8D+1YzFoWLeZ+bq9ujqvD29afBL4O/APgi03xG5uXv8JLYeElsDsA72heFBvMxNSXv7QUnx5lMY9TVBZqi7nEzJy3Dot5Xr5DtVvMGneLWeMmRdUg5tBxRT7KgOdop/QOvDsupf6U3abCb62YsSPr0Ke5nu+vMd4px/PKXFljjGu2aTFr9C1mjZsU1Rbzmhf1HMLsA6K0E+Oi1CklKzOo1n7lDCM2htjnOW3VVjY27+bo7xptzjGOsTotZo24xaxxk6Jyd8xbv3BLLuRLHcGrzJfqnzTxEoJS+p9SJqGpKovs8p4yZ1PKpAwytc1S7aX0qXQZi1kjajFr3KQoi1nCdiJoKSlYzMNH1UvlQJ8lemSqJNtzceqRfmqbFrOe161GWswLZi5XzHN0rfbFdUiMS/VbXQTb/WvnberiPcccGKpTHfuSfVyyrdhc3FJul+TWbss7Zo28xaxxk6JiYlZ3a1JnKgxKEUNKGWVopcQ/tAuaq9/KWFPEPDYXx4R1SLIqdb0uOTdK9Tl13lnMqaROL2cxa9ykqBQx7yoOC1z3Ilr6opIG2QkaG0N3QUpZoFLKTOn3VMZD452731PGvIvN7WNf/sbEnMs2t/wcDNp96OtPiT7mcp8yzlh/Y5/ntm0x5xI7Wd5i1rhJURbz6f8es8UsTaPZgnIFYTFr/754N4G53KdMgJh4Y5/ntm0x5xKzmDViE6JSvi6lXqQ5F5TaRu7QU8S7K9M+KRhrJ7f8UF1DDHI49tXd7V8os8Xj3TEOOYzanHPiArfc8rnzMzbPtpi3kgxK1GUxaxS9Y9a4SVFzizlFAm1xLLHwdI8C+/o4JNu+2FSB5yaoFJctizkm0aVu6HJzN1f51BuDQ+OSw9tizqF1qqzFrHGTorpiHpNU+9/3TZFR6iIidVwMSj3qzJFiqUVwrh1zd6fXzUuNedqlNyZmcRpsNqwvV92bxd27ICk3xTWAWHr+Wcxa1i1mjZsUZTHf0nusazFL06l4kMV8OlKLefoUs5g1hhazxk2KSjnKblc8dMS725Upd+k5d8w5ZYeApBzt5uyCU8vmlGsf6Zcec/ft+hL1S5MvISjGLPZ5QhObLzIka+Va7INR8/xQkmcxK9T8VrZGTYwqKea2nHfdSXlmnLM7nbpwpEg59yajtBzmOGruMt7KYjv3jnkrHMTLO/tlNYWHEtO92U9ZJ1QG3TiLWSPpHbPGTYqaIuaxf+Q9Vcy7i7q03HJ2y307i5T+TL2hGOtj6R2zetMkTaqCQTEx5+QgdgxcsNtVVTVVnHMMJuX6mqPdUKfFrJG1mDVuUlTse8zdO9v2/w/9wJFUKe/K5SyuO8FMucNuL1RDC0TOwpFTVklSqfr7Tgt2NyWl2lDGlxozdmTbd3OVUu+YtJa+aUzpb4n5n9rOEuXWuGmwmLXMWswaNynKYr7lBLeu6HNElVNWSVKp+i3mo/QtZmVGlouxmMuxnLsmi3luwq36c8S8u1vv7pqHdtVTdrVzIRiTU984Yj/OcYxFqTGUXry2eqSbItEu8xLsSt0YlZgPNfVFHU+JnKhthzjvmDV6FrPGTYqaU8y7Di0h6NQFK7dc3256jsV/rM7UPqdOgKEj2rUXzFj/x46yl5hjsf4t8XnpuZDb51qP93PGYTHn0DpV1mLu53YzcB7wIuB5rSJPAl4J3L75u/sBNwBnAm8Hnj+WhpTvMY/tiLuLZXdHWtuC2bdjjr3EFhvDHItlm2tpYVrMeQvTHPnN68Gp0rWKMZdR+zqMXV8qq6E4i1kjajH3czsbuAgI/92J+eeAPwYeDNy/CXsj8HLgA8B7gKcBnxtKhcXc/3OjcxaO3EUp5bKwmI9SWmvHPEd+U+ZAXxmLWSV3Ks5i1hhazMPcruiI+RnAZ5pd9AOasCDhBzV/fjrwQ+BVc4l5aPFo/71yR5y7GOaUT9k1K/Up4xzjV6q+bhtDYyu9M9cu/+GotcRcehxqfW0pzzU3UvoWmyfdm9o5bzJT+tstYzEr1PwDRsaotcV8V+BG4DeALwI7MX8BeGBTyWWNyF/QqfRSIPzmLI4dP/+Mi098nCKj2FF17POxXYA2XdJ2VrtSKVJOZdGus+RC2fd4oGT9u/G1f/Z59+egl26vVG4PuZ6U63MJPjmnSX03hWvPLYtZmyXeMQ9za4v5D4H/Cvz3jpjbO+argR83z6B7a835ASMp0k0ps/bFGrvjV8QcYkotOEuLWbtMl41aQ0op82RZCttvbY08esdcZt5YzGlivgkIz5jDrwuBtwGXAG8CXgx8KGyCgWuAzw5VaTH3k8lZQHLKplwiFnP/KUjJmx8lDykxLjNOoPS1ovD2jlmh5qPsIWqvBi5o3rb+JPCPWgXbR9nhJbDrgTsA7+i8wX2k7pyXv/qOgbuLpbJj1qaJHtV95tW34Occ16UsNjnP2bxT03O7z5GeF2WyazFrHL1j1rhJUTliDg3EntGWEnOOGHMG3pXo0GKX036NC2aNfcrJU61l1+CaMxdr5bbrV8pN7NxjsJg1whazxk2KyhFzTMp94k557rr0wpNy85DTp9KLTen6pInhoCoIrHEjUMXAZ+yExazBtZg1blKUxVzf95gtZmkq72WQxVw+rRazxtRi1rhJUTli7u6IY/+6VCifsmPudjxnt9oXG2uz9h2zlEgHLUJgytxUOrh0e0oftxZjMWsZs5g1blJUjpjnOspuC3/q92ljO4y+Z8x9NxA5C+JcO9ycPkjJd1A2gdj8yq5wJCDlBrJke4dSl8WsZdpi1rhJUTli7u6YY0JTd8wlRT22G999VuPPyu5jICXYQbMRmFvSc9c/G5jKK7aYtQRZzBo3Kcpiru8Z8y6Rc+3EpYnioCME5hbn3PUfakotZi3zFrPGTYqaIubYTnNsR9rubN+Rbffvhv6/24fYYlbjUfbQkaWPsqUp7SATGCVgMWsTxGLWuElRU8Rc8ih7qd1hrphjL5JNOXK2eKUp6yATmETAYtbwWcwaNylqipj73spui2rKjlkaTEJQ3w3A2C47tgMvJea+m5yE4biICZhAJgGLORNYU9xi1rhJURbzyZ9mNrQztpilaeUgE6iWgMWspcZi1rhJUW0x73Z/Y5LqNhJ7zpxzFFxq1xiTafvzoSP0lKP1Ul9nifVXSqyDTMAEeglYzNrEsJg1blJUjpjbx7a7xvpevmp3ZA0xx0AoIhw6Ah/iEOtD+/OUm4Cc+lzWBExgmIDFrM0Oi1njJkVNEXPKT/5K2QVv/SWoPtHnyN9ilqaug0xAImAxS9iwmDVuUpTFLGE7Lchins7QNZjAUgQsZo20xaxxk6K6L3/tdsFDO93uc9VuOfW5a827xtjuV+17Oy7WhpRcB5mACRwhYDFrk8Ji1rhJUVPeyu6T9xbEvIYEY20O7bpTHgVIiXeQCRwoAYtZS7zFrHGTovp2zGMVxXbMITb3mXFueWmgraCYJKfWXzp+a/0tPX7XZwIlCVjMGk2LWeMmRVnMErZFgyzmRXG7sT0nYDFrCbaYj3K7GTgPeBHwvObjy4HfAm4HvBp4PXA34HXAnYFbgKcDt42lYcpRdspb2Ut9XUp9zqtN0XWiDmGM65B1q4dEwGLWsm0xH+V2NnAREP4bxPwQ4HcbMbfFex3waeBG4HrgzcA7U8W8KzcmgNixs/KMOVZnbBod4o7yEMccmwf+/HAITJn/FrM2Tyzmfm5XtMT8+8C9gAcA3weuBr4KfBh4JPAt4NHA+cCzcsQcm/AxiU4V866vKTttZXrFxqfU6Zg6CPS9/9DtWWxeeX7UkctYL9p5ys2ZxRyj2/+5xRwX8yubY+t/DDyi2Tn/U+DzwIOa4+sLgUuBp1jMpwjkXsTaFHbUGgQs5jWor9Omxbw8d4s5LuYXAF8CXtM8Y/4U8EvNjjmI+tvAo4ALgGf2VBeEHX5zFseOn3/GxSeKpD7DjJWL7aq7/emWtzzzL7pDZTYk49jOOIXwjmlsvqfU5TL1EPCOWcuFxRwX83HgscBvA38b+L3m6PqFwCebF8FeBbwl9xnzGgu8IvISC682PR1VC4E+Ka8xL9riXuP6qSUfW+mHxaxlymI+yi28dR12v2c24n0c8O+Bh8GJH2Eajqs/B9y9eSv7GBB20eHZ809Tj7KV58NjdecsUt6VaBfLoUXNuUM+NJaHOl6LWcu8xaxxk6L6vi61q2jq7sNillLioBECFrOnx1QCFrNG0GLWuElRud9jlhpJCPKOOQHSxCJbZ1z6RGcizsnhW8/HZAArVWAxa+AtZo2bFDWHmL3gSKlYLGhLLzUdwg557HrJOXVabAJtvCGLWUugxaxxk6Jy/3UpqREHVU2g+9WT0NmpjzFKDHjfdsgqk664LWuV5Mk4i1njZzFr3KSoOZ8xSx1ykAk0BCxmbSrUzm3tGwuLWZtXFrPGTYqymCVsDlqAQO2CWQCB1ETt3CxmKa2rB1nMC6agLebQbO53ihfsqps6AAJTnimXXvBj9cU+ryldfu/jVDa8Y9ZmpsWscZOicv/ZR6kRB22OwNBCPvcCP2W3V6so+54RhwlRw3P8zU3MAh22mDWIFrPGTYqa461sqSMOMoHOiY3l5SkxBwGLWaNqMWvcpCiLWcLmoJkITNkxz9QlV7tnBCxmLaEWs8ZNiuo+Yw6VzH1cKXXUQXtPwFLe+xRXMUCLWUuDxaxxk6L6xCxV5KCDI1D6mW6umEu3f3AJPNABW8xa4i1mjZsUZTFL2Bw0A4HcbwRYzDMk4QCqtJi1JFvMGjcpymKWsDloBgIW8wxQXeURAhazNiksZo2bFOWXvyRsDpqBQFfMY6L2bnmGBBxIlRazlmiLWeMmRXnHLGFz0AwE+n64yNB3fUu9oGjBz5DIyqu0mLUEWcwaNynKYpawOWgGAkM/9Ss0FQStSFSJ6Q4t9SagRFszYHWVHQIWszYlLGaNmxRlMUvYHDQDAYt5Bqiu8ggBi1mbFBazxk2KShFz6o5B6oCDTKDnJ351oaT++MqhH3+523UrsFO/xpVaTumDY8oRsJg1lhazxk2K8g8YkbA5aAYCsR1zrMmho+RSN5ZKPWPH2z76jmV0ns8tZo2rxaxxk6JSdsxSxQ4yARMwgQoJWMxaUixmjZsUZTFL2BxkAiawUQIWs5Y4i1njJkVZzBI2B5mACWyUgMWsJc5i1ripUX8G/AXwdbWCPYq7tzmcyKY5nJzU5rCfHP4m8Lf2aN1aZCgW8yKYT2vkncAjlm+2uhbN4WRKzMEc2hen50N1S9XyHbKYl2fuC88LsRfio9edrwtfF8uvxpW2aDEvn5hLgf+8fLPVtWgOJ1NiDubQvjg9H6pbqpbvkMW8PHO3aAImYAImYAKDBCxmTw4TMAETMAETqIiAxbxcMq4ArgJuA64GPr5c01W09JfAR5qe3AjcALwEOBf4DnA5cGsVPS3biZuB84AXAc8DwjXXN+67Aa8D7gzcAjy9mStle7NebV0Ofw94A/D5pkv/EvgYsO8cHga8DPgJ8FfAk4GvAdcD9wW+AlwJ/BC4X3OdnAm8HXj+eulzy0sSsJiXoX1X4L3A+cAvAEFMv7JM09W08kXgAa3ehDfTH98sQpcBDwGuraa35TpyNnAREP4bxDw07uuATzdzIyzSb27e2C7Xk3Vr6nIIYg7PU4OY2r/2ncO9gB8A3wN+DXgC8EHgnsBzgWcD3wBeAbwReDnwAeA9wNOAz62bRre+BAGLeQnKJxfjRwK/0zQXdgYXAD9apvkqWvl+syP6JvAvgN9udtBvBY41EgpM9vFXOC3ZiTmIJ5wcdMf94WaOfAt4dHMT96w9g9HmEMQcblC/3JwQPAMIpyqHwGGX1nDD9pvAzwMvBD4BnNPcoF7SSPhBTeFwghJ20a/asznh4fQQsJiXmRbhInsg8JymubB7DruFQ/pBI/cA/m/4536BsAh/CXg98P6GyWeABy+TjsVbaQspLKx94w5HumERDo86Lmzmx1MW7+m8DbY53An4f41s/qD5b9gxHgKHQPmOwPuAJzaPOcJjrnCTch/gNc118oVm3Qjlw6lSuLl7wbwpcu01ELCYl8lC2DGH39cc8I65TToca/9xszu6CQiL9LuAhy+TjsVb6e6Yw66wO+7wd2GOfBt4VHOi8szFezpvg20O7ZbCDVkQzmOaObHvHG7fnJgEAYd5EI6sw0lKeLfgoUA4KQlH3OHYerdjDu+l/Bh45bwpcu01ELCYl8lCeMb87kY84UcPhh3TIT1jPqs5pgwvvISjurBr/DfAY5sX4sKJwu4Ib5mMLNtKW0jhkUbfuMNR5iebuRH4vGXPnjEH4m0O4SW38NJf+BWenYYXn8JJyr5zuF3z0ltYD4KYw6+nAmGNCC93BSmHlyDDM+Y3AS8GPhT+Ge3mxv6zy05dt7YGAYt5OepPal50CUeV4VnzR5drevWWfrm50/9u05PwvOxPgZc2Qg5/H97KDs+f9+3Xq5vdb3izNog3vPDWN+67N29lh+ftn2re3P/pHsHocgiPc8I1EX52fHjEEf4cTgv2ncPjgNe2rv9wHYQbkvAthXBU/dXmeDs8T75/87b2HYB3NC8P7tGU8FCGCFjMnhsmYAImYAImUBEBi7miZLgrJmACJmACJmAxew6YgAmYgAmYQEUELOaKkuGumIAJmIAJmIDF7DlgAiZgAiZgAhURsJgrSoa7YgImYAImYAIWs+eACZiACZiACVREwGKuKBnuigmYgAmYgAlYzJ4DJmACJmACJlARAYu5omS4KyZgAiZgAiZgMXsOmIAJmIAJmEBFBCzmipLhrpiACZiACZiAxew5YAImYAImYAIVEbCYK0qGu2ICJmACJmACFrPngAmYgAmYgAlURMBirigZ7ooJmIAJmIAJWMyeAyZgAiZgAiZQEQGLuaJkuCsmYAImYAImYDF7DpiACZiACZhARQQs5oqS4a6YgAmYgAmYgMXsOWACJmACJmACFRGwmCtKhrtiAiZgAiZgAhaz54AJmIAJmIAJVETAYq4oGe6KCZiACZiACVjMngMmYAImYAImUBEBi7miZLgrJmACJmACJvD/AXeHFhuiPpUdAAAAAElFTkSuQmCC\" width=\"540.0000143051151\">"
      ],
      "text/plain": [
       "<IPython.core.display.HTML object>"
      ]
     },
     "metadata": {},
     "output_type": "display_data"
    },
    {
     "data": {
      "text/plain": [
       "<matplotlib.image.AxesImage at 0x1c30045b38>"
      ]
     },
     "execution_count": 31,
     "metadata": {},
     "output_type": "execute_result"
    }
   ],
   "source": [
    "from scipy import ndimage\n",
    "rotated_img = ndimage.rotate(voxel_space[100 - (Z_0+1), :, :], 270)\n",
    "plt.imshow(np.fliplr(rotated_img))"
   ]
  },
  {
   "cell_type": "markdown",
   "metadata": {},
   "source": [
    "# Scratchpad"
   ]
  },
  {
   "cell_type": "markdown",
   "metadata": {
    "nbpresent": {
     "id": "5620e8aa-283d-45be-8f39-404e78b1487c"
    },
    "slideshow": {
     "slide_type": "slide"
    }
   },
   "source": [
    "### recheck calculations\n",
    "\n",
    "## To-do:\n",
    "##### 1. How would one use camera matrix in this paper, is it not necessary?\n",
    "        Look up undistorted camera co-ordinates from a dictionary computed beforehand for all u,v pairs and calculate         for this look up value \n",
    "##### 2. Filter implementations to be done \n",
    "#####  3. Adaptive thresholding problems , used Global thresholding for now\n",
    "\n",
    "\n",
    "## Bottlenecks in code\n",
    "    Should SIMD instructions be used for all multiplications?\n",
    "##### Make file opening and closing more efficient\n",
    "##### Make Vote function faster \n",
    "##### Parallelize the code for the depth planes part"
   ]
  },
  {
   "cell_type": "markdown",
   "metadata": {},
   "source": [
    "# Experimental Multiprocessing Code"
   ]
  },
  {
   "cell_type": "markdown",
   "metadata": {},
   "source": [
    "## Below code is under development, not reliable"
   ]
  },
  {
   "cell_type": "code",
   "execution_count": 21,
   "metadata": {},
   "outputs": [],
   "source": [
    "from joblib import Parallel, delayed\n",
    "\n",
    "def parallel_computation(ref_plane_mapped_events, Z_i, t, R, voxel_space):\n",
    "    depth_plane_mapped_events = homography(ref_plane_mapped_events, Z_i, t, R) \n",
    "    voxel_space = vote(voxel_space, Z_i, depth_plane_mapped_events)\n",
    "    voxel_space[Z_i-(Z_0+1), :, :] = adaptive_gaussian_thresholding(voxel_space[Z_i-(Z_0+1), :, :], 5, -10) \n",
    "    return voxel_space[Z_i-(Z_0+1), :, :]"
   ]
  },
  {
   "cell_type": "code",
   "execution_count": 26,
   "metadata": {},
   "outputs": [],
   "source": [
    "from tqdm import tqdm\n",
    "def main(batches):\n",
    "    '''\n",
    "    batches = number of batches of events the function has to run for.\n",
    "    '''\n",
    "    # the resolution of the camera is 240x180\n",
    "    voxel_space = np.zeros((num_of_depth_planes, 240, 180)) \n",
    "    # the reference vol vectors which have to be plotted in 3-D space later\n",
    "    reference_vol_vectors = [] \n",
    "    \n",
    "    t = np.array([0, 0, 0]).reshape((3,1)) # initial values of t and R\n",
    "    R = np.eye(3)\n",
    "    \n",
    "    for batch in tqdm(range(batches)): \n",
    "        events, event_start_time = bundle_events(batch_number=batch)\n",
    "        pose = get_ground_truth_pose(event_start_time)\n",
    "        t_prev, R_prev = t , R\n",
    "        t, R = get_translation_rotation(pose)\n",
    "        \n",
    "        # check if the reference view needs to be changed when the camerea moves\n",
    "        if check_reference_switch(voxel_space, t, t_prev): \n",
    "            #voxel_space = clean(voxel_space)\n",
    "            reference_vol_vectors = get_transformed_vol_from_prev_voxel_space(reference_vol_vectors, voxel_space) \n",
    "            #  Re-initialize voxel space for new reference\n",
    "            voxel_space = np.zeros((num_of_depth_planes, 240, 180)) \n",
    "               \n",
    "        ref_plane_mapped_events = map_to_reference_view(np.array(events), t, R)\n",
    "            \n",
    "        # if Z_0 is 0 then divide by zero errors occur, therefore Z_0+1 used\n",
    "        Z_i_list = list(range(Z_0+1, num_of_depth_planes+Z_0+1))\n",
    "\n",
    "        voxel_space = np.array(Parallel(n_jobs=8, require='sharedmem')(delayed(parallel_computation)(ref_plane_mapped_events, Z_i, t, R, voxel_space) for Z_i in Z_i_list))\n",
    "       \n",
    "        reference_vol_vectors = np.argwhere(voxel_space>0).tolist()\n",
    "   \n",
    "    return voxel_space, reference_vol_vectors"
   ]
  },
  {
   "cell_type": "code",
   "execution_count": 27,
   "metadata": {
    "collapsed": true
   },
   "outputs": [
    {
     "name": "stderr",
     "output_type": "stream",
     "text": [
      " 40%|████      | 4/10 [00:35<00:53,  8.83s/it]"
     ]
    },
    {
     "ename": "KeyboardInterrupt",
     "evalue": "",
     "output_type": "error",
     "traceback": [
      "\u001b[0;31m---------------------------------------------------------------------------\u001b[0m",
      "\u001b[0;31mKeyboardInterrupt\u001b[0m                         Traceback (most recent call last)",
      "\u001b[0;32m<ipython-input-27-0b06a467a333>\u001b[0m in \u001b[0;36m<module>\u001b[0;34m()\u001b[0m\n\u001b[0;32m----> 1\u001b[0;31m \u001b[0mvoxel_space\u001b[0m\u001b[0;34m,\u001b[0m \u001b[0mref_vec\u001b[0m \u001b[0;34m=\u001b[0m \u001b[0mmain\u001b[0m\u001b[0;34m(\u001b[0m\u001b[0;36m10\u001b[0m\u001b[0;34m)\u001b[0m\u001b[0;34m\u001b[0m\u001b[0m\n\u001b[0m",
      "\u001b[0;32m<ipython-input-26-f7c1fce25279>\u001b[0m in \u001b[0;36mmain\u001b[0;34m(batches)\u001b[0m\n\u001b[1;32m     30\u001b[0m         \u001b[0mZ_i_list\u001b[0m \u001b[0;34m=\u001b[0m \u001b[0mlist\u001b[0m\u001b[0;34m(\u001b[0m\u001b[0mrange\u001b[0m\u001b[0;34m(\u001b[0m\u001b[0mZ_0\u001b[0m\u001b[0;34m+\u001b[0m\u001b[0;36m1\u001b[0m\u001b[0;34m,\u001b[0m \u001b[0mnum_of_depth_planes\u001b[0m\u001b[0;34m+\u001b[0m\u001b[0mZ_0\u001b[0m\u001b[0;34m+\u001b[0m\u001b[0;36m1\u001b[0m\u001b[0;34m)\u001b[0m\u001b[0;34m)\u001b[0m\u001b[0;34m\u001b[0m\u001b[0m\n\u001b[1;32m     31\u001b[0m \u001b[0;34m\u001b[0m\u001b[0m\n\u001b[0;32m---> 32\u001b[0;31m         \u001b[0mvoxel_space\u001b[0m \u001b[0;34m=\u001b[0m \u001b[0mnp\u001b[0m\u001b[0;34m.\u001b[0m\u001b[0marray\u001b[0m\u001b[0;34m(\u001b[0m\u001b[0mParallel\u001b[0m\u001b[0;34m(\u001b[0m\u001b[0mn_jobs\u001b[0m\u001b[0;34m=\u001b[0m\u001b[0;36m8\u001b[0m\u001b[0;34m,\u001b[0m \u001b[0mrequire\u001b[0m\u001b[0;34m=\u001b[0m\u001b[0;34m'sharedmem'\u001b[0m\u001b[0;34m)\u001b[0m\u001b[0;34m(\u001b[0m\u001b[0mdelayed\u001b[0m\u001b[0;34m(\u001b[0m\u001b[0mparallel_computation\u001b[0m\u001b[0;34m)\u001b[0m\u001b[0;34m(\u001b[0m\u001b[0mref_plane_mapped_events\u001b[0m\u001b[0;34m,\u001b[0m \u001b[0mZ_i\u001b[0m\u001b[0;34m,\u001b[0m \u001b[0mt\u001b[0m\u001b[0;34m,\u001b[0m \u001b[0mR\u001b[0m\u001b[0;34m,\u001b[0m \u001b[0mvoxel_space\u001b[0m\u001b[0;34m)\u001b[0m \u001b[0;32mfor\u001b[0m \u001b[0mZ_i\u001b[0m \u001b[0;32min\u001b[0m \u001b[0mZ_i_list\u001b[0m\u001b[0;34m)\u001b[0m\u001b[0;34m)\u001b[0m\u001b[0;34m\u001b[0m\u001b[0m\n\u001b[0m\u001b[1;32m     33\u001b[0m \u001b[0;34m\u001b[0m\u001b[0m\n\u001b[1;32m     34\u001b[0m         \u001b[0mreference_vol_vectors\u001b[0m \u001b[0;34m=\u001b[0m \u001b[0mnp\u001b[0m\u001b[0;34m.\u001b[0m\u001b[0margwhere\u001b[0m\u001b[0;34m(\u001b[0m\u001b[0mvoxel_space\u001b[0m\u001b[0;34m>\u001b[0m\u001b[0;36m0\u001b[0m\u001b[0;34m)\u001b[0m\u001b[0;34m.\u001b[0m\u001b[0mtolist\u001b[0m\u001b[0;34m(\u001b[0m\u001b[0;34m)\u001b[0m\u001b[0;34m\u001b[0m\u001b[0m\n",
      "\u001b[0;32m~/anaconda3/envs/CV/lib/python3.6/site-packages/joblib/parallel.py\u001b[0m in \u001b[0;36m__call__\u001b[0;34m(self, iterable)\u001b[0m\n\u001b[1;32m    994\u001b[0m \u001b[0;34m\u001b[0m\u001b[0m\n\u001b[1;32m    995\u001b[0m             \u001b[0;32mwith\u001b[0m \u001b[0mself\u001b[0m\u001b[0;34m.\u001b[0m\u001b[0m_backend\u001b[0m\u001b[0;34m.\u001b[0m\u001b[0mretrieval_context\u001b[0m\u001b[0;34m(\u001b[0m\u001b[0;34m)\u001b[0m\u001b[0;34m:\u001b[0m\u001b[0;34m\u001b[0m\u001b[0m\n\u001b[0;32m--> 996\u001b[0;31m                 \u001b[0mself\u001b[0m\u001b[0;34m.\u001b[0m\u001b[0mretrieve\u001b[0m\u001b[0;34m(\u001b[0m\u001b[0;34m)\u001b[0m\u001b[0;34m\u001b[0m\u001b[0m\n\u001b[0m\u001b[1;32m    997\u001b[0m             \u001b[0;31m# Make sure that we get a last message telling us we are done\u001b[0m\u001b[0;34m\u001b[0m\u001b[0;34m\u001b[0m\u001b[0m\n\u001b[1;32m    998\u001b[0m             \u001b[0melapsed_time\u001b[0m \u001b[0;34m=\u001b[0m \u001b[0mtime\u001b[0m\u001b[0;34m.\u001b[0m\u001b[0mtime\u001b[0m\u001b[0;34m(\u001b[0m\u001b[0;34m)\u001b[0m \u001b[0;34m-\u001b[0m \u001b[0mself\u001b[0m\u001b[0;34m.\u001b[0m\u001b[0m_start_time\u001b[0m\u001b[0;34m\u001b[0m\u001b[0m\n",
      "\u001b[0;32m~/anaconda3/envs/CV/lib/python3.6/site-packages/joblib/parallel.py\u001b[0m in \u001b[0;36mretrieve\u001b[0;34m(self)\u001b[0m\n\u001b[1;32m    897\u001b[0m             \u001b[0;32mtry\u001b[0m\u001b[0;34m:\u001b[0m\u001b[0;34m\u001b[0m\u001b[0m\n\u001b[1;32m    898\u001b[0m                 \u001b[0;32mif\u001b[0m \u001b[0mgetattr\u001b[0m\u001b[0;34m(\u001b[0m\u001b[0mself\u001b[0m\u001b[0;34m.\u001b[0m\u001b[0m_backend\u001b[0m\u001b[0;34m,\u001b[0m \u001b[0;34m'supports_timeout'\u001b[0m\u001b[0;34m,\u001b[0m \u001b[0;32mFalse\u001b[0m\u001b[0;34m)\u001b[0m\u001b[0;34m:\u001b[0m\u001b[0;34m\u001b[0m\u001b[0m\n\u001b[0;32m--> 899\u001b[0;31m                     \u001b[0mself\u001b[0m\u001b[0;34m.\u001b[0m\u001b[0m_output\u001b[0m\u001b[0;34m.\u001b[0m\u001b[0mextend\u001b[0m\u001b[0;34m(\u001b[0m\u001b[0mjob\u001b[0m\u001b[0;34m.\u001b[0m\u001b[0mget\u001b[0m\u001b[0;34m(\u001b[0m\u001b[0mtimeout\u001b[0m\u001b[0;34m=\u001b[0m\u001b[0mself\u001b[0m\u001b[0;34m.\u001b[0m\u001b[0mtimeout\u001b[0m\u001b[0;34m)\u001b[0m\u001b[0;34m)\u001b[0m\u001b[0;34m\u001b[0m\u001b[0m\n\u001b[0m\u001b[1;32m    900\u001b[0m                 \u001b[0;32melse\u001b[0m\u001b[0;34m:\u001b[0m\u001b[0;34m\u001b[0m\u001b[0m\n\u001b[1;32m    901\u001b[0m                     \u001b[0mself\u001b[0m\u001b[0;34m.\u001b[0m\u001b[0m_output\u001b[0m\u001b[0;34m.\u001b[0m\u001b[0mextend\u001b[0m\u001b[0;34m(\u001b[0m\u001b[0mjob\u001b[0m\u001b[0;34m.\u001b[0m\u001b[0mget\u001b[0m\u001b[0;34m(\u001b[0m\u001b[0;34m)\u001b[0m\u001b[0;34m)\u001b[0m\u001b[0;34m\u001b[0m\u001b[0m\n",
      "\u001b[0;32m~/anaconda3/envs/CV/lib/python3.6/multiprocessing/pool.py\u001b[0m in \u001b[0;36mget\u001b[0;34m(self, timeout)\u001b[0m\n\u001b[1;32m    636\u001b[0m \u001b[0;34m\u001b[0m\u001b[0m\n\u001b[1;32m    637\u001b[0m     \u001b[0;32mdef\u001b[0m \u001b[0mget\u001b[0m\u001b[0;34m(\u001b[0m\u001b[0mself\u001b[0m\u001b[0;34m,\u001b[0m \u001b[0mtimeout\u001b[0m\u001b[0;34m=\u001b[0m\u001b[0;32mNone\u001b[0m\u001b[0;34m)\u001b[0m\u001b[0;34m:\u001b[0m\u001b[0;34m\u001b[0m\u001b[0m\n\u001b[0;32m--> 638\u001b[0;31m         \u001b[0mself\u001b[0m\u001b[0;34m.\u001b[0m\u001b[0mwait\u001b[0m\u001b[0;34m(\u001b[0m\u001b[0mtimeout\u001b[0m\u001b[0;34m)\u001b[0m\u001b[0;34m\u001b[0m\u001b[0m\n\u001b[0m\u001b[1;32m    639\u001b[0m         \u001b[0;32mif\u001b[0m \u001b[0;32mnot\u001b[0m \u001b[0mself\u001b[0m\u001b[0;34m.\u001b[0m\u001b[0mready\u001b[0m\u001b[0;34m(\u001b[0m\u001b[0;34m)\u001b[0m\u001b[0;34m:\u001b[0m\u001b[0;34m\u001b[0m\u001b[0m\n\u001b[1;32m    640\u001b[0m             \u001b[0;32mraise\u001b[0m \u001b[0mTimeoutError\u001b[0m\u001b[0;34m\u001b[0m\u001b[0m\n",
      "\u001b[0;32m~/anaconda3/envs/CV/lib/python3.6/multiprocessing/pool.py\u001b[0m in \u001b[0;36mwait\u001b[0;34m(self, timeout)\u001b[0m\n\u001b[1;32m    633\u001b[0m \u001b[0;34m\u001b[0m\u001b[0m\n\u001b[1;32m    634\u001b[0m     \u001b[0;32mdef\u001b[0m \u001b[0mwait\u001b[0m\u001b[0;34m(\u001b[0m\u001b[0mself\u001b[0m\u001b[0;34m,\u001b[0m \u001b[0mtimeout\u001b[0m\u001b[0;34m=\u001b[0m\u001b[0;32mNone\u001b[0m\u001b[0;34m)\u001b[0m\u001b[0;34m:\u001b[0m\u001b[0;34m\u001b[0m\u001b[0m\n\u001b[0;32m--> 635\u001b[0;31m         \u001b[0mself\u001b[0m\u001b[0;34m.\u001b[0m\u001b[0m_event\u001b[0m\u001b[0;34m.\u001b[0m\u001b[0mwait\u001b[0m\u001b[0;34m(\u001b[0m\u001b[0mtimeout\u001b[0m\u001b[0;34m)\u001b[0m\u001b[0;34m\u001b[0m\u001b[0m\n\u001b[0m\u001b[1;32m    636\u001b[0m \u001b[0;34m\u001b[0m\u001b[0m\n\u001b[1;32m    637\u001b[0m     \u001b[0;32mdef\u001b[0m \u001b[0mget\u001b[0m\u001b[0;34m(\u001b[0m\u001b[0mself\u001b[0m\u001b[0;34m,\u001b[0m \u001b[0mtimeout\u001b[0m\u001b[0;34m=\u001b[0m\u001b[0;32mNone\u001b[0m\u001b[0;34m)\u001b[0m\u001b[0;34m:\u001b[0m\u001b[0;34m\u001b[0m\u001b[0m\n",
      "\u001b[0;32m~/anaconda3/envs/CV/lib/python3.6/threading.py\u001b[0m in \u001b[0;36mwait\u001b[0;34m(self, timeout)\u001b[0m\n\u001b[1;32m    549\u001b[0m             \u001b[0msignaled\u001b[0m \u001b[0;34m=\u001b[0m \u001b[0mself\u001b[0m\u001b[0;34m.\u001b[0m\u001b[0m_flag\u001b[0m\u001b[0;34m\u001b[0m\u001b[0m\n\u001b[1;32m    550\u001b[0m             \u001b[0;32mif\u001b[0m \u001b[0;32mnot\u001b[0m \u001b[0msignaled\u001b[0m\u001b[0;34m:\u001b[0m\u001b[0;34m\u001b[0m\u001b[0m\n\u001b[0;32m--> 551\u001b[0;31m                 \u001b[0msignaled\u001b[0m \u001b[0;34m=\u001b[0m \u001b[0mself\u001b[0m\u001b[0;34m.\u001b[0m\u001b[0m_cond\u001b[0m\u001b[0;34m.\u001b[0m\u001b[0mwait\u001b[0m\u001b[0;34m(\u001b[0m\u001b[0mtimeout\u001b[0m\u001b[0;34m)\u001b[0m\u001b[0;34m\u001b[0m\u001b[0m\n\u001b[0m\u001b[1;32m    552\u001b[0m             \u001b[0;32mreturn\u001b[0m \u001b[0msignaled\u001b[0m\u001b[0;34m\u001b[0m\u001b[0m\n\u001b[1;32m    553\u001b[0m \u001b[0;34m\u001b[0m\u001b[0m\n",
      "\u001b[0;32m~/anaconda3/envs/CV/lib/python3.6/threading.py\u001b[0m in \u001b[0;36mwait\u001b[0;34m(self, timeout)\u001b[0m\n\u001b[1;32m    293\u001b[0m         \u001b[0;32mtry\u001b[0m\u001b[0;34m:\u001b[0m    \u001b[0;31m# restore state no matter what (e.g., KeyboardInterrupt)\u001b[0m\u001b[0;34m\u001b[0m\u001b[0m\n\u001b[1;32m    294\u001b[0m             \u001b[0;32mif\u001b[0m \u001b[0mtimeout\u001b[0m \u001b[0;32mis\u001b[0m \u001b[0;32mNone\u001b[0m\u001b[0;34m:\u001b[0m\u001b[0;34m\u001b[0m\u001b[0m\n\u001b[0;32m--> 295\u001b[0;31m                 \u001b[0mwaiter\u001b[0m\u001b[0;34m.\u001b[0m\u001b[0macquire\u001b[0m\u001b[0;34m(\u001b[0m\u001b[0;34m)\u001b[0m\u001b[0;34m\u001b[0m\u001b[0m\n\u001b[0m\u001b[1;32m    296\u001b[0m                 \u001b[0mgotit\u001b[0m \u001b[0;34m=\u001b[0m \u001b[0;32mTrue\u001b[0m\u001b[0;34m\u001b[0m\u001b[0m\n\u001b[1;32m    297\u001b[0m             \u001b[0;32melse\u001b[0m\u001b[0;34m:\u001b[0m\u001b[0;34m\u001b[0m\u001b[0m\n",
      "\u001b[0;31mKeyboardInterrupt\u001b[0m: "
     ]
    }
   ],
   "source": [
    "voxel_space, ref_vec = main(10)"
   ]
  },
  {
   "cell_type": "code",
   "execution_count": 136,
   "metadata": {},
   "outputs": [
    {
     "name": "stdout",
     "output_type": "stream",
     "text": [
      "[]\n",
      " "
     ]
    }
   ],
   "source": [
    "%prun main(1)"
   ]
  }
 ],
 "metadata": {
  "kernelspec": {
   "display_name": "Python [default]",
   "language": "python",
   "name": "python3"
  },
  "language_info": {
   "codemirror_mode": {
    "name": "ipython",
    "version": 3
   },
   "file_extension": ".py",
   "mimetype": "text/x-python",
   "name": "python",
   "nbconvert_exporter": "python",
   "pygments_lexer": "ipython3",
   "version": "3.6.6"
  },
  "nbpresent": {
   "slides": {
    "018adca0-6f5b-44f6-8c5a-a80734a359cb": {
     "id": "018adca0-6f5b-44f6-8c5a-a80734a359cb",
     "prev": "4c64a45a-04f7-492b-bf40-24438e096e4b",
     "regions": {
      "fc9da8e0-b9a0-44d0-b961-70c84d24e943": {
       "attrs": {
        "height": 0.8,
        "width": 0.8,
        "x": 0.1,
        "y": 0.1
       },
       "content": {
        "cell": "415fd80f-197b-41c2-a320-3cb56bf74584",
        "part": "whole"
       },
       "id": "fc9da8e0-b9a0-44d0-b961-70c84d24e943"
      }
     }
    },
    "03188904-a0e4-40de-a7d9-521d086e1a8e": {
     "id": "03188904-a0e4-40de-a7d9-521d086e1a8e",
     "prev": "985fd787-0dda-4f43-a1da-994fdb9fea99",
     "regions": {
      "dcf75e40-7552-40aa-b6cd-042f545cc097": {
       "attrs": {
        "height": 0.8,
        "width": 0.8,
        "x": 0.1,
        "y": 0.1
       },
       "content": {
        "cell": "903569ec-e524-418b-af5e-f402d6b3ef3b",
        "part": "whole"
       },
       "id": "dcf75e40-7552-40aa-b6cd-042f545cc097"
      }
     }
    },
    "0c36a4d3-acdb-46a5-a003-aaecb2b44e65": {
     "id": "0c36a4d3-acdb-46a5-a003-aaecb2b44e65",
     "prev": "e76a651d-4aea-4d2d-acc9-dd8dd24a7487",
     "regions": {
      "7273a23a-e5cd-4082-b3a7-0c7986439000": {
       "attrs": {
        "height": 0.8,
        "width": 0.8,
        "x": 0.1,
        "y": 0.1
       },
       "content": {
        "cell": "80545f0e-3a2b-44c4-ad62-f7f729eb4fc5",
        "part": "whole"
       },
       "id": "7273a23a-e5cd-4082-b3a7-0c7986439000"
      }
     }
    },
    "0fa0b1ec-5881-41c4-9536-d9138b8f6ea4": {
     "id": "0fa0b1ec-5881-41c4-9536-d9138b8f6ea4",
     "prev": "569ad0ec-42f9-4d55-94f1-04bcf7cf4c6c",
     "regions": {
      "2371fbab-4f0a-49cb-8197-c46fb73523d9": {
       "attrs": {
        "height": 0.8,
        "width": 0.8,
        "x": 0.1,
        "y": 0.1
       },
       "content": {
        "cell": "7b098df0-6fd1-4de5-ae84-4351a8b2a3e2",
        "part": "whole"
       },
       "id": "2371fbab-4f0a-49cb-8197-c46fb73523d9"
      }
     }
    },
    "18d96bed-6b87-41f8-b92d-7812f00183fa": {
     "id": "18d96bed-6b87-41f8-b92d-7812f00183fa",
     "prev": "ecec15c6-5363-4c47-8e9c-b209388b3905",
     "regions": {
      "fd82df84-914d-468c-8d05-1f977247c655": {
       "attrs": {
        "height": 0.8,
        "width": 0.8,
        "x": 0.1,
        "y": 0.1
       },
       "content": {
        "cell": "6e02862b-9b24-48ac-8a4b-5e001eb1e101",
        "part": "whole"
       },
       "id": "fd82df84-914d-468c-8d05-1f977247c655"
      }
     }
    },
    "253a28d6-664a-4bf9-a9ff-5b1ef6874e89": {
     "id": "253a28d6-664a-4bf9-a9ff-5b1ef6874e89",
     "prev": "f6f26bf2-4e90-44a4-aa2c-d625ae8afdd0",
     "regions": {
      "4e530940-d349-4079-8070-afa89ae0a040": {
       "attrs": {
        "height": 0.8,
        "width": 0.8,
        "x": 0.1,
        "y": 0.1
       },
       "content": {
        "cell": "c77eb6f1-3564-4898-b8a1-c6620a250033",
        "part": "whole"
       },
       "id": "4e530940-d349-4079-8070-afa89ae0a040"
      }
     }
    },
    "259ceb15-070c-4242-b35b-475aaa8094db": {
     "id": "259ceb15-070c-4242-b35b-475aaa8094db",
     "prev": "5463952c-bb89-4512-baec-526b29dc3184",
     "regions": {
      "49223fe3-8666-4290-ada5-92cb14a97a92": {
       "attrs": {
        "height": 0.8,
        "width": 0.8,
        "x": 0.1,
        "y": 0.1
       },
       "content": {
        "cell": "46485b54-7a29-48ec-b4a6-24396d33c26b",
        "part": "whole"
       },
       "id": "49223fe3-8666-4290-ada5-92cb14a97a92"
      }
     }
    },
    "29efc6fd-0b93-41ef-afed-d4327585e106": {
     "id": "29efc6fd-0b93-41ef-afed-d4327585e106",
     "prev": "b028418b-d3da-4b4a-a698-a70c1f80075d",
     "regions": {
      "98a97f99-9230-4b86-ad3a-13bd68bc93c0": {
       "attrs": {
        "height": 0.8,
        "width": 0.8,
        "x": 0.1,
        "y": 0.1
       },
       "content": {
        "cell": "00010dae-7830-4e2b-8d24-52c1363ea3b7",
        "part": "whole"
       },
       "id": "98a97f99-9230-4b86-ad3a-13bd68bc93c0"
      }
     }
    },
    "35cd0f68-635f-43e1-b4b1-b175beeedfa2": {
     "id": "35cd0f68-635f-43e1-b4b1-b175beeedfa2",
     "prev": "4ac3a638-fa8c-4a54-8b37-cfa170aca016",
     "regions": {
      "402b327e-db85-456f-a1ba-0070c533d3bc": {
       "attrs": {
        "height": 0.8,
        "width": 0.8,
        "x": 0.1,
        "y": 0.1
       },
       "content": {
        "cell": "48cd64ef-830b-4c7c-bdc9-1f56613b9711",
        "part": "whole"
       },
       "id": "402b327e-db85-456f-a1ba-0070c533d3bc"
      }
     }
    },
    "386c548a-74d3-4e09-8448-babe3350f003": {
     "id": "386c548a-74d3-4e09-8448-babe3350f003",
     "prev": "c57934ea-2323-476a-a919-a1fec147aebd",
     "regions": {
      "0cdbc4eb-6cd0-4fad-9b9f-374133f22124": {
       "attrs": {
        "height": 0.8,
        "width": 0.8,
        "x": 0.1,
        "y": 0.1
       },
       "content": {
        "cell": "c9fc3361-c0fc-41ca-84d0-41c31b489819",
        "part": "whole"
       },
       "id": "0cdbc4eb-6cd0-4fad-9b9f-374133f22124"
      }
     }
    },
    "3d66a8da-a16f-43b4-80f1-66d703d1aff9": {
     "id": "3d66a8da-a16f-43b4-80f1-66d703d1aff9",
     "prev": "ec21535d-dbed-43f0-a79a-ddfc90f34c1f",
     "regions": {
      "7341ed2b-a906-45ef-8fd7-fd328991abdc": {
       "attrs": {
        "height": 0.8,
        "width": 0.8,
        "x": 0.1,
        "y": 0.1
       },
       "content": {
        "cell": "0ad92ffc-a682-4e31-9f75-5f84d9fab10c",
        "part": "whole"
       },
       "id": "7341ed2b-a906-45ef-8fd7-fd328991abdc"
      }
     }
    },
    "3d68e02e-76bb-4b1a-8cc6-bde316ec007a": {
     "id": "3d68e02e-76bb-4b1a-8cc6-bde316ec007a",
     "prev": "f03c101f-ddd5-4bc4-b088-66f8e374fa08",
     "regions": {
      "ee61dbdb-1dff-40f5-952b-4579c021cb11": {
       "attrs": {
        "height": 0.8,
        "width": 0.8,
        "x": 0.1,
        "y": 0.1
       },
       "content": {
        "cell": "e24b9c19-ee8a-4881-bdd0-9930eb9f5198",
        "part": "whole"
       },
       "id": "ee61dbdb-1dff-40f5-952b-4579c021cb11"
      }
     }
    },
    "40794cbf-8e50-442b-b59b-5c6a0f617b13": {
     "id": "40794cbf-8e50-442b-b59b-5c6a0f617b13",
     "prev": "68868696-ccd0-44d1-afdd-0afbea77c486",
     "regions": {
      "248b1323-e5df-47ec-9b27-df1226d9d09c": {
       "attrs": {
        "height": 0.8,
        "width": 0.8,
        "x": 0.1,
        "y": 0.1
       },
       "content": {
        "cell": "14e04e99-6b89-49a7-9c15-87f2c41b3635",
        "part": "whole"
       },
       "id": "248b1323-e5df-47ec-9b27-df1226d9d09c"
      }
     }
    },
    "459a7d44-eecd-474b-b493-f780d5c0eb4d": {
     "id": "459a7d44-eecd-474b-b493-f780d5c0eb4d",
     "prev": "0fa0b1ec-5881-41c4-9536-d9138b8f6ea4",
     "regions": {
      "e598a844-a0b6-4fa3-86af-c2f872885b1d": {
       "attrs": {
        "height": 0.8,
        "width": 0.8,
        "x": 0.1,
        "y": 0.1
       },
       "content": {
        "cell": "3b7e6e0a-2698-48f4-b1cf-0da86501ea0e",
        "part": "whole"
       },
       "id": "e598a844-a0b6-4fa3-86af-c2f872885b1d"
      }
     }
    },
    "4ac3a638-fa8c-4a54-8b37-cfa170aca016": {
     "id": "4ac3a638-fa8c-4a54-8b37-cfa170aca016",
     "prev": "d673b5bd-e6e3-4241-8262-9f66a3e1bec7",
     "regions": {
      "aba30419-89d1-47f0-a3b7-ad517e1a69c4": {
       "attrs": {
        "height": 0.8,
        "width": 0.8,
        "x": 0.1,
        "y": 0.1
       },
       "content": {
        "cell": "42683b3e-0bdf-4ae8-8f12-9239966a3a90",
        "part": "whole"
       },
       "id": "aba30419-89d1-47f0-a3b7-ad517e1a69c4"
      }
     }
    },
    "4c64a45a-04f7-492b-bf40-24438e096e4b": {
     "id": "4c64a45a-04f7-492b-bf40-24438e096e4b",
     "prev": "c534d463-125d-404e-8720-7fabfb572c0c",
     "regions": {
      "95da624d-c81a-405d-a179-971e9da39327": {
       "attrs": {
        "height": 0.8,
        "width": 0.8,
        "x": 0.1,
        "y": 0.1
       },
       "content": {
        "cell": "40436ad0-9d01-4e46-94bc-48457274d659",
        "part": "whole"
       },
       "id": "95da624d-c81a-405d-a179-971e9da39327"
      }
     }
    },
    "4ec99677-bc96-428c-8687-871699cac003": {
     "id": "4ec99677-bc96-428c-8687-871699cac003",
     "prev": "29efc6fd-0b93-41ef-afed-d4327585e106",
     "regions": {
      "173717a2-ed1d-4c97-af5a-84a19dd39985": {
       "attrs": {
        "height": 0.8,
        "width": 0.8,
        "x": 0.1,
        "y": 0.1
       },
       "content": {
        "cell": "c94f8e3a-936d-4f2e-ab7a-5ef5b27d8462",
        "part": "whole"
       },
       "id": "173717a2-ed1d-4c97-af5a-84a19dd39985"
      }
     }
    },
    "5463952c-bb89-4512-baec-526b29dc3184": {
     "id": "5463952c-bb89-4512-baec-526b29dc3184",
     "prev": "cd34d442-d377-428a-9ecc-06c71749cd3c",
     "regions": {
      "c5ebcc19-ca42-4eed-9388-0b540164cb5a": {
       "attrs": {
        "height": 0.8,
        "width": 0.8,
        "x": 0.1,
        "y": 0.1
       },
       "content": {
        "cell": "1502a5a3-4567-48c8-a515-6892d330fcb8",
        "part": "whole"
       },
       "id": "c5ebcc19-ca42-4eed-9388-0b540164cb5a"
      }
     }
    },
    "569ad0ec-42f9-4d55-94f1-04bcf7cf4c6c": {
     "id": "569ad0ec-42f9-4d55-94f1-04bcf7cf4c6c",
     "prev": "61bb6d5f-03d2-40e2-bca1-8c26ca73a44a",
     "regions": {
      "d76e8f54-a30d-4ab3-a416-2f0eabb02cca": {
       "attrs": {
        "height": 0.8,
        "width": 0.8,
        "x": 0.1,
        "y": 0.1
       },
       "content": {
        "cell": "77d1eb0e-41c4-4247-859b-acab4d426bd3",
        "part": "whole"
       },
       "id": "d76e8f54-a30d-4ab3-a416-2f0eabb02cca"
      }
     }
    },
    "5c8051c2-6f2c-4b3f-924c-088d26d4fdde": {
     "id": "5c8051c2-6f2c-4b3f-924c-088d26d4fdde",
     "prev": "ddec3be1-1ee5-4e59-8f16-94db794bbf32",
     "regions": {
      "a491c270-41a2-4c7d-9b85-60a873cc7e4f": {
       "attrs": {
        "height": 0.8,
        "width": 0.8,
        "x": 0.1,
        "y": 0.1
       },
       "content": {
        "cell": "9622a578-6b23-4746-a3a5-18b015c3f922",
        "part": "whole"
       },
       "id": "a491c270-41a2-4c7d-9b85-60a873cc7e4f"
      }
     }
    },
    "61bb6d5f-03d2-40e2-bca1-8c26ca73a44a": {
     "id": "61bb6d5f-03d2-40e2-bca1-8c26ca73a44a",
     "prev": "e2b34a97-ecf2-452f-8b3c-8f0a632d3679",
     "regions": {
      "0affdb85-c3a0-4874-9339-426f21fa9294": {
       "attrs": {
        "height": 0.8,
        "width": 0.8,
        "x": 0.1,
        "y": 0.1
       },
       "content": {
        "cell": "ced8ae4b-41bb-45e1-b6f8-8544490a39c2",
        "part": "whole"
       },
       "id": "0affdb85-c3a0-4874-9339-426f21fa9294"
      }
     }
    },
    "68868696-ccd0-44d1-afdd-0afbea77c486": {
     "id": "68868696-ccd0-44d1-afdd-0afbea77c486",
     "prev": "a8dab855-a264-402f-a182-6f06b7b366e1",
     "regions": {
      "32b86ffc-338c-49a4-8f79-a14f8cf4eba2": {
       "attrs": {
        "height": 0.8,
        "width": 0.8,
        "x": 0.1,
        "y": 0.1
       },
       "content": {
        "cell": "e243fce1-06d6-4298-902f-3315b664079d",
        "part": "whole"
       },
       "id": "32b86ffc-338c-49a4-8f79-a14f8cf4eba2"
      }
     }
    },
    "6d947ae7-7a14-4ac2-8d14-f0298cf344e6": {
     "id": "6d947ae7-7a14-4ac2-8d14-f0298cf344e6",
     "prev": "03188904-a0e4-40de-a7d9-521d086e1a8e",
     "regions": {
      "a8294ce5-5cde-47ad-b05a-7ec4e1994154": {
       "attrs": {
        "height": 0.8,
        "width": 0.8,
        "x": 0.1,
        "y": 0.1
       },
       "content": {
        "cell": "799fc47c-8ba4-4b01-bf27-97b1e9d8a4a9",
        "part": "whole"
       },
       "id": "a8294ce5-5cde-47ad-b05a-7ec4e1994154"
      }
     }
    },
    "73e43839-aab8-43bf-8188-6028e976db51": {
     "id": "73e43839-aab8-43bf-8188-6028e976db51",
     "prev": "40794cbf-8e50-442b-b59b-5c6a0f617b13",
     "regions": {
      "c117c56f-93b2-41bf-98db-52750929aee5": {
       "attrs": {
        "height": 0.8,
        "width": 0.8,
        "x": 0.1,
        "y": 0.1
       },
       "content": {
        "cell": "4f3fdcef-0cff-4292-b98b-16a2b8e2f3d8",
        "part": "whole"
       },
       "id": "c117c56f-93b2-41bf-98db-52750929aee5"
      }
     }
    },
    "766e389c-b13a-4086-98f7-18401758c539": {
     "id": "766e389c-b13a-4086-98f7-18401758c539",
     "prev": "5c8051c2-6f2c-4b3f-924c-088d26d4fdde",
     "regions": {
      "2eca83b9-e009-465e-8dd6-e05f4c695ff3": {
       "attrs": {
        "height": 0.8,
        "width": 0.8,
        "x": 0.1,
        "y": 0.1
       },
       "content": {
        "cell": "a391a6b6-c3f2-4ba3-9d2c-72c62cfe90e0",
        "part": "whole"
       },
       "id": "2eca83b9-e009-465e-8dd6-e05f4c695ff3"
      }
     }
    },
    "8a122701-523f-4edd-b9ec-90c37cab3c9c": {
     "id": "8a122701-523f-4edd-b9ec-90c37cab3c9c",
     "prev": "a6948fde-1cbc-4df3-a202-4ead35e7704a",
     "regions": {
      "805c8306-13b4-4d3b-9a30-62ed63d48c2b": {
       "attrs": {
        "height": 0.8,
        "width": 0.8,
        "x": 0.1,
        "y": 0.1
       },
       "content": {
        "cell": "3a969ca7-8b2c-48cf-8410-4e5eaedde960",
        "part": "whole"
       },
       "id": "805c8306-13b4-4d3b-9a30-62ed63d48c2b"
      }
     }
    },
    "8bd73937-bdef-4af2-a9a1-cdf0479441a3": {
     "id": "8bd73937-bdef-4af2-a9a1-cdf0479441a3",
     "prev": "a38f0c8d-cb69-4172-867f-26a924ee1211",
     "regions": {
      "2dacd8b2-e11b-4c3c-81c6-8c09ffd8a7e6": {
       "attrs": {
        "height": 0.8,
        "width": 0.8,
        "x": 0.1,
        "y": 0.1
       },
       "content": {
        "cell": "7148f3f0-560d-40f3-af48-b5264a1d6ac8",
        "part": "whole"
       },
       "id": "2dacd8b2-e11b-4c3c-81c6-8c09ffd8a7e6"
      }
     }
    },
    "9384fc19-ae9e-4015-819c-8f7c0754a472": {
     "id": "9384fc19-ae9e-4015-819c-8f7c0754a472",
     "prev": "ada4e885-d38b-430b-89c2-85f353a40915",
     "regions": {
      "85efcfed-9a12-4b0c-99b5-1cd2a71e6e1f": {
       "attrs": {
        "height": 0.8,
        "width": 0.8,
        "x": 0.1,
        "y": 0.1
       },
       "content": {
        "cell": "5620e8aa-283d-45be-8f39-404e78b1487c",
        "part": "whole"
       },
       "id": "85efcfed-9a12-4b0c-99b5-1cd2a71e6e1f"
      }
     }
    },
    "985fd787-0dda-4f43-a1da-994fdb9fea99": {
     "id": "985fd787-0dda-4f43-a1da-994fdb9fea99",
     "prev": "35cd0f68-635f-43e1-b4b1-b175beeedfa2",
     "regions": {
      "963db8db-a5e1-4b0c-9ab0-2e161c55e3c5": {
       "attrs": {
        "height": 0.8,
        "width": 0.8,
        "x": 0.1,
        "y": 0.1
       },
       "content": {
        "cell": "adc9de1d-ac88-4b52-9aaf-002b48eb41ee",
        "part": "whole"
       },
       "id": "963db8db-a5e1-4b0c-9ab0-2e161c55e3c5"
      }
     }
    },
    "9ccbf50f-4ee4-4b62-8d2c-5af86209627c": {
     "id": "9ccbf50f-4ee4-4b62-8d2c-5af86209627c",
     "prev": "766e389c-b13a-4086-98f7-18401758c539",
     "regions": {
      "47e83157-a6f1-429b-9e54-b1e4f503ed4a": {
       "attrs": {
        "height": 0.8,
        "width": 0.8,
        "x": 0.1,
        "y": 0.1
       },
       "content": {
        "cell": "40bb9fdf-6fb7-4ab0-9e61-9b252f10b615",
        "part": "whole"
       },
       "id": "47e83157-a6f1-429b-9e54-b1e4f503ed4a"
      }
     }
    },
    "a38f0c8d-cb69-4172-867f-26a924ee1211": {
     "id": "a38f0c8d-cb69-4172-867f-26a924ee1211",
     "prev": "c1efc2b1-8198-4055-a914-3327df56da4f",
     "regions": {
      "ddb5e1cb-d78c-49ca-907a-116e7729deff": {
       "attrs": {
        "height": 0.8,
        "width": 0.8,
        "x": 0.1,
        "y": 0.1
       },
       "content": {
        "cell": "75da4052-b210-4281-bc04-782941fa0268",
        "part": "whole"
       },
       "id": "ddb5e1cb-d78c-49ca-907a-116e7729deff"
      }
     }
    },
    "a6948fde-1cbc-4df3-a202-4ead35e7704a": {
     "id": "a6948fde-1cbc-4df3-a202-4ead35e7704a",
     "prev": "6d947ae7-7a14-4ac2-8d14-f0298cf344e6",
     "regions": {
      "19b06cdc-d4ee-4bed-aaec-cbdb48100553": {
       "attrs": {
        "height": 0.8,
        "width": 0.8,
        "x": 0.1,
        "y": 0.1
       },
       "content": {
        "cell": "08d4f60b-466c-45ad-b7ad-e2c6ab14d170",
        "part": "whole"
       },
       "id": "19b06cdc-d4ee-4bed-aaec-cbdb48100553"
      }
     }
    },
    "a8dab855-a264-402f-a182-6f06b7b366e1": {
     "id": "a8dab855-a264-402f-a182-6f06b7b366e1",
     "prev": "c5ad98bb-a7e1-4655-ab35-3c07f95cba2d",
     "regions": {
      "45ba6f63-99e7-4777-b527-971c1aecf7f5": {
       "attrs": {
        "height": 0.8,
        "width": 0.8,
        "x": 0.1,
        "y": 0.1
       },
       "content": {
        "cell": "f1b17e78-61b1-4b4d-a967-1854d7ca9d89",
        "part": "whole"
       },
       "id": "45ba6f63-99e7-4777-b527-971c1aecf7f5"
      }
     }
    },
    "ada4e885-d38b-430b-89c2-85f353a40915": {
     "id": "ada4e885-d38b-430b-89c2-85f353a40915",
     "prev": "253a28d6-664a-4bf9-a9ff-5b1ef6874e89",
     "regions": {
      "41849261-b477-4c88-8aeb-a46f61b99109": {
       "attrs": {
        "height": 0.8,
        "width": 0.8,
        "x": 0.1,
        "y": 0.1
       },
       "content": {
        "cell": "e1655d99-a2e0-4c42-8d87-86764fff146c",
        "part": "whole"
       },
       "id": "41849261-b477-4c88-8aeb-a46f61b99109"
      }
     }
    },
    "b028418b-d3da-4b4a-a698-a70c1f80075d": {
     "id": "b028418b-d3da-4b4a-a698-a70c1f80075d",
     "prev": "18d96bed-6b87-41f8-b92d-7812f00183fa",
     "regions": {
      "4bf62201-9c20-4dcd-b25e-d2261a24bed3": {
       "attrs": {
        "height": 0.8,
        "width": 0.8,
        "x": 0.1,
        "y": 0.1
       },
       "content": {
        "cell": "deb3631d-a1a5-4ec2-90e1-dae819fe2df8",
        "part": "whole"
       },
       "id": "4bf62201-9c20-4dcd-b25e-d2261a24bed3"
      }
     }
    },
    "bbd76a64-daa4-4c27-a374-776da5c48419": {
     "id": "bbd76a64-daa4-4c27-a374-776da5c48419",
     "prev": "ef780983-ee1c-4356-b5df-80e0ea3a7432",
     "regions": {
      "703aa0a4-98c5-44bb-a4f3-eb0d55b9a11f": {
       "attrs": {
        "height": 0.8,
        "width": 0.8,
        "x": 0.1,
        "y": 0.1
       },
       "content": {
        "cell": "1e648d98-2cb8-4938-827e-1da24c84e581",
        "part": "whole"
       },
       "id": "703aa0a4-98c5-44bb-a4f3-eb0d55b9a11f"
      }
     }
    },
    "bdeccfac-de62-4085-8191-d726eb8ef6b5": {
     "id": "bdeccfac-de62-4085-8191-d726eb8ef6b5",
     "prev": "386c548a-74d3-4e09-8448-babe3350f003",
     "regions": {
      "ff0699f0-6940-488b-a10c-e78d6e290d7b": {
       "attrs": {
        "height": 0.8,
        "width": 0.8,
        "x": 0.1,
        "y": 0.1
       },
       "content": {
        "cell": "091fc50b-a223-42a8-9848-5a171171f188",
        "part": "whole"
       },
       "id": "ff0699f0-6940-488b-a10c-e78d6e290d7b"
      }
     }
    },
    "c1efc2b1-8198-4055-a914-3327df56da4f": {
     "id": "c1efc2b1-8198-4055-a914-3327df56da4f",
     "prev": "cc5477d1-296a-4eb6-aad6-9cc9fdc18dc1",
     "regions": {
      "fe5d9301-ebdf-412a-a1b4-dbab7d4681cd": {
       "attrs": {
        "height": 0.8,
        "width": 0.8,
        "x": 0.1,
        "y": 0.1
       },
       "content": {
        "cell": "ee941717-2077-4031-9437-9172d08f33fa",
        "part": "whole"
       },
       "id": "fe5d9301-ebdf-412a-a1b4-dbab7d4681cd"
      }
     }
    },
    "c39b53bf-b70b-459a-af86-025fef103138": {
     "id": "c39b53bf-b70b-459a-af86-025fef103138",
     "prev": "0c36a4d3-acdb-46a5-a003-aaecb2b44e65",
     "regions": {
      "7b60964b-fd45-4fde-8221-7d026fa723a0": {
       "attrs": {
        "height": 0.8,
        "width": 0.8,
        "x": 0.1,
        "y": 0.1
       },
       "content": {
        "cell": "0f1ca28d-743a-496a-ab40-f89f123a332e",
        "part": "whole"
       },
       "id": "7b60964b-fd45-4fde-8221-7d026fa723a0"
      }
     }
    },
    "c534d463-125d-404e-8720-7fabfb572c0c": {
     "id": "c534d463-125d-404e-8720-7fabfb572c0c",
     "prev": "f885fd26-3d13-4b9c-a7a8-82709d63828c",
     "regions": {
      "af8a7249-21d6-4cfe-9787-204cbbac5e88": {
       "attrs": {
        "height": 0.8,
        "width": 0.8,
        "x": 0.1,
        "y": 0.1
       },
       "content": {
        "cell": "21234893-451b-4860-9f40-fe4c752a0fc3",
        "part": "whole"
       },
       "id": "af8a7249-21d6-4cfe-9787-204cbbac5e88"
      }
     }
    },
    "c57934ea-2323-476a-a919-a1fec147aebd": {
     "id": "c57934ea-2323-476a-a919-a1fec147aebd",
     "prev": "3d68e02e-76bb-4b1a-8cc6-bde316ec007a",
     "regions": {
      "cb18f006-cdaf-456b-bc7f-60c01719dbde": {
       "attrs": {
        "height": 0.8,
        "width": 0.8,
        "x": 0.1,
        "y": 0.1
       },
       "content": {
        "cell": "b5eb85aa-7c31-4042-ac2a-fecd401560d9",
        "part": "whole"
       },
       "id": "cb18f006-cdaf-456b-bc7f-60c01719dbde"
      }
     }
    },
    "c5ad98bb-a7e1-4655-ab35-3c07f95cba2d": {
     "id": "c5ad98bb-a7e1-4655-ab35-3c07f95cba2d",
     "prev": "018adca0-6f5b-44f6-8c5a-a80734a359cb",
     "regions": {
      "99b1f899-476e-40c2-ab17-c7d1aab1ee70": {
       "attrs": {
        "height": 0.8,
        "width": 0.8,
        "x": 0.1,
        "y": 0.1
       },
       "content": {
        "cell": "16d1fb2d-cdf8-4be7-8ece-37998f641c97",
        "part": "whole"
       },
       "id": "99b1f899-476e-40c2-ab17-c7d1aab1ee70"
      }
     }
    },
    "c864542a-3660-4df8-a67d-1edf4e539d54": {
     "id": "c864542a-3660-4df8-a67d-1edf4e539d54",
     "prev": "73e43839-aab8-43bf-8188-6028e976db51",
     "regions": {
      "4298dd6e-4b13-4229-bd6b-5dae3e91b8dc": {
       "attrs": {
        "height": 0.8,
        "width": 0.8,
        "x": 0.1,
        "y": 0.1
       },
       "content": {
        "cell": "0917affd-3569-443c-8b5b-d302a8a20764",
        "part": "whole"
       },
       "id": "4298dd6e-4b13-4229-bd6b-5dae3e91b8dc"
      }
     }
    },
    "cc5477d1-296a-4eb6-aad6-9cc9fdc18dc1": {
     "id": "cc5477d1-296a-4eb6-aad6-9cc9fdc18dc1",
     "prev": "bbd76a64-daa4-4c27-a374-776da5c48419",
     "regions": {
      "df7a7315-cbaa-4689-8200-58db6ee3fa04": {
       "attrs": {
        "height": 0.8,
        "width": 0.8,
        "x": 0.1,
        "y": 0.1
       },
       "content": {
        "cell": "adf4fae8-461f-4d0d-ac73-5e5a4bd8b02d",
        "part": "whole"
       },
       "id": "df7a7315-cbaa-4689-8200-58db6ee3fa04"
      }
     }
    },
    "cd34d442-d377-428a-9ecc-06c71749cd3c": {
     "id": "cd34d442-d377-428a-9ecc-06c71749cd3c",
     "prev": "459a7d44-eecd-474b-b493-f780d5c0eb4d",
     "regions": {
      "6df4aa7b-c2e6-4ff0-bd9b-c890182833e3": {
       "attrs": {
        "height": 0.8,
        "width": 0.8,
        "x": 0.1,
        "y": 0.1
       },
       "content": {
        "cell": "a9d159c7-398b-46c9-b7fc-0cb84c9772a7",
        "part": "whole"
       },
       "id": "6df4aa7b-c2e6-4ff0-bd9b-c890182833e3"
      }
     }
    },
    "cff96311-40ce-4242-927b-6c6837412be6": {
     "id": "cff96311-40ce-4242-927b-6c6837412be6",
     "prev": "9384fc19-ae9e-4015-819c-8f7c0754a472",
     "regions": {
      "1ea09a52-3104-46c5-8644-e3b1a3b91d96": {
       "attrs": {
        "height": 0.8,
        "width": 0.8,
        "x": 0.1,
        "y": 0.1
       },
       "content": {
        "cell": "ce2f8747-bb6a-4045-80dd-4cd598b4c4e5",
        "part": "whole"
       },
       "id": "1ea09a52-3104-46c5-8644-e3b1a3b91d96"
      }
     }
    },
    "d673b5bd-e6e3-4241-8262-9f66a3e1bec7": {
     "id": "d673b5bd-e6e3-4241-8262-9f66a3e1bec7",
     "prev": "d909a918-ae74-4276-9d1b-c19034a86e62",
     "regions": {
      "d6c4c970-d1bf-4929-9205-e74403f32c56": {
       "attrs": {
        "height": 0.8,
        "width": 0.8,
        "x": 0.1,
        "y": 0.1
       },
       "content": {
        "cell": "e2af89e3-50e3-4286-8d40-6fa6b426c131",
        "part": "whole"
       },
       "id": "d6c4c970-d1bf-4929-9205-e74403f32c56"
      }
     }
    },
    "d909a918-ae74-4276-9d1b-c19034a86e62": {
     "id": "d909a918-ae74-4276-9d1b-c19034a86e62",
     "prev": "c39b53bf-b70b-459a-af86-025fef103138",
     "regions": {
      "80b03884-85d3-4972-94b7-e8f01b8444ff": {
       "attrs": {
        "height": 0.8,
        "width": 0.8,
        "x": 0.1,
        "y": 0.1
       },
       "content": {
        "cell": "272f2c1e-d16e-45ab-a5f9-d2038b5b994a",
        "part": "whole"
       },
       "id": "80b03884-85d3-4972-94b7-e8f01b8444ff"
      }
     }
    },
    "ddec3be1-1ee5-4e59-8f16-94db794bbf32": {
     "id": "ddec3be1-1ee5-4e59-8f16-94db794bbf32",
     "prev": "bdeccfac-de62-4085-8191-d726eb8ef6b5",
     "regions": {
      "28c06a44-586b-4a97-b2cf-d4645dedb160": {
       "attrs": {
        "height": 0.8,
        "width": 0.8,
        "x": 0.1,
        "y": 0.1
       },
       "content": {
        "cell": "882cd67b-6bb6-4847-87f5-29aad451ee5d",
        "part": "whole"
       },
       "id": "28c06a44-586b-4a97-b2cf-d4645dedb160"
      }
     }
    },
    "de1607ab-7e06-49ec-93da-9c96b58b48b4": {
     "id": "de1607ab-7e06-49ec-93da-9c96b58b48b4",
     "prev": "8a122701-523f-4edd-b9ec-90c37cab3c9c",
     "regions": {
      "e99376e9-8309-48e1-85db-9ca4281092f9": {
       "attrs": {
        "height": 0.8,
        "width": 0.8,
        "x": 0.1,
        "y": 0.1
       },
       "content": {
        "cell": "83e690d8-1f07-44c0-802e-810a700fab05",
        "part": "whole"
       },
       "id": "e99376e9-8309-48e1-85db-9ca4281092f9"
      }
     }
    },
    "e2b34a97-ecf2-452f-8b3c-8f0a632d3679": {
     "id": "e2b34a97-ecf2-452f-8b3c-8f0a632d3679",
     "prev": null,
     "regions": {
      "6f39cac1-119d-40b8-b4dd-591fbfa43a23": {
       "attrs": {
        "height": 0.8,
        "width": 0.8,
        "x": 0.1,
        "y": 0.1
       },
       "content": {
        "cell": "458955dd-4b7a-42e0-a81e-3bfda063205d",
        "part": "whole"
       },
       "id": "6f39cac1-119d-40b8-b4dd-591fbfa43a23"
      }
     }
    },
    "e76a651d-4aea-4d2d-acc9-dd8dd24a7487": {
     "id": "e76a651d-4aea-4d2d-acc9-dd8dd24a7487",
     "prev": "259ceb15-070c-4242-b35b-475aaa8094db",
     "regions": {
      "acae2a01-dbe1-49e7-be86-45104cf33126": {
       "attrs": {
        "height": 0.8,
        "width": 0.8,
        "x": 0.1,
        "y": 0.1
       },
       "content": {
        "cell": "84c5d1f8-35e4-414a-b682-f103c5c60fa8",
        "part": "whole"
       },
       "id": "acae2a01-dbe1-49e7-be86-45104cf33126"
      }
     }
    },
    "ec21535d-dbed-43f0-a79a-ddfc90f34c1f": {
     "id": "ec21535d-dbed-43f0-a79a-ddfc90f34c1f",
     "prev": "9ccbf50f-4ee4-4b62-8d2c-5af86209627c",
     "regions": {
      "59acdd69-987a-4a07-81bc-2ab095824c9b": {
       "attrs": {
        "height": 0.8,
        "width": 0.8,
        "x": 0.1,
        "y": 0.1
       },
       "content": {
        "cell": "f9eb0aae-3db6-469d-8118-73a3037fe92d",
        "part": "whole"
       },
       "id": "59acdd69-987a-4a07-81bc-2ab095824c9b"
      }
     }
    },
    "ecec15c6-5363-4c47-8e9c-b209388b3905": {
     "id": "ecec15c6-5363-4c47-8e9c-b209388b3905",
     "prev": "c864542a-3660-4df8-a67d-1edf4e539d54",
     "regions": {
      "5d82ee64-803f-467b-84aa-21a621432fcc": {
       "attrs": {
        "height": 0.8,
        "width": 0.8,
        "x": 0.1,
        "y": 0.1
       },
       "content": {
        "cell": "3247ac23-2d60-4212-8f38-e7dffdab81ac",
        "part": "whole"
       },
       "id": "5d82ee64-803f-467b-84aa-21a621432fcc"
      }
     }
    },
    "ef780983-ee1c-4356-b5df-80e0ea3a7432": {
     "id": "ef780983-ee1c-4356-b5df-80e0ea3a7432",
     "prev": "de1607ab-7e06-49ec-93da-9c96b58b48b4",
     "regions": {
      "753bb111-6388-4a68-b3fa-52a7bb169a00": {
       "attrs": {
        "height": 0.8,
        "width": 0.8,
        "x": 0.1,
        "y": 0.1
       },
       "content": {
        "cell": "f521d426-e19d-4e56-b326-bd2681652ec1",
        "part": "whole"
       },
       "id": "753bb111-6388-4a68-b3fa-52a7bb169a00"
      }
     }
    },
    "f03c101f-ddd5-4bc4-b088-66f8e374fa08": {
     "id": "f03c101f-ddd5-4bc4-b088-66f8e374fa08",
     "prev": "8bd73937-bdef-4af2-a9a1-cdf0479441a3",
     "regions": {
      "c1ef9851-7443-4f68-a405-6be3c1dc97cb": {
       "attrs": {
        "height": 0.8,
        "width": 0.8,
        "x": 0.1,
        "y": 0.1
       },
       "content": {
        "cell": "d25d2c62-7452-46ec-8801-56fa2f809f24",
        "part": "whole"
       },
       "id": "c1ef9851-7443-4f68-a405-6be3c1dc97cb"
      }
     }
    },
    "f5c1a417-4ed8-45ff-8d17-01f50f0aab11": {
     "id": "f5c1a417-4ed8-45ff-8d17-01f50f0aab11",
     "prev": "4ec99677-bc96-428c-8687-871699cac003",
     "regions": {
      "1c379137-f0ca-45d9-9a7c-47d3de4d9928": {
       "attrs": {
        "height": 0.8,
        "width": 0.8,
        "x": 0.1,
        "y": 0.1
       },
       "content": {
        "cell": "21af36af-4d2d-42a5-a658-275b31203727",
        "part": "whole"
       },
       "id": "1c379137-f0ca-45d9-9a7c-47d3de4d9928"
      }
     }
    },
    "f6f26bf2-4e90-44a4-aa2c-d625ae8afdd0": {
     "id": "f6f26bf2-4e90-44a4-aa2c-d625ae8afdd0",
     "prev": "f5c1a417-4ed8-45ff-8d17-01f50f0aab11",
     "regions": {
      "a2b08100-af56-46f7-9dd4-6f863e10d2f6": {
       "attrs": {
        "height": 0.8,
        "width": 0.8,
        "x": 0.1,
        "y": 0.1
       },
       "content": {
        "cell": "1340e68e-8485-4eed-90e8-c0b839a6cfb3",
        "part": "whole"
       },
       "id": "a2b08100-af56-46f7-9dd4-6f863e10d2f6"
      }
     }
    },
    "f885fd26-3d13-4b9c-a7a8-82709d63828c": {
     "id": "f885fd26-3d13-4b9c-a7a8-82709d63828c",
     "prev": "3d66a8da-a16f-43b4-80f1-66d703d1aff9",
     "regions": {
      "1b6f71aa-da8c-4f8a-9139-969fc2517f78": {
       "attrs": {
        "height": 0.8,
        "width": 0.8,
        "x": 0.1,
        "y": 0.1
       },
       "content": {
        "cell": "6a3d2c3f-4ad7-4726-bae1-9a73d352b6ae",
        "part": "whole"
       },
       "id": "1b6f71aa-da8c-4f8a-9139-969fc2517f78"
      }
     }
    }
   },
   "themes": {
    "default": "cb7e9bda-a09d-4a28-99eb-1f36cf158f23",
    "theme": {
     "316d550c-4e7f-4ce5-96dc-daa6b6828f96": {
      "backgrounds": {
       "backgroundColor": {
        "background-color": "backgroundColor",
        "id": "backgroundColor"
       }
      },
      "id": "316d550c-4e7f-4ce5-96dc-daa6b6828f96",
      "palette": {
       "backgroundColor": {
        "id": "backgroundColor",
        "rgb": [
         34,
         34,
         34
        ]
       },
       "headingColor": {
        "id": "headingColor",
        "rgb": [
         256,
         256,
         256
        ]
       },
       "linkColor": {
        "id": "linkColor",
        "rgb": [
         66,
         175,
         250
        ]
       },
       "mainColor": {
        "id": "mainColor",
        "rgb": [
         256,
         256,
         256
        ]
       }
      },
      "rules": {
       "a": {
        "color": "linkColor"
       },
       "h1": {
        "color": "headingColor",
        "font-family": "Source Sans Pro",
        "font-size": 5.25
       },
       "h2": {
        "color": "headingColor",
        "font-family": "Source Sans Pro",
        "font-size": 4
       },
       "h3": {
        "color": "headingColor",
        "font-family": "Source Sans Pro",
        "font-size": 3.5
       },
       "h4": {
        "color": "headingColor",
        "font-family": "Source Sans Pro",
        "font-size": 3
       },
       "h5": {
        "color": "headingColor",
        "font-family": "Source Sans Pro"
       },
       "h6": {
        "color": "headingColor",
        "font-family": "Source Sans Pro"
       },
       "h7": {
        "color": "headingColor",
        "font-family": "Source Sans Pro"
       },
       "li": {
        "color": "mainColor",
        "font-family": "Source Sans Pro",
        "font-size": 6
       },
       "p": {
        "color": "mainColor",
        "font-family": "Source Sans Pro",
        "font-size": 6
       }
      },
      "text-base": {
       "color": "mainColor",
       "font-family": "Source Sans Pro",
       "font-size": 6
      }
     },
     "cb7e9bda-a09d-4a28-99eb-1f36cf158f23": {
      "backgrounds": {
       "backgroundColor": {
        "background-color": "backgroundColor",
        "id": "backgroundColor"
       }
      },
      "id": "cb7e9bda-a09d-4a28-99eb-1f36cf158f23",
      "palette": {
       "backgroundColor": {
        "id": "backgroundColor",
        "rgb": [
         256,
         256,
         256
        ]
       },
       "headingColor": {
        "id": "headingColor",
        "rgb": [
         0,
         0,
         0
        ]
       },
       "linkColor": {
        "id": "linkColor",
        "rgb": [
         0,
         0,
         139
        ]
       },
       "mainColor": {
        "id": "mainColor",
        "rgb": [
         0,
         0,
         0
        ]
       }
      },
      "rules": {
       "a": {
        "color": "linkColor"
       },
       "h1": {
        "color": "headingColor",
        "font-family": "News Cycle",
        "font-size": 7
       },
       "h2": {
        "color": "headingColor",
        "font-family": "News Cycle",
        "font-size": 5
       },
       "h3": {
        "color": "headingColor",
        "font-family": "News Cycle",
        "font-size": 3.75
       },
       "h4": {
        "color": "headingColor",
        "font-family": "News Cycle",
        "font-size": 3
       },
       "h5": {
        "color": "headingColor",
        "font-family": "News Cycle"
       },
       "h6": {
        "color": "headingColor",
        "font-family": "News Cycle"
       },
       "h7": {
        "color": "headingColor",
        "font-family": "News Cycle"
       },
       "li": {
        "color": "mainColor",
        "font-family": "Lato",
        "font-size": 5
       },
       "p": {
        "color": "mainColor",
        "font-family": "Lato",
        "font-size": 5
       }
      },
      "text-base": {
       "color": "mainColor",
       "font-family": "Lato",
       "font-size": 5
      }
     }
    }
   }
  }
 },
 "nbformat": 4,
 "nbformat_minor": 2
}
