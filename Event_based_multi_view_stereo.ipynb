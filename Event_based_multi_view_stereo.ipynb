{
 "cells": [
  {
   "cell_type": "markdown",
   "metadata": {
    "nbpresent": {
     "id": "458955dd-4b7a-42e0-a81e-3bfda063205d"
    },
    "slideshow": {
     "slide_type": "slide"
    }
   },
   "source": [
    "### Rebecq, H., Gallego, G., Mueggler, E., and Scaramuzza, D. (2017). EMVS: Event-Based Multi-View Stereo—3D Reconstruction with an Event Camera in Real-Time. International Journal of Computer Vision 1–21."
   ]
  },
  {
   "cell_type": "markdown",
   "metadata": {
    "nbpresent": {
     "id": "ced8ae4b-41bb-45e1-b6f8-8544490a39c2"
    },
    "slideshow": {
     "slide_type": "fragment"
    }
   },
   "source": [
    "This notebook is an implementation of the above paper on semi-dense 3D reconstruction of a scene using back projection methods. The scene data is captured using an event camera. The notebook has been structured according to the methodology outlined in the paper."
   ]
  },
  {
   "cell_type": "code",
   "execution_count": 3,
   "metadata": {
    "nbpresent": {
     "id": "77d1eb0e-41c4-4247-859b-acab4d426bd3"
    },
    "slideshow": {
     "slide_type": "subslide"
    }
   },
   "outputs": [],
   "source": [
    "import cv2\n",
    "import os\n",
    "import scipy\n",
    "import numpy as np\n",
    "import matplotlib.pyplot as plt\n",
    "import time\n",
    "import pyquaternion as qt\n",
    "%load_ext line_profiler\n",
    "%matplotlib notebook\n",
    "\n",
    "data_path = 'data/slider_depth'"
   ]
  },
  {
   "cell_type": "markdown",
   "metadata": {},
   "source": [
    "The %lprun  and %timeit commands have been used throughout the notebook to time the execution of the functions."
   ]
  },
  {
   "cell_type": "markdown",
   "metadata": {
    "nbpresent": {
     "id": "7b098df0-6fd1-4de5-ae84-4351a8b2a3e2"
    },
    "slideshow": {
     "slide_type": "slide"
    }
   },
   "source": [
    "## Table of Contents\n",
    "[1. Scene Video(optional)](#scene_video)\n",
    "\n",
    "[2. Data Available and Data format](#data)\n",
    "    \n",
    "   &nbsp;&nbsp;&nbsp;&nbsp;&nbsp;[2.1 Camera Matrix](#cam_mat)\n",
    "   \n",
    "   &nbsp;&nbsp;&nbsp;&nbsp;&nbsp;[2.2 Obtaining pose information relevant to events under consideration from the groundtruth files](#event_data)\n",
    " \n",
    "[3. Stages of Reconstruction](#stages)\n",
    "\n",
    "   &nbsp;&nbsp;&nbsp;&nbsp;&nbsp;[3.1 Back-Projection](#stage_1)\n",
    "   \n",
    "   &nbsp;&nbsp;&nbsp;&nbsp;&nbsp;[3.2 Ray-Counting](#stage_2)\n",
    "   \n",
    "   &nbsp;&nbsp;&nbsp;&nbsp;&nbsp;[3.3 Voting](#stage_3)\n",
    "   \n",
    "   &nbsp;&nbsp;&nbsp;&nbsp;&nbsp;[3.4 Scene Restructuring](#stage_4)\n",
    "   \n",
    "   &nbsp;&nbsp;&nbsp;&nbsp;&nbsp;[3.5 Cleaning](#stage_5)\n",
    "   \n",
    "    \n",
    "[4. Algorithm](#algorithm)\n",
    "\n",
    "   &nbsp;&nbsp;&nbsp;&nbsp;&nbsp;[4.1 Pictorial Representation of the Algorithm](#algo_pic)\n",
    "\n",
    "[5. The Main Function](#main)"
   ]
  },
  {
   "cell_type": "code",
   "execution_count": 4,
   "metadata": {},
   "outputs": [],
   "source": [
    "num_of_depth_planes = 100 # number of depth planes to be used for the 3-D projective Space\n",
    "Z_0 = 1  # The reference plane for initial mapping, 1 has been chosen arbitrarily"
   ]
  },
  {
   "cell_type": "markdown",
   "metadata": {
    "nbpresent": {
     "id": "3b7e6e0a-2698-48f4-b1cf-0da86501ea0e"
    },
    "slideshow": {
     "slide_type": "slide"
    }
   },
   "source": [
    "<a id=\"scene_video\"></a>\n",
    "## 1. Scene Video\n"
   ]
  },
  {
   "cell_type": "markdown",
   "metadata": {
    "nbpresent": {
     "id": "a9d159c7-398b-46c9-b7fc-0cb84c9772a7"
    },
    "slideshow": {
     "slide_type": "fragment"
    }
   },
   "source": [
    "The DAVIS camera has a conventional image capturing system along with the event based system. While we shall not be using the conventional stream during our implementation, the conventional stream of data helps the user visualize the scene that is undergoing reconstruction."
   ]
  },
  {
   "cell_type": "code",
   "execution_count": 5,
   "metadata": {
    "nbpresent": {
     "id": "1502a5a3-4567-48c8-a515-6892d330fcb8"
    },
    "slideshow": {
     "slide_type": "subslide"
    }
   },
   "outputs": [],
   "source": [
    "normal_img_path = data_path + '/images'\n",
    "normal_imgs = [normal_img_path + \"/\" + img for img in os.listdir(normal_img_path) if img.endswith(\".png\")]\n",
    "normal_imgs.sort()"
   ]
  },
  {
   "cell_type": "code",
   "execution_count": 130,
   "metadata": {
    "nbpresent": {
     "id": "46485b54-7a29-48ec-b4a6-24396d33c26b"
    },
    "slideshow": {
     "slide_type": "subslide"
    }
   },
   "outputs": [
    {
     "data": {
      "application/javascript": [
       "/* Put everything inside the global mpl namespace */\n",
       "window.mpl = {};\n",
       "\n",
       "\n",
       "mpl.get_websocket_type = function() {\n",
       "    if (typeof(WebSocket) !== 'undefined') {\n",
       "        return WebSocket;\n",
       "    } else if (typeof(MozWebSocket) !== 'undefined') {\n",
       "        return MozWebSocket;\n",
       "    } else {\n",
       "        alert('Your browser does not have WebSocket support.' +\n",
       "              'Please try Chrome, Safari or Firefox ≥ 6. ' +\n",
       "              'Firefox 4 and 5 are also supported but you ' +\n",
       "              'have to enable WebSockets in about:config.');\n",
       "    };\n",
       "}\n",
       "\n",
       "mpl.figure = function(figure_id, websocket, ondownload, parent_element) {\n",
       "    this.id = figure_id;\n",
       "\n",
       "    this.ws = websocket;\n",
       "\n",
       "    this.supports_binary = (this.ws.binaryType != undefined);\n",
       "\n",
       "    if (!this.supports_binary) {\n",
       "        var warnings = document.getElementById(\"mpl-warnings\");\n",
       "        if (warnings) {\n",
       "            warnings.style.display = 'block';\n",
       "            warnings.textContent = (\n",
       "                \"This browser does not support binary websocket messages. \" +\n",
       "                    \"Performance may be slow.\");\n",
       "        }\n",
       "    }\n",
       "\n",
       "    this.imageObj = new Image();\n",
       "\n",
       "    this.context = undefined;\n",
       "    this.message = undefined;\n",
       "    this.canvas = undefined;\n",
       "    this.rubberband_canvas = undefined;\n",
       "    this.rubberband_context = undefined;\n",
       "    this.format_dropdown = undefined;\n",
       "\n",
       "    this.image_mode = 'full';\n",
       "\n",
       "    this.root = $('<div/>');\n",
       "    this._root_extra_style(this.root)\n",
       "    this.root.attr('style', 'display: inline-block');\n",
       "\n",
       "    $(parent_element).append(this.root);\n",
       "\n",
       "    this._init_header(this);\n",
       "    this._init_canvas(this);\n",
       "    this._init_toolbar(this);\n",
       "\n",
       "    var fig = this;\n",
       "\n",
       "    this.waiting = false;\n",
       "\n",
       "    this.ws.onopen =  function () {\n",
       "            fig.send_message(\"supports_binary\", {value: fig.supports_binary});\n",
       "            fig.send_message(\"send_image_mode\", {});\n",
       "            if (mpl.ratio != 1) {\n",
       "                fig.send_message(\"set_dpi_ratio\", {'dpi_ratio': mpl.ratio});\n",
       "            }\n",
       "            fig.send_message(\"refresh\", {});\n",
       "        }\n",
       "\n",
       "    this.imageObj.onload = function() {\n",
       "            if (fig.image_mode == 'full') {\n",
       "                // Full images could contain transparency (where diff images\n",
       "                // almost always do), so we need to clear the canvas so that\n",
       "                // there is no ghosting.\n",
       "                fig.context.clearRect(0, 0, fig.canvas.width, fig.canvas.height);\n",
       "            }\n",
       "            fig.context.drawImage(fig.imageObj, 0, 0);\n",
       "        };\n",
       "\n",
       "    this.imageObj.onunload = function() {\n",
       "        fig.ws.close();\n",
       "    }\n",
       "\n",
       "    this.ws.onmessage = this._make_on_message_function(this);\n",
       "\n",
       "    this.ondownload = ondownload;\n",
       "}\n",
       "\n",
       "mpl.figure.prototype._init_header = function() {\n",
       "    var titlebar = $(\n",
       "        '<div class=\"ui-dialog-titlebar ui-widget-header ui-corner-all ' +\n",
       "        'ui-helper-clearfix\"/>');\n",
       "    var titletext = $(\n",
       "        '<div class=\"ui-dialog-title\" style=\"width: 100%; ' +\n",
       "        'text-align: center; padding: 3px;\"/>');\n",
       "    titlebar.append(titletext)\n",
       "    this.root.append(titlebar);\n",
       "    this.header = titletext[0];\n",
       "}\n",
       "\n",
       "\n",
       "\n",
       "mpl.figure.prototype._canvas_extra_style = function(canvas_div) {\n",
       "\n",
       "}\n",
       "\n",
       "\n",
       "mpl.figure.prototype._root_extra_style = function(canvas_div) {\n",
       "\n",
       "}\n",
       "\n",
       "mpl.figure.prototype._init_canvas = function() {\n",
       "    var fig = this;\n",
       "\n",
       "    var canvas_div = $('<div/>');\n",
       "\n",
       "    canvas_div.attr('style', 'position: relative; clear: both; outline: 0');\n",
       "\n",
       "    function canvas_keyboard_event(event) {\n",
       "        return fig.key_event(event, event['data']);\n",
       "    }\n",
       "\n",
       "    canvas_div.keydown('key_press', canvas_keyboard_event);\n",
       "    canvas_div.keyup('key_release', canvas_keyboard_event);\n",
       "    this.canvas_div = canvas_div\n",
       "    this._canvas_extra_style(canvas_div)\n",
       "    this.root.append(canvas_div);\n",
       "\n",
       "    var canvas = $('<canvas/>');\n",
       "    canvas.addClass('mpl-canvas');\n",
       "    canvas.attr('style', \"left: 0; top: 0; z-index: 0; outline: 0\")\n",
       "\n",
       "    this.canvas = canvas[0];\n",
       "    this.context = canvas[0].getContext(\"2d\");\n",
       "\n",
       "    var backingStore = this.context.backingStorePixelRatio ||\n",
       "\tthis.context.webkitBackingStorePixelRatio ||\n",
       "\tthis.context.mozBackingStorePixelRatio ||\n",
       "\tthis.context.msBackingStorePixelRatio ||\n",
       "\tthis.context.oBackingStorePixelRatio ||\n",
       "\tthis.context.backingStorePixelRatio || 1;\n",
       "\n",
       "    mpl.ratio = (window.devicePixelRatio || 1) / backingStore;\n",
       "\n",
       "    var rubberband = $('<canvas/>');\n",
       "    rubberband.attr('style', \"position: absolute; left: 0; top: 0; z-index: 1;\")\n",
       "\n",
       "    var pass_mouse_events = true;\n",
       "\n",
       "    canvas_div.resizable({\n",
       "        start: function(event, ui) {\n",
       "            pass_mouse_events = false;\n",
       "        },\n",
       "        resize: function(event, ui) {\n",
       "            fig.request_resize(ui.size.width, ui.size.height);\n",
       "        },\n",
       "        stop: function(event, ui) {\n",
       "            pass_mouse_events = true;\n",
       "            fig.request_resize(ui.size.width, ui.size.height);\n",
       "        },\n",
       "    });\n",
       "\n",
       "    function mouse_event_fn(event) {\n",
       "        if (pass_mouse_events)\n",
       "            return fig.mouse_event(event, event['data']);\n",
       "    }\n",
       "\n",
       "    rubberband.mousedown('button_press', mouse_event_fn);\n",
       "    rubberband.mouseup('button_release', mouse_event_fn);\n",
       "    // Throttle sequential mouse events to 1 every 20ms.\n",
       "    rubberband.mousemove('motion_notify', mouse_event_fn);\n",
       "\n",
       "    rubberband.mouseenter('figure_enter', mouse_event_fn);\n",
       "    rubberband.mouseleave('figure_leave', mouse_event_fn);\n",
       "\n",
       "    canvas_div.on(\"wheel\", function (event) {\n",
       "        event = event.originalEvent;\n",
       "        event['data'] = 'scroll'\n",
       "        if (event.deltaY < 0) {\n",
       "            event.step = 1;\n",
       "        } else {\n",
       "            event.step = -1;\n",
       "        }\n",
       "        mouse_event_fn(event);\n",
       "    });\n",
       "\n",
       "    canvas_div.append(canvas);\n",
       "    canvas_div.append(rubberband);\n",
       "\n",
       "    this.rubberband = rubberband;\n",
       "    this.rubberband_canvas = rubberband[0];\n",
       "    this.rubberband_context = rubberband[0].getContext(\"2d\");\n",
       "    this.rubberband_context.strokeStyle = \"#000000\";\n",
       "\n",
       "    this._resize_canvas = function(width, height) {\n",
       "        // Keep the size of the canvas, canvas container, and rubber band\n",
       "        // canvas in synch.\n",
       "        canvas_div.css('width', width)\n",
       "        canvas_div.css('height', height)\n",
       "\n",
       "        canvas.attr('width', width * mpl.ratio);\n",
       "        canvas.attr('height', height * mpl.ratio);\n",
       "        canvas.attr('style', 'width: ' + width + 'px; height: ' + height + 'px;');\n",
       "\n",
       "        rubberband.attr('width', width);\n",
       "        rubberband.attr('height', height);\n",
       "    }\n",
       "\n",
       "    // Set the figure to an initial 600x600px, this will subsequently be updated\n",
       "    // upon first draw.\n",
       "    this._resize_canvas(600, 600);\n",
       "\n",
       "    // Disable right mouse context menu.\n",
       "    $(this.rubberband_canvas).bind(\"contextmenu\",function(e){\n",
       "        return false;\n",
       "    });\n",
       "\n",
       "    function set_focus () {\n",
       "        canvas.focus();\n",
       "        canvas_div.focus();\n",
       "    }\n",
       "\n",
       "    window.setTimeout(set_focus, 100);\n",
       "}\n",
       "\n",
       "mpl.figure.prototype._init_toolbar = function() {\n",
       "    var fig = this;\n",
       "\n",
       "    var nav_element = $('<div/>')\n",
       "    nav_element.attr('style', 'width: 100%');\n",
       "    this.root.append(nav_element);\n",
       "\n",
       "    // Define a callback function for later on.\n",
       "    function toolbar_event(event) {\n",
       "        return fig.toolbar_button_onclick(event['data']);\n",
       "    }\n",
       "    function toolbar_mouse_event(event) {\n",
       "        return fig.toolbar_button_onmouseover(event['data']);\n",
       "    }\n",
       "\n",
       "    for(var toolbar_ind in mpl.toolbar_items) {\n",
       "        var name = mpl.toolbar_items[toolbar_ind][0];\n",
       "        var tooltip = mpl.toolbar_items[toolbar_ind][1];\n",
       "        var image = mpl.toolbar_items[toolbar_ind][2];\n",
       "        var method_name = mpl.toolbar_items[toolbar_ind][3];\n",
       "\n",
       "        if (!name) {\n",
       "            // put a spacer in here.\n",
       "            continue;\n",
       "        }\n",
       "        var button = $('<button/>');\n",
       "        button.addClass('ui-button ui-widget ui-state-default ui-corner-all ' +\n",
       "                        'ui-button-icon-only');\n",
       "        button.attr('role', 'button');\n",
       "        button.attr('aria-disabled', 'false');\n",
       "        button.click(method_name, toolbar_event);\n",
       "        button.mouseover(tooltip, toolbar_mouse_event);\n",
       "\n",
       "        var icon_img = $('<span/>');\n",
       "        icon_img.addClass('ui-button-icon-primary ui-icon');\n",
       "        icon_img.addClass(image);\n",
       "        icon_img.addClass('ui-corner-all');\n",
       "\n",
       "        var tooltip_span = $('<span/>');\n",
       "        tooltip_span.addClass('ui-button-text');\n",
       "        tooltip_span.html(tooltip);\n",
       "\n",
       "        button.append(icon_img);\n",
       "        button.append(tooltip_span);\n",
       "\n",
       "        nav_element.append(button);\n",
       "    }\n",
       "\n",
       "    var fmt_picker_span = $('<span/>');\n",
       "\n",
       "    var fmt_picker = $('<select/>');\n",
       "    fmt_picker.addClass('mpl-toolbar-option ui-widget ui-widget-content');\n",
       "    fmt_picker_span.append(fmt_picker);\n",
       "    nav_element.append(fmt_picker_span);\n",
       "    this.format_dropdown = fmt_picker[0];\n",
       "\n",
       "    for (var ind in mpl.extensions) {\n",
       "        var fmt = mpl.extensions[ind];\n",
       "        var option = $(\n",
       "            '<option/>', {selected: fmt === mpl.default_extension}).html(fmt);\n",
       "        fmt_picker.append(option)\n",
       "    }\n",
       "\n",
       "    // Add hover states to the ui-buttons\n",
       "    $( \".ui-button\" ).hover(\n",
       "        function() { $(this).addClass(\"ui-state-hover\");},\n",
       "        function() { $(this).removeClass(\"ui-state-hover\");}\n",
       "    );\n",
       "\n",
       "    var status_bar = $('<span class=\"mpl-message\"/>');\n",
       "    nav_element.append(status_bar);\n",
       "    this.message = status_bar[0];\n",
       "}\n",
       "\n",
       "mpl.figure.prototype.request_resize = function(x_pixels, y_pixels) {\n",
       "    // Request matplotlib to resize the figure. Matplotlib will then trigger a resize in the client,\n",
       "    // which will in turn request a refresh of the image.\n",
       "    this.send_message('resize', {'width': x_pixels, 'height': y_pixels});\n",
       "}\n",
       "\n",
       "mpl.figure.prototype.send_message = function(type, properties) {\n",
       "    properties['type'] = type;\n",
       "    properties['figure_id'] = this.id;\n",
       "    this.ws.send(JSON.stringify(properties));\n",
       "}\n",
       "\n",
       "mpl.figure.prototype.send_draw_message = function() {\n",
       "    if (!this.waiting) {\n",
       "        this.waiting = true;\n",
       "        this.ws.send(JSON.stringify({type: \"draw\", figure_id: this.id}));\n",
       "    }\n",
       "}\n",
       "\n",
       "\n",
       "mpl.figure.prototype.handle_save = function(fig, msg) {\n",
       "    var format_dropdown = fig.format_dropdown;\n",
       "    var format = format_dropdown.options[format_dropdown.selectedIndex].value;\n",
       "    fig.ondownload(fig, format);\n",
       "}\n",
       "\n",
       "\n",
       "mpl.figure.prototype.handle_resize = function(fig, msg) {\n",
       "    var size = msg['size'];\n",
       "    if (size[0] != fig.canvas.width || size[1] != fig.canvas.height) {\n",
       "        fig._resize_canvas(size[0], size[1]);\n",
       "        fig.send_message(\"refresh\", {});\n",
       "    };\n",
       "}\n",
       "\n",
       "mpl.figure.prototype.handle_rubberband = function(fig, msg) {\n",
       "    var x0 = msg['x0'] / mpl.ratio;\n",
       "    var y0 = (fig.canvas.height - msg['y0']) / mpl.ratio;\n",
       "    var x1 = msg['x1'] / mpl.ratio;\n",
       "    var y1 = (fig.canvas.height - msg['y1']) / mpl.ratio;\n",
       "    x0 = Math.floor(x0) + 0.5;\n",
       "    y0 = Math.floor(y0) + 0.5;\n",
       "    x1 = Math.floor(x1) + 0.5;\n",
       "    y1 = Math.floor(y1) + 0.5;\n",
       "    var min_x = Math.min(x0, x1);\n",
       "    var min_y = Math.min(y0, y1);\n",
       "    var width = Math.abs(x1 - x0);\n",
       "    var height = Math.abs(y1 - y0);\n",
       "\n",
       "    fig.rubberband_context.clearRect(\n",
       "        0, 0, fig.canvas.width, fig.canvas.height);\n",
       "\n",
       "    fig.rubberband_context.strokeRect(min_x, min_y, width, height);\n",
       "}\n",
       "\n",
       "mpl.figure.prototype.handle_figure_label = function(fig, msg) {\n",
       "    // Updates the figure title.\n",
       "    fig.header.textContent = msg['label'];\n",
       "}\n",
       "\n",
       "mpl.figure.prototype.handle_cursor = function(fig, msg) {\n",
       "    var cursor = msg['cursor'];\n",
       "    switch(cursor)\n",
       "    {\n",
       "    case 0:\n",
       "        cursor = 'pointer';\n",
       "        break;\n",
       "    case 1:\n",
       "        cursor = 'default';\n",
       "        break;\n",
       "    case 2:\n",
       "        cursor = 'crosshair';\n",
       "        break;\n",
       "    case 3:\n",
       "        cursor = 'move';\n",
       "        break;\n",
       "    }\n",
       "    fig.rubberband_canvas.style.cursor = cursor;\n",
       "}\n",
       "\n",
       "mpl.figure.prototype.handle_message = function(fig, msg) {\n",
       "    fig.message.textContent = msg['message'];\n",
       "}\n",
       "\n",
       "mpl.figure.prototype.handle_draw = function(fig, msg) {\n",
       "    // Request the server to send over a new figure.\n",
       "    fig.send_draw_message();\n",
       "}\n",
       "\n",
       "mpl.figure.prototype.handle_image_mode = function(fig, msg) {\n",
       "    fig.image_mode = msg['mode'];\n",
       "}\n",
       "\n",
       "mpl.figure.prototype.updated_canvas_event = function() {\n",
       "    // Called whenever the canvas gets updated.\n",
       "    this.send_message(\"ack\", {});\n",
       "}\n",
       "\n",
       "// A function to construct a web socket function for onmessage handling.\n",
       "// Called in the figure constructor.\n",
       "mpl.figure.prototype._make_on_message_function = function(fig) {\n",
       "    return function socket_on_message(evt) {\n",
       "        if (evt.data instanceof Blob) {\n",
       "            /* FIXME: We get \"Resource interpreted as Image but\n",
       "             * transferred with MIME type text/plain:\" errors on\n",
       "             * Chrome.  But how to set the MIME type?  It doesn't seem\n",
       "             * to be part of the websocket stream */\n",
       "            evt.data.type = \"image/png\";\n",
       "\n",
       "            /* Free the memory for the previous frames */\n",
       "            if (fig.imageObj.src) {\n",
       "                (window.URL || window.webkitURL).revokeObjectURL(\n",
       "                    fig.imageObj.src);\n",
       "            }\n",
       "\n",
       "            fig.imageObj.src = (window.URL || window.webkitURL).createObjectURL(\n",
       "                evt.data);\n",
       "            fig.updated_canvas_event();\n",
       "            fig.waiting = false;\n",
       "            return;\n",
       "        }\n",
       "        else if (typeof evt.data === 'string' && evt.data.slice(0, 21) == \"data:image/png;base64\") {\n",
       "            fig.imageObj.src = evt.data;\n",
       "            fig.updated_canvas_event();\n",
       "            fig.waiting = false;\n",
       "            return;\n",
       "        }\n",
       "\n",
       "        var msg = JSON.parse(evt.data);\n",
       "        var msg_type = msg['type'];\n",
       "\n",
       "        // Call the  \"handle_{type}\" callback, which takes\n",
       "        // the figure and JSON message as its only arguments.\n",
       "        try {\n",
       "            var callback = fig[\"handle_\" + msg_type];\n",
       "        } catch (e) {\n",
       "            console.log(\"No handler for the '\" + msg_type + \"' message type: \", msg);\n",
       "            return;\n",
       "        }\n",
       "\n",
       "        if (callback) {\n",
       "            try {\n",
       "                // console.log(\"Handling '\" + msg_type + \"' message: \", msg);\n",
       "                callback(fig, msg);\n",
       "            } catch (e) {\n",
       "                console.log(\"Exception inside the 'handler_\" + msg_type + \"' callback:\", e, e.stack, msg);\n",
       "            }\n",
       "        }\n",
       "    };\n",
       "}\n",
       "\n",
       "// from http://stackoverflow.com/questions/1114465/getting-mouse-location-in-canvas\n",
       "mpl.findpos = function(e) {\n",
       "    //this section is from http://www.quirksmode.org/js/events_properties.html\n",
       "    var targ;\n",
       "    if (!e)\n",
       "        e = window.event;\n",
       "    if (e.target)\n",
       "        targ = e.target;\n",
       "    else if (e.srcElement)\n",
       "        targ = e.srcElement;\n",
       "    if (targ.nodeType == 3) // defeat Safari bug\n",
       "        targ = targ.parentNode;\n",
       "\n",
       "    // jQuery normalizes the pageX and pageY\n",
       "    // pageX,Y are the mouse positions relative to the document\n",
       "    // offset() returns the position of the element relative to the document\n",
       "    var x = e.pageX - $(targ).offset().left;\n",
       "    var y = e.pageY - $(targ).offset().top;\n",
       "\n",
       "    return {\"x\": x, \"y\": y};\n",
       "};\n",
       "\n",
       "/*\n",
       " * return a copy of an object with only non-object keys\n",
       " * we need this to avoid circular references\n",
       " * http://stackoverflow.com/a/24161582/3208463\n",
       " */\n",
       "function simpleKeys (original) {\n",
       "  return Object.keys(original).reduce(function (obj, key) {\n",
       "    if (typeof original[key] !== 'object')\n",
       "        obj[key] = original[key]\n",
       "    return obj;\n",
       "  }, {});\n",
       "}\n",
       "\n",
       "mpl.figure.prototype.mouse_event = function(event, name) {\n",
       "    var canvas_pos = mpl.findpos(event)\n",
       "\n",
       "    if (name === 'button_press')\n",
       "    {\n",
       "        this.canvas.focus();\n",
       "        this.canvas_div.focus();\n",
       "    }\n",
       "\n",
       "    var x = canvas_pos.x * mpl.ratio;\n",
       "    var y = canvas_pos.y * mpl.ratio;\n",
       "\n",
       "    this.send_message(name, {x: x, y: y, button: event.button,\n",
       "                             step: event.step,\n",
       "                             guiEvent: simpleKeys(event)});\n",
       "\n",
       "    /* This prevents the web browser from automatically changing to\n",
       "     * the text insertion cursor when the button is pressed.  We want\n",
       "     * to control all of the cursor setting manually through the\n",
       "     * 'cursor' event from matplotlib */\n",
       "    event.preventDefault();\n",
       "    return false;\n",
       "}\n",
       "\n",
       "mpl.figure.prototype._key_event_extra = function(event, name) {\n",
       "    // Handle any extra behaviour associated with a key event\n",
       "}\n",
       "\n",
       "mpl.figure.prototype.key_event = function(event, name) {\n",
       "\n",
       "    // Prevent repeat events\n",
       "    if (name == 'key_press')\n",
       "    {\n",
       "        if (event.which === this._key)\n",
       "            return;\n",
       "        else\n",
       "            this._key = event.which;\n",
       "    }\n",
       "    if (name == 'key_release')\n",
       "        this._key = null;\n",
       "\n",
       "    var value = '';\n",
       "    if (event.ctrlKey && event.which != 17)\n",
       "        value += \"ctrl+\";\n",
       "    if (event.altKey && event.which != 18)\n",
       "        value += \"alt+\";\n",
       "    if (event.shiftKey && event.which != 16)\n",
       "        value += \"shift+\";\n",
       "\n",
       "    value += 'k';\n",
       "    value += event.which.toString();\n",
       "\n",
       "    this._key_event_extra(event, name);\n",
       "\n",
       "    this.send_message(name, {key: value,\n",
       "                             guiEvent: simpleKeys(event)});\n",
       "    return false;\n",
       "}\n",
       "\n",
       "mpl.figure.prototype.toolbar_button_onclick = function(name) {\n",
       "    if (name == 'download') {\n",
       "        this.handle_save(this, null);\n",
       "    } else {\n",
       "        this.send_message(\"toolbar_button\", {name: name});\n",
       "    }\n",
       "};\n",
       "\n",
       "mpl.figure.prototype.toolbar_button_onmouseover = function(tooltip) {\n",
       "    this.message.textContent = tooltip;\n",
       "};\n",
       "mpl.toolbar_items = [[\"Home\", \"Reset original view\", \"fa fa-home icon-home\", \"home\"], [\"Back\", \"Back to  previous view\", \"fa fa-arrow-left icon-arrow-left\", \"back\"], [\"Forward\", \"Forward to next view\", \"fa fa-arrow-right icon-arrow-right\", \"forward\"], [\"\", \"\", \"\", \"\"], [\"Pan\", \"Pan axes with left mouse, zoom with right\", \"fa fa-arrows icon-move\", \"pan\"], [\"Zoom\", \"Zoom to rectangle\", \"fa fa-square-o icon-check-empty\", \"zoom\"], [\"\", \"\", \"\", \"\"], [\"Download\", \"Download plot\", \"fa fa-floppy-o icon-save\", \"download\"]];\n",
       "\n",
       "mpl.extensions = [\"eps\", \"jpeg\", \"pdf\", \"png\", \"ps\", \"raw\", \"svg\", \"tif\"];\n",
       "\n",
       "mpl.default_extension = \"png\";var comm_websocket_adapter = function(comm) {\n",
       "    // Create a \"websocket\"-like object which calls the given IPython comm\n",
       "    // object with the appropriate methods. Currently this is a non binary\n",
       "    // socket, so there is still some room for performance tuning.\n",
       "    var ws = {};\n",
       "\n",
       "    ws.close = function() {\n",
       "        comm.close()\n",
       "    };\n",
       "    ws.send = function(m) {\n",
       "        //console.log('sending', m);\n",
       "        comm.send(m);\n",
       "    };\n",
       "    // Register the callback with on_msg.\n",
       "    comm.on_msg(function(msg) {\n",
       "        //console.log('receiving', msg['content']['data'], msg);\n",
       "        // Pass the mpl event to the overridden (by mpl) onmessage function.\n",
       "        ws.onmessage(msg['content']['data'])\n",
       "    });\n",
       "    return ws;\n",
       "}\n",
       "\n",
       "mpl.mpl_figure_comm = function(comm, msg) {\n",
       "    // This is the function which gets called when the mpl process\n",
       "    // starts-up an IPython Comm through the \"matplotlib\" channel.\n",
       "\n",
       "    var id = msg.content.data.id;\n",
       "    // Get hold of the div created by the display call when the Comm\n",
       "    // socket was opened in Python.\n",
       "    var element = $(\"#\" + id);\n",
       "    var ws_proxy = comm_websocket_adapter(comm)\n",
       "\n",
       "    function ondownload(figure, format) {\n",
       "        window.open(figure.imageObj.src);\n",
       "    }\n",
       "\n",
       "    var fig = new mpl.figure(id, ws_proxy,\n",
       "                           ondownload,\n",
       "                           element.get(0));\n",
       "\n",
       "    // Call onopen now - mpl needs it, as it is assuming we've passed it a real\n",
       "    // web socket which is closed, not our websocket->open comm proxy.\n",
       "    ws_proxy.onopen();\n",
       "\n",
       "    fig.parent_element = element.get(0);\n",
       "    fig.cell_info = mpl.find_output_cell(\"<div id='\" + id + \"'></div>\");\n",
       "    if (!fig.cell_info) {\n",
       "        console.error(\"Failed to find cell for figure\", id, fig);\n",
       "        return;\n",
       "    }\n",
       "\n",
       "    var output_index = fig.cell_info[2]\n",
       "    var cell = fig.cell_info[0];\n",
       "\n",
       "};\n",
       "\n",
       "mpl.figure.prototype.handle_close = function(fig, msg) {\n",
       "    var width = fig.canvas.width/mpl.ratio\n",
       "    fig.root.unbind('remove')\n",
       "\n",
       "    // Update the output cell to use the data from the current canvas.\n",
       "    fig.push_to_output();\n",
       "    var dataURL = fig.canvas.toDataURL();\n",
       "    // Re-enable the keyboard manager in IPython - without this line, in FF,\n",
       "    // the notebook keyboard shortcuts fail.\n",
       "    IPython.keyboard_manager.enable()\n",
       "    $(fig.parent_element).html('<img src=\"' + dataURL + '\" width=\"' + width + '\">');\n",
       "    fig.close_ws(fig, msg);\n",
       "}\n",
       "\n",
       "mpl.figure.prototype.close_ws = function(fig, msg){\n",
       "    fig.send_message('closing', msg);\n",
       "    // fig.ws.close()\n",
       "}\n",
       "\n",
       "mpl.figure.prototype.push_to_output = function(remove_interactive) {\n",
       "    // Turn the data on the canvas into data in the output cell.\n",
       "    var width = this.canvas.width/mpl.ratio\n",
       "    var dataURL = this.canvas.toDataURL();\n",
       "    this.cell_info[1]['text/html'] = '<img src=\"' + dataURL + '\" width=\"' + width + '\">';\n",
       "}\n",
       "\n",
       "mpl.figure.prototype.updated_canvas_event = function() {\n",
       "    // Tell IPython that the notebook contents must change.\n",
       "    IPython.notebook.set_dirty(true);\n",
       "    this.send_message(\"ack\", {});\n",
       "    var fig = this;\n",
       "    // Wait a second, then push the new image to the DOM so\n",
       "    // that it is saved nicely (might be nice to debounce this).\n",
       "    setTimeout(function () { fig.push_to_output() }, 1000);\n",
       "}\n",
       "\n",
       "mpl.figure.prototype._init_toolbar = function() {\n",
       "    var fig = this;\n",
       "\n",
       "    var nav_element = $('<div/>')\n",
       "    nav_element.attr('style', 'width: 100%');\n",
       "    this.root.append(nav_element);\n",
       "\n",
       "    // Define a callback function for later on.\n",
       "    function toolbar_event(event) {\n",
       "        return fig.toolbar_button_onclick(event['data']);\n",
       "    }\n",
       "    function toolbar_mouse_event(event) {\n",
       "        return fig.toolbar_button_onmouseover(event['data']);\n",
       "    }\n",
       "\n",
       "    for(var toolbar_ind in mpl.toolbar_items){\n",
       "        var name = mpl.toolbar_items[toolbar_ind][0];\n",
       "        var tooltip = mpl.toolbar_items[toolbar_ind][1];\n",
       "        var image = mpl.toolbar_items[toolbar_ind][2];\n",
       "        var method_name = mpl.toolbar_items[toolbar_ind][3];\n",
       "\n",
       "        if (!name) { continue; };\n",
       "\n",
       "        var button = $('<button class=\"btn btn-default\" href=\"#\" title=\"' + name + '\"><i class=\"fa ' + image + ' fa-lg\"></i></button>');\n",
       "        button.click(method_name, toolbar_event);\n",
       "        button.mouseover(tooltip, toolbar_mouse_event);\n",
       "        nav_element.append(button);\n",
       "    }\n",
       "\n",
       "    // Add the status bar.\n",
       "    var status_bar = $('<span class=\"mpl-message\" style=\"text-align:right; float: right;\"/>');\n",
       "    nav_element.append(status_bar);\n",
       "    this.message = status_bar[0];\n",
       "\n",
       "    // Add the close button to the window.\n",
       "    var buttongrp = $('<div class=\"btn-group inline pull-right\"></div>');\n",
       "    var button = $('<button class=\"btn btn-mini btn-primary\" href=\"#\" title=\"Stop Interaction\"><i class=\"fa fa-power-off icon-remove icon-large\"></i></button>');\n",
       "    button.click(function (evt) { fig.handle_close(fig, {}); } );\n",
       "    button.mouseover('Stop Interaction', toolbar_mouse_event);\n",
       "    buttongrp.append(button);\n",
       "    var titlebar = this.root.find($('.ui-dialog-titlebar'));\n",
       "    titlebar.prepend(buttongrp);\n",
       "}\n",
       "\n",
       "mpl.figure.prototype._root_extra_style = function(el){\n",
       "    var fig = this\n",
       "    el.on(\"remove\", function(){\n",
       "\tfig.close_ws(fig, {});\n",
       "    });\n",
       "}\n",
       "\n",
       "mpl.figure.prototype._canvas_extra_style = function(el){\n",
       "    // this is important to make the div 'focusable\n",
       "    el.attr('tabindex', 0)\n",
       "    // reach out to IPython and tell the keyboard manager to turn it's self\n",
       "    // off when our div gets focus\n",
       "\n",
       "    // location in version 3\n",
       "    if (IPython.notebook.keyboard_manager) {\n",
       "        IPython.notebook.keyboard_manager.register_events(el);\n",
       "    }\n",
       "    else {\n",
       "        // location in version 2\n",
       "        IPython.keyboard_manager.register_events(el);\n",
       "    }\n",
       "\n",
       "}\n",
       "\n",
       "mpl.figure.prototype._key_event_extra = function(event, name) {\n",
       "    var manager = IPython.notebook.keyboard_manager;\n",
       "    if (!manager)\n",
       "        manager = IPython.keyboard_manager;\n",
       "\n",
       "    // Check for shift+enter\n",
       "    if (event.shiftKey && event.which == 13) {\n",
       "        this.canvas_div.blur();\n",
       "        event.shiftKey = false;\n",
       "        // Send a \"J\" for go to next cell\n",
       "        event.which = 74;\n",
       "        event.keyCode = 74;\n",
       "        manager.command_mode();\n",
       "        manager.handle_keydown(event);\n",
       "    }\n",
       "}\n",
       "\n",
       "mpl.figure.prototype.handle_save = function(fig, msg) {\n",
       "    fig.ondownload(fig, null);\n",
       "}\n",
       "\n",
       "\n",
       "mpl.find_output_cell = function(html_output) {\n",
       "    // Return the cell and output element which can be found *uniquely* in the notebook.\n",
       "    // Note - this is a bit hacky, but it is done because the \"notebook_saving.Notebook\"\n",
       "    // IPython event is triggered only after the cells have been serialised, which for\n",
       "    // our purposes (turning an active figure into a static one), is too late.\n",
       "    var cells = IPython.notebook.get_cells();\n",
       "    var ncells = cells.length;\n",
       "    for (var i=0; i<ncells; i++) {\n",
       "        var cell = cells[i];\n",
       "        if (cell.cell_type === 'code'){\n",
       "            for (var j=0; j<cell.output_area.outputs.length; j++) {\n",
       "                var data = cell.output_area.outputs[j];\n",
       "                if (data.data) {\n",
       "                    // IPython >= 3 moved mimebundle to data attribute of output\n",
       "                    data = data.data;\n",
       "                }\n",
       "                if (data['text/html'] == html_output) {\n",
       "                    return [cell, data, j];\n",
       "                }\n",
       "            }\n",
       "        }\n",
       "    }\n",
       "}\n",
       "\n",
       "// Register the function which deals with the matplotlib target/channel.\n",
       "// The kernel may be null if the page has been refreshed.\n",
       "if (IPython.notebook.kernel != null) {\n",
       "    IPython.notebook.kernel.comm_manager.register_target('matplotlib', mpl.mpl_figure_comm);\n",
       "}\n"
      ],
      "text/plain": [
       "<IPython.core.display.Javascript object>"
      ]
     },
     "metadata": {},
     "output_type": "display_data"
    },
    {
     "data": {
      "text/html": [
       "<img src=\"data:image/png;base64,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\" width=\"431.1111225316557\">"
      ],
      "text/plain": [
       "<IPython.core.display.HTML object>"
      ]
     },
     "metadata": {},
     "output_type": "display_data"
    },
    {
     "data": {
      "application/javascript": [
       "/* Put everything inside the global mpl namespace */\n",
       "window.mpl = {};\n",
       "\n",
       "\n",
       "mpl.get_websocket_type = function() {\n",
       "    if (typeof(WebSocket) !== 'undefined') {\n",
       "        return WebSocket;\n",
       "    } else if (typeof(MozWebSocket) !== 'undefined') {\n",
       "        return MozWebSocket;\n",
       "    } else {\n",
       "        alert('Your browser does not have WebSocket support.' +\n",
       "              'Please try Chrome, Safari or Firefox ≥ 6. ' +\n",
       "              'Firefox 4 and 5 are also supported but you ' +\n",
       "              'have to enable WebSockets in about:config.');\n",
       "    };\n",
       "}\n",
       "\n",
       "mpl.figure = function(figure_id, websocket, ondownload, parent_element) {\n",
       "    this.id = figure_id;\n",
       "\n",
       "    this.ws = websocket;\n",
       "\n",
       "    this.supports_binary = (this.ws.binaryType != undefined);\n",
       "\n",
       "    if (!this.supports_binary) {\n",
       "        var warnings = document.getElementById(\"mpl-warnings\");\n",
       "        if (warnings) {\n",
       "            warnings.style.display = 'block';\n",
       "            warnings.textContent = (\n",
       "                \"This browser does not support binary websocket messages. \" +\n",
       "                    \"Performance may be slow.\");\n",
       "        }\n",
       "    }\n",
       "\n",
       "    this.imageObj = new Image();\n",
       "\n",
       "    this.context = undefined;\n",
       "    this.message = undefined;\n",
       "    this.canvas = undefined;\n",
       "    this.rubberband_canvas = undefined;\n",
       "    this.rubberband_context = undefined;\n",
       "    this.format_dropdown = undefined;\n",
       "\n",
       "    this.image_mode = 'full';\n",
       "\n",
       "    this.root = $('<div/>');\n",
       "    this._root_extra_style(this.root)\n",
       "    this.root.attr('style', 'display: inline-block');\n",
       "\n",
       "    $(parent_element).append(this.root);\n",
       "\n",
       "    this._init_header(this);\n",
       "    this._init_canvas(this);\n",
       "    this._init_toolbar(this);\n",
       "\n",
       "    var fig = this;\n",
       "\n",
       "    this.waiting = false;\n",
       "\n",
       "    this.ws.onopen =  function () {\n",
       "            fig.send_message(\"supports_binary\", {value: fig.supports_binary});\n",
       "            fig.send_message(\"send_image_mode\", {});\n",
       "            if (mpl.ratio != 1) {\n",
       "                fig.send_message(\"set_dpi_ratio\", {'dpi_ratio': mpl.ratio});\n",
       "            }\n",
       "            fig.send_message(\"refresh\", {});\n",
       "        }\n",
       "\n",
       "    this.imageObj.onload = function() {\n",
       "            if (fig.image_mode == 'full') {\n",
       "                // Full images could contain transparency (where diff images\n",
       "                // almost always do), so we need to clear the canvas so that\n",
       "                // there is no ghosting.\n",
       "                fig.context.clearRect(0, 0, fig.canvas.width, fig.canvas.height);\n",
       "            }\n",
       "            fig.context.drawImage(fig.imageObj, 0, 0);\n",
       "        };\n",
       "\n",
       "    this.imageObj.onunload = function() {\n",
       "        fig.ws.close();\n",
       "    }\n",
       "\n",
       "    this.ws.onmessage = this._make_on_message_function(this);\n",
       "\n",
       "    this.ondownload = ondownload;\n",
       "}\n",
       "\n",
       "mpl.figure.prototype._init_header = function() {\n",
       "    var titlebar = $(\n",
       "        '<div class=\"ui-dialog-titlebar ui-widget-header ui-corner-all ' +\n",
       "        'ui-helper-clearfix\"/>');\n",
       "    var titletext = $(\n",
       "        '<div class=\"ui-dialog-title\" style=\"width: 100%; ' +\n",
       "        'text-align: center; padding: 3px;\"/>');\n",
       "    titlebar.append(titletext)\n",
       "    this.root.append(titlebar);\n",
       "    this.header = titletext[0];\n",
       "}\n",
       "\n",
       "\n",
       "\n",
       "mpl.figure.prototype._canvas_extra_style = function(canvas_div) {\n",
       "\n",
       "}\n",
       "\n",
       "\n",
       "mpl.figure.prototype._root_extra_style = function(canvas_div) {\n",
       "\n",
       "}\n",
       "\n",
       "mpl.figure.prototype._init_canvas = function() {\n",
       "    var fig = this;\n",
       "\n",
       "    var canvas_div = $('<div/>');\n",
       "\n",
       "    canvas_div.attr('style', 'position: relative; clear: both; outline: 0');\n",
       "\n",
       "    function canvas_keyboard_event(event) {\n",
       "        return fig.key_event(event, event['data']);\n",
       "    }\n",
       "\n",
       "    canvas_div.keydown('key_press', canvas_keyboard_event);\n",
       "    canvas_div.keyup('key_release', canvas_keyboard_event);\n",
       "    this.canvas_div = canvas_div\n",
       "    this._canvas_extra_style(canvas_div)\n",
       "    this.root.append(canvas_div);\n",
       "\n",
       "    var canvas = $('<canvas/>');\n",
       "    canvas.addClass('mpl-canvas');\n",
       "    canvas.attr('style', \"left: 0; top: 0; z-index: 0; outline: 0\")\n",
       "\n",
       "    this.canvas = canvas[0];\n",
       "    this.context = canvas[0].getContext(\"2d\");\n",
       "\n",
       "    var backingStore = this.context.backingStorePixelRatio ||\n",
       "\tthis.context.webkitBackingStorePixelRatio ||\n",
       "\tthis.context.mozBackingStorePixelRatio ||\n",
       "\tthis.context.msBackingStorePixelRatio ||\n",
       "\tthis.context.oBackingStorePixelRatio ||\n",
       "\tthis.context.backingStorePixelRatio || 1;\n",
       "\n",
       "    mpl.ratio = (window.devicePixelRatio || 1) / backingStore;\n",
       "\n",
       "    var rubberband = $('<canvas/>');\n",
       "    rubberband.attr('style', \"position: absolute; left: 0; top: 0; z-index: 1;\")\n",
       "\n",
       "    var pass_mouse_events = true;\n",
       "\n",
       "    canvas_div.resizable({\n",
       "        start: function(event, ui) {\n",
       "            pass_mouse_events = false;\n",
       "        },\n",
       "        resize: function(event, ui) {\n",
       "            fig.request_resize(ui.size.width, ui.size.height);\n",
       "        },\n",
       "        stop: function(event, ui) {\n",
       "            pass_mouse_events = true;\n",
       "            fig.request_resize(ui.size.width, ui.size.height);\n",
       "        },\n",
       "    });\n",
       "\n",
       "    function mouse_event_fn(event) {\n",
       "        if (pass_mouse_events)\n",
       "            return fig.mouse_event(event, event['data']);\n",
       "    }\n",
       "\n",
       "    rubberband.mousedown('button_press', mouse_event_fn);\n",
       "    rubberband.mouseup('button_release', mouse_event_fn);\n",
       "    // Throttle sequential mouse events to 1 every 20ms.\n",
       "    rubberband.mousemove('motion_notify', mouse_event_fn);\n",
       "\n",
       "    rubberband.mouseenter('figure_enter', mouse_event_fn);\n",
       "    rubberband.mouseleave('figure_leave', mouse_event_fn);\n",
       "\n",
       "    canvas_div.on(\"wheel\", function (event) {\n",
       "        event = event.originalEvent;\n",
       "        event['data'] = 'scroll'\n",
       "        if (event.deltaY < 0) {\n",
       "            event.step = 1;\n",
       "        } else {\n",
       "            event.step = -1;\n",
       "        }\n",
       "        mouse_event_fn(event);\n",
       "    });\n",
       "\n",
       "    canvas_div.append(canvas);\n",
       "    canvas_div.append(rubberband);\n",
       "\n",
       "    this.rubberband = rubberband;\n",
       "    this.rubberband_canvas = rubberband[0];\n",
       "    this.rubberband_context = rubberband[0].getContext(\"2d\");\n",
       "    this.rubberband_context.strokeStyle = \"#000000\";\n",
       "\n",
       "    this._resize_canvas = function(width, height) {\n",
       "        // Keep the size of the canvas, canvas container, and rubber band\n",
       "        // canvas in synch.\n",
       "        canvas_div.css('width', width)\n",
       "        canvas_div.css('height', height)\n",
       "\n",
       "        canvas.attr('width', width * mpl.ratio);\n",
       "        canvas.attr('height', height * mpl.ratio);\n",
       "        canvas.attr('style', 'width: ' + width + 'px; height: ' + height + 'px;');\n",
       "\n",
       "        rubberband.attr('width', width);\n",
       "        rubberband.attr('height', height);\n",
       "    }\n",
       "\n",
       "    // Set the figure to an initial 600x600px, this will subsequently be updated\n",
       "    // upon first draw.\n",
       "    this._resize_canvas(600, 600);\n",
       "\n",
       "    // Disable right mouse context menu.\n",
       "    $(this.rubberband_canvas).bind(\"contextmenu\",function(e){\n",
       "        return false;\n",
       "    });\n",
       "\n",
       "    function set_focus () {\n",
       "        canvas.focus();\n",
       "        canvas_div.focus();\n",
       "    }\n",
       "\n",
       "    window.setTimeout(set_focus, 100);\n",
       "}\n",
       "\n",
       "mpl.figure.prototype._init_toolbar = function() {\n",
       "    var fig = this;\n",
       "\n",
       "    var nav_element = $('<div/>')\n",
       "    nav_element.attr('style', 'width: 100%');\n",
       "    this.root.append(nav_element);\n",
       "\n",
       "    // Define a callback function for later on.\n",
       "    function toolbar_event(event) {\n",
       "        return fig.toolbar_button_onclick(event['data']);\n",
       "    }\n",
       "    function toolbar_mouse_event(event) {\n",
       "        return fig.toolbar_button_onmouseover(event['data']);\n",
       "    }\n",
       "\n",
       "    for(var toolbar_ind in mpl.toolbar_items) {\n",
       "        var name = mpl.toolbar_items[toolbar_ind][0];\n",
       "        var tooltip = mpl.toolbar_items[toolbar_ind][1];\n",
       "        var image = mpl.toolbar_items[toolbar_ind][2];\n",
       "        var method_name = mpl.toolbar_items[toolbar_ind][3];\n",
       "\n",
       "        if (!name) {\n",
       "            // put a spacer in here.\n",
       "            continue;\n",
       "        }\n",
       "        var button = $('<button/>');\n",
       "        button.addClass('ui-button ui-widget ui-state-default ui-corner-all ' +\n",
       "                        'ui-button-icon-only');\n",
       "        button.attr('role', 'button');\n",
       "        button.attr('aria-disabled', 'false');\n",
       "        button.click(method_name, toolbar_event);\n",
       "        button.mouseover(tooltip, toolbar_mouse_event);\n",
       "\n",
       "        var icon_img = $('<span/>');\n",
       "        icon_img.addClass('ui-button-icon-primary ui-icon');\n",
       "        icon_img.addClass(image);\n",
       "        icon_img.addClass('ui-corner-all');\n",
       "\n",
       "        var tooltip_span = $('<span/>');\n",
       "        tooltip_span.addClass('ui-button-text');\n",
       "        tooltip_span.html(tooltip);\n",
       "\n",
       "        button.append(icon_img);\n",
       "        button.append(tooltip_span);\n",
       "\n",
       "        nav_element.append(button);\n",
       "    }\n",
       "\n",
       "    var fmt_picker_span = $('<span/>');\n",
       "\n",
       "    var fmt_picker = $('<select/>');\n",
       "    fmt_picker.addClass('mpl-toolbar-option ui-widget ui-widget-content');\n",
       "    fmt_picker_span.append(fmt_picker);\n",
       "    nav_element.append(fmt_picker_span);\n",
       "    this.format_dropdown = fmt_picker[0];\n",
       "\n",
       "    for (var ind in mpl.extensions) {\n",
       "        var fmt = mpl.extensions[ind];\n",
       "        var option = $(\n",
       "            '<option/>', {selected: fmt === mpl.default_extension}).html(fmt);\n",
       "        fmt_picker.append(option)\n",
       "    }\n",
       "\n",
       "    // Add hover states to the ui-buttons\n",
       "    $( \".ui-button\" ).hover(\n",
       "        function() { $(this).addClass(\"ui-state-hover\");},\n",
       "        function() { $(this).removeClass(\"ui-state-hover\");}\n",
       "    );\n",
       "\n",
       "    var status_bar = $('<span class=\"mpl-message\"/>');\n",
       "    nav_element.append(status_bar);\n",
       "    this.message = status_bar[0];\n",
       "}\n",
       "\n",
       "mpl.figure.prototype.request_resize = function(x_pixels, y_pixels) {\n",
       "    // Request matplotlib to resize the figure. Matplotlib will then trigger a resize in the client,\n",
       "    // which will in turn request a refresh of the image.\n",
       "    this.send_message('resize', {'width': x_pixels, 'height': y_pixels});\n",
       "}\n",
       "\n",
       "mpl.figure.prototype.send_message = function(type, properties) {\n",
       "    properties['type'] = type;\n",
       "    properties['figure_id'] = this.id;\n",
       "    this.ws.send(JSON.stringify(properties));\n",
       "}\n",
       "\n",
       "mpl.figure.prototype.send_draw_message = function() {\n",
       "    if (!this.waiting) {\n",
       "        this.waiting = true;\n",
       "        this.ws.send(JSON.stringify({type: \"draw\", figure_id: this.id}));\n",
       "    }\n",
       "}\n",
       "\n",
       "\n",
       "mpl.figure.prototype.handle_save = function(fig, msg) {\n",
       "    var format_dropdown = fig.format_dropdown;\n",
       "    var format = format_dropdown.options[format_dropdown.selectedIndex].value;\n",
       "    fig.ondownload(fig, format);\n",
       "}\n",
       "\n",
       "\n",
       "mpl.figure.prototype.handle_resize = function(fig, msg) {\n",
       "    var size = msg['size'];\n",
       "    if (size[0] != fig.canvas.width || size[1] != fig.canvas.height) {\n",
       "        fig._resize_canvas(size[0], size[1]);\n",
       "        fig.send_message(\"refresh\", {});\n",
       "    };\n",
       "}\n",
       "\n",
       "mpl.figure.prototype.handle_rubberband = function(fig, msg) {\n",
       "    var x0 = msg['x0'] / mpl.ratio;\n",
       "    var y0 = (fig.canvas.height - msg['y0']) / mpl.ratio;\n",
       "    var x1 = msg['x1'] / mpl.ratio;\n",
       "    var y1 = (fig.canvas.height - msg['y1']) / mpl.ratio;\n",
       "    x0 = Math.floor(x0) + 0.5;\n",
       "    y0 = Math.floor(y0) + 0.5;\n",
       "    x1 = Math.floor(x1) + 0.5;\n",
       "    y1 = Math.floor(y1) + 0.5;\n",
       "    var min_x = Math.min(x0, x1);\n",
       "    var min_y = Math.min(y0, y1);\n",
       "    var width = Math.abs(x1 - x0);\n",
       "    var height = Math.abs(y1 - y0);\n",
       "\n",
       "    fig.rubberband_context.clearRect(\n",
       "        0, 0, fig.canvas.width, fig.canvas.height);\n",
       "\n",
       "    fig.rubberband_context.strokeRect(min_x, min_y, width, height);\n",
       "}\n",
       "\n",
       "mpl.figure.prototype.handle_figure_label = function(fig, msg) {\n",
       "    // Updates the figure title.\n",
       "    fig.header.textContent = msg['label'];\n",
       "}\n",
       "\n",
       "mpl.figure.prototype.handle_cursor = function(fig, msg) {\n",
       "    var cursor = msg['cursor'];\n",
       "    switch(cursor)\n",
       "    {\n",
       "    case 0:\n",
       "        cursor = 'pointer';\n",
       "        break;\n",
       "    case 1:\n",
       "        cursor = 'default';\n",
       "        break;\n",
       "    case 2:\n",
       "        cursor = 'crosshair';\n",
       "        break;\n",
       "    case 3:\n",
       "        cursor = 'move';\n",
       "        break;\n",
       "    }\n",
       "    fig.rubberband_canvas.style.cursor = cursor;\n",
       "}\n",
       "\n",
       "mpl.figure.prototype.handle_message = function(fig, msg) {\n",
       "    fig.message.textContent = msg['message'];\n",
       "}\n",
       "\n",
       "mpl.figure.prototype.handle_draw = function(fig, msg) {\n",
       "    // Request the server to send over a new figure.\n",
       "    fig.send_draw_message();\n",
       "}\n",
       "\n",
       "mpl.figure.prototype.handle_image_mode = function(fig, msg) {\n",
       "    fig.image_mode = msg['mode'];\n",
       "}\n",
       "\n",
       "mpl.figure.prototype.updated_canvas_event = function() {\n",
       "    // Called whenever the canvas gets updated.\n",
       "    this.send_message(\"ack\", {});\n",
       "}\n",
       "\n",
       "// A function to construct a web socket function for onmessage handling.\n",
       "// Called in the figure constructor.\n",
       "mpl.figure.prototype._make_on_message_function = function(fig) {\n",
       "    return function socket_on_message(evt) {\n",
       "        if (evt.data instanceof Blob) {\n",
       "            /* FIXME: We get \"Resource interpreted as Image but\n",
       "             * transferred with MIME type text/plain:\" errors on\n",
       "             * Chrome.  But how to set the MIME type?  It doesn't seem\n",
       "             * to be part of the websocket stream */\n",
       "            evt.data.type = \"image/png\";\n",
       "\n",
       "            /* Free the memory for the previous frames */\n",
       "            if (fig.imageObj.src) {\n",
       "                (window.URL || window.webkitURL).revokeObjectURL(\n",
       "                    fig.imageObj.src);\n",
       "            }\n",
       "\n",
       "            fig.imageObj.src = (window.URL || window.webkitURL).createObjectURL(\n",
       "                evt.data);\n",
       "            fig.updated_canvas_event();\n",
       "            fig.waiting = false;\n",
       "            return;\n",
       "        }\n",
       "        else if (typeof evt.data === 'string' && evt.data.slice(0, 21) == \"data:image/png;base64\") {\n",
       "            fig.imageObj.src = evt.data;\n",
       "            fig.updated_canvas_event();\n",
       "            fig.waiting = false;\n",
       "            return;\n",
       "        }\n",
       "\n",
       "        var msg = JSON.parse(evt.data);\n",
       "        var msg_type = msg['type'];\n",
       "\n",
       "        // Call the  \"handle_{type}\" callback, which takes\n",
       "        // the figure and JSON message as its only arguments.\n",
       "        try {\n",
       "            var callback = fig[\"handle_\" + msg_type];\n",
       "        } catch (e) {\n",
       "            console.log(\"No handler for the '\" + msg_type + \"' message type: \", msg);\n",
       "            return;\n",
       "        }\n",
       "\n",
       "        if (callback) {\n",
       "            try {\n",
       "                // console.log(\"Handling '\" + msg_type + \"' message: \", msg);\n",
       "                callback(fig, msg);\n",
       "            } catch (e) {\n",
       "                console.log(\"Exception inside the 'handler_\" + msg_type + \"' callback:\", e, e.stack, msg);\n",
       "            }\n",
       "        }\n",
       "    };\n",
       "}\n",
       "\n",
       "// from http://stackoverflow.com/questions/1114465/getting-mouse-location-in-canvas\n",
       "mpl.findpos = function(e) {\n",
       "    //this section is from http://www.quirksmode.org/js/events_properties.html\n",
       "    var targ;\n",
       "    if (!e)\n",
       "        e = window.event;\n",
       "    if (e.target)\n",
       "        targ = e.target;\n",
       "    else if (e.srcElement)\n",
       "        targ = e.srcElement;\n",
       "    if (targ.nodeType == 3) // defeat Safari bug\n",
       "        targ = targ.parentNode;\n",
       "\n",
       "    // jQuery normalizes the pageX and pageY\n",
       "    // pageX,Y are the mouse positions relative to the document\n",
       "    // offset() returns the position of the element relative to the document\n",
       "    var x = e.pageX - $(targ).offset().left;\n",
       "    var y = e.pageY - $(targ).offset().top;\n",
       "\n",
       "    return {\"x\": x, \"y\": y};\n",
       "};\n",
       "\n",
       "/*\n",
       " * return a copy of an object with only non-object keys\n",
       " * we need this to avoid circular references\n",
       " * http://stackoverflow.com/a/24161582/3208463\n",
       " */\n",
       "function simpleKeys (original) {\n",
       "  return Object.keys(original).reduce(function (obj, key) {\n",
       "    if (typeof original[key] !== 'object')\n",
       "        obj[key] = original[key]\n",
       "    return obj;\n",
       "  }, {});\n",
       "}\n",
       "\n",
       "mpl.figure.prototype.mouse_event = function(event, name) {\n",
       "    var canvas_pos = mpl.findpos(event)\n",
       "\n",
       "    if (name === 'button_press')\n",
       "    {\n",
       "        this.canvas.focus();\n",
       "        this.canvas_div.focus();\n",
       "    }\n",
       "\n",
       "    var x = canvas_pos.x * mpl.ratio;\n",
       "    var y = canvas_pos.y * mpl.ratio;\n",
       "\n",
       "    this.send_message(name, {x: x, y: y, button: event.button,\n",
       "                             step: event.step,\n",
       "                             guiEvent: simpleKeys(event)});\n",
       "\n",
       "    /* This prevents the web browser from automatically changing to\n",
       "     * the text insertion cursor when the button is pressed.  We want\n",
       "     * to control all of the cursor setting manually through the\n",
       "     * 'cursor' event from matplotlib */\n",
       "    event.preventDefault();\n",
       "    return false;\n",
       "}\n",
       "\n",
       "mpl.figure.prototype._key_event_extra = function(event, name) {\n",
       "    // Handle any extra behaviour associated with a key event\n",
       "}\n",
       "\n",
       "mpl.figure.prototype.key_event = function(event, name) {\n",
       "\n",
       "    // Prevent repeat events\n",
       "    if (name == 'key_press')\n",
       "    {\n",
       "        if (event.which === this._key)\n",
       "            return;\n",
       "        else\n",
       "            this._key = event.which;\n",
       "    }\n",
       "    if (name == 'key_release')\n",
       "        this._key = null;\n",
       "\n",
       "    var value = '';\n",
       "    if (event.ctrlKey && event.which != 17)\n",
       "        value += \"ctrl+\";\n",
       "    if (event.altKey && event.which != 18)\n",
       "        value += \"alt+\";\n",
       "    if (event.shiftKey && event.which != 16)\n",
       "        value += \"shift+\";\n",
       "\n",
       "    value += 'k';\n",
       "    value += event.which.toString();\n",
       "\n",
       "    this._key_event_extra(event, name);\n",
       "\n",
       "    this.send_message(name, {key: value,\n",
       "                             guiEvent: simpleKeys(event)});\n",
       "    return false;\n",
       "}\n",
       "\n",
       "mpl.figure.prototype.toolbar_button_onclick = function(name) {\n",
       "    if (name == 'download') {\n",
       "        this.handle_save(this, null);\n",
       "    } else {\n",
       "        this.send_message(\"toolbar_button\", {name: name});\n",
       "    }\n",
       "};\n",
       "\n",
       "mpl.figure.prototype.toolbar_button_onmouseover = function(tooltip) {\n",
       "    this.message.textContent = tooltip;\n",
       "};\n",
       "mpl.toolbar_items = [[\"Home\", \"Reset original view\", \"fa fa-home icon-home\", \"home\"], [\"Back\", \"Back to  previous view\", \"fa fa-arrow-left icon-arrow-left\", \"back\"], [\"Forward\", \"Forward to next view\", \"fa fa-arrow-right icon-arrow-right\", \"forward\"], [\"\", \"\", \"\", \"\"], [\"Pan\", \"Pan axes with left mouse, zoom with right\", \"fa fa-arrows icon-move\", \"pan\"], [\"Zoom\", \"Zoom to rectangle\", \"fa fa-square-o icon-check-empty\", \"zoom\"], [\"\", \"\", \"\", \"\"], [\"Download\", \"Download plot\", \"fa fa-floppy-o icon-save\", \"download\"]];\n",
       "\n",
       "mpl.extensions = [\"eps\", \"jpeg\", \"pdf\", \"png\", \"ps\", \"raw\", \"svg\", \"tif\"];\n",
       "\n",
       "mpl.default_extension = \"png\";var comm_websocket_adapter = function(comm) {\n",
       "    // Create a \"websocket\"-like object which calls the given IPython comm\n",
       "    // object with the appropriate methods. Currently this is a non binary\n",
       "    // socket, so there is still some room for performance tuning.\n",
       "    var ws = {};\n",
       "\n",
       "    ws.close = function() {\n",
       "        comm.close()\n",
       "    };\n",
       "    ws.send = function(m) {\n",
       "        //console.log('sending', m);\n",
       "        comm.send(m);\n",
       "    };\n",
       "    // Register the callback with on_msg.\n",
       "    comm.on_msg(function(msg) {\n",
       "        //console.log('receiving', msg['content']['data'], msg);\n",
       "        // Pass the mpl event to the overridden (by mpl) onmessage function.\n",
       "        ws.onmessage(msg['content']['data'])\n",
       "    });\n",
       "    return ws;\n",
       "}\n",
       "\n",
       "mpl.mpl_figure_comm = function(comm, msg) {\n",
       "    // This is the function which gets called when the mpl process\n",
       "    // starts-up an IPython Comm through the \"matplotlib\" channel.\n",
       "\n",
       "    var id = msg.content.data.id;\n",
       "    // Get hold of the div created by the display call when the Comm\n",
       "    // socket was opened in Python.\n",
       "    var element = $(\"#\" + id);\n",
       "    var ws_proxy = comm_websocket_adapter(comm)\n",
       "\n",
       "    function ondownload(figure, format) {\n",
       "        window.open(figure.imageObj.src);\n",
       "    }\n",
       "\n",
       "    var fig = new mpl.figure(id, ws_proxy,\n",
       "                           ondownload,\n",
       "                           element.get(0));\n",
       "\n",
       "    // Call onopen now - mpl needs it, as it is assuming we've passed it a real\n",
       "    // web socket which is closed, not our websocket->open comm proxy.\n",
       "    ws_proxy.onopen();\n",
       "\n",
       "    fig.parent_element = element.get(0);\n",
       "    fig.cell_info = mpl.find_output_cell(\"<div id='\" + id + \"'></div>\");\n",
       "    if (!fig.cell_info) {\n",
       "        console.error(\"Failed to find cell for figure\", id, fig);\n",
       "        return;\n",
       "    }\n",
       "\n",
       "    var output_index = fig.cell_info[2]\n",
       "    var cell = fig.cell_info[0];\n",
       "\n",
       "};\n",
       "\n",
       "mpl.figure.prototype.handle_close = function(fig, msg) {\n",
       "    var width = fig.canvas.width/mpl.ratio\n",
       "    fig.root.unbind('remove')\n",
       "\n",
       "    // Update the output cell to use the data from the current canvas.\n",
       "    fig.push_to_output();\n",
       "    var dataURL = fig.canvas.toDataURL();\n",
       "    // Re-enable the keyboard manager in IPython - without this line, in FF,\n",
       "    // the notebook keyboard shortcuts fail.\n",
       "    IPython.keyboard_manager.enable()\n",
       "    $(fig.parent_element).html('<img src=\"' + dataURL + '\" width=\"' + width + '\">');\n",
       "    fig.close_ws(fig, msg);\n",
       "}\n",
       "\n",
       "mpl.figure.prototype.close_ws = function(fig, msg){\n",
       "    fig.send_message('closing', msg);\n",
       "    // fig.ws.close()\n",
       "}\n",
       "\n",
       "mpl.figure.prototype.push_to_output = function(remove_interactive) {\n",
       "    // Turn the data on the canvas into data in the output cell.\n",
       "    var width = this.canvas.width/mpl.ratio\n",
       "    var dataURL = this.canvas.toDataURL();\n",
       "    this.cell_info[1]['text/html'] = '<img src=\"' + dataURL + '\" width=\"' + width + '\">';\n",
       "}\n",
       "\n",
       "mpl.figure.prototype.updated_canvas_event = function() {\n",
       "    // Tell IPython that the notebook contents must change.\n",
       "    IPython.notebook.set_dirty(true);\n",
       "    this.send_message(\"ack\", {});\n",
       "    var fig = this;\n",
       "    // Wait a second, then push the new image to the DOM so\n",
       "    // that it is saved nicely (might be nice to debounce this).\n",
       "    setTimeout(function () { fig.push_to_output() }, 1000);\n",
       "}\n",
       "\n",
       "mpl.figure.prototype._init_toolbar = function() {\n",
       "    var fig = this;\n",
       "\n",
       "    var nav_element = $('<div/>')\n",
       "    nav_element.attr('style', 'width: 100%');\n",
       "    this.root.append(nav_element);\n",
       "\n",
       "    // Define a callback function for later on.\n",
       "    function toolbar_event(event) {\n",
       "        return fig.toolbar_button_onclick(event['data']);\n",
       "    }\n",
       "    function toolbar_mouse_event(event) {\n",
       "        return fig.toolbar_button_onmouseover(event['data']);\n",
       "    }\n",
       "\n",
       "    for(var toolbar_ind in mpl.toolbar_items){\n",
       "        var name = mpl.toolbar_items[toolbar_ind][0];\n",
       "        var tooltip = mpl.toolbar_items[toolbar_ind][1];\n",
       "        var image = mpl.toolbar_items[toolbar_ind][2];\n",
       "        var method_name = mpl.toolbar_items[toolbar_ind][3];\n",
       "\n",
       "        if (!name) { continue; };\n",
       "\n",
       "        var button = $('<button class=\"btn btn-default\" href=\"#\" title=\"' + name + '\"><i class=\"fa ' + image + ' fa-lg\"></i></button>');\n",
       "        button.click(method_name, toolbar_event);\n",
       "        button.mouseover(tooltip, toolbar_mouse_event);\n",
       "        nav_element.append(button);\n",
       "    }\n",
       "\n",
       "    // Add the status bar.\n",
       "    var status_bar = $('<span class=\"mpl-message\" style=\"text-align:right; float: right;\"/>');\n",
       "    nav_element.append(status_bar);\n",
       "    this.message = status_bar[0];\n",
       "\n",
       "    // Add the close button to the window.\n",
       "    var buttongrp = $('<div class=\"btn-group inline pull-right\"></div>');\n",
       "    var button = $('<button class=\"btn btn-mini btn-primary\" href=\"#\" title=\"Stop Interaction\"><i class=\"fa fa-power-off icon-remove icon-large\"></i></button>');\n",
       "    button.click(function (evt) { fig.handle_close(fig, {}); } );\n",
       "    button.mouseover('Stop Interaction', toolbar_mouse_event);\n",
       "    buttongrp.append(button);\n",
       "    var titlebar = this.root.find($('.ui-dialog-titlebar'));\n",
       "    titlebar.prepend(buttongrp);\n",
       "}\n",
       "\n",
       "mpl.figure.prototype._root_extra_style = function(el){\n",
       "    var fig = this\n",
       "    el.on(\"remove\", function(){\n",
       "\tfig.close_ws(fig, {});\n",
       "    });\n",
       "}\n",
       "\n",
       "mpl.figure.prototype._canvas_extra_style = function(el){\n",
       "    // this is important to make the div 'focusable\n",
       "    el.attr('tabindex', 0)\n",
       "    // reach out to IPython and tell the keyboard manager to turn it's self\n",
       "    // off when our div gets focus\n",
       "\n",
       "    // location in version 3\n",
       "    if (IPython.notebook.keyboard_manager) {\n",
       "        IPython.notebook.keyboard_manager.register_events(el);\n",
       "    }\n",
       "    else {\n",
       "        // location in version 2\n",
       "        IPython.keyboard_manager.register_events(el);\n",
       "    }\n",
       "\n",
       "}\n",
       "\n",
       "mpl.figure.prototype._key_event_extra = function(event, name) {\n",
       "    var manager = IPython.notebook.keyboard_manager;\n",
       "    if (!manager)\n",
       "        manager = IPython.keyboard_manager;\n",
       "\n",
       "    // Check for shift+enter\n",
       "    if (event.shiftKey && event.which == 13) {\n",
       "        this.canvas_div.blur();\n",
       "        event.shiftKey = false;\n",
       "        // Send a \"J\" for go to next cell\n",
       "        event.which = 74;\n",
       "        event.keyCode = 74;\n",
       "        manager.command_mode();\n",
       "        manager.handle_keydown(event);\n",
       "    }\n",
       "}\n",
       "\n",
       "mpl.figure.prototype.handle_save = function(fig, msg) {\n",
       "    fig.ondownload(fig, null);\n",
       "}\n",
       "\n",
       "\n",
       "mpl.find_output_cell = function(html_output) {\n",
       "    // Return the cell and output element which can be found *uniquely* in the notebook.\n",
       "    // Note - this is a bit hacky, but it is done because the \"notebook_saving.Notebook\"\n",
       "    // IPython event is triggered only after the cells have been serialised, which for\n",
       "    // our purposes (turning an active figure into a static one), is too late.\n",
       "    var cells = IPython.notebook.get_cells();\n",
       "    var ncells = cells.length;\n",
       "    for (var i=0; i<ncells; i++) {\n",
       "        var cell = cells[i];\n",
       "        if (cell.cell_type === 'code'){\n",
       "            for (var j=0; j<cell.output_area.outputs.length; j++) {\n",
       "                var data = cell.output_area.outputs[j];\n",
       "                if (data.data) {\n",
       "                    // IPython >= 3 moved mimebundle to data attribute of output\n",
       "                    data = data.data;\n",
       "                }\n",
       "                if (data['text/html'] == html_output) {\n",
       "                    return [cell, data, j];\n",
       "                }\n",
       "            }\n",
       "        }\n",
       "    }\n",
       "}\n",
       "\n",
       "// Register the function which deals with the matplotlib target/channel.\n",
       "// The kernel may be null if the page has been refreshed.\n",
       "if (IPython.notebook.kernel != null) {\n",
       "    IPython.notebook.kernel.comm_manager.register_target('matplotlib', mpl.mpl_figure_comm);\n",
       "}\n"
      ],
      "text/plain": [
       "<IPython.core.display.Javascript object>"
      ]
     },
     "metadata": {},
     "output_type": "display_data"
    },
    {
     "data": {
      "text/html": [
       "<img src=\"data:image/png;base64,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\" width=\"431.1111225316557\">"
      ],
      "text/plain": [
       "<IPython.core.display.HTML object>"
      ]
     },
     "metadata": {},
     "output_type": "display_data"
    }
   ],
   "source": [
    "#### optional code snippet, Run this part if you wish to visualise the data as a video. The below sequence makes use\n",
    "#### of conventional images frames and is not used anywhere else later in the notebook\n",
    "fig = plt.figure()\n",
    "ax = fig.add_subplot(111)\n",
    "plt.ion()\n",
    "\n",
    "fig.canvas.draw()\n",
    "ax.axis()\n",
    "for image in normal_imgs:\n",
    "    ax.clear()\n",
    "    ax.imshow(plt.imread(image), cmap='gray')\n",
    "    fig.canvas.draw()"
   ]
  },
  {
   "cell_type": "markdown",
   "metadata": {
    "nbpresent": {
     "id": "84c5d1f8-35e4-414a-b682-f103c5c60fa8"
    },
    "slideshow": {
     "slide_type": "slide"
    }
   },
   "source": [
    "<a id=\"data\"></a>\n",
    "## 2. Data Available and Data format\n"
   ]
  },
  {
   "cell_type": "markdown",
   "metadata": {
    "nbpresent": {
     "id": "80545f0e-3a2b-44c4-ad62-f7f729eb4fc5"
    },
    "slideshow": {
     "slide_type": "fragment"
    }
   },
   "source": [
    "Data namely, event data, imu data, calibration parameters, and ground truth data are stored in txt files. There is also an 'images.txt' file which gives the timestamps at which synchronous event stream was captured. The format of the data is as shown below. "
   ]
  },
  {
   "cell_type": "markdown",
   "metadata": {
    "nbpresent": {
     "id": "0f1ca28d-743a-496a-ab40-f89f123a332e"
    },
    "slideshow": {
     "slide_type": "fragment"
    }
   },
   "source": [
    "![description of dataset format](Images/data_format_emvs.png)"
   ]
  },
  {
   "cell_type": "markdown",
   "metadata": {
    "nbpresent": {
     "id": "272f2c1e-d16e-45ab-a5f9-d2038b5b994a"
    },
    "slideshow": {
     "slide_type": "slide"
    }
   },
   "source": [
    "<a id=\"cam_mat\"></a>\n",
    "### 2.1 Camera Matrix"
   ]
  },
  {
   "cell_type": "markdown",
   "metadata": {
    "nbpresent": {
     "id": "e2af89e3-50e3-4286-8d40-6fa6b426c131"
    },
    "slideshow": {
     "slide_type": "fragment"
    }
   },
   "source": [
    "Every camera has a calibration matrix which is dependant on the intrinsic and extrinsic parameters. We obtain these parameters from the <i>calib.txt</i> file."
   ]
  },
  {
   "cell_type": "code",
   "execution_count": 6,
   "metadata": {
    "nbpresent": {
     "id": "42683b3e-0bdf-4ae8-8f12-9239966a3a90"
    },
    "slideshow": {
     "slide_type": "subslide"
    }
   },
   "outputs": [],
   "source": [
    "def return_camera_matrix(filename='calib.txt'):\n",
    "    '''\n",
    "    Returns the camera matrix for the given dataset based on calibration parameters.\n",
    "    \n",
    "    Parameters:\n",
    "    -----------\n",
    "    filename : <string>\n",
    "        name of the text file where the camera parameters are stored\n",
    "    \n",
    "    Return:\n",
    "    -------\n",
    "    camera_mat: <np.array>\n",
    "        The camera matrix for the parameters mentioned in the calibration file\n",
    "    '''\n",
    "    \n",
    "    file = open(data_path +'/' + filename, \"r\")\n",
    "    cam_par = list(map(float,file.readline().split()))\n",
    "    file.close()\n",
    "    fx, fy, cx, cy, k1, k2, p1, p2, k3 = [par for par in cam_par]\n",
    "    print(fx, fy)\n",
    "    camera_mat = np.array([[fx,  0, cx],\n",
    "                           [ 0, fy, cy],\n",
    "                           [ 0,  0,  1]])\n",
    "    return camera_mat, [cx, cy, k1, k2, p1, p2, k3]"
   ]
  },
  {
   "cell_type": "markdown",
   "metadata": {},
   "source": [
    "## Ignore----------------------------------------------------------------------------------------------------\n",
    "camera_matrix=[fx 0 cx; 0 fy cy; 0 0 1]\n",
    "// P=[fx' 0 cx' tx; 0 fy' cy' ty; 0 0 1 tz]\n",
    "x\" = (u - cx)/fx\n",
    "y\" = (v - cy)/fy\n",
    "(x',y') = undistort(x\",y\",dist_coeffs)\n",
    "[X,Y,W]T = R*[x' y' 1]T\n",
    "x = X/W, y = Y/W\n",
    "// only performed if P=[fx' 0 cx' [tx]; 0 fy' cy' [ty]; 0 0 1 [tz]] is specified\n",
    "    u' = x*fx' + cx'\n",
    "    v' = y*fy' + cy',\n",
    "## -----------------------------------------------------------------------------------------------------------"
   ]
  },
  {
   "cell_type": "code",
   "execution_count": 7,
   "metadata": {
    "nbpresent": {
     "id": "48cd64ef-830b-4c7c-bdc9-1f56613b9711"
    },
    "slideshow": {
     "slide_type": "subslide"
    }
   },
   "outputs": [],
   "source": [
    "def make_distortion_dict(distortion_params, cam_shape):\n",
    "    '''\n",
    "    Utility under consideration\n",
    "    '''\n",
    "    cx, cy, k1, k2, p1, p2, k3 = distortion_params\n",
    "    \n",
    "    distortion_dict = dict()\n",
    "    \n",
    "    for u in range(cam_shape[0]):\n",
    "        for v in range(cam_shape[1]):\n",
    "            radial_multiplicand  = np.array([u-cx, v-cy]).reshape(2, 1) \n",
    "            r_2 = (u - cx)**2 + (v - cy)**2   \n",
    "            radial_dist_const = 1 + k1*r_2 + k2*(r_2**2) + k3*(r_2**3)\n",
    "            \n",
    "            tangential_dist_term = np.array([2*p1*(u - cx)*(v - cy) + p2*(r_2 + 2*(u - cx)**2), \n",
    "                                            p1*(r_2 + 2*(v - cy)**2) + 2*p2*(u - cx)*(v - cy)]).reshape(2,1)\n",
    "            \n",
    "            const_term = np.array([cx, cy]).reshape(2, 1)\n",
    "            distorted_params = radial_dist_const*radial_multiplicand + tangential_dist_term + const_term\n",
    "            print(r_2, radial_dist_const, tangential_dist_term)\n",
    "            print(distorted_params[0][0], distorted_params[1][0])\n",
    "            distortion_dict[distorted_params[0], distorted_params[1][0]] = np.array([u,v])\n",
    "\n",
    "    return distortion_dict"
   ]
  },
  {
   "cell_type": "code",
   "execution_count": 43,
   "metadata": {},
   "outputs": [],
   "source": [
    "points = [(x,y) for x in range(240) for y in range(160)]"
   ]
  },
  {
   "cell_type": "code",
   "execution_count": 8,
   "metadata": {},
   "outputs": [],
   "source": [
    "def undistortPoints(cam_mat, dimensions, keepSize=False):\n",
    "        '''\n",
    "        points --> list of (x,y) coordinates\n",
    "        '''\n",
    "        s = dimensions\n",
    "        points = [(x,y) for x in range(dimensions[0]) for y in range(dimensions[1])]\n",
    "        cam = self.coeffs['cameraMatrix']\n",
    "        d = self.coeffs['distortionCoeffs']\n",
    "\n",
    "        pts = np.asarray(points, dtype=np.float32)\n",
    "        if pts.ndim == 2:\n",
    "            pts = np.expand_dims(pts, axis=0)\n",
    "\n",
    "        (newCameraMatrix, roi) = cv2.getOptimalNewCameraMatrix(cam,\n",
    "                                                               d, s[::-1], 1,\n",
    "                                                               s[::-1])\n",
    "        if not keepSize:\n",
    "            xx, yy = roi[:2]\n",
    "            pts[0, 0] -= xx\n",
    "            pts[0, 1] -= yy\n",
    "\n",
    "        return cv2.undistortPoints(pts,\n",
    "                                   cam, d, P=newCameraMatrix) "
   ]
  },
  {
   "cell_type": "code",
   "execution_count": 34,
   "metadata": {
    "nbpresent": {
     "id": "adc9de1d-ac88-4b52-9aaf-002b48eb41ee"
    },
    "slideshow": {
     "slide_type": "subslide"
    }
   },
   "outputs": [
    {
     "name": "stdout",
     "output_type": "stream",
     "text": [
      "335.419462958 335.352935612\n"
     ]
    }
   ],
   "source": [
    "cam_mat, dist_params = return_camera_matrix()"
   ]
  },
  {
   "cell_type": "markdown",
   "metadata": {
    "nbpresent": {
     "id": "903569ec-e524-418b-af5e-f402d6b3ef3b"
    },
    "slideshow": {
     "slide_type": "slide"
    }
   },
   "source": [
    "<a id=\"event_data\"></a>\n",
    "### 2.2 Obtaining pose information relevant to events under consideration from the groundtruth files\n"
   ]
  },
  {
   "cell_type": "markdown",
   "metadata": {
    "nbpresent": {
     "id": "799fc47c-8ba4-4b01-bf27-97b1e9d8a4a9"
    },
    "slideshow": {
     "slide_type": "fragment"
    }
   },
   "source": [
    "The objective is to get an event and its corresponding pose for that particular time stamp. Since the number of events are huge and the homographies are expensive to compute, a batch of events (256 here) is assigned the same pose information.  The code snippets below serve this particular fucntion."
   ]
  },
  {
   "cell_type": "code",
   "execution_count": 9,
   "metadata": {
    "nbpresent": {
     "id": "08d4f60b-466c-45ad-b7ad-e2c6ab14d170"
    },
    "slideshow": {
     "slide_type": "subslide"
    }
   },
   "outputs": [],
   "source": [
    "from itertools import islice\n",
    "\n",
    "def bundle_events(batch_number, filename='events.txt', batch_size = 256):\n",
    "    ''' \n",
    "    Return a batch of events from the file containing event information. Sometimes the event file can run into several \n",
    "    Gigabytes of storage. This is why a file is opened and closed everytime a batch of events needs to be read.\n",
    "    \n",
    "    Parameters:\n",
    "    -----------\n",
    "    batch_number : <int>\n",
    "        The nth batch which needs to be read\n",
    "    filename : <string>\n",
    "    \n",
    "    Return:\n",
    "    -------\n",
    "    events : <list>\n",
    "        events of the form [start_time, ex, ey, polarity]\n",
    "    event_start_time: <float>\n",
    "        The starting time of the current batch of events\n",
    "    '''\n",
    "    events=[]\n",
    "    file = open(data_path +'/' + filename, \"r\")\n",
    "    head = list(islice(file, batch_number * batch_size, (batch_number + 1)*batch_size))\n",
    "    #return timestamp of first event in the batch\n",
    "    event_start_time = list(map(float,head[0].split()))[0] \n",
    "    events = [list(map(float,line.split())) for line in head]\n",
    "    file.close()\n",
    "    return events, event_start_time"
   ]
  },
  {
   "cell_type": "code",
   "execution_count": 135,
   "metadata": {
    "nbpresent": {
     "id": "3a969ca7-8b2c-48cf-8410-4e5eaedde960"
    },
    "slideshow": {
     "slide_type": "skip"
    }
   },
   "outputs": [
    {
     "name": "stdout",
     "output_type": "stream",
     "text": [
      "0.048514001\n"
     ]
    }
   ],
   "source": [
    "events, event_start_time = bundle_events(batch_number=40)\n",
    "print(event_start_time)"
   ]
  },
  {
   "cell_type": "code",
   "execution_count": 136,
   "metadata": {},
   "outputs": [],
   "source": [
    "%lprun -f  bundle_events bundle_events(batch_number=40)"
   ]
  },
  {
   "cell_type": "code",
   "execution_count": 15,
   "metadata": {},
   "outputs": [
    {
     "name": "stdout",
     "output_type": "stream",
     "text": [
      "2.54 ms ± 30.3 µs per loop (mean ± std. dev. of 7 runs, 100 loops each)\n"
     ]
    }
   ],
   "source": [
    "%timeit bundle_events(batch_number=40)"
   ]
  },
  {
   "cell_type": "markdown",
   "metadata": {
    "nbpresent": {
     "id": "83e690d8-1f07-44c0-802e-810a700fab05"
    },
    "slideshow": {
     "slide_type": "subslide"
    }
   },
   "source": [
    "The pose is sampled at frequencies lower than the event data. In order to capture pose information for an event at some timestamp, it is thus necessary to linearly interpolate the pose data for that timestamp. As the trajectory is continuous and the sampling time is very small, we can assume the path between two timesteps to be fairly linear."
   ]
  },
  {
   "cell_type": "code",
   "execution_count": 10,
   "metadata": {
    "nbpresent": {
     "id": "f521d426-e19d-4e56-b326-bd2681652ec1"
    },
    "slideshow": {
     "slide_type": "subslide"
    }
   },
   "outputs": [],
   "source": [
    "def get_ground_truth_pose(event_start_time, filename='groundtruth.txt'):\n",
    "    \n",
    "    ''' \n",
    "    This function returns the the groundtruth pose for an event depending on the timestamp \n",
    "    of the input given as input to the function. If pose of the event is linearly interpolated \n",
    "    if the timestamp of the event given falls in between the timestamps of the poses of the two \n",
    "    events\n",
    "    \n",
    "    Parameters:\n",
    "    -----------\n",
    "    event_start_time : <float>\n",
    "        timestamp of event for which pose information is to be estimated\n",
    "    filename : <string>\n",
    "        name of the file containing the groundtruth\n",
    "        \n",
    "    Return:\n",
    "    -------\n",
    "    pose : <list> of format [timestamp, px, py, pz, qx, qy, qz, qw]\n",
    "        Returns a list describing the pose at the timestamp given by the event\n",
    "    \n",
    "    '''\n",
    "    file = open(data_path +'/' + filename, \"r\")\n",
    "    prev_pose = [0, 0, 0, 0, 0, 0, 0, 1]\n",
    "    prev_time = prev_pose[0]  #start with initial time 0s \n",
    "    \n",
    "    for line in file:\n",
    "        current_pose = list(map(float,line.split()))\n",
    "        current_time = current_pose[0]\n",
    "        \n",
    "        if event_start_time == current_time:\n",
    "            file.close()\n",
    "            return np.array(current_pose) #pose information for that time-step\n",
    "        \n",
    "        elif event_start_time > prev_time and event_start_time < current_time:\n",
    "            file.close()\n",
    "            return linearly_interpolated_pose(current_pose, prev_pose, event_start_time) \n",
    "            \n",
    "        elif event_start_time > current_time:\n",
    "            prev_pose = current_pose\n",
    "            prev_time = prev_pose[0]"
   ]
  },
  {
   "cell_type": "code",
   "execution_count": 22,
   "metadata": {
    "nbpresent": {
     "id": "1e648d98-2cb8-4938-827e-1da24c84e581"
    },
    "slideshow": {
     "slide_type": "subslide"
    }
   },
   "outputs": [],
   "source": [
    "def linearly_interpolated_pose(pose_t, pose_t_minus_1, time_bet):\n",
    "    \n",
    "    ''' \n",
    "    Function to linearly interpolate the quaternion and translation values for the timesteps provided\n",
    "    \n",
    "    Parameters:\n",
    "    -----------\n",
    "    pose_t : <list>\n",
    "        list containing pose information of the time step greater than required time \n",
    "    pose_t_minus_1 : <list>\n",
    "        list containing pose information of the time step lesser than required time\n",
    "    time_bet: <float>\n",
    "        Time for which pose information is required\n",
    "    \n",
    "    Return:\n",
    "    -------\n",
    "    estimated_pose : <list>\n",
    "        Returns a list containing the linearly interpolated pose estimate\n",
    "    '''\n",
    "    \n",
    "    # We will doing slerp on quaternions and linear intepolation on the translation vectors\n",
    "    estimated_pose = []\n",
    "    interpolater = time_bet/(pose_t[0] - pose_t_minus_1[0])\n",
    "    \n",
    "    interpolated_translation = interpolater *(np.array(pose_t[1:4]) - np.array(pose_t_minus_1[1:4]))\n",
    "    \n",
    "    \n",
    "    pose_t_minus_1_qt = qt.Quaternion(pose_t_minus_1[7], pose_t_minus_1[4], pose_t_minus_1[5], pose_t_minus_1[6])\n",
    "    \n",
    "    pose_t_qt = qt.Quaternion(pose_t[7], pose_t[4], pose_t[5], pose_t[6]) \n",
    "    # the order of pose in the dataset and that used in the pyquaternion library is different, hence the restructuring\n",
    "    \n",
    "    interpolated_rotation = qt.Quaternion.slerp(pose_t_minus_1_qt, pose_t_qt, interpolater)\n",
    "    eqw ,eqx, eqy, eqz = interpolated_rotation.elements\n",
    "    px, py, pz = interpolated_translation\n",
    "    \n",
    "    return [time_bet, px, py, pz, eqx, eqy, eqz, eqw]"
   ]
  },
  {
   "cell_type": "markdown",
   "metadata": {
    "nbpresent": {
     "id": "adf4fae8-461f-4d0d-ac73-5e5a4bd8b02d"
    },
    "slideshow": {
     "slide_type": "fragment"
    }
   },
   "source": [
    "The below code is run to see how the pose information is calculated for different event times where the events are sampled in batches.vIn this case, the sampling of 10 batches of information is demonstrated."
   ]
  },
  {
   "cell_type": "code",
   "execution_count": 139,
   "metadata": {
    "nbpresent": {
     "id": "ee941717-2077-4031-9437-9172d08f33fa"
    },
    "slideshow": {
     "slide_type": "subslide"
    }
   },
   "outputs": [],
   "source": [
    "def get_info():\n",
    "    for batch in range(10):\n",
    "        events, event_start_time = bundle_events(batch)\n",
    "        info = get_ground_truth_pose(event_start_time)\n",
    "        #print('For batch number {}, the event starts at {} second with translation vector, t={} and rotational quaternion={}'\n",
    "              #.format(batch, info[0], info[1:4], info[4:]))\n",
    "    "
   ]
  },
  {
   "cell_type": "code",
   "execution_count": 140,
   "metadata": {},
   "outputs": [],
   "source": [
    "get_info()"
   ]
  },
  {
   "cell_type": "code",
   "execution_count": 21,
   "metadata": {},
   "outputs": [],
   "source": [
    "%lprun -f get_info get_info()"
   ]
  },
  {
   "cell_type": "code",
   "execution_count": 22,
   "metadata": {},
   "outputs": [
    {
     "name": "stdout",
     "output_type": "stream",
     "text": [
      "11.8 ms ± 135 µs per loop (mean ± std. dev. of 7 runs, 100 loops each)\n"
     ]
    }
   ],
   "source": [
    "%timeit get_info()"
   ]
  },
  {
   "cell_type": "markdown",
   "metadata": {},
   "source": [
    "This snippet gets translation and rotation in matrix form from the originally given quaternion form."
   ]
  },
  {
   "cell_type": "code",
   "execution_count": 11,
   "metadata": {},
   "outputs": [],
   "source": [
    "def get_translation_rotation(pose):\n",
    "    \n",
    "    '''\n",
    "    Get the translation vector and rotation matrix from the pose which contains a quaternion\n",
    "    \n",
    "    Parameters:\n",
    "    -----------\n",
    "    pose : <list>\n",
    "        A list contating the translation vectors and quaternion for rotation\n",
    "    \n",
    "    Return:\n",
    "    -------\n",
    "    t : <np.array, 1x3>\n",
    "        An array of translation co-ordinates\n",
    "    R : <np.array, 3x3>\n",
    "        A matrix containing the rotational information\n",
    "    '''\n",
    "    \n",
    "    pose_qt = qt.Quaternion(pose[7], pose[4], pose[5], pose[6])\n",
    "    R = pose_qt.rotation_matrix\n",
    "    t = np.array(pose[1:4]).reshape((3,1))\n",
    "    return t,R"
   ]
  },
  {
   "cell_type": "code",
   "execution_count": 142,
   "metadata": {},
   "outputs": [
    {
     "name": "stdout",
     "output_type": "stream",
     "text": [
      "Translation:\n",
      "[[0.01909425]\n",
      " [0.        ]\n",
      " [0.        ]] \n",
      " Rotation:\n",
      "[[1. 0. 0.]\n",
      " [0. 1. 0.]\n",
      " [0. 0. 1.]]\n"
     ]
    }
   ],
   "source": [
    "t, R = get_translation_rotation([0.003811, 0.019094251027136612, 0.0, 0.0, 0.0, 0.0, 0.0, 1.0])\n",
    "print(\"Translation:\\n{} \\n Rotation:\\n{}\".format(t, R))"
   ]
  },
  {
   "cell_type": "code",
   "execution_count": 143,
   "metadata": {},
   "outputs": [
    {
     "name": "stdout",
     "output_type": "stream",
     "text": [
      "45.6 µs ± 391 ns per loop (mean ± std. dev. of 7 runs, 10000 loops each)\n"
     ]
    }
   ],
   "source": [
    "%timeit get_translation_rotation([0.003811, 0.019094251027136612, 0.0, 0.0, 0.0, 0.0, 0.0, 1.0])"
   ]
  },
  {
   "cell_type": "code",
   "execution_count": 144,
   "metadata": {},
   "outputs": [],
   "source": [
    "t = np.array([0.019094251027136612, 0, 0]).reshape(3, 1)\n",
    "R = np.eye(3,3)"
   ]
  },
  {
   "cell_type": "markdown",
   "metadata": {
    "nbpresent": {
     "id": "e24b9c19-ee8a-4881-bdd0-9930eb9f5198"
    },
    "slideshow": {
     "slide_type": "slide"
    }
   },
   "source": [
    "<a id=\"stages\"></a>\n",
    "## 3. Stages of Reconstruction\n"
   ]
  },
  {
   "cell_type": "markdown",
   "metadata": {
    "collapsed": true,
    "nbpresent": {
     "id": "b5eb85aa-7c31-4042-ac2a-fecd401560d9"
    },
    "slideshow": {
     "slide_type": "fragment"
    }
   },
   "source": [
    "The algorithm for Event based Multi View Stereo proposed here uses five stages to do the reconstruction. It makes use of the Collins space sweep approach with a few changes. Projective sampling is used instead of uniform sampling. Also the thresholding is Adaptive Gaussian as opposed to Global thresholding used in Collins' algorithm."
   ]
  },
  {
   "cell_type": "markdown",
   "metadata": {
    "nbpresent": {
     "id": "c9fc3361-c0fc-41ca-84d0-41c31b489819"
    },
    "slideshow": {
     "slide_type": "slide"
    }
   },
   "source": [
    "<a id=\"stage_1\"></a>\n",
    "### 3.1 Backprojection\n"
   ]
  },
  {
   "cell_type": "markdown",
   "metadata": {
    "nbpresent": {
     "id": "091fc50b-a223-42a8-9848-5a171171f188"
    },
    "slideshow": {
     "slide_type": "fragment"
    }
   },
   "source": [
    "The 2-D points in the event stream are backprojected into a 3-D space. Since the event camera detects only edges, we can assume the rays corresponding to the same feature would intersect/ go very close to each in some unit volume."
   ]
  },
  {
   "cell_type": "markdown",
   "metadata": {
    "nbpresent": {
     "id": "882cd67b-6bb6-4847-87f5-29aad451ee5d"
    },
    "slideshow": {
     "slide_type": "fragment"
    }
   },
   "source": [
    "<img src=\"Images/backprojection.png\" alt=\"backprojection\" style=\"width: 400px;\"/>\n"
   ]
  },
  {
   "cell_type": "markdown",
   "metadata": {},
   "source": [
    "This snippet maps events from a view to the Z_0 plane"
   ]
  },
  {
   "cell_type": "code",
   "execution_count": 12,
   "metadata": {
    "slideshow": {
     "slide_type": "subslide"
    }
   },
   "outputs": [],
   "source": [
    "def map_to_reference_view(events, t, R):\n",
    "    '''\n",
    "    Function to find out the initial homography matrix to map event co-ordinates to the Z_0 plane of \n",
    "    the reference view\n",
    "    \n",
    "    Parameters:\n",
    "    -----------\n",
    "    events : <np.array, batch_sizex4>\n",
    "        A  containing event information namely [timestamp, ex, ey, polarity] of one batch of size batch_size\n",
    "    t : <np.array, 3x1>\n",
    "        The translation part of the pose\n",
    "    R : <np.array, 3x3>\n",
    "        The Rotational part of the pose\n",
    "        \n",
    "    Return:\n",
    "    -------\n",
    "    mapped_coordinates : <np.array, batch_sizex2>\n",
    "        all the x and y co-ordinates mapped to the reference Z_0\n",
    "    \n",
    "    '''\n",
    "    \n",
    "    co_ords = np.vstack((events[:, 1], events[:, 2], np.ones((events.shape[0], )))) \n",
    "    \n",
    "    e = np.reshape(np.array([0, 0, 1]), (1, 3)) \n",
    "    H_Z0  = np.linalg.inv(R + (t @ e)/Z_0)\n",
    "    mapped_coordinates = (H_Z0 @ co_ords).T      \n",
    "    #print (mapped_coordinates)\n",
    "    #if np.max(mapped_coordinates[:,0]) > 239 or np.max(mapped_coordinates[:,1]) > 179 :\n",
    "       # print(\" out of bounds {} and {}\".format(np.max(mapped_coordinates[:,0], np.max(mapped_coordinates[:,1])))\n",
    "    return mapped_coordinates[:,0:2] #is this correct or should it be normalised by the third column?"
   ]
  },
  {
   "cell_type": "code",
   "execution_count": 146,
   "metadata": {},
   "outputs": [],
   "source": [
    "n = np.array(events)"
   ]
  },
  {
   "cell_type": "code",
   "execution_count": 147,
   "metadata": {},
   "outputs": [],
   "source": [
    "ref_plane_mapped_events = map_to_reference_view(n, t, R)\n"
   ]
  },
  {
   "cell_type": "code",
   "execution_count": 148,
   "metadata": {},
   "outputs": [
    {
     "name": "stdout",
     "output_type": "stream",
     "text": [
      "91.3 µs ± 303 ns per loop (mean ± std. dev. of 7 runs, 10000 loops each)\n"
     ]
    }
   ],
   "source": [
    "%timeit map_to_reference_view(n, t, R)"
   ]
  },
  {
   "cell_type": "code",
   "execution_count": 13,
   "metadata": {},
   "outputs": [],
   "source": [
    "def homography(ref_plane_mapped_events, Z_i, t, R):\n",
    "    '''\n",
    "    Compute the homography for the input positions and  pose. The homography has been calculated as per\n",
    "    the methods outlined in the paper in section 7.1. Z_0 is defined as a global variable later in the code\n",
    "    \n",
    "    Parameters:\n",
    "    -----------\n",
    "    ref_plane_mapped_events : <np.array, batch_sizex2>\n",
    "        Event coordinates mapped to the reference plane\n",
    "        \n",
    "    Z_i : <int> \n",
    "        Current depth plane\n",
    "    t : <np.array, 1x3>\n",
    "        An array of translation co-ordinates\n",
    "    R : <np.array, 3x3>\n",
    "        A matrix containing the rotational information\n",
    "    Return:\n",
    "    -------\n",
    "    depth_plane_mapped_events : <np.array, batch_sizex2>\n",
    "        Event coordinates mapped to the current depth plane\n",
    "    '''\n",
    "    \n",
    "    Cx, Cy, Cz = -(R.T @ t).T[0]  # camera centers , fix this monstrosity\n",
    "    \n",
    "    delta = (Z_i - Z_0)/(Z_0 - Cz)\n",
    "    \n",
    "    m1 = np.vstack((ref_plane_mapped_events[:, 0], np.ones((ref_plane_mapped_events.shape[0]), dtype='float64')*Cx)).T\n",
    "    m2 = np.vstack((ref_plane_mapped_events[:, 1], np.ones((ref_plane_mapped_events.shape[0]), dtype='float64')*Cy)).T\n",
    "    \n",
    "    m_final = np.vstack((m1,m2))\n",
    "    \n",
    "    m3 = np.array([[Z_0*delta/Z_i],\n",
    "                  [(1-delta)/Z_i]])\n",
    "    \n",
    "    cur_depth_mapped_events = m_final @ m3\n",
    "    \n",
    "    x_ref_mapped = cur_depth_mapped_events[:ref_plane_mapped_events.shape[0]]\n",
    "    y_ref_mapped = cur_depth_mapped_events[ref_plane_mapped_events.shape[0]:]\n",
    "    \n",
    "    depth_plane_mapped_events = np.hstack((x_ref_mapped, y_ref_mapped))\n",
    "    #if np.max(depth_plane_mapped_events[:,0]) > 239 or np.max(depth_plane_mapped_events[:,1]) > 179 :\n",
    "        #print(\" out of bounds {} and {}\".format(np.max(depth_plane_mapped_events[:,0], np.max(depth_plane_mapped_events[:,1]))))\n",
    "    return depth_plane_mapped_events"
   ]
  },
  {
   "cell_type": "code",
   "execution_count": 150,
   "metadata": {},
   "outputs": [],
   "source": [
    "depth_plane_mapped_events = homography(ref_plane_mapped_events, 20, t, R) # value of Z_i should be greater than Z_0,\n",
    "#  random value of 20 chosen for testing"
   ]
  },
  {
   "cell_type": "code",
   "execution_count": 151,
   "metadata": {},
   "outputs": [
    {
     "name": "stdout",
     "output_type": "stream",
     "text": [
      "122 µs ± 1.56 µs per loop (mean ± std. dev. of 7 runs, 10000 loops each)\n"
     ]
    }
   ],
   "source": [
    "%timeit homography(ref_plane_mapped_events, 20, t, R)"
   ]
  },
  {
   "cell_type": "markdown",
   "metadata": {
    "nbpresent": {
     "id": "a391a6b6-c3f2-4ba3-9d2c-72c62cfe90e0"
    },
    "slideshow": {
     "slide_type": "slide"
    }
   },
   "source": [
    "<a id=\"stage_2\"></a>\n",
    "### 3.2 Volumetric Ray Counting\n"
   ]
  },
  {
   "cell_type": "markdown",
   "metadata": {
    "nbpresent": {
     "id": "40bb9fdf-6fb7-4ab0-9e61-9b252f10b615"
    },
    "slideshow": {
     "slide_type": "fragment"
    }
   },
   "source": [
    "We assume our backprojected rays from different views to pass through some 3-D Volume divided into voxels. A scoring function is associated with each voxel. The score of each voxel is determined by the number of rays passing through it. It is given as shown below. <b>X</b> is the co-ordinate of the centre of a voxel."
   ]
  },
  {
   "cell_type": "markdown",
   "metadata": {
    "nbpresent": {
     "id": "f9eb0aae-3db6-469d-8118-73a3037fe92d"
    },
    "slideshow": {
     "slide_type": "fragment"
    }
   },
   "source": [
    "<img src=\"Images/scoring.png\" alt=\"scoring\" style=\"width: 200px;\"/>"
   ]
  },
  {
   "cell_type": "code",
   "execution_count": 14,
   "metadata": {},
   "outputs": [],
   "source": [
    "def ray_counting(voxel_space, vol_coords, z_index=0):\n",
    "    '''This function assigns votes to the voxel space based on the number of times vol_coords appear. Vol_coords are\n",
    "    indices computed from depth plane mapped events'''\n",
    "    shp = voxel_space.shape \n",
    "    idx = vol_coords[:,0]*shp[2] + vol_coords[:,1] + z_index*shp[2]*shp[1]\n",
    "    np.add.at(voxel_space.ravel(),idx,1)\n",
    "    return voxel_space"
   ]
  },
  {
   "cell_type": "code",
   "execution_count": 15,
   "metadata": {},
   "outputs": [],
   "source": [
    "def vote(voxel_space, Z_i, depth_plane_mapped_events, vote_type='nearest_neighbour'):\n",
    "    ''' \n",
    "    The function recieves floating values as co-ordinates. This function assigns a vote to the appropriate voxel by \n",
    "    approximating it the nearest integer co-ordinates using some correction scheme.\n",
    "    \n",
    "    Parameters:\n",
    "    -----------\n",
    "    voxel_space : <np.array, number_of_depth_planes x camera_width x camera_height>\n",
    "        The volume to which depth mapped events vote \n",
    "        \n",
    "    Z_i : <int>\n",
    "        The current depth plane for voting process\n",
    "        \n",
    "    depth_plane_mapped_events : <np.array, batch_sizex2>\n",
    "        Event coordinates mapped to the current depth plane\n",
    "    \n",
    "    vote_type : <string>\n",
    "        bilinear or nearest neighbour\n",
    "        \n",
    "    Return:\n",
    "    -------\n",
    "     <np.array, number_of_depth_planes x camera_width x camera_height>\n",
    "       volume with voted events \n",
    "    '''\n",
    "    if vote_type=='nearest_neighbour':\n",
    "        depth_vol_coords = np.round(depth_plane_mapped_events).astype(int)\n",
    "        prev_votes = np.array(voxel_space, copy=True)  \n",
    "        voxel_space = np.zeros(voxel_space.shape)\n",
    "        return prev_votes + ray_counting(voxel_space, depth_vol_coords, z_index=Z_i-(Z_0+1))"
   ]
  },
  {
   "cell_type": "code",
   "execution_count": 154,
   "metadata": {},
   "outputs": [],
   "source": [
    "voxel_space = np.random.randint(0, 1000, (100, 240, 180))"
   ]
  },
  {
   "cell_type": "code",
   "execution_count": 155,
   "metadata": {},
   "outputs": [],
   "source": [
    "voxel_space = vote(voxel_space ,20, depth_plane_mapped_events) # random value of 20 used for Z_i for testing"
   ]
  },
  {
   "cell_type": "code",
   "execution_count": 114,
   "metadata": {},
   "outputs": [],
   "source": [
    "%lprun -f  vote vote(voxel_space,20-(Z_0+1), depth_plane_mapped_events)"
   ]
  },
  {
   "cell_type": "markdown",
   "metadata": {
    "nbpresent": {
     "id": "0ad92ffc-a682-4e31-9f75-5f84d9fab10c"
    },
    "slideshow": {
     "slide_type": "slide"
    }
   },
   "source": [
    "<a id=\"stage_3\"></a>\n",
    "### 3.3 Thresholding\n"
   ]
  },
  {
   "cell_type": "markdown",
   "metadata": {
    "nbpresent": {
     "id": "6a3d2c3f-4ad7-4726-bae1-9a73d352b6ae"
    },
    "slideshow": {
     "slide_type": "fragment"
    }
   },
   "source": [
    "Local maxima of <b>f(X)</b> is determined here. It is done by by using adaptive gaussian thresholding on the confidence map c(x,y). After this procedure a scene structure should have been formed."
   ]
  },
  {
   "cell_type": "code",
   "execution_count": 16,
   "metadata": {},
   "outputs": [],
   "source": [
    "from skimage.filters import threshold_adaptive\n",
    "\n",
    "def adaptive_gaussian_thresholding(volume_slice, kernal_size, C):\n",
    "    '''\n",
    "    This function does adaptive gaussian thresholding of the 3-D voxel space\n",
    "    \n",
    "    Parameters\n",
    "    ----------\n",
    "    volume_slice : <np.array, 1 x camera_width x camera_height>\n",
    "        The (1 x camera_width x camera_height) array which define the center of the voxel co-ordinates after having accumulated votes in the \n",
    "        voting process\n",
    "    \n",
    "    kernal_size : <int>\n",
    "        The size of the adaptive window to be used. 5 specified in the paper\n",
    "    \n",
    "    C : The offset value to be used for the adaptive filter. -10 is specified in the paper\n",
    "    \n",
    "    Returns\n",
    "    ------- \n",
    "    final_values : <np.array, 1 x camera_width x camera_height>\n",
    "        A (1 x camera_width x camera_height) array on which adaptive gaussian thresholding has been successfully performed\n",
    "    '''\n",
    "    #binary_adaptive = threshold_adaptive(volume_slice, kernal_size, C)\n",
    "    final_values = np.multiply(volume_slice, (volume_slice>0).astype(int))\n",
    "    return final_values\n"
   ]
  },
  {
   "cell_type": "code",
   "execution_count": 157,
   "metadata": {},
   "outputs": [],
   "source": [
    "voxel_space = np.zeros((num_of_depth_planes, 240, 180))\n",
    "thresholded_slice = adaptive_gaussian_thresholding(voxel_space[100 - (Z_0+1), :, :], 5, -10)"
   ]
  },
  {
   "cell_type": "code",
   "execution_count": 158,
   "metadata": {},
   "outputs": [
    {
     "name": "stdout",
     "output_type": "stream",
     "text": [
      "177 µs ± 1.55 µs per loop (mean ± std. dev. of 7 runs, 10000 loops each)\n"
     ]
    }
   ],
   "source": [
    "\n",
    "%timeit adaptive_gaussian_thresholding(voxel_space[20 - (Z_0+1), :, :], 5, -10)"
   ]
  },
  {
   "cell_type": "markdown",
   "metadata": {
    "nbpresent": {
     "id": "16d1fb2d-cdf8-4be7-8ece-37998f641c97"
    },
    "slideshow": {
     "slide_type": "slide"
    }
   },
   "source": [
    "<a id=\"stage_4\"></a>\n",
    "### 3.4 Scene Merging\n"
   ]
  },
  {
   "cell_type": "markdown",
   "metadata": {
    "nbpresent": {
     "id": "f1b17e78-61b1-4b4d-a967-1854d7ca9d89"
    },
    "slideshow": {
     "slide_type": "fragment"
    }
   },
   "source": [
    "This is used to merge scenes obtained while the camera is moving. The key reference view is changed when the distance moved by the camera w.r.t to the reference view exceeds some percentage of the mean scene depth (15 to 40%)"
   ]
  },
  {
   "cell_type": "code",
   "execution_count": 17,
   "metadata": {},
   "outputs": [],
   "source": [
    "def calc_mean_depth(volume):\n",
    "    '''\n",
    "        Calculate the mean depth of the volume. Only voxels which contain a value are considered for the mean depth.\n",
    "\n",
    "        Parameters:\n",
    "        -----------\n",
    "        volume: <np.array, number_of_depth_planes x camera_width x camera_height>\n",
    "             Input 3-D volume which may contain value greater than 0 in its voxels\n",
    "        Return: \n",
    "        -------\n",
    "        mean_depth :<float>\n",
    "            mean depth calculated\n",
    "    '''\n",
    "    depth_map = np.argmax(volume, axis=0)\n",
    "    mean_depth = np.mean(depth_map)\n",
    "    return (mean_depth + 1) * 0.335"
   ]
  },
  {
   "cell_type": "code",
   "execution_count": 160,
   "metadata": {},
   "outputs": [
    {
     "name": "stdout",
     "output_type": "stream",
     "text": [
      "28.7 ms ± 352 µs per loop (mean ± std. dev. of 7 runs, 10 loops each)\n"
     ]
    }
   ],
   "source": [
    "%timeit calc_mean_depth(voxel_space)"
   ]
  },
  {
   "cell_type": "code",
   "execution_count": 94,
   "metadata": {},
   "outputs": [],
   "source": [
    "def check_reference_switch(volume, t, t_prev, mean_depth_factor = 0.2):\n",
    "    '''\n",
    "    Returns True if mean depth is 15% to 40% of the mean_depth of the scene. \n",
    "    Parameters :\n",
    "    ------------\n",
    "    volume : <np.array, number_of_depth_planes x camera_width x camera_height>\n",
    "    t : <np.array, 1x3>\n",
    "        An array of translation co-ordinates\n",
    "    t : <np.array, 1x3>\n",
    "        An array of prev translation co-ordinates\n",
    "    mean_depth_factor : <float>\n",
    "        default value of 20%(0.2) assigned. Guidelines of 15 to 40 % in paper\n",
    "    \n",
    "    Return: \n",
    "    --------\n",
    "    <bool>\n",
    "        True if a reference view change is required\n",
    "    \n",
    "    '''\n",
    "    mean_depth = calc_mean_depth(volume) \n",
    "    dist_travelled = np.linalg.norm(t-t_prev)\n",
    "    print(\"Distance Travelled:\"+ str(dist_travelled) + \" Mean Depth:\"+str(mean_depth_factor*mean_depth))\n",
    "    if dist_travelled > mean_depth_factor * mean_depth :\n",
    "        return True\n",
    "    else:\n",
    "        return False"
   ]
  },
  {
   "cell_type": "code",
   "execution_count": 162,
   "metadata": {},
   "outputs": [
    {
     "data": {
      "text/plain": [
       "True"
      ]
     },
     "execution_count": 162,
     "metadata": {},
     "output_type": "execute_result"
    }
   ],
   "source": [
    "tplus1 = np.array([1, 0, 0]).reshape(3,1)\n",
    "check_reference_switch(voxel_space ,tplus1, t)"
   ]
  },
  {
   "cell_type": "code",
   "execution_count": 163,
   "metadata": {},
   "outputs": [],
   "source": [
    "%lprun -f  check_reference_switch check_reference_switch(voxel_space ,tplus1, t)"
   ]
  },
  {
   "cell_type": "code",
   "execution_count": 164,
   "metadata": {},
   "outputs": [
    {
     "name": "stdout",
     "output_type": "stream",
     "text": [
      "28.9 ms ± 444 µs per loop (mean ± std. dev. of 7 runs, 10 loops each)\n"
     ]
    }
   ],
   "source": [
    "%timeit check_reference_switch(voxel_space ,tplus1, t)"
   ]
  },
  {
   "cell_type": "code",
   "execution_count": 19,
   "metadata": {},
   "outputs": [],
   "source": [
    "def get_transformed_vol_from_prev_voxel_space(prev_vol_vectors, curr_volume, R, t):\n",
    "    '''\n",
    "    This generates a new 3-D space based on the 3-D space obtained after current transformation and the \n",
    "    3-D space obtained earlier(prev volume vectors). The volume vectors define the point in space where the 3-D \n",
    "    space has some value greater than 0.\n",
    "    \n",
    "    Parameters\n",
    "    ----------\n",
    "    prev_vol_vectors : <list, nx3>\n",
    "        The list of vectors in the previous volume where the points defined by them had values greater than 0\n",
    "    \n",
    "    curr_volume : <np.array, number_of_depth_planes x camera_width x camera_height>\n",
    "        The 3-D space of the current reference view\n",
    "    \n",
    "    t : <np.array, 1x3>\n",
    "        An array of translation co-ordinates\n",
    "        \n",
    "    R : <np.array, 3x3>\n",
    "        A matrix containing the rotational information\n",
    "    \n",
    "    Returns\n",
    "    ------- \n",
    "   volume_vectors_list : <list>\n",
    "        List of volume vectors in the reference view\n",
    "    '''    \n",
    "\n",
    "    transformed_vol_vectors = transform_volume(curr_volume, R, t)\n",
    "    \n",
    "    tot_vectors = transformed_vol_vectors + prev_vol_vectors\n",
    "    volume_vectors_set = set(tuple(vector) for vector in  tot_vectors)\n",
    "    volume_vectors_list = [list(vector) for vector in volume_vectors_set]\n",
    "\n",
    "    return volume_vectors_list"
   ]
  },
  {
   "cell_type": "code",
   "execution_count": 24,
   "metadata": {},
   "outputs": [],
   "source": [
    "def transform_volume(curr_volume, R, t):\n",
    "    orig_vol_vectors = np.argwhere(curr_volume > 5)\n",
    "    # array is of form nX(z,x,y), the below code makes the array of form nX(x, y, z)\n",
    "    ###############################################\n",
    "    my_permutation = [2, 0, 1]\n",
    "    i = np.argsort(my_permutation)\n",
    "    orig_vol_vectors = orig_vol_vectors[:, i]\n",
    "    ################################################\n",
    "    \n",
    "    # Keep in mind that the shape of the vectors we get from the volume is (z,x,y) while the shape need for \n",
    "    # computing transformations is (x, y, z)\n",
    "    transformed_vol_vectors = (R@(orig_vol_vectors).T + t).T\n",
    "    \n",
    "    #nearest neighbour voting \n",
    "    transformed_vol_vectors = (np.round(transformed_vol_vectors)).astype(int)\n",
    "    \n",
    "    # array is of form nX(x,y,z), the below code makes the array of form nX(z, x, y)\n",
    "    ###############################################\n",
    "    my_permutation = [1, 2, 0]\n",
    "    i = np.argsort(my_permutation)\n",
    "    transformed_vol_vectors = transformed_vol_vectors[:, i] \n",
    "    ################################################\n",
    "    \n",
    "    return transformed_vol_vectors.tolist()"
   ]
  },
  {
   "cell_type": "code",
   "execution_count": 172,
   "metadata": {},
   "outputs": [
    {
     "name": "stdout",
     "output_type": "stream",
     "text": [
      "22.3 ms ± 230 µs per loop (mean ± std. dev. of 7 runs, 10 loops each)\n"
     ]
    }
   ],
   "source": [
    "prev_vol_vectors = [[0, 0, 1], [0, 2 ,3], [2, 4, 56], [34, 23 ,45], [21, 34 ,67]]\n",
    "%timeit get_transformed_vol_from_prev_voxel_space(prev_vol_vectors, voxel_space, R, t)"
   ]
  },
  {
   "cell_type": "markdown",
   "metadata": {
    "nbpresent": {
     "id": "e243fce1-06d6-4298-902f-3315b664079d"
    },
    "slideshow": {
     "slide_type": "slide"
    }
   },
   "source": [
    "<a id=\"stage_5\"></a>\n",
    "### 3.5 Cleaning and Plotting\n"
   ]
  },
  {
   "cell_type": "markdown",
   "metadata": {
    "nbpresent": {
     "id": "14e04e99-6b89-49a7-9c15-87f2c41b3635"
    },
    "slideshow": {
     "slide_type": "fragment"
    }
   },
   "source": [
    "The edges obtained are cleaned using median filters and radius filters"
   ]
  },
  {
   "cell_type": "code",
   "execution_count": 173,
   "metadata": {},
   "outputs": [],
   "source": [
    "def clean(volume):\n",
    "    volume = median_filter(volume)\n",
    "    volume = radius_filter(volume)\n",
    "    return volume"
   ]
  },
  {
   "cell_type": "code",
   "execution_count": 174,
   "metadata": {
    "nbpresent": {
     "id": "4f3fdcef-0cff-4292-b98b-16a2b8e2f3d8"
    },
    "slideshow": {
     "slide_type": "subslide"
    }
   },
   "outputs": [],
   "source": [
    "def radius_filter(volume):\n",
    "    '''to be filled later '''\n",
    "    return volume"
   ]
  },
  {
   "cell_type": "code",
   "execution_count": 175,
   "metadata": {
    "nbpresent": {
     "id": "0917affd-3569-443c-8b5b-d302a8a20764"
    },
    "slideshow": {
     "slide_type": "subslide"
    }
   },
   "outputs": [],
   "source": [
    "def median_filter(volume):\n",
    "    scipy.ndimage.filters.median_filter(volume)\n",
    "    return volume"
   ]
  },
  {
   "cell_type": "code",
   "execution_count": 176,
   "metadata": {
    "nbpresent": {
     "id": "3247ac23-2d60-4212-8f38-e7dffdab81ac"
    },
    "slideshow": {
     "slide_type": "subslide"
    }
   },
   "outputs": [],
   "source": [
    "def plot_3D_space_and_convert_to_point_cloud(volume_3D, destination):\n",
    "    '''to be filled later'''\n",
    "    pass"
   ]
  },
  {
   "cell_type": "code",
   "execution_count": 35,
   "metadata": {},
   "outputs": [],
   "source": [
    "import matplotlib.pyplot as plt\n",
    "from mpl_toolkits.mplot3d import Axes3D\n",
    "%matplotlib inline\n",
    "import time\n",
    "import pylab as pl\n",
    "from IPython import display\n",
    "\n",
    "def plot_3D_space(volume_vector_list):\n",
    "    fig = plt.figure()\n",
    "    ax = fig.add_subplot(111, projection='3d')\n",
    "    xs = np.array(volume_vector_list)[:, 1]\n",
    "    ys = np.array(volume_vector_list)[:, 2]\n",
    "    zs = np.array(volume_vector_list)[:, 0]\n",
    "    ax.scatter(xs, zs, ys)\n",
    "    #display.clear_output(wait=True)\n",
    "    #display.display(pl.gcf())\n",
    "    #time.sleep(0.001)"
   ]
  },
  {
   "cell_type": "markdown",
   "metadata": {
    "nbpresent": {
     "id": "6e02862b-9b24-48ac-8a4b-5e001eb1e101"
    },
    "slideshow": {
     "slide_type": "subslide"
    }
   },
   "source": [
    "<a id=\"algorithm\"></a>\n",
    "## 4. The Algorithm\n"
   ]
  },
  {
   "cell_type": "markdown",
   "metadata": {
    "nbpresent": {
     "id": "deb3631d-a1a5-4ec2-90e1-dae819fe2df8"
    },
    "slideshow": {
     "slide_type": "slide"
    }
   },
   "source": [
    "The algorithm given by Rebecq et al. is as shown below. Note that there are some guidelines given by Rebecq et al. to speed up computations which must be followed."
   ]
  },
  {
   "cell_type": "markdown",
   "metadata": {
    "nbpresent": {
     "id": "00010dae-7830-4e2b-8d24-52c1363ea3b7"
    },
    "slideshow": {
     "slide_type": "fragment"
    }
   },
   "source": [
    "<img src=\"Images/algorithm.png\" alt=\"The Algorithm\" style=\"width: 400px;\" align='left'/>"
   ]
  },
  {
   "cell_type": "markdown",
   "metadata": {
    "nbpresent": {
     "id": "c94f8e3a-936d-4f2e-ab7a-5ef5b27d8462"
    },
    "slideshow": {
     "slide_type": "slide"
    }
   },
   "source": [
    "<a id=\"algo_pic\"></a>\n",
    "### 4.1 Pictorial Representation of the Algorithm\n"
   ]
  },
  {
   "cell_type": "markdown",
   "metadata": {
    "nbpresent": {
     "id": "21af36af-4d2d-42a5-a658-275b31203727"
    },
    "slideshow": {
     "slide_type": "fragment"
    }
   },
   "source": [
    "\n",
    "<img src=\"Images/Visualization_of_ EVMS_process.png\" alt=\"visualising EVMS homographies\" style=\"width: 400px;\" align='center'/>"
   ]
  },
  {
   "cell_type": "markdown",
   "metadata": {
    "nbpresent": {
     "id": "1340e68e-8485-4eed-90e8-c0b839a6cfb3"
    },
    "slideshow": {
     "slide_type": "slide"
    }
   },
   "source": [
    "<a id=\"main\"></a>\n",
    "# 5. The Main function\n"
   ]
  },
  {
   "cell_type": "code",
   "execution_count": 100,
   "metadata": {
    "nbpresent": {
     "id": "e1655d99-a2e0-4c42-8d87-86764fff146c"
    },
    "slideshow": {
     "slide_type": "subslide"
    }
   },
   "outputs": [],
   "source": [
    "from tqdm import tqdm\n",
    "def main(batches):\n",
    "    '''\n",
    "    batches = number of batches of events the function has to run for.\n",
    "    '''\n",
    "    # the resolution of the camera is 240x180\n",
    "    voxel_space = np.zeros((num_of_depth_planes, 240, 180)) \n",
    "    # the reference vol vectors which have to be plotted in 3-D space later\n",
    "    reference_vol_vectors = [] \n",
    "    events, event_start_time = bundle_events(batch_number=0)\n",
    "    pose = get_ground_truth_pose(event_start_time)\n",
    "    t_prev, R_prev = get_translation_rotation(pose)\n",
    "    \n",
    "    for batch in tqdm(range(batches)): \n",
    "        events, event_start_time = bundle_events(batch_number=batch)\n",
    "        pose = get_ground_truth_pose(event_start_time)\n",
    "        \n",
    "        t, R = get_translation_rotation(pose) \n",
    "            \n",
    "        ref_plane_mapped_events = map_to_reference_view(np.array(events), t, R)\n",
    "            \n",
    "        # if Z_0 is 0 then divide by zero errors occur, therefore Z_0+1 used\n",
    "        for Z_i in range(Z_0+1, num_of_depth_planes+Z_0+1):\n",
    "            \n",
    "            #parallelize this using multithreading in the end, \n",
    "            \n",
    "            depth_plane_mapped_events = homography(ref_plane_mapped_events, Z_i, t, R) \n",
    "            voxel_space = vote(voxel_space, Z_i, depth_plane_mapped_events)\n",
    "            voxel_space[Z_i-(Z_0+1), :, :] = adaptive_gaussian_thresholding(voxel_space[Z_i-(Z_0+1), :, :], 5, -10) \n",
    "    \n",
    "\n",
    "        if check_reference_switch(voxel_space, t, t_prev): \n",
    "            print(\"switch happening...\")\n",
    "\n",
    "            reference_vol_vectors = get_transformed_vol_from_prev_voxel_space(reference_vol_vectors, voxel_space, R, t, R_prev, t_prev) \n",
    "            #  Re-initialize voxel space for new reference\n",
    "            voxel_space = np.zeros((num_of_depth_planes, 240, 180))\n",
    "            t_prev, R_prev = t , R\n",
    "        \n",
    "        else:\n",
    "            reference_vol_vectors = transform_volume(voxel_space, R, t )\n",
    "    return voxel_space, reference_vol_vectors\n",
    "\n",
    "###########################################to be done later####################################    \n",
    "#scored_space = clean(voxel_space)\n",
    "#plt.plot(scored_space)  # plot scored space continuously\n",
    "        "
   ]
  },
  {
   "cell_type": "code",
   "execution_count": 103,
   "metadata": {},
   "outputs": [
    {
     "name": "stderr",
     "output_type": "stream",
     "text": [
      "\n",
      "\n",
      "\n",
      "\n",
      "  0%|          | 0/10 [00:00<?, ?it/s]\u001b[A\u001b[A\u001b[A\u001b[A\n",
      "\n",
      "\n",
      "\n",
      " 10%|█         | 1/10 [00:04<00:39,  4.42s/it]\u001b[A\u001b[A\u001b[A\u001b[A"
     ]
    },
    {
     "name": "stdout",
     "output_type": "stream",
     "text": [
      "Distance Travelled:0.0 Mean Depth:0.19302048611111114\n"
     ]
    },
    {
     "name": "stderr",
     "output_type": "stream",
     "text": [
      "\n",
      "\n",
      "\n",
      "\n",
      " 20%|██        | 2/10 [00:08<00:35,  4.42s/it]\u001b[A\u001b[A\u001b[A\u001b[A"
     ]
    },
    {
     "name": "stdout",
     "output_type": "stream",
     "text": [
      "Distance Travelled:0.00959973365730615 Mean Depth:0.28036863425925923\n"
     ]
    },
    {
     "name": "stderr",
     "output_type": "stream",
     "text": [
      "\n",
      "\n",
      "\n",
      "\n",
      " 30%|███       | 3/10 [00:13<00:30,  4.41s/it]\u001b[A\u001b[A\u001b[A\u001b[A"
     ]
    },
    {
     "name": "stdout",
     "output_type": "stream",
     "text": [
      "Distance Travelled:0.01888382346248462 Mean Depth:0.35037277777777787\n"
     ]
    },
    {
     "name": "stderr",
     "output_type": "stream",
     "text": [
      "\n",
      "\n",
      "\n",
      "\n",
      " 40%|████      | 4/10 [00:17<00:26,  4.39s/it]\u001b[A\u001b[A\u001b[A\u001b[A"
     ]
    },
    {
     "name": "stdout",
     "output_type": "stream",
     "text": [
      "Distance Travelled:0.026709906120615398 Mean Depth:0.4005576388888889\n"
     ]
    },
    {
     "name": "stderr",
     "output_type": "stream",
     "text": [
      "\n",
      "\n",
      "\n",
      "\n",
      " 50%|█████     | 5/10 [00:21<00:21,  4.36s/it]\u001b[A\u001b[A\u001b[A\u001b[A"
     ]
    },
    {
     "name": "stdout",
     "output_type": "stream",
     "text": [
      "Distance Travelled:0.034140185146460215 Mean Depth:0.4413500925925926\n"
     ]
    },
    {
     "name": "stderr",
     "output_type": "stream",
     "text": [
      "\n",
      "\n",
      "\n",
      "\n",
      " 60%|██████    | 6/10 [00:26<00:17,  4.42s/it]\u001b[A\u001b[A\u001b[A\u001b[A"
     ]
    },
    {
     "name": "stdout",
     "output_type": "stream",
     "text": [
      "Distance Travelled:0.04189111832383632 Mean Depth:0.4826217824074075\n"
     ]
    },
    {
     "name": "stderr",
     "output_type": "stream",
     "text": [
      "\n",
      "\n",
      "\n",
      "\n",
      " 70%|███████   | 7/10 [00:30<00:13,  4.40s/it]\u001b[A\u001b[A\u001b[A\u001b[A"
     ]
    },
    {
     "name": "stdout",
     "output_type": "stream",
     "text": [
      "Distance Travelled:0.04873017199945701 Mean Depth:0.5093768055555555\n"
     ]
    },
    {
     "name": "stderr",
     "output_type": "stream",
     "text": [
      "\n",
      "\n",
      "\n",
      "\n",
      " 80%|████████  | 8/10 [00:35<00:08,  4.44s/it]\u001b[A\u001b[A\u001b[A\u001b[A"
     ]
    },
    {
     "name": "stdout",
     "output_type": "stream",
     "text": [
      "Distance Travelled:0.05600513174379009 Mean Depth:0.5344552777777779\n"
     ]
    },
    {
     "name": "stderr",
     "output_type": "stream",
     "text": [
      "\n",
      "\n",
      "\n",
      "\n",
      " 90%|█████████ | 9/10 [00:39<00:04,  4.43s/it]\u001b[A\u001b[A\u001b[A\u001b[A"
     ]
    },
    {
     "name": "stdout",
     "output_type": "stream",
     "text": [
      "Distance Travelled:0.06306463859316938 Mean Depth:0.5532152777777778\n"
     ]
    },
    {
     "name": "stderr",
     "output_type": "stream",
     "text": [
      "\n",
      "\n",
      "\n",
      "\n",
      "100%|██████████| 10/10 [00:44<00:00,  4.44s/it]\u001b[A\u001b[A\u001b[A\u001b[A\n",
      "\n",
      "\n",
      "\n",
      "\u001b[A\u001b[A\u001b[A\u001b[A"
     ]
    },
    {
     "name": "stdout",
     "output_type": "stream",
     "text": [
      "Distance Travelled:0.06973836240906992 Mean Depth:0.5750321527777779\n"
     ]
    }
   ],
   "source": [
    "voxel_space, ref_vec = main(10) #4000"
   ]
  },
  {
   "cell_type": "code",
   "execution_count": 95,
   "metadata": {},
   "outputs": [],
   "source": [
    "depth_map = np.argmax(voxel_space, axis=0)"
   ]
  },
  {
   "cell_type": "code",
   "execution_count": 62,
   "metadata": {},
   "outputs": [
    {
     "data": {
      "text/plain": [
       "0.009999999999999998"
      ]
     },
     "execution_count": 62,
     "metadata": {},
     "output_type": "execute_result"
    }
   ],
   "source": [
    "np.linalg.norm(np.array([0.02, 0, 0]) - np.array([0.03,0, 0]))"
   ]
  },
  {
   "cell_type": "code",
   "execution_count": 45,
   "metadata": {},
   "outputs": [],
   "source": [
    "%matplotlib notebook\n",
    "from matplotlib import interactive\n",
    "interactive(True)"
   ]
  },
  {
   "cell_type": "markdown",
   "metadata": {},
   "source": [
    "## Depth Map"
   ]
  },
  {
   "cell_type": "code",
   "execution_count": 71,
   "metadata": {},
   "outputs": [
    {
     "data": {
      "application/javascript": [
       "/* Put everything inside the global mpl namespace */\n",
       "window.mpl = {};\n",
       "\n",
       "\n",
       "mpl.get_websocket_type = function() {\n",
       "    if (typeof(WebSocket) !== 'undefined') {\n",
       "        return WebSocket;\n",
       "    } else if (typeof(MozWebSocket) !== 'undefined') {\n",
       "        return MozWebSocket;\n",
       "    } else {\n",
       "        alert('Your browser does not have WebSocket support.' +\n",
       "              'Please try Chrome, Safari or Firefox ≥ 6. ' +\n",
       "              'Firefox 4 and 5 are also supported but you ' +\n",
       "              'have to enable WebSockets in about:config.');\n",
       "    };\n",
       "}\n",
       "\n",
       "mpl.figure = function(figure_id, websocket, ondownload, parent_element) {\n",
       "    this.id = figure_id;\n",
       "\n",
       "    this.ws = websocket;\n",
       "\n",
       "    this.supports_binary = (this.ws.binaryType != undefined);\n",
       "\n",
       "    if (!this.supports_binary) {\n",
       "        var warnings = document.getElementById(\"mpl-warnings\");\n",
       "        if (warnings) {\n",
       "            warnings.style.display = 'block';\n",
       "            warnings.textContent = (\n",
       "                \"This browser does not support binary websocket messages. \" +\n",
       "                    \"Performance may be slow.\");\n",
       "        }\n",
       "    }\n",
       "\n",
       "    this.imageObj = new Image();\n",
       "\n",
       "    this.context = undefined;\n",
       "    this.message = undefined;\n",
       "    this.canvas = undefined;\n",
       "    this.rubberband_canvas = undefined;\n",
       "    this.rubberband_context = undefined;\n",
       "    this.format_dropdown = undefined;\n",
       "\n",
       "    this.image_mode = 'full';\n",
       "\n",
       "    this.root = $('<div/>');\n",
       "    this._root_extra_style(this.root)\n",
       "    this.root.attr('style', 'display: inline-block');\n",
       "\n",
       "    $(parent_element).append(this.root);\n",
       "\n",
       "    this._init_header(this);\n",
       "    this._init_canvas(this);\n",
       "    this._init_toolbar(this);\n",
       "\n",
       "    var fig = this;\n",
       "\n",
       "    this.waiting = false;\n",
       "\n",
       "    this.ws.onopen =  function () {\n",
       "            fig.send_message(\"supports_binary\", {value: fig.supports_binary});\n",
       "            fig.send_message(\"send_image_mode\", {});\n",
       "            if (mpl.ratio != 1) {\n",
       "                fig.send_message(\"set_dpi_ratio\", {'dpi_ratio': mpl.ratio});\n",
       "            }\n",
       "            fig.send_message(\"refresh\", {});\n",
       "        }\n",
       "\n",
       "    this.imageObj.onload = function() {\n",
       "            if (fig.image_mode == 'full') {\n",
       "                // Full images could contain transparency (where diff images\n",
       "                // almost always do), so we need to clear the canvas so that\n",
       "                // there is no ghosting.\n",
       "                fig.context.clearRect(0, 0, fig.canvas.width, fig.canvas.height);\n",
       "            }\n",
       "            fig.context.drawImage(fig.imageObj, 0, 0);\n",
       "        };\n",
       "\n",
       "    this.imageObj.onunload = function() {\n",
       "        fig.ws.close();\n",
       "    }\n",
       "\n",
       "    this.ws.onmessage = this._make_on_message_function(this);\n",
       "\n",
       "    this.ondownload = ondownload;\n",
       "}\n",
       "\n",
       "mpl.figure.prototype._init_header = function() {\n",
       "    var titlebar = $(\n",
       "        '<div class=\"ui-dialog-titlebar ui-widget-header ui-corner-all ' +\n",
       "        'ui-helper-clearfix\"/>');\n",
       "    var titletext = $(\n",
       "        '<div class=\"ui-dialog-title\" style=\"width: 100%; ' +\n",
       "        'text-align: center; padding: 3px;\"/>');\n",
       "    titlebar.append(titletext)\n",
       "    this.root.append(titlebar);\n",
       "    this.header = titletext[0];\n",
       "}\n",
       "\n",
       "\n",
       "\n",
       "mpl.figure.prototype._canvas_extra_style = function(canvas_div) {\n",
       "\n",
       "}\n",
       "\n",
       "\n",
       "mpl.figure.prototype._root_extra_style = function(canvas_div) {\n",
       "\n",
       "}\n",
       "\n",
       "mpl.figure.prototype._init_canvas = function() {\n",
       "    var fig = this;\n",
       "\n",
       "    var canvas_div = $('<div/>');\n",
       "\n",
       "    canvas_div.attr('style', 'position: relative; clear: both; outline: 0');\n",
       "\n",
       "    function canvas_keyboard_event(event) {\n",
       "        return fig.key_event(event, event['data']);\n",
       "    }\n",
       "\n",
       "    canvas_div.keydown('key_press', canvas_keyboard_event);\n",
       "    canvas_div.keyup('key_release', canvas_keyboard_event);\n",
       "    this.canvas_div = canvas_div\n",
       "    this._canvas_extra_style(canvas_div)\n",
       "    this.root.append(canvas_div);\n",
       "\n",
       "    var canvas = $('<canvas/>');\n",
       "    canvas.addClass('mpl-canvas');\n",
       "    canvas.attr('style', \"left: 0; top: 0; z-index: 0; outline: 0\")\n",
       "\n",
       "    this.canvas = canvas[0];\n",
       "    this.context = canvas[0].getContext(\"2d\");\n",
       "\n",
       "    var backingStore = this.context.backingStorePixelRatio ||\n",
       "\tthis.context.webkitBackingStorePixelRatio ||\n",
       "\tthis.context.mozBackingStorePixelRatio ||\n",
       "\tthis.context.msBackingStorePixelRatio ||\n",
       "\tthis.context.oBackingStorePixelRatio ||\n",
       "\tthis.context.backingStorePixelRatio || 1;\n",
       "\n",
       "    mpl.ratio = (window.devicePixelRatio || 1) / backingStore;\n",
       "\n",
       "    var rubberband = $('<canvas/>');\n",
       "    rubberband.attr('style', \"position: absolute; left: 0; top: 0; z-index: 1;\")\n",
       "\n",
       "    var pass_mouse_events = true;\n",
       "\n",
       "    canvas_div.resizable({\n",
       "        start: function(event, ui) {\n",
       "            pass_mouse_events = false;\n",
       "        },\n",
       "        resize: function(event, ui) {\n",
       "            fig.request_resize(ui.size.width, ui.size.height);\n",
       "        },\n",
       "        stop: function(event, ui) {\n",
       "            pass_mouse_events = true;\n",
       "            fig.request_resize(ui.size.width, ui.size.height);\n",
       "        },\n",
       "    });\n",
       "\n",
       "    function mouse_event_fn(event) {\n",
       "        if (pass_mouse_events)\n",
       "            return fig.mouse_event(event, event['data']);\n",
       "    }\n",
       "\n",
       "    rubberband.mousedown('button_press', mouse_event_fn);\n",
       "    rubberband.mouseup('button_release', mouse_event_fn);\n",
       "    // Throttle sequential mouse events to 1 every 20ms.\n",
       "    rubberband.mousemove('motion_notify', mouse_event_fn);\n",
       "\n",
       "    rubberband.mouseenter('figure_enter', mouse_event_fn);\n",
       "    rubberband.mouseleave('figure_leave', mouse_event_fn);\n",
       "\n",
       "    canvas_div.on(\"wheel\", function (event) {\n",
       "        event = event.originalEvent;\n",
       "        event['data'] = 'scroll'\n",
       "        if (event.deltaY < 0) {\n",
       "            event.step = 1;\n",
       "        } else {\n",
       "            event.step = -1;\n",
       "        }\n",
       "        mouse_event_fn(event);\n",
       "    });\n",
       "\n",
       "    canvas_div.append(canvas);\n",
       "    canvas_div.append(rubberband);\n",
       "\n",
       "    this.rubberband = rubberband;\n",
       "    this.rubberband_canvas = rubberband[0];\n",
       "    this.rubberband_context = rubberband[0].getContext(\"2d\");\n",
       "    this.rubberband_context.strokeStyle = \"#000000\";\n",
       "\n",
       "    this._resize_canvas = function(width, height) {\n",
       "        // Keep the size of the canvas, canvas container, and rubber band\n",
       "        // canvas in synch.\n",
       "        canvas_div.css('width', width)\n",
       "        canvas_div.css('height', height)\n",
       "\n",
       "        canvas.attr('width', width * mpl.ratio);\n",
       "        canvas.attr('height', height * mpl.ratio);\n",
       "        canvas.attr('style', 'width: ' + width + 'px; height: ' + height + 'px;');\n",
       "\n",
       "        rubberband.attr('width', width);\n",
       "        rubberband.attr('height', height);\n",
       "    }\n",
       "\n",
       "    // Set the figure to an initial 600x600px, this will subsequently be updated\n",
       "    // upon first draw.\n",
       "    this._resize_canvas(600, 600);\n",
       "\n",
       "    // Disable right mouse context menu.\n",
       "    $(this.rubberband_canvas).bind(\"contextmenu\",function(e){\n",
       "        return false;\n",
       "    });\n",
       "\n",
       "    function set_focus () {\n",
       "        canvas.focus();\n",
       "        canvas_div.focus();\n",
       "    }\n",
       "\n",
       "    window.setTimeout(set_focus, 100);\n",
       "}\n",
       "\n",
       "mpl.figure.prototype._init_toolbar = function() {\n",
       "    var fig = this;\n",
       "\n",
       "    var nav_element = $('<div/>')\n",
       "    nav_element.attr('style', 'width: 100%');\n",
       "    this.root.append(nav_element);\n",
       "\n",
       "    // Define a callback function for later on.\n",
       "    function toolbar_event(event) {\n",
       "        return fig.toolbar_button_onclick(event['data']);\n",
       "    }\n",
       "    function toolbar_mouse_event(event) {\n",
       "        return fig.toolbar_button_onmouseover(event['data']);\n",
       "    }\n",
       "\n",
       "    for(var toolbar_ind in mpl.toolbar_items) {\n",
       "        var name = mpl.toolbar_items[toolbar_ind][0];\n",
       "        var tooltip = mpl.toolbar_items[toolbar_ind][1];\n",
       "        var image = mpl.toolbar_items[toolbar_ind][2];\n",
       "        var method_name = mpl.toolbar_items[toolbar_ind][3];\n",
       "\n",
       "        if (!name) {\n",
       "            // put a spacer in here.\n",
       "            continue;\n",
       "        }\n",
       "        var button = $('<button/>');\n",
       "        button.addClass('ui-button ui-widget ui-state-default ui-corner-all ' +\n",
       "                        'ui-button-icon-only');\n",
       "        button.attr('role', 'button');\n",
       "        button.attr('aria-disabled', 'false');\n",
       "        button.click(method_name, toolbar_event);\n",
       "        button.mouseover(tooltip, toolbar_mouse_event);\n",
       "\n",
       "        var icon_img = $('<span/>');\n",
       "        icon_img.addClass('ui-button-icon-primary ui-icon');\n",
       "        icon_img.addClass(image);\n",
       "        icon_img.addClass('ui-corner-all');\n",
       "\n",
       "        var tooltip_span = $('<span/>');\n",
       "        tooltip_span.addClass('ui-button-text');\n",
       "        tooltip_span.html(tooltip);\n",
       "\n",
       "        button.append(icon_img);\n",
       "        button.append(tooltip_span);\n",
       "\n",
       "        nav_element.append(button);\n",
       "    }\n",
       "\n",
       "    var fmt_picker_span = $('<span/>');\n",
       "\n",
       "    var fmt_picker = $('<select/>');\n",
       "    fmt_picker.addClass('mpl-toolbar-option ui-widget ui-widget-content');\n",
       "    fmt_picker_span.append(fmt_picker);\n",
       "    nav_element.append(fmt_picker_span);\n",
       "    this.format_dropdown = fmt_picker[0];\n",
       "\n",
       "    for (var ind in mpl.extensions) {\n",
       "        var fmt = mpl.extensions[ind];\n",
       "        var option = $(\n",
       "            '<option/>', {selected: fmt === mpl.default_extension}).html(fmt);\n",
       "        fmt_picker.append(option)\n",
       "    }\n",
       "\n",
       "    // Add hover states to the ui-buttons\n",
       "    $( \".ui-button\" ).hover(\n",
       "        function() { $(this).addClass(\"ui-state-hover\");},\n",
       "        function() { $(this).removeClass(\"ui-state-hover\");}\n",
       "    );\n",
       "\n",
       "    var status_bar = $('<span class=\"mpl-message\"/>');\n",
       "    nav_element.append(status_bar);\n",
       "    this.message = status_bar[0];\n",
       "}\n",
       "\n",
       "mpl.figure.prototype.request_resize = function(x_pixels, y_pixels) {\n",
       "    // Request matplotlib to resize the figure. Matplotlib will then trigger a resize in the client,\n",
       "    // which will in turn request a refresh of the image.\n",
       "    this.send_message('resize', {'width': x_pixels, 'height': y_pixels});\n",
       "}\n",
       "\n",
       "mpl.figure.prototype.send_message = function(type, properties) {\n",
       "    properties['type'] = type;\n",
       "    properties['figure_id'] = this.id;\n",
       "    this.ws.send(JSON.stringify(properties));\n",
       "}\n",
       "\n",
       "mpl.figure.prototype.send_draw_message = function() {\n",
       "    if (!this.waiting) {\n",
       "        this.waiting = true;\n",
       "        this.ws.send(JSON.stringify({type: \"draw\", figure_id: this.id}));\n",
       "    }\n",
       "}\n",
       "\n",
       "\n",
       "mpl.figure.prototype.handle_save = function(fig, msg) {\n",
       "    var format_dropdown = fig.format_dropdown;\n",
       "    var format = format_dropdown.options[format_dropdown.selectedIndex].value;\n",
       "    fig.ondownload(fig, format);\n",
       "}\n",
       "\n",
       "\n",
       "mpl.figure.prototype.handle_resize = function(fig, msg) {\n",
       "    var size = msg['size'];\n",
       "    if (size[0] != fig.canvas.width || size[1] != fig.canvas.height) {\n",
       "        fig._resize_canvas(size[0], size[1]);\n",
       "        fig.send_message(\"refresh\", {});\n",
       "    };\n",
       "}\n",
       "\n",
       "mpl.figure.prototype.handle_rubberband = function(fig, msg) {\n",
       "    var x0 = msg['x0'] / mpl.ratio;\n",
       "    var y0 = (fig.canvas.height - msg['y0']) / mpl.ratio;\n",
       "    var x1 = msg['x1'] / mpl.ratio;\n",
       "    var y1 = (fig.canvas.height - msg['y1']) / mpl.ratio;\n",
       "    x0 = Math.floor(x0) + 0.5;\n",
       "    y0 = Math.floor(y0) + 0.5;\n",
       "    x1 = Math.floor(x1) + 0.5;\n",
       "    y1 = Math.floor(y1) + 0.5;\n",
       "    var min_x = Math.min(x0, x1);\n",
       "    var min_y = Math.min(y0, y1);\n",
       "    var width = Math.abs(x1 - x0);\n",
       "    var height = Math.abs(y1 - y0);\n",
       "\n",
       "    fig.rubberband_context.clearRect(\n",
       "        0, 0, fig.canvas.width, fig.canvas.height);\n",
       "\n",
       "    fig.rubberband_context.strokeRect(min_x, min_y, width, height);\n",
       "}\n",
       "\n",
       "mpl.figure.prototype.handle_figure_label = function(fig, msg) {\n",
       "    // Updates the figure title.\n",
       "    fig.header.textContent = msg['label'];\n",
       "}\n",
       "\n",
       "mpl.figure.prototype.handle_cursor = function(fig, msg) {\n",
       "    var cursor = msg['cursor'];\n",
       "    switch(cursor)\n",
       "    {\n",
       "    case 0:\n",
       "        cursor = 'pointer';\n",
       "        break;\n",
       "    case 1:\n",
       "        cursor = 'default';\n",
       "        break;\n",
       "    case 2:\n",
       "        cursor = 'crosshair';\n",
       "        break;\n",
       "    case 3:\n",
       "        cursor = 'move';\n",
       "        break;\n",
       "    }\n",
       "    fig.rubberband_canvas.style.cursor = cursor;\n",
       "}\n",
       "\n",
       "mpl.figure.prototype.handle_message = function(fig, msg) {\n",
       "    fig.message.textContent = msg['message'];\n",
       "}\n",
       "\n",
       "mpl.figure.prototype.handle_draw = function(fig, msg) {\n",
       "    // Request the server to send over a new figure.\n",
       "    fig.send_draw_message();\n",
       "}\n",
       "\n",
       "mpl.figure.prototype.handle_image_mode = function(fig, msg) {\n",
       "    fig.image_mode = msg['mode'];\n",
       "}\n",
       "\n",
       "mpl.figure.prototype.updated_canvas_event = function() {\n",
       "    // Called whenever the canvas gets updated.\n",
       "    this.send_message(\"ack\", {});\n",
       "}\n",
       "\n",
       "// A function to construct a web socket function for onmessage handling.\n",
       "// Called in the figure constructor.\n",
       "mpl.figure.prototype._make_on_message_function = function(fig) {\n",
       "    return function socket_on_message(evt) {\n",
       "        if (evt.data instanceof Blob) {\n",
       "            /* FIXME: We get \"Resource interpreted as Image but\n",
       "             * transferred with MIME type text/plain:\" errors on\n",
       "             * Chrome.  But how to set the MIME type?  It doesn't seem\n",
       "             * to be part of the websocket stream */\n",
       "            evt.data.type = \"image/png\";\n",
       "\n",
       "            /* Free the memory for the previous frames */\n",
       "            if (fig.imageObj.src) {\n",
       "                (window.URL || window.webkitURL).revokeObjectURL(\n",
       "                    fig.imageObj.src);\n",
       "            }\n",
       "\n",
       "            fig.imageObj.src = (window.URL || window.webkitURL).createObjectURL(\n",
       "                evt.data);\n",
       "            fig.updated_canvas_event();\n",
       "            fig.waiting = false;\n",
       "            return;\n",
       "        }\n",
       "        else if (typeof evt.data === 'string' && evt.data.slice(0, 21) == \"data:image/png;base64\") {\n",
       "            fig.imageObj.src = evt.data;\n",
       "            fig.updated_canvas_event();\n",
       "            fig.waiting = false;\n",
       "            return;\n",
       "        }\n",
       "\n",
       "        var msg = JSON.parse(evt.data);\n",
       "        var msg_type = msg['type'];\n",
       "\n",
       "        // Call the  \"handle_{type}\" callback, which takes\n",
       "        // the figure and JSON message as its only arguments.\n",
       "        try {\n",
       "            var callback = fig[\"handle_\" + msg_type];\n",
       "        } catch (e) {\n",
       "            console.log(\"No handler for the '\" + msg_type + \"' message type: \", msg);\n",
       "            return;\n",
       "        }\n",
       "\n",
       "        if (callback) {\n",
       "            try {\n",
       "                // console.log(\"Handling '\" + msg_type + \"' message: \", msg);\n",
       "                callback(fig, msg);\n",
       "            } catch (e) {\n",
       "                console.log(\"Exception inside the 'handler_\" + msg_type + \"' callback:\", e, e.stack, msg);\n",
       "            }\n",
       "        }\n",
       "    };\n",
       "}\n",
       "\n",
       "// from http://stackoverflow.com/questions/1114465/getting-mouse-location-in-canvas\n",
       "mpl.findpos = function(e) {\n",
       "    //this section is from http://www.quirksmode.org/js/events_properties.html\n",
       "    var targ;\n",
       "    if (!e)\n",
       "        e = window.event;\n",
       "    if (e.target)\n",
       "        targ = e.target;\n",
       "    else if (e.srcElement)\n",
       "        targ = e.srcElement;\n",
       "    if (targ.nodeType == 3) // defeat Safari bug\n",
       "        targ = targ.parentNode;\n",
       "\n",
       "    // jQuery normalizes the pageX and pageY\n",
       "    // pageX,Y are the mouse positions relative to the document\n",
       "    // offset() returns the position of the element relative to the document\n",
       "    var x = e.pageX - $(targ).offset().left;\n",
       "    var y = e.pageY - $(targ).offset().top;\n",
       "\n",
       "    return {\"x\": x, \"y\": y};\n",
       "};\n",
       "\n",
       "/*\n",
       " * return a copy of an object with only non-object keys\n",
       " * we need this to avoid circular references\n",
       " * http://stackoverflow.com/a/24161582/3208463\n",
       " */\n",
       "function simpleKeys (original) {\n",
       "  return Object.keys(original).reduce(function (obj, key) {\n",
       "    if (typeof original[key] !== 'object')\n",
       "        obj[key] = original[key]\n",
       "    return obj;\n",
       "  }, {});\n",
       "}\n",
       "\n",
       "mpl.figure.prototype.mouse_event = function(event, name) {\n",
       "    var canvas_pos = mpl.findpos(event)\n",
       "\n",
       "    if (name === 'button_press')\n",
       "    {\n",
       "        this.canvas.focus();\n",
       "        this.canvas_div.focus();\n",
       "    }\n",
       "\n",
       "    var x = canvas_pos.x * mpl.ratio;\n",
       "    var y = canvas_pos.y * mpl.ratio;\n",
       "\n",
       "    this.send_message(name, {x: x, y: y, button: event.button,\n",
       "                             step: event.step,\n",
       "                             guiEvent: simpleKeys(event)});\n",
       "\n",
       "    /* This prevents the web browser from automatically changing to\n",
       "     * the text insertion cursor when the button is pressed.  We want\n",
       "     * to control all of the cursor setting manually through the\n",
       "     * 'cursor' event from matplotlib */\n",
       "    event.preventDefault();\n",
       "    return false;\n",
       "}\n",
       "\n",
       "mpl.figure.prototype._key_event_extra = function(event, name) {\n",
       "    // Handle any extra behaviour associated with a key event\n",
       "}\n",
       "\n",
       "mpl.figure.prototype.key_event = function(event, name) {\n",
       "\n",
       "    // Prevent repeat events\n",
       "    if (name == 'key_press')\n",
       "    {\n",
       "        if (event.which === this._key)\n",
       "            return;\n",
       "        else\n",
       "            this._key = event.which;\n",
       "    }\n",
       "    if (name == 'key_release')\n",
       "        this._key = null;\n",
       "\n",
       "    var value = '';\n",
       "    if (event.ctrlKey && event.which != 17)\n",
       "        value += \"ctrl+\";\n",
       "    if (event.altKey && event.which != 18)\n",
       "        value += \"alt+\";\n",
       "    if (event.shiftKey && event.which != 16)\n",
       "        value += \"shift+\";\n",
       "\n",
       "    value += 'k';\n",
       "    value += event.which.toString();\n",
       "\n",
       "    this._key_event_extra(event, name);\n",
       "\n",
       "    this.send_message(name, {key: value,\n",
       "                             guiEvent: simpleKeys(event)});\n",
       "    return false;\n",
       "}\n",
       "\n",
       "mpl.figure.prototype.toolbar_button_onclick = function(name) {\n",
       "    if (name == 'download') {\n",
       "        this.handle_save(this, null);\n",
       "    } else {\n",
       "        this.send_message(\"toolbar_button\", {name: name});\n",
       "    }\n",
       "};\n",
       "\n",
       "mpl.figure.prototype.toolbar_button_onmouseover = function(tooltip) {\n",
       "    this.message.textContent = tooltip;\n",
       "};\n",
       "mpl.toolbar_items = [[\"Home\", \"Reset original view\", \"fa fa-home icon-home\", \"home\"], [\"Back\", \"Back to  previous view\", \"fa fa-arrow-left icon-arrow-left\", \"back\"], [\"Forward\", \"Forward to next view\", \"fa fa-arrow-right icon-arrow-right\", \"forward\"], [\"\", \"\", \"\", \"\"], [\"Pan\", \"Pan axes with left mouse, zoom with right\", \"fa fa-arrows icon-move\", \"pan\"], [\"Zoom\", \"Zoom to rectangle\", \"fa fa-square-o icon-check-empty\", \"zoom\"], [\"\", \"\", \"\", \"\"], [\"Download\", \"Download plot\", \"fa fa-floppy-o icon-save\", \"download\"]];\n",
       "\n",
       "mpl.extensions = [\"eps\", \"jpeg\", \"pdf\", \"png\", \"ps\", \"raw\", \"svg\", \"tif\"];\n",
       "\n",
       "mpl.default_extension = \"png\";var comm_websocket_adapter = function(comm) {\n",
       "    // Create a \"websocket\"-like object which calls the given IPython comm\n",
       "    // object with the appropriate methods. Currently this is a non binary\n",
       "    // socket, so there is still some room for performance tuning.\n",
       "    var ws = {};\n",
       "\n",
       "    ws.close = function() {\n",
       "        comm.close()\n",
       "    };\n",
       "    ws.send = function(m) {\n",
       "        //console.log('sending', m);\n",
       "        comm.send(m);\n",
       "    };\n",
       "    // Register the callback with on_msg.\n",
       "    comm.on_msg(function(msg) {\n",
       "        //console.log('receiving', msg['content']['data'], msg);\n",
       "        // Pass the mpl event to the overridden (by mpl) onmessage function.\n",
       "        ws.onmessage(msg['content']['data'])\n",
       "    });\n",
       "    return ws;\n",
       "}\n",
       "\n",
       "mpl.mpl_figure_comm = function(comm, msg) {\n",
       "    // This is the function which gets called when the mpl process\n",
       "    // starts-up an IPython Comm through the \"matplotlib\" channel.\n",
       "\n",
       "    var id = msg.content.data.id;\n",
       "    // Get hold of the div created by the display call when the Comm\n",
       "    // socket was opened in Python.\n",
       "    var element = $(\"#\" + id);\n",
       "    var ws_proxy = comm_websocket_adapter(comm)\n",
       "\n",
       "    function ondownload(figure, format) {\n",
       "        window.open(figure.imageObj.src);\n",
       "    }\n",
       "\n",
       "    var fig = new mpl.figure(id, ws_proxy,\n",
       "                           ondownload,\n",
       "                           element.get(0));\n",
       "\n",
       "    // Call onopen now - mpl needs it, as it is assuming we've passed it a real\n",
       "    // web socket which is closed, not our websocket->open comm proxy.\n",
       "    ws_proxy.onopen();\n",
       "\n",
       "    fig.parent_element = element.get(0);\n",
       "    fig.cell_info = mpl.find_output_cell(\"<div id='\" + id + \"'></div>\");\n",
       "    if (!fig.cell_info) {\n",
       "        console.error(\"Failed to find cell for figure\", id, fig);\n",
       "        return;\n",
       "    }\n",
       "\n",
       "    var output_index = fig.cell_info[2]\n",
       "    var cell = fig.cell_info[0];\n",
       "\n",
       "};\n",
       "\n",
       "mpl.figure.prototype.handle_close = function(fig, msg) {\n",
       "    var width = fig.canvas.width/mpl.ratio\n",
       "    fig.root.unbind('remove')\n",
       "\n",
       "    // Update the output cell to use the data from the current canvas.\n",
       "    fig.push_to_output();\n",
       "    var dataURL = fig.canvas.toDataURL();\n",
       "    // Re-enable the keyboard manager in IPython - without this line, in FF,\n",
       "    // the notebook keyboard shortcuts fail.\n",
       "    IPython.keyboard_manager.enable()\n",
       "    $(fig.parent_element).html('<img src=\"' + dataURL + '\" width=\"' + width + '\">');\n",
       "    fig.close_ws(fig, msg);\n",
       "}\n",
       "\n",
       "mpl.figure.prototype.close_ws = function(fig, msg){\n",
       "    fig.send_message('closing', msg);\n",
       "    // fig.ws.close()\n",
       "}\n",
       "\n",
       "mpl.figure.prototype.push_to_output = function(remove_interactive) {\n",
       "    // Turn the data on the canvas into data in the output cell.\n",
       "    var width = this.canvas.width/mpl.ratio\n",
       "    var dataURL = this.canvas.toDataURL();\n",
       "    this.cell_info[1]['text/html'] = '<img src=\"' + dataURL + '\" width=\"' + width + '\">';\n",
       "}\n",
       "\n",
       "mpl.figure.prototype.updated_canvas_event = function() {\n",
       "    // Tell IPython that the notebook contents must change.\n",
       "    IPython.notebook.set_dirty(true);\n",
       "    this.send_message(\"ack\", {});\n",
       "    var fig = this;\n",
       "    // Wait a second, then push the new image to the DOM so\n",
       "    // that it is saved nicely (might be nice to debounce this).\n",
       "    setTimeout(function () { fig.push_to_output() }, 1000);\n",
       "}\n",
       "\n",
       "mpl.figure.prototype._init_toolbar = function() {\n",
       "    var fig = this;\n",
       "\n",
       "    var nav_element = $('<div/>')\n",
       "    nav_element.attr('style', 'width: 100%');\n",
       "    this.root.append(nav_element);\n",
       "\n",
       "    // Define a callback function for later on.\n",
       "    function toolbar_event(event) {\n",
       "        return fig.toolbar_button_onclick(event['data']);\n",
       "    }\n",
       "    function toolbar_mouse_event(event) {\n",
       "        return fig.toolbar_button_onmouseover(event['data']);\n",
       "    }\n",
       "\n",
       "    for(var toolbar_ind in mpl.toolbar_items){\n",
       "        var name = mpl.toolbar_items[toolbar_ind][0];\n",
       "        var tooltip = mpl.toolbar_items[toolbar_ind][1];\n",
       "        var image = mpl.toolbar_items[toolbar_ind][2];\n",
       "        var method_name = mpl.toolbar_items[toolbar_ind][3];\n",
       "\n",
       "        if (!name) { continue; };\n",
       "\n",
       "        var button = $('<button class=\"btn btn-default\" href=\"#\" title=\"' + name + '\"><i class=\"fa ' + image + ' fa-lg\"></i></button>');\n",
       "        button.click(method_name, toolbar_event);\n",
       "        button.mouseover(tooltip, toolbar_mouse_event);\n",
       "        nav_element.append(button);\n",
       "    }\n",
       "\n",
       "    // Add the status bar.\n",
       "    var status_bar = $('<span class=\"mpl-message\" style=\"text-align:right; float: right;\"/>');\n",
       "    nav_element.append(status_bar);\n",
       "    this.message = status_bar[0];\n",
       "\n",
       "    // Add the close button to the window.\n",
       "    var buttongrp = $('<div class=\"btn-group inline pull-right\"></div>');\n",
       "    var button = $('<button class=\"btn btn-mini btn-primary\" href=\"#\" title=\"Stop Interaction\"><i class=\"fa fa-power-off icon-remove icon-large\"></i></button>');\n",
       "    button.click(function (evt) { fig.handle_close(fig, {}); } );\n",
       "    button.mouseover('Stop Interaction', toolbar_mouse_event);\n",
       "    buttongrp.append(button);\n",
       "    var titlebar = this.root.find($('.ui-dialog-titlebar'));\n",
       "    titlebar.prepend(buttongrp);\n",
       "}\n",
       "\n",
       "mpl.figure.prototype._root_extra_style = function(el){\n",
       "    var fig = this\n",
       "    el.on(\"remove\", function(){\n",
       "\tfig.close_ws(fig, {});\n",
       "    });\n",
       "}\n",
       "\n",
       "mpl.figure.prototype._canvas_extra_style = function(el){\n",
       "    // this is important to make the div 'focusable\n",
       "    el.attr('tabindex', 0)\n",
       "    // reach out to IPython and tell the keyboard manager to turn it's self\n",
       "    // off when our div gets focus\n",
       "\n",
       "    // location in version 3\n",
       "    if (IPython.notebook.keyboard_manager) {\n",
       "        IPython.notebook.keyboard_manager.register_events(el);\n",
       "    }\n",
       "    else {\n",
       "        // location in version 2\n",
       "        IPython.keyboard_manager.register_events(el);\n",
       "    }\n",
       "\n",
       "}\n",
       "\n",
       "mpl.figure.prototype._key_event_extra = function(event, name) {\n",
       "    var manager = IPython.notebook.keyboard_manager;\n",
       "    if (!manager)\n",
       "        manager = IPython.keyboard_manager;\n",
       "\n",
       "    // Check for shift+enter\n",
       "    if (event.shiftKey && event.which == 13) {\n",
       "        this.canvas_div.blur();\n",
       "        event.shiftKey = false;\n",
       "        // Send a \"J\" for go to next cell\n",
       "        event.which = 74;\n",
       "        event.keyCode = 74;\n",
       "        manager.command_mode();\n",
       "        manager.handle_keydown(event);\n",
       "    }\n",
       "}\n",
       "\n",
       "mpl.figure.prototype.handle_save = function(fig, msg) {\n",
       "    fig.ondownload(fig, null);\n",
       "}\n",
       "\n",
       "\n",
       "mpl.find_output_cell = function(html_output) {\n",
       "    // Return the cell and output element which can be found *uniquely* in the notebook.\n",
       "    // Note - this is a bit hacky, but it is done because the \"notebook_saving.Notebook\"\n",
       "    // IPython event is triggered only after the cells have been serialised, which for\n",
       "    // our purposes (turning an active figure into a static one), is too late.\n",
       "    var cells = IPython.notebook.get_cells();\n",
       "    var ncells = cells.length;\n",
       "    for (var i=0; i<ncells; i++) {\n",
       "        var cell = cells[i];\n",
       "        if (cell.cell_type === 'code'){\n",
       "            for (var j=0; j<cell.output_area.outputs.length; j++) {\n",
       "                var data = cell.output_area.outputs[j];\n",
       "                if (data.data) {\n",
       "                    // IPython >= 3 moved mimebundle to data attribute of output\n",
       "                    data = data.data;\n",
       "                }\n",
       "                if (data['text/html'] == html_output) {\n",
       "                    return [cell, data, j];\n",
       "                }\n",
       "            }\n",
       "        }\n",
       "    }\n",
       "}\n",
       "\n",
       "// Register the function which deals with the matplotlib target/channel.\n",
       "// The kernel may be null if the page has been refreshed.\n",
       "if (IPython.notebook.kernel != null) {\n",
       "    IPython.notebook.kernel.comm_manager.register_target('matplotlib', mpl.mpl_figure_comm);\n",
       "}\n"
      ],
      "text/plain": [
       "<IPython.core.display.Javascript object>"
      ]
     },
     "metadata": {},
     "output_type": "display_data"
    },
    {
     "data": {
      "text/html": [
       "<img src=\"data:image/png;base64,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\" width=\"804.4444657549452\">"
      ],
      "text/plain": [
       "<IPython.core.display.HTML object>"
      ]
     },
     "metadata": {},
     "output_type": "display_data"
    }
   ],
   "source": [
    "rotated_img = ndimage.rotate(depth_map, 270)\n",
    "plt.imshow(np.fliplr(rotated_img))\n",
    "plt.show()"
   ]
  },
  {
   "cell_type": "code",
   "execution_count": 74,
   "metadata": {},
   "outputs": [
    {
     "data": {
      "application/javascript": [
       "/* Put everything inside the global mpl namespace */\n",
       "window.mpl = {};\n",
       "\n",
       "\n",
       "mpl.get_websocket_type = function() {\n",
       "    if (typeof(WebSocket) !== 'undefined') {\n",
       "        return WebSocket;\n",
       "    } else if (typeof(MozWebSocket) !== 'undefined') {\n",
       "        return MozWebSocket;\n",
       "    } else {\n",
       "        alert('Your browser does not have WebSocket support.' +\n",
       "              'Please try Chrome, Safari or Firefox ≥ 6. ' +\n",
       "              'Firefox 4 and 5 are also supported but you ' +\n",
       "              'have to enable WebSockets in about:config.');\n",
       "    };\n",
       "}\n",
       "\n",
       "mpl.figure = function(figure_id, websocket, ondownload, parent_element) {\n",
       "    this.id = figure_id;\n",
       "\n",
       "    this.ws = websocket;\n",
       "\n",
       "    this.supports_binary = (this.ws.binaryType != undefined);\n",
       "\n",
       "    if (!this.supports_binary) {\n",
       "        var warnings = document.getElementById(\"mpl-warnings\");\n",
       "        if (warnings) {\n",
       "            warnings.style.display = 'block';\n",
       "            warnings.textContent = (\n",
       "                \"This browser does not support binary websocket messages. \" +\n",
       "                    \"Performance may be slow.\");\n",
       "        }\n",
       "    }\n",
       "\n",
       "    this.imageObj = new Image();\n",
       "\n",
       "    this.context = undefined;\n",
       "    this.message = undefined;\n",
       "    this.canvas = undefined;\n",
       "    this.rubberband_canvas = undefined;\n",
       "    this.rubberband_context = undefined;\n",
       "    this.format_dropdown = undefined;\n",
       "\n",
       "    this.image_mode = 'full';\n",
       "\n",
       "    this.root = $('<div/>');\n",
       "    this._root_extra_style(this.root)\n",
       "    this.root.attr('style', 'display: inline-block');\n",
       "\n",
       "    $(parent_element).append(this.root);\n",
       "\n",
       "    this._init_header(this);\n",
       "    this._init_canvas(this);\n",
       "    this._init_toolbar(this);\n",
       "\n",
       "    var fig = this;\n",
       "\n",
       "    this.waiting = false;\n",
       "\n",
       "    this.ws.onopen =  function () {\n",
       "            fig.send_message(\"supports_binary\", {value: fig.supports_binary});\n",
       "            fig.send_message(\"send_image_mode\", {});\n",
       "            if (mpl.ratio != 1) {\n",
       "                fig.send_message(\"set_dpi_ratio\", {'dpi_ratio': mpl.ratio});\n",
       "            }\n",
       "            fig.send_message(\"refresh\", {});\n",
       "        }\n",
       "\n",
       "    this.imageObj.onload = function() {\n",
       "            if (fig.image_mode == 'full') {\n",
       "                // Full images could contain transparency (where diff images\n",
       "                // almost always do), so we need to clear the canvas so that\n",
       "                // there is no ghosting.\n",
       "                fig.context.clearRect(0, 0, fig.canvas.width, fig.canvas.height);\n",
       "            }\n",
       "            fig.context.drawImage(fig.imageObj, 0, 0);\n",
       "        };\n",
       "\n",
       "    this.imageObj.onunload = function() {\n",
       "        fig.ws.close();\n",
       "    }\n",
       "\n",
       "    this.ws.onmessage = this._make_on_message_function(this);\n",
       "\n",
       "    this.ondownload = ondownload;\n",
       "}\n",
       "\n",
       "mpl.figure.prototype._init_header = function() {\n",
       "    var titlebar = $(\n",
       "        '<div class=\"ui-dialog-titlebar ui-widget-header ui-corner-all ' +\n",
       "        'ui-helper-clearfix\"/>');\n",
       "    var titletext = $(\n",
       "        '<div class=\"ui-dialog-title\" style=\"width: 100%; ' +\n",
       "        'text-align: center; padding: 3px;\"/>');\n",
       "    titlebar.append(titletext)\n",
       "    this.root.append(titlebar);\n",
       "    this.header = titletext[0];\n",
       "}\n",
       "\n",
       "\n",
       "\n",
       "mpl.figure.prototype._canvas_extra_style = function(canvas_div) {\n",
       "\n",
       "}\n",
       "\n",
       "\n",
       "mpl.figure.prototype._root_extra_style = function(canvas_div) {\n",
       "\n",
       "}\n",
       "\n",
       "mpl.figure.prototype._init_canvas = function() {\n",
       "    var fig = this;\n",
       "\n",
       "    var canvas_div = $('<div/>');\n",
       "\n",
       "    canvas_div.attr('style', 'position: relative; clear: both; outline: 0');\n",
       "\n",
       "    function canvas_keyboard_event(event) {\n",
       "        return fig.key_event(event, event['data']);\n",
       "    }\n",
       "\n",
       "    canvas_div.keydown('key_press', canvas_keyboard_event);\n",
       "    canvas_div.keyup('key_release', canvas_keyboard_event);\n",
       "    this.canvas_div = canvas_div\n",
       "    this._canvas_extra_style(canvas_div)\n",
       "    this.root.append(canvas_div);\n",
       "\n",
       "    var canvas = $('<canvas/>');\n",
       "    canvas.addClass('mpl-canvas');\n",
       "    canvas.attr('style', \"left: 0; top: 0; z-index: 0; outline: 0\")\n",
       "\n",
       "    this.canvas = canvas[0];\n",
       "    this.context = canvas[0].getContext(\"2d\");\n",
       "\n",
       "    var backingStore = this.context.backingStorePixelRatio ||\n",
       "\tthis.context.webkitBackingStorePixelRatio ||\n",
       "\tthis.context.mozBackingStorePixelRatio ||\n",
       "\tthis.context.msBackingStorePixelRatio ||\n",
       "\tthis.context.oBackingStorePixelRatio ||\n",
       "\tthis.context.backingStorePixelRatio || 1;\n",
       "\n",
       "    mpl.ratio = (window.devicePixelRatio || 1) / backingStore;\n",
       "\n",
       "    var rubberband = $('<canvas/>');\n",
       "    rubberband.attr('style', \"position: absolute; left: 0; top: 0; z-index: 1;\")\n",
       "\n",
       "    var pass_mouse_events = true;\n",
       "\n",
       "    canvas_div.resizable({\n",
       "        start: function(event, ui) {\n",
       "            pass_mouse_events = false;\n",
       "        },\n",
       "        resize: function(event, ui) {\n",
       "            fig.request_resize(ui.size.width, ui.size.height);\n",
       "        },\n",
       "        stop: function(event, ui) {\n",
       "            pass_mouse_events = true;\n",
       "            fig.request_resize(ui.size.width, ui.size.height);\n",
       "        },\n",
       "    });\n",
       "\n",
       "    function mouse_event_fn(event) {\n",
       "        if (pass_mouse_events)\n",
       "            return fig.mouse_event(event, event['data']);\n",
       "    }\n",
       "\n",
       "    rubberband.mousedown('button_press', mouse_event_fn);\n",
       "    rubberband.mouseup('button_release', mouse_event_fn);\n",
       "    // Throttle sequential mouse events to 1 every 20ms.\n",
       "    rubberband.mousemove('motion_notify', mouse_event_fn);\n",
       "\n",
       "    rubberband.mouseenter('figure_enter', mouse_event_fn);\n",
       "    rubberband.mouseleave('figure_leave', mouse_event_fn);\n",
       "\n",
       "    canvas_div.on(\"wheel\", function (event) {\n",
       "        event = event.originalEvent;\n",
       "        event['data'] = 'scroll'\n",
       "        if (event.deltaY < 0) {\n",
       "            event.step = 1;\n",
       "        } else {\n",
       "            event.step = -1;\n",
       "        }\n",
       "        mouse_event_fn(event);\n",
       "    });\n",
       "\n",
       "    canvas_div.append(canvas);\n",
       "    canvas_div.append(rubberband);\n",
       "\n",
       "    this.rubberband = rubberband;\n",
       "    this.rubberband_canvas = rubberband[0];\n",
       "    this.rubberband_context = rubberband[0].getContext(\"2d\");\n",
       "    this.rubberband_context.strokeStyle = \"#000000\";\n",
       "\n",
       "    this._resize_canvas = function(width, height) {\n",
       "        // Keep the size of the canvas, canvas container, and rubber band\n",
       "        // canvas in synch.\n",
       "        canvas_div.css('width', width)\n",
       "        canvas_div.css('height', height)\n",
       "\n",
       "        canvas.attr('width', width * mpl.ratio);\n",
       "        canvas.attr('height', height * mpl.ratio);\n",
       "        canvas.attr('style', 'width: ' + width + 'px; height: ' + height + 'px;');\n",
       "\n",
       "        rubberband.attr('width', width);\n",
       "        rubberband.attr('height', height);\n",
       "    }\n",
       "\n",
       "    // Set the figure to an initial 600x600px, this will subsequently be updated\n",
       "    // upon first draw.\n",
       "    this._resize_canvas(600, 600);\n",
       "\n",
       "    // Disable right mouse context menu.\n",
       "    $(this.rubberband_canvas).bind(\"contextmenu\",function(e){\n",
       "        return false;\n",
       "    });\n",
       "\n",
       "    function set_focus () {\n",
       "        canvas.focus();\n",
       "        canvas_div.focus();\n",
       "    }\n",
       "\n",
       "    window.setTimeout(set_focus, 100);\n",
       "}\n",
       "\n",
       "mpl.figure.prototype._init_toolbar = function() {\n",
       "    var fig = this;\n",
       "\n",
       "    var nav_element = $('<div/>')\n",
       "    nav_element.attr('style', 'width: 100%');\n",
       "    this.root.append(nav_element);\n",
       "\n",
       "    // Define a callback function for later on.\n",
       "    function toolbar_event(event) {\n",
       "        return fig.toolbar_button_onclick(event['data']);\n",
       "    }\n",
       "    function toolbar_mouse_event(event) {\n",
       "        return fig.toolbar_button_onmouseover(event['data']);\n",
       "    }\n",
       "\n",
       "    for(var toolbar_ind in mpl.toolbar_items) {\n",
       "        var name = mpl.toolbar_items[toolbar_ind][0];\n",
       "        var tooltip = mpl.toolbar_items[toolbar_ind][1];\n",
       "        var image = mpl.toolbar_items[toolbar_ind][2];\n",
       "        var method_name = mpl.toolbar_items[toolbar_ind][3];\n",
       "\n",
       "        if (!name) {\n",
       "            // put a spacer in here.\n",
       "            continue;\n",
       "        }\n",
       "        var button = $('<button/>');\n",
       "        button.addClass('ui-button ui-widget ui-state-default ui-corner-all ' +\n",
       "                        'ui-button-icon-only');\n",
       "        button.attr('role', 'button');\n",
       "        button.attr('aria-disabled', 'false');\n",
       "        button.click(method_name, toolbar_event);\n",
       "        button.mouseover(tooltip, toolbar_mouse_event);\n",
       "\n",
       "        var icon_img = $('<span/>');\n",
       "        icon_img.addClass('ui-button-icon-primary ui-icon');\n",
       "        icon_img.addClass(image);\n",
       "        icon_img.addClass('ui-corner-all');\n",
       "\n",
       "        var tooltip_span = $('<span/>');\n",
       "        tooltip_span.addClass('ui-button-text');\n",
       "        tooltip_span.html(tooltip);\n",
       "\n",
       "        button.append(icon_img);\n",
       "        button.append(tooltip_span);\n",
       "\n",
       "        nav_element.append(button);\n",
       "    }\n",
       "\n",
       "    var fmt_picker_span = $('<span/>');\n",
       "\n",
       "    var fmt_picker = $('<select/>');\n",
       "    fmt_picker.addClass('mpl-toolbar-option ui-widget ui-widget-content');\n",
       "    fmt_picker_span.append(fmt_picker);\n",
       "    nav_element.append(fmt_picker_span);\n",
       "    this.format_dropdown = fmt_picker[0];\n",
       "\n",
       "    for (var ind in mpl.extensions) {\n",
       "        var fmt = mpl.extensions[ind];\n",
       "        var option = $(\n",
       "            '<option/>', {selected: fmt === mpl.default_extension}).html(fmt);\n",
       "        fmt_picker.append(option)\n",
       "    }\n",
       "\n",
       "    // Add hover states to the ui-buttons\n",
       "    $( \".ui-button\" ).hover(\n",
       "        function() { $(this).addClass(\"ui-state-hover\");},\n",
       "        function() { $(this).removeClass(\"ui-state-hover\");}\n",
       "    );\n",
       "\n",
       "    var status_bar = $('<span class=\"mpl-message\"/>');\n",
       "    nav_element.append(status_bar);\n",
       "    this.message = status_bar[0];\n",
       "}\n",
       "\n",
       "mpl.figure.prototype.request_resize = function(x_pixels, y_pixels) {\n",
       "    // Request matplotlib to resize the figure. Matplotlib will then trigger a resize in the client,\n",
       "    // which will in turn request a refresh of the image.\n",
       "    this.send_message('resize', {'width': x_pixels, 'height': y_pixels});\n",
       "}\n",
       "\n",
       "mpl.figure.prototype.send_message = function(type, properties) {\n",
       "    properties['type'] = type;\n",
       "    properties['figure_id'] = this.id;\n",
       "    this.ws.send(JSON.stringify(properties));\n",
       "}\n",
       "\n",
       "mpl.figure.prototype.send_draw_message = function() {\n",
       "    if (!this.waiting) {\n",
       "        this.waiting = true;\n",
       "        this.ws.send(JSON.stringify({type: \"draw\", figure_id: this.id}));\n",
       "    }\n",
       "}\n",
       "\n",
       "\n",
       "mpl.figure.prototype.handle_save = function(fig, msg) {\n",
       "    var format_dropdown = fig.format_dropdown;\n",
       "    var format = format_dropdown.options[format_dropdown.selectedIndex].value;\n",
       "    fig.ondownload(fig, format);\n",
       "}\n",
       "\n",
       "\n",
       "mpl.figure.prototype.handle_resize = function(fig, msg) {\n",
       "    var size = msg['size'];\n",
       "    if (size[0] != fig.canvas.width || size[1] != fig.canvas.height) {\n",
       "        fig._resize_canvas(size[0], size[1]);\n",
       "        fig.send_message(\"refresh\", {});\n",
       "    };\n",
       "}\n",
       "\n",
       "mpl.figure.prototype.handle_rubberband = function(fig, msg) {\n",
       "    var x0 = msg['x0'] / mpl.ratio;\n",
       "    var y0 = (fig.canvas.height - msg['y0']) / mpl.ratio;\n",
       "    var x1 = msg['x1'] / mpl.ratio;\n",
       "    var y1 = (fig.canvas.height - msg['y1']) / mpl.ratio;\n",
       "    x0 = Math.floor(x0) + 0.5;\n",
       "    y0 = Math.floor(y0) + 0.5;\n",
       "    x1 = Math.floor(x1) + 0.5;\n",
       "    y1 = Math.floor(y1) + 0.5;\n",
       "    var min_x = Math.min(x0, x1);\n",
       "    var min_y = Math.min(y0, y1);\n",
       "    var width = Math.abs(x1 - x0);\n",
       "    var height = Math.abs(y1 - y0);\n",
       "\n",
       "    fig.rubberband_context.clearRect(\n",
       "        0, 0, fig.canvas.width, fig.canvas.height);\n",
       "\n",
       "    fig.rubberband_context.strokeRect(min_x, min_y, width, height);\n",
       "}\n",
       "\n",
       "mpl.figure.prototype.handle_figure_label = function(fig, msg) {\n",
       "    // Updates the figure title.\n",
       "    fig.header.textContent = msg['label'];\n",
       "}\n",
       "\n",
       "mpl.figure.prototype.handle_cursor = function(fig, msg) {\n",
       "    var cursor = msg['cursor'];\n",
       "    switch(cursor)\n",
       "    {\n",
       "    case 0:\n",
       "        cursor = 'pointer';\n",
       "        break;\n",
       "    case 1:\n",
       "        cursor = 'default';\n",
       "        break;\n",
       "    case 2:\n",
       "        cursor = 'crosshair';\n",
       "        break;\n",
       "    case 3:\n",
       "        cursor = 'move';\n",
       "        break;\n",
       "    }\n",
       "    fig.rubberband_canvas.style.cursor = cursor;\n",
       "}\n",
       "\n",
       "mpl.figure.prototype.handle_message = function(fig, msg) {\n",
       "    fig.message.textContent = msg['message'];\n",
       "}\n",
       "\n",
       "mpl.figure.prototype.handle_draw = function(fig, msg) {\n",
       "    // Request the server to send over a new figure.\n",
       "    fig.send_draw_message();\n",
       "}\n",
       "\n",
       "mpl.figure.prototype.handle_image_mode = function(fig, msg) {\n",
       "    fig.image_mode = msg['mode'];\n",
       "}\n",
       "\n",
       "mpl.figure.prototype.updated_canvas_event = function() {\n",
       "    // Called whenever the canvas gets updated.\n",
       "    this.send_message(\"ack\", {});\n",
       "}\n",
       "\n",
       "// A function to construct a web socket function for onmessage handling.\n",
       "// Called in the figure constructor.\n",
       "mpl.figure.prototype._make_on_message_function = function(fig) {\n",
       "    return function socket_on_message(evt) {\n",
       "        if (evt.data instanceof Blob) {\n",
       "            /* FIXME: We get \"Resource interpreted as Image but\n",
       "             * transferred with MIME type text/plain:\" errors on\n",
       "             * Chrome.  But how to set the MIME type?  It doesn't seem\n",
       "             * to be part of the websocket stream */\n",
       "            evt.data.type = \"image/png\";\n",
       "\n",
       "            /* Free the memory for the previous frames */\n",
       "            if (fig.imageObj.src) {\n",
       "                (window.URL || window.webkitURL).revokeObjectURL(\n",
       "                    fig.imageObj.src);\n",
       "            }\n",
       "\n",
       "            fig.imageObj.src = (window.URL || window.webkitURL).createObjectURL(\n",
       "                evt.data);\n",
       "            fig.updated_canvas_event();\n",
       "            fig.waiting = false;\n",
       "            return;\n",
       "        }\n",
       "        else if (typeof evt.data === 'string' && evt.data.slice(0, 21) == \"data:image/png;base64\") {\n",
       "            fig.imageObj.src = evt.data;\n",
       "            fig.updated_canvas_event();\n",
       "            fig.waiting = false;\n",
       "            return;\n",
       "        }\n",
       "\n",
       "        var msg = JSON.parse(evt.data);\n",
       "        var msg_type = msg['type'];\n",
       "\n",
       "        // Call the  \"handle_{type}\" callback, which takes\n",
       "        // the figure and JSON message as its only arguments.\n",
       "        try {\n",
       "            var callback = fig[\"handle_\" + msg_type];\n",
       "        } catch (e) {\n",
       "            console.log(\"No handler for the '\" + msg_type + \"' message type: \", msg);\n",
       "            return;\n",
       "        }\n",
       "\n",
       "        if (callback) {\n",
       "            try {\n",
       "                // console.log(\"Handling '\" + msg_type + \"' message: \", msg);\n",
       "                callback(fig, msg);\n",
       "            } catch (e) {\n",
       "                console.log(\"Exception inside the 'handler_\" + msg_type + \"' callback:\", e, e.stack, msg);\n",
       "            }\n",
       "        }\n",
       "    };\n",
       "}\n",
       "\n",
       "// from http://stackoverflow.com/questions/1114465/getting-mouse-location-in-canvas\n",
       "mpl.findpos = function(e) {\n",
       "    //this section is from http://www.quirksmode.org/js/events_properties.html\n",
       "    var targ;\n",
       "    if (!e)\n",
       "        e = window.event;\n",
       "    if (e.target)\n",
       "        targ = e.target;\n",
       "    else if (e.srcElement)\n",
       "        targ = e.srcElement;\n",
       "    if (targ.nodeType == 3) // defeat Safari bug\n",
       "        targ = targ.parentNode;\n",
       "\n",
       "    // jQuery normalizes the pageX and pageY\n",
       "    // pageX,Y are the mouse positions relative to the document\n",
       "    // offset() returns the position of the element relative to the document\n",
       "    var x = e.pageX - $(targ).offset().left;\n",
       "    var y = e.pageY - $(targ).offset().top;\n",
       "\n",
       "    return {\"x\": x, \"y\": y};\n",
       "};\n",
       "\n",
       "/*\n",
       " * return a copy of an object with only non-object keys\n",
       " * we need this to avoid circular references\n",
       " * http://stackoverflow.com/a/24161582/3208463\n",
       " */\n",
       "function simpleKeys (original) {\n",
       "  return Object.keys(original).reduce(function (obj, key) {\n",
       "    if (typeof original[key] !== 'object')\n",
       "        obj[key] = original[key]\n",
       "    return obj;\n",
       "  }, {});\n",
       "}\n",
       "\n",
       "mpl.figure.prototype.mouse_event = function(event, name) {\n",
       "    var canvas_pos = mpl.findpos(event)\n",
       "\n",
       "    if (name === 'button_press')\n",
       "    {\n",
       "        this.canvas.focus();\n",
       "        this.canvas_div.focus();\n",
       "    }\n",
       "\n",
       "    var x = canvas_pos.x * mpl.ratio;\n",
       "    var y = canvas_pos.y * mpl.ratio;\n",
       "\n",
       "    this.send_message(name, {x: x, y: y, button: event.button,\n",
       "                             step: event.step,\n",
       "                             guiEvent: simpleKeys(event)});\n",
       "\n",
       "    /* This prevents the web browser from automatically changing to\n",
       "     * the text insertion cursor when the button is pressed.  We want\n",
       "     * to control all of the cursor setting manually through the\n",
       "     * 'cursor' event from matplotlib */\n",
       "    event.preventDefault();\n",
       "    return false;\n",
       "}\n",
       "\n",
       "mpl.figure.prototype._key_event_extra = function(event, name) {\n",
       "    // Handle any extra behaviour associated with a key event\n",
       "}\n",
       "\n",
       "mpl.figure.prototype.key_event = function(event, name) {\n",
       "\n",
       "    // Prevent repeat events\n",
       "    if (name == 'key_press')\n",
       "    {\n",
       "        if (event.which === this._key)\n",
       "            return;\n",
       "        else\n",
       "            this._key = event.which;\n",
       "    }\n",
       "    if (name == 'key_release')\n",
       "        this._key = null;\n",
       "\n",
       "    var value = '';\n",
       "    if (event.ctrlKey && event.which != 17)\n",
       "        value += \"ctrl+\";\n",
       "    if (event.altKey && event.which != 18)\n",
       "        value += \"alt+\";\n",
       "    if (event.shiftKey && event.which != 16)\n",
       "        value += \"shift+\";\n",
       "\n",
       "    value += 'k';\n",
       "    value += event.which.toString();\n",
       "\n",
       "    this._key_event_extra(event, name);\n",
       "\n",
       "    this.send_message(name, {key: value,\n",
       "                             guiEvent: simpleKeys(event)});\n",
       "    return false;\n",
       "}\n",
       "\n",
       "mpl.figure.prototype.toolbar_button_onclick = function(name) {\n",
       "    if (name == 'download') {\n",
       "        this.handle_save(this, null);\n",
       "    } else {\n",
       "        this.send_message(\"toolbar_button\", {name: name});\n",
       "    }\n",
       "};\n",
       "\n",
       "mpl.figure.prototype.toolbar_button_onmouseover = function(tooltip) {\n",
       "    this.message.textContent = tooltip;\n",
       "};\n",
       "mpl.toolbar_items = [[\"Home\", \"Reset original view\", \"fa fa-home icon-home\", \"home\"], [\"Back\", \"Back to  previous view\", \"fa fa-arrow-left icon-arrow-left\", \"back\"], [\"Forward\", \"Forward to next view\", \"fa fa-arrow-right icon-arrow-right\", \"forward\"], [\"\", \"\", \"\", \"\"], [\"Pan\", \"Pan axes with left mouse, zoom with right\", \"fa fa-arrows icon-move\", \"pan\"], [\"Zoom\", \"Zoom to rectangle\", \"fa fa-square-o icon-check-empty\", \"zoom\"], [\"\", \"\", \"\", \"\"], [\"Download\", \"Download plot\", \"fa fa-floppy-o icon-save\", \"download\"]];\n",
       "\n",
       "mpl.extensions = [\"eps\", \"jpeg\", \"pdf\", \"png\", \"ps\", \"raw\", \"svg\", \"tif\"];\n",
       "\n",
       "mpl.default_extension = \"png\";var comm_websocket_adapter = function(comm) {\n",
       "    // Create a \"websocket\"-like object which calls the given IPython comm\n",
       "    // object with the appropriate methods. Currently this is a non binary\n",
       "    // socket, so there is still some room for performance tuning.\n",
       "    var ws = {};\n",
       "\n",
       "    ws.close = function() {\n",
       "        comm.close()\n",
       "    };\n",
       "    ws.send = function(m) {\n",
       "        //console.log('sending', m);\n",
       "        comm.send(m);\n",
       "    };\n",
       "    // Register the callback with on_msg.\n",
       "    comm.on_msg(function(msg) {\n",
       "        //console.log('receiving', msg['content']['data'], msg);\n",
       "        // Pass the mpl event to the overridden (by mpl) onmessage function.\n",
       "        ws.onmessage(msg['content']['data'])\n",
       "    });\n",
       "    return ws;\n",
       "}\n",
       "\n",
       "mpl.mpl_figure_comm = function(comm, msg) {\n",
       "    // This is the function which gets called when the mpl process\n",
       "    // starts-up an IPython Comm through the \"matplotlib\" channel.\n",
       "\n",
       "    var id = msg.content.data.id;\n",
       "    // Get hold of the div created by the display call when the Comm\n",
       "    // socket was opened in Python.\n",
       "    var element = $(\"#\" + id);\n",
       "    var ws_proxy = comm_websocket_adapter(comm)\n",
       "\n",
       "    function ondownload(figure, format) {\n",
       "        window.open(figure.imageObj.src);\n",
       "    }\n",
       "\n",
       "    var fig = new mpl.figure(id, ws_proxy,\n",
       "                           ondownload,\n",
       "                           element.get(0));\n",
       "\n",
       "    // Call onopen now - mpl needs it, as it is assuming we've passed it a real\n",
       "    // web socket which is closed, not our websocket->open comm proxy.\n",
       "    ws_proxy.onopen();\n",
       "\n",
       "    fig.parent_element = element.get(0);\n",
       "    fig.cell_info = mpl.find_output_cell(\"<div id='\" + id + \"'></div>\");\n",
       "    if (!fig.cell_info) {\n",
       "        console.error(\"Failed to find cell for figure\", id, fig);\n",
       "        return;\n",
       "    }\n",
       "\n",
       "    var output_index = fig.cell_info[2]\n",
       "    var cell = fig.cell_info[0];\n",
       "\n",
       "};\n",
       "\n",
       "mpl.figure.prototype.handle_close = function(fig, msg) {\n",
       "    var width = fig.canvas.width/mpl.ratio\n",
       "    fig.root.unbind('remove')\n",
       "\n",
       "    // Update the output cell to use the data from the current canvas.\n",
       "    fig.push_to_output();\n",
       "    var dataURL = fig.canvas.toDataURL();\n",
       "    // Re-enable the keyboard manager in IPython - without this line, in FF,\n",
       "    // the notebook keyboard shortcuts fail.\n",
       "    IPython.keyboard_manager.enable()\n",
       "    $(fig.parent_element).html('<img src=\"' + dataURL + '\" width=\"' + width + '\">');\n",
       "    fig.close_ws(fig, msg);\n",
       "}\n",
       "\n",
       "mpl.figure.prototype.close_ws = function(fig, msg){\n",
       "    fig.send_message('closing', msg);\n",
       "    // fig.ws.close()\n",
       "}\n",
       "\n",
       "mpl.figure.prototype.push_to_output = function(remove_interactive) {\n",
       "    // Turn the data on the canvas into data in the output cell.\n",
       "    var width = this.canvas.width/mpl.ratio\n",
       "    var dataURL = this.canvas.toDataURL();\n",
       "    this.cell_info[1]['text/html'] = '<img src=\"' + dataURL + '\" width=\"' + width + '\">';\n",
       "}\n",
       "\n",
       "mpl.figure.prototype.updated_canvas_event = function() {\n",
       "    // Tell IPython that the notebook contents must change.\n",
       "    IPython.notebook.set_dirty(true);\n",
       "    this.send_message(\"ack\", {});\n",
       "    var fig = this;\n",
       "    // Wait a second, then push the new image to the DOM so\n",
       "    // that it is saved nicely (might be nice to debounce this).\n",
       "    setTimeout(function () { fig.push_to_output() }, 1000);\n",
       "}\n",
       "\n",
       "mpl.figure.prototype._init_toolbar = function() {\n",
       "    var fig = this;\n",
       "\n",
       "    var nav_element = $('<div/>')\n",
       "    nav_element.attr('style', 'width: 100%');\n",
       "    this.root.append(nav_element);\n",
       "\n",
       "    // Define a callback function for later on.\n",
       "    function toolbar_event(event) {\n",
       "        return fig.toolbar_button_onclick(event['data']);\n",
       "    }\n",
       "    function toolbar_mouse_event(event) {\n",
       "        return fig.toolbar_button_onmouseover(event['data']);\n",
       "    }\n",
       "\n",
       "    for(var toolbar_ind in mpl.toolbar_items){\n",
       "        var name = mpl.toolbar_items[toolbar_ind][0];\n",
       "        var tooltip = mpl.toolbar_items[toolbar_ind][1];\n",
       "        var image = mpl.toolbar_items[toolbar_ind][2];\n",
       "        var method_name = mpl.toolbar_items[toolbar_ind][3];\n",
       "\n",
       "        if (!name) { continue; };\n",
       "\n",
       "        var button = $('<button class=\"btn btn-default\" href=\"#\" title=\"' + name + '\"><i class=\"fa ' + image + ' fa-lg\"></i></button>');\n",
       "        button.click(method_name, toolbar_event);\n",
       "        button.mouseover(tooltip, toolbar_mouse_event);\n",
       "        nav_element.append(button);\n",
       "    }\n",
       "\n",
       "    // Add the status bar.\n",
       "    var status_bar = $('<span class=\"mpl-message\" style=\"text-align:right; float: right;\"/>');\n",
       "    nav_element.append(status_bar);\n",
       "    this.message = status_bar[0];\n",
       "\n",
       "    // Add the close button to the window.\n",
       "    var buttongrp = $('<div class=\"btn-group inline pull-right\"></div>');\n",
       "    var button = $('<button class=\"btn btn-mini btn-primary\" href=\"#\" title=\"Stop Interaction\"><i class=\"fa fa-power-off icon-remove icon-large\"></i></button>');\n",
       "    button.click(function (evt) { fig.handle_close(fig, {}); } );\n",
       "    button.mouseover('Stop Interaction', toolbar_mouse_event);\n",
       "    buttongrp.append(button);\n",
       "    var titlebar = this.root.find($('.ui-dialog-titlebar'));\n",
       "    titlebar.prepend(buttongrp);\n",
       "}\n",
       "\n",
       "mpl.figure.prototype._root_extra_style = function(el){\n",
       "    var fig = this\n",
       "    el.on(\"remove\", function(){\n",
       "\tfig.close_ws(fig, {});\n",
       "    });\n",
       "}\n",
       "\n",
       "mpl.figure.prototype._canvas_extra_style = function(el){\n",
       "    // this is important to make the div 'focusable\n",
       "    el.attr('tabindex', 0)\n",
       "    // reach out to IPython and tell the keyboard manager to turn it's self\n",
       "    // off when our div gets focus\n",
       "\n",
       "    // location in version 3\n",
       "    if (IPython.notebook.keyboard_manager) {\n",
       "        IPython.notebook.keyboard_manager.register_events(el);\n",
       "    }\n",
       "    else {\n",
       "        // location in version 2\n",
       "        IPython.keyboard_manager.register_events(el);\n",
       "    }\n",
       "\n",
       "}\n",
       "\n",
       "mpl.figure.prototype._key_event_extra = function(event, name) {\n",
       "    var manager = IPython.notebook.keyboard_manager;\n",
       "    if (!manager)\n",
       "        manager = IPython.keyboard_manager;\n",
       "\n",
       "    // Check for shift+enter\n",
       "    if (event.shiftKey && event.which == 13) {\n",
       "        this.canvas_div.blur();\n",
       "        event.shiftKey = false;\n",
       "        // Send a \"J\" for go to next cell\n",
       "        event.which = 74;\n",
       "        event.keyCode = 74;\n",
       "        manager.command_mode();\n",
       "        manager.handle_keydown(event);\n",
       "    }\n",
       "}\n",
       "\n",
       "mpl.figure.prototype.handle_save = function(fig, msg) {\n",
       "    fig.ondownload(fig, null);\n",
       "}\n",
       "\n",
       "\n",
       "mpl.find_output_cell = function(html_output) {\n",
       "    // Return the cell and output element which can be found *uniquely* in the notebook.\n",
       "    // Note - this is a bit hacky, but it is done because the \"notebook_saving.Notebook\"\n",
       "    // IPython event is triggered only after the cells have been serialised, which for\n",
       "    // our purposes (turning an active figure into a static one), is too late.\n",
       "    var cells = IPython.notebook.get_cells();\n",
       "    var ncells = cells.length;\n",
       "    for (var i=0; i<ncells; i++) {\n",
       "        var cell = cells[i];\n",
       "        if (cell.cell_type === 'code'){\n",
       "            for (var j=0; j<cell.output_area.outputs.length; j++) {\n",
       "                var data = cell.output_area.outputs[j];\n",
       "                if (data.data) {\n",
       "                    // IPython >= 3 moved mimebundle to data attribute of output\n",
       "                    data = data.data;\n",
       "                }\n",
       "                if (data['text/html'] == html_output) {\n",
       "                    return [cell, data, j];\n",
       "                }\n",
       "            }\n",
       "        }\n",
       "    }\n",
       "}\n",
       "\n",
       "// Register the function which deals with the matplotlib target/channel.\n",
       "// The kernel may be null if the page has been refreshed.\n",
       "if (IPython.notebook.kernel != null) {\n",
       "    IPython.notebook.kernel.comm_manager.register_target('matplotlib', mpl.mpl_figure_comm);\n",
       "}\n"
      ],
      "text/plain": [
       "<IPython.core.display.Javascript object>"
      ]
     },
     "metadata": {},
     "output_type": "display_data"
    },
    {
     "data": {
      "text/html": [
       "<img src=\"data:image/png;base64,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\" width=\"638.888905813665\">"
      ],
      "text/plain": [
       "<IPython.core.display.HTML object>"
      ]
     },
     "metadata": {},
     "output_type": "display_data"
    }
   ],
   "source": [
    "plot_3D_space(ref_vec)"
   ]
  },
  {
   "cell_type": "markdown",
   "metadata": {},
   "source": [
    "## One of the planes in the voxel_space, the thresholding is global"
   ]
  },
  {
   "cell_type": "markdown",
   "metadata": {},
   "source": [
    "### At depth plane of 99"
   ]
  },
  {
   "cell_type": "code",
   "execution_count": 104,
   "metadata": {},
   "outputs": [
    {
     "data": {
      "application/javascript": [
       "/* Put everything inside the global mpl namespace */\n",
       "window.mpl = {};\n",
       "\n",
       "\n",
       "mpl.get_websocket_type = function() {\n",
       "    if (typeof(WebSocket) !== 'undefined') {\n",
       "        return WebSocket;\n",
       "    } else if (typeof(MozWebSocket) !== 'undefined') {\n",
       "        return MozWebSocket;\n",
       "    } else {\n",
       "        alert('Your browser does not have WebSocket support.' +\n",
       "              'Please try Chrome, Safari or Firefox ≥ 6. ' +\n",
       "              'Firefox 4 and 5 are also supported but you ' +\n",
       "              'have to enable WebSockets in about:config.');\n",
       "    };\n",
       "}\n",
       "\n",
       "mpl.figure = function(figure_id, websocket, ondownload, parent_element) {\n",
       "    this.id = figure_id;\n",
       "\n",
       "    this.ws = websocket;\n",
       "\n",
       "    this.supports_binary = (this.ws.binaryType != undefined);\n",
       "\n",
       "    if (!this.supports_binary) {\n",
       "        var warnings = document.getElementById(\"mpl-warnings\");\n",
       "        if (warnings) {\n",
       "            warnings.style.display = 'block';\n",
       "            warnings.textContent = (\n",
       "                \"This browser does not support binary websocket messages. \" +\n",
       "                    \"Performance may be slow.\");\n",
       "        }\n",
       "    }\n",
       "\n",
       "    this.imageObj = new Image();\n",
       "\n",
       "    this.context = undefined;\n",
       "    this.message = undefined;\n",
       "    this.canvas = undefined;\n",
       "    this.rubberband_canvas = undefined;\n",
       "    this.rubberband_context = undefined;\n",
       "    this.format_dropdown = undefined;\n",
       "\n",
       "    this.image_mode = 'full';\n",
       "\n",
       "    this.root = $('<div/>');\n",
       "    this._root_extra_style(this.root)\n",
       "    this.root.attr('style', 'display: inline-block');\n",
       "\n",
       "    $(parent_element).append(this.root);\n",
       "\n",
       "    this._init_header(this);\n",
       "    this._init_canvas(this);\n",
       "    this._init_toolbar(this);\n",
       "\n",
       "    var fig = this;\n",
       "\n",
       "    this.waiting = false;\n",
       "\n",
       "    this.ws.onopen =  function () {\n",
       "            fig.send_message(\"supports_binary\", {value: fig.supports_binary});\n",
       "            fig.send_message(\"send_image_mode\", {});\n",
       "            if (mpl.ratio != 1) {\n",
       "                fig.send_message(\"set_dpi_ratio\", {'dpi_ratio': mpl.ratio});\n",
       "            }\n",
       "            fig.send_message(\"refresh\", {});\n",
       "        }\n",
       "\n",
       "    this.imageObj.onload = function() {\n",
       "            if (fig.image_mode == 'full') {\n",
       "                // Full images could contain transparency (where diff images\n",
       "                // almost always do), so we need to clear the canvas so that\n",
       "                // there is no ghosting.\n",
       "                fig.context.clearRect(0, 0, fig.canvas.width, fig.canvas.height);\n",
       "            }\n",
       "            fig.context.drawImage(fig.imageObj, 0, 0);\n",
       "        };\n",
       "\n",
       "    this.imageObj.onunload = function() {\n",
       "        fig.ws.close();\n",
       "    }\n",
       "\n",
       "    this.ws.onmessage = this._make_on_message_function(this);\n",
       "\n",
       "    this.ondownload = ondownload;\n",
       "}\n",
       "\n",
       "mpl.figure.prototype._init_header = function() {\n",
       "    var titlebar = $(\n",
       "        '<div class=\"ui-dialog-titlebar ui-widget-header ui-corner-all ' +\n",
       "        'ui-helper-clearfix\"/>');\n",
       "    var titletext = $(\n",
       "        '<div class=\"ui-dialog-title\" style=\"width: 100%; ' +\n",
       "        'text-align: center; padding: 3px;\"/>');\n",
       "    titlebar.append(titletext)\n",
       "    this.root.append(titlebar);\n",
       "    this.header = titletext[0];\n",
       "}\n",
       "\n",
       "\n",
       "\n",
       "mpl.figure.prototype._canvas_extra_style = function(canvas_div) {\n",
       "\n",
       "}\n",
       "\n",
       "\n",
       "mpl.figure.prototype._root_extra_style = function(canvas_div) {\n",
       "\n",
       "}\n",
       "\n",
       "mpl.figure.prototype._init_canvas = function() {\n",
       "    var fig = this;\n",
       "\n",
       "    var canvas_div = $('<div/>');\n",
       "\n",
       "    canvas_div.attr('style', 'position: relative; clear: both; outline: 0');\n",
       "\n",
       "    function canvas_keyboard_event(event) {\n",
       "        return fig.key_event(event, event['data']);\n",
       "    }\n",
       "\n",
       "    canvas_div.keydown('key_press', canvas_keyboard_event);\n",
       "    canvas_div.keyup('key_release', canvas_keyboard_event);\n",
       "    this.canvas_div = canvas_div\n",
       "    this._canvas_extra_style(canvas_div)\n",
       "    this.root.append(canvas_div);\n",
       "\n",
       "    var canvas = $('<canvas/>');\n",
       "    canvas.addClass('mpl-canvas');\n",
       "    canvas.attr('style', \"left: 0; top: 0; z-index: 0; outline: 0\")\n",
       "\n",
       "    this.canvas = canvas[0];\n",
       "    this.context = canvas[0].getContext(\"2d\");\n",
       "\n",
       "    var backingStore = this.context.backingStorePixelRatio ||\n",
       "\tthis.context.webkitBackingStorePixelRatio ||\n",
       "\tthis.context.mozBackingStorePixelRatio ||\n",
       "\tthis.context.msBackingStorePixelRatio ||\n",
       "\tthis.context.oBackingStorePixelRatio ||\n",
       "\tthis.context.backingStorePixelRatio || 1;\n",
       "\n",
       "    mpl.ratio = (window.devicePixelRatio || 1) / backingStore;\n",
       "\n",
       "    var rubberband = $('<canvas/>');\n",
       "    rubberband.attr('style', \"position: absolute; left: 0; top: 0; z-index: 1;\")\n",
       "\n",
       "    var pass_mouse_events = true;\n",
       "\n",
       "    canvas_div.resizable({\n",
       "        start: function(event, ui) {\n",
       "            pass_mouse_events = false;\n",
       "        },\n",
       "        resize: function(event, ui) {\n",
       "            fig.request_resize(ui.size.width, ui.size.height);\n",
       "        },\n",
       "        stop: function(event, ui) {\n",
       "            pass_mouse_events = true;\n",
       "            fig.request_resize(ui.size.width, ui.size.height);\n",
       "        },\n",
       "    });\n",
       "\n",
       "    function mouse_event_fn(event) {\n",
       "        if (pass_mouse_events)\n",
       "            return fig.mouse_event(event, event['data']);\n",
       "    }\n",
       "\n",
       "    rubberband.mousedown('button_press', mouse_event_fn);\n",
       "    rubberband.mouseup('button_release', mouse_event_fn);\n",
       "    // Throttle sequential mouse events to 1 every 20ms.\n",
       "    rubberband.mousemove('motion_notify', mouse_event_fn);\n",
       "\n",
       "    rubberband.mouseenter('figure_enter', mouse_event_fn);\n",
       "    rubberband.mouseleave('figure_leave', mouse_event_fn);\n",
       "\n",
       "    canvas_div.on(\"wheel\", function (event) {\n",
       "        event = event.originalEvent;\n",
       "        event['data'] = 'scroll'\n",
       "        if (event.deltaY < 0) {\n",
       "            event.step = 1;\n",
       "        } else {\n",
       "            event.step = -1;\n",
       "        }\n",
       "        mouse_event_fn(event);\n",
       "    });\n",
       "\n",
       "    canvas_div.append(canvas);\n",
       "    canvas_div.append(rubberband);\n",
       "\n",
       "    this.rubberband = rubberband;\n",
       "    this.rubberband_canvas = rubberband[0];\n",
       "    this.rubberband_context = rubberband[0].getContext(\"2d\");\n",
       "    this.rubberband_context.strokeStyle = \"#000000\";\n",
       "\n",
       "    this._resize_canvas = function(width, height) {\n",
       "        // Keep the size of the canvas, canvas container, and rubber band\n",
       "        // canvas in synch.\n",
       "        canvas_div.css('width', width)\n",
       "        canvas_div.css('height', height)\n",
       "\n",
       "        canvas.attr('width', width * mpl.ratio);\n",
       "        canvas.attr('height', height * mpl.ratio);\n",
       "        canvas.attr('style', 'width: ' + width + 'px; height: ' + height + 'px;');\n",
       "\n",
       "        rubberband.attr('width', width);\n",
       "        rubberband.attr('height', height);\n",
       "    }\n",
       "\n",
       "    // Set the figure to an initial 600x600px, this will subsequently be updated\n",
       "    // upon first draw.\n",
       "    this._resize_canvas(600, 600);\n",
       "\n",
       "    // Disable right mouse context menu.\n",
       "    $(this.rubberband_canvas).bind(\"contextmenu\",function(e){\n",
       "        return false;\n",
       "    });\n",
       "\n",
       "    function set_focus () {\n",
       "        canvas.focus();\n",
       "        canvas_div.focus();\n",
       "    }\n",
       "\n",
       "    window.setTimeout(set_focus, 100);\n",
       "}\n",
       "\n",
       "mpl.figure.prototype._init_toolbar = function() {\n",
       "    var fig = this;\n",
       "\n",
       "    var nav_element = $('<div/>')\n",
       "    nav_element.attr('style', 'width: 100%');\n",
       "    this.root.append(nav_element);\n",
       "\n",
       "    // Define a callback function for later on.\n",
       "    function toolbar_event(event) {\n",
       "        return fig.toolbar_button_onclick(event['data']);\n",
       "    }\n",
       "    function toolbar_mouse_event(event) {\n",
       "        return fig.toolbar_button_onmouseover(event['data']);\n",
       "    }\n",
       "\n",
       "    for(var toolbar_ind in mpl.toolbar_items) {\n",
       "        var name = mpl.toolbar_items[toolbar_ind][0];\n",
       "        var tooltip = mpl.toolbar_items[toolbar_ind][1];\n",
       "        var image = mpl.toolbar_items[toolbar_ind][2];\n",
       "        var method_name = mpl.toolbar_items[toolbar_ind][3];\n",
       "\n",
       "        if (!name) {\n",
       "            // put a spacer in here.\n",
       "            continue;\n",
       "        }\n",
       "        var button = $('<button/>');\n",
       "        button.addClass('ui-button ui-widget ui-state-default ui-corner-all ' +\n",
       "                        'ui-button-icon-only');\n",
       "        button.attr('role', 'button');\n",
       "        button.attr('aria-disabled', 'false');\n",
       "        button.click(method_name, toolbar_event);\n",
       "        button.mouseover(tooltip, toolbar_mouse_event);\n",
       "\n",
       "        var icon_img = $('<span/>');\n",
       "        icon_img.addClass('ui-button-icon-primary ui-icon');\n",
       "        icon_img.addClass(image);\n",
       "        icon_img.addClass('ui-corner-all');\n",
       "\n",
       "        var tooltip_span = $('<span/>');\n",
       "        tooltip_span.addClass('ui-button-text');\n",
       "        tooltip_span.html(tooltip);\n",
       "\n",
       "        button.append(icon_img);\n",
       "        button.append(tooltip_span);\n",
       "\n",
       "        nav_element.append(button);\n",
       "    }\n",
       "\n",
       "    var fmt_picker_span = $('<span/>');\n",
       "\n",
       "    var fmt_picker = $('<select/>');\n",
       "    fmt_picker.addClass('mpl-toolbar-option ui-widget ui-widget-content');\n",
       "    fmt_picker_span.append(fmt_picker);\n",
       "    nav_element.append(fmt_picker_span);\n",
       "    this.format_dropdown = fmt_picker[0];\n",
       "\n",
       "    for (var ind in mpl.extensions) {\n",
       "        var fmt = mpl.extensions[ind];\n",
       "        var option = $(\n",
       "            '<option/>', {selected: fmt === mpl.default_extension}).html(fmt);\n",
       "        fmt_picker.append(option)\n",
       "    }\n",
       "\n",
       "    // Add hover states to the ui-buttons\n",
       "    $( \".ui-button\" ).hover(\n",
       "        function() { $(this).addClass(\"ui-state-hover\");},\n",
       "        function() { $(this).removeClass(\"ui-state-hover\");}\n",
       "    );\n",
       "\n",
       "    var status_bar = $('<span class=\"mpl-message\"/>');\n",
       "    nav_element.append(status_bar);\n",
       "    this.message = status_bar[0];\n",
       "}\n",
       "\n",
       "mpl.figure.prototype.request_resize = function(x_pixels, y_pixels) {\n",
       "    // Request matplotlib to resize the figure. Matplotlib will then trigger a resize in the client,\n",
       "    // which will in turn request a refresh of the image.\n",
       "    this.send_message('resize', {'width': x_pixels, 'height': y_pixels});\n",
       "}\n",
       "\n",
       "mpl.figure.prototype.send_message = function(type, properties) {\n",
       "    properties['type'] = type;\n",
       "    properties['figure_id'] = this.id;\n",
       "    this.ws.send(JSON.stringify(properties));\n",
       "}\n",
       "\n",
       "mpl.figure.prototype.send_draw_message = function() {\n",
       "    if (!this.waiting) {\n",
       "        this.waiting = true;\n",
       "        this.ws.send(JSON.stringify({type: \"draw\", figure_id: this.id}));\n",
       "    }\n",
       "}\n",
       "\n",
       "\n",
       "mpl.figure.prototype.handle_save = function(fig, msg) {\n",
       "    var format_dropdown = fig.format_dropdown;\n",
       "    var format = format_dropdown.options[format_dropdown.selectedIndex].value;\n",
       "    fig.ondownload(fig, format);\n",
       "}\n",
       "\n",
       "\n",
       "mpl.figure.prototype.handle_resize = function(fig, msg) {\n",
       "    var size = msg['size'];\n",
       "    if (size[0] != fig.canvas.width || size[1] != fig.canvas.height) {\n",
       "        fig._resize_canvas(size[0], size[1]);\n",
       "        fig.send_message(\"refresh\", {});\n",
       "    };\n",
       "}\n",
       "\n",
       "mpl.figure.prototype.handle_rubberband = function(fig, msg) {\n",
       "    var x0 = msg['x0'] / mpl.ratio;\n",
       "    var y0 = (fig.canvas.height - msg['y0']) / mpl.ratio;\n",
       "    var x1 = msg['x1'] / mpl.ratio;\n",
       "    var y1 = (fig.canvas.height - msg['y1']) / mpl.ratio;\n",
       "    x0 = Math.floor(x0) + 0.5;\n",
       "    y0 = Math.floor(y0) + 0.5;\n",
       "    x1 = Math.floor(x1) + 0.5;\n",
       "    y1 = Math.floor(y1) + 0.5;\n",
       "    var min_x = Math.min(x0, x1);\n",
       "    var min_y = Math.min(y0, y1);\n",
       "    var width = Math.abs(x1 - x0);\n",
       "    var height = Math.abs(y1 - y0);\n",
       "\n",
       "    fig.rubberband_context.clearRect(\n",
       "        0, 0, fig.canvas.width, fig.canvas.height);\n",
       "\n",
       "    fig.rubberband_context.strokeRect(min_x, min_y, width, height);\n",
       "}\n",
       "\n",
       "mpl.figure.prototype.handle_figure_label = function(fig, msg) {\n",
       "    // Updates the figure title.\n",
       "    fig.header.textContent = msg['label'];\n",
       "}\n",
       "\n",
       "mpl.figure.prototype.handle_cursor = function(fig, msg) {\n",
       "    var cursor = msg['cursor'];\n",
       "    switch(cursor)\n",
       "    {\n",
       "    case 0:\n",
       "        cursor = 'pointer';\n",
       "        break;\n",
       "    case 1:\n",
       "        cursor = 'default';\n",
       "        break;\n",
       "    case 2:\n",
       "        cursor = 'crosshair';\n",
       "        break;\n",
       "    case 3:\n",
       "        cursor = 'move';\n",
       "        break;\n",
       "    }\n",
       "    fig.rubberband_canvas.style.cursor = cursor;\n",
       "}\n",
       "\n",
       "mpl.figure.prototype.handle_message = function(fig, msg) {\n",
       "    fig.message.textContent = msg['message'];\n",
       "}\n",
       "\n",
       "mpl.figure.prototype.handle_draw = function(fig, msg) {\n",
       "    // Request the server to send over a new figure.\n",
       "    fig.send_draw_message();\n",
       "}\n",
       "\n",
       "mpl.figure.prototype.handle_image_mode = function(fig, msg) {\n",
       "    fig.image_mode = msg['mode'];\n",
       "}\n",
       "\n",
       "mpl.figure.prototype.updated_canvas_event = function() {\n",
       "    // Called whenever the canvas gets updated.\n",
       "    this.send_message(\"ack\", {});\n",
       "}\n",
       "\n",
       "// A function to construct a web socket function for onmessage handling.\n",
       "// Called in the figure constructor.\n",
       "mpl.figure.prototype._make_on_message_function = function(fig) {\n",
       "    return function socket_on_message(evt) {\n",
       "        if (evt.data instanceof Blob) {\n",
       "            /* FIXME: We get \"Resource interpreted as Image but\n",
       "             * transferred with MIME type text/plain:\" errors on\n",
       "             * Chrome.  But how to set the MIME type?  It doesn't seem\n",
       "             * to be part of the websocket stream */\n",
       "            evt.data.type = \"image/png\";\n",
       "\n",
       "            /* Free the memory for the previous frames */\n",
       "            if (fig.imageObj.src) {\n",
       "                (window.URL || window.webkitURL).revokeObjectURL(\n",
       "                    fig.imageObj.src);\n",
       "            }\n",
       "\n",
       "            fig.imageObj.src = (window.URL || window.webkitURL).createObjectURL(\n",
       "                evt.data);\n",
       "            fig.updated_canvas_event();\n",
       "            fig.waiting = false;\n",
       "            return;\n",
       "        }\n",
       "        else if (typeof evt.data === 'string' && evt.data.slice(0, 21) == \"data:image/png;base64\") {\n",
       "            fig.imageObj.src = evt.data;\n",
       "            fig.updated_canvas_event();\n",
       "            fig.waiting = false;\n",
       "            return;\n",
       "        }\n",
       "\n",
       "        var msg = JSON.parse(evt.data);\n",
       "        var msg_type = msg['type'];\n",
       "\n",
       "        // Call the  \"handle_{type}\" callback, which takes\n",
       "        // the figure and JSON message as its only arguments.\n",
       "        try {\n",
       "            var callback = fig[\"handle_\" + msg_type];\n",
       "        } catch (e) {\n",
       "            console.log(\"No handler for the '\" + msg_type + \"' message type: \", msg);\n",
       "            return;\n",
       "        }\n",
       "\n",
       "        if (callback) {\n",
       "            try {\n",
       "                // console.log(\"Handling '\" + msg_type + \"' message: \", msg);\n",
       "                callback(fig, msg);\n",
       "            } catch (e) {\n",
       "                console.log(\"Exception inside the 'handler_\" + msg_type + \"' callback:\", e, e.stack, msg);\n",
       "            }\n",
       "        }\n",
       "    };\n",
       "}\n",
       "\n",
       "// from http://stackoverflow.com/questions/1114465/getting-mouse-location-in-canvas\n",
       "mpl.findpos = function(e) {\n",
       "    //this section is from http://www.quirksmode.org/js/events_properties.html\n",
       "    var targ;\n",
       "    if (!e)\n",
       "        e = window.event;\n",
       "    if (e.target)\n",
       "        targ = e.target;\n",
       "    else if (e.srcElement)\n",
       "        targ = e.srcElement;\n",
       "    if (targ.nodeType == 3) // defeat Safari bug\n",
       "        targ = targ.parentNode;\n",
       "\n",
       "    // jQuery normalizes the pageX and pageY\n",
       "    // pageX,Y are the mouse positions relative to the document\n",
       "    // offset() returns the position of the element relative to the document\n",
       "    var x = e.pageX - $(targ).offset().left;\n",
       "    var y = e.pageY - $(targ).offset().top;\n",
       "\n",
       "    return {\"x\": x, \"y\": y};\n",
       "};\n",
       "\n",
       "/*\n",
       " * return a copy of an object with only non-object keys\n",
       " * we need this to avoid circular references\n",
       " * http://stackoverflow.com/a/24161582/3208463\n",
       " */\n",
       "function simpleKeys (original) {\n",
       "  return Object.keys(original).reduce(function (obj, key) {\n",
       "    if (typeof original[key] !== 'object')\n",
       "        obj[key] = original[key]\n",
       "    return obj;\n",
       "  }, {});\n",
       "}\n",
       "\n",
       "mpl.figure.prototype.mouse_event = function(event, name) {\n",
       "    var canvas_pos = mpl.findpos(event)\n",
       "\n",
       "    if (name === 'button_press')\n",
       "    {\n",
       "        this.canvas.focus();\n",
       "        this.canvas_div.focus();\n",
       "    }\n",
       "\n",
       "    var x = canvas_pos.x * mpl.ratio;\n",
       "    var y = canvas_pos.y * mpl.ratio;\n",
       "\n",
       "    this.send_message(name, {x: x, y: y, button: event.button,\n",
       "                             step: event.step,\n",
       "                             guiEvent: simpleKeys(event)});\n",
       "\n",
       "    /* This prevents the web browser from automatically changing to\n",
       "     * the text insertion cursor when the button is pressed.  We want\n",
       "     * to control all of the cursor setting manually through the\n",
       "     * 'cursor' event from matplotlib */\n",
       "    event.preventDefault();\n",
       "    return false;\n",
       "}\n",
       "\n",
       "mpl.figure.prototype._key_event_extra = function(event, name) {\n",
       "    // Handle any extra behaviour associated with a key event\n",
       "}\n",
       "\n",
       "mpl.figure.prototype.key_event = function(event, name) {\n",
       "\n",
       "    // Prevent repeat events\n",
       "    if (name == 'key_press')\n",
       "    {\n",
       "        if (event.which === this._key)\n",
       "            return;\n",
       "        else\n",
       "            this._key = event.which;\n",
       "    }\n",
       "    if (name == 'key_release')\n",
       "        this._key = null;\n",
       "\n",
       "    var value = '';\n",
       "    if (event.ctrlKey && event.which != 17)\n",
       "        value += \"ctrl+\";\n",
       "    if (event.altKey && event.which != 18)\n",
       "        value += \"alt+\";\n",
       "    if (event.shiftKey && event.which != 16)\n",
       "        value += \"shift+\";\n",
       "\n",
       "    value += 'k';\n",
       "    value += event.which.toString();\n",
       "\n",
       "    this._key_event_extra(event, name);\n",
       "\n",
       "    this.send_message(name, {key: value,\n",
       "                             guiEvent: simpleKeys(event)});\n",
       "    return false;\n",
       "}\n",
       "\n",
       "mpl.figure.prototype.toolbar_button_onclick = function(name) {\n",
       "    if (name == 'download') {\n",
       "        this.handle_save(this, null);\n",
       "    } else {\n",
       "        this.send_message(\"toolbar_button\", {name: name});\n",
       "    }\n",
       "};\n",
       "\n",
       "mpl.figure.prototype.toolbar_button_onmouseover = function(tooltip) {\n",
       "    this.message.textContent = tooltip;\n",
       "};\n",
       "mpl.toolbar_items = [[\"Home\", \"Reset original view\", \"fa fa-home icon-home\", \"home\"], [\"Back\", \"Back to  previous view\", \"fa fa-arrow-left icon-arrow-left\", \"back\"], [\"Forward\", \"Forward to next view\", \"fa fa-arrow-right icon-arrow-right\", \"forward\"], [\"\", \"\", \"\", \"\"], [\"Pan\", \"Pan axes with left mouse, zoom with right\", \"fa fa-arrows icon-move\", \"pan\"], [\"Zoom\", \"Zoom to rectangle\", \"fa fa-square-o icon-check-empty\", \"zoom\"], [\"\", \"\", \"\", \"\"], [\"Download\", \"Download plot\", \"fa fa-floppy-o icon-save\", \"download\"]];\n",
       "\n",
       "mpl.extensions = [\"eps\", \"jpeg\", \"pdf\", \"png\", \"ps\", \"raw\", \"svg\", \"tif\"];\n",
       "\n",
       "mpl.default_extension = \"png\";var comm_websocket_adapter = function(comm) {\n",
       "    // Create a \"websocket\"-like object which calls the given IPython comm\n",
       "    // object with the appropriate methods. Currently this is a non binary\n",
       "    // socket, so there is still some room for performance tuning.\n",
       "    var ws = {};\n",
       "\n",
       "    ws.close = function() {\n",
       "        comm.close()\n",
       "    };\n",
       "    ws.send = function(m) {\n",
       "        //console.log('sending', m);\n",
       "        comm.send(m);\n",
       "    };\n",
       "    // Register the callback with on_msg.\n",
       "    comm.on_msg(function(msg) {\n",
       "        //console.log('receiving', msg['content']['data'], msg);\n",
       "        // Pass the mpl event to the overridden (by mpl) onmessage function.\n",
       "        ws.onmessage(msg['content']['data'])\n",
       "    });\n",
       "    return ws;\n",
       "}\n",
       "\n",
       "mpl.mpl_figure_comm = function(comm, msg) {\n",
       "    // This is the function which gets called when the mpl process\n",
       "    // starts-up an IPython Comm through the \"matplotlib\" channel.\n",
       "\n",
       "    var id = msg.content.data.id;\n",
       "    // Get hold of the div created by the display call when the Comm\n",
       "    // socket was opened in Python.\n",
       "    var element = $(\"#\" + id);\n",
       "    var ws_proxy = comm_websocket_adapter(comm)\n",
       "\n",
       "    function ondownload(figure, format) {\n",
       "        window.open(figure.imageObj.src);\n",
       "    }\n",
       "\n",
       "    var fig = new mpl.figure(id, ws_proxy,\n",
       "                           ondownload,\n",
       "                           element.get(0));\n",
       "\n",
       "    // Call onopen now - mpl needs it, as it is assuming we've passed it a real\n",
       "    // web socket which is closed, not our websocket->open comm proxy.\n",
       "    ws_proxy.onopen();\n",
       "\n",
       "    fig.parent_element = element.get(0);\n",
       "    fig.cell_info = mpl.find_output_cell(\"<div id='\" + id + \"'></div>\");\n",
       "    if (!fig.cell_info) {\n",
       "        console.error(\"Failed to find cell for figure\", id, fig);\n",
       "        return;\n",
       "    }\n",
       "\n",
       "    var output_index = fig.cell_info[2]\n",
       "    var cell = fig.cell_info[0];\n",
       "\n",
       "};\n",
       "\n",
       "mpl.figure.prototype.handle_close = function(fig, msg) {\n",
       "    var width = fig.canvas.width/mpl.ratio\n",
       "    fig.root.unbind('remove')\n",
       "\n",
       "    // Update the output cell to use the data from the current canvas.\n",
       "    fig.push_to_output();\n",
       "    var dataURL = fig.canvas.toDataURL();\n",
       "    // Re-enable the keyboard manager in IPython - without this line, in FF,\n",
       "    // the notebook keyboard shortcuts fail.\n",
       "    IPython.keyboard_manager.enable()\n",
       "    $(fig.parent_element).html('<img src=\"' + dataURL + '\" width=\"' + width + '\">');\n",
       "    fig.close_ws(fig, msg);\n",
       "}\n",
       "\n",
       "mpl.figure.prototype.close_ws = function(fig, msg){\n",
       "    fig.send_message('closing', msg);\n",
       "    // fig.ws.close()\n",
       "}\n",
       "\n",
       "mpl.figure.prototype.push_to_output = function(remove_interactive) {\n",
       "    // Turn the data on the canvas into data in the output cell.\n",
       "    var width = this.canvas.width/mpl.ratio\n",
       "    var dataURL = this.canvas.toDataURL();\n",
       "    this.cell_info[1]['text/html'] = '<img src=\"' + dataURL + '\" width=\"' + width + '\">';\n",
       "}\n",
       "\n",
       "mpl.figure.prototype.updated_canvas_event = function() {\n",
       "    // Tell IPython that the notebook contents must change.\n",
       "    IPython.notebook.set_dirty(true);\n",
       "    this.send_message(\"ack\", {});\n",
       "    var fig = this;\n",
       "    // Wait a second, then push the new image to the DOM so\n",
       "    // that it is saved nicely (might be nice to debounce this).\n",
       "    setTimeout(function () { fig.push_to_output() }, 1000);\n",
       "}\n",
       "\n",
       "mpl.figure.prototype._init_toolbar = function() {\n",
       "    var fig = this;\n",
       "\n",
       "    var nav_element = $('<div/>')\n",
       "    nav_element.attr('style', 'width: 100%');\n",
       "    this.root.append(nav_element);\n",
       "\n",
       "    // Define a callback function for later on.\n",
       "    function toolbar_event(event) {\n",
       "        return fig.toolbar_button_onclick(event['data']);\n",
       "    }\n",
       "    function toolbar_mouse_event(event) {\n",
       "        return fig.toolbar_button_onmouseover(event['data']);\n",
       "    }\n",
       "\n",
       "    for(var toolbar_ind in mpl.toolbar_items){\n",
       "        var name = mpl.toolbar_items[toolbar_ind][0];\n",
       "        var tooltip = mpl.toolbar_items[toolbar_ind][1];\n",
       "        var image = mpl.toolbar_items[toolbar_ind][2];\n",
       "        var method_name = mpl.toolbar_items[toolbar_ind][3];\n",
       "\n",
       "        if (!name) { continue; };\n",
       "\n",
       "        var button = $('<button class=\"btn btn-default\" href=\"#\" title=\"' + name + '\"><i class=\"fa ' + image + ' fa-lg\"></i></button>');\n",
       "        button.click(method_name, toolbar_event);\n",
       "        button.mouseover(tooltip, toolbar_mouse_event);\n",
       "        nav_element.append(button);\n",
       "    }\n",
       "\n",
       "    // Add the status bar.\n",
       "    var status_bar = $('<span class=\"mpl-message\" style=\"text-align:right; float: right;\"/>');\n",
       "    nav_element.append(status_bar);\n",
       "    this.message = status_bar[0];\n",
       "\n",
       "    // Add the close button to the window.\n",
       "    var buttongrp = $('<div class=\"btn-group inline pull-right\"></div>');\n",
       "    var button = $('<button class=\"btn btn-mini btn-primary\" href=\"#\" title=\"Stop Interaction\"><i class=\"fa fa-power-off icon-remove icon-large\"></i></button>');\n",
       "    button.click(function (evt) { fig.handle_close(fig, {}); } );\n",
       "    button.mouseover('Stop Interaction', toolbar_mouse_event);\n",
       "    buttongrp.append(button);\n",
       "    var titlebar = this.root.find($('.ui-dialog-titlebar'));\n",
       "    titlebar.prepend(buttongrp);\n",
       "}\n",
       "\n",
       "mpl.figure.prototype._root_extra_style = function(el){\n",
       "    var fig = this\n",
       "    el.on(\"remove\", function(){\n",
       "\tfig.close_ws(fig, {});\n",
       "    });\n",
       "}\n",
       "\n",
       "mpl.figure.prototype._canvas_extra_style = function(el){\n",
       "    // this is important to make the div 'focusable\n",
       "    el.attr('tabindex', 0)\n",
       "    // reach out to IPython and tell the keyboard manager to turn it's self\n",
       "    // off when our div gets focus\n",
       "\n",
       "    // location in version 3\n",
       "    if (IPython.notebook.keyboard_manager) {\n",
       "        IPython.notebook.keyboard_manager.register_events(el);\n",
       "    }\n",
       "    else {\n",
       "        // location in version 2\n",
       "        IPython.keyboard_manager.register_events(el);\n",
       "    }\n",
       "\n",
       "}\n",
       "\n",
       "mpl.figure.prototype._key_event_extra = function(event, name) {\n",
       "    var manager = IPython.notebook.keyboard_manager;\n",
       "    if (!manager)\n",
       "        manager = IPython.keyboard_manager;\n",
       "\n",
       "    // Check for shift+enter\n",
       "    if (event.shiftKey && event.which == 13) {\n",
       "        this.canvas_div.blur();\n",
       "        event.shiftKey = false;\n",
       "        // Send a \"J\" for go to next cell\n",
       "        event.which = 74;\n",
       "        event.keyCode = 74;\n",
       "        manager.command_mode();\n",
       "        manager.handle_keydown(event);\n",
       "    }\n",
       "}\n",
       "\n",
       "mpl.figure.prototype.handle_save = function(fig, msg) {\n",
       "    fig.ondownload(fig, null);\n",
       "}\n",
       "\n",
       "\n",
       "mpl.find_output_cell = function(html_output) {\n",
       "    // Return the cell and output element which can be found *uniquely* in the notebook.\n",
       "    // Note - this is a bit hacky, but it is done because the \"notebook_saving.Notebook\"\n",
       "    // IPython event is triggered only after the cells have been serialised, which for\n",
       "    // our purposes (turning an active figure into a static one), is too late.\n",
       "    var cells = IPython.notebook.get_cells();\n",
       "    var ncells = cells.length;\n",
       "    for (var i=0; i<ncells; i++) {\n",
       "        var cell = cells[i];\n",
       "        if (cell.cell_type === 'code'){\n",
       "            for (var j=0; j<cell.output_area.outputs.length; j++) {\n",
       "                var data = cell.output_area.outputs[j];\n",
       "                if (data.data) {\n",
       "                    // IPython >= 3 moved mimebundle to data attribute of output\n",
       "                    data = data.data;\n",
       "                }\n",
       "                if (data['text/html'] == html_output) {\n",
       "                    return [cell, data, j];\n",
       "                }\n",
       "            }\n",
       "        }\n",
       "    }\n",
       "}\n",
       "\n",
       "// Register the function which deals with the matplotlib target/channel.\n",
       "// The kernel may be null if the page has been refreshed.\n",
       "if (IPython.notebook.kernel != null) {\n",
       "    IPython.notebook.kernel.comm_manager.register_target('matplotlib', mpl.mpl_figure_comm);\n",
       "}\n"
      ],
      "text/plain": [
       "<IPython.core.display.Javascript object>"
      ]
     },
     "metadata": {},
     "output_type": "display_data"
    },
    {
     "data": {
      "text/html": [
       "<img src=\"data:image/png;base64,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\" width=\"638.888905813665\">"
      ],
      "text/plain": [
       "<IPython.core.display.HTML object>"
      ]
     },
     "metadata": {},
     "output_type": "display_data"
    },
    {
     "data": {
      "text/plain": [
       "<matplotlib.image.AxesImage at 0x1c5dff0748>"
      ]
     },
     "execution_count": 104,
     "metadata": {},
     "output_type": "execute_result"
    }
   ],
   "source": [
    "from scipy import ndimage\n",
    "rotated_img = ndimage.rotate(voxel_space[100 - (Z_0+1), :, :], 270)\n",
    "plt.imshow(np.fliplr(rotated_img))"
   ]
  },
  {
   "cell_type": "markdown",
   "metadata": {},
   "source": [
    "### At depth plane of 2"
   ]
  },
  {
   "cell_type": "code",
   "execution_count": 105,
   "metadata": {},
   "outputs": [
    {
     "data": {
      "application/javascript": [
       "/* Put everything inside the global mpl namespace */\n",
       "window.mpl = {};\n",
       "\n",
       "\n",
       "mpl.get_websocket_type = function() {\n",
       "    if (typeof(WebSocket) !== 'undefined') {\n",
       "        return WebSocket;\n",
       "    } else if (typeof(MozWebSocket) !== 'undefined') {\n",
       "        return MozWebSocket;\n",
       "    } else {\n",
       "        alert('Your browser does not have WebSocket support.' +\n",
       "              'Please try Chrome, Safari or Firefox ≥ 6. ' +\n",
       "              'Firefox 4 and 5 are also supported but you ' +\n",
       "              'have to enable WebSockets in about:config.');\n",
       "    };\n",
       "}\n",
       "\n",
       "mpl.figure = function(figure_id, websocket, ondownload, parent_element) {\n",
       "    this.id = figure_id;\n",
       "\n",
       "    this.ws = websocket;\n",
       "\n",
       "    this.supports_binary = (this.ws.binaryType != undefined);\n",
       "\n",
       "    if (!this.supports_binary) {\n",
       "        var warnings = document.getElementById(\"mpl-warnings\");\n",
       "        if (warnings) {\n",
       "            warnings.style.display = 'block';\n",
       "            warnings.textContent = (\n",
       "                \"This browser does not support binary websocket messages. \" +\n",
       "                    \"Performance may be slow.\");\n",
       "        }\n",
       "    }\n",
       "\n",
       "    this.imageObj = new Image();\n",
       "\n",
       "    this.context = undefined;\n",
       "    this.message = undefined;\n",
       "    this.canvas = undefined;\n",
       "    this.rubberband_canvas = undefined;\n",
       "    this.rubberband_context = undefined;\n",
       "    this.format_dropdown = undefined;\n",
       "\n",
       "    this.image_mode = 'full';\n",
       "\n",
       "    this.root = $('<div/>');\n",
       "    this._root_extra_style(this.root)\n",
       "    this.root.attr('style', 'display: inline-block');\n",
       "\n",
       "    $(parent_element).append(this.root);\n",
       "\n",
       "    this._init_header(this);\n",
       "    this._init_canvas(this);\n",
       "    this._init_toolbar(this);\n",
       "\n",
       "    var fig = this;\n",
       "\n",
       "    this.waiting = false;\n",
       "\n",
       "    this.ws.onopen =  function () {\n",
       "            fig.send_message(\"supports_binary\", {value: fig.supports_binary});\n",
       "            fig.send_message(\"send_image_mode\", {});\n",
       "            if (mpl.ratio != 1) {\n",
       "                fig.send_message(\"set_dpi_ratio\", {'dpi_ratio': mpl.ratio});\n",
       "            }\n",
       "            fig.send_message(\"refresh\", {});\n",
       "        }\n",
       "\n",
       "    this.imageObj.onload = function() {\n",
       "            if (fig.image_mode == 'full') {\n",
       "                // Full images could contain transparency (where diff images\n",
       "                // almost always do), so we need to clear the canvas so that\n",
       "                // there is no ghosting.\n",
       "                fig.context.clearRect(0, 0, fig.canvas.width, fig.canvas.height);\n",
       "            }\n",
       "            fig.context.drawImage(fig.imageObj, 0, 0);\n",
       "        };\n",
       "\n",
       "    this.imageObj.onunload = function() {\n",
       "        fig.ws.close();\n",
       "    }\n",
       "\n",
       "    this.ws.onmessage = this._make_on_message_function(this);\n",
       "\n",
       "    this.ondownload = ondownload;\n",
       "}\n",
       "\n",
       "mpl.figure.prototype._init_header = function() {\n",
       "    var titlebar = $(\n",
       "        '<div class=\"ui-dialog-titlebar ui-widget-header ui-corner-all ' +\n",
       "        'ui-helper-clearfix\"/>');\n",
       "    var titletext = $(\n",
       "        '<div class=\"ui-dialog-title\" style=\"width: 100%; ' +\n",
       "        'text-align: center; padding: 3px;\"/>');\n",
       "    titlebar.append(titletext)\n",
       "    this.root.append(titlebar);\n",
       "    this.header = titletext[0];\n",
       "}\n",
       "\n",
       "\n",
       "\n",
       "mpl.figure.prototype._canvas_extra_style = function(canvas_div) {\n",
       "\n",
       "}\n",
       "\n",
       "\n",
       "mpl.figure.prototype._root_extra_style = function(canvas_div) {\n",
       "\n",
       "}\n",
       "\n",
       "mpl.figure.prototype._init_canvas = function() {\n",
       "    var fig = this;\n",
       "\n",
       "    var canvas_div = $('<div/>');\n",
       "\n",
       "    canvas_div.attr('style', 'position: relative; clear: both; outline: 0');\n",
       "\n",
       "    function canvas_keyboard_event(event) {\n",
       "        return fig.key_event(event, event['data']);\n",
       "    }\n",
       "\n",
       "    canvas_div.keydown('key_press', canvas_keyboard_event);\n",
       "    canvas_div.keyup('key_release', canvas_keyboard_event);\n",
       "    this.canvas_div = canvas_div\n",
       "    this._canvas_extra_style(canvas_div)\n",
       "    this.root.append(canvas_div);\n",
       "\n",
       "    var canvas = $('<canvas/>');\n",
       "    canvas.addClass('mpl-canvas');\n",
       "    canvas.attr('style', \"left: 0; top: 0; z-index: 0; outline: 0\")\n",
       "\n",
       "    this.canvas = canvas[0];\n",
       "    this.context = canvas[0].getContext(\"2d\");\n",
       "\n",
       "    var backingStore = this.context.backingStorePixelRatio ||\n",
       "\tthis.context.webkitBackingStorePixelRatio ||\n",
       "\tthis.context.mozBackingStorePixelRatio ||\n",
       "\tthis.context.msBackingStorePixelRatio ||\n",
       "\tthis.context.oBackingStorePixelRatio ||\n",
       "\tthis.context.backingStorePixelRatio || 1;\n",
       "\n",
       "    mpl.ratio = (window.devicePixelRatio || 1) / backingStore;\n",
       "\n",
       "    var rubberband = $('<canvas/>');\n",
       "    rubberband.attr('style', \"position: absolute; left: 0; top: 0; z-index: 1;\")\n",
       "\n",
       "    var pass_mouse_events = true;\n",
       "\n",
       "    canvas_div.resizable({\n",
       "        start: function(event, ui) {\n",
       "            pass_mouse_events = false;\n",
       "        },\n",
       "        resize: function(event, ui) {\n",
       "            fig.request_resize(ui.size.width, ui.size.height);\n",
       "        },\n",
       "        stop: function(event, ui) {\n",
       "            pass_mouse_events = true;\n",
       "            fig.request_resize(ui.size.width, ui.size.height);\n",
       "        },\n",
       "    });\n",
       "\n",
       "    function mouse_event_fn(event) {\n",
       "        if (pass_mouse_events)\n",
       "            return fig.mouse_event(event, event['data']);\n",
       "    }\n",
       "\n",
       "    rubberband.mousedown('button_press', mouse_event_fn);\n",
       "    rubberband.mouseup('button_release', mouse_event_fn);\n",
       "    // Throttle sequential mouse events to 1 every 20ms.\n",
       "    rubberband.mousemove('motion_notify', mouse_event_fn);\n",
       "\n",
       "    rubberband.mouseenter('figure_enter', mouse_event_fn);\n",
       "    rubberband.mouseleave('figure_leave', mouse_event_fn);\n",
       "\n",
       "    canvas_div.on(\"wheel\", function (event) {\n",
       "        event = event.originalEvent;\n",
       "        event['data'] = 'scroll'\n",
       "        if (event.deltaY < 0) {\n",
       "            event.step = 1;\n",
       "        } else {\n",
       "            event.step = -1;\n",
       "        }\n",
       "        mouse_event_fn(event);\n",
       "    });\n",
       "\n",
       "    canvas_div.append(canvas);\n",
       "    canvas_div.append(rubberband);\n",
       "\n",
       "    this.rubberband = rubberband;\n",
       "    this.rubberband_canvas = rubberband[0];\n",
       "    this.rubberband_context = rubberband[0].getContext(\"2d\");\n",
       "    this.rubberband_context.strokeStyle = \"#000000\";\n",
       "\n",
       "    this._resize_canvas = function(width, height) {\n",
       "        // Keep the size of the canvas, canvas container, and rubber band\n",
       "        // canvas in synch.\n",
       "        canvas_div.css('width', width)\n",
       "        canvas_div.css('height', height)\n",
       "\n",
       "        canvas.attr('width', width * mpl.ratio);\n",
       "        canvas.attr('height', height * mpl.ratio);\n",
       "        canvas.attr('style', 'width: ' + width + 'px; height: ' + height + 'px;');\n",
       "\n",
       "        rubberband.attr('width', width);\n",
       "        rubberband.attr('height', height);\n",
       "    }\n",
       "\n",
       "    // Set the figure to an initial 600x600px, this will subsequently be updated\n",
       "    // upon first draw.\n",
       "    this._resize_canvas(600, 600);\n",
       "\n",
       "    // Disable right mouse context menu.\n",
       "    $(this.rubberband_canvas).bind(\"contextmenu\",function(e){\n",
       "        return false;\n",
       "    });\n",
       "\n",
       "    function set_focus () {\n",
       "        canvas.focus();\n",
       "        canvas_div.focus();\n",
       "    }\n",
       "\n",
       "    window.setTimeout(set_focus, 100);\n",
       "}\n",
       "\n",
       "mpl.figure.prototype._init_toolbar = function() {\n",
       "    var fig = this;\n",
       "\n",
       "    var nav_element = $('<div/>')\n",
       "    nav_element.attr('style', 'width: 100%');\n",
       "    this.root.append(nav_element);\n",
       "\n",
       "    // Define a callback function for later on.\n",
       "    function toolbar_event(event) {\n",
       "        return fig.toolbar_button_onclick(event['data']);\n",
       "    }\n",
       "    function toolbar_mouse_event(event) {\n",
       "        return fig.toolbar_button_onmouseover(event['data']);\n",
       "    }\n",
       "\n",
       "    for(var toolbar_ind in mpl.toolbar_items) {\n",
       "        var name = mpl.toolbar_items[toolbar_ind][0];\n",
       "        var tooltip = mpl.toolbar_items[toolbar_ind][1];\n",
       "        var image = mpl.toolbar_items[toolbar_ind][2];\n",
       "        var method_name = mpl.toolbar_items[toolbar_ind][3];\n",
       "\n",
       "        if (!name) {\n",
       "            // put a spacer in here.\n",
       "            continue;\n",
       "        }\n",
       "        var button = $('<button/>');\n",
       "        button.addClass('ui-button ui-widget ui-state-default ui-corner-all ' +\n",
       "                        'ui-button-icon-only');\n",
       "        button.attr('role', 'button');\n",
       "        button.attr('aria-disabled', 'false');\n",
       "        button.click(method_name, toolbar_event);\n",
       "        button.mouseover(tooltip, toolbar_mouse_event);\n",
       "\n",
       "        var icon_img = $('<span/>');\n",
       "        icon_img.addClass('ui-button-icon-primary ui-icon');\n",
       "        icon_img.addClass(image);\n",
       "        icon_img.addClass('ui-corner-all');\n",
       "\n",
       "        var tooltip_span = $('<span/>');\n",
       "        tooltip_span.addClass('ui-button-text');\n",
       "        tooltip_span.html(tooltip);\n",
       "\n",
       "        button.append(icon_img);\n",
       "        button.append(tooltip_span);\n",
       "\n",
       "        nav_element.append(button);\n",
       "    }\n",
       "\n",
       "    var fmt_picker_span = $('<span/>');\n",
       "\n",
       "    var fmt_picker = $('<select/>');\n",
       "    fmt_picker.addClass('mpl-toolbar-option ui-widget ui-widget-content');\n",
       "    fmt_picker_span.append(fmt_picker);\n",
       "    nav_element.append(fmt_picker_span);\n",
       "    this.format_dropdown = fmt_picker[0];\n",
       "\n",
       "    for (var ind in mpl.extensions) {\n",
       "        var fmt = mpl.extensions[ind];\n",
       "        var option = $(\n",
       "            '<option/>', {selected: fmt === mpl.default_extension}).html(fmt);\n",
       "        fmt_picker.append(option)\n",
       "    }\n",
       "\n",
       "    // Add hover states to the ui-buttons\n",
       "    $( \".ui-button\" ).hover(\n",
       "        function() { $(this).addClass(\"ui-state-hover\");},\n",
       "        function() { $(this).removeClass(\"ui-state-hover\");}\n",
       "    );\n",
       "\n",
       "    var status_bar = $('<span class=\"mpl-message\"/>');\n",
       "    nav_element.append(status_bar);\n",
       "    this.message = status_bar[0];\n",
       "}\n",
       "\n",
       "mpl.figure.prototype.request_resize = function(x_pixels, y_pixels) {\n",
       "    // Request matplotlib to resize the figure. Matplotlib will then trigger a resize in the client,\n",
       "    // which will in turn request a refresh of the image.\n",
       "    this.send_message('resize', {'width': x_pixels, 'height': y_pixels});\n",
       "}\n",
       "\n",
       "mpl.figure.prototype.send_message = function(type, properties) {\n",
       "    properties['type'] = type;\n",
       "    properties['figure_id'] = this.id;\n",
       "    this.ws.send(JSON.stringify(properties));\n",
       "}\n",
       "\n",
       "mpl.figure.prototype.send_draw_message = function() {\n",
       "    if (!this.waiting) {\n",
       "        this.waiting = true;\n",
       "        this.ws.send(JSON.stringify({type: \"draw\", figure_id: this.id}));\n",
       "    }\n",
       "}\n",
       "\n",
       "\n",
       "mpl.figure.prototype.handle_save = function(fig, msg) {\n",
       "    var format_dropdown = fig.format_dropdown;\n",
       "    var format = format_dropdown.options[format_dropdown.selectedIndex].value;\n",
       "    fig.ondownload(fig, format);\n",
       "}\n",
       "\n",
       "\n",
       "mpl.figure.prototype.handle_resize = function(fig, msg) {\n",
       "    var size = msg['size'];\n",
       "    if (size[0] != fig.canvas.width || size[1] != fig.canvas.height) {\n",
       "        fig._resize_canvas(size[0], size[1]);\n",
       "        fig.send_message(\"refresh\", {});\n",
       "    };\n",
       "}\n",
       "\n",
       "mpl.figure.prototype.handle_rubberband = function(fig, msg) {\n",
       "    var x0 = msg['x0'] / mpl.ratio;\n",
       "    var y0 = (fig.canvas.height - msg['y0']) / mpl.ratio;\n",
       "    var x1 = msg['x1'] / mpl.ratio;\n",
       "    var y1 = (fig.canvas.height - msg['y1']) / mpl.ratio;\n",
       "    x0 = Math.floor(x0) + 0.5;\n",
       "    y0 = Math.floor(y0) + 0.5;\n",
       "    x1 = Math.floor(x1) + 0.5;\n",
       "    y1 = Math.floor(y1) + 0.5;\n",
       "    var min_x = Math.min(x0, x1);\n",
       "    var min_y = Math.min(y0, y1);\n",
       "    var width = Math.abs(x1 - x0);\n",
       "    var height = Math.abs(y1 - y0);\n",
       "\n",
       "    fig.rubberband_context.clearRect(\n",
       "        0, 0, fig.canvas.width, fig.canvas.height);\n",
       "\n",
       "    fig.rubberband_context.strokeRect(min_x, min_y, width, height);\n",
       "}\n",
       "\n",
       "mpl.figure.prototype.handle_figure_label = function(fig, msg) {\n",
       "    // Updates the figure title.\n",
       "    fig.header.textContent = msg['label'];\n",
       "}\n",
       "\n",
       "mpl.figure.prototype.handle_cursor = function(fig, msg) {\n",
       "    var cursor = msg['cursor'];\n",
       "    switch(cursor)\n",
       "    {\n",
       "    case 0:\n",
       "        cursor = 'pointer';\n",
       "        break;\n",
       "    case 1:\n",
       "        cursor = 'default';\n",
       "        break;\n",
       "    case 2:\n",
       "        cursor = 'crosshair';\n",
       "        break;\n",
       "    case 3:\n",
       "        cursor = 'move';\n",
       "        break;\n",
       "    }\n",
       "    fig.rubberband_canvas.style.cursor = cursor;\n",
       "}\n",
       "\n",
       "mpl.figure.prototype.handle_message = function(fig, msg) {\n",
       "    fig.message.textContent = msg['message'];\n",
       "}\n",
       "\n",
       "mpl.figure.prototype.handle_draw = function(fig, msg) {\n",
       "    // Request the server to send over a new figure.\n",
       "    fig.send_draw_message();\n",
       "}\n",
       "\n",
       "mpl.figure.prototype.handle_image_mode = function(fig, msg) {\n",
       "    fig.image_mode = msg['mode'];\n",
       "}\n",
       "\n",
       "mpl.figure.prototype.updated_canvas_event = function() {\n",
       "    // Called whenever the canvas gets updated.\n",
       "    this.send_message(\"ack\", {});\n",
       "}\n",
       "\n",
       "// A function to construct a web socket function for onmessage handling.\n",
       "// Called in the figure constructor.\n",
       "mpl.figure.prototype._make_on_message_function = function(fig) {\n",
       "    return function socket_on_message(evt) {\n",
       "        if (evt.data instanceof Blob) {\n",
       "            /* FIXME: We get \"Resource interpreted as Image but\n",
       "             * transferred with MIME type text/plain:\" errors on\n",
       "             * Chrome.  But how to set the MIME type?  It doesn't seem\n",
       "             * to be part of the websocket stream */\n",
       "            evt.data.type = \"image/png\";\n",
       "\n",
       "            /* Free the memory for the previous frames */\n",
       "            if (fig.imageObj.src) {\n",
       "                (window.URL || window.webkitURL).revokeObjectURL(\n",
       "                    fig.imageObj.src);\n",
       "            }\n",
       "\n",
       "            fig.imageObj.src = (window.URL || window.webkitURL).createObjectURL(\n",
       "                evt.data);\n",
       "            fig.updated_canvas_event();\n",
       "            fig.waiting = false;\n",
       "            return;\n",
       "        }\n",
       "        else if (typeof evt.data === 'string' && evt.data.slice(0, 21) == \"data:image/png;base64\") {\n",
       "            fig.imageObj.src = evt.data;\n",
       "            fig.updated_canvas_event();\n",
       "            fig.waiting = false;\n",
       "            return;\n",
       "        }\n",
       "\n",
       "        var msg = JSON.parse(evt.data);\n",
       "        var msg_type = msg['type'];\n",
       "\n",
       "        // Call the  \"handle_{type}\" callback, which takes\n",
       "        // the figure and JSON message as its only arguments.\n",
       "        try {\n",
       "            var callback = fig[\"handle_\" + msg_type];\n",
       "        } catch (e) {\n",
       "            console.log(\"No handler for the '\" + msg_type + \"' message type: \", msg);\n",
       "            return;\n",
       "        }\n",
       "\n",
       "        if (callback) {\n",
       "            try {\n",
       "                // console.log(\"Handling '\" + msg_type + \"' message: \", msg);\n",
       "                callback(fig, msg);\n",
       "            } catch (e) {\n",
       "                console.log(\"Exception inside the 'handler_\" + msg_type + \"' callback:\", e, e.stack, msg);\n",
       "            }\n",
       "        }\n",
       "    };\n",
       "}\n",
       "\n",
       "// from http://stackoverflow.com/questions/1114465/getting-mouse-location-in-canvas\n",
       "mpl.findpos = function(e) {\n",
       "    //this section is from http://www.quirksmode.org/js/events_properties.html\n",
       "    var targ;\n",
       "    if (!e)\n",
       "        e = window.event;\n",
       "    if (e.target)\n",
       "        targ = e.target;\n",
       "    else if (e.srcElement)\n",
       "        targ = e.srcElement;\n",
       "    if (targ.nodeType == 3) // defeat Safari bug\n",
       "        targ = targ.parentNode;\n",
       "\n",
       "    // jQuery normalizes the pageX and pageY\n",
       "    // pageX,Y are the mouse positions relative to the document\n",
       "    // offset() returns the position of the element relative to the document\n",
       "    var x = e.pageX - $(targ).offset().left;\n",
       "    var y = e.pageY - $(targ).offset().top;\n",
       "\n",
       "    return {\"x\": x, \"y\": y};\n",
       "};\n",
       "\n",
       "/*\n",
       " * return a copy of an object with only non-object keys\n",
       " * we need this to avoid circular references\n",
       " * http://stackoverflow.com/a/24161582/3208463\n",
       " */\n",
       "function simpleKeys (original) {\n",
       "  return Object.keys(original).reduce(function (obj, key) {\n",
       "    if (typeof original[key] !== 'object')\n",
       "        obj[key] = original[key]\n",
       "    return obj;\n",
       "  }, {});\n",
       "}\n",
       "\n",
       "mpl.figure.prototype.mouse_event = function(event, name) {\n",
       "    var canvas_pos = mpl.findpos(event)\n",
       "\n",
       "    if (name === 'button_press')\n",
       "    {\n",
       "        this.canvas.focus();\n",
       "        this.canvas_div.focus();\n",
       "    }\n",
       "\n",
       "    var x = canvas_pos.x * mpl.ratio;\n",
       "    var y = canvas_pos.y * mpl.ratio;\n",
       "\n",
       "    this.send_message(name, {x: x, y: y, button: event.button,\n",
       "                             step: event.step,\n",
       "                             guiEvent: simpleKeys(event)});\n",
       "\n",
       "    /* This prevents the web browser from automatically changing to\n",
       "     * the text insertion cursor when the button is pressed.  We want\n",
       "     * to control all of the cursor setting manually through the\n",
       "     * 'cursor' event from matplotlib */\n",
       "    event.preventDefault();\n",
       "    return false;\n",
       "}\n",
       "\n",
       "mpl.figure.prototype._key_event_extra = function(event, name) {\n",
       "    // Handle any extra behaviour associated with a key event\n",
       "}\n",
       "\n",
       "mpl.figure.prototype.key_event = function(event, name) {\n",
       "\n",
       "    // Prevent repeat events\n",
       "    if (name == 'key_press')\n",
       "    {\n",
       "        if (event.which === this._key)\n",
       "            return;\n",
       "        else\n",
       "            this._key = event.which;\n",
       "    }\n",
       "    if (name == 'key_release')\n",
       "        this._key = null;\n",
       "\n",
       "    var value = '';\n",
       "    if (event.ctrlKey && event.which != 17)\n",
       "        value += \"ctrl+\";\n",
       "    if (event.altKey && event.which != 18)\n",
       "        value += \"alt+\";\n",
       "    if (event.shiftKey && event.which != 16)\n",
       "        value += \"shift+\";\n",
       "\n",
       "    value += 'k';\n",
       "    value += event.which.toString();\n",
       "\n",
       "    this._key_event_extra(event, name);\n",
       "\n",
       "    this.send_message(name, {key: value,\n",
       "                             guiEvent: simpleKeys(event)});\n",
       "    return false;\n",
       "}\n",
       "\n",
       "mpl.figure.prototype.toolbar_button_onclick = function(name) {\n",
       "    if (name == 'download') {\n",
       "        this.handle_save(this, null);\n",
       "    } else {\n",
       "        this.send_message(\"toolbar_button\", {name: name});\n",
       "    }\n",
       "};\n",
       "\n",
       "mpl.figure.prototype.toolbar_button_onmouseover = function(tooltip) {\n",
       "    this.message.textContent = tooltip;\n",
       "};\n",
       "mpl.toolbar_items = [[\"Home\", \"Reset original view\", \"fa fa-home icon-home\", \"home\"], [\"Back\", \"Back to  previous view\", \"fa fa-arrow-left icon-arrow-left\", \"back\"], [\"Forward\", \"Forward to next view\", \"fa fa-arrow-right icon-arrow-right\", \"forward\"], [\"\", \"\", \"\", \"\"], [\"Pan\", \"Pan axes with left mouse, zoom with right\", \"fa fa-arrows icon-move\", \"pan\"], [\"Zoom\", \"Zoom to rectangle\", \"fa fa-square-o icon-check-empty\", \"zoom\"], [\"\", \"\", \"\", \"\"], [\"Download\", \"Download plot\", \"fa fa-floppy-o icon-save\", \"download\"]];\n",
       "\n",
       "mpl.extensions = [\"eps\", \"jpeg\", \"pdf\", \"png\", \"ps\", \"raw\", \"svg\", \"tif\"];\n",
       "\n",
       "mpl.default_extension = \"png\";var comm_websocket_adapter = function(comm) {\n",
       "    // Create a \"websocket\"-like object which calls the given IPython comm\n",
       "    // object with the appropriate methods. Currently this is a non binary\n",
       "    // socket, so there is still some room for performance tuning.\n",
       "    var ws = {};\n",
       "\n",
       "    ws.close = function() {\n",
       "        comm.close()\n",
       "    };\n",
       "    ws.send = function(m) {\n",
       "        //console.log('sending', m);\n",
       "        comm.send(m);\n",
       "    };\n",
       "    // Register the callback with on_msg.\n",
       "    comm.on_msg(function(msg) {\n",
       "        //console.log('receiving', msg['content']['data'], msg);\n",
       "        // Pass the mpl event to the overridden (by mpl) onmessage function.\n",
       "        ws.onmessage(msg['content']['data'])\n",
       "    });\n",
       "    return ws;\n",
       "}\n",
       "\n",
       "mpl.mpl_figure_comm = function(comm, msg) {\n",
       "    // This is the function which gets called when the mpl process\n",
       "    // starts-up an IPython Comm through the \"matplotlib\" channel.\n",
       "\n",
       "    var id = msg.content.data.id;\n",
       "    // Get hold of the div created by the display call when the Comm\n",
       "    // socket was opened in Python.\n",
       "    var element = $(\"#\" + id);\n",
       "    var ws_proxy = comm_websocket_adapter(comm)\n",
       "\n",
       "    function ondownload(figure, format) {\n",
       "        window.open(figure.imageObj.src);\n",
       "    }\n",
       "\n",
       "    var fig = new mpl.figure(id, ws_proxy,\n",
       "                           ondownload,\n",
       "                           element.get(0));\n",
       "\n",
       "    // Call onopen now - mpl needs it, as it is assuming we've passed it a real\n",
       "    // web socket which is closed, not our websocket->open comm proxy.\n",
       "    ws_proxy.onopen();\n",
       "\n",
       "    fig.parent_element = element.get(0);\n",
       "    fig.cell_info = mpl.find_output_cell(\"<div id='\" + id + \"'></div>\");\n",
       "    if (!fig.cell_info) {\n",
       "        console.error(\"Failed to find cell for figure\", id, fig);\n",
       "        return;\n",
       "    }\n",
       "\n",
       "    var output_index = fig.cell_info[2]\n",
       "    var cell = fig.cell_info[0];\n",
       "\n",
       "};\n",
       "\n",
       "mpl.figure.prototype.handle_close = function(fig, msg) {\n",
       "    var width = fig.canvas.width/mpl.ratio\n",
       "    fig.root.unbind('remove')\n",
       "\n",
       "    // Update the output cell to use the data from the current canvas.\n",
       "    fig.push_to_output();\n",
       "    var dataURL = fig.canvas.toDataURL();\n",
       "    // Re-enable the keyboard manager in IPython - without this line, in FF,\n",
       "    // the notebook keyboard shortcuts fail.\n",
       "    IPython.keyboard_manager.enable()\n",
       "    $(fig.parent_element).html('<img src=\"' + dataURL + '\" width=\"' + width + '\">');\n",
       "    fig.close_ws(fig, msg);\n",
       "}\n",
       "\n",
       "mpl.figure.prototype.close_ws = function(fig, msg){\n",
       "    fig.send_message('closing', msg);\n",
       "    // fig.ws.close()\n",
       "}\n",
       "\n",
       "mpl.figure.prototype.push_to_output = function(remove_interactive) {\n",
       "    // Turn the data on the canvas into data in the output cell.\n",
       "    var width = this.canvas.width/mpl.ratio\n",
       "    var dataURL = this.canvas.toDataURL();\n",
       "    this.cell_info[1]['text/html'] = '<img src=\"' + dataURL + '\" width=\"' + width + '\">';\n",
       "}\n",
       "\n",
       "mpl.figure.prototype.updated_canvas_event = function() {\n",
       "    // Tell IPython that the notebook contents must change.\n",
       "    IPython.notebook.set_dirty(true);\n",
       "    this.send_message(\"ack\", {});\n",
       "    var fig = this;\n",
       "    // Wait a second, then push the new image to the DOM so\n",
       "    // that it is saved nicely (might be nice to debounce this).\n",
       "    setTimeout(function () { fig.push_to_output() }, 1000);\n",
       "}\n",
       "\n",
       "mpl.figure.prototype._init_toolbar = function() {\n",
       "    var fig = this;\n",
       "\n",
       "    var nav_element = $('<div/>')\n",
       "    nav_element.attr('style', 'width: 100%');\n",
       "    this.root.append(nav_element);\n",
       "\n",
       "    // Define a callback function for later on.\n",
       "    function toolbar_event(event) {\n",
       "        return fig.toolbar_button_onclick(event['data']);\n",
       "    }\n",
       "    function toolbar_mouse_event(event) {\n",
       "        return fig.toolbar_button_onmouseover(event['data']);\n",
       "    }\n",
       "\n",
       "    for(var toolbar_ind in mpl.toolbar_items){\n",
       "        var name = mpl.toolbar_items[toolbar_ind][0];\n",
       "        var tooltip = mpl.toolbar_items[toolbar_ind][1];\n",
       "        var image = mpl.toolbar_items[toolbar_ind][2];\n",
       "        var method_name = mpl.toolbar_items[toolbar_ind][3];\n",
       "\n",
       "        if (!name) { continue; };\n",
       "\n",
       "        var button = $('<button class=\"btn btn-default\" href=\"#\" title=\"' + name + '\"><i class=\"fa ' + image + ' fa-lg\"></i></button>');\n",
       "        button.click(method_name, toolbar_event);\n",
       "        button.mouseover(tooltip, toolbar_mouse_event);\n",
       "        nav_element.append(button);\n",
       "    }\n",
       "\n",
       "    // Add the status bar.\n",
       "    var status_bar = $('<span class=\"mpl-message\" style=\"text-align:right; float: right;\"/>');\n",
       "    nav_element.append(status_bar);\n",
       "    this.message = status_bar[0];\n",
       "\n",
       "    // Add the close button to the window.\n",
       "    var buttongrp = $('<div class=\"btn-group inline pull-right\"></div>');\n",
       "    var button = $('<button class=\"btn btn-mini btn-primary\" href=\"#\" title=\"Stop Interaction\"><i class=\"fa fa-power-off icon-remove icon-large\"></i></button>');\n",
       "    button.click(function (evt) { fig.handle_close(fig, {}); } );\n",
       "    button.mouseover('Stop Interaction', toolbar_mouse_event);\n",
       "    buttongrp.append(button);\n",
       "    var titlebar = this.root.find($('.ui-dialog-titlebar'));\n",
       "    titlebar.prepend(buttongrp);\n",
       "}\n",
       "\n",
       "mpl.figure.prototype._root_extra_style = function(el){\n",
       "    var fig = this\n",
       "    el.on(\"remove\", function(){\n",
       "\tfig.close_ws(fig, {});\n",
       "    });\n",
       "}\n",
       "\n",
       "mpl.figure.prototype._canvas_extra_style = function(el){\n",
       "    // this is important to make the div 'focusable\n",
       "    el.attr('tabindex', 0)\n",
       "    // reach out to IPython and tell the keyboard manager to turn it's self\n",
       "    // off when our div gets focus\n",
       "\n",
       "    // location in version 3\n",
       "    if (IPython.notebook.keyboard_manager) {\n",
       "        IPython.notebook.keyboard_manager.register_events(el);\n",
       "    }\n",
       "    else {\n",
       "        // location in version 2\n",
       "        IPython.keyboard_manager.register_events(el);\n",
       "    }\n",
       "\n",
       "}\n",
       "\n",
       "mpl.figure.prototype._key_event_extra = function(event, name) {\n",
       "    var manager = IPython.notebook.keyboard_manager;\n",
       "    if (!manager)\n",
       "        manager = IPython.keyboard_manager;\n",
       "\n",
       "    // Check for shift+enter\n",
       "    if (event.shiftKey && event.which == 13) {\n",
       "        this.canvas_div.blur();\n",
       "        event.shiftKey = false;\n",
       "        // Send a \"J\" for go to next cell\n",
       "        event.which = 74;\n",
       "        event.keyCode = 74;\n",
       "        manager.command_mode();\n",
       "        manager.handle_keydown(event);\n",
       "    }\n",
       "}\n",
       "\n",
       "mpl.figure.prototype.handle_save = function(fig, msg) {\n",
       "    fig.ondownload(fig, null);\n",
       "}\n",
       "\n",
       "\n",
       "mpl.find_output_cell = function(html_output) {\n",
       "    // Return the cell and output element which can be found *uniquely* in the notebook.\n",
       "    // Note - this is a bit hacky, but it is done because the \"notebook_saving.Notebook\"\n",
       "    // IPython event is triggered only after the cells have been serialised, which for\n",
       "    // our purposes (turning an active figure into a static one), is too late.\n",
       "    var cells = IPython.notebook.get_cells();\n",
       "    var ncells = cells.length;\n",
       "    for (var i=0; i<ncells; i++) {\n",
       "        var cell = cells[i];\n",
       "        if (cell.cell_type === 'code'){\n",
       "            for (var j=0; j<cell.output_area.outputs.length; j++) {\n",
       "                var data = cell.output_area.outputs[j];\n",
       "                if (data.data) {\n",
       "                    // IPython >= 3 moved mimebundle to data attribute of output\n",
       "                    data = data.data;\n",
       "                }\n",
       "                if (data['text/html'] == html_output) {\n",
       "                    return [cell, data, j];\n",
       "                }\n",
       "            }\n",
       "        }\n",
       "    }\n",
       "}\n",
       "\n",
       "// Register the function which deals with the matplotlib target/channel.\n",
       "// The kernel may be null if the page has been refreshed.\n",
       "if (IPython.notebook.kernel != null) {\n",
       "    IPython.notebook.kernel.comm_manager.register_target('matplotlib', mpl.mpl_figure_comm);\n",
       "}\n"
      ],
      "text/plain": [
       "<IPython.core.display.Javascript object>"
      ]
     },
     "metadata": {},
     "output_type": "display_data"
    },
    {
     "data": {
      "text/html": [
       "<img src=\"data:image/png;base64,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\" width=\"638.888905813665\">"
      ],
      "text/plain": [
       "<IPython.core.display.HTML object>"
      ]
     },
     "metadata": {},
     "output_type": "display_data"
    },
    {
     "data": {
      "text/plain": [
       "<matplotlib.image.AxesImage at 0x1c5453b0b8>"
      ]
     },
     "execution_count": 105,
     "metadata": {},
     "output_type": "execute_result"
    }
   ],
   "source": [
    "rotated_img = ndimage.rotate(voxel_space[3 - (Z_0+1), :, :], 270)\n",
    "plt.imshow(np.fliplr(rotated_img))"
   ]
  },
  {
   "cell_type": "code",
   "execution_count": 109,
   "metadata": {},
   "outputs": [
    {
     "data": {
      "text/plain": [
       "<matplotlib.image.AxesImage at 0x1c50348be0>"
      ]
     },
     "execution_count": 109,
     "metadata": {},
     "output_type": "execute_result"
    }
   ],
   "source": [
    "rotated_img = ndimage.rotate(voxel_space[2 - (Z_0+1), :, :], 270)\n",
    "plt.imshow(np.fliplr(rotated_img))"
   ]
  },
  {
   "cell_type": "markdown",
   "metadata": {},
   "source": [
    "# Scratchpad"
   ]
  },
  {
   "cell_type": "markdown",
   "metadata": {
    "nbpresent": {
     "id": "5620e8aa-283d-45be-8f39-404e78b1487c"
    },
    "slideshow": {
     "slide_type": "slide"
    }
   },
   "source": [
    "### recheck calculations\n",
    "\n",
    "## To-do:\n",
    "##### 1. How would one use camera matrix in this paper, is it not necessary?\n",
    "        Look up undistorted camera co-ordinates from a dictionary computed beforehand for all u,v pairs and calculate         for this look up value \n",
    "##### 2. Filter implementations to be done \n",
    "#####  3. Adaptive thresholding problems , used Global thresholding for now\n",
    "\n",
    "\n",
    "## Bottlenecks in code\n",
    "    Should SIMD instructions be used for all multiplications?\n",
    "##### Make file opening and closing more efficient\n",
    "##### Make Vote function faster \n",
    "##### Parallelize the code for the depth planes part"
   ]
  },
  {
   "cell_type": "markdown",
   "metadata": {},
   "source": [
    "# Experimental Multiprocessing Code"
   ]
  },
  {
   "cell_type": "markdown",
   "metadata": {},
   "source": [
    "## Below code is under development, not reliable"
   ]
  },
  {
   "cell_type": "code",
   "execution_count": 21,
   "metadata": {},
   "outputs": [],
   "source": [
    "from joblib import Parallel, delayed\n",
    "\n",
    "def parallel_computation(ref_plane_mapped_events, Z_i, t, R, voxel_space):\n",
    "    depth_plane_mapped_events = homography(ref_plane_mapped_events, Z_i, t, R) \n",
    "    voxel_space = vote(voxel_space, Z_i, depth_plane_mapped_events)\n",
    "    voxel_space[Z_i-(Z_0+1), :, :] = adaptive_gaussian_thresholding(voxel_space[Z_i-(Z_0+1), :, :], 5, -10) \n",
    "    return voxel_space[Z_i-(Z_0+1), :, :]"
   ]
  },
  {
   "cell_type": "code",
   "execution_count": 26,
   "metadata": {},
   "outputs": [],
   "source": [
    "from tqdm import tqdm\n",
    "def main(batches):\n",
    "    '''\n",
    "    batches = number of batches of events the function has to run for.\n",
    "    '''\n",
    "    # the resolution of the camera is 240x180\n",
    "    voxel_space = np.zeros((num_of_depth_planes, 240, 180)) \n",
    "    # the reference vol vectors which have to be plotted in 3-D space later\n",
    "    reference_vol_vectors = [] \n",
    "    \n",
    "    t = np.array([0, 0, 0]).reshape((3,1)) # initial values of t and R\n",
    "    R = np.eye(3)\n",
    "    \n",
    "    for batch in tqdm(range(batches)): \n",
    "        events, event_start_time = bundle_events(batch_number=batch)\n",
    "        pose = get_ground_truth_pose(event_start_time)\n",
    "        t_prev, R_prev = t , R\n",
    "        t, R = get_translation_rotation(pose)\n",
    "        \n",
    "        # check if the reference view needs to be changed when the camerea moves\n",
    "        if check_reference_switch(voxel_space, t, t_prev): \n",
    "            #voxel_space = clean(voxel_space)\n",
    "            reference_vol_vectors = get_transformed_vol_from_prev_voxel_space(reference_vol_vectors, voxel_space) \n",
    "            #  Re-initialize voxel space for new reference\n",
    "            voxel_space = np.zeros((num_of_depth_planes, 240, 180)) \n",
    "               \n",
    "        ref_plane_mapped_events = map_to_reference_view(np.array(events), t, R)\n",
    "            \n",
    "        # if Z_0 is 0 then divide by zero errors occur, therefore Z_0+1 used\n",
    "        Z_i_list = list(range(Z_0+1, num_of_depth_planes+Z_0+1))\n",
    "\n",
    "        voxel_space = np.array(Parallel(n_jobs=8, require='sharedmem')(delayed(parallel_computation)(ref_plane_mapped_events, Z_i, t, R, voxel_space) for Z_i in Z_i_list))\n",
    "       \n",
    "        reference_vol_vectors = np.argwhere(voxel_space>0).tolist()\n",
    "   \n",
    "    return voxel_space, reference_vol_vectors"
   ]
  },
  {
   "cell_type": "code",
   "execution_count": 27,
   "metadata": {
    "collapsed": true
   },
   "outputs": [
    {
     "name": "stderr",
     "output_type": "stream",
     "text": [
      " 40%|████      | 4/10 [00:35<00:53,  8.83s/it]"
     ]
    },
    {
     "ename": "KeyboardInterrupt",
     "evalue": "",
     "output_type": "error",
     "traceback": [
      "\u001b[0;31m---------------------------------------------------------------------------\u001b[0m",
      "\u001b[0;31mKeyboardInterrupt\u001b[0m                         Traceback (most recent call last)",
      "\u001b[0;32m<ipython-input-27-0b06a467a333>\u001b[0m in \u001b[0;36m<module>\u001b[0;34m()\u001b[0m\n\u001b[0;32m----> 1\u001b[0;31m \u001b[0mvoxel_space\u001b[0m\u001b[0;34m,\u001b[0m \u001b[0mref_vec\u001b[0m \u001b[0;34m=\u001b[0m \u001b[0mmain\u001b[0m\u001b[0;34m(\u001b[0m\u001b[0;36m10\u001b[0m\u001b[0;34m)\u001b[0m\u001b[0;34m\u001b[0m\u001b[0m\n\u001b[0m",
      "\u001b[0;32m<ipython-input-26-f7c1fce25279>\u001b[0m in \u001b[0;36mmain\u001b[0;34m(batches)\u001b[0m\n\u001b[1;32m     30\u001b[0m         \u001b[0mZ_i_list\u001b[0m \u001b[0;34m=\u001b[0m \u001b[0mlist\u001b[0m\u001b[0;34m(\u001b[0m\u001b[0mrange\u001b[0m\u001b[0;34m(\u001b[0m\u001b[0mZ_0\u001b[0m\u001b[0;34m+\u001b[0m\u001b[0;36m1\u001b[0m\u001b[0;34m,\u001b[0m \u001b[0mnum_of_depth_planes\u001b[0m\u001b[0;34m+\u001b[0m\u001b[0mZ_0\u001b[0m\u001b[0;34m+\u001b[0m\u001b[0;36m1\u001b[0m\u001b[0;34m)\u001b[0m\u001b[0;34m)\u001b[0m\u001b[0;34m\u001b[0m\u001b[0m\n\u001b[1;32m     31\u001b[0m \u001b[0;34m\u001b[0m\u001b[0m\n\u001b[0;32m---> 32\u001b[0;31m         \u001b[0mvoxel_space\u001b[0m \u001b[0;34m=\u001b[0m \u001b[0mnp\u001b[0m\u001b[0;34m.\u001b[0m\u001b[0marray\u001b[0m\u001b[0;34m(\u001b[0m\u001b[0mParallel\u001b[0m\u001b[0;34m(\u001b[0m\u001b[0mn_jobs\u001b[0m\u001b[0;34m=\u001b[0m\u001b[0;36m8\u001b[0m\u001b[0;34m,\u001b[0m \u001b[0mrequire\u001b[0m\u001b[0;34m=\u001b[0m\u001b[0;34m'sharedmem'\u001b[0m\u001b[0;34m)\u001b[0m\u001b[0;34m(\u001b[0m\u001b[0mdelayed\u001b[0m\u001b[0;34m(\u001b[0m\u001b[0mparallel_computation\u001b[0m\u001b[0;34m)\u001b[0m\u001b[0;34m(\u001b[0m\u001b[0mref_plane_mapped_events\u001b[0m\u001b[0;34m,\u001b[0m \u001b[0mZ_i\u001b[0m\u001b[0;34m,\u001b[0m \u001b[0mt\u001b[0m\u001b[0;34m,\u001b[0m \u001b[0mR\u001b[0m\u001b[0;34m,\u001b[0m \u001b[0mvoxel_space\u001b[0m\u001b[0;34m)\u001b[0m \u001b[0;32mfor\u001b[0m \u001b[0mZ_i\u001b[0m \u001b[0;32min\u001b[0m \u001b[0mZ_i_list\u001b[0m\u001b[0;34m)\u001b[0m\u001b[0;34m)\u001b[0m\u001b[0;34m\u001b[0m\u001b[0m\n\u001b[0m\u001b[1;32m     33\u001b[0m \u001b[0;34m\u001b[0m\u001b[0m\n\u001b[1;32m     34\u001b[0m         \u001b[0mreference_vol_vectors\u001b[0m \u001b[0;34m=\u001b[0m \u001b[0mnp\u001b[0m\u001b[0;34m.\u001b[0m\u001b[0margwhere\u001b[0m\u001b[0;34m(\u001b[0m\u001b[0mvoxel_space\u001b[0m\u001b[0;34m>\u001b[0m\u001b[0;36m0\u001b[0m\u001b[0;34m)\u001b[0m\u001b[0;34m.\u001b[0m\u001b[0mtolist\u001b[0m\u001b[0;34m(\u001b[0m\u001b[0;34m)\u001b[0m\u001b[0;34m\u001b[0m\u001b[0m\n",
      "\u001b[0;32m~/anaconda3/envs/CV/lib/python3.6/site-packages/joblib/parallel.py\u001b[0m in \u001b[0;36m__call__\u001b[0;34m(self, iterable)\u001b[0m\n\u001b[1;32m    994\u001b[0m \u001b[0;34m\u001b[0m\u001b[0m\n\u001b[1;32m    995\u001b[0m             \u001b[0;32mwith\u001b[0m \u001b[0mself\u001b[0m\u001b[0;34m.\u001b[0m\u001b[0m_backend\u001b[0m\u001b[0;34m.\u001b[0m\u001b[0mretrieval_context\u001b[0m\u001b[0;34m(\u001b[0m\u001b[0;34m)\u001b[0m\u001b[0;34m:\u001b[0m\u001b[0;34m\u001b[0m\u001b[0m\n\u001b[0;32m--> 996\u001b[0;31m                 \u001b[0mself\u001b[0m\u001b[0;34m.\u001b[0m\u001b[0mretrieve\u001b[0m\u001b[0;34m(\u001b[0m\u001b[0;34m)\u001b[0m\u001b[0;34m\u001b[0m\u001b[0m\n\u001b[0m\u001b[1;32m    997\u001b[0m             \u001b[0;31m# Make sure that we get a last message telling us we are done\u001b[0m\u001b[0;34m\u001b[0m\u001b[0;34m\u001b[0m\u001b[0m\n\u001b[1;32m    998\u001b[0m             \u001b[0melapsed_time\u001b[0m \u001b[0;34m=\u001b[0m \u001b[0mtime\u001b[0m\u001b[0;34m.\u001b[0m\u001b[0mtime\u001b[0m\u001b[0;34m(\u001b[0m\u001b[0;34m)\u001b[0m \u001b[0;34m-\u001b[0m \u001b[0mself\u001b[0m\u001b[0;34m.\u001b[0m\u001b[0m_start_time\u001b[0m\u001b[0;34m\u001b[0m\u001b[0m\n",
      "\u001b[0;32m~/anaconda3/envs/CV/lib/python3.6/site-packages/joblib/parallel.py\u001b[0m in \u001b[0;36mretrieve\u001b[0;34m(self)\u001b[0m\n\u001b[1;32m    897\u001b[0m             \u001b[0;32mtry\u001b[0m\u001b[0;34m:\u001b[0m\u001b[0;34m\u001b[0m\u001b[0m\n\u001b[1;32m    898\u001b[0m                 \u001b[0;32mif\u001b[0m \u001b[0mgetattr\u001b[0m\u001b[0;34m(\u001b[0m\u001b[0mself\u001b[0m\u001b[0;34m.\u001b[0m\u001b[0m_backend\u001b[0m\u001b[0;34m,\u001b[0m \u001b[0;34m'supports_timeout'\u001b[0m\u001b[0;34m,\u001b[0m \u001b[0;32mFalse\u001b[0m\u001b[0;34m)\u001b[0m\u001b[0;34m:\u001b[0m\u001b[0;34m\u001b[0m\u001b[0m\n\u001b[0;32m--> 899\u001b[0;31m                     \u001b[0mself\u001b[0m\u001b[0;34m.\u001b[0m\u001b[0m_output\u001b[0m\u001b[0;34m.\u001b[0m\u001b[0mextend\u001b[0m\u001b[0;34m(\u001b[0m\u001b[0mjob\u001b[0m\u001b[0;34m.\u001b[0m\u001b[0mget\u001b[0m\u001b[0;34m(\u001b[0m\u001b[0mtimeout\u001b[0m\u001b[0;34m=\u001b[0m\u001b[0mself\u001b[0m\u001b[0;34m.\u001b[0m\u001b[0mtimeout\u001b[0m\u001b[0;34m)\u001b[0m\u001b[0;34m)\u001b[0m\u001b[0;34m\u001b[0m\u001b[0m\n\u001b[0m\u001b[1;32m    900\u001b[0m                 \u001b[0;32melse\u001b[0m\u001b[0;34m:\u001b[0m\u001b[0;34m\u001b[0m\u001b[0m\n\u001b[1;32m    901\u001b[0m                     \u001b[0mself\u001b[0m\u001b[0;34m.\u001b[0m\u001b[0m_output\u001b[0m\u001b[0;34m.\u001b[0m\u001b[0mextend\u001b[0m\u001b[0;34m(\u001b[0m\u001b[0mjob\u001b[0m\u001b[0;34m.\u001b[0m\u001b[0mget\u001b[0m\u001b[0;34m(\u001b[0m\u001b[0;34m)\u001b[0m\u001b[0;34m)\u001b[0m\u001b[0;34m\u001b[0m\u001b[0m\n",
      "\u001b[0;32m~/anaconda3/envs/CV/lib/python3.6/multiprocessing/pool.py\u001b[0m in \u001b[0;36mget\u001b[0;34m(self, timeout)\u001b[0m\n\u001b[1;32m    636\u001b[0m \u001b[0;34m\u001b[0m\u001b[0m\n\u001b[1;32m    637\u001b[0m     \u001b[0;32mdef\u001b[0m \u001b[0mget\u001b[0m\u001b[0;34m(\u001b[0m\u001b[0mself\u001b[0m\u001b[0;34m,\u001b[0m \u001b[0mtimeout\u001b[0m\u001b[0;34m=\u001b[0m\u001b[0;32mNone\u001b[0m\u001b[0;34m)\u001b[0m\u001b[0;34m:\u001b[0m\u001b[0;34m\u001b[0m\u001b[0m\n\u001b[0;32m--> 638\u001b[0;31m         \u001b[0mself\u001b[0m\u001b[0;34m.\u001b[0m\u001b[0mwait\u001b[0m\u001b[0;34m(\u001b[0m\u001b[0mtimeout\u001b[0m\u001b[0;34m)\u001b[0m\u001b[0;34m\u001b[0m\u001b[0m\n\u001b[0m\u001b[1;32m    639\u001b[0m         \u001b[0;32mif\u001b[0m \u001b[0;32mnot\u001b[0m \u001b[0mself\u001b[0m\u001b[0;34m.\u001b[0m\u001b[0mready\u001b[0m\u001b[0;34m(\u001b[0m\u001b[0;34m)\u001b[0m\u001b[0;34m:\u001b[0m\u001b[0;34m\u001b[0m\u001b[0m\n\u001b[1;32m    640\u001b[0m             \u001b[0;32mraise\u001b[0m \u001b[0mTimeoutError\u001b[0m\u001b[0;34m\u001b[0m\u001b[0m\n",
      "\u001b[0;32m~/anaconda3/envs/CV/lib/python3.6/multiprocessing/pool.py\u001b[0m in \u001b[0;36mwait\u001b[0;34m(self, timeout)\u001b[0m\n\u001b[1;32m    633\u001b[0m \u001b[0;34m\u001b[0m\u001b[0m\n\u001b[1;32m    634\u001b[0m     \u001b[0;32mdef\u001b[0m \u001b[0mwait\u001b[0m\u001b[0;34m(\u001b[0m\u001b[0mself\u001b[0m\u001b[0;34m,\u001b[0m \u001b[0mtimeout\u001b[0m\u001b[0;34m=\u001b[0m\u001b[0;32mNone\u001b[0m\u001b[0;34m)\u001b[0m\u001b[0;34m:\u001b[0m\u001b[0;34m\u001b[0m\u001b[0m\n\u001b[0;32m--> 635\u001b[0;31m         \u001b[0mself\u001b[0m\u001b[0;34m.\u001b[0m\u001b[0m_event\u001b[0m\u001b[0;34m.\u001b[0m\u001b[0mwait\u001b[0m\u001b[0;34m(\u001b[0m\u001b[0mtimeout\u001b[0m\u001b[0;34m)\u001b[0m\u001b[0;34m\u001b[0m\u001b[0m\n\u001b[0m\u001b[1;32m    636\u001b[0m \u001b[0;34m\u001b[0m\u001b[0m\n\u001b[1;32m    637\u001b[0m     \u001b[0;32mdef\u001b[0m \u001b[0mget\u001b[0m\u001b[0;34m(\u001b[0m\u001b[0mself\u001b[0m\u001b[0;34m,\u001b[0m \u001b[0mtimeout\u001b[0m\u001b[0;34m=\u001b[0m\u001b[0;32mNone\u001b[0m\u001b[0;34m)\u001b[0m\u001b[0;34m:\u001b[0m\u001b[0;34m\u001b[0m\u001b[0m\n",
      "\u001b[0;32m~/anaconda3/envs/CV/lib/python3.6/threading.py\u001b[0m in \u001b[0;36mwait\u001b[0;34m(self, timeout)\u001b[0m\n\u001b[1;32m    549\u001b[0m             \u001b[0msignaled\u001b[0m \u001b[0;34m=\u001b[0m \u001b[0mself\u001b[0m\u001b[0;34m.\u001b[0m\u001b[0m_flag\u001b[0m\u001b[0;34m\u001b[0m\u001b[0m\n\u001b[1;32m    550\u001b[0m             \u001b[0;32mif\u001b[0m \u001b[0;32mnot\u001b[0m \u001b[0msignaled\u001b[0m\u001b[0;34m:\u001b[0m\u001b[0;34m\u001b[0m\u001b[0m\n\u001b[0;32m--> 551\u001b[0;31m                 \u001b[0msignaled\u001b[0m \u001b[0;34m=\u001b[0m \u001b[0mself\u001b[0m\u001b[0;34m.\u001b[0m\u001b[0m_cond\u001b[0m\u001b[0;34m.\u001b[0m\u001b[0mwait\u001b[0m\u001b[0;34m(\u001b[0m\u001b[0mtimeout\u001b[0m\u001b[0;34m)\u001b[0m\u001b[0;34m\u001b[0m\u001b[0m\n\u001b[0m\u001b[1;32m    552\u001b[0m             \u001b[0;32mreturn\u001b[0m \u001b[0msignaled\u001b[0m\u001b[0;34m\u001b[0m\u001b[0m\n\u001b[1;32m    553\u001b[0m \u001b[0;34m\u001b[0m\u001b[0m\n",
      "\u001b[0;32m~/anaconda3/envs/CV/lib/python3.6/threading.py\u001b[0m in \u001b[0;36mwait\u001b[0;34m(self, timeout)\u001b[0m\n\u001b[1;32m    293\u001b[0m         \u001b[0;32mtry\u001b[0m\u001b[0;34m:\u001b[0m    \u001b[0;31m# restore state no matter what (e.g., KeyboardInterrupt)\u001b[0m\u001b[0;34m\u001b[0m\u001b[0m\n\u001b[1;32m    294\u001b[0m             \u001b[0;32mif\u001b[0m \u001b[0mtimeout\u001b[0m \u001b[0;32mis\u001b[0m \u001b[0;32mNone\u001b[0m\u001b[0;34m:\u001b[0m\u001b[0;34m\u001b[0m\u001b[0m\n\u001b[0;32m--> 295\u001b[0;31m                 \u001b[0mwaiter\u001b[0m\u001b[0;34m.\u001b[0m\u001b[0macquire\u001b[0m\u001b[0;34m(\u001b[0m\u001b[0;34m)\u001b[0m\u001b[0;34m\u001b[0m\u001b[0m\n\u001b[0m\u001b[1;32m    296\u001b[0m                 \u001b[0mgotit\u001b[0m \u001b[0;34m=\u001b[0m \u001b[0;32mTrue\u001b[0m\u001b[0;34m\u001b[0m\u001b[0m\n\u001b[1;32m    297\u001b[0m             \u001b[0;32melse\u001b[0m\u001b[0;34m:\u001b[0m\u001b[0;34m\u001b[0m\u001b[0m\n",
      "\u001b[0;31mKeyboardInterrupt\u001b[0m: "
     ]
    }
   ],
   "source": [
    "voxel_space, ref_vec = main(10)"
   ]
  },
  {
   "cell_type": "code",
   "execution_count": 136,
   "metadata": {},
   "outputs": [
    {
     "name": "stdout",
     "output_type": "stream",
     "text": [
      "[]\n",
      " "
     ]
    }
   ],
   "source": [
    "%prun main(1)"
   ]
  }
 ],
 "metadata": {
  "kernelspec": {
   "display_name": "Python [default]",
   "language": "python",
   "name": "python3"
  },
  "language_info": {
   "codemirror_mode": {
    "name": "ipython",
    "version": 3
   },
   "file_extension": ".py",
   "mimetype": "text/x-python",
   "name": "python",
   "nbconvert_exporter": "python",
   "pygments_lexer": "ipython3",
   "version": "3.6.6"
  },
  "nbpresent": {
   "slides": {
    "018adca0-6f5b-44f6-8c5a-a80734a359cb": {
     "id": "018adca0-6f5b-44f6-8c5a-a80734a359cb",
     "prev": "4c64a45a-04f7-492b-bf40-24438e096e4b",
     "regions": {
      "fc9da8e0-b9a0-44d0-b961-70c84d24e943": {
       "attrs": {
        "height": 0.8,
        "width": 0.8,
        "x": 0.1,
        "y": 0.1
       },
       "content": {
        "cell": "415fd80f-197b-41c2-a320-3cb56bf74584",
        "part": "whole"
       },
       "id": "fc9da8e0-b9a0-44d0-b961-70c84d24e943"
      }
     }
    },
    "03188904-a0e4-40de-a7d9-521d086e1a8e": {
     "id": "03188904-a0e4-40de-a7d9-521d086e1a8e",
     "prev": "985fd787-0dda-4f43-a1da-994fdb9fea99",
     "regions": {
      "dcf75e40-7552-40aa-b6cd-042f545cc097": {
       "attrs": {
        "height": 0.8,
        "width": 0.8,
        "x": 0.1,
        "y": 0.1
       },
       "content": {
        "cell": "903569ec-e524-418b-af5e-f402d6b3ef3b",
        "part": "whole"
       },
       "id": "dcf75e40-7552-40aa-b6cd-042f545cc097"
      }
     }
    },
    "0c36a4d3-acdb-46a5-a003-aaecb2b44e65": {
     "id": "0c36a4d3-acdb-46a5-a003-aaecb2b44e65",
     "prev": "e76a651d-4aea-4d2d-acc9-dd8dd24a7487",
     "regions": {
      "7273a23a-e5cd-4082-b3a7-0c7986439000": {
       "attrs": {
        "height": 0.8,
        "width": 0.8,
        "x": 0.1,
        "y": 0.1
       },
       "content": {
        "cell": "80545f0e-3a2b-44c4-ad62-f7f729eb4fc5",
        "part": "whole"
       },
       "id": "7273a23a-e5cd-4082-b3a7-0c7986439000"
      }
     }
    },
    "0fa0b1ec-5881-41c4-9536-d9138b8f6ea4": {
     "id": "0fa0b1ec-5881-41c4-9536-d9138b8f6ea4",
     "prev": "569ad0ec-42f9-4d55-94f1-04bcf7cf4c6c",
     "regions": {
      "2371fbab-4f0a-49cb-8197-c46fb73523d9": {
       "attrs": {
        "height": 0.8,
        "width": 0.8,
        "x": 0.1,
        "y": 0.1
       },
       "content": {
        "cell": "7b098df0-6fd1-4de5-ae84-4351a8b2a3e2",
        "part": "whole"
       },
       "id": "2371fbab-4f0a-49cb-8197-c46fb73523d9"
      }
     }
    },
    "18d96bed-6b87-41f8-b92d-7812f00183fa": {
     "id": "18d96bed-6b87-41f8-b92d-7812f00183fa",
     "prev": "ecec15c6-5363-4c47-8e9c-b209388b3905",
     "regions": {
      "fd82df84-914d-468c-8d05-1f977247c655": {
       "attrs": {
        "height": 0.8,
        "width": 0.8,
        "x": 0.1,
        "y": 0.1
       },
       "content": {
        "cell": "6e02862b-9b24-48ac-8a4b-5e001eb1e101",
        "part": "whole"
       },
       "id": "fd82df84-914d-468c-8d05-1f977247c655"
      }
     }
    },
    "253a28d6-664a-4bf9-a9ff-5b1ef6874e89": {
     "id": "253a28d6-664a-4bf9-a9ff-5b1ef6874e89",
     "prev": "f6f26bf2-4e90-44a4-aa2c-d625ae8afdd0",
     "regions": {
      "4e530940-d349-4079-8070-afa89ae0a040": {
       "attrs": {
        "height": 0.8,
        "width": 0.8,
        "x": 0.1,
        "y": 0.1
       },
       "content": {
        "cell": "c77eb6f1-3564-4898-b8a1-c6620a250033",
        "part": "whole"
       },
       "id": "4e530940-d349-4079-8070-afa89ae0a040"
      }
     }
    },
    "259ceb15-070c-4242-b35b-475aaa8094db": {
     "id": "259ceb15-070c-4242-b35b-475aaa8094db",
     "prev": "5463952c-bb89-4512-baec-526b29dc3184",
     "regions": {
      "49223fe3-8666-4290-ada5-92cb14a97a92": {
       "attrs": {
        "height": 0.8,
        "width": 0.8,
        "x": 0.1,
        "y": 0.1
       },
       "content": {
        "cell": "46485b54-7a29-48ec-b4a6-24396d33c26b",
        "part": "whole"
       },
       "id": "49223fe3-8666-4290-ada5-92cb14a97a92"
      }
     }
    },
    "29efc6fd-0b93-41ef-afed-d4327585e106": {
     "id": "29efc6fd-0b93-41ef-afed-d4327585e106",
     "prev": "b028418b-d3da-4b4a-a698-a70c1f80075d",
     "regions": {
      "98a97f99-9230-4b86-ad3a-13bd68bc93c0": {
       "attrs": {
        "height": 0.8,
        "width": 0.8,
        "x": 0.1,
        "y": 0.1
       },
       "content": {
        "cell": "00010dae-7830-4e2b-8d24-52c1363ea3b7",
        "part": "whole"
       },
       "id": "98a97f99-9230-4b86-ad3a-13bd68bc93c0"
      }
     }
    },
    "35cd0f68-635f-43e1-b4b1-b175beeedfa2": {
     "id": "35cd0f68-635f-43e1-b4b1-b175beeedfa2",
     "prev": "4ac3a638-fa8c-4a54-8b37-cfa170aca016",
     "regions": {
      "402b327e-db85-456f-a1ba-0070c533d3bc": {
       "attrs": {
        "height": 0.8,
        "width": 0.8,
        "x": 0.1,
        "y": 0.1
       },
       "content": {
        "cell": "48cd64ef-830b-4c7c-bdc9-1f56613b9711",
        "part": "whole"
       },
       "id": "402b327e-db85-456f-a1ba-0070c533d3bc"
      }
     }
    },
    "386c548a-74d3-4e09-8448-babe3350f003": {
     "id": "386c548a-74d3-4e09-8448-babe3350f003",
     "prev": "c57934ea-2323-476a-a919-a1fec147aebd",
     "regions": {
      "0cdbc4eb-6cd0-4fad-9b9f-374133f22124": {
       "attrs": {
        "height": 0.8,
        "width": 0.8,
        "x": 0.1,
        "y": 0.1
       },
       "content": {
        "cell": "c9fc3361-c0fc-41ca-84d0-41c31b489819",
        "part": "whole"
       },
       "id": "0cdbc4eb-6cd0-4fad-9b9f-374133f22124"
      }
     }
    },
    "3d66a8da-a16f-43b4-80f1-66d703d1aff9": {
     "id": "3d66a8da-a16f-43b4-80f1-66d703d1aff9",
     "prev": "ec21535d-dbed-43f0-a79a-ddfc90f34c1f",
     "regions": {
      "7341ed2b-a906-45ef-8fd7-fd328991abdc": {
       "attrs": {
        "height": 0.8,
        "width": 0.8,
        "x": 0.1,
        "y": 0.1
       },
       "content": {
        "cell": "0ad92ffc-a682-4e31-9f75-5f84d9fab10c",
        "part": "whole"
       },
       "id": "7341ed2b-a906-45ef-8fd7-fd328991abdc"
      }
     }
    },
    "3d68e02e-76bb-4b1a-8cc6-bde316ec007a": {
     "id": "3d68e02e-76bb-4b1a-8cc6-bde316ec007a",
     "prev": "f03c101f-ddd5-4bc4-b088-66f8e374fa08",
     "regions": {
      "ee61dbdb-1dff-40f5-952b-4579c021cb11": {
       "attrs": {
        "height": 0.8,
        "width": 0.8,
        "x": 0.1,
        "y": 0.1
       },
       "content": {
        "cell": "e24b9c19-ee8a-4881-bdd0-9930eb9f5198",
        "part": "whole"
       },
       "id": "ee61dbdb-1dff-40f5-952b-4579c021cb11"
      }
     }
    },
    "40794cbf-8e50-442b-b59b-5c6a0f617b13": {
     "id": "40794cbf-8e50-442b-b59b-5c6a0f617b13",
     "prev": "68868696-ccd0-44d1-afdd-0afbea77c486",
     "regions": {
      "248b1323-e5df-47ec-9b27-df1226d9d09c": {
       "attrs": {
        "height": 0.8,
        "width": 0.8,
        "x": 0.1,
        "y": 0.1
       },
       "content": {
        "cell": "14e04e99-6b89-49a7-9c15-87f2c41b3635",
        "part": "whole"
       },
       "id": "248b1323-e5df-47ec-9b27-df1226d9d09c"
      }
     }
    },
    "459a7d44-eecd-474b-b493-f780d5c0eb4d": {
     "id": "459a7d44-eecd-474b-b493-f780d5c0eb4d",
     "prev": "0fa0b1ec-5881-41c4-9536-d9138b8f6ea4",
     "regions": {
      "e598a844-a0b6-4fa3-86af-c2f872885b1d": {
       "attrs": {
        "height": 0.8,
        "width": 0.8,
        "x": 0.1,
        "y": 0.1
       },
       "content": {
        "cell": "3b7e6e0a-2698-48f4-b1cf-0da86501ea0e",
        "part": "whole"
       },
       "id": "e598a844-a0b6-4fa3-86af-c2f872885b1d"
      }
     }
    },
    "4ac3a638-fa8c-4a54-8b37-cfa170aca016": {
     "id": "4ac3a638-fa8c-4a54-8b37-cfa170aca016",
     "prev": "d673b5bd-e6e3-4241-8262-9f66a3e1bec7",
     "regions": {
      "aba30419-89d1-47f0-a3b7-ad517e1a69c4": {
       "attrs": {
        "height": 0.8,
        "width": 0.8,
        "x": 0.1,
        "y": 0.1
       },
       "content": {
        "cell": "42683b3e-0bdf-4ae8-8f12-9239966a3a90",
        "part": "whole"
       },
       "id": "aba30419-89d1-47f0-a3b7-ad517e1a69c4"
      }
     }
    },
    "4c64a45a-04f7-492b-bf40-24438e096e4b": {
     "id": "4c64a45a-04f7-492b-bf40-24438e096e4b",
     "prev": "c534d463-125d-404e-8720-7fabfb572c0c",
     "regions": {
      "95da624d-c81a-405d-a179-971e9da39327": {
       "attrs": {
        "height": 0.8,
        "width": 0.8,
        "x": 0.1,
        "y": 0.1
       },
       "content": {
        "cell": "40436ad0-9d01-4e46-94bc-48457274d659",
        "part": "whole"
       },
       "id": "95da624d-c81a-405d-a179-971e9da39327"
      }
     }
    },
    "4ec99677-bc96-428c-8687-871699cac003": {
     "id": "4ec99677-bc96-428c-8687-871699cac003",
     "prev": "29efc6fd-0b93-41ef-afed-d4327585e106",
     "regions": {
      "173717a2-ed1d-4c97-af5a-84a19dd39985": {
       "attrs": {
        "height": 0.8,
        "width": 0.8,
        "x": 0.1,
        "y": 0.1
       },
       "content": {
        "cell": "c94f8e3a-936d-4f2e-ab7a-5ef5b27d8462",
        "part": "whole"
       },
       "id": "173717a2-ed1d-4c97-af5a-84a19dd39985"
      }
     }
    },
    "5463952c-bb89-4512-baec-526b29dc3184": {
     "id": "5463952c-bb89-4512-baec-526b29dc3184",
     "prev": "cd34d442-d377-428a-9ecc-06c71749cd3c",
     "regions": {
      "c5ebcc19-ca42-4eed-9388-0b540164cb5a": {
       "attrs": {
        "height": 0.8,
        "width": 0.8,
        "x": 0.1,
        "y": 0.1
       },
       "content": {
        "cell": "1502a5a3-4567-48c8-a515-6892d330fcb8",
        "part": "whole"
       },
       "id": "c5ebcc19-ca42-4eed-9388-0b540164cb5a"
      }
     }
    },
    "569ad0ec-42f9-4d55-94f1-04bcf7cf4c6c": {
     "id": "569ad0ec-42f9-4d55-94f1-04bcf7cf4c6c",
     "prev": "61bb6d5f-03d2-40e2-bca1-8c26ca73a44a",
     "regions": {
      "d76e8f54-a30d-4ab3-a416-2f0eabb02cca": {
       "attrs": {
        "height": 0.8,
        "width": 0.8,
        "x": 0.1,
        "y": 0.1
       },
       "content": {
        "cell": "77d1eb0e-41c4-4247-859b-acab4d426bd3",
        "part": "whole"
       },
       "id": "d76e8f54-a30d-4ab3-a416-2f0eabb02cca"
      }
     }
    },
    "5c8051c2-6f2c-4b3f-924c-088d26d4fdde": {
     "id": "5c8051c2-6f2c-4b3f-924c-088d26d4fdde",
     "prev": "ddec3be1-1ee5-4e59-8f16-94db794bbf32",
     "regions": {
      "a491c270-41a2-4c7d-9b85-60a873cc7e4f": {
       "attrs": {
        "height": 0.8,
        "width": 0.8,
        "x": 0.1,
        "y": 0.1
       },
       "content": {
        "cell": "9622a578-6b23-4746-a3a5-18b015c3f922",
        "part": "whole"
       },
       "id": "a491c270-41a2-4c7d-9b85-60a873cc7e4f"
      }
     }
    },
    "61bb6d5f-03d2-40e2-bca1-8c26ca73a44a": {
     "id": "61bb6d5f-03d2-40e2-bca1-8c26ca73a44a",
     "prev": "e2b34a97-ecf2-452f-8b3c-8f0a632d3679",
     "regions": {
      "0affdb85-c3a0-4874-9339-426f21fa9294": {
       "attrs": {
        "height": 0.8,
        "width": 0.8,
        "x": 0.1,
        "y": 0.1
       },
       "content": {
        "cell": "ced8ae4b-41bb-45e1-b6f8-8544490a39c2",
        "part": "whole"
       },
       "id": "0affdb85-c3a0-4874-9339-426f21fa9294"
      }
     }
    },
    "68868696-ccd0-44d1-afdd-0afbea77c486": {
     "id": "68868696-ccd0-44d1-afdd-0afbea77c486",
     "prev": "a8dab855-a264-402f-a182-6f06b7b366e1",
     "regions": {
      "32b86ffc-338c-49a4-8f79-a14f8cf4eba2": {
       "attrs": {
        "height": 0.8,
        "width": 0.8,
        "x": 0.1,
        "y": 0.1
       },
       "content": {
        "cell": "e243fce1-06d6-4298-902f-3315b664079d",
        "part": "whole"
       },
       "id": "32b86ffc-338c-49a4-8f79-a14f8cf4eba2"
      }
     }
    },
    "6d947ae7-7a14-4ac2-8d14-f0298cf344e6": {
     "id": "6d947ae7-7a14-4ac2-8d14-f0298cf344e6",
     "prev": "03188904-a0e4-40de-a7d9-521d086e1a8e",
     "regions": {
      "a8294ce5-5cde-47ad-b05a-7ec4e1994154": {
       "attrs": {
        "height": 0.8,
        "width": 0.8,
        "x": 0.1,
        "y": 0.1
       },
       "content": {
        "cell": "799fc47c-8ba4-4b01-bf27-97b1e9d8a4a9",
        "part": "whole"
       },
       "id": "a8294ce5-5cde-47ad-b05a-7ec4e1994154"
      }
     }
    },
    "73e43839-aab8-43bf-8188-6028e976db51": {
     "id": "73e43839-aab8-43bf-8188-6028e976db51",
     "prev": "40794cbf-8e50-442b-b59b-5c6a0f617b13",
     "regions": {
      "c117c56f-93b2-41bf-98db-52750929aee5": {
       "attrs": {
        "height": 0.8,
        "width": 0.8,
        "x": 0.1,
        "y": 0.1
       },
       "content": {
        "cell": "4f3fdcef-0cff-4292-b98b-16a2b8e2f3d8",
        "part": "whole"
       },
       "id": "c117c56f-93b2-41bf-98db-52750929aee5"
      }
     }
    },
    "766e389c-b13a-4086-98f7-18401758c539": {
     "id": "766e389c-b13a-4086-98f7-18401758c539",
     "prev": "5c8051c2-6f2c-4b3f-924c-088d26d4fdde",
     "regions": {
      "2eca83b9-e009-465e-8dd6-e05f4c695ff3": {
       "attrs": {
        "height": 0.8,
        "width": 0.8,
        "x": 0.1,
        "y": 0.1
       },
       "content": {
        "cell": "a391a6b6-c3f2-4ba3-9d2c-72c62cfe90e0",
        "part": "whole"
       },
       "id": "2eca83b9-e009-465e-8dd6-e05f4c695ff3"
      }
     }
    },
    "8a122701-523f-4edd-b9ec-90c37cab3c9c": {
     "id": "8a122701-523f-4edd-b9ec-90c37cab3c9c",
     "prev": "a6948fde-1cbc-4df3-a202-4ead35e7704a",
     "regions": {
      "805c8306-13b4-4d3b-9a30-62ed63d48c2b": {
       "attrs": {
        "height": 0.8,
        "width": 0.8,
        "x": 0.1,
        "y": 0.1
       },
       "content": {
        "cell": "3a969ca7-8b2c-48cf-8410-4e5eaedde960",
        "part": "whole"
       },
       "id": "805c8306-13b4-4d3b-9a30-62ed63d48c2b"
      }
     }
    },
    "8bd73937-bdef-4af2-a9a1-cdf0479441a3": {
     "id": "8bd73937-bdef-4af2-a9a1-cdf0479441a3",
     "prev": "a38f0c8d-cb69-4172-867f-26a924ee1211",
     "regions": {
      "2dacd8b2-e11b-4c3c-81c6-8c09ffd8a7e6": {
       "attrs": {
        "height": 0.8,
        "width": 0.8,
        "x": 0.1,
        "y": 0.1
       },
       "content": {
        "cell": "7148f3f0-560d-40f3-af48-b5264a1d6ac8",
        "part": "whole"
       },
       "id": "2dacd8b2-e11b-4c3c-81c6-8c09ffd8a7e6"
      }
     }
    },
    "9384fc19-ae9e-4015-819c-8f7c0754a472": {
     "id": "9384fc19-ae9e-4015-819c-8f7c0754a472",
     "prev": "ada4e885-d38b-430b-89c2-85f353a40915",
     "regions": {
      "85efcfed-9a12-4b0c-99b5-1cd2a71e6e1f": {
       "attrs": {
        "height": 0.8,
        "width": 0.8,
        "x": 0.1,
        "y": 0.1
       },
       "content": {
        "cell": "5620e8aa-283d-45be-8f39-404e78b1487c",
        "part": "whole"
       },
       "id": "85efcfed-9a12-4b0c-99b5-1cd2a71e6e1f"
      }
     }
    },
    "985fd787-0dda-4f43-a1da-994fdb9fea99": {
     "id": "985fd787-0dda-4f43-a1da-994fdb9fea99",
     "prev": "35cd0f68-635f-43e1-b4b1-b175beeedfa2",
     "regions": {
      "963db8db-a5e1-4b0c-9ab0-2e161c55e3c5": {
       "attrs": {
        "height": 0.8,
        "width": 0.8,
        "x": 0.1,
        "y": 0.1
       },
       "content": {
        "cell": "adc9de1d-ac88-4b52-9aaf-002b48eb41ee",
        "part": "whole"
       },
       "id": "963db8db-a5e1-4b0c-9ab0-2e161c55e3c5"
      }
     }
    },
    "9ccbf50f-4ee4-4b62-8d2c-5af86209627c": {
     "id": "9ccbf50f-4ee4-4b62-8d2c-5af86209627c",
     "prev": "766e389c-b13a-4086-98f7-18401758c539",
     "regions": {
      "47e83157-a6f1-429b-9e54-b1e4f503ed4a": {
       "attrs": {
        "height": 0.8,
        "width": 0.8,
        "x": 0.1,
        "y": 0.1
       },
       "content": {
        "cell": "40bb9fdf-6fb7-4ab0-9e61-9b252f10b615",
        "part": "whole"
       },
       "id": "47e83157-a6f1-429b-9e54-b1e4f503ed4a"
      }
     }
    },
    "a38f0c8d-cb69-4172-867f-26a924ee1211": {
     "id": "a38f0c8d-cb69-4172-867f-26a924ee1211",
     "prev": "c1efc2b1-8198-4055-a914-3327df56da4f",
     "regions": {
      "ddb5e1cb-d78c-49ca-907a-116e7729deff": {
       "attrs": {
        "height": 0.8,
        "width": 0.8,
        "x": 0.1,
        "y": 0.1
       },
       "content": {
        "cell": "75da4052-b210-4281-bc04-782941fa0268",
        "part": "whole"
       },
       "id": "ddb5e1cb-d78c-49ca-907a-116e7729deff"
      }
     }
    },
    "a6948fde-1cbc-4df3-a202-4ead35e7704a": {
     "id": "a6948fde-1cbc-4df3-a202-4ead35e7704a",
     "prev": "6d947ae7-7a14-4ac2-8d14-f0298cf344e6",
     "regions": {
      "19b06cdc-d4ee-4bed-aaec-cbdb48100553": {
       "attrs": {
        "height": 0.8,
        "width": 0.8,
        "x": 0.1,
        "y": 0.1
       },
       "content": {
        "cell": "08d4f60b-466c-45ad-b7ad-e2c6ab14d170",
        "part": "whole"
       },
       "id": "19b06cdc-d4ee-4bed-aaec-cbdb48100553"
      }
     }
    },
    "a8dab855-a264-402f-a182-6f06b7b366e1": {
     "id": "a8dab855-a264-402f-a182-6f06b7b366e1",
     "prev": "c5ad98bb-a7e1-4655-ab35-3c07f95cba2d",
     "regions": {
      "45ba6f63-99e7-4777-b527-971c1aecf7f5": {
       "attrs": {
        "height": 0.8,
        "width": 0.8,
        "x": 0.1,
        "y": 0.1
       },
       "content": {
        "cell": "f1b17e78-61b1-4b4d-a967-1854d7ca9d89",
        "part": "whole"
       },
       "id": "45ba6f63-99e7-4777-b527-971c1aecf7f5"
      }
     }
    },
    "ada4e885-d38b-430b-89c2-85f353a40915": {
     "id": "ada4e885-d38b-430b-89c2-85f353a40915",
     "prev": "253a28d6-664a-4bf9-a9ff-5b1ef6874e89",
     "regions": {
      "41849261-b477-4c88-8aeb-a46f61b99109": {
       "attrs": {
        "height": 0.8,
        "width": 0.8,
        "x": 0.1,
        "y": 0.1
       },
       "content": {
        "cell": "e1655d99-a2e0-4c42-8d87-86764fff146c",
        "part": "whole"
       },
       "id": "41849261-b477-4c88-8aeb-a46f61b99109"
      }
     }
    },
    "b028418b-d3da-4b4a-a698-a70c1f80075d": {
     "id": "b028418b-d3da-4b4a-a698-a70c1f80075d",
     "prev": "18d96bed-6b87-41f8-b92d-7812f00183fa",
     "regions": {
      "4bf62201-9c20-4dcd-b25e-d2261a24bed3": {
       "attrs": {
        "height": 0.8,
        "width": 0.8,
        "x": 0.1,
        "y": 0.1
       },
       "content": {
        "cell": "deb3631d-a1a5-4ec2-90e1-dae819fe2df8",
        "part": "whole"
       },
       "id": "4bf62201-9c20-4dcd-b25e-d2261a24bed3"
      }
     }
    },
    "bbd76a64-daa4-4c27-a374-776da5c48419": {
     "id": "bbd76a64-daa4-4c27-a374-776da5c48419",
     "prev": "ef780983-ee1c-4356-b5df-80e0ea3a7432",
     "regions": {
      "703aa0a4-98c5-44bb-a4f3-eb0d55b9a11f": {
       "attrs": {
        "height": 0.8,
        "width": 0.8,
        "x": 0.1,
        "y": 0.1
       },
       "content": {
        "cell": "1e648d98-2cb8-4938-827e-1da24c84e581",
        "part": "whole"
       },
       "id": "703aa0a4-98c5-44bb-a4f3-eb0d55b9a11f"
      }
     }
    },
    "bdeccfac-de62-4085-8191-d726eb8ef6b5": {
     "id": "bdeccfac-de62-4085-8191-d726eb8ef6b5",
     "prev": "386c548a-74d3-4e09-8448-babe3350f003",
     "regions": {
      "ff0699f0-6940-488b-a10c-e78d6e290d7b": {
       "attrs": {
        "height": 0.8,
        "width": 0.8,
        "x": 0.1,
        "y": 0.1
       },
       "content": {
        "cell": "091fc50b-a223-42a8-9848-5a171171f188",
        "part": "whole"
       },
       "id": "ff0699f0-6940-488b-a10c-e78d6e290d7b"
      }
     }
    },
    "c1efc2b1-8198-4055-a914-3327df56da4f": {
     "id": "c1efc2b1-8198-4055-a914-3327df56da4f",
     "prev": "cc5477d1-296a-4eb6-aad6-9cc9fdc18dc1",
     "regions": {
      "fe5d9301-ebdf-412a-a1b4-dbab7d4681cd": {
       "attrs": {
        "height": 0.8,
        "width": 0.8,
        "x": 0.1,
        "y": 0.1
       },
       "content": {
        "cell": "ee941717-2077-4031-9437-9172d08f33fa",
        "part": "whole"
       },
       "id": "fe5d9301-ebdf-412a-a1b4-dbab7d4681cd"
      }
     }
    },
    "c39b53bf-b70b-459a-af86-025fef103138": {
     "id": "c39b53bf-b70b-459a-af86-025fef103138",
     "prev": "0c36a4d3-acdb-46a5-a003-aaecb2b44e65",
     "regions": {
      "7b60964b-fd45-4fde-8221-7d026fa723a0": {
       "attrs": {
        "height": 0.8,
        "width": 0.8,
        "x": 0.1,
        "y": 0.1
       },
       "content": {
        "cell": "0f1ca28d-743a-496a-ab40-f89f123a332e",
        "part": "whole"
       },
       "id": "7b60964b-fd45-4fde-8221-7d026fa723a0"
      }
     }
    },
    "c534d463-125d-404e-8720-7fabfb572c0c": {
     "id": "c534d463-125d-404e-8720-7fabfb572c0c",
     "prev": "f885fd26-3d13-4b9c-a7a8-82709d63828c",
     "regions": {
      "af8a7249-21d6-4cfe-9787-204cbbac5e88": {
       "attrs": {
        "height": 0.8,
        "width": 0.8,
        "x": 0.1,
        "y": 0.1
       },
       "content": {
        "cell": "21234893-451b-4860-9f40-fe4c752a0fc3",
        "part": "whole"
       },
       "id": "af8a7249-21d6-4cfe-9787-204cbbac5e88"
      }
     }
    },
    "c57934ea-2323-476a-a919-a1fec147aebd": {
     "id": "c57934ea-2323-476a-a919-a1fec147aebd",
     "prev": "3d68e02e-76bb-4b1a-8cc6-bde316ec007a",
     "regions": {
      "cb18f006-cdaf-456b-bc7f-60c01719dbde": {
       "attrs": {
        "height": 0.8,
        "width": 0.8,
        "x": 0.1,
        "y": 0.1
       },
       "content": {
        "cell": "b5eb85aa-7c31-4042-ac2a-fecd401560d9",
        "part": "whole"
       },
       "id": "cb18f006-cdaf-456b-bc7f-60c01719dbde"
      }
     }
    },
    "c5ad98bb-a7e1-4655-ab35-3c07f95cba2d": {
     "id": "c5ad98bb-a7e1-4655-ab35-3c07f95cba2d",
     "prev": "018adca0-6f5b-44f6-8c5a-a80734a359cb",
     "regions": {
      "99b1f899-476e-40c2-ab17-c7d1aab1ee70": {
       "attrs": {
        "height": 0.8,
        "width": 0.8,
        "x": 0.1,
        "y": 0.1
       },
       "content": {
        "cell": "16d1fb2d-cdf8-4be7-8ece-37998f641c97",
        "part": "whole"
       },
       "id": "99b1f899-476e-40c2-ab17-c7d1aab1ee70"
      }
     }
    },
    "c864542a-3660-4df8-a67d-1edf4e539d54": {
     "id": "c864542a-3660-4df8-a67d-1edf4e539d54",
     "prev": "73e43839-aab8-43bf-8188-6028e976db51",
     "regions": {
      "4298dd6e-4b13-4229-bd6b-5dae3e91b8dc": {
       "attrs": {
        "height": 0.8,
        "width": 0.8,
        "x": 0.1,
        "y": 0.1
       },
       "content": {
        "cell": "0917affd-3569-443c-8b5b-d302a8a20764",
        "part": "whole"
       },
       "id": "4298dd6e-4b13-4229-bd6b-5dae3e91b8dc"
      }
     }
    },
    "cc5477d1-296a-4eb6-aad6-9cc9fdc18dc1": {
     "id": "cc5477d1-296a-4eb6-aad6-9cc9fdc18dc1",
     "prev": "bbd76a64-daa4-4c27-a374-776da5c48419",
     "regions": {
      "df7a7315-cbaa-4689-8200-58db6ee3fa04": {
       "attrs": {
        "height": 0.8,
        "width": 0.8,
        "x": 0.1,
        "y": 0.1
       },
       "content": {
        "cell": "adf4fae8-461f-4d0d-ac73-5e5a4bd8b02d",
        "part": "whole"
       },
       "id": "df7a7315-cbaa-4689-8200-58db6ee3fa04"
      }
     }
    },
    "cd34d442-d377-428a-9ecc-06c71749cd3c": {
     "id": "cd34d442-d377-428a-9ecc-06c71749cd3c",
     "prev": "459a7d44-eecd-474b-b493-f780d5c0eb4d",
     "regions": {
      "6df4aa7b-c2e6-4ff0-bd9b-c890182833e3": {
       "attrs": {
        "height": 0.8,
        "width": 0.8,
        "x": 0.1,
        "y": 0.1
       },
       "content": {
        "cell": "a9d159c7-398b-46c9-b7fc-0cb84c9772a7",
        "part": "whole"
       },
       "id": "6df4aa7b-c2e6-4ff0-bd9b-c890182833e3"
      }
     }
    },
    "cff96311-40ce-4242-927b-6c6837412be6": {
     "id": "cff96311-40ce-4242-927b-6c6837412be6",
     "prev": "9384fc19-ae9e-4015-819c-8f7c0754a472",
     "regions": {
      "1ea09a52-3104-46c5-8644-e3b1a3b91d96": {
       "attrs": {
        "height": 0.8,
        "width": 0.8,
        "x": 0.1,
        "y": 0.1
       },
       "content": {
        "cell": "ce2f8747-bb6a-4045-80dd-4cd598b4c4e5",
        "part": "whole"
       },
       "id": "1ea09a52-3104-46c5-8644-e3b1a3b91d96"
      }
     }
    },
    "d673b5bd-e6e3-4241-8262-9f66a3e1bec7": {
     "id": "d673b5bd-e6e3-4241-8262-9f66a3e1bec7",
     "prev": "d909a918-ae74-4276-9d1b-c19034a86e62",
     "regions": {
      "d6c4c970-d1bf-4929-9205-e74403f32c56": {
       "attrs": {
        "height": 0.8,
        "width": 0.8,
        "x": 0.1,
        "y": 0.1
       },
       "content": {
        "cell": "e2af89e3-50e3-4286-8d40-6fa6b426c131",
        "part": "whole"
       },
       "id": "d6c4c970-d1bf-4929-9205-e74403f32c56"
      }
     }
    },
    "d909a918-ae74-4276-9d1b-c19034a86e62": {
     "id": "d909a918-ae74-4276-9d1b-c19034a86e62",
     "prev": "c39b53bf-b70b-459a-af86-025fef103138",
     "regions": {
      "80b03884-85d3-4972-94b7-e8f01b8444ff": {
       "attrs": {
        "height": 0.8,
        "width": 0.8,
        "x": 0.1,
        "y": 0.1
       },
       "content": {
        "cell": "272f2c1e-d16e-45ab-a5f9-d2038b5b994a",
        "part": "whole"
       },
       "id": "80b03884-85d3-4972-94b7-e8f01b8444ff"
      }
     }
    },
    "ddec3be1-1ee5-4e59-8f16-94db794bbf32": {
     "id": "ddec3be1-1ee5-4e59-8f16-94db794bbf32",
     "prev": "bdeccfac-de62-4085-8191-d726eb8ef6b5",
     "regions": {
      "28c06a44-586b-4a97-b2cf-d4645dedb160": {
       "attrs": {
        "height": 0.8,
        "width": 0.8,
        "x": 0.1,
        "y": 0.1
       },
       "content": {
        "cell": "882cd67b-6bb6-4847-87f5-29aad451ee5d",
        "part": "whole"
       },
       "id": "28c06a44-586b-4a97-b2cf-d4645dedb160"
      }
     }
    },
    "de1607ab-7e06-49ec-93da-9c96b58b48b4": {
     "id": "de1607ab-7e06-49ec-93da-9c96b58b48b4",
     "prev": "8a122701-523f-4edd-b9ec-90c37cab3c9c",
     "regions": {
      "e99376e9-8309-48e1-85db-9ca4281092f9": {
       "attrs": {
        "height": 0.8,
        "width": 0.8,
        "x": 0.1,
        "y": 0.1
       },
       "content": {
        "cell": "83e690d8-1f07-44c0-802e-810a700fab05",
        "part": "whole"
       },
       "id": "e99376e9-8309-48e1-85db-9ca4281092f9"
      }
     }
    },
    "e2b34a97-ecf2-452f-8b3c-8f0a632d3679": {
     "id": "e2b34a97-ecf2-452f-8b3c-8f0a632d3679",
     "prev": null,
     "regions": {
      "6f39cac1-119d-40b8-b4dd-591fbfa43a23": {
       "attrs": {
        "height": 0.8,
        "width": 0.8,
        "x": 0.1,
        "y": 0.1
       },
       "content": {
        "cell": "458955dd-4b7a-42e0-a81e-3bfda063205d",
        "part": "whole"
       },
       "id": "6f39cac1-119d-40b8-b4dd-591fbfa43a23"
      }
     }
    },
    "e76a651d-4aea-4d2d-acc9-dd8dd24a7487": {
     "id": "e76a651d-4aea-4d2d-acc9-dd8dd24a7487",
     "prev": "259ceb15-070c-4242-b35b-475aaa8094db",
     "regions": {
      "acae2a01-dbe1-49e7-be86-45104cf33126": {
       "attrs": {
        "height": 0.8,
        "width": 0.8,
        "x": 0.1,
        "y": 0.1
       },
       "content": {
        "cell": "84c5d1f8-35e4-414a-b682-f103c5c60fa8",
        "part": "whole"
       },
       "id": "acae2a01-dbe1-49e7-be86-45104cf33126"
      }
     }
    },
    "ec21535d-dbed-43f0-a79a-ddfc90f34c1f": {
     "id": "ec21535d-dbed-43f0-a79a-ddfc90f34c1f",
     "prev": "9ccbf50f-4ee4-4b62-8d2c-5af86209627c",
     "regions": {
      "59acdd69-987a-4a07-81bc-2ab095824c9b": {
       "attrs": {
        "height": 0.8,
        "width": 0.8,
        "x": 0.1,
        "y": 0.1
       },
       "content": {
        "cell": "f9eb0aae-3db6-469d-8118-73a3037fe92d",
        "part": "whole"
       },
       "id": "59acdd69-987a-4a07-81bc-2ab095824c9b"
      }
     }
    },
    "ecec15c6-5363-4c47-8e9c-b209388b3905": {
     "id": "ecec15c6-5363-4c47-8e9c-b209388b3905",
     "prev": "c864542a-3660-4df8-a67d-1edf4e539d54",
     "regions": {
      "5d82ee64-803f-467b-84aa-21a621432fcc": {
       "attrs": {
        "height": 0.8,
        "width": 0.8,
        "x": 0.1,
        "y": 0.1
       },
       "content": {
        "cell": "3247ac23-2d60-4212-8f38-e7dffdab81ac",
        "part": "whole"
       },
       "id": "5d82ee64-803f-467b-84aa-21a621432fcc"
      }
     }
    },
    "ef780983-ee1c-4356-b5df-80e0ea3a7432": {
     "id": "ef780983-ee1c-4356-b5df-80e0ea3a7432",
     "prev": "de1607ab-7e06-49ec-93da-9c96b58b48b4",
     "regions": {
      "753bb111-6388-4a68-b3fa-52a7bb169a00": {
       "attrs": {
        "height": 0.8,
        "width": 0.8,
        "x": 0.1,
        "y": 0.1
       },
       "content": {
        "cell": "f521d426-e19d-4e56-b326-bd2681652ec1",
        "part": "whole"
       },
       "id": "753bb111-6388-4a68-b3fa-52a7bb169a00"
      }
     }
    },
    "f03c101f-ddd5-4bc4-b088-66f8e374fa08": {
     "id": "f03c101f-ddd5-4bc4-b088-66f8e374fa08",
     "prev": "8bd73937-bdef-4af2-a9a1-cdf0479441a3",
     "regions": {
      "c1ef9851-7443-4f68-a405-6be3c1dc97cb": {
       "attrs": {
        "height": 0.8,
        "width": 0.8,
        "x": 0.1,
        "y": 0.1
       },
       "content": {
        "cell": "d25d2c62-7452-46ec-8801-56fa2f809f24",
        "part": "whole"
       },
       "id": "c1ef9851-7443-4f68-a405-6be3c1dc97cb"
      }
     }
    },
    "f5c1a417-4ed8-45ff-8d17-01f50f0aab11": {
     "id": "f5c1a417-4ed8-45ff-8d17-01f50f0aab11",
     "prev": "4ec99677-bc96-428c-8687-871699cac003",
     "regions": {
      "1c379137-f0ca-45d9-9a7c-47d3de4d9928": {
       "attrs": {
        "height": 0.8,
        "width": 0.8,
        "x": 0.1,
        "y": 0.1
       },
       "content": {
        "cell": "21af36af-4d2d-42a5-a658-275b31203727",
        "part": "whole"
       },
       "id": "1c379137-f0ca-45d9-9a7c-47d3de4d9928"
      }
     }
    },
    "f6f26bf2-4e90-44a4-aa2c-d625ae8afdd0": {
     "id": "f6f26bf2-4e90-44a4-aa2c-d625ae8afdd0",
     "prev": "f5c1a417-4ed8-45ff-8d17-01f50f0aab11",
     "regions": {
      "a2b08100-af56-46f7-9dd4-6f863e10d2f6": {
       "attrs": {
        "height": 0.8,
        "width": 0.8,
        "x": 0.1,
        "y": 0.1
       },
       "content": {
        "cell": "1340e68e-8485-4eed-90e8-c0b839a6cfb3",
        "part": "whole"
       },
       "id": "a2b08100-af56-46f7-9dd4-6f863e10d2f6"
      }
     }
    },
    "f885fd26-3d13-4b9c-a7a8-82709d63828c": {
     "id": "f885fd26-3d13-4b9c-a7a8-82709d63828c",
     "prev": "3d66a8da-a16f-43b4-80f1-66d703d1aff9",
     "regions": {
      "1b6f71aa-da8c-4f8a-9139-969fc2517f78": {
       "attrs": {
        "height": 0.8,
        "width": 0.8,
        "x": 0.1,
        "y": 0.1
       },
       "content": {
        "cell": "6a3d2c3f-4ad7-4726-bae1-9a73d352b6ae",
        "part": "whole"
       },
       "id": "1b6f71aa-da8c-4f8a-9139-969fc2517f78"
      }
     }
    }
   },
   "themes": {
    "default": "cb7e9bda-a09d-4a28-99eb-1f36cf158f23",
    "theme": {
     "316d550c-4e7f-4ce5-96dc-daa6b6828f96": {
      "backgrounds": {
       "backgroundColor": {
        "background-color": "backgroundColor",
        "id": "backgroundColor"
       }
      },
      "id": "316d550c-4e7f-4ce5-96dc-daa6b6828f96",
      "palette": {
       "backgroundColor": {
        "id": "backgroundColor",
        "rgb": [
         34,
         34,
         34
        ]
       },
       "headingColor": {
        "id": "headingColor",
        "rgb": [
         256,
         256,
         256
        ]
       },
       "linkColor": {
        "id": "linkColor",
        "rgb": [
         66,
         175,
         250
        ]
       },
       "mainColor": {
        "id": "mainColor",
        "rgb": [
         256,
         256,
         256
        ]
       }
      },
      "rules": {
       "a": {
        "color": "linkColor"
       },
       "h1": {
        "color": "headingColor",
        "font-family": "Source Sans Pro",
        "font-size": 5.25
       },
       "h2": {
        "color": "headingColor",
        "font-family": "Source Sans Pro",
        "font-size": 4
       },
       "h3": {
        "color": "headingColor",
        "font-family": "Source Sans Pro",
        "font-size": 3.5
       },
       "h4": {
        "color": "headingColor",
        "font-family": "Source Sans Pro",
        "font-size": 3
       },
       "h5": {
        "color": "headingColor",
        "font-family": "Source Sans Pro"
       },
       "h6": {
        "color": "headingColor",
        "font-family": "Source Sans Pro"
       },
       "h7": {
        "color": "headingColor",
        "font-family": "Source Sans Pro"
       },
       "li": {
        "color": "mainColor",
        "font-family": "Source Sans Pro",
        "font-size": 6
       },
       "p": {
        "color": "mainColor",
        "font-family": "Source Sans Pro",
        "font-size": 6
       }
      },
      "text-base": {
       "color": "mainColor",
       "font-family": "Source Sans Pro",
       "font-size": 6
      }
     },
     "cb7e9bda-a09d-4a28-99eb-1f36cf158f23": {
      "backgrounds": {
       "backgroundColor": {
        "background-color": "backgroundColor",
        "id": "backgroundColor"
       }
      },
      "id": "cb7e9bda-a09d-4a28-99eb-1f36cf158f23",
      "palette": {
       "backgroundColor": {
        "id": "backgroundColor",
        "rgb": [
         256,
         256,
         256
        ]
       },
       "headingColor": {
        "id": "headingColor",
        "rgb": [
         0,
         0,
         0
        ]
       },
       "linkColor": {
        "id": "linkColor",
        "rgb": [
         0,
         0,
         139
        ]
       },
       "mainColor": {
        "id": "mainColor",
        "rgb": [
         0,
         0,
         0
        ]
       }
      },
      "rules": {
       "a": {
        "color": "linkColor"
       },
       "h1": {
        "color": "headingColor",
        "font-family": "News Cycle",
        "font-size": 7
       },
       "h2": {
        "color": "headingColor",
        "font-family": "News Cycle",
        "font-size": 5
       },
       "h3": {
        "color": "headingColor",
        "font-family": "News Cycle",
        "font-size": 3.75
       },
       "h4": {
        "color": "headingColor",
        "font-family": "News Cycle",
        "font-size": 3
       },
       "h5": {
        "color": "headingColor",
        "font-family": "News Cycle"
       },
       "h6": {
        "color": "headingColor",
        "font-family": "News Cycle"
       },
       "h7": {
        "color": "headingColor",
        "font-family": "News Cycle"
       },
       "li": {
        "color": "mainColor",
        "font-family": "Lato",
        "font-size": 5
       },
       "p": {
        "color": "mainColor",
        "font-family": "Lato",
        "font-size": 5
       }
      },
      "text-base": {
       "color": "mainColor",
       "font-family": "Lato",
       "font-size": 5
      }
     }
    }
   }
  }
 },
 "nbformat": 4,
 "nbformat_minor": 2
}
