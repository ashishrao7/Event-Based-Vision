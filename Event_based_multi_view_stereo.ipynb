{
 "cells": [
  {
   "cell_type": "markdown",
   "metadata": {
    "nbpresent": {
     "id": "458955dd-4b7a-42e0-a81e-3bfda063205d"
    },
    "slideshow": {
     "slide_type": "slide"
    }
   },
   "source": [
    "### Rebecq, H., Gallego, G., Mueggler, E., and Scaramuzza, D. (2017). EMVS: Event-Based Multi-View Stereo—3D Reconstruction with an Event Camera in Real-Time. International Journal of Computer Vision 1–21."
   ]
  },
  {
   "cell_type": "markdown",
   "metadata": {
    "nbpresent": {
     "id": "ced8ae4b-41bb-45e1-b6f8-8544490a39c2"
    },
    "slideshow": {
     "slide_type": "fragment"
    }
   },
   "source": [
    "This notebook is an implementation of the above paper on semi-dense 3D reconstruction of a scene using back projection methods. The scene data is captured using an event camera. The notebook has been structured according to the methodology outlined in the paper."
   ]
  },
  {
   "cell_type": "code",
   "execution_count": 5,
   "metadata": {
    "nbpresent": {
     "id": "77d1eb0e-41c4-4247-859b-acab4d426bd3"
    },
    "slideshow": {
     "slide_type": "subslide"
    }
   },
   "outputs": [
    {
     "name": "stdout",
     "output_type": "stream",
     "text": [
      "The line_profiler extension is already loaded. To reload it, use:\n",
      "  %reload_ext line_profiler\n"
     ]
    }
   ],
   "source": [
    "import cv2\n",
    "import os\n",
    "import scipy\n",
    "import numpy as np\n",
    "import matplotlib.pyplot as plt\n",
    "import time\n",
    "import pyquaternion as qt\n",
    "%load_ext line_profiler\n",
    "%matplotlib notebook\n",
    "\n",
    "data_path = 'data/slider_depth'"
   ]
  },
  {
   "cell_type": "markdown",
   "metadata": {},
   "source": [
    "The %lprun  and %timeit commands have been used throughout the notebook to time the execution of the functions."
   ]
  },
  {
   "cell_type": "markdown",
   "metadata": {
    "nbpresent": {
     "id": "7b098df0-6fd1-4de5-ae84-4351a8b2a3e2"
    },
    "slideshow": {
     "slide_type": "slide"
    }
   },
   "source": [
    "## Table of Contents\n",
    "[1. Scene Video(optional)](#scene_video)\n",
    "\n",
    "[2. Data Available and Data format](#data)\n",
    "    \n",
    "   &nbsp;&nbsp;&nbsp;&nbsp;&nbsp;[2.1 Camera Matrix](#cam_mat)\n",
    "   \n",
    "   &nbsp;&nbsp;&nbsp;&nbsp;&nbsp;[2.2 Obtaining pose information relevant to events under consideration from the groundtruth files](#event_data)\n",
    " \n",
    "[3. Stages of Reconstruction](#stages)\n",
    "\n",
    "   &nbsp;&nbsp;&nbsp;&nbsp;&nbsp;[3.1 Back-Projection](#stage_1)\n",
    "   \n",
    "   &nbsp;&nbsp;&nbsp;&nbsp;&nbsp;[3.2 Ray-Counting](#stage_2)\n",
    "   \n",
    "   &nbsp;&nbsp;&nbsp;&nbsp;&nbsp;[3.3 Voting](#stage_3)\n",
    "   \n",
    "   &nbsp;&nbsp;&nbsp;&nbsp;&nbsp;[3.4 Scene Restructuring](#stage_4)\n",
    "   \n",
    "   &nbsp;&nbsp;&nbsp;&nbsp;&nbsp;[3.5 Cleaning](#stage_5)\n",
    "   \n",
    "    \n",
    "[4. Algorithm](#algorithm)\n",
    "\n",
    "   &nbsp;&nbsp;&nbsp;&nbsp;&nbsp;[4.1 Pictorial Representation of the Algorithm](#algo_pic)\n",
    "\n",
    "[5. The Main Function](#main)"
   ]
  },
  {
   "cell_type": "code",
   "execution_count": 58,
   "metadata": {},
   "outputs": [],
   "source": [
    "num_of_depth_planes = 100 # number of depth planes to be used for the 3-D projective Space\n",
    "Z_0 = 1  # The reference plane for initial mapping, 10 has been chosen arbitrarily"
   ]
  },
  {
   "cell_type": "markdown",
   "metadata": {
    "nbpresent": {
     "id": "3b7e6e0a-2698-48f4-b1cf-0da86501ea0e"
    },
    "slideshow": {
     "slide_type": "slide"
    }
   },
   "source": [
    "<a id=\"scene_video\"></a>\n",
    "## 1. Scene Video\n"
   ]
  },
  {
   "cell_type": "markdown",
   "metadata": {
    "nbpresent": {
     "id": "a9d159c7-398b-46c9-b7fc-0cb84c9772a7"
    },
    "slideshow": {
     "slide_type": "fragment"
    }
   },
   "source": [
    "The DAVIS camera has a conventional image capturing system along with the event based system. While we shall not be using the conventional stream during our implementation, the conventional stream of data helps the user visualize the scene that is undergoing reconstruction."
   ]
  },
  {
   "cell_type": "code",
   "execution_count": 3,
   "metadata": {
    "nbpresent": {
     "id": "1502a5a3-4567-48c8-a515-6892d330fcb8"
    },
    "slideshow": {
     "slide_type": "subslide"
    }
   },
   "outputs": [],
   "source": [
    "normal_img_path = data_path + '/images'\n",
    "normal_imgs = [normal_img_path + \"/\" + img for img in os.listdir(normal_img_path) if img.endswith(\".png\")]\n",
    "normal_imgs.sort()"
   ]
  },
  {
   "cell_type": "code",
   "execution_count": 7,
   "metadata": {
    "nbpresent": {
     "id": "46485b54-7a29-48ec-b4a6-24396d33c26b"
    },
    "slideshow": {
     "slide_type": "subslide"
    }
   },
   "outputs": [
    {
     "data": {
      "application/javascript": [
       "/* Put everything inside the global mpl namespace */\n",
       "window.mpl = {};\n",
       "\n",
       "\n",
       "mpl.get_websocket_type = function() {\n",
       "    if (typeof(WebSocket) !== 'undefined') {\n",
       "        return WebSocket;\n",
       "    } else if (typeof(MozWebSocket) !== 'undefined') {\n",
       "        return MozWebSocket;\n",
       "    } else {\n",
       "        alert('Your browser does not have WebSocket support.' +\n",
       "              'Please try Chrome, Safari or Firefox ≥ 6. ' +\n",
       "              'Firefox 4 and 5 are also supported but you ' +\n",
       "              'have to enable WebSockets in about:config.');\n",
       "    };\n",
       "}\n",
       "\n",
       "mpl.figure = function(figure_id, websocket, ondownload, parent_element) {\n",
       "    this.id = figure_id;\n",
       "\n",
       "    this.ws = websocket;\n",
       "\n",
       "    this.supports_binary = (this.ws.binaryType != undefined);\n",
       "\n",
       "    if (!this.supports_binary) {\n",
       "        var warnings = document.getElementById(\"mpl-warnings\");\n",
       "        if (warnings) {\n",
       "            warnings.style.display = 'block';\n",
       "            warnings.textContent = (\n",
       "                \"This browser does not support binary websocket messages. \" +\n",
       "                    \"Performance may be slow.\");\n",
       "        }\n",
       "    }\n",
       "\n",
       "    this.imageObj = new Image();\n",
       "\n",
       "    this.context = undefined;\n",
       "    this.message = undefined;\n",
       "    this.canvas = undefined;\n",
       "    this.rubberband_canvas = undefined;\n",
       "    this.rubberband_context = undefined;\n",
       "    this.format_dropdown = undefined;\n",
       "\n",
       "    this.image_mode = 'full';\n",
       "\n",
       "    this.root = $('<div/>');\n",
       "    this._root_extra_style(this.root)\n",
       "    this.root.attr('style', 'display: inline-block');\n",
       "\n",
       "    $(parent_element).append(this.root);\n",
       "\n",
       "    this._init_header(this);\n",
       "    this._init_canvas(this);\n",
       "    this._init_toolbar(this);\n",
       "\n",
       "    var fig = this;\n",
       "\n",
       "    this.waiting = false;\n",
       "\n",
       "    this.ws.onopen =  function () {\n",
       "            fig.send_message(\"supports_binary\", {value: fig.supports_binary});\n",
       "            fig.send_message(\"send_image_mode\", {});\n",
       "            if (mpl.ratio != 1) {\n",
       "                fig.send_message(\"set_dpi_ratio\", {'dpi_ratio': mpl.ratio});\n",
       "            }\n",
       "            fig.send_message(\"refresh\", {});\n",
       "        }\n",
       "\n",
       "    this.imageObj.onload = function() {\n",
       "            if (fig.image_mode == 'full') {\n",
       "                // Full images could contain transparency (where diff images\n",
       "                // almost always do), so we need to clear the canvas so that\n",
       "                // there is no ghosting.\n",
       "                fig.context.clearRect(0, 0, fig.canvas.width, fig.canvas.height);\n",
       "            }\n",
       "            fig.context.drawImage(fig.imageObj, 0, 0);\n",
       "        };\n",
       "\n",
       "    this.imageObj.onunload = function() {\n",
       "        fig.ws.close();\n",
       "    }\n",
       "\n",
       "    this.ws.onmessage = this._make_on_message_function(this);\n",
       "\n",
       "    this.ondownload = ondownload;\n",
       "}\n",
       "\n",
       "mpl.figure.prototype._init_header = function() {\n",
       "    var titlebar = $(\n",
       "        '<div class=\"ui-dialog-titlebar ui-widget-header ui-corner-all ' +\n",
       "        'ui-helper-clearfix\"/>');\n",
       "    var titletext = $(\n",
       "        '<div class=\"ui-dialog-title\" style=\"width: 100%; ' +\n",
       "        'text-align: center; padding: 3px;\"/>');\n",
       "    titlebar.append(titletext)\n",
       "    this.root.append(titlebar);\n",
       "    this.header = titletext[0];\n",
       "}\n",
       "\n",
       "\n",
       "\n",
       "mpl.figure.prototype._canvas_extra_style = function(canvas_div) {\n",
       "\n",
       "}\n",
       "\n",
       "\n",
       "mpl.figure.prototype._root_extra_style = function(canvas_div) {\n",
       "\n",
       "}\n",
       "\n",
       "mpl.figure.prototype._init_canvas = function() {\n",
       "    var fig = this;\n",
       "\n",
       "    var canvas_div = $('<div/>');\n",
       "\n",
       "    canvas_div.attr('style', 'position: relative; clear: both; outline: 0');\n",
       "\n",
       "    function canvas_keyboard_event(event) {\n",
       "        return fig.key_event(event, event['data']);\n",
       "    }\n",
       "\n",
       "    canvas_div.keydown('key_press', canvas_keyboard_event);\n",
       "    canvas_div.keyup('key_release', canvas_keyboard_event);\n",
       "    this.canvas_div = canvas_div\n",
       "    this._canvas_extra_style(canvas_div)\n",
       "    this.root.append(canvas_div);\n",
       "\n",
       "    var canvas = $('<canvas/>');\n",
       "    canvas.addClass('mpl-canvas');\n",
       "    canvas.attr('style', \"left: 0; top: 0; z-index: 0; outline: 0\")\n",
       "\n",
       "    this.canvas = canvas[0];\n",
       "    this.context = canvas[0].getContext(\"2d\");\n",
       "\n",
       "    var backingStore = this.context.backingStorePixelRatio ||\n",
       "\tthis.context.webkitBackingStorePixelRatio ||\n",
       "\tthis.context.mozBackingStorePixelRatio ||\n",
       "\tthis.context.msBackingStorePixelRatio ||\n",
       "\tthis.context.oBackingStorePixelRatio ||\n",
       "\tthis.context.backingStorePixelRatio || 1;\n",
       "\n",
       "    mpl.ratio = (window.devicePixelRatio || 1) / backingStore;\n",
       "\n",
       "    var rubberband = $('<canvas/>');\n",
       "    rubberband.attr('style', \"position: absolute; left: 0; top: 0; z-index: 1;\")\n",
       "\n",
       "    var pass_mouse_events = true;\n",
       "\n",
       "    canvas_div.resizable({\n",
       "        start: function(event, ui) {\n",
       "            pass_mouse_events = false;\n",
       "        },\n",
       "        resize: function(event, ui) {\n",
       "            fig.request_resize(ui.size.width, ui.size.height);\n",
       "        },\n",
       "        stop: function(event, ui) {\n",
       "            pass_mouse_events = true;\n",
       "            fig.request_resize(ui.size.width, ui.size.height);\n",
       "        },\n",
       "    });\n",
       "\n",
       "    function mouse_event_fn(event) {\n",
       "        if (pass_mouse_events)\n",
       "            return fig.mouse_event(event, event['data']);\n",
       "    }\n",
       "\n",
       "    rubberband.mousedown('button_press', mouse_event_fn);\n",
       "    rubberband.mouseup('button_release', mouse_event_fn);\n",
       "    // Throttle sequential mouse events to 1 every 20ms.\n",
       "    rubberband.mousemove('motion_notify', mouse_event_fn);\n",
       "\n",
       "    rubberband.mouseenter('figure_enter', mouse_event_fn);\n",
       "    rubberband.mouseleave('figure_leave', mouse_event_fn);\n",
       "\n",
       "    canvas_div.on(\"wheel\", function (event) {\n",
       "        event = event.originalEvent;\n",
       "        event['data'] = 'scroll'\n",
       "        if (event.deltaY < 0) {\n",
       "            event.step = 1;\n",
       "        } else {\n",
       "            event.step = -1;\n",
       "        }\n",
       "        mouse_event_fn(event);\n",
       "    });\n",
       "\n",
       "    canvas_div.append(canvas);\n",
       "    canvas_div.append(rubberband);\n",
       "\n",
       "    this.rubberband = rubberband;\n",
       "    this.rubberband_canvas = rubberband[0];\n",
       "    this.rubberband_context = rubberband[0].getContext(\"2d\");\n",
       "    this.rubberband_context.strokeStyle = \"#000000\";\n",
       "\n",
       "    this._resize_canvas = function(width, height) {\n",
       "        // Keep the size of the canvas, canvas container, and rubber band\n",
       "        // canvas in synch.\n",
       "        canvas_div.css('width', width)\n",
       "        canvas_div.css('height', height)\n",
       "\n",
       "        canvas.attr('width', width * mpl.ratio);\n",
       "        canvas.attr('height', height * mpl.ratio);\n",
       "        canvas.attr('style', 'width: ' + width + 'px; height: ' + height + 'px;');\n",
       "\n",
       "        rubberband.attr('width', width);\n",
       "        rubberband.attr('height', height);\n",
       "    }\n",
       "\n",
       "    // Set the figure to an initial 600x600px, this will subsequently be updated\n",
       "    // upon first draw.\n",
       "    this._resize_canvas(600, 600);\n",
       "\n",
       "    // Disable right mouse context menu.\n",
       "    $(this.rubberband_canvas).bind(\"contextmenu\",function(e){\n",
       "        return false;\n",
       "    });\n",
       "\n",
       "    function set_focus () {\n",
       "        canvas.focus();\n",
       "        canvas_div.focus();\n",
       "    }\n",
       "\n",
       "    window.setTimeout(set_focus, 100);\n",
       "}\n",
       "\n",
       "mpl.figure.prototype._init_toolbar = function() {\n",
       "    var fig = this;\n",
       "\n",
       "    var nav_element = $('<div/>')\n",
       "    nav_element.attr('style', 'width: 100%');\n",
       "    this.root.append(nav_element);\n",
       "\n",
       "    // Define a callback function for later on.\n",
       "    function toolbar_event(event) {\n",
       "        return fig.toolbar_button_onclick(event['data']);\n",
       "    }\n",
       "    function toolbar_mouse_event(event) {\n",
       "        return fig.toolbar_button_onmouseover(event['data']);\n",
       "    }\n",
       "\n",
       "    for(var toolbar_ind in mpl.toolbar_items) {\n",
       "        var name = mpl.toolbar_items[toolbar_ind][0];\n",
       "        var tooltip = mpl.toolbar_items[toolbar_ind][1];\n",
       "        var image = mpl.toolbar_items[toolbar_ind][2];\n",
       "        var method_name = mpl.toolbar_items[toolbar_ind][3];\n",
       "\n",
       "        if (!name) {\n",
       "            // put a spacer in here.\n",
       "            continue;\n",
       "        }\n",
       "        var button = $('<button/>');\n",
       "        button.addClass('ui-button ui-widget ui-state-default ui-corner-all ' +\n",
       "                        'ui-button-icon-only');\n",
       "        button.attr('role', 'button');\n",
       "        button.attr('aria-disabled', 'false');\n",
       "        button.click(method_name, toolbar_event);\n",
       "        button.mouseover(tooltip, toolbar_mouse_event);\n",
       "\n",
       "        var icon_img = $('<span/>');\n",
       "        icon_img.addClass('ui-button-icon-primary ui-icon');\n",
       "        icon_img.addClass(image);\n",
       "        icon_img.addClass('ui-corner-all');\n",
       "\n",
       "        var tooltip_span = $('<span/>');\n",
       "        tooltip_span.addClass('ui-button-text');\n",
       "        tooltip_span.html(tooltip);\n",
       "\n",
       "        button.append(icon_img);\n",
       "        button.append(tooltip_span);\n",
       "\n",
       "        nav_element.append(button);\n",
       "    }\n",
       "\n",
       "    var fmt_picker_span = $('<span/>');\n",
       "\n",
       "    var fmt_picker = $('<select/>');\n",
       "    fmt_picker.addClass('mpl-toolbar-option ui-widget ui-widget-content');\n",
       "    fmt_picker_span.append(fmt_picker);\n",
       "    nav_element.append(fmt_picker_span);\n",
       "    this.format_dropdown = fmt_picker[0];\n",
       "\n",
       "    for (var ind in mpl.extensions) {\n",
       "        var fmt = mpl.extensions[ind];\n",
       "        var option = $(\n",
       "            '<option/>', {selected: fmt === mpl.default_extension}).html(fmt);\n",
       "        fmt_picker.append(option)\n",
       "    }\n",
       "\n",
       "    // Add hover states to the ui-buttons\n",
       "    $( \".ui-button\" ).hover(\n",
       "        function() { $(this).addClass(\"ui-state-hover\");},\n",
       "        function() { $(this).removeClass(\"ui-state-hover\");}\n",
       "    );\n",
       "\n",
       "    var status_bar = $('<span class=\"mpl-message\"/>');\n",
       "    nav_element.append(status_bar);\n",
       "    this.message = status_bar[0];\n",
       "}\n",
       "\n",
       "mpl.figure.prototype.request_resize = function(x_pixels, y_pixels) {\n",
       "    // Request matplotlib to resize the figure. Matplotlib will then trigger a resize in the client,\n",
       "    // which will in turn request a refresh of the image.\n",
       "    this.send_message('resize', {'width': x_pixels, 'height': y_pixels});\n",
       "}\n",
       "\n",
       "mpl.figure.prototype.send_message = function(type, properties) {\n",
       "    properties['type'] = type;\n",
       "    properties['figure_id'] = this.id;\n",
       "    this.ws.send(JSON.stringify(properties));\n",
       "}\n",
       "\n",
       "mpl.figure.prototype.send_draw_message = function() {\n",
       "    if (!this.waiting) {\n",
       "        this.waiting = true;\n",
       "        this.ws.send(JSON.stringify({type: \"draw\", figure_id: this.id}));\n",
       "    }\n",
       "}\n",
       "\n",
       "\n",
       "mpl.figure.prototype.handle_save = function(fig, msg) {\n",
       "    var format_dropdown = fig.format_dropdown;\n",
       "    var format = format_dropdown.options[format_dropdown.selectedIndex].value;\n",
       "    fig.ondownload(fig, format);\n",
       "}\n",
       "\n",
       "\n",
       "mpl.figure.prototype.handle_resize = function(fig, msg) {\n",
       "    var size = msg['size'];\n",
       "    if (size[0] != fig.canvas.width || size[1] != fig.canvas.height) {\n",
       "        fig._resize_canvas(size[0], size[1]);\n",
       "        fig.send_message(\"refresh\", {});\n",
       "    };\n",
       "}\n",
       "\n",
       "mpl.figure.prototype.handle_rubberband = function(fig, msg) {\n",
       "    var x0 = msg['x0'] / mpl.ratio;\n",
       "    var y0 = (fig.canvas.height - msg['y0']) / mpl.ratio;\n",
       "    var x1 = msg['x1'] / mpl.ratio;\n",
       "    var y1 = (fig.canvas.height - msg['y1']) / mpl.ratio;\n",
       "    x0 = Math.floor(x0) + 0.5;\n",
       "    y0 = Math.floor(y0) + 0.5;\n",
       "    x1 = Math.floor(x1) + 0.5;\n",
       "    y1 = Math.floor(y1) + 0.5;\n",
       "    var min_x = Math.min(x0, x1);\n",
       "    var min_y = Math.min(y0, y1);\n",
       "    var width = Math.abs(x1 - x0);\n",
       "    var height = Math.abs(y1 - y0);\n",
       "\n",
       "    fig.rubberband_context.clearRect(\n",
       "        0, 0, fig.canvas.width, fig.canvas.height);\n",
       "\n",
       "    fig.rubberband_context.strokeRect(min_x, min_y, width, height);\n",
       "}\n",
       "\n",
       "mpl.figure.prototype.handle_figure_label = function(fig, msg) {\n",
       "    // Updates the figure title.\n",
       "    fig.header.textContent = msg['label'];\n",
       "}\n",
       "\n",
       "mpl.figure.prototype.handle_cursor = function(fig, msg) {\n",
       "    var cursor = msg['cursor'];\n",
       "    switch(cursor)\n",
       "    {\n",
       "    case 0:\n",
       "        cursor = 'pointer';\n",
       "        break;\n",
       "    case 1:\n",
       "        cursor = 'default';\n",
       "        break;\n",
       "    case 2:\n",
       "        cursor = 'crosshair';\n",
       "        break;\n",
       "    case 3:\n",
       "        cursor = 'move';\n",
       "        break;\n",
       "    }\n",
       "    fig.rubberband_canvas.style.cursor = cursor;\n",
       "}\n",
       "\n",
       "mpl.figure.prototype.handle_message = function(fig, msg) {\n",
       "    fig.message.textContent = msg['message'];\n",
       "}\n",
       "\n",
       "mpl.figure.prototype.handle_draw = function(fig, msg) {\n",
       "    // Request the server to send over a new figure.\n",
       "    fig.send_draw_message();\n",
       "}\n",
       "\n",
       "mpl.figure.prototype.handle_image_mode = function(fig, msg) {\n",
       "    fig.image_mode = msg['mode'];\n",
       "}\n",
       "\n",
       "mpl.figure.prototype.updated_canvas_event = function() {\n",
       "    // Called whenever the canvas gets updated.\n",
       "    this.send_message(\"ack\", {});\n",
       "}\n",
       "\n",
       "// A function to construct a web socket function for onmessage handling.\n",
       "// Called in the figure constructor.\n",
       "mpl.figure.prototype._make_on_message_function = function(fig) {\n",
       "    return function socket_on_message(evt) {\n",
       "        if (evt.data instanceof Blob) {\n",
       "            /* FIXME: We get \"Resource interpreted as Image but\n",
       "             * transferred with MIME type text/plain:\" errors on\n",
       "             * Chrome.  But how to set the MIME type?  It doesn't seem\n",
       "             * to be part of the websocket stream */\n",
       "            evt.data.type = \"image/png\";\n",
       "\n",
       "            /* Free the memory for the previous frames */\n",
       "            if (fig.imageObj.src) {\n",
       "                (window.URL || window.webkitURL).revokeObjectURL(\n",
       "                    fig.imageObj.src);\n",
       "            }\n",
       "\n",
       "            fig.imageObj.src = (window.URL || window.webkitURL).createObjectURL(\n",
       "                evt.data);\n",
       "            fig.updated_canvas_event();\n",
       "            fig.waiting = false;\n",
       "            return;\n",
       "        }\n",
       "        else if (typeof evt.data === 'string' && evt.data.slice(0, 21) == \"data:image/png;base64\") {\n",
       "            fig.imageObj.src = evt.data;\n",
       "            fig.updated_canvas_event();\n",
       "            fig.waiting = false;\n",
       "            return;\n",
       "        }\n",
       "\n",
       "        var msg = JSON.parse(evt.data);\n",
       "        var msg_type = msg['type'];\n",
       "\n",
       "        // Call the  \"handle_{type}\" callback, which takes\n",
       "        // the figure and JSON message as its only arguments.\n",
       "        try {\n",
       "            var callback = fig[\"handle_\" + msg_type];\n",
       "        } catch (e) {\n",
       "            console.log(\"No handler for the '\" + msg_type + \"' message type: \", msg);\n",
       "            return;\n",
       "        }\n",
       "\n",
       "        if (callback) {\n",
       "            try {\n",
       "                // console.log(\"Handling '\" + msg_type + \"' message: \", msg);\n",
       "                callback(fig, msg);\n",
       "            } catch (e) {\n",
       "                console.log(\"Exception inside the 'handler_\" + msg_type + \"' callback:\", e, e.stack, msg);\n",
       "            }\n",
       "        }\n",
       "    };\n",
       "}\n",
       "\n",
       "// from http://stackoverflow.com/questions/1114465/getting-mouse-location-in-canvas\n",
       "mpl.findpos = function(e) {\n",
       "    //this section is from http://www.quirksmode.org/js/events_properties.html\n",
       "    var targ;\n",
       "    if (!e)\n",
       "        e = window.event;\n",
       "    if (e.target)\n",
       "        targ = e.target;\n",
       "    else if (e.srcElement)\n",
       "        targ = e.srcElement;\n",
       "    if (targ.nodeType == 3) // defeat Safari bug\n",
       "        targ = targ.parentNode;\n",
       "\n",
       "    // jQuery normalizes the pageX and pageY\n",
       "    // pageX,Y are the mouse positions relative to the document\n",
       "    // offset() returns the position of the element relative to the document\n",
       "    var x = e.pageX - $(targ).offset().left;\n",
       "    var y = e.pageY - $(targ).offset().top;\n",
       "\n",
       "    return {\"x\": x, \"y\": y};\n",
       "};\n",
       "\n",
       "/*\n",
       " * return a copy of an object with only non-object keys\n",
       " * we need this to avoid circular references\n",
       " * http://stackoverflow.com/a/24161582/3208463\n",
       " */\n",
       "function simpleKeys (original) {\n",
       "  return Object.keys(original).reduce(function (obj, key) {\n",
       "    if (typeof original[key] !== 'object')\n",
       "        obj[key] = original[key]\n",
       "    return obj;\n",
       "  }, {});\n",
       "}\n",
       "\n",
       "mpl.figure.prototype.mouse_event = function(event, name) {\n",
       "    var canvas_pos = mpl.findpos(event)\n",
       "\n",
       "    if (name === 'button_press')\n",
       "    {\n",
       "        this.canvas.focus();\n",
       "        this.canvas_div.focus();\n",
       "    }\n",
       "\n",
       "    var x = canvas_pos.x * mpl.ratio;\n",
       "    var y = canvas_pos.y * mpl.ratio;\n",
       "\n",
       "    this.send_message(name, {x: x, y: y, button: event.button,\n",
       "                             step: event.step,\n",
       "                             guiEvent: simpleKeys(event)});\n",
       "\n",
       "    /* This prevents the web browser from automatically changing to\n",
       "     * the text insertion cursor when the button is pressed.  We want\n",
       "     * to control all of the cursor setting manually through the\n",
       "     * 'cursor' event from matplotlib */\n",
       "    event.preventDefault();\n",
       "    return false;\n",
       "}\n",
       "\n",
       "mpl.figure.prototype._key_event_extra = function(event, name) {\n",
       "    // Handle any extra behaviour associated with a key event\n",
       "}\n",
       "\n",
       "mpl.figure.prototype.key_event = function(event, name) {\n",
       "\n",
       "    // Prevent repeat events\n",
       "    if (name == 'key_press')\n",
       "    {\n",
       "        if (event.which === this._key)\n",
       "            return;\n",
       "        else\n",
       "            this._key = event.which;\n",
       "    }\n",
       "    if (name == 'key_release')\n",
       "        this._key = null;\n",
       "\n",
       "    var value = '';\n",
       "    if (event.ctrlKey && event.which != 17)\n",
       "        value += \"ctrl+\";\n",
       "    if (event.altKey && event.which != 18)\n",
       "        value += \"alt+\";\n",
       "    if (event.shiftKey && event.which != 16)\n",
       "        value += \"shift+\";\n",
       "\n",
       "    value += 'k';\n",
       "    value += event.which.toString();\n",
       "\n",
       "    this._key_event_extra(event, name);\n",
       "\n",
       "    this.send_message(name, {key: value,\n",
       "                             guiEvent: simpleKeys(event)});\n",
       "    return false;\n",
       "}\n",
       "\n",
       "mpl.figure.prototype.toolbar_button_onclick = function(name) {\n",
       "    if (name == 'download') {\n",
       "        this.handle_save(this, null);\n",
       "    } else {\n",
       "        this.send_message(\"toolbar_button\", {name: name});\n",
       "    }\n",
       "};\n",
       "\n",
       "mpl.figure.prototype.toolbar_button_onmouseover = function(tooltip) {\n",
       "    this.message.textContent = tooltip;\n",
       "};\n",
       "mpl.toolbar_items = [[\"Home\", \"Reset original view\", \"fa fa-home icon-home\", \"home\"], [\"Back\", \"Back to  previous view\", \"fa fa-arrow-left icon-arrow-left\", \"back\"], [\"Forward\", \"Forward to next view\", \"fa fa-arrow-right icon-arrow-right\", \"forward\"], [\"\", \"\", \"\", \"\"], [\"Pan\", \"Pan axes with left mouse, zoom with right\", \"fa fa-arrows icon-move\", \"pan\"], [\"Zoom\", \"Zoom to rectangle\", \"fa fa-square-o icon-check-empty\", \"zoom\"], [\"\", \"\", \"\", \"\"], [\"Download\", \"Download plot\", \"fa fa-floppy-o icon-save\", \"download\"]];\n",
       "\n",
       "mpl.extensions = [\"eps\", \"jpeg\", \"pdf\", \"png\", \"ps\", \"raw\", \"svg\", \"tif\"];\n",
       "\n",
       "mpl.default_extension = \"png\";var comm_websocket_adapter = function(comm) {\n",
       "    // Create a \"websocket\"-like object which calls the given IPython comm\n",
       "    // object with the appropriate methods. Currently this is a non binary\n",
       "    // socket, so there is still some room for performance tuning.\n",
       "    var ws = {};\n",
       "\n",
       "    ws.close = function() {\n",
       "        comm.close()\n",
       "    };\n",
       "    ws.send = function(m) {\n",
       "        //console.log('sending', m);\n",
       "        comm.send(m);\n",
       "    };\n",
       "    // Register the callback with on_msg.\n",
       "    comm.on_msg(function(msg) {\n",
       "        //console.log('receiving', msg['content']['data'], msg);\n",
       "        // Pass the mpl event to the overridden (by mpl) onmessage function.\n",
       "        ws.onmessage(msg['content']['data'])\n",
       "    });\n",
       "    return ws;\n",
       "}\n",
       "\n",
       "mpl.mpl_figure_comm = function(comm, msg) {\n",
       "    // This is the function which gets called when the mpl process\n",
       "    // starts-up an IPython Comm through the \"matplotlib\" channel.\n",
       "\n",
       "    var id = msg.content.data.id;\n",
       "    // Get hold of the div created by the display call when the Comm\n",
       "    // socket was opened in Python.\n",
       "    var element = $(\"#\" + id);\n",
       "    var ws_proxy = comm_websocket_adapter(comm)\n",
       "\n",
       "    function ondownload(figure, format) {\n",
       "        window.open(figure.imageObj.src);\n",
       "    }\n",
       "\n",
       "    var fig = new mpl.figure(id, ws_proxy,\n",
       "                           ondownload,\n",
       "                           element.get(0));\n",
       "\n",
       "    // Call onopen now - mpl needs it, as it is assuming we've passed it a real\n",
       "    // web socket which is closed, not our websocket->open comm proxy.\n",
       "    ws_proxy.onopen();\n",
       "\n",
       "    fig.parent_element = element.get(0);\n",
       "    fig.cell_info = mpl.find_output_cell(\"<div id='\" + id + \"'></div>\");\n",
       "    if (!fig.cell_info) {\n",
       "        console.error(\"Failed to find cell for figure\", id, fig);\n",
       "        return;\n",
       "    }\n",
       "\n",
       "    var output_index = fig.cell_info[2]\n",
       "    var cell = fig.cell_info[0];\n",
       "\n",
       "};\n",
       "\n",
       "mpl.figure.prototype.handle_close = function(fig, msg) {\n",
       "    var width = fig.canvas.width/mpl.ratio\n",
       "    fig.root.unbind('remove')\n",
       "\n",
       "    // Update the output cell to use the data from the current canvas.\n",
       "    fig.push_to_output();\n",
       "    var dataURL = fig.canvas.toDataURL();\n",
       "    // Re-enable the keyboard manager in IPython - without this line, in FF,\n",
       "    // the notebook keyboard shortcuts fail.\n",
       "    IPython.keyboard_manager.enable()\n",
       "    $(fig.parent_element).html('<img src=\"' + dataURL + '\" width=\"' + width + '\">');\n",
       "    fig.close_ws(fig, msg);\n",
       "}\n",
       "\n",
       "mpl.figure.prototype.close_ws = function(fig, msg){\n",
       "    fig.send_message('closing', msg);\n",
       "    // fig.ws.close()\n",
       "}\n",
       "\n",
       "mpl.figure.prototype.push_to_output = function(remove_interactive) {\n",
       "    // Turn the data on the canvas into data in the output cell.\n",
       "    var width = this.canvas.width/mpl.ratio\n",
       "    var dataURL = this.canvas.toDataURL();\n",
       "    this.cell_info[1]['text/html'] = '<img src=\"' + dataURL + '\" width=\"' + width + '\">';\n",
       "}\n",
       "\n",
       "mpl.figure.prototype.updated_canvas_event = function() {\n",
       "    // Tell IPython that the notebook contents must change.\n",
       "    IPython.notebook.set_dirty(true);\n",
       "    this.send_message(\"ack\", {});\n",
       "    var fig = this;\n",
       "    // Wait a second, then push the new image to the DOM so\n",
       "    // that it is saved nicely (might be nice to debounce this).\n",
       "    setTimeout(function () { fig.push_to_output() }, 1000);\n",
       "}\n",
       "\n",
       "mpl.figure.prototype._init_toolbar = function() {\n",
       "    var fig = this;\n",
       "\n",
       "    var nav_element = $('<div/>')\n",
       "    nav_element.attr('style', 'width: 100%');\n",
       "    this.root.append(nav_element);\n",
       "\n",
       "    // Define a callback function for later on.\n",
       "    function toolbar_event(event) {\n",
       "        return fig.toolbar_button_onclick(event['data']);\n",
       "    }\n",
       "    function toolbar_mouse_event(event) {\n",
       "        return fig.toolbar_button_onmouseover(event['data']);\n",
       "    }\n",
       "\n",
       "    for(var toolbar_ind in mpl.toolbar_items){\n",
       "        var name = mpl.toolbar_items[toolbar_ind][0];\n",
       "        var tooltip = mpl.toolbar_items[toolbar_ind][1];\n",
       "        var image = mpl.toolbar_items[toolbar_ind][2];\n",
       "        var method_name = mpl.toolbar_items[toolbar_ind][3];\n",
       "\n",
       "        if (!name) { continue; };\n",
       "\n",
       "        var button = $('<button class=\"btn btn-default\" href=\"#\" title=\"' + name + '\"><i class=\"fa ' + image + ' fa-lg\"></i></button>');\n",
       "        button.click(method_name, toolbar_event);\n",
       "        button.mouseover(tooltip, toolbar_mouse_event);\n",
       "        nav_element.append(button);\n",
       "    }\n",
       "\n",
       "    // Add the status bar.\n",
       "    var status_bar = $('<span class=\"mpl-message\" style=\"text-align:right; float: right;\"/>');\n",
       "    nav_element.append(status_bar);\n",
       "    this.message = status_bar[0];\n",
       "\n",
       "    // Add the close button to the window.\n",
       "    var buttongrp = $('<div class=\"btn-group inline pull-right\"></div>');\n",
       "    var button = $('<button class=\"btn btn-mini btn-primary\" href=\"#\" title=\"Stop Interaction\"><i class=\"fa fa-power-off icon-remove icon-large\"></i></button>');\n",
       "    button.click(function (evt) { fig.handle_close(fig, {}); } );\n",
       "    button.mouseover('Stop Interaction', toolbar_mouse_event);\n",
       "    buttongrp.append(button);\n",
       "    var titlebar = this.root.find($('.ui-dialog-titlebar'));\n",
       "    titlebar.prepend(buttongrp);\n",
       "}\n",
       "\n",
       "mpl.figure.prototype._root_extra_style = function(el){\n",
       "    var fig = this\n",
       "    el.on(\"remove\", function(){\n",
       "\tfig.close_ws(fig, {});\n",
       "    });\n",
       "}\n",
       "\n",
       "mpl.figure.prototype._canvas_extra_style = function(el){\n",
       "    // this is important to make the div 'focusable\n",
       "    el.attr('tabindex', 0)\n",
       "    // reach out to IPython and tell the keyboard manager to turn it's self\n",
       "    // off when our div gets focus\n",
       "\n",
       "    // location in version 3\n",
       "    if (IPython.notebook.keyboard_manager) {\n",
       "        IPython.notebook.keyboard_manager.register_events(el);\n",
       "    }\n",
       "    else {\n",
       "        // location in version 2\n",
       "        IPython.keyboard_manager.register_events(el);\n",
       "    }\n",
       "\n",
       "}\n",
       "\n",
       "mpl.figure.prototype._key_event_extra = function(event, name) {\n",
       "    var manager = IPython.notebook.keyboard_manager;\n",
       "    if (!manager)\n",
       "        manager = IPython.keyboard_manager;\n",
       "\n",
       "    // Check for shift+enter\n",
       "    if (event.shiftKey && event.which == 13) {\n",
       "        this.canvas_div.blur();\n",
       "        event.shiftKey = false;\n",
       "        // Send a \"J\" for go to next cell\n",
       "        event.which = 74;\n",
       "        event.keyCode = 74;\n",
       "        manager.command_mode();\n",
       "        manager.handle_keydown(event);\n",
       "    }\n",
       "}\n",
       "\n",
       "mpl.figure.prototype.handle_save = function(fig, msg) {\n",
       "    fig.ondownload(fig, null);\n",
       "}\n",
       "\n",
       "\n",
       "mpl.find_output_cell = function(html_output) {\n",
       "    // Return the cell and output element which can be found *uniquely* in the notebook.\n",
       "    // Note - this is a bit hacky, but it is done because the \"notebook_saving.Notebook\"\n",
       "    // IPython event is triggered only after the cells have been serialised, which for\n",
       "    // our purposes (turning an active figure into a static one), is too late.\n",
       "    var cells = IPython.notebook.get_cells();\n",
       "    var ncells = cells.length;\n",
       "    for (var i=0; i<ncells; i++) {\n",
       "        var cell = cells[i];\n",
       "        if (cell.cell_type === 'code'){\n",
       "            for (var j=0; j<cell.output_area.outputs.length; j++) {\n",
       "                var data = cell.output_area.outputs[j];\n",
       "                if (data.data) {\n",
       "                    // IPython >= 3 moved mimebundle to data attribute of output\n",
       "                    data = data.data;\n",
       "                }\n",
       "                if (data['text/html'] == html_output) {\n",
       "                    return [cell, data, j];\n",
       "                }\n",
       "            }\n",
       "        }\n",
       "    }\n",
       "}\n",
       "\n",
       "// Register the function which deals with the matplotlib target/channel.\n",
       "// The kernel may be null if the page has been refreshed.\n",
       "if (IPython.notebook.kernel != null) {\n",
       "    IPython.notebook.kernel.comm_manager.register_target('matplotlib', mpl.mpl_figure_comm);\n",
       "}\n"
      ],
      "text/plain": [
       "<IPython.core.display.Javascript object>"
      ]
     },
     "metadata": {},
     "output_type": "display_data"
    },
    {
     "data": {
      "text/html": [
       "<img src=\"data:image/png;base64,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\" width=\"638.888905813665\">"
      ],
      "text/plain": [
       "<IPython.core.display.HTML object>"
      ]
     },
     "metadata": {},
     "output_type": "display_data"
    }
   ],
   "source": [
    "#### optional code snippet, Run this part if you wish to visualise the data as a video. The below sequence makes use\n",
    "#### of conventional images frames and is not used anywhere else later in the notebook\n",
    "fig = plt.figure()\n",
    "ax = fig.add_subplot(111)\n",
    "plt.ion()\n",
    "\n",
    "fig.canvas.draw()\n",
    "ax.axis()\n",
    "for image in normal_imgs:\n",
    "    ax.clear()\n",
    "    ax.imshow(plt.imread(image), cmap='gray')\n",
    "    fig.canvas.draw()"
   ]
  },
  {
   "cell_type": "markdown",
   "metadata": {
    "nbpresent": {
     "id": "84c5d1f8-35e4-414a-b682-f103c5c60fa8"
    },
    "slideshow": {
     "slide_type": "slide"
    }
   },
   "source": [
    "<a id=\"data\"></a>\n",
    "## 2. Data Available and Data format\n"
   ]
  },
  {
   "cell_type": "markdown",
   "metadata": {
    "nbpresent": {
     "id": "80545f0e-3a2b-44c4-ad62-f7f729eb4fc5"
    },
    "slideshow": {
     "slide_type": "fragment"
    }
   },
   "source": [
    "Data namely, event data, imu data, calibration parameters, and ground truth data are stored in txt files. There is also an 'images.txt' file which gives the timestamps at which synchronous event stream was captured. The format of the data is as shown below. "
   ]
  },
  {
   "cell_type": "markdown",
   "metadata": {
    "nbpresent": {
     "id": "0f1ca28d-743a-496a-ab40-f89f123a332e"
    },
    "slideshow": {
     "slide_type": "fragment"
    }
   },
   "source": [
    "![description of dataset format](Images/data_format_emvs.png)"
   ]
  },
  {
   "cell_type": "markdown",
   "metadata": {
    "nbpresent": {
     "id": "272f2c1e-d16e-45ab-a5f9-d2038b5b994a"
    },
    "slideshow": {
     "slide_type": "slide"
    }
   },
   "source": [
    "<a id=\"cam_mat\"></a>\n",
    "### 2.1 Camera Matrix"
   ]
  },
  {
   "cell_type": "markdown",
   "metadata": {
    "nbpresent": {
     "id": "e2af89e3-50e3-4286-8d40-6fa6b426c131"
    },
    "slideshow": {
     "slide_type": "fragment"
    }
   },
   "source": [
    "Every camera has a calibration matrix which is dependant on the intrinsic and extrinsic parameters. We obtain these parameters from the <i>calib.txt</i> file."
   ]
  },
  {
   "cell_type": "code",
   "execution_count": 8,
   "metadata": {
    "nbpresent": {
     "id": "42683b3e-0bdf-4ae8-8f12-9239966a3a90"
    },
    "slideshow": {
     "slide_type": "subslide"
    }
   },
   "outputs": [],
   "source": [
    "def return_camera_matrix(filename='calib.txt'):\n",
    "    '''\n",
    "    Returns the camera matrix for the given dataset based on calibration parameters.\n",
    "    \n",
    "    Parameters:\n",
    "    -----------\n",
    "    filename : <string>\n",
    "        name of the text file where the camera parameters are stored\n",
    "    \n",
    "    Return:\n",
    "    -------\n",
    "    camera_mat: <np.array>\n",
    "        The camera matrix for the parameters mentioned in the calibration file\n",
    "    '''\n",
    "    \n",
    "    file = open(data_path +'/' + filename, \"r\")\n",
    "    cam_par = list(map(float,file.readline().split()))\n",
    "    file.close()\n",
    "    fx, fy, cx, cy, k1, k2, p1, p2, k3 = [par for par in cam_par]\n",
    "    camera_mat = np.array([[fx,  0, cx],\n",
    "                           [ 0, fy, cy],\n",
    "                           [ 0,  0,  1]])\n",
    "    return camera_mat, [cx, cy, k1, k2, p1, p2, k3]"
   ]
  },
  {
   "cell_type": "code",
   "execution_count": 9,
   "metadata": {
    "nbpresent": {
     "id": "48cd64ef-830b-4c7c-bdc9-1f56613b9711"
    },
    "slideshow": {
     "slide_type": "subslide"
    }
   },
   "outputs": [],
   "source": [
    "def make_distortion_dict(distortion_params, cam_shape):\n",
    "    '''\n",
    "    Utility under consideration\n",
    "    '''\n",
    "    cx, cy, k1, k2, p1, p2, k3 = distortion_params\n",
    "    \n",
    "    distortion_dict = dict()\n",
    "    \n",
    "    for u in range(cam_shape[0]):\n",
    "        for v in range(cam_shape[1]):\n",
    "            radial_multiplicand  = np.array([u-cx, v-cy]).reshape(2, 1) \n",
    "            r_2 = (u - cx)**2 + (v - cy)**2   \n",
    "            radial_dist_const = 1 + k1*r_2 + k2*(r_2**2) + k3*(r_2**3)\n",
    "            \n",
    "            tangential_dist_term = np.array([2*p1*(u - cx)*(v - cy) + p2*(r_2 + 2*(u - cx)**2), \n",
    "                                            p1*(r_2 + 2*(v - cy)**2) + 2*p2*(u - cx)*(v - cy)]).reshape(2,1)\n",
    "            \n",
    "            const_term = np.array([cx, cy]).reshape(2, 1)\n",
    "            distorted_params = radial_dist_const*radial_multiplicand + tangential_dist_term + const_term\n",
    "            print(r_2, radial_dist_const, tangential_dist_term)\n",
    "            print(distorted_params[0][0], distorted_params[1][0])\n",
    "            distortion_dict[distorted_params[0], distorted_params[1][0]] = np.array([u,v])\n",
    "\n",
    "    return distortion_dict"
   ]
  },
  {
   "cell_type": "code",
   "execution_count": 10,
   "metadata": {
    "nbpresent": {
     "id": "adc9de1d-ac88-4b52-9aaf-002b48eb41ee"
    },
    "slideshow": {
     "slide_type": "subslide"
    }
   },
   "outputs": [],
   "source": [
    "cam_mat, dist_params = return_camera_matrix()"
   ]
  },
  {
   "cell_type": "code",
   "execution_count": 11,
   "metadata": {},
   "outputs": [
    {
     "name": "stdout",
     "output_type": "stream",
     "text": [
      "[129.924663379, 99.1864303447, -0.138592767408, 0.0933736664192, -0.000335586987532, 0.000173720158228, 0.0]\n"
     ]
    }
   ],
   "source": [
    "print(dist_params)"
   ]
  },
  {
   "cell_type": "code",
   "execution_count": 12,
   "metadata": {},
   "outputs": [
    {
     "data": {
      "text/plain": [
       "242834.10004803052"
      ]
     },
     "execution_count": 12,
     "metadata": {},
     "output_type": "execute_result"
    }
   ],
   "source": [
    "0.000335586987532*(130**2 + 100**2)**2 "
   ]
  },
  {
   "cell_type": "code",
   "execution_count": 101,
   "metadata": {},
   "outputs": [
    {
     "data": {
      "text/plain": [
       "43200"
      ]
     },
     "execution_count": 101,
     "metadata": {},
     "output_type": "execute_result"
    }
   ],
   "source": [
    "len(distortion_dict)"
   ]
  },
  {
   "cell_type": "markdown",
   "metadata": {
    "nbpresent": {
     "id": "903569ec-e524-418b-af5e-f402d6b3ef3b"
    },
    "slideshow": {
     "slide_type": "slide"
    }
   },
   "source": [
    "<a id=\"event_data\"></a>\n",
    "### 2.2 Obtaining pose information relevant to events under consideration from the groundtruth files\n"
   ]
  },
  {
   "cell_type": "markdown",
   "metadata": {
    "nbpresent": {
     "id": "799fc47c-8ba4-4b01-bf27-97b1e9d8a4a9"
    },
    "slideshow": {
     "slide_type": "fragment"
    }
   },
   "source": [
    "The objective is to get an event and its corresponding pose for that particular time stamp. Since the number of events are huge and the homographies are expensive to compute, a batch of events (256 here) is assigned the same pose information.  The code snippets below serve this particular fucntion."
   ]
  },
  {
   "cell_type": "code",
   "execution_count": 14,
   "metadata": {
    "nbpresent": {
     "id": "08d4f60b-466c-45ad-b7ad-e2c6ab14d170"
    },
    "slideshow": {
     "slide_type": "subslide"
    }
   },
   "outputs": [],
   "source": [
    "from itertools import islice\n",
    "\n",
    "def bundle_events(batch_number, filename='events.txt', batch_size = 256):\n",
    "    ''' \n",
    "    Return a batch of events from the file containing event information. Sometimes the event file can run into several \n",
    "    Gigabytes of storage. This is why a file is opened and closed everytime a batch of events needs to be read.\n",
    "    \n",
    "    Parameters:\n",
    "    -----------\n",
    "    batch_number : <int>\n",
    "        The nth batch which needs to be read\n",
    "    filename : <string>\n",
    "    \n",
    "    Return:\n",
    "    -------\n",
    "    events : <list>\n",
    "        events of the form [start_time, ex, ey, polarity]\n",
    "    event_start_time: <float>\n",
    "        The starting time of the current batch of events\n",
    "    '''\n",
    "    events=[]\n",
    "    file = open(data_path +'/' + filename, \"r\")\n",
    "    head = list(islice(file, batch_number * batch_size, (batch_number + 1)*batch_size))\n",
    "    #return timestamp of first event in the batch\n",
    "    event_start_time = list(map(float,head[0].split()))[0] \n",
    "    events = [list(map(float,line.split())) for line in head]\n",
    "    file.close()\n",
    "    return events, event_start_time"
   ]
  },
  {
   "cell_type": "code",
   "execution_count": 15,
   "metadata": {
    "nbpresent": {
     "id": "3a969ca7-8b2c-48cf-8410-4e5eaedde960"
    },
    "slideshow": {
     "slide_type": "skip"
    }
   },
   "outputs": [
    {
     "name": "stdout",
     "output_type": "stream",
     "text": [
      "0.048514001\n"
     ]
    }
   ],
   "source": [
    "events, event_start_time = bundle_events(batch_number=40)\n",
    "print(event_start_time)"
   ]
  },
  {
   "cell_type": "code",
   "execution_count": 16,
   "metadata": {},
   "outputs": [],
   "source": [
    "%lprun -f  bundle_events bundle_events(batch_number=40)"
   ]
  },
  {
   "cell_type": "code",
   "execution_count": 15,
   "metadata": {},
   "outputs": [
    {
     "name": "stdout",
     "output_type": "stream",
     "text": [
      "2.54 ms ± 30.3 µs per loop (mean ± std. dev. of 7 runs, 100 loops each)\n"
     ]
    }
   ],
   "source": [
    "%timeit bundle_events(batch_number=40)"
   ]
  },
  {
   "cell_type": "markdown",
   "metadata": {
    "nbpresent": {
     "id": "83e690d8-1f07-44c0-802e-810a700fab05"
    },
    "slideshow": {
     "slide_type": "subslide"
    }
   },
   "source": [
    "The pose is sampled at frequencies lower than the event data. In order to capture pose information for an event at some timestamp, it is thus necessary to linearly interpolate the pose data for that timestamp. As the trajectory is continuous and the sampling time is very small, we can assume the path between two timesteps to be fairly linear."
   ]
  },
  {
   "cell_type": "code",
   "execution_count": 17,
   "metadata": {
    "nbpresent": {
     "id": "f521d426-e19d-4e56-b326-bd2681652ec1"
    },
    "slideshow": {
     "slide_type": "subslide"
    }
   },
   "outputs": [],
   "source": [
    "def get_ground_truth_pose(event_start_time, filename='groundtruth.txt'):\n",
    "    \n",
    "    ''' \n",
    "    This function returns the the groundtruth pose for an event depending on the timestamp \n",
    "    of the input given as input to the function. If pose of the event is linearly interpolated \n",
    "    if the timestamp of the event given falls in between the timestamps of the poses of the two \n",
    "    events\n",
    "    \n",
    "    Parameters:\n",
    "    -----------\n",
    "    event_start_time : <float>\n",
    "        timestamp of event for which pose information is to be estimated\n",
    "    filename : <string>\n",
    "        name of the file containing the groundtruth\n",
    "        \n",
    "    Return:\n",
    "    -------\n",
    "    pose : <list> of format [timestamp, px, py, pz, qx, qy, qz, qw]\n",
    "        Returns a list describing the pose at the timestamp given by the event\n",
    "    \n",
    "    '''\n",
    "    file = open(data_path +'/' + filename, \"r\")\n",
    "    prev_pose = [0, 0, 0, 0, 0, 0, 0, 1]\n",
    "    prev_time = prev_pose[0]  #start with initial time 0s \n",
    "    \n",
    "    for line in file:\n",
    "        current_pose = list(map(float,line.split()))\n",
    "        current_time = current_pose[0]\n",
    "        \n",
    "        if event_start_time == current_time:\n",
    "            file.close()\n",
    "            return np.array(current_pose) #pose information for that time-step\n",
    "        \n",
    "        elif event_start_time > prev_time and event_start_time < current_time:\n",
    "            file.close()\n",
    "            return linearly_interpolated_pose(current_pose, prev_pose, event_start_time) \n",
    "            \n",
    "        elif event_start_time > current_time:\n",
    "            prev_pose = current_pose\n",
    "            prev_time = prev_pose[0]"
   ]
  },
  {
   "cell_type": "code",
   "execution_count": 18,
   "metadata": {
    "nbpresent": {
     "id": "1e648d98-2cb8-4938-827e-1da24c84e581"
    },
    "slideshow": {
     "slide_type": "subslide"
    }
   },
   "outputs": [],
   "source": [
    "def linearly_interpolated_pose(pose_t, pose_t_minus_1, time_bet):\n",
    "    \n",
    "    ''' \n",
    "    Function to linearly interpolate the quaternion and translation values for the timesteps provided\n",
    "    \n",
    "    Parameters:\n",
    "    -----------\n",
    "    pose_t : <list>\n",
    "        list containing pose information of the time step greater than required time \n",
    "    pose_t_minus_1 : <list>\n",
    "        list containing pose information of the time step lesser than required time\n",
    "    time_bet: <float>\n",
    "        Time for which pose information is required\n",
    "    \n",
    "    Return:\n",
    "    -------\n",
    "    estimated_pose : <list>\n",
    "        Returns a list containing the linearly interpolated pose estimate\n",
    "    '''\n",
    "    \n",
    "    # We will doing slerp on quaternions and linear intepolation on the translation vectors\n",
    "    estimated_pose = []\n",
    "    interpolater = time_bet/(pose_t[0] - pose_t_minus_1[0])\n",
    "    \n",
    "    interpolated_translation = interpolater *(np.array(pose_t[1:4]) - np.array(pose_t_minus_1[1:4]))\n",
    "    \n",
    "    \n",
    "    pose_t_minus_1_qt = qt.Quaternion(pose_t_minus_1[7], pose_t_minus_1[4], pose_t_minus_1[5], pose_t_minus_1[6])\n",
    "    \n",
    "    pose_t_qt = qt.Quaternion(pose_t[7], pose_t[4], pose_t[5], pose_t[6]) \n",
    "    # the order of pose in the dataset and that used in the pyquaternion library is different, hence the restructuring\n",
    "    \n",
    "    interpolated_rotation = qt.Quaternion.slerp(pose_t_minus_1_qt, pose_t_qt, interpolater)\n",
    "    eqw ,eqx, eqy, eqz = interpolated_rotation.elements\n",
    "    px, py, pz = interpolated_translation\n",
    "    \n",
    "    return [time_bet, px, py, pz, eqx, eqy, eqz, eqw]"
   ]
  },
  {
   "cell_type": "markdown",
   "metadata": {
    "nbpresent": {
     "id": "adf4fae8-461f-4d0d-ac73-5e5a4bd8b02d"
    },
    "slideshow": {
     "slide_type": "fragment"
    }
   },
   "source": [
    "The below code is run to see how the pose information is calculated for different event times where the events are sampled in batches.vIn this case, the sampling of 10 batches of information is demonstrated."
   ]
  },
  {
   "cell_type": "code",
   "execution_count": 19,
   "metadata": {
    "nbpresent": {
     "id": "ee941717-2077-4031-9437-9172d08f33fa"
    },
    "slideshow": {
     "slide_type": "subslide"
    }
   },
   "outputs": [],
   "source": [
    "def get_info():\n",
    "    for batch in range(10):\n",
    "        events, event_start_time = bundle_events(batch)\n",
    "        info = get_ground_truth_pose(event_start_time)\n",
    "        #print('For batch number {}, the event starts at {} second with translation vector, t={} and rotational quaternion={}'\n",
    "              #.format(batch, info[0], info[1:4], info[4:]))\n",
    "    "
   ]
  },
  {
   "cell_type": "code",
   "execution_count": 20,
   "metadata": {},
   "outputs": [],
   "source": [
    "get_info()"
   ]
  },
  {
   "cell_type": "code",
   "execution_count": 21,
   "metadata": {},
   "outputs": [],
   "source": [
    "%lprun -f get_info get_info()"
   ]
  },
  {
   "cell_type": "code",
   "execution_count": 22,
   "metadata": {},
   "outputs": [
    {
     "name": "stdout",
     "output_type": "stream",
     "text": [
      "11.8 ms ± 135 µs per loop (mean ± std. dev. of 7 runs, 100 loops each)\n"
     ]
    }
   ],
   "source": [
    "%timeit get_info()"
   ]
  },
  {
   "cell_type": "markdown",
   "metadata": {},
   "source": [
    "This snippet gets translation and rotation in matrix form from the originally given quaternion form."
   ]
  },
  {
   "cell_type": "code",
   "execution_count": 23,
   "metadata": {},
   "outputs": [],
   "source": [
    "def get_translation_rotation(pose):\n",
    "    \n",
    "    '''\n",
    "    Get the translation vector and rotation matrix from the pose which contains a quaternion\n",
    "    \n",
    "    Parameters:\n",
    "    -----------\n",
    "    pose : <list>\n",
    "        A list contating the translation vectors and quaternion for rotation\n",
    "    \n",
    "    Return:\n",
    "    -------\n",
    "    t : <np.array, 1x3>\n",
    "        An array of translation co-ordinates\n",
    "    R : <np.array, 3x3>\n",
    "        A matrix containing the rotational information\n",
    "    '''\n",
    "    \n",
    "    pose_qt = qt.Quaternion(pose[7], pose[4], pose[5], pose[6])\n",
    "    R = pose_qt.rotation_matrix\n",
    "    t = np.array(pose[1:4]).reshape((3,1))\n",
    "    return t,R"
   ]
  },
  {
   "cell_type": "code",
   "execution_count": 24,
   "metadata": {},
   "outputs": [
    {
     "name": "stdout",
     "output_type": "stream",
     "text": [
      "Translation:\n",
      "[[0.01909425]\n",
      " [0.        ]\n",
      " [0.        ]] \n",
      " Rotation:\n",
      "[[1. 0. 0.]\n",
      " [0. 1. 0.]\n",
      " [0. 0. 1.]]\n"
     ]
    }
   ],
   "source": [
    "t, R = get_translation_rotation([0.003811, 0.019094251027136612, 0.0, 0.0, 0.0, 0.0, 0.0, 1.0])\n",
    "print(\"Translation:\\n{} \\n Rotation:\\n{}\".format(t, R))"
   ]
  },
  {
   "cell_type": "code",
   "execution_count": 38,
   "metadata": {},
   "outputs": [
    {
     "name": "stdout",
     "output_type": "stream",
     "text": [
      "10000 loops, best of 3: 50.5 µs per loop\n"
     ]
    }
   ],
   "source": [
    "%timeit get_translation_rotation([0.003811, 0.019094251027136612, 0.0, 0.0, 0.0, 0.0, 0.0, 1.0])"
   ]
  },
  {
   "cell_type": "code",
   "execution_count": 25,
   "metadata": {},
   "outputs": [],
   "source": [
    "t = np.array([0.019094251027136612, 0, 0]).reshape(3, 1)\n",
    "R = np.eye(3,3)"
   ]
  },
  {
   "cell_type": "markdown",
   "metadata": {
    "nbpresent": {
     "id": "e24b9c19-ee8a-4881-bdd0-9930eb9f5198"
    },
    "slideshow": {
     "slide_type": "slide"
    }
   },
   "source": [
    "<a id=\"stages\"></a>\n",
    "## 3. Stages of Reconstruction\n"
   ]
  },
  {
   "cell_type": "markdown",
   "metadata": {
    "collapsed": true,
    "nbpresent": {
     "id": "b5eb85aa-7c31-4042-ac2a-fecd401560d9"
    },
    "slideshow": {
     "slide_type": "fragment"
    }
   },
   "source": [
    "The algorithm for Event based Multi View Stereo proposed here uses five stages to do the reconstruction. It makes use of the Collins space sweep approach with a few changes. Projective sampling is used instead of uniform sampling. Also the thresholding is Adaptive Gaussian as opposed to Global thresholding used in Collins' algorithm."
   ]
  },
  {
   "cell_type": "markdown",
   "metadata": {
    "nbpresent": {
     "id": "c9fc3361-c0fc-41ca-84d0-41c31b489819"
    },
    "slideshow": {
     "slide_type": "slide"
    }
   },
   "source": [
    "<a id=\"stage_1\"></a>\n",
    "### 3.1 Backprojection\n"
   ]
  },
  {
   "cell_type": "markdown",
   "metadata": {
    "nbpresent": {
     "id": "091fc50b-a223-42a8-9848-5a171171f188"
    },
    "slideshow": {
     "slide_type": "fragment"
    }
   },
   "source": [
    "The 2-D points in the event stream are backprojected into a 3-D space. Since the event camera detects only edges, we can assume the rays corresponding to the same feature would intersect/ go very close to each in some unit volume."
   ]
  },
  {
   "cell_type": "markdown",
   "metadata": {
    "nbpresent": {
     "id": "882cd67b-6bb6-4847-87f5-29aad451ee5d"
    },
    "slideshow": {
     "slide_type": "fragment"
    }
   },
   "source": [
    "<img src=\"Images/backprojection.png\" alt=\"backprojection\" style=\"width: 400px;\"/>\n"
   ]
  },
  {
   "cell_type": "markdown",
   "metadata": {},
   "source": [
    "This snippet maps events from a view to the Z_0 plane"
   ]
  },
  {
   "cell_type": "code",
   "execution_count": 26,
   "metadata": {
    "slideshow": {
     "slide_type": "subslide"
    }
   },
   "outputs": [],
   "source": [
    "def map_to_reference_view(events, t, R):\n",
    "    '''\n",
    "    Function to find out the initial homography matrix to map event co-ordinates to the Z_0 plane of \n",
    "    the reference view\n",
    "    \n",
    "    Parameters:\n",
    "    -----------\n",
    "    events : <np.array, batch_sizex4>\n",
    "        A  containing event information namely [timestamp, ex, ey, polarity] of one batch of size batch_size\n",
    "    t : <np.array, 3x1>\n",
    "        The translation part of the pose\n",
    "    R : <np.array, 3x3>\n",
    "        The Rotational part of the pose\n",
    "        \n",
    "    Return:\n",
    "    -------\n",
    "    mapped_coordinates : <np.array, batch_sizex2>\n",
    "        all the x and y co-ordinates mapped to the reference Z_0\n",
    "    \n",
    "    '''\n",
    "    \n",
    "    co_ords = np.vstack((events[:, 1], events[:, 2], np.ones((events.shape[0], )))) \n",
    "    \n",
    "    e = np.reshape(np.array([0, 0, 1]), (1, 3)) \n",
    "    H_Z0  = np.linalg.inv(R + (t @ e)/Z_0)\n",
    "    mapped_coordinates = (H_Z0 @ co_ords).T      \n",
    "    #print (mapped_coordinates)\n",
    "    #if np.max(mapped_coordinates[:,0]) > 239 or np.max(mapped_coordinates[:,1]) > 179 :\n",
    "       # print(\" out of bounds {} and {}\".format(np.max(mapped_coordinates[:,0], np.max(mapped_coordinates[:,1])))\n",
    "    return mapped_coordinates[:,0:2] #is this correct or should it be normalised by the third column?"
   ]
  },
  {
   "cell_type": "code",
   "execution_count": 28,
   "metadata": {},
   "outputs": [],
   "source": [
    "n = np.array(events)"
   ]
  },
  {
   "cell_type": "code",
   "execution_count": 29,
   "metadata": {},
   "outputs": [],
   "source": [
    "ref_plane_mapped_events = map_to_reference_view(n, t, R)\n"
   ]
  },
  {
   "cell_type": "code",
   "execution_count": 43,
   "metadata": {},
   "outputs": [
    {
     "name": "stdout",
     "output_type": "stream",
     "text": [
      "The slowest run took 5.62 times longer than the fastest. This could mean that an intermediate result is being cached.\n",
      "10000 loops, best of 3: 105 µs per loop\n"
     ]
    }
   ],
   "source": [
    "%timeit map_to_reference_view(n, t, R)"
   ]
  },
  {
   "cell_type": "code",
   "execution_count": 30,
   "metadata": {},
   "outputs": [],
   "source": [
    "def homography(ref_plane_mapped_events, Z_i, t, R):\n",
    "    '''\n",
    "    Compute the homography for the input positions and  pose. The homography has been calculated as per\n",
    "    the methods outlined in the paper in section 7.1. Z_0 is defined as a global variable later in the code\n",
    "    \n",
    "    Parameters:\n",
    "    -----------\n",
    "    ref_plane_mapped_events : <np.array, batch_sizex2>\n",
    "        Event coordinates mapped to the reference plane\n",
    "        \n",
    "    Z_i : <int> \n",
    "        Current depth plane\n",
    "    t : <np.array, 1x3>\n",
    "        An array of translation co-ordinates\n",
    "    R : <np.array, 3x3>\n",
    "        A matrix containing the rotational information\n",
    "    Return:\n",
    "    -------\n",
    "    depth_plane_mapped_events : <np.array, batch_sizex2>\n",
    "        Event coordinates mapped to the current depth plane\n",
    "    '''\n",
    "    \n",
    "    Cx, Cy, Cz = -(R.T @ t).T[0]  # camera centers , fix this monstrosity\n",
    "    \n",
    "    delta = (Z_i - Z_0)/(Z_0 - Cz)\n",
    "    \n",
    "    m1 = np.vstack((ref_plane_mapped_events[:, 0], np.ones((ref_plane_mapped_events.shape[0]), dtype='float64')*Cx)).T\n",
    "    m2 = np.vstack((ref_plane_mapped_events[:, 1], np.ones((ref_plane_mapped_events.shape[0]), dtype='float64')*Cy)).T\n",
    "    \n",
    "    m_final = np.vstack((m1,m2))\n",
    "    \n",
    "    m3 = np.array([[Z_0*delta/Z_i],\n",
    "                  [(1-delta)/Z_i]])\n",
    "    \n",
    "    cur_depth_mapped_events = m_final @ m3\n",
    "    \n",
    "    x_ref_mapped = cur_depth_mapped_events[:ref_plane_mapped_events.shape[0]]\n",
    "    y_ref_mapped = cur_depth_mapped_events[ref_plane_mapped_events.shape[0]:]\n",
    "    \n",
    "    depth_plane_mapped_events = np.hstack((x_ref_mapped, y_ref_mapped))\n",
    "    #if np.max(depth_plane_mapped_events[:,0]) > 239 or np.max(depth_plane_mapped_events[:,1]) > 179 :\n",
    "        #print(\" out of bounds {} and {}\".format(np.max(depth_plane_mapped_events[:,0], np.max(depth_plane_mapped_events[:,1]))))\n",
    "    return depth_plane_mapped_events"
   ]
  },
  {
   "cell_type": "code",
   "execution_count": 26,
   "metadata": {},
   "outputs": [],
   "source": [
    "depth_plane_mapped_events = homography(ref_plane_mapped_events, 20, t, R) # value of Z_i should be greater than Z_0,\n",
    "#  random value of 20 chosen for testing"
   ]
  },
  {
   "cell_type": "code",
   "execution_count": 30,
   "metadata": {},
   "outputs": [
    {
     "name": "stdout",
     "output_type": "stream",
     "text": [
      "The slowest run took 6.09 times longer than the fastest. This could mean that an intermediate result is being cached.\n",
      "10000 loops, best of 3: 132 µs per loop\n"
     ]
    }
   ],
   "source": [
    "%timeit homography(ref_plane_mapped_events, 20, t, R)"
   ]
  },
  {
   "cell_type": "markdown",
   "metadata": {
    "nbpresent": {
     "id": "a391a6b6-c3f2-4ba3-9d2c-72c62cfe90e0"
    },
    "slideshow": {
     "slide_type": "slide"
    }
   },
   "source": [
    "<a id=\"stage_2\"></a>\n",
    "### 3.2 Volumetric Ray Counting\n"
   ]
  },
  {
   "cell_type": "markdown",
   "metadata": {
    "nbpresent": {
     "id": "40bb9fdf-6fb7-4ab0-9e61-9b252f10b615"
    },
    "slideshow": {
     "slide_type": "fragment"
    }
   },
   "source": [
    "We assume our backprojected rays from different views to pass through some 3-D Volume divided into voxels. A scoring function is associated with each voxel. The score of each voxel is determined by the number of rays passing through it. It is given as shown below. <b>X</b> is the co-ordinate of the centre of a voxel."
   ]
  },
  {
   "cell_type": "markdown",
   "metadata": {
    "nbpresent": {
     "id": "f9eb0aae-3db6-469d-8118-73a3037fe92d"
    },
    "slideshow": {
     "slide_type": "fragment"
    }
   },
   "source": [
    "<img src=\"Images/scoring.png\" alt=\"scoring\" style=\"width: 200px;\"/>"
   ]
  },
  {
   "cell_type": "code",
   "execution_count": 31,
   "metadata": {},
   "outputs": [],
   "source": [
    "def ray_counting(voxel_space, vol_coords, z_index=0):\n",
    "    '''This function assigns votes to the voxel space based on the number of times vol_coords appear. Vol_coords are\n",
    "    indices computed from depth plane mapped events'''\n",
    "    shp = voxel_space.shape \n",
    "    idx = vol_coords[:,0]*shp[2] + vol_coords[:,1] + z_index*shp[2]*shp[1]\n",
    "    np.add.at(voxel_space.ravel(),idx,1)\n",
    "    return voxel_space"
   ]
  },
  {
   "cell_type": "code",
   "execution_count": 32,
   "metadata": {},
   "outputs": [],
   "source": [
    "def vote(voxel_space, Z_i, depth_plane_mapped_events, vote_type='nearest_neighbour'):\n",
    "    ''' \n",
    "    The function recieves floating values as co-ordinates. This function assigns a vote to the appropriate voxel by \n",
    "    approximating it the nearest integer co-ordinates using some correction scheme.\n",
    "    \n",
    "    Parameters:\n",
    "    -----------\n",
    "    voxel_space : <np.array, number_of_depth_planes x camera_width x camera_height>\n",
    "        The volume to which depth mapped events vote \n",
    "        \n",
    "    Z_i : <int>\n",
    "        The current depth plane for voting process\n",
    "        \n",
    "    depth_plane_mapped_events : <np.array, batch_sizex2>\n",
    "        Event coordinates mapped to the current depth plane\n",
    "    \n",
    "    vote_type : <string>\n",
    "        bilinear or nearest neighbour\n",
    "        \n",
    "    Return:\n",
    "    -------\n",
    "     <np.array, number_of_depth_planes x camera_width x camera_height>\n",
    "       volume with voted events \n",
    "    '''\n",
    "    if vote_type=='nearest_neighbour':\n",
    "        depth_vol_coords = np.round(depth_plane_mapped_events).astype(int)\n",
    "        prev_votes = np.array(voxel_space, copy=True)  \n",
    "        voxel_space = np.zeros(voxel_space.shape)\n",
    "        return prev_votes + ray_counting(voxel_space, depth_vol_coords, z_index=Z_i-(Z_0+1))"
   ]
  },
  {
   "cell_type": "code",
   "execution_count": 112,
   "metadata": {},
   "outputs": [],
   "source": [
    "voxel_space = np.random.randint(0, 1000, (100, 240, 180))"
   ]
  },
  {
   "cell_type": "code",
   "execution_count": 119,
   "metadata": {},
   "outputs": [],
   "source": [
    "voxel_space = vote(voxel_space ,20, depth_plane_mapped_events) # random value of 20 used for Z_i for testing"
   ]
  },
  {
   "cell_type": "code",
   "execution_count": 114,
   "metadata": {},
   "outputs": [],
   "source": [
    "%lprun -f  vote vote(voxel_space,20-(Z_0+1), depth_plane_mapped_events)"
   ]
  },
  {
   "cell_type": "markdown",
   "metadata": {
    "nbpresent": {
     "id": "0ad92ffc-a682-4e31-9f75-5f84d9fab10c"
    },
    "slideshow": {
     "slide_type": "slide"
    }
   },
   "source": [
    "<a id=\"stage_3\"></a>\n",
    "### 3.3 Thresholding\n"
   ]
  },
  {
   "cell_type": "markdown",
   "metadata": {
    "nbpresent": {
     "id": "6a3d2c3f-4ad7-4726-bae1-9a73d352b6ae"
    },
    "slideshow": {
     "slide_type": "fragment"
    }
   },
   "source": [
    "Local maxima of <b>f(X)</b> is determined here. It is done by by using adaptive gaussian thresholding on the confidence map c(x,y). After this procedure a scene structure should have been formed."
   ]
  },
  {
   "cell_type": "code",
   "execution_count": 50,
   "metadata": {},
   "outputs": [],
   "source": [
    "from skimage.filters import threshold_adaptive\n",
    "\n",
    "def adaptive_gaussian_thresholding(volume_slice, kernal_size, C):\n",
    "    '''\n",
    "    This function does adaptive gaussian thresholding of the 3-D voxel space\n",
    "    \n",
    "    Parameters\n",
    "    ----------\n",
    "    volume_slice : <np.array, 1 x camera_width x camera_height>\n",
    "        The (1 x camera_width x camera_height) array which define the center of the voxel co-ordinates after having accumulated votes in the \n",
    "        voting process\n",
    "    \n",
    "    kernal_size : <int>\n",
    "        The size of the adaptive window to be used. 5 specified in the paper\n",
    "    \n",
    "    C : The offset value to be used for the adaptive filter. -10 is specified in the paper\n",
    "    \n",
    "    Returns\n",
    "    ------- \n",
    "    final_values : <np.array, 1 x camera_width x camera_height>\n",
    "        A (1 x camera_width x camera_height) array on which adaptive gaussian thresholding has been successfully performed\n",
    "    '''\n",
    "    #binary_adaptive = threshold_adaptive(volume_slice, kernal_size, C)\n",
    "    #final_values = np.multiply(volume_slice, binary_adaptive)\n",
    "    return volume_slice > 0\n"
   ]
  },
  {
   "cell_type": "code",
   "execution_count": 38,
   "metadata": {},
   "outputs": [],
   "source": [
    "voxel_space = np.zeros((num_of_depth_planes, 240, 180))\n",
    "thresholded_slice = adaptive_gaussian_thresholding(voxel_space[100 - (Z_0+1), :, :], 5, -10)"
   ]
  },
  {
   "cell_type": "code",
   "execution_count": 39,
   "metadata": {},
   "outputs": [
    {
     "name": "stdout",
     "output_type": "stream",
     "text": [
      "33 µs ± 157 ns per loop (mean ± std. dev. of 7 runs, 10000 loops each)\n"
     ]
    }
   ],
   "source": [
    "\n",
    "%timeit adaptive_gaussian_thresholding(voxel_space[20 - (Z_0+1), :, :], 5, -10)"
   ]
  },
  {
   "cell_type": "markdown",
   "metadata": {
    "nbpresent": {
     "id": "16d1fb2d-cdf8-4be7-8ece-37998f641c97"
    },
    "slideshow": {
     "slide_type": "slide"
    }
   },
   "source": [
    "<a id=\"stage_4\"></a>\n",
    "### 3.4 Scene Merging\n"
   ]
  },
  {
   "cell_type": "markdown",
   "metadata": {
    "nbpresent": {
     "id": "f1b17e78-61b1-4b4d-a967-1854d7ca9d89"
    },
    "slideshow": {
     "slide_type": "fragment"
    }
   },
   "source": [
    "This is used to merge scenes obtained while the camera is moving. The key reference view is changed when the distance moved by the camera w.r.t to the reference view exceeds some percentage of the mean scene depth (15 to 40%)"
   ]
  },
  {
   "cell_type": "code",
   "execution_count": 40,
   "metadata": {},
   "outputs": [],
   "source": [
    "def calc_mean_depth(volume):\n",
    "    '''\n",
    "        Calculate the mean depth of the volume. Only voxels which contain a value are considered for the mean depth.\n",
    "\n",
    "        Parameters:\n",
    "        -----------\n",
    "        volume: <np.array, number_of_depth_planes x camera_width x camera_height>\n",
    "             Input 3-D volume which may contain value greater than 0 in its voxels\n",
    "        Return: \n",
    "        -------\n",
    "        mean_depth :<float>\n",
    "            mean depth calculated\n",
    "    '''\n",
    "    depth_weight = 0\n",
    "    tot = 0\n",
    "    for z in range(volume.shape[0]):\n",
    "        vol_slice = volume[z, :, :]\n",
    "        weight = vol_slice[vol_slice>0].size\n",
    "        tot += weight\n",
    "        depth_weight += weight * z\n",
    "    if tot==0:\n",
    "        return 0\n",
    "    else:\n",
    "        mean_depth = depth_weight/tot\n",
    "        return mean_depth"
   ]
  },
  {
   "cell_type": "code",
   "execution_count": 41,
   "metadata": {},
   "outputs": [
    {
     "name": "stdout",
     "output_type": "stream",
     "text": [
      "6.56 ms ± 39.4 µs per loop (mean ± std. dev. of 7 runs, 100 loops each)\n"
     ]
    }
   ],
   "source": [
    "%timeit calc_mean_depth(voxel_space)"
   ]
  },
  {
   "cell_type": "code",
   "execution_count": 42,
   "metadata": {},
   "outputs": [],
   "source": [
    "def check_reference_switch(volume, t, t_prev, mean_depth_factor = 0.2):\n",
    "    '''\n",
    "    Returns True if mean depth is 15% to 40% of the mean_depth of the scene. \n",
    "    Parameters :\n",
    "    ------------\n",
    "    volume : <np.array, number_of_depth_planes x camera_width x camera_height>\n",
    "    t : <np.array, 1x3>\n",
    "        An array of translation co-ordinates\n",
    "    t : <np.array, 1x3>\n",
    "        An array of prev translation co-ordinates\n",
    "    mean_depth_factor : <float>\n",
    "        default value of 20%(0.2) assigned. Guidelines of 15 to 40 % in paper\n",
    "    \n",
    "    Return: \n",
    "    --------\n",
    "    <bool>\n",
    "        True if a reference view change is required\n",
    "    \n",
    "    '''\n",
    "    mean_depth = calc_mean_depth(volume)\n",
    "    dist_travelled = np.linalg.norm(t-t_prev)\n",
    "    \n",
    "    if dist_travelled > mean_depth_factor * mean_depth:\n",
    "        return True\n",
    "    else:\n",
    "        return False"
   ]
  },
  {
   "cell_type": "code",
   "execution_count": 50,
   "metadata": {},
   "outputs": [
    {
     "data": {
      "text/plain": [
       "False"
      ]
     },
     "execution_count": 50,
     "metadata": {},
     "output_type": "execute_result"
    }
   ],
   "source": [
    "tplus1 = np.array([1, 0, 0]).reshape(3,1)\n",
    "check_reference_switch(voxel_space ,tplus1, t)"
   ]
  },
  {
   "cell_type": "code",
   "execution_count": 34,
   "metadata": {
    "collapsed": true
   },
   "outputs": [],
   "source": [
    "%lprun -f  check_reference_switch check_reference_switch(voxel_space ,tplus1, t)"
   ]
  },
  {
   "cell_type": "code",
   "execution_count": 51,
   "metadata": {},
   "outputs": [
    {
     "name": "stdout",
     "output_type": "stream",
     "text": [
      "100 loops, best of 3: 6.48 ms per loop\n"
     ]
    }
   ],
   "source": [
    "%timeit check_reference_switch(voxel_space ,tplus1, t)"
   ]
  },
  {
   "cell_type": "code",
   "execution_count": 43,
   "metadata": {},
   "outputs": [],
   "source": [
    "def get_transformed_vol_from_prev_voxel_space(prev_vol_vectors, curr_volume, R, t):\n",
    "    '''\n",
    "    This generates a new 3-D space based on the 3-D space obtained after current transformation and the \n",
    "    3-D space obtained earlier(prev volume vectors). The volume vectors define the point in space where the 3-D \n",
    "    space has some value greater than 0.\n",
    "    \n",
    "    Parameters\n",
    "    ----------\n",
    "    prev_vol_vectors : <list, nx3>\n",
    "        The list of vectors in the previous volume where the points defined by them had values greater than 0\n",
    "    \n",
    "    curr_volume : <np.array, number_of_depth_planes x camera_width x camera_height>\n",
    "        The 3-D space of the current reference view\n",
    "    \n",
    "    t : <np.array, 1x3>\n",
    "        An array of translation co-ordinates\n",
    "        \n",
    "    R : <np.array, 3x3>\n",
    "        A matrix containing the rotational information\n",
    "    \n",
    "    Returns\n",
    "    ------- \n",
    "   volume_vectors_list : <list>\n",
    "        List of volume vectors in the reference view\n",
    "    '''\n",
    "    \n",
    "    transformed_vol_vectors = []\n",
    "    orig_vol_vectors = np.argwhere(curr_volume>0)\n",
    "    \n",
    "\n",
    "    # array is of form nX(z,x,y), the below code makes the array of form nX(x, y, z)\n",
    "    ###############################################\n",
    "    my_permutation = [2, 0, 1]\n",
    "    i = np.argsort(my_permutation)\n",
    "    orig_vol_vectors = orig_vol_vectors[:, i]\n",
    "    ################################################\n",
    "    \n",
    "    # Keep in mind that the shape of the vectors we get from the volume is (z,x,y) while the shape need for \n",
    "    # computing transformations is (x, y, z)\n",
    "    transformed_vol_vectors = (R@(orig_vol_vectors).T + t).T\n",
    "    \n",
    "    #nearest neighbour voting \n",
    "    transformed_vol_vectors = (np.round(transformed_vol_vectors)).astype(int)\n",
    "    \n",
    "    # array is of form nX(x,y,z), the below code makes the array of form nX(z, x, y)\n",
    "    ###############################################\n",
    "    my_permutation = [1, 2, 0]\n",
    "    i = np.argsort(my_permutation)\n",
    "    transformed_vol_vectors = transformed_vol_vectors[:, i] \n",
    "    ################################################\n",
    "    \n",
    "    tot_vectors = transformed_vol_vectors.tolist() + prev_vol_vectors\n",
    "    volume_vectors_set = set(tuple(vector) for vector in  tot_vectors)\n",
    "    volume_vectors_list = [list(vector) for vector in volume_vectors_set]\n",
    "\n",
    "    return volume_vectors_list"
   ]
  },
  {
   "cell_type": "code",
   "execution_count": 39,
   "metadata": {},
   "outputs": [
    {
     "name": "stdout",
     "output_type": "stream",
     "text": [
      "22.8 ms ± 503 µs per loop (mean ± std. dev. of 7 runs, 10 loops each)\n"
     ]
    }
   ],
   "source": [
    "prev_vol_vectors = [[0, 0, 1], [0, 2 ,3], [2, 4, 56], [34, 23 ,45], [21, 34 ,67]]\n",
    "%timeit get_transformed_vol_from_prev_voxel_space(prev_vol_vectors, voxel_space, R, t)"
   ]
  },
  {
   "cell_type": "markdown",
   "metadata": {
    "nbpresent": {
     "id": "e243fce1-06d6-4298-902f-3315b664079d"
    },
    "slideshow": {
     "slide_type": "slide"
    }
   },
   "source": [
    "<a id=\"stage_5\"></a>\n",
    "### 3.5 Cleaning and Plotting\n"
   ]
  },
  {
   "cell_type": "markdown",
   "metadata": {
    "nbpresent": {
     "id": "14e04e99-6b89-49a7-9c15-87f2c41b3635"
    },
    "slideshow": {
     "slide_type": "fragment"
    }
   },
   "source": [
    "The edges obtained are cleaned using median filters and radius filters"
   ]
  },
  {
   "cell_type": "code",
   "execution_count": 44,
   "metadata": {},
   "outputs": [],
   "source": [
    "def clean(volume):\n",
    "    volume = median_filter(volume)\n",
    "    volume = radius_filter(volume)\n",
    "    return volume"
   ]
  },
  {
   "cell_type": "code",
   "execution_count": 45,
   "metadata": {
    "nbpresent": {
     "id": "4f3fdcef-0cff-4292-b98b-16a2b8e2f3d8"
    },
    "slideshow": {
     "slide_type": "subslide"
    }
   },
   "outputs": [],
   "source": [
    "def radius_filter(volume):\n",
    "    '''to be filled later '''\n",
    "    return volume"
   ]
  },
  {
   "cell_type": "code",
   "execution_count": 46,
   "metadata": {
    "nbpresent": {
     "id": "0917affd-3569-443c-8b5b-d302a8a20764"
    },
    "slideshow": {
     "slide_type": "subslide"
    }
   },
   "outputs": [],
   "source": [
    "def median_filter(volume):\n",
    "    scipy.ndimage.filters.median_filter(volume)\n",
    "    return volume"
   ]
  },
  {
   "cell_type": "code",
   "execution_count": 47,
   "metadata": {
    "nbpresent": {
     "id": "3247ac23-2d60-4212-8f38-e7dffdab81ac"
    },
    "slideshow": {
     "slide_type": "subslide"
    }
   },
   "outputs": [],
   "source": [
    "def plot_3D_space_and_convert_to_point_cloud(volume_3D, destination):\n",
    "    '''to be filled later'''\n",
    "    pass"
   ]
  },
  {
   "cell_type": "code",
   "execution_count": 48,
   "metadata": {},
   "outputs": [],
   "source": [
    "import matplotlib.pyplot as plt\n",
    "from mpl_toolkits.mplot3d import Axes3D\n",
    "%matplotlib inline\n",
    "import time\n",
    "import pylab as pl\n",
    "from IPython import display\n",
    "\n",
    "def plot_3D_space(volume_vector_list):\n",
    "    fig = plt.figure()\n",
    "    ax = fig.add_subplot(111, projection='3d')\n",
    "    xs = np.array(volume_vector_list)[:, 1]\n",
    "    ys = np.array(volume_vector_list)[:, 2]\n",
    "    zs = np.array(volume_vector_list)[:, 0]\n",
    "    ax.scatter(xs, zs, ys)\n",
    "    #display.clear_output(wait=True)\n",
    "    #display.display(pl.gcf())\n",
    "    #time.sleep(0.001)"
   ]
  },
  {
   "cell_type": "markdown",
   "metadata": {
    "nbpresent": {
     "id": "6e02862b-9b24-48ac-8a4b-5e001eb1e101"
    },
    "slideshow": {
     "slide_type": "subslide"
    }
   },
   "source": [
    "<a id=\"algorithm\"></a>\n",
    "## 4. The Algorithm\n"
   ]
  },
  {
   "cell_type": "markdown",
   "metadata": {
    "nbpresent": {
     "id": "deb3631d-a1a5-4ec2-90e1-dae819fe2df8"
    },
    "slideshow": {
     "slide_type": "slide"
    }
   },
   "source": [
    "The algorithm given by Rebecq et al. is as shown below. Note that there are some guidelines given by Rebecq et al. to speed up computations which must be followed."
   ]
  },
  {
   "cell_type": "markdown",
   "metadata": {
    "nbpresent": {
     "id": "00010dae-7830-4e2b-8d24-52c1363ea3b7"
    },
    "slideshow": {
     "slide_type": "fragment"
    }
   },
   "source": [
    "<img src=\"Images/algorithm.png\" alt=\"The Algorithm\" style=\"width: 400px;\" align='left'/>"
   ]
  },
  {
   "cell_type": "markdown",
   "metadata": {
    "nbpresent": {
     "id": "c94f8e3a-936d-4f2e-ab7a-5ef5b27d8462"
    },
    "slideshow": {
     "slide_type": "slide"
    }
   },
   "source": [
    "<a id=\"algo_pic\"></a>\n",
    "### 4.1 Pictorial Representation of the Algorithm\n"
   ]
  },
  {
   "cell_type": "markdown",
   "metadata": {
    "nbpresent": {
     "id": "21af36af-4d2d-42a5-a658-275b31203727"
    },
    "slideshow": {
     "slide_type": "fragment"
    }
   },
   "source": [
    "\n",
    "<img src=\"Images/Visualization_of_ EVMS_process.png\" alt=\"visualising EVMS homographies\" style=\"width: 400px;\" align='center'/>"
   ]
  },
  {
   "cell_type": "markdown",
   "metadata": {
    "nbpresent": {
     "id": "1340e68e-8485-4eed-90e8-c0b839a6cfb3"
    },
    "slideshow": {
     "slide_type": "slide"
    }
   },
   "source": [
    "<a id=\"main\"></a>\n",
    "# 5. The Main function\n"
   ]
  },
  {
   "cell_type": "code",
   "execution_count": 51,
   "metadata": {
    "nbpresent": {
     "id": "e1655d99-a2e0-4c42-8d87-86764fff146c"
    },
    "slideshow": {
     "slide_type": "subslide"
    }
   },
   "outputs": [],
   "source": [
    "from tqdm import tqdm\n",
    "def main(batches):\n",
    "    '''\n",
    "    batches = number of batches of events the function has to run for.\n",
    "    '''\n",
    "    # the resolution of the camera is 240x180\n",
    "    voxel_space = np.zeros((num_of_depth_planes, 240, 180)) \n",
    "    # the reference vol vectors which have to be plotted in 3-D space later\n",
    "    reference_vol_vectors = [] \n",
    "    \n",
    "    t = np.array([0, 0, 0]).reshape((3,1)) # initial values of t and R\n",
    "    R = np.eye(3)\n",
    "    \n",
    "    for batch in tqdm(range(batches)): \n",
    "        events, event_start_time = bundle_events(batch_number=batch)\n",
    "        pose = get_ground_truth_pose(event_start_time)\n",
    "        t_prev, R_prev = t , R\n",
    "        t, R = get_translation_rotation(pose)\n",
    "        \n",
    "        # check if the reference view needs to be changed when the camerea moves\n",
    "        if check_reference_switch(voxel_space, t, t_prev): \n",
    "            print(\"switch happening...\")\n",
    "            #voxel_space = clean(voxel_space)\n",
    "            reference_vol_vectors = get_transformed_vol_from_prev_voxel_space(reference_vol_vectors, voxel_space, R_prev, t_prev) \n",
    "            #  Re-initialize voxel space for new reference\n",
    "            voxel_space = np.zeros((num_of_depth_planes, 240, 180)) \n",
    "               \n",
    "        ref_plane_mapped_events = map_to_reference_view(np.array(events), t, R)\n",
    "            \n",
    "        # if Z_0 is 0 then divide by zero errors occur, therefore Z_0+1 used\n",
    "        for Z_i in range(Z_0+1, num_of_depth_planes+Z_0+1):\n",
    "            \n",
    "            #parallelize this using multithreading in the end, \n",
    "            \n",
    "            depth_plane_mapped_events = homography(ref_plane_mapped_events, Z_i, t, R) \n",
    "            voxel_space = vote(voxel_space, Z_i, depth_plane_mapped_events)\n",
    "            voxel_space[Z_i-(Z_0+1), :, :] = adaptive_gaussian_thresholding(voxel_space[Z_i-(Z_0+1), :, :], 5, -10) \n",
    "        reference_vol_vectors = np.argwhere(voxel_space>0).tolist()\n",
    "   \n",
    "    return voxel_space, reference_vol_vectors\n",
    "\n",
    "###########################################to be done later####################################    \n",
    "#scored_space = clean(voxel_space)\n",
    "#plt.plot(scored_space)  # plot scored space continuously\n",
    "        "
   ]
  },
  {
   "cell_type": "code",
   "execution_count": 52,
   "metadata": {},
   "outputs": [
    {
     "name": "stderr",
     "output_type": "stream",
     "text": [
      "\r",
      "  0%|          | 0/15 [00:00<?, ?it/s]"
     ]
    },
    {
     "name": "stdout",
     "output_type": "stream",
     "text": [
      "switch happening...\n"
     ]
    },
    {
     "name": "stderr",
     "output_type": "stream",
     "text": [
      "100%|██████████| 15/15 [01:04<00:00,  4.40s/it]\n"
     ]
    }
   ],
   "source": [
    "voxel_space, ref_vec = main(15)"
   ]
  },
  {
   "cell_type": "code",
   "execution_count": 53,
   "metadata": {},
   "outputs": [
    {
     "data": {
      "image/png": "[encoded data removed]",
      "text/plain": [
       "<Figure size 432x288 with 1 Axes>"
      ]
     },
     "metadata": {
      "needs_background": "light"
     },
     "output_type": "display_data"
    }
   ],
   "source": [
    "plot_3D_space(ref_vec)"
   ]
  },
  {
   "cell_type": "code",
   "execution_count": 154,
   "metadata": {},
   "outputs": [
    {
     "name": "stdout",
     "output_type": "stream",
     "text": [
      " "
     ]
    }
   ],
   "source": [
    "%prun main(1)\n"
   ]
  },
  {
   "cell_type": "code",
   "execution_count": 61,
   "metadata": {},
   "outputs": [
    {
     "name": "stdout",
     "output_type": "stream",
     "text": [
      "1 loop, best of 3: 4.75 s per loop\n"
     ]
    }
   ],
   "source": [
    "%timeit main(1)"
   ]
  },
  {
   "cell_type": "code",
   "execution_count": 55,
   "metadata": {},
   "outputs": [],
   "source": [
    "%matplotlib notebook"
   ]
  },
  {
   "cell_type": "markdown",
   "metadata": {},
   "source": [
    "## One of the planes in the voxel_space, the thresholding is global"
   ]
  },
  {
   "cell_type": "code",
   "execution_count": 71,
   "metadata": {},
   "outputs": [
    {
     "data": {
      "application/javascript": [
       "/* Put everything inside the global mpl namespace */\n",
       "window.mpl = {};\n",
       "\n",
       "\n",
       "mpl.get_websocket_type = function() {\n",
       "    if (typeof(WebSocket) !== 'undefined') {\n",
       "        return WebSocket;\n",
       "    } else if (typeof(MozWebSocket) !== 'undefined') {\n",
       "        return MozWebSocket;\n",
       "    } else {\n",
       "        alert('Your browser does not have WebSocket support.' +\n",
       "              'Please try Chrome, Safari or Firefox ≥ 6. ' +\n",
       "              'Firefox 4 and 5 are also supported but you ' +\n",
       "              'have to enable WebSockets in about:config.');\n",
       "    };\n",
       "}\n",
       "\n",
       "mpl.figure = function(figure_id, websocket, ondownload, parent_element) {\n",
       "    this.id = figure_id;\n",
       "\n",
       "    this.ws = websocket;\n",
       "\n",
       "    this.supports_binary = (this.ws.binaryType != undefined);\n",
       "\n",
       "    if (!this.supports_binary) {\n",
       "        var warnings = document.getElementById(\"mpl-warnings\");\n",
       "        if (warnings) {\n",
       "            warnings.style.display = 'block';\n",
       "            warnings.textContent = (\n",
       "                \"This browser does not support binary websocket messages. \" +\n",
       "                    \"Performance may be slow.\");\n",
       "        }\n",
       "    }\n",
       "\n",
       "    this.imageObj = new Image();\n",
       "\n",
       "    this.context = undefined;\n",
       "    this.message = undefined;\n",
       "    this.canvas = undefined;\n",
       "    this.rubberband_canvas = undefined;\n",
       "    this.rubberband_context = undefined;\n",
       "    this.format_dropdown = undefined;\n",
       "\n",
       "    this.image_mode = 'full';\n",
       "\n",
       "    this.root = $('<div/>');\n",
       "    this._root_extra_style(this.root)\n",
       "    this.root.attr('style', 'display: inline-block');\n",
       "\n",
       "    $(parent_element).append(this.root);\n",
       "\n",
       "    this._init_header(this);\n",
       "    this._init_canvas(this);\n",
       "    this._init_toolbar(this);\n",
       "\n",
       "    var fig = this;\n",
       "\n",
       "    this.waiting = false;\n",
       "\n",
       "    this.ws.onopen =  function () {\n",
       "            fig.send_message(\"supports_binary\", {value: fig.supports_binary});\n",
       "            fig.send_message(\"send_image_mode\", {});\n",
       "            if (mpl.ratio != 1) {\n",
       "                fig.send_message(\"set_dpi_ratio\", {'dpi_ratio': mpl.ratio});\n",
       "            }\n",
       "            fig.send_message(\"refresh\", {});\n",
       "        }\n",
       "\n",
       "    this.imageObj.onload = function() {\n",
       "            if (fig.image_mode == 'full') {\n",
       "                // Full images could contain transparency (where diff images\n",
       "                // almost always do), so we need to clear the canvas so that\n",
       "                // there is no ghosting.\n",
       "                fig.context.clearRect(0, 0, fig.canvas.width, fig.canvas.height);\n",
       "            }\n",
       "            fig.context.drawImage(fig.imageObj, 0, 0);\n",
       "        };\n",
       "\n",
       "    this.imageObj.onunload = function() {\n",
       "        fig.ws.close();\n",
       "    }\n",
       "\n",
       "    this.ws.onmessage = this._make_on_message_function(this);\n",
       "\n",
       "    this.ondownload = ondownload;\n",
       "}\n",
       "\n",
       "mpl.figure.prototype._init_header = function() {\n",
       "    var titlebar = $(\n",
       "        '<div class=\"ui-dialog-titlebar ui-widget-header ui-corner-all ' +\n",
       "        'ui-helper-clearfix\"/>');\n",
       "    var titletext = $(\n",
       "        '<div class=\"ui-dialog-title\" style=\"width: 100%; ' +\n",
       "        'text-align: center; padding: 3px;\"/>');\n",
       "    titlebar.append(titletext)\n",
       "    this.root.append(titlebar);\n",
       "    this.header = titletext[0];\n",
       "}\n",
       "\n",
       "\n",
       "\n",
       "mpl.figure.prototype._canvas_extra_style = function(canvas_div) {\n",
       "\n",
       "}\n",
       "\n",
       "\n",
       "mpl.figure.prototype._root_extra_style = function(canvas_div) {\n",
       "\n",
       "}\n",
       "\n",
       "mpl.figure.prototype._init_canvas = function() {\n",
       "    var fig = this;\n",
       "\n",
       "    var canvas_div = $('<div/>');\n",
       "\n",
       "    canvas_div.attr('style', 'position: relative; clear: both; outline: 0');\n",
       "\n",
       "    function canvas_keyboard_event(event) {\n",
       "        return fig.key_event(event, event['data']);\n",
       "    }\n",
       "\n",
       "    canvas_div.keydown('key_press', canvas_keyboard_event);\n",
       "    canvas_div.keyup('key_release', canvas_keyboard_event);\n",
       "    this.canvas_div = canvas_div\n",
       "    this._canvas_extra_style(canvas_div)\n",
       "    this.root.append(canvas_div);\n",
       "\n",
       "    var canvas = $('<canvas/>');\n",
       "    canvas.addClass('mpl-canvas');\n",
       "    canvas.attr('style', \"left: 0; top: 0; z-index: 0; outline: 0\")\n",
       "\n",
       "    this.canvas = canvas[0];\n",
       "    this.context = canvas[0].getContext(\"2d\");\n",
       "\n",
       "    var backingStore = this.context.backingStorePixelRatio ||\n",
       "\tthis.context.webkitBackingStorePixelRatio ||\n",
       "\tthis.context.mozBackingStorePixelRatio ||\n",
       "\tthis.context.msBackingStorePixelRatio ||\n",
       "\tthis.context.oBackingStorePixelRatio ||\n",
       "\tthis.context.backingStorePixelRatio || 1;\n",
       "\n",
       "    mpl.ratio = (window.devicePixelRatio || 1) / backingStore;\n",
       "\n",
       "    var rubberband = $('<canvas/>');\n",
       "    rubberband.attr('style', \"position: absolute; left: 0; top: 0; z-index: 1;\")\n",
       "\n",
       "    var pass_mouse_events = true;\n",
       "\n",
       "    canvas_div.resizable({\n",
       "        start: function(event, ui) {\n",
       "            pass_mouse_events = false;\n",
       "        },\n",
       "        resize: function(event, ui) {\n",
       "            fig.request_resize(ui.size.width, ui.size.height);\n",
       "        },\n",
       "        stop: function(event, ui) {\n",
       "            pass_mouse_events = true;\n",
       "            fig.request_resize(ui.size.width, ui.size.height);\n",
       "        },\n",
       "    });\n",
       "\n",
       "    function mouse_event_fn(event) {\n",
       "        if (pass_mouse_events)\n",
       "            return fig.mouse_event(event, event['data']);\n",
       "    }\n",
       "\n",
       "    rubberband.mousedown('button_press', mouse_event_fn);\n",
       "    rubberband.mouseup('button_release', mouse_event_fn);\n",
       "    // Throttle sequential mouse events to 1 every 20ms.\n",
       "    rubberband.mousemove('motion_notify', mouse_event_fn);\n",
       "\n",
       "    rubberband.mouseenter('figure_enter', mouse_event_fn);\n",
       "    rubberband.mouseleave('figure_leave', mouse_event_fn);\n",
       "\n",
       "    canvas_div.on(\"wheel\", function (event) {\n",
       "        event = event.originalEvent;\n",
       "        event['data'] = 'scroll'\n",
       "        if (event.deltaY < 0) {\n",
       "            event.step = 1;\n",
       "        } else {\n",
       "            event.step = -1;\n",
       "        }\n",
       "        mouse_event_fn(event);\n",
       "    });\n",
       "\n",
       "    canvas_div.append(canvas);\n",
       "    canvas_div.append(rubberband);\n",
       "\n",
       "    this.rubberband = rubberband;\n",
       "    this.rubberband_canvas = rubberband[0];\n",
       "    this.rubberband_context = rubberband[0].getContext(\"2d\");\n",
       "    this.rubberband_context.strokeStyle = \"#000000\";\n",
       "\n",
       "    this._resize_canvas = function(width, height) {\n",
       "        // Keep the size of the canvas, canvas container, and rubber band\n",
       "        // canvas in synch.\n",
       "        canvas_div.css('width', width)\n",
       "        canvas_div.css('height', height)\n",
       "\n",
       "        canvas.attr('width', width * mpl.ratio);\n",
       "        canvas.attr('height', height * mpl.ratio);\n",
       "        canvas.attr('style', 'width: ' + width + 'px; height: ' + height + 'px;');\n",
       "\n",
       "        rubberband.attr('width', width);\n",
       "        rubberband.attr('height', height);\n",
       "    }\n",
       "\n",
       "    // Set the figure to an initial 600x600px, this will subsequently be updated\n",
       "    // upon first draw.\n",
       "    this._resize_canvas(600, 600);\n",
       "\n",
       "    // Disable right mouse context menu.\n",
       "    $(this.rubberband_canvas).bind(\"contextmenu\",function(e){\n",
       "        return false;\n",
       "    });\n",
       "\n",
       "    function set_focus () {\n",
       "        canvas.focus();\n",
       "        canvas_div.focus();\n",
       "    }\n",
       "\n",
       "    window.setTimeout(set_focus, 100);\n",
       "}\n",
       "\n",
       "mpl.figure.prototype._init_toolbar = function() {\n",
       "    var fig = this;\n",
       "\n",
       "    var nav_element = $('<div/>')\n",
       "    nav_element.attr('style', 'width: 100%');\n",
       "    this.root.append(nav_element);\n",
       "\n",
       "    // Define a callback function for later on.\n",
       "    function toolbar_event(event) {\n",
       "        return fig.toolbar_button_onclick(event['data']);\n",
       "    }\n",
       "    function toolbar_mouse_event(event) {\n",
       "        return fig.toolbar_button_onmouseover(event['data']);\n",
       "    }\n",
       "\n",
       "    for(var toolbar_ind in mpl.toolbar_items) {\n",
       "        var name = mpl.toolbar_items[toolbar_ind][0];\n",
       "        var tooltip = mpl.toolbar_items[toolbar_ind][1];\n",
       "        var image = mpl.toolbar_items[toolbar_ind][2];\n",
       "        var method_name = mpl.toolbar_items[toolbar_ind][3];\n",
       "\n",
       "        if (!name) {\n",
       "            // put a spacer in here.\n",
       "            continue;\n",
       "        }\n",
       "        var button = $('<button/>');\n",
       "        button.addClass('ui-button ui-widget ui-state-default ui-corner-all ' +\n",
       "                        'ui-button-icon-only');\n",
       "        button.attr('role', 'button');\n",
       "        button.attr('aria-disabled', 'false');\n",
       "        button.click(method_name, toolbar_event);\n",
       "        button.mouseover(tooltip, toolbar_mouse_event);\n",
       "\n",
       "        var icon_img = $('<span/>');\n",
       "        icon_img.addClass('ui-button-icon-primary ui-icon');\n",
       "        icon_img.addClass(image);\n",
       "        icon_img.addClass('ui-corner-all');\n",
       "\n",
       "        var tooltip_span = $('<span/>');\n",
       "        tooltip_span.addClass('ui-button-text');\n",
       "        tooltip_span.html(tooltip);\n",
       "\n",
       "        button.append(icon_img);\n",
       "        button.append(tooltip_span);\n",
       "\n",
       "        nav_element.append(button);\n",
       "    }\n",
       "\n",
       "    var fmt_picker_span = $('<span/>');\n",
       "\n",
       "    var fmt_picker = $('<select/>');\n",
       "    fmt_picker.addClass('mpl-toolbar-option ui-widget ui-widget-content');\n",
       "    fmt_picker_span.append(fmt_picker);\n",
       "    nav_element.append(fmt_picker_span);\n",
       "    this.format_dropdown = fmt_picker[0];\n",
       "\n",
       "    for (var ind in mpl.extensions) {\n",
       "        var fmt = mpl.extensions[ind];\n",
       "        var option = $(\n",
       "            '<option/>', {selected: fmt === mpl.default_extension}).html(fmt);\n",
       "        fmt_picker.append(option)\n",
       "    }\n",
       "\n",
       "    // Add hover states to the ui-buttons\n",
       "    $( \".ui-button\" ).hover(\n",
       "        function() { $(this).addClass(\"ui-state-hover\");},\n",
       "        function() { $(this).removeClass(\"ui-state-hover\");}\n",
       "    );\n",
       "\n",
       "    var status_bar = $('<span class=\"mpl-message\"/>');\n",
       "    nav_element.append(status_bar);\n",
       "    this.message = status_bar[0];\n",
       "}\n",
       "\n",
       "mpl.figure.prototype.request_resize = function(x_pixels, y_pixels) {\n",
       "    // Request matplotlib to resize the figure. Matplotlib will then trigger a resize in the client,\n",
       "    // which will in turn request a refresh of the image.\n",
       "    this.send_message('resize', {'width': x_pixels, 'height': y_pixels});\n",
       "}\n",
       "\n",
       "mpl.figure.prototype.send_message = function(type, properties) {\n",
       "    properties['type'] = type;\n",
       "    properties['figure_id'] = this.id;\n",
       "    this.ws.send(JSON.stringify(properties));\n",
       "}\n",
       "\n",
       "mpl.figure.prototype.send_draw_message = function() {\n",
       "    if (!this.waiting) {\n",
       "        this.waiting = true;\n",
       "        this.ws.send(JSON.stringify({type: \"draw\", figure_id: this.id}));\n",
       "    }\n",
       "}\n",
       "\n",
       "\n",
       "mpl.figure.prototype.handle_save = function(fig, msg) {\n",
       "    var format_dropdown = fig.format_dropdown;\n",
       "    var format = format_dropdown.options[format_dropdown.selectedIndex].value;\n",
       "    fig.ondownload(fig, format);\n",
       "}\n",
       "\n",
       "\n",
       "mpl.figure.prototype.handle_resize = function(fig, msg) {\n",
       "    var size = msg['size'];\n",
       "    if (size[0] != fig.canvas.width || size[1] != fig.canvas.height) {\n",
       "        fig._resize_canvas(size[0], size[1]);\n",
       "        fig.send_message(\"refresh\", {});\n",
       "    };\n",
       "}\n",
       "\n",
       "mpl.figure.prototype.handle_rubberband = function(fig, msg) {\n",
       "    var x0 = msg['x0'] / mpl.ratio;\n",
       "    var y0 = (fig.canvas.height - msg['y0']) / mpl.ratio;\n",
       "    var x1 = msg['x1'] / mpl.ratio;\n",
       "    var y1 = (fig.canvas.height - msg['y1']) / mpl.ratio;\n",
       "    x0 = Math.floor(x0) + 0.5;\n",
       "    y0 = Math.floor(y0) + 0.5;\n",
       "    x1 = Math.floor(x1) + 0.5;\n",
       "    y1 = Math.floor(y1) + 0.5;\n",
       "    var min_x = Math.min(x0, x1);\n",
       "    var min_y = Math.min(y0, y1);\n",
       "    var width = Math.abs(x1 - x0);\n",
       "    var height = Math.abs(y1 - y0);\n",
       "\n",
       "    fig.rubberband_context.clearRect(\n",
       "        0, 0, fig.canvas.width, fig.canvas.height);\n",
       "\n",
       "    fig.rubberband_context.strokeRect(min_x, min_y, width, height);\n",
       "}\n",
       "\n",
       "mpl.figure.prototype.handle_figure_label = function(fig, msg) {\n",
       "    // Updates the figure title.\n",
       "    fig.header.textContent = msg['label'];\n",
       "}\n",
       "\n",
       "mpl.figure.prototype.handle_cursor = function(fig, msg) {\n",
       "    var cursor = msg['cursor'];\n",
       "    switch(cursor)\n",
       "    {\n",
       "    case 0:\n",
       "        cursor = 'pointer';\n",
       "        break;\n",
       "    case 1:\n",
       "        cursor = 'default';\n",
       "        break;\n",
       "    case 2:\n",
       "        cursor = 'crosshair';\n",
       "        break;\n",
       "    case 3:\n",
       "        cursor = 'move';\n",
       "        break;\n",
       "    }\n",
       "    fig.rubberband_canvas.style.cursor = cursor;\n",
       "}\n",
       "\n",
       "mpl.figure.prototype.handle_message = function(fig, msg) {\n",
       "    fig.message.textContent = msg['message'];\n",
       "}\n",
       "\n",
       "mpl.figure.prototype.handle_draw = function(fig, msg) {\n",
       "    // Request the server to send over a new figure.\n",
       "    fig.send_draw_message();\n",
       "}\n",
       "\n",
       "mpl.figure.prototype.handle_image_mode = function(fig, msg) {\n",
       "    fig.image_mode = msg['mode'];\n",
       "}\n",
       "\n",
       "mpl.figure.prototype.updated_canvas_event = function() {\n",
       "    // Called whenever the canvas gets updated.\n",
       "    this.send_message(\"ack\", {});\n",
       "}\n",
       "\n",
       "// A function to construct a web socket function for onmessage handling.\n",
       "// Called in the figure constructor.\n",
       "mpl.figure.prototype._make_on_message_function = function(fig) {\n",
       "    return function socket_on_message(evt) {\n",
       "        if (evt.data instanceof Blob) {\n",
       "            /* FIXME: We get \"Resource interpreted as Image but\n",
       "             * transferred with MIME type text/plain:\" errors on\n",
       "             * Chrome.  But how to set the MIME type?  It doesn't seem\n",
       "             * to be part of the websocket stream */\n",
       "            evt.data.type = \"image/png\";\n",
       "\n",
       "            /* Free the memory for the previous frames */\n",
       "            if (fig.imageObj.src) {\n",
       "                (window.URL || window.webkitURL).revokeObjectURL(\n",
       "                    fig.imageObj.src);\n",
       "            }\n",
       "\n",
       "            fig.imageObj.src = (window.URL || window.webkitURL).createObjectURL(\n",
       "                evt.data);\n",
       "            fig.updated_canvas_event();\n",
       "            fig.waiting = false;\n",
       "            return;\n",
       "        }\n",
       "        else if (typeof evt.data === 'string' && evt.data.slice(0, 21) == \"data:image/png;base64\") {\n",
       "            fig.imageObj.src = evt.data;\n",
       "            fig.updated_canvas_event();\n",
       "            fig.waiting = false;\n",
       "            return;\n",
       "        }\n",
       "\n",
       "        var msg = JSON.parse(evt.data);\n",
       "        var msg_type = msg['type'];\n",
       "\n",
       "        // Call the  \"handle_{type}\" callback, which takes\n",
       "        // the figure and JSON message as its only arguments.\n",
       "        try {\n",
       "            var callback = fig[\"handle_\" + msg_type];\n",
       "        } catch (e) {\n",
       "            console.log(\"No handler for the '\" + msg_type + \"' message type: \", msg);\n",
       "            return;\n",
       "        }\n",
       "\n",
       "        if (callback) {\n",
       "            try {\n",
       "                // console.log(\"Handling '\" + msg_type + \"' message: \", msg);\n",
       "                callback(fig, msg);\n",
       "            } catch (e) {\n",
       "                console.log(\"Exception inside the 'handler_\" + msg_type + \"' callback:\", e, e.stack, msg);\n",
       "            }\n",
       "        }\n",
       "    };\n",
       "}\n",
       "\n",
       "// from http://stackoverflow.com/questions/1114465/getting-mouse-location-in-canvas\n",
       "mpl.findpos = function(e) {\n",
       "    //this section is from http://www.quirksmode.org/js/events_properties.html\n",
       "    var targ;\n",
       "    if (!e)\n",
       "        e = window.event;\n",
       "    if (e.target)\n",
       "        targ = e.target;\n",
       "    else if (e.srcElement)\n",
       "        targ = e.srcElement;\n",
       "    if (targ.nodeType == 3) // defeat Safari bug\n",
       "        targ = targ.parentNode;\n",
       "\n",
       "    // jQuery normalizes the pageX and pageY\n",
       "    // pageX,Y are the mouse positions relative to the document\n",
       "    // offset() returns the position of the element relative to the document\n",
       "    var x = e.pageX - $(targ).offset().left;\n",
       "    var y = e.pageY - $(targ).offset().top;\n",
       "\n",
       "    return {\"x\": x, \"y\": y};\n",
       "};\n",
       "\n",
       "/*\n",
       " * return a copy of an object with only non-object keys\n",
       " * we need this to avoid circular references\n",
       " * http://stackoverflow.com/a/24161582/3208463\n",
       " */\n",
       "function simpleKeys (original) {\n",
       "  return Object.keys(original).reduce(function (obj, key) {\n",
       "    if (typeof original[key] !== 'object')\n",
       "        obj[key] = original[key]\n",
       "    return obj;\n",
       "  }, {});\n",
       "}\n",
       "\n",
       "mpl.figure.prototype.mouse_event = function(event, name) {\n",
       "    var canvas_pos = mpl.findpos(event)\n",
       "\n",
       "    if (name === 'button_press')\n",
       "    {\n",
       "        this.canvas.focus();\n",
       "        this.canvas_div.focus();\n",
       "    }\n",
       "\n",
       "    var x = canvas_pos.x * mpl.ratio;\n",
       "    var y = canvas_pos.y * mpl.ratio;\n",
       "\n",
       "    this.send_message(name, {x: x, y: y, button: event.button,\n",
       "                             step: event.step,\n",
       "                             guiEvent: simpleKeys(event)});\n",
       "\n",
       "    /* This prevents the web browser from automatically changing to\n",
       "     * the text insertion cursor when the button is pressed.  We want\n",
       "     * to control all of the cursor setting manually through the\n",
       "     * 'cursor' event from matplotlib */\n",
       "    event.preventDefault();\n",
       "    return false;\n",
       "}\n",
       "\n",
       "mpl.figure.prototype._key_event_extra = function(event, name) {\n",
       "    // Handle any extra behaviour associated with a key event\n",
       "}\n",
       "\n",
       "mpl.figure.prototype.key_event = function(event, name) {\n",
       "\n",
       "    // Prevent repeat events\n",
       "    if (name == 'key_press')\n",
       "    {\n",
       "        if (event.which === this._key)\n",
       "            return;\n",
       "        else\n",
       "            this._key = event.which;\n",
       "    }\n",
       "    if (name == 'key_release')\n",
       "        this._key = null;\n",
       "\n",
       "    var value = '';\n",
       "    if (event.ctrlKey && event.which != 17)\n",
       "        value += \"ctrl+\";\n",
       "    if (event.altKey && event.which != 18)\n",
       "        value += \"alt+\";\n",
       "    if (event.shiftKey && event.which != 16)\n",
       "        value += \"shift+\";\n",
       "\n",
       "    value += 'k';\n",
       "    value += event.which.toString();\n",
       "\n",
       "    this._key_event_extra(event, name);\n",
       "\n",
       "    this.send_message(name, {key: value,\n",
       "                             guiEvent: simpleKeys(event)});\n",
       "    return false;\n",
       "}\n",
       "\n",
       "mpl.figure.prototype.toolbar_button_onclick = function(name) {\n",
       "    if (name == 'download') {\n",
       "        this.handle_save(this, null);\n",
       "    } else {\n",
       "        this.send_message(\"toolbar_button\", {name: name});\n",
       "    }\n",
       "};\n",
       "\n",
       "mpl.figure.prototype.toolbar_button_onmouseover = function(tooltip) {\n",
       "    this.message.textContent = tooltip;\n",
       "};\n",
       "mpl.toolbar_items = [[\"Home\", \"Reset original view\", \"fa fa-home icon-home\", \"home\"], [\"Back\", \"Back to  previous view\", \"fa fa-arrow-left icon-arrow-left\", \"back\"], [\"Forward\", \"Forward to next view\", \"fa fa-arrow-right icon-arrow-right\", \"forward\"], [\"\", \"\", \"\", \"\"], [\"Pan\", \"Pan axes with left mouse, zoom with right\", \"fa fa-arrows icon-move\", \"pan\"], [\"Zoom\", \"Zoom to rectangle\", \"fa fa-square-o icon-check-empty\", \"zoom\"], [\"\", \"\", \"\", \"\"], [\"Download\", \"Download plot\", \"fa fa-floppy-o icon-save\", \"download\"]];\n",
       "\n",
       "mpl.extensions = [\"eps\", \"jpeg\", \"pdf\", \"png\", \"ps\", \"raw\", \"svg\", \"tif\"];\n",
       "\n",
       "mpl.default_extension = \"png\";var comm_websocket_adapter = function(comm) {\n",
       "    // Create a \"websocket\"-like object which calls the given IPython comm\n",
       "    // object with the appropriate methods. Currently this is a non binary\n",
       "    // socket, so there is still some room for performance tuning.\n",
       "    var ws = {};\n",
       "\n",
       "    ws.close = function() {\n",
       "        comm.close()\n",
       "    };\n",
       "    ws.send = function(m) {\n",
       "        //console.log('sending', m);\n",
       "        comm.send(m);\n",
       "    };\n",
       "    // Register the callback with on_msg.\n",
       "    comm.on_msg(function(msg) {\n",
       "        //console.log('receiving', msg['content']['data'], msg);\n",
       "        // Pass the mpl event to the overridden (by mpl) onmessage function.\n",
       "        ws.onmessage(msg['content']['data'])\n",
       "    });\n",
       "    return ws;\n",
       "}\n",
       "\n",
       "mpl.mpl_figure_comm = function(comm, msg) {\n",
       "    // This is the function which gets called when the mpl process\n",
       "    // starts-up an IPython Comm through the \"matplotlib\" channel.\n",
       "\n",
       "    var id = msg.content.data.id;\n",
       "    // Get hold of the div created by the display call when the Comm\n",
       "    // socket was opened in Python.\n",
       "    var element = $(\"#\" + id);\n",
       "    var ws_proxy = comm_websocket_adapter(comm)\n",
       "\n",
       "    function ondownload(figure, format) {\n",
       "        window.open(figure.imageObj.src);\n",
       "    }\n",
       "\n",
       "    var fig = new mpl.figure(id, ws_proxy,\n",
       "                           ondownload,\n",
       "                           element.get(0));\n",
       "\n",
       "    // Call onopen now - mpl needs it, as it is assuming we've passed it a real\n",
       "    // web socket which is closed, not our websocket->open comm proxy.\n",
       "    ws_proxy.onopen();\n",
       "\n",
       "    fig.parent_element = element.get(0);\n",
       "    fig.cell_info = mpl.find_output_cell(\"<div id='\" + id + \"'></div>\");\n",
       "    if (!fig.cell_info) {\n",
       "        console.error(\"Failed to find cell for figure\", id, fig);\n",
       "        return;\n",
       "    }\n",
       "\n",
       "    var output_index = fig.cell_info[2]\n",
       "    var cell = fig.cell_info[0];\n",
       "\n",
       "};\n",
       "\n",
       "mpl.figure.prototype.handle_close = function(fig, msg) {\n",
       "    var width = fig.canvas.width/mpl.ratio\n",
       "    fig.root.unbind('remove')\n",
       "\n",
       "    // Update the output cell to use the data from the current canvas.\n",
       "    fig.push_to_output();\n",
       "    var dataURL = fig.canvas.toDataURL();\n",
       "    // Re-enable the keyboard manager in IPython - without this line, in FF,\n",
       "    // the notebook keyboard shortcuts fail.\n",
       "    IPython.keyboard_manager.enable()\n",
       "    $(fig.parent_element).html('<img src=\"' + dataURL + '\" width=\"' + width + '\">');\n",
       "    fig.close_ws(fig, msg);\n",
       "}\n",
       "\n",
       "mpl.figure.prototype.close_ws = function(fig, msg){\n",
       "    fig.send_message('closing', msg);\n",
       "    // fig.ws.close()\n",
       "}\n",
       "\n",
       "mpl.figure.prototype.push_to_output = function(remove_interactive) {\n",
       "    // Turn the data on the canvas into data in the output cell.\n",
       "    var width = this.canvas.width/mpl.ratio\n",
       "    var dataURL = this.canvas.toDataURL();\n",
       "    this.cell_info[1]['text/html'] = '<img src=\"' + dataURL + '\" width=\"' + width + '\">';\n",
       "}\n",
       "\n",
       "mpl.figure.prototype.updated_canvas_event = function() {\n",
       "    // Tell IPython that the notebook contents must change.\n",
       "    IPython.notebook.set_dirty(true);\n",
       "    this.send_message(\"ack\", {});\n",
       "    var fig = this;\n",
       "    // Wait a second, then push the new image to the DOM so\n",
       "    // that it is saved nicely (might be nice to debounce this).\n",
       "    setTimeout(function () { fig.push_to_output() }, 1000);\n",
       "}\n",
       "\n",
       "mpl.figure.prototype._init_toolbar = function() {\n",
       "    var fig = this;\n",
       "\n",
       "    var nav_element = $('<div/>')\n",
       "    nav_element.attr('style', 'width: 100%');\n",
       "    this.root.append(nav_element);\n",
       "\n",
       "    // Define a callback function for later on.\n",
       "    function toolbar_event(event) {\n",
       "        return fig.toolbar_button_onclick(event['data']);\n",
       "    }\n",
       "    function toolbar_mouse_event(event) {\n",
       "        return fig.toolbar_button_onmouseover(event['data']);\n",
       "    }\n",
       "\n",
       "    for(var toolbar_ind in mpl.toolbar_items){\n",
       "        var name = mpl.toolbar_items[toolbar_ind][0];\n",
       "        var tooltip = mpl.toolbar_items[toolbar_ind][1];\n",
       "        var image = mpl.toolbar_items[toolbar_ind][2];\n",
       "        var method_name = mpl.toolbar_items[toolbar_ind][3];\n",
       "\n",
       "        if (!name) { continue; };\n",
       "\n",
       "        var button = $('<button class=\"btn btn-default\" href=\"#\" title=\"' + name + '\"><i class=\"fa ' + image + ' fa-lg\"></i></button>');\n",
       "        button.click(method_name, toolbar_event);\n",
       "        button.mouseover(tooltip, toolbar_mouse_event);\n",
       "        nav_element.append(button);\n",
       "    }\n",
       "\n",
       "    // Add the status bar.\n",
       "    var status_bar = $('<span class=\"mpl-message\" style=\"text-align:right; float: right;\"/>');\n",
       "    nav_element.append(status_bar);\n",
       "    this.message = status_bar[0];\n",
       "\n",
       "    // Add the close button to the window.\n",
       "    var buttongrp = $('<div class=\"btn-group inline pull-right\"></div>');\n",
       "    var button = $('<button class=\"btn btn-mini btn-primary\" href=\"#\" title=\"Stop Interaction\"><i class=\"fa fa-power-off icon-remove icon-large\"></i></button>');\n",
       "    button.click(function (evt) { fig.handle_close(fig, {}); } );\n",
       "    button.mouseover('Stop Interaction', toolbar_mouse_event);\n",
       "    buttongrp.append(button);\n",
       "    var titlebar = this.root.find($('.ui-dialog-titlebar'));\n",
       "    titlebar.prepend(buttongrp);\n",
       "}\n",
       "\n",
       "mpl.figure.prototype._root_extra_style = function(el){\n",
       "    var fig = this\n",
       "    el.on(\"remove\", function(){\n",
       "\tfig.close_ws(fig, {});\n",
       "    });\n",
       "}\n",
       "\n",
       "mpl.figure.prototype._canvas_extra_style = function(el){\n",
       "    // this is important to make the div 'focusable\n",
       "    el.attr('tabindex', 0)\n",
       "    // reach out to IPython and tell the keyboard manager to turn it's self\n",
       "    // off when our div gets focus\n",
       "\n",
       "    // location in version 3\n",
       "    if (IPython.notebook.keyboard_manager) {\n",
       "        IPython.notebook.keyboard_manager.register_events(el);\n",
       "    }\n",
       "    else {\n",
       "        // location in version 2\n",
       "        IPython.keyboard_manager.register_events(el);\n",
       "    }\n",
       "\n",
       "}\n",
       "\n",
       "mpl.figure.prototype._key_event_extra = function(event, name) {\n",
       "    var manager = IPython.notebook.keyboard_manager;\n",
       "    if (!manager)\n",
       "        manager = IPython.keyboard_manager;\n",
       "\n",
       "    // Check for shift+enter\n",
       "    if (event.shiftKey && event.which == 13) {\n",
       "        this.canvas_div.blur();\n",
       "        event.shiftKey = false;\n",
       "        // Send a \"J\" for go to next cell\n",
       "        event.which = 74;\n",
       "        event.keyCode = 74;\n",
       "        manager.command_mode();\n",
       "        manager.handle_keydown(event);\n",
       "    }\n",
       "}\n",
       "\n",
       "mpl.figure.prototype.handle_save = function(fig, msg) {\n",
       "    fig.ondownload(fig, null);\n",
       "}\n",
       "\n",
       "\n",
       "mpl.find_output_cell = function(html_output) {\n",
       "    // Return the cell and output element which can be found *uniquely* in the notebook.\n",
       "    // Note - this is a bit hacky, but it is done because the \"notebook_saving.Notebook\"\n",
       "    // IPython event is triggered only after the cells have been serialised, which for\n",
       "    // our purposes (turning an active figure into a static one), is too late.\n",
       "    var cells = IPython.notebook.get_cells();\n",
       "    var ncells = cells.length;\n",
       "    for (var i=0; i<ncells; i++) {\n",
       "        var cell = cells[i];\n",
       "        if (cell.cell_type === 'code'){\n",
       "            for (var j=0; j<cell.output_area.outputs.length; j++) {\n",
       "                var data = cell.output_area.outputs[j];\n",
       "                if (data.data) {\n",
       "                    // IPython >= 3 moved mimebundle to data attribute of output\n",
       "                    data = data.data;\n",
       "                }\n",
       "                if (data['text/html'] == html_output) {\n",
       "                    return [cell, data, j];\n",
       "                }\n",
       "            }\n",
       "        }\n",
       "    }\n",
       "}\n",
       "\n",
       "// Register the function which deals with the matplotlib target/channel.\n",
       "// The kernel may be null if the page has been refreshed.\n",
       "if (IPython.notebook.kernel != null) {\n",
       "    IPython.notebook.kernel.comm_manager.register_target('matplotlib', mpl.mpl_figure_comm);\n",
       "}\n"
      ],
      "text/plain": [
       "<IPython.core.display.Javascript object>"
      ]
     },
     "metadata": {},
     "output_type": "display_data"
    },
    {
     "data": {
      "text/html": [
       "<img src=\"data:image/png;base64,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\" width=\"775.5555761007621\">"
      ],
      "text/plain": [
       "<IPython.core.display.HTML object>"
      ]
     },
     "metadata": {},
     "output_type": "display_data"
    },
    {
     "data": {
      "text/plain": [
       "<matplotlib.image.AxesImage at 0x1c27da6668>"
      ]
     },
     "execution_count": 71,
     "metadata": {},
     "output_type": "execute_result"
    }
   ],
   "source": [
    "\n",
    "from scipy import ndimage\n",
    "rotated_img = ndimage.rotate(voxel_space[100 - (Z_0+1), :, :], 270)\n",
    "plt.imshow(rotated_img)"
   ]
  },
  {
   "cell_type": "markdown",
   "metadata": {},
   "source": [
    "# Scratchpad"
   ]
  },
  {
   "cell_type": "markdown",
   "metadata": {
    "nbpresent": {
     "id": "5620e8aa-283d-45be-8f39-404e78b1487c"
    },
    "slideshow": {
     "slide_type": "slide"
    }
   },
   "source": [
    "### recheck calculations\n",
    "\n",
    "## To-do:\n",
    "##### 1. How would one use camera matrix in this paper, is it not necessary?\n",
    "        Look up undistorted camera co-ordinates from a dictionary computed beforehand for all u,v pairs and calculate         for this look up value \n",
    "##### 2. Filter implementations to be done \n",
    "#####  3. Adaptive thresholding problems , used Global thresholding for now\n",
    "\n",
    "\n",
    "## Bottlenecks in code\n",
    "    Should SIMD instructions be used for all multiplications?\n",
    "##### Make file opening and closing more efficient\n",
    "##### Make Vote function faster \n",
    "##### Parallelize the code for the depth planes part"
   ]
  },
  {
   "cell_type": "markdown",
   "metadata": {},
   "source": [
    "# Experimental Multiprocessing Code"
   ]
  },
  {
   "cell_type": "markdown",
   "metadata": {},
   "source": [
    "## Below code is under development, not reliable"
   ]
  },
  {
   "cell_type": "code",
   "execution_count": 115,
   "metadata": {
    "collapsed": true
   },
   "outputs": [],
   "source": [
    "from joblib import Parallel, delayed\n",
    "\n",
    "def parallel_computation(ref_plane_mapped_events, Z_i, t, R, voxel_space):\n",
    "    depth_plane_mapped_events = homography(ref_plane_mapped_events, Z_i, t, R) \n",
    "    voxel_space = vote(voxel_space, Z_i, depth_plane_mapped_events)\n",
    "    voxel_space[Z_i-(Z_0+1), :, :] = adaptive_gaussian_thresholding(voxel_space[Z_i-(Z_0+1), :, :], 5, -10) \n",
    "    return voxel_space[Z_i-(Z_0+1), :, :]"
   ]
  },
  {
   "cell_type": "code",
   "execution_count": 135,
   "metadata": {
    "collapsed": true
   },
   "outputs": [],
   "source": [
    "def main(batches):\n",
    "    '''\n",
    "    batches = number of batches of events the function has to run for.\n",
    "    '''\n",
    "    # the resolution of the camera is 240x180\n",
    "    voxel_space = np.zeros((num_of_depth_planes, 240, 180)) \n",
    "    # the reference vol vectors which have to be plotted in 3-D space later\n",
    "    reference_vol_vectors = [] \n",
    "    \n",
    "    t = np.array([0, 0, 0]).reshape((3,1)) # initial values of t and R\n",
    "    R = np.eye(3)\n",
    "    \n",
    "    for batch in range(batches): \n",
    "        events, event_start_time = bundle_events(batch_number=batch)\n",
    "        pose = get_ground_truth_pose(event_start_time)\n",
    "        t_prev, R_prev = t , R\n",
    "        t, R = get_translation_rotation(pose)\n",
    "        \n",
    "        # check if the reference view needs to be changed when the camerea moves\n",
    "        if check_reference_switch(voxel_space, t, t_prev): \n",
    "            #voxel_space = clean(voxel_space)\n",
    "            reference_vol_vectors = get_transformed_vol_from_prev_voxel_space(reference_vol_vectors, voxel_space, R_prev, t_prev) \n",
    "            #  Re-initialize voxel space for new reference\n",
    "            voxel_space = np.zeros((num_of_depth_planes, 240, 180)) \n",
    "               \n",
    "        ref_plane_mapped_events = map_to_reference_view(np.array(events), t, R)\n",
    "            \n",
    "        # if Z_0 is 0 then divide by zero errors occur, therefore Z_0+1 used\n",
    "        Z_i_list = list(range(Z_0+1, num_of_depth_planes+Z_0+1))\n",
    "\n",
    "        voxel_space = np.array(Parallel(n_jobs=8, require='sharedmem')(delayed(parallel_computation)(ref_plane_mapped_events, Z_i, t, R, voxel_space) for Z_i in Z_i_list))\n",
    "   \n",
    "    print(reference_vol_vectors)\n",
    "    if reference_vol_vectors: # plot only if reference_vol_vectors have been detected.\n",
    "        plot_3D_space(reference_vol_vectors)"
   ]
  },
  {
   "cell_type": "code",
   "execution_count": 129,
   "metadata": {},
   "outputs": [
    {
     "name": "stdout",
     "output_type": "stream",
     "text": [
      "[]\n"
     ]
    }
   ],
   "source": [
    "main(4)"
   ]
  },
  {
   "cell_type": "code",
   "execution_count": 136,
   "metadata": {},
   "outputs": [
    {
     "name": "stdout",
     "output_type": "stream",
     "text": [
      "[]\n",
      " "
     ]
    }
   ],
   "source": [
    "%prun main(1)"
   ]
  }
 ],
 "metadata": {
  "kernelspec": {
   "display_name": "Python [default]",
   "language": "python",
   "name": "python3"
  },
  "language_info": {
   "codemirror_mode": {
    "name": "ipython",
    "version": 3
   },
   "file_extension": ".py",
   "mimetype": "text/x-python",
   "name": "python",
   "nbconvert_exporter": "python",
   "pygments_lexer": "ipython3",
   "version": "3.6.6"
  },
  "nbpresent": {
   "slides": {
    "018adca0-6f5b-44f6-8c5a-a80734a359cb": {
     "id": "018adca0-6f5b-44f6-8c5a-a80734a359cb",
     "prev": "4c64a45a-04f7-492b-bf40-24438e096e4b",
     "regions": {
      "fc9da8e0-b9a0-44d0-b961-70c84d24e943": {
       "attrs": {
        "height": 0.8,
        "width": 0.8,
        "x": 0.1,
        "y": 0.1
       },
       "content": {
        "cell": "415fd80f-197b-41c2-a320-3cb56bf74584",
        "part": "whole"
       },
       "id": "fc9da8e0-b9a0-44d0-b961-70c84d24e943"
      }
     }
    },
    "03188904-a0e4-40de-a7d9-521d086e1a8e": {
     "id": "03188904-a0e4-40de-a7d9-521d086e1a8e",
     "prev": "985fd787-0dda-4f43-a1da-994fdb9fea99",
     "regions": {
      "dcf75e40-7552-40aa-b6cd-042f545cc097": {
       "attrs": {
        "height": 0.8,
        "width": 0.8,
        "x": 0.1,
        "y": 0.1
       },
       "content": {
        "cell": "903569ec-e524-418b-af5e-f402d6b3ef3b",
        "part": "whole"
       },
       "id": "dcf75e40-7552-40aa-b6cd-042f545cc097"
      }
     }
    },
    "0c36a4d3-acdb-46a5-a003-aaecb2b44e65": {
     "id": "0c36a4d3-acdb-46a5-a003-aaecb2b44e65",
     "prev": "e76a651d-4aea-4d2d-acc9-dd8dd24a7487",
     "regions": {
      "7273a23a-e5cd-4082-b3a7-0c7986439000": {
       "attrs": {
        "height": 0.8,
        "width": 0.8,
        "x": 0.1,
        "y": 0.1
       },
       "content": {
        "cell": "80545f0e-3a2b-44c4-ad62-f7f729eb4fc5",
        "part": "whole"
       },
       "id": "7273a23a-e5cd-4082-b3a7-0c7986439000"
      }
     }
    },
    "0fa0b1ec-5881-41c4-9536-d9138b8f6ea4": {
     "id": "0fa0b1ec-5881-41c4-9536-d9138b8f6ea4",
     "prev": "569ad0ec-42f9-4d55-94f1-04bcf7cf4c6c",
     "regions": {
      "2371fbab-4f0a-49cb-8197-c46fb73523d9": {
       "attrs": {
        "height": 0.8,
        "width": 0.8,
        "x": 0.1,
        "y": 0.1
       },
       "content": {
        "cell": "7b098df0-6fd1-4de5-ae84-4351a8b2a3e2",
        "part": "whole"
       },
       "id": "2371fbab-4f0a-49cb-8197-c46fb73523d9"
      }
     }
    },
    "18d96bed-6b87-41f8-b92d-7812f00183fa": {
     "id": "18d96bed-6b87-41f8-b92d-7812f00183fa",
     "prev": "ecec15c6-5363-4c47-8e9c-b209388b3905",
     "regions": {
      "fd82df84-914d-468c-8d05-1f977247c655": {
       "attrs": {
        "height": 0.8,
        "width": 0.8,
        "x": 0.1,
        "y": 0.1
       },
       "content": {
        "cell": "6e02862b-9b24-48ac-8a4b-5e001eb1e101",
        "part": "whole"
       },
       "id": "fd82df84-914d-468c-8d05-1f977247c655"
      }
     }
    },
    "253a28d6-664a-4bf9-a9ff-5b1ef6874e89": {
     "id": "253a28d6-664a-4bf9-a9ff-5b1ef6874e89",
     "prev": "f6f26bf2-4e90-44a4-aa2c-d625ae8afdd0",
     "regions": {
      "4e530940-d349-4079-8070-afa89ae0a040": {
       "attrs": {
        "height": 0.8,
        "width": 0.8,
        "x": 0.1,
        "y": 0.1
       },
       "content": {
        "cell": "c77eb6f1-3564-4898-b8a1-c6620a250033",
        "part": "whole"
       },
       "id": "4e530940-d349-4079-8070-afa89ae0a040"
      }
     }
    },
    "259ceb15-070c-4242-b35b-475aaa8094db": {
     "id": "259ceb15-070c-4242-b35b-475aaa8094db",
     "prev": "5463952c-bb89-4512-baec-526b29dc3184",
     "regions": {
      "49223fe3-8666-4290-ada5-92cb14a97a92": {
       "attrs": {
        "height": 0.8,
        "width": 0.8,
        "x": 0.1,
        "y": 0.1
       },
       "content": {
        "cell": "46485b54-7a29-48ec-b4a6-24396d33c26b",
        "part": "whole"
       },
       "id": "49223fe3-8666-4290-ada5-92cb14a97a92"
      }
     }
    },
    "29efc6fd-0b93-41ef-afed-d4327585e106": {
     "id": "29efc6fd-0b93-41ef-afed-d4327585e106",
     "prev": "b028418b-d3da-4b4a-a698-a70c1f80075d",
     "regions": {
      "98a97f99-9230-4b86-ad3a-13bd68bc93c0": {
       "attrs": {
        "height": 0.8,
        "width": 0.8,
        "x": 0.1,
        "y": 0.1
       },
       "content": {
        "cell": "00010dae-7830-4e2b-8d24-52c1363ea3b7",
        "part": "whole"
       },
       "id": "98a97f99-9230-4b86-ad3a-13bd68bc93c0"
      }
     }
    },
    "35cd0f68-635f-43e1-b4b1-b175beeedfa2": {
     "id": "35cd0f68-635f-43e1-b4b1-b175beeedfa2",
     "prev": "4ac3a638-fa8c-4a54-8b37-cfa170aca016",
     "regions": {
      "402b327e-db85-456f-a1ba-0070c533d3bc": {
       "attrs": {
        "height": 0.8,
        "width": 0.8,
        "x": 0.1,
        "y": 0.1
       },
       "content": {
        "cell": "48cd64ef-830b-4c7c-bdc9-1f56613b9711",
        "part": "whole"
       },
       "id": "402b327e-db85-456f-a1ba-0070c533d3bc"
      }
     }
    },
    "386c548a-74d3-4e09-8448-babe3350f003": {
     "id": "386c548a-74d3-4e09-8448-babe3350f003",
     "prev": "c57934ea-2323-476a-a919-a1fec147aebd",
     "regions": {
      "0cdbc4eb-6cd0-4fad-9b9f-374133f22124": {
       "attrs": {
        "height": 0.8,
        "width": 0.8,
        "x": 0.1,
        "y": 0.1
       },
       "content": {
        "cell": "c9fc3361-c0fc-41ca-84d0-41c31b489819",
        "part": "whole"
       },
       "id": "0cdbc4eb-6cd0-4fad-9b9f-374133f22124"
      }
     }
    },
    "3d66a8da-a16f-43b4-80f1-66d703d1aff9": {
     "id": "3d66a8da-a16f-43b4-80f1-66d703d1aff9",
     "prev": "ec21535d-dbed-43f0-a79a-ddfc90f34c1f",
     "regions": {
      "7341ed2b-a906-45ef-8fd7-fd328991abdc": {
       "attrs": {
        "height": 0.8,
        "width": 0.8,
        "x": 0.1,
        "y": 0.1
       },
       "content": {
        "cell": "0ad92ffc-a682-4e31-9f75-5f84d9fab10c",
        "part": "whole"
       },
       "id": "7341ed2b-a906-45ef-8fd7-fd328991abdc"
      }
     }
    },
    "3d68e02e-76bb-4b1a-8cc6-bde316ec007a": {
     "id": "3d68e02e-76bb-4b1a-8cc6-bde316ec007a",
     "prev": "f03c101f-ddd5-4bc4-b088-66f8e374fa08",
     "regions": {
      "ee61dbdb-1dff-40f5-952b-4579c021cb11": {
       "attrs": {
        "height": 0.8,
        "width": 0.8,
        "x": 0.1,
        "y": 0.1
       },
       "content": {
        "cell": "e24b9c19-ee8a-4881-bdd0-9930eb9f5198",
        "part": "whole"
       },
       "id": "ee61dbdb-1dff-40f5-952b-4579c021cb11"
      }
     }
    },
    "40794cbf-8e50-442b-b59b-5c6a0f617b13": {
     "id": "40794cbf-8e50-442b-b59b-5c6a0f617b13",
     "prev": "68868696-ccd0-44d1-afdd-0afbea77c486",
     "regions": {
      "248b1323-e5df-47ec-9b27-df1226d9d09c": {
       "attrs": {
        "height": 0.8,
        "width": 0.8,
        "x": 0.1,
        "y": 0.1
       },
       "content": {
        "cell": "14e04e99-6b89-49a7-9c15-87f2c41b3635",
        "part": "whole"
       },
       "id": "248b1323-e5df-47ec-9b27-df1226d9d09c"
      }
     }
    },
    "459a7d44-eecd-474b-b493-f780d5c0eb4d": {
     "id": "459a7d44-eecd-474b-b493-f780d5c0eb4d",
     "prev": "0fa0b1ec-5881-41c4-9536-d9138b8f6ea4",
     "regions": {
      "e598a844-a0b6-4fa3-86af-c2f872885b1d": {
       "attrs": {
        "height": 0.8,
        "width": 0.8,
        "x": 0.1,
        "y": 0.1
       },
       "content": {
        "cell": "3b7e6e0a-2698-48f4-b1cf-0da86501ea0e",
        "part": "whole"
       },
       "id": "e598a844-a0b6-4fa3-86af-c2f872885b1d"
      }
     }
    },
    "4ac3a638-fa8c-4a54-8b37-cfa170aca016": {
     "id": "4ac3a638-fa8c-4a54-8b37-cfa170aca016",
     "prev": "d673b5bd-e6e3-4241-8262-9f66a3e1bec7",
     "regions": {
      "aba30419-89d1-47f0-a3b7-ad517e1a69c4": {
       "attrs": {
        "height": 0.8,
        "width": 0.8,
        "x": 0.1,
        "y": 0.1
       },
       "content": {
        "cell": "42683b3e-0bdf-4ae8-8f12-9239966a3a90",
        "part": "whole"
       },
       "id": "aba30419-89d1-47f0-a3b7-ad517e1a69c4"
      }
     }
    },
    "4c64a45a-04f7-492b-bf40-24438e096e4b": {
     "id": "4c64a45a-04f7-492b-bf40-24438e096e4b",
     "prev": "c534d463-125d-404e-8720-7fabfb572c0c",
     "regions": {
      "95da624d-c81a-405d-a179-971e9da39327": {
       "attrs": {
        "height": 0.8,
        "width": 0.8,
        "x": 0.1,
        "y": 0.1
       },
       "content": {
        "cell": "40436ad0-9d01-4e46-94bc-48457274d659",
        "part": "whole"
       },
       "id": "95da624d-c81a-405d-a179-971e9da39327"
      }
     }
    },
    "4ec99677-bc96-428c-8687-871699cac003": {
     "id": "4ec99677-bc96-428c-8687-871699cac003",
     "prev": "29efc6fd-0b93-41ef-afed-d4327585e106",
     "regions": {
      "173717a2-ed1d-4c97-af5a-84a19dd39985": {
       "attrs": {
        "height": 0.8,
        "width": 0.8,
        "x": 0.1,
        "y": 0.1
       },
       "content": {
        "cell": "c94f8e3a-936d-4f2e-ab7a-5ef5b27d8462",
        "part": "whole"
       },
       "id": "173717a2-ed1d-4c97-af5a-84a19dd39985"
      }
     }
    },
    "5463952c-bb89-4512-baec-526b29dc3184": {
     "id": "5463952c-bb89-4512-baec-526b29dc3184",
     "prev": "cd34d442-d377-428a-9ecc-06c71749cd3c",
     "regions": {
      "c5ebcc19-ca42-4eed-9388-0b540164cb5a": {
       "attrs": {
        "height": 0.8,
        "width": 0.8,
        "x": 0.1,
        "y": 0.1
       },
       "content": {
        "cell": "1502a5a3-4567-48c8-a515-6892d330fcb8",
        "part": "whole"
       },
       "id": "c5ebcc19-ca42-4eed-9388-0b540164cb5a"
      }
     }
    },
    "569ad0ec-42f9-4d55-94f1-04bcf7cf4c6c": {
     "id": "569ad0ec-42f9-4d55-94f1-04bcf7cf4c6c",
     "prev": "61bb6d5f-03d2-40e2-bca1-8c26ca73a44a",
     "regions": {
      "d76e8f54-a30d-4ab3-a416-2f0eabb02cca": {
       "attrs": {
        "height": 0.8,
        "width": 0.8,
        "x": 0.1,
        "y": 0.1
       },
       "content": {
        "cell": "77d1eb0e-41c4-4247-859b-acab4d426bd3",
        "part": "whole"
       },
       "id": "d76e8f54-a30d-4ab3-a416-2f0eabb02cca"
      }
     }
    },
    "5c8051c2-6f2c-4b3f-924c-088d26d4fdde": {
     "id": "5c8051c2-6f2c-4b3f-924c-088d26d4fdde",
     "prev": "ddec3be1-1ee5-4e59-8f16-94db794bbf32",
     "regions": {
      "a491c270-41a2-4c7d-9b85-60a873cc7e4f": {
       "attrs": {
        "height": 0.8,
        "width": 0.8,
        "x": 0.1,
        "y": 0.1
       },
       "content": {
        "cell": "9622a578-6b23-4746-a3a5-18b015c3f922",
        "part": "whole"
       },
       "id": "a491c270-41a2-4c7d-9b85-60a873cc7e4f"
      }
     }
    },
    "61bb6d5f-03d2-40e2-bca1-8c26ca73a44a": {
     "id": "61bb6d5f-03d2-40e2-bca1-8c26ca73a44a",
     "prev": "e2b34a97-ecf2-452f-8b3c-8f0a632d3679",
     "regions": {
      "0affdb85-c3a0-4874-9339-426f21fa9294": {
       "attrs": {
        "height": 0.8,
        "width": 0.8,
        "x": 0.1,
        "y": 0.1
       },
       "content": {
        "cell": "ced8ae4b-41bb-45e1-b6f8-8544490a39c2",
        "part": "whole"
       },
       "id": "0affdb85-c3a0-4874-9339-426f21fa9294"
      }
     }
    },
    "68868696-ccd0-44d1-afdd-0afbea77c486": {
     "id": "68868696-ccd0-44d1-afdd-0afbea77c486",
     "prev": "a8dab855-a264-402f-a182-6f06b7b366e1",
     "regions": {
      "32b86ffc-338c-49a4-8f79-a14f8cf4eba2": {
       "attrs": {
        "height": 0.8,
        "width": 0.8,
        "x": 0.1,
        "y": 0.1
       },
       "content": {
        "cell": "e243fce1-06d6-4298-902f-3315b664079d",
        "part": "whole"
       },
       "id": "32b86ffc-338c-49a4-8f79-a14f8cf4eba2"
      }
     }
    },
    "6d947ae7-7a14-4ac2-8d14-f0298cf344e6": {
     "id": "6d947ae7-7a14-4ac2-8d14-f0298cf344e6",
     "prev": "03188904-a0e4-40de-a7d9-521d086e1a8e",
     "regions": {
      "a8294ce5-5cde-47ad-b05a-7ec4e1994154": {
       "attrs": {
        "height": 0.8,
        "width": 0.8,
        "x": 0.1,
        "y": 0.1
       },
       "content": {
        "cell": "799fc47c-8ba4-4b01-bf27-97b1e9d8a4a9",
        "part": "whole"
       },
       "id": "a8294ce5-5cde-47ad-b05a-7ec4e1994154"
      }
     }
    },
    "73e43839-aab8-43bf-8188-6028e976db51": {
     "id": "73e43839-aab8-43bf-8188-6028e976db51",
     "prev": "40794cbf-8e50-442b-b59b-5c6a0f617b13",
     "regions": {
      "c117c56f-93b2-41bf-98db-52750929aee5": {
       "attrs": {
        "height": 0.8,
        "width": 0.8,
        "x": 0.1,
        "y": 0.1
       },
       "content": {
        "cell": "4f3fdcef-0cff-4292-b98b-16a2b8e2f3d8",
        "part": "whole"
       },
       "id": "c117c56f-93b2-41bf-98db-52750929aee5"
      }
     }
    },
    "766e389c-b13a-4086-98f7-18401758c539": {
     "id": "766e389c-b13a-4086-98f7-18401758c539",
     "prev": "5c8051c2-6f2c-4b3f-924c-088d26d4fdde",
     "regions": {
      "2eca83b9-e009-465e-8dd6-e05f4c695ff3": {
       "attrs": {
        "height": 0.8,
        "width": 0.8,
        "x": 0.1,
        "y": 0.1
       },
       "content": {
        "cell": "a391a6b6-c3f2-4ba3-9d2c-72c62cfe90e0",
        "part": "whole"
       },
       "id": "2eca83b9-e009-465e-8dd6-e05f4c695ff3"
      }
     }
    },
    "8a122701-523f-4edd-b9ec-90c37cab3c9c": {
     "id": "8a122701-523f-4edd-b9ec-90c37cab3c9c",
     "prev": "a6948fde-1cbc-4df3-a202-4ead35e7704a",
     "regions": {
      "805c8306-13b4-4d3b-9a30-62ed63d48c2b": {
       "attrs": {
        "height": 0.8,
        "width": 0.8,
        "x": 0.1,
        "y": 0.1
       },
       "content": {
        "cell": "3a969ca7-8b2c-48cf-8410-4e5eaedde960",
        "part": "whole"
       },
       "id": "805c8306-13b4-4d3b-9a30-62ed63d48c2b"
      }
     }
    },
    "8bd73937-bdef-4af2-a9a1-cdf0479441a3": {
     "id": "8bd73937-bdef-4af2-a9a1-cdf0479441a3",
     "prev": "a38f0c8d-cb69-4172-867f-26a924ee1211",
     "regions": {
      "2dacd8b2-e11b-4c3c-81c6-8c09ffd8a7e6": {
       "attrs": {
        "height": 0.8,
        "width": 0.8,
        "x": 0.1,
        "y": 0.1
       },
       "content": {
        "cell": "7148f3f0-560d-40f3-af48-b5264a1d6ac8",
        "part": "whole"
       },
       "id": "2dacd8b2-e11b-4c3c-81c6-8c09ffd8a7e6"
      }
     }
    },
    "9384fc19-ae9e-4015-819c-8f7c0754a472": {
     "id": "9384fc19-ae9e-4015-819c-8f7c0754a472",
     "prev": "ada4e885-d38b-430b-89c2-85f353a40915",
     "regions": {
      "85efcfed-9a12-4b0c-99b5-1cd2a71e6e1f": {
       "attrs": {
        "height": 0.8,
        "width": 0.8,
        "x": 0.1,
        "y": 0.1
       },
       "content": {
        "cell": "5620e8aa-283d-45be-8f39-404e78b1487c",
        "part": "whole"
       },
       "id": "85efcfed-9a12-4b0c-99b5-1cd2a71e6e1f"
      }
     }
    },
    "985fd787-0dda-4f43-a1da-994fdb9fea99": {
     "id": "985fd787-0dda-4f43-a1da-994fdb9fea99",
     "prev": "35cd0f68-635f-43e1-b4b1-b175beeedfa2",
     "regions": {
      "963db8db-a5e1-4b0c-9ab0-2e161c55e3c5": {
       "attrs": {
        "height": 0.8,
        "width": 0.8,
        "x": 0.1,
        "y": 0.1
       },
       "content": {
        "cell": "adc9de1d-ac88-4b52-9aaf-002b48eb41ee",
        "part": "whole"
       },
       "id": "963db8db-a5e1-4b0c-9ab0-2e161c55e3c5"
      }
     }
    },
    "9ccbf50f-4ee4-4b62-8d2c-5af86209627c": {
     "id": "9ccbf50f-4ee4-4b62-8d2c-5af86209627c",
     "prev": "766e389c-b13a-4086-98f7-18401758c539",
     "regions": {
      "47e83157-a6f1-429b-9e54-b1e4f503ed4a": {
       "attrs": {
        "height": 0.8,
        "width": 0.8,
        "x": 0.1,
        "y": 0.1
       },
       "content": {
        "cell": "40bb9fdf-6fb7-4ab0-9e61-9b252f10b615",
        "part": "whole"
       },
       "id": "47e83157-a6f1-429b-9e54-b1e4f503ed4a"
      }
     }
    },
    "a38f0c8d-cb69-4172-867f-26a924ee1211": {
     "id": "a38f0c8d-cb69-4172-867f-26a924ee1211",
     "prev": "c1efc2b1-8198-4055-a914-3327df56da4f",
     "regions": {
      "ddb5e1cb-d78c-49ca-907a-116e7729deff": {
       "attrs": {
        "height": 0.8,
        "width": 0.8,
        "x": 0.1,
        "y": 0.1
       },
       "content": {
        "cell": "75da4052-b210-4281-bc04-782941fa0268",
        "part": "whole"
       },
       "id": "ddb5e1cb-d78c-49ca-907a-116e7729deff"
      }
     }
    },
    "a6948fde-1cbc-4df3-a202-4ead35e7704a": {
     "id": "a6948fde-1cbc-4df3-a202-4ead35e7704a",
     "prev": "6d947ae7-7a14-4ac2-8d14-f0298cf344e6",
     "regions": {
      "19b06cdc-d4ee-4bed-aaec-cbdb48100553": {
       "attrs": {
        "height": 0.8,
        "width": 0.8,
        "x": 0.1,
        "y": 0.1
       },
       "content": {
        "cell": "08d4f60b-466c-45ad-b7ad-e2c6ab14d170",
        "part": "whole"
       },
       "id": "19b06cdc-d4ee-4bed-aaec-cbdb48100553"
      }
     }
    },
    "a8dab855-a264-402f-a182-6f06b7b366e1": {
     "id": "a8dab855-a264-402f-a182-6f06b7b366e1",
     "prev": "c5ad98bb-a7e1-4655-ab35-3c07f95cba2d",
     "regions": {
      "45ba6f63-99e7-4777-b527-971c1aecf7f5": {
       "attrs": {
        "height": 0.8,
        "width": 0.8,
        "x": 0.1,
        "y": 0.1
       },
       "content": {
        "cell": "f1b17e78-61b1-4b4d-a967-1854d7ca9d89",
        "part": "whole"
       },
       "id": "45ba6f63-99e7-4777-b527-971c1aecf7f5"
      }
     }
    },
    "ada4e885-d38b-430b-89c2-85f353a40915": {
     "id": "ada4e885-d38b-430b-89c2-85f353a40915",
     "prev": "253a28d6-664a-4bf9-a9ff-5b1ef6874e89",
     "regions": {
      "41849261-b477-4c88-8aeb-a46f61b99109": {
       "attrs": {
        "height": 0.8,
        "width": 0.8,
        "x": 0.1,
        "y": 0.1
       },
       "content": {
        "cell": "e1655d99-a2e0-4c42-8d87-86764fff146c",
        "part": "whole"
       },
       "id": "41849261-b477-4c88-8aeb-a46f61b99109"
      }
     }
    },
    "b028418b-d3da-4b4a-a698-a70c1f80075d": {
     "id": "b028418b-d3da-4b4a-a698-a70c1f80075d",
     "prev": "18d96bed-6b87-41f8-b92d-7812f00183fa",
     "regions": {
      "4bf62201-9c20-4dcd-b25e-d2261a24bed3": {
       "attrs": {
        "height": 0.8,
        "width": 0.8,
        "x": 0.1,
        "y": 0.1
       },
       "content": {
        "cell": "deb3631d-a1a5-4ec2-90e1-dae819fe2df8",
        "part": "whole"
       },
       "id": "4bf62201-9c20-4dcd-b25e-d2261a24bed3"
      }
     }
    },
    "bbd76a64-daa4-4c27-a374-776da5c48419": {
     "id": "bbd76a64-daa4-4c27-a374-776da5c48419",
     "prev": "ef780983-ee1c-4356-b5df-80e0ea3a7432",
     "regions": {
      "703aa0a4-98c5-44bb-a4f3-eb0d55b9a11f": {
       "attrs": {
        "height": 0.8,
        "width": 0.8,
        "x": 0.1,
        "y": 0.1
       },
       "content": {
        "cell": "1e648d98-2cb8-4938-827e-1da24c84e581",
        "part": "whole"
       },
       "id": "703aa0a4-98c5-44bb-a4f3-eb0d55b9a11f"
      }
     }
    },
    "bdeccfac-de62-4085-8191-d726eb8ef6b5": {
     "id": "bdeccfac-de62-4085-8191-d726eb8ef6b5",
     "prev": "386c548a-74d3-4e09-8448-babe3350f003",
     "regions": {
      "ff0699f0-6940-488b-a10c-e78d6e290d7b": {
       "attrs": {
        "height": 0.8,
        "width": 0.8,
        "x": 0.1,
        "y": 0.1
       },
       "content": {
        "cell": "091fc50b-a223-42a8-9848-5a171171f188",
        "part": "whole"
       },
       "id": "ff0699f0-6940-488b-a10c-e78d6e290d7b"
      }
     }
    },
    "c1efc2b1-8198-4055-a914-3327df56da4f": {
     "id": "c1efc2b1-8198-4055-a914-3327df56da4f",
     "prev": "cc5477d1-296a-4eb6-aad6-9cc9fdc18dc1",
     "regions": {
      "fe5d9301-ebdf-412a-a1b4-dbab7d4681cd": {
       "attrs": {
        "height": 0.8,
        "width": 0.8,
        "x": 0.1,
        "y": 0.1
       },
       "content": {
        "cell": "ee941717-2077-4031-9437-9172d08f33fa",
        "part": "whole"
       },
       "id": "fe5d9301-ebdf-412a-a1b4-dbab7d4681cd"
      }
     }
    },
    "c39b53bf-b70b-459a-af86-025fef103138": {
     "id": "c39b53bf-b70b-459a-af86-025fef103138",
     "prev": "0c36a4d3-acdb-46a5-a003-aaecb2b44e65",
     "regions": {
      "7b60964b-fd45-4fde-8221-7d026fa723a0": {
       "attrs": {
        "height": 0.8,
        "width": 0.8,
        "x": 0.1,
        "y": 0.1
       },
       "content": {
        "cell": "0f1ca28d-743a-496a-ab40-f89f123a332e",
        "part": "whole"
       },
       "id": "7b60964b-fd45-4fde-8221-7d026fa723a0"
      }
     }
    },
    "c534d463-125d-404e-8720-7fabfb572c0c": {
     "id": "c534d463-125d-404e-8720-7fabfb572c0c",
     "prev": "f885fd26-3d13-4b9c-a7a8-82709d63828c",
     "regions": {
      "af8a7249-21d6-4cfe-9787-204cbbac5e88": {
       "attrs": {
        "height": 0.8,
        "width": 0.8,
        "x": 0.1,
        "y": 0.1
       },
       "content": {
        "cell": "21234893-451b-4860-9f40-fe4c752a0fc3",
        "part": "whole"
       },
       "id": "af8a7249-21d6-4cfe-9787-204cbbac5e88"
      }
     }
    },
    "c57934ea-2323-476a-a919-a1fec147aebd": {
     "id": "c57934ea-2323-476a-a919-a1fec147aebd",
     "prev": "3d68e02e-76bb-4b1a-8cc6-bde316ec007a",
     "regions": {
      "cb18f006-cdaf-456b-bc7f-60c01719dbde": {
       "attrs": {
        "height": 0.8,
        "width": 0.8,
        "x": 0.1,
        "y": 0.1
       },
       "content": {
        "cell": "b5eb85aa-7c31-4042-ac2a-fecd401560d9",
        "part": "whole"
       },
       "id": "cb18f006-cdaf-456b-bc7f-60c01719dbde"
      }
     }
    },
    "c5ad98bb-a7e1-4655-ab35-3c07f95cba2d": {
     "id": "c5ad98bb-a7e1-4655-ab35-3c07f95cba2d",
     "prev": "018adca0-6f5b-44f6-8c5a-a80734a359cb",
     "regions": {
      "99b1f899-476e-40c2-ab17-c7d1aab1ee70": {
       "attrs": {
        "height": 0.8,
        "width": 0.8,
        "x": 0.1,
        "y": 0.1
       },
       "content": {
        "cell": "16d1fb2d-cdf8-4be7-8ece-37998f641c97",
        "part": "whole"
       },
       "id": "99b1f899-476e-40c2-ab17-c7d1aab1ee70"
      }
     }
    },
    "c864542a-3660-4df8-a67d-1edf4e539d54": {
     "id": "c864542a-3660-4df8-a67d-1edf4e539d54",
     "prev": "73e43839-aab8-43bf-8188-6028e976db51",
     "regions": {
      "4298dd6e-4b13-4229-bd6b-5dae3e91b8dc": {
       "attrs": {
        "height": 0.8,
        "width": 0.8,
        "x": 0.1,
        "y": 0.1
       },
       "content": {
        "cell": "0917affd-3569-443c-8b5b-d302a8a20764",
        "part": "whole"
       },
       "id": "4298dd6e-4b13-4229-bd6b-5dae3e91b8dc"
      }
     }
    },
    "cc5477d1-296a-4eb6-aad6-9cc9fdc18dc1": {
     "id": "cc5477d1-296a-4eb6-aad6-9cc9fdc18dc1",
     "prev": "bbd76a64-daa4-4c27-a374-776da5c48419",
     "regions": {
      "df7a7315-cbaa-4689-8200-58db6ee3fa04": {
       "attrs": {
        "height": 0.8,
        "width": 0.8,
        "x": 0.1,
        "y": 0.1
       },
       "content": {
        "cell": "adf4fae8-461f-4d0d-ac73-5e5a4bd8b02d",
        "part": "whole"
       },
       "id": "df7a7315-cbaa-4689-8200-58db6ee3fa04"
      }
     }
    },
    "cd34d442-d377-428a-9ecc-06c71749cd3c": {
     "id": "cd34d442-d377-428a-9ecc-06c71749cd3c",
     "prev": "459a7d44-eecd-474b-b493-f780d5c0eb4d",
     "regions": {
      "6df4aa7b-c2e6-4ff0-bd9b-c890182833e3": {
       "attrs": {
        "height": 0.8,
        "width": 0.8,
        "x": 0.1,
        "y": 0.1
       },
       "content": {
        "cell": "a9d159c7-398b-46c9-b7fc-0cb84c9772a7",
        "part": "whole"
       },
       "id": "6df4aa7b-c2e6-4ff0-bd9b-c890182833e3"
      }
     }
    },
    "cff96311-40ce-4242-927b-6c6837412be6": {
     "id": "cff96311-40ce-4242-927b-6c6837412be6",
     "prev": "9384fc19-ae9e-4015-819c-8f7c0754a472",
     "regions": {
      "1ea09a52-3104-46c5-8644-e3b1a3b91d96": {
       "attrs": {
        "height": 0.8,
        "width": 0.8,
        "x": 0.1,
        "y": 0.1
       },
       "content": {
        "cell": "ce2f8747-bb6a-4045-80dd-4cd598b4c4e5",
        "part": "whole"
       },
       "id": "1ea09a52-3104-46c5-8644-e3b1a3b91d96"
      }
     }
    },
    "d673b5bd-e6e3-4241-8262-9f66a3e1bec7": {
     "id": "d673b5bd-e6e3-4241-8262-9f66a3e1bec7",
     "prev": "d909a918-ae74-4276-9d1b-c19034a86e62",
     "regions": {
      "d6c4c970-d1bf-4929-9205-e74403f32c56": {
       "attrs": {
        "height": 0.8,
        "width": 0.8,
        "x": 0.1,
        "y": 0.1
       },
       "content": {
        "cell": "e2af89e3-50e3-4286-8d40-6fa6b426c131",
        "part": "whole"
       },
       "id": "d6c4c970-d1bf-4929-9205-e74403f32c56"
      }
     }
    },
    "d909a918-ae74-4276-9d1b-c19034a86e62": {
     "id": "d909a918-ae74-4276-9d1b-c19034a86e62",
     "prev": "c39b53bf-b70b-459a-af86-025fef103138",
     "regions": {
      "80b03884-85d3-4972-94b7-e8f01b8444ff": {
       "attrs": {
        "height": 0.8,
        "width": 0.8,
        "x": 0.1,
        "y": 0.1
       },
       "content": {
        "cell": "272f2c1e-d16e-45ab-a5f9-d2038b5b994a",
        "part": "whole"
       },
       "id": "80b03884-85d3-4972-94b7-e8f01b8444ff"
      }
     }
    },
    "ddec3be1-1ee5-4e59-8f16-94db794bbf32": {
     "id": "ddec3be1-1ee5-4e59-8f16-94db794bbf32",
     "prev": "bdeccfac-de62-4085-8191-d726eb8ef6b5",
     "regions": {
      "28c06a44-586b-4a97-b2cf-d4645dedb160": {
       "attrs": {
        "height": 0.8,
        "width": 0.8,
        "x": 0.1,
        "y": 0.1
       },
       "content": {
        "cell": "882cd67b-6bb6-4847-87f5-29aad451ee5d",
        "part": "whole"
       },
       "id": "28c06a44-586b-4a97-b2cf-d4645dedb160"
      }
     }
    },
    "de1607ab-7e06-49ec-93da-9c96b58b48b4": {
     "id": "de1607ab-7e06-49ec-93da-9c96b58b48b4",
     "prev": "8a122701-523f-4edd-b9ec-90c37cab3c9c",
     "regions": {
      "e99376e9-8309-48e1-85db-9ca4281092f9": {
       "attrs": {
        "height": 0.8,
        "width": 0.8,
        "x": 0.1,
        "y": 0.1
       },
       "content": {
        "cell": "83e690d8-1f07-44c0-802e-810a700fab05",
        "part": "whole"
       },
       "id": "e99376e9-8309-48e1-85db-9ca4281092f9"
      }
     }
    },
    "e2b34a97-ecf2-452f-8b3c-8f0a632d3679": {
     "id": "e2b34a97-ecf2-452f-8b3c-8f0a632d3679",
     "prev": null,
     "regions": {
      "6f39cac1-119d-40b8-b4dd-591fbfa43a23": {
       "attrs": {
        "height": 0.8,
        "width": 0.8,
        "x": 0.1,
        "y": 0.1
       },
       "content": {
        "cell": "458955dd-4b7a-42e0-a81e-3bfda063205d",
        "part": "whole"
       },
       "id": "6f39cac1-119d-40b8-b4dd-591fbfa43a23"
      }
     }
    },
    "e76a651d-4aea-4d2d-acc9-dd8dd24a7487": {
     "id": "e76a651d-4aea-4d2d-acc9-dd8dd24a7487",
     "prev": "259ceb15-070c-4242-b35b-475aaa8094db",
     "regions": {
      "acae2a01-dbe1-49e7-be86-45104cf33126": {
       "attrs": {
        "height": 0.8,
        "width": 0.8,
        "x": 0.1,
        "y": 0.1
       },
       "content": {
        "cell": "84c5d1f8-35e4-414a-b682-f103c5c60fa8",
        "part": "whole"
       },
       "id": "acae2a01-dbe1-49e7-be86-45104cf33126"
      }
     }
    },
    "ec21535d-dbed-43f0-a79a-ddfc90f34c1f": {
     "id": "ec21535d-dbed-43f0-a79a-ddfc90f34c1f",
     "prev": "9ccbf50f-4ee4-4b62-8d2c-5af86209627c",
     "regions": {
      "59acdd69-987a-4a07-81bc-2ab095824c9b": {
       "attrs": {
        "height": 0.8,
        "width": 0.8,
        "x": 0.1,
        "y": 0.1
       },
       "content": {
        "cell": "f9eb0aae-3db6-469d-8118-73a3037fe92d",
        "part": "whole"
       },
       "id": "59acdd69-987a-4a07-81bc-2ab095824c9b"
      }
     }
    },
    "ecec15c6-5363-4c47-8e9c-b209388b3905": {
     "id": "ecec15c6-5363-4c47-8e9c-b209388b3905",
     "prev": "c864542a-3660-4df8-a67d-1edf4e539d54",
     "regions": {
      "5d82ee64-803f-467b-84aa-21a621432fcc": {
       "attrs": {
        "height": 0.8,
        "width": 0.8,
        "x": 0.1,
        "y": 0.1
       },
       "content": {
        "cell": "3247ac23-2d60-4212-8f38-e7dffdab81ac",
        "part": "whole"
       },
       "id": "5d82ee64-803f-467b-84aa-21a621432fcc"
      }
     }
    },
    "ef780983-ee1c-4356-b5df-80e0ea3a7432": {
     "id": "ef780983-ee1c-4356-b5df-80e0ea3a7432",
     "prev": "de1607ab-7e06-49ec-93da-9c96b58b48b4",
     "regions": {
      "753bb111-6388-4a68-b3fa-52a7bb169a00": {
       "attrs": {
        "height": 0.8,
        "width": 0.8,
        "x": 0.1,
        "y": 0.1
       },
       "content": {
        "cell": "f521d426-e19d-4e56-b326-bd2681652ec1",
        "part": "whole"
       },
       "id": "753bb111-6388-4a68-b3fa-52a7bb169a00"
      }
     }
    },
    "f03c101f-ddd5-4bc4-b088-66f8e374fa08": {
     "id": "f03c101f-ddd5-4bc4-b088-66f8e374fa08",
     "prev": "8bd73937-bdef-4af2-a9a1-cdf0479441a3",
     "regions": {
      "c1ef9851-7443-4f68-a405-6be3c1dc97cb": {
       "attrs": {
        "height": 0.8,
        "width": 0.8,
        "x": 0.1,
        "y": 0.1
       },
       "content": {
        "cell": "d25d2c62-7452-46ec-8801-56fa2f809f24",
        "part": "whole"
       },
       "id": "c1ef9851-7443-4f68-a405-6be3c1dc97cb"
      }
     }
    },
    "f5c1a417-4ed8-45ff-8d17-01f50f0aab11": {
     "id": "f5c1a417-4ed8-45ff-8d17-01f50f0aab11",
     "prev": "4ec99677-bc96-428c-8687-871699cac003",
     "regions": {
      "1c379137-f0ca-45d9-9a7c-47d3de4d9928": {
       "attrs": {
        "height": 0.8,
        "width": 0.8,
        "x": 0.1,
        "y": 0.1
       },
       "content": {
        "cell": "21af36af-4d2d-42a5-a658-275b31203727",
        "part": "whole"
       },
       "id": "1c379137-f0ca-45d9-9a7c-47d3de4d9928"
      }
     }
    },
    "f6f26bf2-4e90-44a4-aa2c-d625ae8afdd0": {
     "id": "f6f26bf2-4e90-44a4-aa2c-d625ae8afdd0",
     "prev": "f5c1a417-4ed8-45ff-8d17-01f50f0aab11",
     "regions": {
      "a2b08100-af56-46f7-9dd4-6f863e10d2f6": {
       "attrs": {
        "height": 0.8,
        "width": 0.8,
        "x": 0.1,
        "y": 0.1
       },
       "content": {
        "cell": "1340e68e-8485-4eed-90e8-c0b839a6cfb3",
        "part": "whole"
       },
       "id": "a2b08100-af56-46f7-9dd4-6f863e10d2f6"
      }
     }
    },
    "f885fd26-3d13-4b9c-a7a8-82709d63828c": {
     "id": "f885fd26-3d13-4b9c-a7a8-82709d63828c",
     "prev": "3d66a8da-a16f-43b4-80f1-66d703d1aff9",
     "regions": {
      "1b6f71aa-da8c-4f8a-9139-969fc2517f78": {
       "attrs": {
        "height": 0.8,
        "width": 0.8,
        "x": 0.1,
        "y": 0.1
       },
       "content": {
        "cell": "6a3d2c3f-4ad7-4726-bae1-9a73d352b6ae",
        "part": "whole"
       },
       "id": "1b6f71aa-da8c-4f8a-9139-969fc2517f78"
      }
     }
    }
   },
   "themes": {
    "default": "cb7e9bda-a09d-4a28-99eb-1f36cf158f23",
    "theme": {
     "316d550c-4e7f-4ce5-96dc-daa6b6828f96": {
      "backgrounds": {
       "backgroundColor": {
        "background-color": "backgroundColor",
        "id": "backgroundColor"
       }
      },
      "id": "316d550c-4e7f-4ce5-96dc-daa6b6828f96",
      "palette": {
       "backgroundColor": {
        "id": "backgroundColor",
        "rgb": [
         34,
         34,
         34
        ]
       },
       "headingColor": {
        "id": "headingColor",
        "rgb": [
         256,
         256,
         256
        ]
       },
       "linkColor": {
        "id": "linkColor",
        "rgb": [
         66,
         175,
         250
        ]
       },
       "mainColor": {
        "id": "mainColor",
        "rgb": [
         256,
         256,
         256
        ]
       }
      },
      "rules": {
       "a": {
        "color": "linkColor"
       },
       "h1": {
        "color": "headingColor",
        "font-family": "Source Sans Pro",
        "font-size": 5.25
       },
       "h2": {
        "color": "headingColor",
        "font-family": "Source Sans Pro",
        "font-size": 4
       },
       "h3": {
        "color": "headingColor",
        "font-family": "Source Sans Pro",
        "font-size": 3.5
       },
       "h4": {
        "color": "headingColor",
        "font-family": "Source Sans Pro",
        "font-size": 3
       },
       "h5": {
        "color": "headingColor",
        "font-family": "Source Sans Pro"
       },
       "h6": {
        "color": "headingColor",
        "font-family": "Source Sans Pro"
       },
       "h7": {
        "color": "headingColor",
        "font-family": "Source Sans Pro"
       },
       "li": {
        "color": "mainColor",
        "font-family": "Source Sans Pro",
        "font-size": 6
       },
       "p": {
        "color": "mainColor",
        "font-family": "Source Sans Pro",
        "font-size": 6
       }
      },
      "text-base": {
       "color": "mainColor",
       "font-family": "Source Sans Pro",
       "font-size": 6
      }
     },
     "cb7e9bda-a09d-4a28-99eb-1f36cf158f23": {
      "backgrounds": {
       "backgroundColor": {
        "background-color": "backgroundColor",
        "id": "backgroundColor"
       }
      },
      "id": "cb7e9bda-a09d-4a28-99eb-1f36cf158f23",
      "palette": {
       "backgroundColor": {
        "id": "backgroundColor",
        "rgb": [
         256,
         256,
         256
        ]
       },
       "headingColor": {
        "id": "headingColor",
        "rgb": [
         0,
         0,
         0
        ]
       },
       "linkColor": {
        "id": "linkColor",
        "rgb": [
         0,
         0,
         139
        ]
       },
       "mainColor": {
        "id": "mainColor",
        "rgb": [
         0,
         0,
         0
        ]
       }
      },
      "rules": {
       "a": {
        "color": "linkColor"
       },
       "h1": {
        "color": "headingColor",
        "font-family": "News Cycle",
        "font-size": 7
       },
       "h2": {
        "color": "headingColor",
        "font-family": "News Cycle",
        "font-size": 5
       },
       "h3": {
        "color": "headingColor",
        "font-family": "News Cycle",
        "font-size": 3.75
       },
       "h4": {
        "color": "headingColor",
        "font-family": "News Cycle",
        "font-size": 3
       },
       "h5": {
        "color": "headingColor",
        "font-family": "News Cycle"
       },
       "h6": {
        "color": "headingColor",
        "font-family": "News Cycle"
       },
       "h7": {
        "color": "headingColor",
        "font-family": "News Cycle"
       },
       "li": {
        "color": "mainColor",
        "font-family": "Lato",
        "font-size": 5
       },
       "p": {
        "color": "mainColor",
        "font-family": "Lato",
        "font-size": 5
       }
      },
      "text-base": {
       "color": "mainColor",
       "font-family": "Lato",
       "font-size": 5
      }
     }
    }
   }
  }
 },
 "nbformat": 4,
 "nbformat_minor": 2
}
